{
 "cells": [
  {
   "cell_type": "markdown",
   "id": "ready-framing",
   "metadata": {},
   "source": [
    "<header>\n",
    "   <p  style='font-size:36px;font-family:Arial; color:#F0F0F0; background-color: #00233c; padding-left: 20pt; padding-top: 20pt;padding-bottom: 10pt; padding-right: 20pt;'>\n",
    "       Flexible, Scalable Storage and Analytics with VantageCloud Lake\n",
    "  <br>\n",
    "       <img id=\"teradata-logo\" src=\"images/TeradataLogo.png\" alt=\"Teradata\" style=\"width: 125px; height: auto; margin-top: 20pt;\">\n",
    "    </p>\n",
    "</header>\n",
    "\n",
    "<br>\n",
    "\n",
    "<p style = 'font-size:16px;font-family:Arial;color:#00233C'>Teradata's VantageCloud Lake Edition is the only enterprise-class analytics platform that enables powerful, open, and flexible analytics against data in any location; Data Lakes, third-party systems, and traditional EDW.</p>\n",
    "\n",
    "<hr>\n",
    "\n",
    "<b style = 'font-size:28px;font-family:Arial;color:#00233C'>Environment Overview</b>\n",
    "\n",
    "<p style = 'font-size:16px;font-family:Arial;color:#00233C'>This demonstration will illustrate how users can can use Vantage to access data from a variety of external sources, choose from multiple physical and virtual storage tiers, and then derive valuable analytic and business insights at extreme scale with minimal cost.</p>\n",
    "\n",
    "<p style = 'font-size:16px;font-family:Arial;color:#00233C'>Data Architects and Engineers have a choice of a broad data locality and storage types that can help optimize the balance between cost, accessibility, and analytic performance.  These storage types include:</p>\n",
    "\n",
    "<table style = 'width:100%;table-layout:fixed;'>\n",
    "    <tr>\n",
    "        <td style = 'vertical-align:top;font-size:16px;font-family:Arial;color:#00233C' width = '40%'>\n",
    "            <ol style = 'font-size:16px;font-family:Arial;color:#00233C'>\n",
    "                <li>Direct-attached block storage for high-speed, tactical workloads.  Most common for smaller, dimensional tables, or tables that support tactical, near-real-time query patterns.</li>\n",
    "                <br>\n",
    "                <li>An object-storage-based filesystem named the Vantage Object Filesystem (OFS) which features:\n",
    "                    <ul style = 'font-size:16px;font-family:Arial;color:#00233C'>\n",
    "                        <li>Massively scalable low-cost storage</li>\n",
    "                        <li>Data sharing across multiple processing clusters</li>\n",
    "                <li>Full ACID compliance and optimized for performance including caching, optimized spool, indexed metadata</li>\n",
    "                    </ul>\n",
    "                </li>\n",
    "                <br>\n",
    "                <li>Open Object Storage; which can include Data Lakes (including formats such as Delta), IIOT data, Data Marketplaces, and many other third-party ETL and data streaming systems.</li>\n",
    "            </ol>\n",
    "        </td>\n",
    "        <td><img src = 'images/Lake_Architecture.png' width = '800'></td>\n",
    "    </tr>\n",
    "</table>\n",
    "\n",
    "<b style = 'font-size:28px;font-family:Arial;color:#00233C'>Demonstration Overview</b>\n",
    "\n",
    "<p style = 'font-size:16px;font-family:Arial;color:#00233C'>This notebook consists of three primary demonstrations designed to briefly review these storage types and how they can be mixed transparently for analytical processing.  </p>\n",
    "<ol style = 'font-size:16px;font-family:Arial;color:#00233C'>\n",
    "    <li><b>Demo 1 - The Object Filesystem (OFS)</b>. Show how users can load data, execute queries, as well as how leverage Time Travel capabilities</li>\n",
    "    <li><b>Demo 2 - Open Object Storage</b> - Data Discovery and analytics against data in S3, and an illustration of how to simplify access for users</li>\n",
    "    <li><b>Demo 3 - Analytics</b> - Combine data across storage tiers and apply powerful, scalable ClearScape Analytics Functions</li>\n",
    "    </ol>\n"
   ]
  },
  {
   "cell_type": "markdown",
   "id": "dimensional-setting",
   "metadata": {},
   "source": [
    "<hr>\n",
    "\n",
    "<b style = 'font-size:18px;font-family:Arial;color:#00233C'>Connect to Vantage</b>\n",
    "\n",
    "<p style = 'font-size:16px;font-family:Arial;color:#00233C'>This notebook uses the Vantage Plugin for Jupyter; a Jupyter Lab Extension that provides native SQL processing, administrative magic functions, and visualiztion capabilities.  In order to conntect to our Vantage system, the user needs to create a connection - this connection is stored in the user's profile and doesn't need to be recreated each time.</p> "
   ]
  },
  {
   "cell_type": "code",
   "execution_count": null,
   "id": "manufactured-pickup",
   "metadata": {
    "tags": []
   },
   "outputs": [],
   "source": [
    "%addconnect name=lake_demo, host=XXX.XXX.XXX.XXX"
   ]
  },
  {
   "cell_type": "code",
   "execution_count": 4,
   "id": "innocent-given",
   "metadata": {},
   "outputs": [
    {
     "name": "stdout",
     "output_type": "stream",
     "text": [
      "Success: 'lake_demo' connection modified. Disconnect and re-connect for the modified values to take effect. \n"
     ]
    }
   ],
   "source": [
    "%chconnect name=lake_demo, host=44.232.94.89"
   ]
  },
  {
   "cell_type": "code",
   "execution_count": 5,
   "id": "together-minnesota",
   "metadata": {},
   "outputs": [
    {
     "name": "stdout",
     "output_type": "stream",
     "text": [
      "Success: 'lake_demo' disconnected"
     ]
    }
   ],
   "source": [
    "%disconnect name=lake_demo"
   ]
  },
  {
   "cell_type": "code",
   "execution_count": 6,
   "id": "underlying-nowhere",
   "metadata": {},
   "outputs": [
    {
     "name": "stdin",
     "output_type": "stream",
     "text": [
      "Password: ········\n"
     ]
    },
    {
     "name": "stdout",
     "output_type": "stream",
     "text": [
      "Success: 'lake_demo' connection established and activated for user 'data_engineer'\n"
     ]
    }
   ],
   "source": [
    "%connect lake_demo, user=data_engineer, hidewarnings=True"
   ]
  },
  {
   "cell_type": "markdown",
   "id": "together-settle",
   "metadata": {},
   "source": [
    "<hr>\n",
    "<p style = 'font-size:28px;font-family:Arial;color:#00233C'><b>Demonstration 1 - Vantage Object FileSystem (OFS)</b></p>\n",
    "\n",
    "<table style = 'width:100%;table-layout:fixed;'>\n",
    "    <tr>\n",
    "        <td style = 'vertical-align:top' width = '40%'>\n",
    "            <ul style = 'font-size:16px;font-family:Arial;color:#00233C'>\n",
    "                <li>Immutable storage, objects are versioned to guarantee consistency</li>\n",
    "                <br>\n",
    "                <li>The Object File System (OFS) index is represented by a tree structure with a single root with multiple leaf nodes:\n",
    "                    <br>\n",
    "                    <ul><br>\n",
    "                        <li>One internal index structure is created for each OFS table</li>\n",
    "                    <br>\n",
    "                        <li>Internal indexes provide efficiency in multiple ways:<ul>\n",
    "                            <li>Filtering out selected rows</li>\n",
    "                            <li>Pre-positioning index entries across AMPs</li>\n",
    "                            <li>Join column redistributions</li>\n",
    "                            </ul></li>\n",
    "                        <br>\n",
    "                        <li>Set of statistics values for up to 64 columns carried in the root (for each leaf) and the leaf objects (for each data object)</li>\n",
    "                    <br>\n",
    "                <li>Each Root and Leaf node are in their own object, separate from the data objects</li>\n",
    "                        <br>\n",
    "                <li>With Columnar format, each Data Object contains one Row Group broken into Pages within Column Chunks</li></ul></li>\n",
    "            </ul>\n",
    "        </td>\n",
    "        <td><img src = 'images/OFS_Columnar.png' width = '600'></td>\n",
    "    </tr>\n",
    "</table>"
   ]
  },
  {
   "cell_type": "markdown",
   "id": "through-array",
   "metadata": {},
   "source": [
    "<hr>\n",
    "\n",
    "<b style = 'font-size:18px;font-family:Arial;color:#00233C'>Create the OFS Table</b>\n",
    "\n",
    "<p style = 'font-size:16px;font-family:Arial;color:#00233C'>For purposes of demonstration, the user will DROP the table prior to loading so as to show how a new table can be created.</p> \n",
    "\n",
    "<p style = 'font-size:16px;font-family:Arial;color:#00233C'>Tables can be defined as generally normally done with any RDBMS.  However, in this case we will show some specifics that are unique to Vantage.</p>\n",
    "<ul style = 'font-size:16px;font-family:Arial;color:#00233C'><li><b>First</b>, the \"STORAGE\" clause is set to indicate the data will be stored in the OFS framework.</li>\n",
    "    <li><b>Second</b>, the SELECT that is used to populate the table consists of a specific query type designed to read data directly from an Object Store.</li> </ul>\n",
    "    \n",
    "<p style = 'font-size:16px;font-family:Arial;color:#00233C'>Finally, the table can be queried as any normal relational table.</p>"
   ]
  },
  {
   "cell_type": "code",
   "execution_count": 7,
   "id": "existing-panic",
   "metadata": {},
   "outputs": [
    {
     "data": {
      "text/plain": [
       "Success: 30 rows affected"
      ]
     },
     "execution_count": 7,
     "metadata": {
      "application/vnd.teradata.resultset": ""
     },
     "output_type": "execute_result"
    }
   ],
   "source": [
    "DROP TABLE demo.Txn_History_OFS"
   ]
  },
  {
   "cell_type": "code",
   "execution_count": 8,
   "id": "upper-ladder",
   "metadata": {},
   "outputs": [
    {
     "data": {
      "text/plain": [
       "Success: 0 rows affected"
      ]
     },
     "execution_count": 8,
     "metadata": {
      "application/vnd.teradata.resultset": ""
     },
     "output_type": "execute_result"
    }
   ],
   "source": [
    "/* Load the data into OFS directly from S3\n",
    "*/\n",
    "\n",
    "--EXPLAIN\n",
    "CREATE TABLE demo.Txn_History_OFS,\n",
    "\n",
    "    /*Note the use of STORAGE here to specify OFS\n",
    "    This can also be set to a user and database default */\n",
    "    \n",
    "    STORAGE=TD_OFSSTORAGE\n",
    "    \n",
    "    /* We can use a SELECT statement to populate the table\n",
    "    using WITH DATA */\n",
    "    AS (\n",
    "\n",
    "        /*Provide json path information to identify the proper fields */\n",
    "        SELECT Payload.txn_id txn_id,\n",
    "            Payload.step step,\n",
    "            Payload.\"type\" \"txn_type\",\n",
    "            CAST(Payload.amount AS FLOAT) amount,\n",
    "            Payload.nameOrig nameOrig,\n",
    "            CAST(Payload.oldbalanceOrig AS FLOAT) oldbalanceOrig,\n",
    "            CAST(Payload.newbalanceOrig AS FLOAT) newbalanceOrig,\n",
    "            Payload.nameDest nameDest,\n",
    "            CAST(Payload.oldbalanceDest AS FLOAT) oldbalanceDest,\n",
    "            CAST(Payload.newbalanceDest AS FLOAT) newbalanceDest,\n",
    "            CAST(Payload.isFraud AS INTEGER) isFraud,\n",
    "            CAST(Payload.isFlaggedFraud AS INTEGER) isFlaggedFraud\n",
    "\n",
    "        FROM (\n",
    "            LOCATION = '/s3/s3.amazonaws.com/trial-datasets/FraudReduction/'\n",
    "            AUTHORIZATION = Repositories.PubAuth\n",
    ") AS D\n",
    ") WITH DATA;"
   ]
  },
  {
   "cell_type": "code",
   "execution_count": 9,
   "id": "superb-characterization",
   "metadata": {},
   "outputs": [
    {
     "data": {
      "application/vnd.teradata.resultset": "\"txn_type\",\"isFraud\",\"fraud_txns\"\n\"CASH_IN\",\"13142\",\"0\"\n\"PAYMENT\",\"20468\",\"0\"\n\"DEBIT\",\"387\",\"0\"\n\"TRANSFER\",\"5045\",\"40\"\n\"CASH_OUT\",\"20958\",\"36\"",
      "text/html": [
       "<div class = \"td-resultset-table-div\" style = \"max-height: 100%; overflow-y: auto\">\n",
       "      <table class=\"tdhistory686852\"><style>\n",
       "      table.tdhistory686852 { display: block !important; min-height: 189px !important; overflow: auto !important; height: 189px !important; width: 100% !important; border: 1px solid rgb(207, 207, 207) !important; border-collapse: collapse !important; ; color: var(--jp-ui-font-color1) !important; }\n",
       "      th.tdhistory686852 { border: 1px solid rgb(198,198,198) !important; border-collapse: collapse !important; ; padding: 2px 5px !important; ; font-size: 13px !important; ; text-align: center !important; white-space: normal !important; color: var(--jp-ui-font-color1) !important; }\n",
       "      th.tdhistory686852:last-child { text-align: left !important; }\n",
       "      tbody.tdhistory686852 tr:nth-child(even) { background: rgba(243, 243, 243, 0.75) !important; }\n",
       "      tbody.tdhistory686852 tr:nth-child(odd) { background: var(--jp-ui-inverse-font-color1) !important; }\n",
       "      td.tdhistory686852 { border: 1px solid rgb(207, 207, 207) !important; border-collapse: collapse !important; ; padding: 2px 5px !important; ; font-size: 13px !important; ; text-align: left !important;          white-space: nowrap !important; overflow:hidden !important; text-overflow:ellipsis !important;; }\n",
       "    </style><thead><tr style= \"background: rgba(243, 243, 243, 0.75)\"><th class=\"tdhistory686852\"></th><th class=\"tdhistory686852\">txn_type</th><th class=\"tdhistory686852\">isFraud</th><th class=\"tdhistory686852\">fraud_txns</th></tr></thead><tbody class=\"tdhistory686852 resultset-body\"><tr><th class=\"tdhistory686852\" style= \"background: rgba(243, 243, 243, 0.75)\">1</th><td class=\"tdhistory686852\">CASH_IN</td><td class=\"tdhistory686852\">13142</td><td class=\"tdhistory686852\">0</td></tr><tr><th class=\"tdhistory686852\" style= \"background: rgba(243, 243, 243, 0.75)\">2</th><td class=\"tdhistory686852\">PAYMENT</td><td class=\"tdhistory686852\">20468</td><td class=\"tdhistory686852\">0</td></tr><tr><th class=\"tdhistory686852\" style= \"background: rgba(243, 243, 243, 0.75)\">3</th><td class=\"tdhistory686852\">DEBIT</td><td class=\"tdhistory686852\">387</td><td class=\"tdhistory686852\">0</td></tr><tr><th class=\"tdhistory686852\" style= \"background: rgba(243, 243, 243, 0.75)\">4</th><td class=\"tdhistory686852\">TRANSFER</td><td class=\"tdhistory686852\">5045</td><td class=\"tdhistory686852\">40</td></tr><tr><th class=\"tdhistory686852\" style= \"background: rgba(243, 243, 243, 0.75)\">5</th><td class=\"tdhistory686852\">CASH_OUT</td><td class=\"tdhistory686852\">20958</td><td class=\"tdhistory686852\">36</td></tr></tbody></table></div>"
      ]
     },
     "execution_count": 9,
     "metadata": {
      "application/vnd.teradata.resultset": "{\"resultSetID\":\"/home/jovyan/JupyterLabRoot/Teradata/Resultsets/2024.08.26_11.50.19.713_UTC\",\"historyID\":11323,\"chunkID\":\"00001\",\"sessionid\":\"\",\"portnum\":\"\",\"dockermode\":\"docker\",\"totalRowCount\":5,\"chunkCount\":0,\"rowLimit\":0,\"columnMetadata\":[{\"columnName\":\"txn_type\",\"columnTypeName\":\"VARCHAR\",\"length\":4096,\"scale\":4096},{\"columnNumber\":1,\"columnName\":\"isFraud\",\"columnTypeName\":\"INTEGER\"},{\"columnNumber\":2,\"columnName\":\"fraud_txns\",\"columnTypeName\":\"INTEGER\"}]}"
     },
     "output_type": "execute_result"
    }
   ],
   "source": [
    "/* Run a basic query against the data \n",
    "Note we can use AS OF syntax to select a specific version\n",
    "Visualize results */\n",
    "\n",
    "SELECT txn_type, COUNT(isFraud), SUM(isFraud) fraud_txns\n",
    "FROM demo.Txn_History_OFS \n",
    "\n",
    "GROUP BY 1;"
   ]
  },
  {
   "cell_type": "code",
   "execution_count": 10,
   "id": "built-married",
   "metadata": {},
   "outputs": [
    {
     "data": {
      "application/vnd.vegalite.v3+json": {
       "$schema": "https://vega.github.io/schema/vega-lite/v3.json",
       "data": {
        "format": {
         "type": "csv"
        },
        "values": "\"txn_type\",\"isFraud\",\"fraud_txns\"\n\"CASH_IN\",\"13142\",\"0\"\n\"PAYMENT\",\"20468\",\"0\"\n\"DEBIT\",\"387\",\"0\"\n\"TRANSFER\",\"5045\",\"40\"\n\"CASH_OUT\",\"20958\",\"36\"\n"
       },
       "encoding": {
        "x": {
         "axis": {
          "grid": true,
          "title": "txn_type"
         },
         "field": "txn_type",
         "type": "nominal"
        },
        "y": {
         "axis": {
          "grid": true,
          "title": "fraud_txns"
         },
         "field": "fraud_txns",
         "type": "quantitative"
        }
       },
       "mark": {
        "color": "#4C78A8",
        "type": "bar"
       },
       "title": "Count of Fraudulent Transactions"
      },
      "image/png": "[encoded data removed]"
     },
     "execution_count": 10,
     "metadata": {
      "application/vnd.teradata.resultset": ""
     },
     "output_type": "execute_result"
    }
   ],
   "source": [
    "%chart x=txn_type, y=fraud_txns, title=\"Count of Fraudulent Transactions\""
   ]
  },
  {
   "cell_type": "markdown",
   "id": "initial-clearance",
   "metadata": {},
   "source": [
    "<hr>\n",
    "<p style = 'font-size:28px;font-family:Arial;color:#00233C'><b>Time Travel with OFS</b></p>\n",
    "\n",
    "<table style = 'width:100%;table-layout:fixed;'>\n",
    "    <tr>\n",
    "        <td style = 'vertical-align:top' width = '40%'>\n",
    "            <ul style = 'font-size:16px;font-family:Arial;color:#00233C'><b>Benefits of Time Travel</b>\n",
    "                <br>\n",
    "                <br>\n",
    "                <li>Querying the database based on how the data looked at some point in the past</li>\n",
    "                <br>\n",
    "                <li>If there were problems with a data load, users can go back to a point in time where the data is clean/consistent</li>\n",
    "                 <br>\n",
    "                 <li>Analytics can be re-run it keeping the inputs the same for one or more tables at any point in time</li>\n",
    "                <br>\n",
    "            </ul>\n",
    "            <ul style = 'font-size:16px;font-family:Arial;color:#00233C'><b>Features</b>\n",
    "                <br>\n",
    "                <br>\n",
    "                <li>supported through SELECT AS OF syntax</li>\n",
    "                <br>\n",
    "                <li>Versions come with a system default retention period</li>\n",
    "                <br>\n",
    "                <li>Versioning allows readers to not be blocked by writers, and vice versa</li>\n",
    "                <br>\n",
    "                <li>A transactionally consistent read is always provided by using the last committed version</li>\n",
    "            </ul>               \n",
    "                </td>\n",
    "        <td><img src = 'images/Time_Travel.png' width = '400'></td>\n",
    "    </tr>\n",
    "</table>"
   ]
  },
  {
   "cell_type": "markdown",
   "id": "known-checkout",
   "metadata": {},
   "source": [
    "<hr>\n",
    "\n",
    "<b style = 'font-size:18px;font-family:Arial;color:#00233C'>Time Travel Demonstration</b>\n",
    "\n",
    "<p style = 'font-size:16px;font-family:Arial;color:#00233C'>As discussed above, OFS tables have a defined retention period over which versions are stored.  This can be viewed by executing a SHOW STORAGE ACCESS statement to see the internal bucket information, including retention period.</p> \n",
    "\n",
    "<p style = 'font-size:16px;font-family:Arial;color:#00233C'>Next, some additional data will be inserted into the table.  Executing a query gainst the VersionInfo view can show the version history</p>\n",
    "    \n",
    "<p style = 'font-size:16px;font-family:Arial;color:#00233C'>Finally, the table can be queried using AS OF syntax to illustrate simple row counts before and after changes</p>"
   ]
  },
  {
   "cell_type": "code",
   "execution_count": 11,
   "id": "resistant-approach",
   "metadata": {},
   "outputs": [
    {
     "data": {
      "application/vnd.teradata.resultset": "\"Request Text\"\n\"CREATE STORAGE ACCESS OFS TD_OFSSTORAGE ,\rAUTHORIZATION TD_OFSDB.OFSAUTH \rUSING (\r      LOCATION  ('/s3/s3.amazonaws.com/pod-tenant-tceee0ac-acc-eee0ac58c1-nosfs/')\r      MANAGED  ('true')\r      RETENTIONDAYS  ('30')\r);\"",
      "text/html": [
       "<div class = \"td-resultset-table-div\" style = \"max-height: 100%; overflow-y: auto\">\n",
       "      <table class=\"tdhistory195096\"><style>\n",
       "      table.tdhistory195096 { display: block !important; min-height: 105px !important; overflow: auto !important; height: 105px !important; width: 100% !important; border: 1px solid rgb(207, 207, 207) !important; border-collapse: collapse !important; ; color: var(--jp-ui-font-color1) !important; }\n",
       "      th.tdhistory195096 { border: 1px solid rgb(198,198,198) !important; border-collapse: collapse !important; ; padding: 2px 5px !important; ; font-size: 13px !important; ; text-align: center !important; white-space: normal !important; color: var(--jp-ui-font-color1) !important; }\n",
       "      th.tdhistory195096:last-child { text-align: left !important; }\n",
       "      tbody.tdhistory195096 tr:nth-child(even) { background: rgba(243, 243, 243, 0.75) !important; }\n",
       "      tbody.tdhistory195096 tr:nth-child(odd) { background: var(--jp-ui-inverse-font-color1) !important; }\n",
       "      td.tdhistory195096 { border: 1px solid rgb(207, 207, 207) !important; border-collapse: collapse !important; ; padding: 2px 5px !important; ; font-size: 13px !important; ; text-align: left !important;          white-space: nowrap !important; overflow:hidden !important; text-overflow:ellipsis !important;; }\n",
       "    </style><thead><tr style= \"background: rgba(243, 243, 243, 0.75)\"><th class=\"tdhistory195096\"></th><th class=\"tdhistory195096\">Request Text</th></tr></thead><tbody class=\"tdhistory195096 resultset-body\"><tr><th class=\"tdhistory195096\" style= \"background: rgba(243, 243, 243, 0.75)\">1</th><td class=\"tdhistory195096\">CREATE STORAGE ACCESS OFS TD_OFSSTORAGE ,\r",
       "AUTHORIZATION TD_OFSDB.OFSAUTH \r",
       "USING (\r",
       "      LOCATION  ('/s3/s3.amazonaws.com/pod-tenant-tceee0ac-acc-eee0ac58c1-nosfs/')\r",
       "      MANAGED  ('true')\r",
       "      RETENTIONDAYS  ('30')\r",
       ");</td></tr></tbody></table></div>"
      ]
     },
     "execution_count": 11,
     "metadata": {
      "application/vnd.teradata.resultset": "{\"resultSetID\":\"/home/jovyan/JupyterLabRoot/Teradata/Resultsets/2024.08.26_11.52.27.855_UTC\",\"historyID\":11324,\"chunkID\":\"00001\",\"sessionid\":\"\",\"portnum\":\"\",\"dockermode\":\"docker\",\"totalRowCount\":1,\"chunkCount\":0,\"rowLimit\":0,\"columnMetadata\":[{\"columnName\":\"Request Text\",\"columnTypeName\":\"VARCHAR\",\"length\":219,\"scale\":219}]}"
     },
     "output_type": "execute_result"
    }
   ],
   "source": [
    "--Show the internal S3 bucket and retention (time travel) policy\n",
    "SHOW STORAGE ACCESS TD_OFSSTORAGE;"
   ]
  },
  {
   "cell_type": "code",
   "execution_count": 12,
   "id": "creative-browser",
   "metadata": {},
   "outputs": [
    {
     "data": {
      "text/plain": [
       "Success: 10000 rows affected"
      ]
     },
     "execution_count": 12,
     "metadata": {
      "application/vnd.teradata.resultset": ""
     },
     "output_type": "execute_result"
    }
   ],
   "source": [
    "/* Insert some additional rows into our OFS Table */\n",
    "INSERT INTO demo.Txn_History_OFS\n",
    "\n",
    "        /*Provide json path information to identify the proper fields */\n",
    "        SELECT TOP 10000 Payload.txn_id txn_id,\n",
    "            Payload.step step,\n",
    "            Payload.\"type\" \"txn_type\",\n",
    "            CAST(Payload.amount AS FLOAT) amount,\n",
    "            Payload.nameOrig nameOrig,\n",
    "            CAST(Payload.oldbalanceOrig AS FLOAT) oldbalanceOrig,\n",
    "            CAST(Payload.newbalanceOrig AS FLOAT) newbalanceOrig,\n",
    "            Payload.nameDest nameDest,\n",
    "            CAST(Payload.oldbalanceDest AS FLOAT) oldbalanceDest,\n",
    "            CAST(Payload.newbalanceDest AS FLOAT) newbalanceDest,\n",
    "            CAST(Payload.isFraud AS INTEGER) isFraud,\n",
    "            CAST(Payload.isFlaggedFraud AS INTEGER) isFlaggedFraud\n",
    "\n",
    "        FROM (\n",
    "            LOCATION = '/s3/s3.amazonaws.com/trial-datasets/FraudReduction/'\n",
    "            AUTHORIZATION = repositories.PubAuth\n",
    "           ) D"
   ]
  },
  {
   "cell_type": "code",
   "execution_count": 13,
   "id": "alone-tower",
   "metadata": {},
   "outputs": [
    {
     "data": {
      "application/vnd.teradata.resultset": "\"TableName\",\"OFSStartVersionNumber\",\"VersionTimeStamp\"\n\"Txn_History_OFS\",\"0\",\"2024-08-26 11:50:09.730000+00:00\"\n\"Txn_History_OFS\",\"1\",\"2024-08-26 11:52:26.970000+00:00\"",
      "text/html": [
       "<div class = \"td-resultset-table-div\" style = \"max-height: 100%; overflow-y: auto\">\n",
       "      <table class=\"tdhistory792760\"><style>\n",
       "      table.tdhistory792760 { display: block !important; min-height: 126px !important; overflow: auto !important; height: 126px !important; width: 100% !important; border: 1px solid rgb(207, 207, 207) !important; border-collapse: collapse !important; ; color: var(--jp-ui-font-color1) !important; }\n",
       "      th.tdhistory792760 { border: 1px solid rgb(198,198,198) !important; border-collapse: collapse !important; ; padding: 2px 5px !important; ; font-size: 13px !important; ; text-align: center !important; white-space: normal !important; color: var(--jp-ui-font-color1) !important; }\n",
       "      th.tdhistory792760:last-child { text-align: left !important; }\n",
       "      tbody.tdhistory792760 tr:nth-child(even) { background: rgba(243, 243, 243, 0.75) !important; }\n",
       "      tbody.tdhistory792760 tr:nth-child(odd) { background: var(--jp-ui-inverse-font-color1) !important; }\n",
       "      td.tdhistory792760 { border: 1px solid rgb(207, 207, 207) !important; border-collapse: collapse !important; ; padding: 2px 5px !important; ; font-size: 13px !important; ; text-align: left !important;          white-space: nowrap !important; overflow:hidden !important; text-overflow:ellipsis !important;; }\n",
       "    </style><thead><tr style= \"background: rgba(243, 243, 243, 0.75)\"><th class=\"tdhistory792760\"></th><th class=\"tdhistory792760\">TableName</th><th class=\"tdhistory792760\">OFSStartVersionNumber</th><th class=\"tdhistory792760\">VersionTimeStamp</th></tr></thead><tbody class=\"tdhistory792760 resultset-body\"><tr><th class=\"tdhistory792760\" style= \"background: rgba(243, 243, 243, 0.75)\">1</th><td class=\"tdhistory792760\">Txn_History_OFS</td><td class=\"tdhistory792760\">0</td><td class=\"tdhistory792760\">2024-08-26 11:50:09.730000+00:00</td></tr><tr><th class=\"tdhistory792760\" style= \"background: rgba(243, 243, 243, 0.75)\">2</th><td class=\"tdhistory792760\">Txn_History_OFS</td><td class=\"tdhistory792760\">1</td><td class=\"tdhistory792760\">2024-08-26 11:52:26.970000+00:00</td></tr></tbody></table></div>"
      ]
     },
     "execution_count": 13,
     "metadata": {
      "application/vnd.teradata.resultset": "{\"resultSetID\":\"/home/jovyan/JupyterLabRoot/Teradata/Resultsets/2024.08.26_11.52.32.297_UTC\",\"historyID\":11326,\"chunkID\":\"00001\",\"sessionid\":\"\",\"portnum\":\"\",\"dockermode\":\"docker\",\"totalRowCount\":2,\"chunkCount\":0,\"rowLimit\":0,\"columnMetadata\":[{\"columnName\":\"TableName\",\"columnTypeName\":\"VARCHAR\",\"length\":128,\"scale\":128},{\"columnNumber\":1,\"columnName\":\"OFSStartVersionNumber\",\"columnTypeName\":\"BIGINT\"},{\"columnNumber\":2,\"columnName\":\"VersionTimeStamp\",\"columnTypeName\":\"TIMESTAMP WITH TIME ZONE\",\"length\":6,\"scale\":6}]}"
     },
     "output_type": "execute_result"
    }
   ],
   "source": [
    "-- Show Table Versioning for Time Travel capabilities\n",
    "SELECT TableName, OFSStartVersionNumber, VersionTimeStamp FROM DBC.MultiVersionInfoTblV\n",
    "WHERE DatabaseName = 'demo'\n",
    "AND TableName = 'Txn_History_OFS'\n",
    "ORDER BY 2;"
   ]
  },
  {
   "cell_type": "code",
   "execution_count": 14,
   "id": "compliant-darkness",
   "metadata": {},
   "outputs": [
    {
     "data": {
      "application/vnd.teradata.resultset": "\"Ver\",\"Count(*)\"\n\"Original\",\"60000\"\n\"New Ver\",\"70000\"",
      "text/html": [
       "<div class = \"td-resultset-table-div\" style = \"max-height: 100%; overflow-y: auto\">\n",
       "      <table class=\"tdhistory817968\"><style>\n",
       "      table.tdhistory817968 { display: block !important; min-height: 126px !important; overflow: auto !important; height: 126px !important; width: 100% !important; border: 1px solid rgb(207, 207, 207) !important; border-collapse: collapse !important; ; color: var(--jp-ui-font-color1) !important; }\n",
       "      th.tdhistory817968 { border: 1px solid rgb(198,198,198) !important; border-collapse: collapse !important; ; padding: 2px 5px !important; ; font-size: 13px !important; ; text-align: center !important; white-space: normal !important; color: var(--jp-ui-font-color1) !important; }\n",
       "      th.tdhistory817968:last-child { text-align: left !important; }\n",
       "      tbody.tdhistory817968 tr:nth-child(even) { background: rgba(243, 243, 243, 0.75) !important; }\n",
       "      tbody.tdhistory817968 tr:nth-child(odd) { background: var(--jp-ui-inverse-font-color1) !important; }\n",
       "      td.tdhistory817968 { border: 1px solid rgb(207, 207, 207) !important; border-collapse: collapse !important; ; padding: 2px 5px !important; ; font-size: 13px !important; ; text-align: left !important;          white-space: nowrap !important; overflow:hidden !important; text-overflow:ellipsis !important;; }\n",
       "    </style><thead><tr style= \"background: rgba(243, 243, 243, 0.75)\"><th class=\"tdhistory817968\"></th><th class=\"tdhistory817968\">Ver</th><th class=\"tdhistory817968\">Count(*)</th></tr></thead><tbody class=\"tdhistory817968 resultset-body\"><tr><th class=\"tdhistory817968\" style= \"background: rgba(243, 243, 243, 0.75)\">1</th><td class=\"tdhistory817968\">Original</td><td class=\"tdhistory817968\">60000</td></tr><tr><th class=\"tdhistory817968\" style= \"background: rgba(243, 243, 243, 0.75)\">2</th><td class=\"tdhistory817968\">New Ver</td><td class=\"tdhistory817968\">70000</td></tr></tbody></table></div>"
      ]
     },
     "execution_count": 14,
     "metadata": {
      "application/vnd.teradata.resultset": "{\"resultSetID\":\"/home/jovyan/JupyterLabRoot/Teradata/Resultsets/2024.08.26_11.52.32.880_UTC\",\"historyID\":11327,\"chunkID\":\"00001\",\"sessionid\":\"\",\"portnum\":\"\",\"dockermode\":\"docker\",\"totalRowCount\":2,\"chunkCount\":0,\"rowLimit\":0,\"columnMetadata\":[{\"columnName\":\"Ver\",\"columnTypeName\":\"VARCHAR\",\"length\":8,\"scale\":8},{\"columnNumber\":1,\"columnName\":\"Count(*)\",\"columnTypeName\":\"INTEGER\"}]}"
     },
     "output_type": "execute_result"
    }
   ],
   "source": [
    "/* Count the number of rows after each version\n",
    "Replace the timestamps as necessary \n",
    "Or use the version number */\n",
    "\n",
    "SELECT 'Original' as Ver, COUNT(*) \n",
    "FROM demo.Txn_History_OFS \n",
    "    --AS OF TIMESTAMP '2023-02-13 11:19:28.360000-04:00'\n",
    "    AS OF 0\n",
    "\n",
    "GROUP BY 1\n",
    "\n",
    "UNION ALL \n",
    "\n",
    "SELECT 'New Ver' as Ver, COUNT(*) \n",
    "FROM demo.Txn_History_OFS \n",
    "    --AS OF TIMESTAMP '2023-02-13 15:20:04.580000-04:00'\n",
    "    AS OF 1\n",
    "\n",
    "GROUP BY 1"
   ]
  },
  {
   "cell_type": "markdown",
   "id": "wanted-worthy",
   "metadata": {},
   "source": [
    "<hr>\n",
    "<p style = 'font-size:28px;font-family:Arial;color:#00233C'><b>Demonstration 2 - Data in External Object Stores</b></p>\n",
    "\n",
    "<table style = 'width:100%;table-layout:fixed;'>\n",
    "    <tr>\n",
    "        <td style = 'vertical-align:top' width = '40%'>\n",
    "            <ul style = 'font-size:16px;font-family:Arial;color:#00233C'>\n",
    "                <li>Vast quantities of data stored in Object Storage\n",
    "                    <br>\n",
    "                <ul>\n",
    "                    <br>\n",
    "                    <li>Data Lakes</li>\n",
    "                    <br>\n",
    "                    <li>IOT/IIOT</li>\n",
    "                    <br>\n",
    "                    <li>Marketplaces</li><br>\n",
    "                    </ul></li>\n",
    "                <br>\n",
    "                <li>Vantage can read this data directly using built-in capabilities:\n",
    "                    <br>\n",
    "                    <ul><br>\n",
    "                        <li>At massive scale/parallelism</li>\n",
    "                    <br>\n",
    "                        <li>Automatic schema discovery</li>\n",
    "                        <br>\n",
    "                            <li>Read optimizations/object filtering</li>\n",
    "                            </ul></li>\n",
    "                <br>\n",
    "                <li>Administrators can create objects to enable easy access/analysis:\n",
    "                <ul><br>\n",
    "                    <li>Foreign Tables that contain object locations and definitions</li>\n",
    "                    <br>\n",
    "                    <li>Views to simplify access for users</li>\n",
    "                    </ul>\n",
    "                </li>\n",
    "            </ul>\n",
    "        </td>\n",
    "        <td><img src = 'images/Data_Marketplace.png' width = '600'></td>\n",
    "    </tr>\n",
    "</table>"
   ]
  },
  {
   "cell_type": "markdown",
   "id": "female-animal",
   "metadata": {},
   "source": [
    "<hr>\n",
    "\n",
    "<b style = 'font-size:18px;font-family:Arial;color:#00233C'>Exploration and Access Data in Object Stores</b>\n",
    "\n",
    "<p style = 'font-size:16px;font-family:Arial;color:#00233C'>The illustrations below review some common query types for investigating data in object storage.  Adding a \"RETURNTYPE\" parameter to the query can return additional information about the data:</p>\n",
    "<ul style = 'font-size:16px;font-family:Arial;color:#00233C'>\n",
    "    <li><b>NOSREAD_KEYS</b> will return objects keys/key paths, length in bytes, etc.</li>\n",
    "    <li><b>NOSREAD_SCHEMA</b> will return the objects schema as interpreted by Vantage</li>\n",
    "    </ul>\n",
    "\n",
    "<p style = 'font-size:16px;font-family:Arial;color:#00233C'>The Data Engineer can then create a <b>Foreign Table</b> which acts as a virtual pointer to the data as it lies in Object Storage.  Optionally, this table can contain filtering mechanisms to assist in minimizing download volumes and improving performance.</p>"
   ]
  },
  {
   "cell_type": "code",
   "execution_count": 15,
   "id": "advance-consequence",
   "metadata": {},
   "outputs": [
    {
     "data": {
      "application/vnd.teradata.resultset": "\"Location\",\"Col1\",\"Col2\",\"Col3\",\"Col4\",\"Col5\",\"Col6\",\"Col7\",\"Col8\",\"Col9\",\"Col10\",\"Col11\",\"Col12\",\"Col13\",\"Col14\",\"Col15\",\"Col16\",\"Col17\",\"Col18\",\"Col19\",\"Col20\",\"Col21\",\"Col22\",\"Col23\",\"Col24\",\"Col25\"\n\"/S3/s3.amazonaws.com/td-usecases-data-store/retail_sample_data/FSCustomerJourney/ich_banking/ich_banking_5.csv\",\"2135\",\"\"\"861839811lbxepnv901946824\"\"                           \",\"\"\"55jkmJvnwpUIMI-zDGvsSra\"\"\",\"\"\"N\"\"   \",\"560839436\",\"\"\"Gold\"\"\",\"1\",\"4873958\",\"\"\"2016-03-14 07:33:14.000000-07:00\"\"                                  \",\"\"\"WEBSITE\"\"\",\"\"\"COMPARE\"\"\",\"\"\"-1\"\"\",\"\"\"-1\"\"\",\"\"\"CREDIT CARD\"\"\",\"\"\"-1\"\"    \",\"-1\",\"-1\",\"-1\",\"-1\",\"\"\"-1\"\"\",\"\"\"-1\"\"\",\"\"\"\\N\"\"\",\"\"\"-1\"\"\",\"\"\"N\"\"   \",\"\"\"-1\"\"\"\n\"/S3/s3.amazonaws.com/td-usecases-data-store/retail_sample_data/FSCustomerJourney/ich_banking/ich_banking_8.csv\",\"77310\",\"\"\"305591565fsocziw320918796\"\"                           \",\"\"\"ztmThhB1F4yVJz3pTXyzbvY\"\"\",\"\"\"N\"\"   \",\"-1\",\"\"\"Visitor - Browse Only\"\"\",\"0\",\"5093790\",\"\"\"2016-01-12 11:30:04.000000-07:00\"\"                                  \",\"\"\"ONSITE_AD\"\"\",\"\"\"CLICK\"\"\",\"\"\"-1\"\"\",\"\"\"-1\"\"\",\"\"\"CREDIT CARD\"\"\",\"\"\"-1\"\"    \",\"-1\",\"-1\",\"-1\",\"-1\",\"\"\"695542\"\"\",\"\"\"OFFSITE_DISPLAY_ADVERTISING\"\"\",\"\"\"HOTEL CARD PROMOTION\"\"\",\"\"\"AFFILIATES\"\"\",\"\"\"N\"\"   \",\"\"\"-1\"\"\"\n\"/S3/s3.amazonaws.com/td-usecases-data-store/retail_sample_data/FSCustomerJourney/ich_banking/ich_banking_10.csv\",\"123501\",\"\"\"729007171htkuxfk312736187\"\"                           \",\"\"\"JTHwxvgAmeoXycdIJUc6Ynl\"\"\",\"\"\"N\"\"   \",\"-1\",\"\"\"Visitor - Browse Only\"\"\",\"0\",\"5508838\",\"\"\"2016-02-29 18:43:33.000000-07:00\"\"                                  \",\"\"\"WEBSITE\"\"\",\"\"\"BROWSE\"\"\",\"\"\"-1\"\"\",\"\"\"-1\"\"\",\"\"\"MORTGAGE\"\"\",\"\"\"-1\"\"    \",\"-1\",\"-1\",\"-1\",\"-1\",\"\"\"-1\"\"\",\"\"\"-1\"\"\",\"\"\"\\N\"\"\",\"\"\"-1\"\"\",\"\"\"Y\"\"   \",\"\"\"-1\"\"\"\n\"/S3/s3.amazonaws.com/td-usecases-data-store/retail_sample_data/FSCustomerJourney/ich_banking/ich_banking_3.csv\",\"223375\",\"\"\"832161474ylmoyeq507735216\"\"                           \",\"\"\"Lhi-WtRHOzvlgmqs9fcUuPz\"\"\",\"\"\"Y\"\"   \",\"-1\",\"\"\"Visitor - Loyalty\"\"\",\"0\",\"4099749\",\"\"\"2016-01-08 18:50:31.000000-07:00\"\"                                  \",\"\"\"WEBSITE\"\"\",\"\"\"OLB\"\"\",\"\"\"-1\"\"\",\"\"\"-1\"\"\",\"\"\"CHECKING\"\"\",\"\"\"-1\"\"    \",\"-1\",\"-1\",\"-1\",\"-1\",\"\"\"-1\"\"\",\"\"\"-1\"\"\",\"\"\"\\N\"\"\",\"\"\"-1\"\"\",\"\"\"Y\"\"   \",\"\"\"-1\"\"\"\n\"/S3/s3.amazonaws.com/td-usecases-data-store/retail_sample_data/FSCustomerJourney/ich_banking/ich_banking_6.csv\",\"155870\",\"\"\"994625921asfjncl350510568\"\"                           \",\"\"\"UbsHsl36rFIqZdJrDd9Ya-Q\"\"\",\"\"\"N\"\"   \",\"-1\",\"\"\"Visitor - Browse Only\"\"\",\"0\",\"2832095\",\"\"\"2016-03-24 18:54:44.000000-07:00\"\"                                  \",\"\"\"WEBSITE\"\"\",\"\"\"BROWSE\"\"\",\"\"\"-1\"\"\",\"\"\"-1\"\"\",\"\"\"SAVINGS\"\"\",\"\"\"-1\"\"    \",\"-1\",\"-1\",\"-1\",\"-1\",\"\"\"-1\"\"\",\"\"\"-1\"\"\",\"\"\"\\N\"\"\",\"\"\"-1\"\"\",\"\"\"N\"\"   \",\"\"\"-1\"\"\"",
      "text/html": [
       "<div class = \"td-resultset-table-div\" style = \"max-height: 100%; overflow-y: auto\">\n",
       "      <table class=\"tdhistory665964\"><style>\n",
       "      table.tdhistory665964 { display: block !important; min-height: 189px !important; overflow: auto !important; height: 189px !important; width: 100% !important; border: 1px solid rgb(207, 207, 207) !important; border-collapse: collapse !important; ; color: var(--jp-ui-font-color1) !important; }\n",
       "      th.tdhistory665964 { border: 1px solid rgb(198,198,198) !important; border-collapse: collapse !important; ; padding: 2px 5px !important; ; font-size: 13px !important; ; text-align: center !important; white-space: normal !important; color: var(--jp-ui-font-color1) !important; }\n",
       "      th.tdhistory665964:last-child { text-align: left !important; }\n",
       "      tbody.tdhistory665964 tr:nth-child(even) { background: rgba(243, 243, 243, 0.75) !important; }\n",
       "      tbody.tdhistory665964 tr:nth-child(odd) { background: var(--jp-ui-inverse-font-color1) !important; }\n",
       "      td.tdhistory665964 { border: 1px solid rgb(207, 207, 207) !important; border-collapse: collapse !important; ; padding: 2px 5px !important; ; font-size: 13px !important; ; text-align: left !important;          white-space: nowrap !important; overflow:hidden !important; text-overflow:ellipsis !important;; }\n",
       "    </style><thead><tr style= \"background: rgba(243, 243, 243, 0.75)\"><th class=\"tdhistory665964\"></th><th class=\"tdhistory665964\">Location</th><th class=\"tdhistory665964\">Col1</th><th class=\"tdhistory665964\">Col2</th><th class=\"tdhistory665964\">Col3</th><th class=\"tdhistory665964\">Col4</th><th class=\"tdhistory665964\">Col5</th><th class=\"tdhistory665964\">Col6</th><th class=\"tdhistory665964\">Col7</th><th class=\"tdhistory665964\">Col8</th><th class=\"tdhistory665964\">Col9</th><th class=\"tdhistory665964\">Col10</th><th class=\"tdhistory665964\">Col11</th><th class=\"tdhistory665964\">Col12</th><th class=\"tdhistory665964\">Col13</th><th class=\"tdhistory665964\">Col14</th><th class=\"tdhistory665964\">Col15</th><th class=\"tdhistory665964\">Col16</th><th class=\"tdhistory665964\">Col17</th><th class=\"tdhistory665964\">Col18</th><th class=\"tdhistory665964\">Col19</th><th class=\"tdhistory665964\">Col20</th><th class=\"tdhistory665964\">Col21</th><th class=\"tdhistory665964\">Col22</th><th class=\"tdhistory665964\">Col23</th><th class=\"tdhistory665964\">Col24</th><th class=\"tdhistory665964\">Col25</th></tr></thead><tbody class=\"tdhistory665964 resultset-body\"><tr><th class=\"tdhistory665964\" style= \"background: rgba(243, 243, 243, 0.75)\">1</th><td class=\"tdhistory665964\">/S3/s3.amazonaws.com/td-usecases-data-store/retail_sample_data/FSCustomerJourney/ich_banking/ich_banking_5.csv</td><td class=\"tdhistory665964\">2135</td><td class=\"tdhistory665964\">\"861839811lbxepnv901946824\"                           </td><td class=\"tdhistory665964\">\"55jkmJvnwpUIMI-zDGvsSra\"</td><td class=\"tdhistory665964\">\"N\"   </td><td class=\"tdhistory665964\">560839436</td><td class=\"tdhistory665964\">\"Gold\"</td><td class=\"tdhistory665964\">1</td><td class=\"tdhistory665964\">4873958</td><td class=\"tdhistory665964\">\"2016-03-14 07:33:14.000000-07:00\"                                  </td><td class=\"tdhistory665964\">\"WEBSITE\"</td><td class=\"tdhistory665964\">\"COMPARE\"</td><td class=\"tdhistory665964\">\"-1\"</td><td class=\"tdhistory665964\">\"-1\"</td><td class=\"tdhistory665964\">\"CREDIT CARD\"</td><td class=\"tdhistory665964\">\"-1\"    </td><td class=\"tdhistory665964\">-1</td><td class=\"tdhistory665964\">-1</td><td class=\"tdhistory665964\">-1</td><td class=\"tdhistory665964\">-1</td><td class=\"tdhistory665964\">\"-1\"</td><td class=\"tdhistory665964\">\"-1\"</td><td class=\"tdhistory665964\">\"\\N\"</td><td class=\"tdhistory665964\">\"-1\"</td><td class=\"tdhistory665964\">\"N\"   </td><td class=\"tdhistory665964\">\"-1\"</td></tr><tr><th class=\"tdhistory665964\" style= \"background: rgba(243, 243, 243, 0.75)\">2</th><td class=\"tdhistory665964\">/S3/s3.amazonaws.com/td-usecases-data-store/retail_sample_data/FSCustomerJourney/ich_banking/ich_banking_8.csv</td><td class=\"tdhistory665964\">77310</td><td class=\"tdhistory665964\">\"305591565fsocziw320918796\"                           </td><td class=\"tdhistory665964\">\"ztmThhB1F4yVJz3pTXyzbvY\"</td><td class=\"tdhistory665964\">\"N\"   </td><td class=\"tdhistory665964\">-1</td><td class=\"tdhistory665964\">\"Visitor - Browse Only\"</td><td class=\"tdhistory665964\">0</td><td class=\"tdhistory665964\">5093790</td><td class=\"tdhistory665964\">\"2016-01-12 11:30:04.000000-07:00\"                                  </td><td class=\"tdhistory665964\">\"ONSITE_AD\"</td><td class=\"tdhistory665964\">\"CLICK\"</td><td class=\"tdhistory665964\">\"-1\"</td><td class=\"tdhistory665964\">\"-1\"</td><td class=\"tdhistory665964\">\"CREDIT CARD\"</td><td class=\"tdhistory665964\">\"-1\"    </td><td class=\"tdhistory665964\">-1</td><td class=\"tdhistory665964\">-1</td><td class=\"tdhistory665964\">-1</td><td class=\"tdhistory665964\">-1</td><td class=\"tdhistory665964\">\"695542\"</td><td class=\"tdhistory665964\">\"OFFSITE_DISPLAY_ADVERTISING\"</td><td class=\"tdhistory665964\">\"HOTEL CARD PROMOTION\"</td><td class=\"tdhistory665964\">\"AFFILIATES\"</td><td class=\"tdhistory665964\">\"N\"   </td><td class=\"tdhistory665964\">\"-1\"</td></tr><tr><th class=\"tdhistory665964\" style= \"background: rgba(243, 243, 243, 0.75)\">3</th><td class=\"tdhistory665964\">/S3/s3.amazonaws.com/td-usecases-data-store/retail_sample_data/FSCustomerJourney/ich_banking/ich_banking_10.csv</td><td class=\"tdhistory665964\">123501</td><td class=\"tdhistory665964\">\"729007171htkuxfk312736187\"                           </td><td class=\"tdhistory665964\">\"JTHwxvgAmeoXycdIJUc6Ynl\"</td><td class=\"tdhistory665964\">\"N\"   </td><td class=\"tdhistory665964\">-1</td><td class=\"tdhistory665964\">\"Visitor - Browse Only\"</td><td class=\"tdhistory665964\">0</td><td class=\"tdhistory665964\">5508838</td><td class=\"tdhistory665964\">\"2016-02-29 18:43:33.000000-07:00\"                                  </td><td class=\"tdhistory665964\">\"WEBSITE\"</td><td class=\"tdhistory665964\">\"BROWSE\"</td><td class=\"tdhistory665964\">\"-1\"</td><td class=\"tdhistory665964\">\"-1\"</td><td class=\"tdhistory665964\">\"MORTGAGE\"</td><td class=\"tdhistory665964\">\"-1\"    </td><td class=\"tdhistory665964\">-1</td><td class=\"tdhistory665964\">-1</td><td class=\"tdhistory665964\">-1</td><td class=\"tdhistory665964\">-1</td><td class=\"tdhistory665964\">\"-1\"</td><td class=\"tdhistory665964\">\"-1\"</td><td class=\"tdhistory665964\">\"\\N\"</td><td class=\"tdhistory665964\">\"-1\"</td><td class=\"tdhistory665964\">\"Y\"   </td><td class=\"tdhistory665964\">\"-1\"</td></tr><tr><th class=\"tdhistory665964\" style= \"background: rgba(243, 243, 243, 0.75)\">4</th><td class=\"tdhistory665964\">/S3/s3.amazonaws.com/td-usecases-data-store/retail_sample_data/FSCustomerJourney/ich_banking/ich_banking_3.csv</td><td class=\"tdhistory665964\">223375</td><td class=\"tdhistory665964\">\"832161474ylmoyeq507735216\"                           </td><td class=\"tdhistory665964\">\"Lhi-WtRHOzvlgmqs9fcUuPz\"</td><td class=\"tdhistory665964\">\"Y\"   </td><td class=\"tdhistory665964\">-1</td><td class=\"tdhistory665964\">\"Visitor - Loyalty\"</td><td class=\"tdhistory665964\">0</td><td class=\"tdhistory665964\">4099749</td><td class=\"tdhistory665964\">\"2016-01-08 18:50:31.000000-07:00\"                                  </td><td class=\"tdhistory665964\">\"WEBSITE\"</td><td class=\"tdhistory665964\">\"OLB\"</td><td class=\"tdhistory665964\">\"-1\"</td><td class=\"tdhistory665964\">\"-1\"</td><td class=\"tdhistory665964\">\"CHECKING\"</td><td class=\"tdhistory665964\">\"-1\"    </td><td class=\"tdhistory665964\">-1</td><td class=\"tdhistory665964\">-1</td><td class=\"tdhistory665964\">-1</td><td class=\"tdhistory665964\">-1</td><td class=\"tdhistory665964\">\"-1\"</td><td class=\"tdhistory665964\">\"-1\"</td><td class=\"tdhistory665964\">\"\\N\"</td><td class=\"tdhistory665964\">\"-1\"</td><td class=\"tdhistory665964\">\"Y\"   </td><td class=\"tdhistory665964\">\"-1\"</td></tr><tr><th class=\"tdhistory665964\" style= \"background: rgba(243, 243, 243, 0.75)\">5</th><td class=\"tdhistory665964\">/S3/s3.amazonaws.com/td-usecases-data-store/retail_sample_data/FSCustomerJourney/ich_banking/ich_banking_6.csv</td><td class=\"tdhistory665964\">155870</td><td class=\"tdhistory665964\">\"994625921asfjncl350510568\"                           </td><td class=\"tdhistory665964\">\"UbsHsl36rFIqZdJrDd9Ya-Q\"</td><td class=\"tdhistory665964\">\"N\"   </td><td class=\"tdhistory665964\">-1</td><td class=\"tdhistory665964\">\"Visitor - Browse Only\"</td><td class=\"tdhistory665964\">0</td><td class=\"tdhistory665964\">2832095</td><td class=\"tdhistory665964\">\"2016-03-24 18:54:44.000000-07:00\"                                  </td><td class=\"tdhistory665964\">\"WEBSITE\"</td><td class=\"tdhistory665964\">\"BROWSE\"</td><td class=\"tdhistory665964\">\"-1\"</td><td class=\"tdhistory665964\">\"-1\"</td><td class=\"tdhistory665964\">\"SAVINGS\"</td><td class=\"tdhistory665964\">\"-1\"    </td><td class=\"tdhistory665964\">-1</td><td class=\"tdhistory665964\">-1</td><td class=\"tdhistory665964\">-1</td><td class=\"tdhistory665964\">-1</td><td class=\"tdhistory665964\">\"-1\"</td><td class=\"tdhistory665964\">\"-1\"</td><td class=\"tdhistory665964\">\"\\N\"</td><td class=\"tdhistory665964\">\"-1\"</td><td class=\"tdhistory665964\">\"N\"   </td><td class=\"tdhistory665964\">\"-1\"</td></tr></tbody></table></div>"
      ]
     },
     "execution_count": 15,
     "metadata": {
      "application/vnd.teradata.resultset": "{\"resultSetID\":\"/home/jovyan/JupyterLabRoot/Teradata/Resultsets/2024.08.26_11.54.26.517_UTC\",\"historyID\":11328,\"chunkID\":\"00001\",\"sessionid\":\"\",\"portnum\":\"\",\"dockermode\":\"docker\",\"totalRowCount\":5,\"chunkCount\":0,\"rowLimit\":0,\"columnMetadata\":[{\"columnName\":\"Location\",\"columnTypeName\":\"VARCHAR\",\"length\":2048,\"scale\":2048},{\"columnNumber\":1,\"columnName\":\"Col1\",\"columnTypeName\":\"INTEGER\"},{\"columnNumber\":2,\"columnName\":\"Col2\",\"columnTypeName\":\"CHAR\",\"length\":27,\"scale\":27},{\"columnNumber\":3,\"columnName\":\"Col3\",\"columnTypeName\":\"VARCHAR\",\"length\":51,\"scale\":51},{\"columnNumber\":4,\"columnName\":\"Col4\",\"columnTypeName\":\"CHAR\",\"length\":3,\"scale\":3},{\"columnNumber\":5,\"columnName\":\"Col5\",\"columnTypeName\":\"INTEGER\"},{\"columnNumber\":6,\"columnName\":\"Col6\",\"columnTypeName\":\"VARCHAR\",\"length\":40,\"scale\":40},{\"columnNumber\":7,\"columnName\":\"Col7\",\"columnTypeName\":\"SMALLINT\"},{\"columnNumber\":8,\"columnName\":\"Col8\",\"columnTypeName\":\"INTEGER\"},{\"columnNumber\":9,\"columnName\":\"Col9\",\"columnTypeName\":\"CHAR\",\"length\":34,\"scale\":34},{\"columnNumber\":10,\"columnName\":\"Col10\",\"columnTypeName\":\"VARCHAR\",\"length\":27,\"scale\":27},{\"columnNumber\":11,\"columnName\":\"Col11\",\"columnTypeName\":\"VARCHAR\",\"length\":43,\"scale\":43},{\"columnNumber\":12,\"columnName\":\"Col12\",\"columnTypeName\":\"VARCHAR\",\"length\":22,\"scale\":22},{\"columnNumber\":13,\"columnName\":\"Col13\",\"columnTypeName\":\"VARCHAR\",\"length\":42,\"scale\":42},{\"columnNumber\":14,\"columnName\":\"Col14\",\"columnTypeName\":\"VARCHAR\",\"length\":34,\"scale\":34},{\"columnNumber\":15,\"columnName\":\"Col15\",\"columnTypeName\":\"CHAR\",\"length\":4,\"scale\":4},{\"columnNumber\":16,\"columnName\":\"Col16\",\"columnTypeName\":\"VARCHAR\",\"length\":15,\"scale\":15},{\"columnNumber\":17,\"columnName\":\"Col17\",\"columnTypeName\":\"VARCHAR\",\"length\":15,\"scale\":15},{\"columnNumber\":18,\"columnName\":\"Col18\",\"columnTypeName\":\"VARCHAR\",\"length\":15,\"scale\":15},{\"columnNumber\":19,\"columnName\":\"Col19\",\"columnTypeName\":\"SMALLINT\"},{\"columnNumber\":20,\"columnName\":\"Col20\",\"columnTypeName\":\"VARCHAR\",\"length\":42,\"scale\":42},{\"columnNumber\":21,\"columnName\":\"Col21\",\"columnTypeName\":\"VARCHAR\",\"length\":54,\"scale\":54},{\"columnNumber\":22,\"columnName\":\"Col22\",\"columnTypeName\":\"VARCHAR\",\"length\":60,\"scale\":60},{\"columnNumber\":23,\"columnName\":\"Col23\",\"columnTypeName\":\"VARCHAR\",\"length\":41,\"scale\":41},{\"columnNumber\":24,\"columnName\":\"Col24\",\"columnTypeName\":\"CHAR\",\"length\":3,\"scale\":3},{\"columnNumber\":25,\"columnName\":\"Col25\",\"columnTypeName\":\"VARCHAR\",\"length\":22,\"scale\":22}]}"
     },
     "output_type": "execute_result"
    }
   ],
   "source": [
    "\n",
    "SELECT TOP 5 *\n",
    "\n",
    "FROM (\n",
    "    LOCATION = '/s3/s3.amazonaws.com/td-usecases-data-store/retail_sample_data/FSCustomerJourney/ich_banking/'\n",
    "    AUTHORIZATION = repositories.PubAuth\n",
    ") AS D;"
   ]
  },
  {
   "cell_type": "code",
   "execution_count": 16,
   "id": "charming-dimension",
   "metadata": {},
   "outputs": [
    {
     "data": {
      "application/vnd.teradata.resultset": "\"Location\",\"ObjectLength\"\n\"/S3/s3.amazonaws.com/td-usecases-data-store/retail_sample_data/FSCustomerJourney/ich_banking/ich_banking_1.csv\",\"14680002\"\n\"/S3/s3.amazonaws.com/td-usecases-data-store/retail_sample_data/FSCustomerJourney/ich_banking/ich_banking_10.csv\",\"9949618\"\n\"/S3/s3.amazonaws.com/td-usecases-data-store/retail_sample_data/FSCustomerJourney/ich_banking/ich_banking_2.csv\",\"14679966\"\n\"/S3/s3.amazonaws.com/td-usecases-data-store/retail_sample_data/FSCustomerJourney/ich_banking/ich_banking_3.csv\",\"14680146\"\n\"/S3/s3.amazonaws.com/td-usecases-data-store/retail_sample_data/FSCustomerJourney/ich_banking/ich_banking_4.csv\",\"14680017\"\n\"/S3/s3.amazonaws.com/td-usecases-data-store/retail_sample_data/FSCustomerJourney/ich_banking/ich_banking_5.csv\",\"14680095\"\n\"/S3/s3.amazonaws.com/td-usecases-data-store/retail_sample_data/FSCustomerJourney/ich_banking/ich_banking_6.csv\",\"14680063\"\n\"/S3/s3.amazonaws.com/td-usecases-data-store/retail_sample_data/FSCustomerJourney/ich_banking/ich_banking_7.csv\",\"14679943\"\n\"/S3/s3.amazonaws.com/td-usecases-data-store/retail_sample_data/FSCustomerJourney/ich_banking/ich_banking_8.csv\",\"14680277\"\n\"/S3/s3.amazonaws.com/td-usecases-data-store/retail_sample_data/FSCustomerJourney/ich_banking/ich_banking_9.csv\",\"14679948\"",
      "text/html": [
       "<div class = \"td-resultset-table-div\" style = \"max-height: 100%; overflow-y: auto\">\n",
       "      <table class=\"tdhistory199841\"><style>\n",
       "      table.tdhistory199841 { display: block !important; min-height: 294px !important; overflow: auto !important; height: 294px !important; width: 100% !important; border: 1px solid rgb(207, 207, 207) !important; border-collapse: collapse !important; ; color: var(--jp-ui-font-color1) !important; }\n",
       "      th.tdhistory199841 { border: 1px solid rgb(198,198,198) !important; border-collapse: collapse !important; ; padding: 2px 5px !important; ; font-size: 13px !important; ; text-align: center !important; white-space: normal !important; color: var(--jp-ui-font-color1) !important; }\n",
       "      th.tdhistory199841:last-child { text-align: left !important; }\n",
       "      tbody.tdhistory199841 tr:nth-child(even) { background: rgba(243, 243, 243, 0.75) !important; }\n",
       "      tbody.tdhistory199841 tr:nth-child(odd) { background: var(--jp-ui-inverse-font-color1) !important; }\n",
       "      td.tdhistory199841 { border: 1px solid rgb(207, 207, 207) !important; border-collapse: collapse !important; ; padding: 2px 5px !important; ; font-size: 13px !important; ; text-align: left !important;          white-space: nowrap !important; overflow:hidden !important; text-overflow:ellipsis !important;; }\n",
       "    </style><thead><tr style= \"background: rgba(243, 243, 243, 0.75)\"><th class=\"tdhistory199841\"></th><th class=\"tdhistory199841\">Location</th><th class=\"tdhistory199841\">ObjectLength</th></tr></thead><tbody class=\"tdhistory199841 resultset-body\"><tr><th class=\"tdhistory199841\" style= \"background: rgba(243, 243, 243, 0.75)\">1</th><td class=\"tdhistory199841\">/S3/s3.amazonaws.com/td-usecases-data-store/retail_sample_data/FSCustomerJourney/ich_banking/ich_banking_1.csv</td><td class=\"tdhistory199841\">14680002</td></tr><tr><th class=\"tdhistory199841\" style= \"background: rgba(243, 243, 243, 0.75)\">2</th><td class=\"tdhistory199841\">/S3/s3.amazonaws.com/td-usecases-data-store/retail_sample_data/FSCustomerJourney/ich_banking/ich_banking_10.csv</td><td class=\"tdhistory199841\">9949618</td></tr><tr><th class=\"tdhistory199841\" style= \"background: rgba(243, 243, 243, 0.75)\">3</th><td class=\"tdhistory199841\">/S3/s3.amazonaws.com/td-usecases-data-store/retail_sample_data/FSCustomerJourney/ich_banking/ich_banking_2.csv</td><td class=\"tdhistory199841\">14679966</td></tr><tr><th class=\"tdhistory199841\" style= \"background: rgba(243, 243, 243, 0.75)\">4</th><td class=\"tdhistory199841\">/S3/s3.amazonaws.com/td-usecases-data-store/retail_sample_data/FSCustomerJourney/ich_banking/ich_banking_3.csv</td><td class=\"tdhistory199841\">14680146</td></tr><tr><th class=\"tdhistory199841\" style= \"background: rgba(243, 243, 243, 0.75)\">5</th><td class=\"tdhistory199841\">/S3/s3.amazonaws.com/td-usecases-data-store/retail_sample_data/FSCustomerJourney/ich_banking/ich_banking_4.csv</td><td class=\"tdhistory199841\">14680017</td></tr><tr><th class=\"tdhistory199841\" style= \"background: rgba(243, 243, 243, 0.75)\">6</th><td class=\"tdhistory199841\">/S3/s3.amazonaws.com/td-usecases-data-store/retail_sample_data/FSCustomerJourney/ich_banking/ich_banking_5.csv</td><td class=\"tdhistory199841\">14680095</td></tr><tr><th class=\"tdhistory199841\" style= \"background: rgba(243, 243, 243, 0.75)\">7</th><td class=\"tdhistory199841\">/S3/s3.amazonaws.com/td-usecases-data-store/retail_sample_data/FSCustomerJourney/ich_banking/ich_banking_6.csv</td><td class=\"tdhistory199841\">14680063</td></tr><tr><th class=\"tdhistory199841\" style= \"background: rgba(243, 243, 243, 0.75)\">8</th><td class=\"tdhistory199841\">/S3/s3.amazonaws.com/td-usecases-data-store/retail_sample_data/FSCustomerJourney/ich_banking/ich_banking_7.csv</td><td class=\"tdhistory199841\">14679943</td></tr><tr><th class=\"tdhistory199841\" style= \"background: rgba(243, 243, 243, 0.75)\">9</th><td class=\"tdhistory199841\">/S3/s3.amazonaws.com/td-usecases-data-store/retail_sample_data/FSCustomerJourney/ich_banking/ich_banking_8.csv</td><td class=\"tdhistory199841\">14680277</td></tr><tr><th class=\"tdhistory199841\" style= \"background: rgba(243, 243, 243, 0.75)\">10</th><td class=\"tdhistory199841\">/S3/s3.amazonaws.com/td-usecases-data-store/retail_sample_data/FSCustomerJourney/ich_banking/ich_banking_9.csv</td><td class=\"tdhistory199841\">14679948</td></tr></tbody></table></div>"
      ]
     },
     "execution_count": 16,
     "metadata": {
      "application/vnd.teradata.resultset": "{\"resultSetID\":\"/home/jovyan/JupyterLabRoot/Teradata/Resultsets/2024.08.26_11.54.26.862_UTC\",\"historyID\":11329,\"chunkID\":\"00001\",\"sessionid\":\"\",\"portnum\":\"\",\"dockermode\":\"docker\",\"totalRowCount\":10,\"chunkCount\":0,\"rowLimit\":0,\"columnMetadata\":[{\"columnName\":\"Location\",\"columnTypeName\":\"VARCHAR\",\"length\":2048,\"scale\":2048},{\"columnNumber\":1,\"columnName\":\"ObjectLength\",\"columnTypeName\":\"BIGINT\"}]}"
     },
     "output_type": "execute_result"
    }
   ],
   "source": [
    "/* Investigate object structure */\n",
    "\n",
    "SELECT Location, ObjectLength\n",
    "\n",
    "FROM (\n",
    "    LOCATION = '/s3/s3.amazonaws.com/td-usecases-data-store/retail_sample_data/FSCustomerJourney/ich_banking/'\n",
    "    AUTHORIZATION = repositories.PubAuth\n",
    "    RETURNTYPE = 'NOSREAD_KEYS'\n",
    ") AS D"
   ]
  },
  {
   "cell_type": "code",
   "execution_count": 17,
   "id": "fossil-stadium",
   "metadata": {},
   "outputs": [
    {
     "data": {
      "application/vnd.teradata.resultset": "\"ColPosition\",\"Name\",\"Datatype\",\"FileType\",\"Location\"\n\"1\",\"Col1\",\"int\",\"csv\",\"/S3/s3.amazonaws.com/td-usecases-data-store/retail_sample_data/FSCustomerJourney/ich_banking/ich_banking_1.csv\"\n\"2\",\"Col2\",\"char(27) CHARACTER SET LATIN\",\"csv\",\"/S3/s3.amazonaws.com/td-usecases-data-store/retail_sample_data/FSCustomerJourney/ich_banking/ich_banking_1.csv\"\n\"3\",\"Col3\",\"VARCHAR(51) CHARACTER SET LATIN\",\"csv\",\"/S3/s3.amazonaws.com/td-usecases-data-store/retail_sample_data/FSCustomerJourney/ich_banking/ich_banking_1.csv\"\n\"4\",\"Col4\",\"char(3) CHARACTER SET LATIN\",\"csv\",\"/S3/s3.amazonaws.com/td-usecases-data-store/retail_sample_data/FSCustomerJourney/ich_banking/ich_banking_1.csv\"\n\"5\",\"Col5\",\"int\",\"csv\",\"/S3/s3.amazonaws.com/td-usecases-data-store/retail_sample_data/FSCustomerJourney/ich_banking/ich_banking_1.csv\"\n\"6\",\"Col6\",\"varchar(40) CHARACTER SET LATIN\",\"csv\",\"/S3/s3.amazonaws.com/td-usecases-data-store/retail_sample_data/FSCustomerJourney/ich_banking/ich_banking_1.csv\"\n\"7\",\"Col7\",\"smallint\",\"csv\",\"/S3/s3.amazonaws.com/td-usecases-data-store/retail_sample_data/FSCustomerJourney/ich_banking/ich_banking_1.csv\"\n\"8\",\"Col8\",\"int\",\"csv\",\"/S3/s3.amazonaws.com/td-usecases-data-store/retail_sample_data/FSCustomerJourney/ich_banking/ich_banking_1.csv\"\n\"9\",\"Col9\",\"char(34) CHARACTER SET LATIN\",\"csv\",\"/S3/s3.amazonaws.com/td-usecases-data-store/retail_sample_data/FSCustomerJourney/ich_banking/ich_banking_1.csv\"\n\"10\",\"Col10\",\"varchar(27) CHARACTER SET LATIN\",\"csv\",\"/S3/s3.amazonaws.com/td-usecases-data-store/retail_sample_data/FSCustomerJourney/ich_banking/ich_banking_1.csv\"\n\"11\",\"Col11\",\"varchar(43) CHARACTER SET LATIN\",\"csv\",\"/S3/s3.amazonaws.com/td-usecases-data-store/retail_sample_data/FSCustomerJourney/ich_banking/ich_banking_1.csv\"\n\"12\",\"Col12\",\"varchar(22) CHARACTER SET LATIN\",\"csv\",\"/S3/s3.amazonaws.com/td-usecases-data-store/retail_sample_data/FSCustomerJourney/ich_banking/ich_banking_1.csv\"",
      "text/html": [
       "<div class = \"td-resultset-table-div\" style = \"max-height: 100%; overflow-y: auto\">\n",
       "      <table class=\"tdhistory320980\"><style>\n",
       "      table.tdhistory320980 { display: block !important; min-height: 336px !important; overflow: auto !important; height: 336px !important; width: 100% !important; border: 1px solid rgb(207, 207, 207) !important; border-collapse: collapse !important; ; color: var(--jp-ui-font-color1) !important; }\n",
       "      th.tdhistory320980 { border: 1px solid rgb(198,198,198) !important; border-collapse: collapse !important; ; padding: 2px 5px !important; ; font-size: 13px !important; ; text-align: center !important; white-space: normal !important; color: var(--jp-ui-font-color1) !important; }\n",
       "      th.tdhistory320980:last-child { text-align: left !important; }\n",
       "      tbody.tdhistory320980 tr:nth-child(even) { background: rgba(243, 243, 243, 0.75) !important; }\n",
       "      tbody.tdhistory320980 tr:nth-child(odd) { background: var(--jp-ui-inverse-font-color1) !important; }\n",
       "      td.tdhistory320980 { border: 1px solid rgb(207, 207, 207) !important; border-collapse: collapse !important; ; padding: 2px 5px !important; ; font-size: 13px !important; ; text-align: left !important;          white-space: nowrap !important; overflow:hidden !important; text-overflow:ellipsis !important;; }\n",
       "    </style><thead><tr style= \"background: rgba(243, 243, 243, 0.75)\"><th class=\"tdhistory320980\"></th><th class=\"tdhistory320980\">ColPosition</th><th class=\"tdhistory320980\">Name</th><th class=\"tdhistory320980\">Datatype</th><th class=\"tdhistory320980\">FileType</th><th class=\"tdhistory320980\">Location</th></tr></thead><tbody class=\"tdhistory320980 resultset-body\"><tr><th class=\"tdhistory320980\" style= \"background: rgba(243, 243, 243, 0.75)\">1</th><td class=\"tdhistory320980\">1</td><td class=\"tdhistory320980\">Col1</td><td class=\"tdhistory320980\">int</td><td class=\"tdhistory320980\">csv</td><td class=\"tdhistory320980\">/S3/s3.amazonaws.com/td-usecases-data-store/retail_sample_data/FSCustomerJourney/ich_banking/ich_banking_1.csv</td></tr><tr><th class=\"tdhistory320980\" style= \"background: rgba(243, 243, 243, 0.75)\">2</th><td class=\"tdhistory320980\">2</td><td class=\"tdhistory320980\">Col2</td><td class=\"tdhistory320980\">char(27) CHARACTER SET LATIN</td><td class=\"tdhistory320980\">csv</td><td class=\"tdhistory320980\">/S3/s3.amazonaws.com/td-usecases-data-store/retail_sample_data/FSCustomerJourney/ich_banking/ich_banking_1.csv</td></tr><tr><th class=\"tdhistory320980\" style= \"background: rgba(243, 243, 243, 0.75)\">3</th><td class=\"tdhistory320980\">3</td><td class=\"tdhistory320980\">Col3</td><td class=\"tdhistory320980\">VARCHAR(51) CHARACTER SET LATIN</td><td class=\"tdhistory320980\">csv</td><td class=\"tdhistory320980\">/S3/s3.amazonaws.com/td-usecases-data-store/retail_sample_data/FSCustomerJourney/ich_banking/ich_banking_1.csv</td></tr><tr><th class=\"tdhistory320980\" style= \"background: rgba(243, 243, 243, 0.75)\">4</th><td class=\"tdhistory320980\">4</td><td class=\"tdhistory320980\">Col4</td><td class=\"tdhistory320980\">char(3) CHARACTER SET LATIN</td><td class=\"tdhistory320980\">csv</td><td class=\"tdhistory320980\">/S3/s3.amazonaws.com/td-usecases-data-store/retail_sample_data/FSCustomerJourney/ich_banking/ich_banking_1.csv</td></tr><tr><th class=\"tdhistory320980\" style= \"background: rgba(243, 243, 243, 0.75)\">5</th><td class=\"tdhistory320980\">5</td><td class=\"tdhistory320980\">Col5</td><td class=\"tdhistory320980\">int</td><td class=\"tdhistory320980\">csv</td><td class=\"tdhistory320980\">/S3/s3.amazonaws.com/td-usecases-data-store/retail_sample_data/FSCustomerJourney/ich_banking/ich_banking_1.csv</td></tr><tr><th class=\"tdhistory320980\" style= \"background: rgba(243, 243, 243, 0.75)\">6</th><td class=\"tdhistory320980\">6</td><td class=\"tdhistory320980\">Col6</td><td class=\"tdhistory320980\">varchar(40) CHARACTER SET LATIN</td><td class=\"tdhistory320980\">csv</td><td class=\"tdhistory320980\">/S3/s3.amazonaws.com/td-usecases-data-store/retail_sample_data/FSCustomerJourney/ich_banking/ich_banking_1.csv</td></tr><tr><th class=\"tdhistory320980\" style= \"background: rgba(243, 243, 243, 0.75)\">7</th><td class=\"tdhistory320980\">7</td><td class=\"tdhistory320980\">Col7</td><td class=\"tdhistory320980\">smallint</td><td class=\"tdhistory320980\">csv</td><td class=\"tdhistory320980\">/S3/s3.amazonaws.com/td-usecases-data-store/retail_sample_data/FSCustomerJourney/ich_banking/ich_banking_1.csv</td></tr><tr><th class=\"tdhistory320980\" style= \"background: rgba(243, 243, 243, 0.75)\">8</th><td class=\"tdhistory320980\">8</td><td class=\"tdhistory320980\">Col8</td><td class=\"tdhistory320980\">int</td><td class=\"tdhistory320980\">csv</td><td class=\"tdhistory320980\">/S3/s3.amazonaws.com/td-usecases-data-store/retail_sample_data/FSCustomerJourney/ich_banking/ich_banking_1.csv</td></tr><tr><th class=\"tdhistory320980\" style= \"background: rgba(243, 243, 243, 0.75)\">9</th><td class=\"tdhistory320980\">9</td><td class=\"tdhistory320980\">Col9</td><td class=\"tdhistory320980\">char(34) CHARACTER SET LATIN</td><td class=\"tdhistory320980\">csv</td><td class=\"tdhistory320980\">/S3/s3.amazonaws.com/td-usecases-data-store/retail_sample_data/FSCustomerJourney/ich_banking/ich_banking_1.csv</td></tr><tr><th class=\"tdhistory320980\" style= \"background: rgba(243, 243, 243, 0.75)\">10</th><td class=\"tdhistory320980\">10</td><td class=\"tdhistory320980\">Col10</td><td class=\"tdhistory320980\">varchar(27) CHARACTER SET LATIN</td><td class=\"tdhistory320980\">csv</td><td class=\"tdhistory320980\">/S3/s3.amazonaws.com/td-usecases-data-store/retail_sample_data/FSCustomerJourney/ich_banking/ich_banking_1.csv</td></tr><tr><th class=\"tdhistory320980\" style= \"background: rgba(243, 243, 243, 0.75)\">11</th><td class=\"tdhistory320980\">11</td><td class=\"tdhistory320980\">Col11</td><td class=\"tdhistory320980\">varchar(43) CHARACTER SET LATIN</td><td class=\"tdhistory320980\">csv</td><td class=\"tdhistory320980\">/S3/s3.amazonaws.com/td-usecases-data-store/retail_sample_data/FSCustomerJourney/ich_banking/ich_banking_1.csv</td></tr><tr><th class=\"tdhistory320980\" style= \"background: rgba(243, 243, 243, 0.75)\">12</th><td class=\"tdhistory320980\">12</td><td class=\"tdhistory320980\">Col12</td><td class=\"tdhistory320980\">varchar(22) CHARACTER SET LATIN</td><td class=\"tdhistory320980\">csv</td><td class=\"tdhistory320980\">/S3/s3.amazonaws.com/td-usecases-data-store/retail_sample_data/FSCustomerJourney/ich_banking/ich_banking_1.csv</td></tr></tbody></table></div>"
      ]
     },
     "execution_count": 17,
     "metadata": {
      "application/vnd.teradata.resultset": "{\"resultSetID\":\"/home/jovyan/JupyterLabRoot/Teradata/Resultsets/2024.08.26_11.56.14.850_UTC\",\"historyID\":11330,\"chunkID\":\"00001\",\"sessionid\":\"\",\"portnum\":\"\",\"dockermode\":\"docker\",\"totalRowCount\":12,\"chunkCount\":0,\"rowLimit\":0,\"columnMetadata\":[{\"columnName\":\"ColPosition\",\"columnTypeName\":\"INTEGER\"},{\"columnNumber\":1,\"columnName\":\"Name\",\"columnTypeName\":\"VARCHAR\",\"length\":128,\"scale\":128},{\"columnNumber\":2,\"columnName\":\"Datatype\",\"columnTypeName\":\"VARCHAR\",\"length\":65,\"scale\":65},{\"columnNumber\":3,\"columnName\":\"FileType\",\"columnTypeName\":\"VARCHAR\",\"length\":128,\"scale\":128},{\"columnNumber\":4,\"columnName\":\"Location\",\"columnTypeName\":\"VARCHAR\",\"length\":2049,\"scale\":2049}]}"
     },
     "output_type": "execute_result"
    }
   ],
   "source": [
    "/* Investigate object schema */\n",
    "\n",
    "SELECT TOP 12 *\n",
    "\n",
    "FROM (\n",
    "    LOCATION = '/s3/s3.amazonaws.com/td-usecases-data-store/retail_sample_data/FSCustomerJourney/ich_banking/'\n",
    "    AUTHORIZATION = repositories.PubAuth\n",
    "    RETURNTYPE = 'NOSREAD_SCHEMA'\n",
    ") AS D\n",
    "ORDER BY 1"
   ]
  },
  {
   "cell_type": "code",
   "execution_count": 18,
   "id": "white-conditions",
   "metadata": {},
   "outputs": [
    {
     "data": {
      "text/plain": [
       "Success: 36 rows affected"
      ]
     },
     "execution_count": 18,
     "metadata": {
      "application/vnd.teradata.resultset": ""
     },
     "output_type": "execute_result"
    }
   ],
   "source": [
    "DROP TABLE demo.Banking_History_S3"
   ]
  },
  {
   "cell_type": "code",
   "execution_count": 19,
   "id": "caring-imagination",
   "metadata": {},
   "outputs": [
    {
     "data": {
      "text/plain": [
       "Success: 0 rows affected"
      ]
     },
     "execution_count": 19,
     "metadata": {
      "application/vnd.teradata.resultset": ""
     },
     "output_type": "execute_result"
    }
   ],
   "source": [
    "/* Create the Foreign Table */\n",
    "\n",
    "CREATE FOREIGN TABLE demo.Banking_History_S3,\n",
    "    EXTERNAL SECURITY repositories.PubAuth\n",
    "    (\n",
    "    customer_skey                 integer,\n",
    "    customer_identifier           varchar(26),\n",
    "    customer_cookie               varchar(50),\n",
    "    customer_online_id            varchar(3),\n",
    "    customer_offline_id           integer,\n",
    "    customer_type                 varchar(90),\n",
    "    customer_days_active          integer,\n",
    "    interaction_session_number      bigint,\n",
    "    interaction_timestamp         timestamp with time zone,\n",
    "    interaction_source            varchar(100),\n",
    "    interaction_type              varchar(100),\n",
    "    sales_channel            varchar(100))\n",
    "USING\n",
    "(\n",
    "     LOCATION  ('/s3/s3.amazonaws.com/td-usecases-data-store/retail_sample_data/FSCustomerJourney/ich_banking/')\n",
    "     MANIFEST  ('FALSE')\n",
    "     ROWFORMAT  ('{\"field_delimiter\":\",\",\"record_delimiter\":\"\\n\",\"character_set\":\"LATIN\"}')\n",
    "     STOREDAS  ('TEXTFILE')\n",
    "     HEADER  ('FALSE')\n",
    "     STRIP_EXTERIOR_SPACES  ('FALSE')\n",
    "     STRIP_ENCLOSING_CHAR  ('\"')\n",
    ")\n",
    "NO PRIMARY INDEX ;"
   ]
  },
  {
   "cell_type": "code",
   "execution_count": 20,
   "id": "enabling-source",
   "metadata": {},
   "outputs": [
    {
     "data": {
      "application/vnd.teradata.resultset": "\"Location\",\"customer_skey\",\"customer_identifier\",\"customer_cookie\",\"customer_online_id\",\"customer_offline_id\",\"customer_type\",\"customer_days_active\",\"interaction_session_number\",\"interaction_timestamp\",\"interaction_source\",\"interaction_type\",\"sales_channel\"\n\"/S3/s3.amazonaws.com/td-usecases-data-store/retail_sample_data/FSCustomerJourney/ich_banking/ich_banking_9.csv\",\"238628\",\"723942387blqopyz768264691\",\"mRejQzem5LYwyfL12shm68f-1\",\"Y\",\"545408141\",\"Gold\",\"94\",\"1789480\",\"2016-02-16 13:28:21.000000-07:00\",\"WEBSITE\",\"COMPARE\",\"-1\"\n\"/S3/s3.amazonaws.com/td-usecases-data-store/retail_sample_data/FSCustomerJourney/ich_banking/ich_banking_7.csv\",\"241125\",\"881215615vjzlqop829238201\",\"OM-7DENTnCcPO0r109jd8eL\",\"Y\",\"538408614\",\"Platinum\",\"798\",\"3719924\",\"2016-01-07 18:00:27.000000-07:00\",\"WEBSITE\",\"BROWSE\",\"-1\"\n\"/S3/s3.amazonaws.com/td-usecases-data-store/retail_sample_data/FSCustomerJourney/ich_banking/ich_banking_8.csv\",\"77310\",\"305591565fsocziw320918796\",\"ztmThhB1F4yVJz3pTXyzbvY\",\"N\",\"-1\",\"Visitor - Browse Only\",\"0\",\"5093790\",\"2016-01-12 11:30:04.000000-07:00\",\"ONSITE_AD\",\"CLICK\",\"-1\"\n\"/S3/s3.amazonaws.com/td-usecases-data-store/retail_sample_data/FSCustomerJourney/ich_banking/ich_banking_4.csv\",\"237278\",\"566319047mpylzme563266592\",\"B7BvWDimJKoTqB_sbsWH6KF\",\"Y\",\"560261797\",\"Gold\",\"1\",\"3267787\",\"2016-02-21 15:00:24.000000-07:00\",\"WEBSITE\",\"STARTS_APPLICATION\",\"-1\"\n\"/S3/s3.amazonaws.com/td-usecases-data-store/retail_sample_data/FSCustomerJourney/ich_banking/ich_banking_5.csv\",\"2135\",\"861839811lbxepnv901946824\",\"55jkmJvnwpUIMI-zDGvsSra\",\"N\",\"560839436\",\"Gold\",\"1\",\"4873958\",\"2016-03-14 07:33:14.000000-07:00\",\"WEBSITE\",\"COMPARE\",\"-1\"\n\"/S3/s3.amazonaws.com/td-usecases-data-store/retail_sample_data/FSCustomerJourney/ich_banking/ich_banking_6.csv\",\"155870\",\"994625921asfjncl350510568\",\"UbsHsl36rFIqZdJrDd9Ya-Q\",\"N\",\"-1\",\"Visitor - Browse Only\",\"0\",\"2832095\",\"2016-03-24 18:54:44.000000-07:00\",\"WEBSITE\",\"BROWSE\",\"-1\"\n\"/S3/s3.amazonaws.com/td-usecases-data-store/retail_sample_data/FSCustomerJourney/ich_banking/ich_banking_2.csv\",\"239956\",\"831898057xcrapzz439247508\",\"MWbJSSxkLUqB6VKnQC5RZr4\",\"Y\",\"404465918\",\"Gold\",\"1054\",\"1884564\",\"2016-02-03 16:54:07.000000-07:00\",\"SOR_SALES_FILE\",\"ACCOUNT_BOOKED_OFFLINE\",\"BRANCH\"\n\"/S3/s3.amazonaws.com/td-usecases-data-store/retail_sample_data/FSCustomerJourney/ich_banking/ich_banking_3.csv\",\"223375\",\"832161474ylmoyeq507735216\",\"Lhi-WtRHOzvlgmqs9fcUuPz\",\"Y\",\"-1\",\"Visitor - Loyalty\",\"0\",\"4099749\",\"2016-01-08 18:50:31.000000-07:00\",\"WEBSITE\",\"OLB\",\"-1\"\n\"/S3/s3.amazonaws.com/td-usecases-data-store/retail_sample_data/FSCustomerJourney/ich_banking/ich_banking_1.csv\",\"112110\",\"125381050fjzrpwt771657752\",\"EY4pH14_ZlZaQQKZpXdXRqo\",\"N\",\"-1\",\"Visitor - Browse Only\",\"0\",\"4308895\",\"2016-02-11 12:38:03.000000-07:00\",\"WEBSITE\",\"BROWSE\",\"-1\"\n\"/S3/s3.amazonaws.com/td-usecases-data-store/retail_sample_data/FSCustomerJourney/ich_banking/ich_banking_10.csv\",\"123501\",\"729007171htkuxfk312736187\",\"JTHwxvgAmeoXycdIJUc6Ynl\",\"N\",\"-1\",\"Visitor - Browse Only\",\"0\",\"5508838\",\"2016-02-29 18:43:33.000000-07:00\",\"WEBSITE\",\"BROWSE\",\"-1\"",
      "text/html": [
       "<div class = \"td-resultset-table-div\" style = \"max-height: 100%; overflow-y: auto\">\n",
       "      <table class=\"tdhistory990089\"><style>\n",
       "      table.tdhistory990089 { display: block !important; min-height: 294px !important; overflow: auto !important; height: 294px !important; width: 100% !important; border: 1px solid rgb(207, 207, 207) !important; border-collapse: collapse !important; ; color: var(--jp-ui-font-color1) !important; }\n",
       "      th.tdhistory990089 { border: 1px solid rgb(198,198,198) !important; border-collapse: collapse !important; ; padding: 2px 5px !important; ; font-size: 13px !important; ; text-align: center !important; white-space: normal !important; color: var(--jp-ui-font-color1) !important; }\n",
       "      th.tdhistory990089:last-child { text-align: left !important; }\n",
       "      tbody.tdhistory990089 tr:nth-child(even) { background: rgba(243, 243, 243, 0.75) !important; }\n",
       "      tbody.tdhistory990089 tr:nth-child(odd) { background: var(--jp-ui-inverse-font-color1) !important; }\n",
       "      td.tdhistory990089 { border: 1px solid rgb(207, 207, 207) !important; border-collapse: collapse !important; ; padding: 2px 5px !important; ; font-size: 13px !important; ; text-align: left !important;          white-space: nowrap !important; overflow:hidden !important; text-overflow:ellipsis !important;; }\n",
       "    </style><thead><tr style= \"background: rgba(243, 243, 243, 0.75)\"><th class=\"tdhistory990089\"></th><th class=\"tdhistory990089\">Location</th><th class=\"tdhistory990089\">customer_skey</th><th class=\"tdhistory990089\">customer_identifier</th><th class=\"tdhistory990089\">customer_cookie</th><th class=\"tdhistory990089\">customer_online_id</th><th class=\"tdhistory990089\">customer_offline_id</th><th class=\"tdhistory990089\">customer_type</th><th class=\"tdhistory990089\">customer_days_active</th><th class=\"tdhistory990089\">interaction_session_number</th><th class=\"tdhistory990089\">interaction_timestamp</th><th class=\"tdhistory990089\">interaction_source</th><th class=\"tdhistory990089\">interaction_type</th><th class=\"tdhistory990089\">sales_channel</th></tr></thead><tbody class=\"tdhistory990089 resultset-body\"><tr><th class=\"tdhistory990089\" style= \"background: rgba(243, 243, 243, 0.75)\">1</th><td class=\"tdhistory990089\">/S3/s3.amazonaws.com/td-usecases-data-store/retail_sample_data/FSCustomerJourney/ich_banking/ich_banking_9.csv</td><td class=\"tdhistory990089\">238628</td><td class=\"tdhistory990089\">723942387blqopyz768264691</td><td class=\"tdhistory990089\">mRejQzem5LYwyfL12shm68f-1</td><td class=\"tdhistory990089\">Y</td><td class=\"tdhistory990089\">545408141</td><td class=\"tdhistory990089\">Gold</td><td class=\"tdhistory990089\">94</td><td class=\"tdhistory990089\">1789480</td><td class=\"tdhistory990089\">2016-02-16 13:28:21.000000-07:00</td><td class=\"tdhistory990089\">WEBSITE</td><td class=\"tdhistory990089\">COMPARE</td><td class=\"tdhistory990089\">-1</td></tr><tr><th class=\"tdhistory990089\" style= \"background: rgba(243, 243, 243, 0.75)\">2</th><td class=\"tdhistory990089\">/S3/s3.amazonaws.com/td-usecases-data-store/retail_sample_data/FSCustomerJourney/ich_banking/ich_banking_7.csv</td><td class=\"tdhistory990089\">241125</td><td class=\"tdhistory990089\">881215615vjzlqop829238201</td><td class=\"tdhistory990089\">OM-7DENTnCcPO0r109jd8eL</td><td class=\"tdhistory990089\">Y</td><td class=\"tdhistory990089\">538408614</td><td class=\"tdhistory990089\">Platinum</td><td class=\"tdhistory990089\">798</td><td class=\"tdhistory990089\">3719924</td><td class=\"tdhistory990089\">2016-01-07 18:00:27.000000-07:00</td><td class=\"tdhistory990089\">WEBSITE</td><td class=\"tdhistory990089\">BROWSE</td><td class=\"tdhistory990089\">-1</td></tr><tr><th class=\"tdhistory990089\" style= \"background: rgba(243, 243, 243, 0.75)\">3</th><td class=\"tdhistory990089\">/S3/s3.amazonaws.com/td-usecases-data-store/retail_sample_data/FSCustomerJourney/ich_banking/ich_banking_8.csv</td><td class=\"tdhistory990089\">77310</td><td class=\"tdhistory990089\">305591565fsocziw320918796</td><td class=\"tdhistory990089\">ztmThhB1F4yVJz3pTXyzbvY</td><td class=\"tdhistory990089\">N</td><td class=\"tdhistory990089\">-1</td><td class=\"tdhistory990089\">Visitor - Browse Only</td><td class=\"tdhistory990089\">0</td><td class=\"tdhistory990089\">5093790</td><td class=\"tdhistory990089\">2016-01-12 11:30:04.000000-07:00</td><td class=\"tdhistory990089\">ONSITE_AD</td><td class=\"tdhistory990089\">CLICK</td><td class=\"tdhistory990089\">-1</td></tr><tr><th class=\"tdhistory990089\" style= \"background: rgba(243, 243, 243, 0.75)\">4</th><td class=\"tdhistory990089\">/S3/s3.amazonaws.com/td-usecases-data-store/retail_sample_data/FSCustomerJourney/ich_banking/ich_banking_4.csv</td><td class=\"tdhistory990089\">237278</td><td class=\"tdhistory990089\">566319047mpylzme563266592</td><td class=\"tdhistory990089\">B7BvWDimJKoTqB_sbsWH6KF</td><td class=\"tdhistory990089\">Y</td><td class=\"tdhistory990089\">560261797</td><td class=\"tdhistory990089\">Gold</td><td class=\"tdhistory990089\">1</td><td class=\"tdhistory990089\">3267787</td><td class=\"tdhistory990089\">2016-02-21 15:00:24.000000-07:00</td><td class=\"tdhistory990089\">WEBSITE</td><td class=\"tdhistory990089\">STARTS_APPLICATION</td><td class=\"tdhistory990089\">-1</td></tr><tr><th class=\"tdhistory990089\" style= \"background: rgba(243, 243, 243, 0.75)\">5</th><td class=\"tdhistory990089\">/S3/s3.amazonaws.com/td-usecases-data-store/retail_sample_data/FSCustomerJourney/ich_banking/ich_banking_5.csv</td><td class=\"tdhistory990089\">2135</td><td class=\"tdhistory990089\">861839811lbxepnv901946824</td><td class=\"tdhistory990089\">55jkmJvnwpUIMI-zDGvsSra</td><td class=\"tdhistory990089\">N</td><td class=\"tdhistory990089\">560839436</td><td class=\"tdhistory990089\">Gold</td><td class=\"tdhistory990089\">1</td><td class=\"tdhistory990089\">4873958</td><td class=\"tdhistory990089\">2016-03-14 07:33:14.000000-07:00</td><td class=\"tdhistory990089\">WEBSITE</td><td class=\"tdhistory990089\">COMPARE</td><td class=\"tdhistory990089\">-1</td></tr><tr><th class=\"tdhistory990089\" style= \"background: rgba(243, 243, 243, 0.75)\">6</th><td class=\"tdhistory990089\">/S3/s3.amazonaws.com/td-usecases-data-store/retail_sample_data/FSCustomerJourney/ich_banking/ich_banking_6.csv</td><td class=\"tdhistory990089\">155870</td><td class=\"tdhistory990089\">994625921asfjncl350510568</td><td class=\"tdhistory990089\">UbsHsl36rFIqZdJrDd9Ya-Q</td><td class=\"tdhistory990089\">N</td><td class=\"tdhistory990089\">-1</td><td class=\"tdhistory990089\">Visitor - Browse Only</td><td class=\"tdhistory990089\">0</td><td class=\"tdhistory990089\">2832095</td><td class=\"tdhistory990089\">2016-03-24 18:54:44.000000-07:00</td><td class=\"tdhistory990089\">WEBSITE</td><td class=\"tdhistory990089\">BROWSE</td><td class=\"tdhistory990089\">-1</td></tr><tr><th class=\"tdhistory990089\" style= \"background: rgba(243, 243, 243, 0.75)\">7</th><td class=\"tdhistory990089\">/S3/s3.amazonaws.com/td-usecases-data-store/retail_sample_data/FSCustomerJourney/ich_banking/ich_banking_2.csv</td><td class=\"tdhistory990089\">239956</td><td class=\"tdhistory990089\">831898057xcrapzz439247508</td><td class=\"tdhistory990089\">MWbJSSxkLUqB6VKnQC5RZr4</td><td class=\"tdhistory990089\">Y</td><td class=\"tdhistory990089\">404465918</td><td class=\"tdhistory990089\">Gold</td><td class=\"tdhistory990089\">1054</td><td class=\"tdhistory990089\">1884564</td><td class=\"tdhistory990089\">2016-02-03 16:54:07.000000-07:00</td><td class=\"tdhistory990089\">SOR_SALES_FILE</td><td class=\"tdhistory990089\">ACCOUNT_BOOKED_OFFLINE</td><td class=\"tdhistory990089\">BRANCH</td></tr><tr><th class=\"tdhistory990089\" style= \"background: rgba(243, 243, 243, 0.75)\">8</th><td class=\"tdhistory990089\">/S3/s3.amazonaws.com/td-usecases-data-store/retail_sample_data/FSCustomerJourney/ich_banking/ich_banking_3.csv</td><td class=\"tdhistory990089\">223375</td><td class=\"tdhistory990089\">832161474ylmoyeq507735216</td><td class=\"tdhistory990089\">Lhi-WtRHOzvlgmqs9fcUuPz</td><td class=\"tdhistory990089\">Y</td><td class=\"tdhistory990089\">-1</td><td class=\"tdhistory990089\">Visitor - Loyalty</td><td class=\"tdhistory990089\">0</td><td class=\"tdhistory990089\">4099749</td><td class=\"tdhistory990089\">2016-01-08 18:50:31.000000-07:00</td><td class=\"tdhistory990089\">WEBSITE</td><td class=\"tdhistory990089\">OLB</td><td class=\"tdhistory990089\">-1</td></tr><tr><th class=\"tdhistory990089\" style= \"background: rgba(243, 243, 243, 0.75)\">9</th><td class=\"tdhistory990089\">/S3/s3.amazonaws.com/td-usecases-data-store/retail_sample_data/FSCustomerJourney/ich_banking/ich_banking_1.csv</td><td class=\"tdhistory990089\">112110</td><td class=\"tdhistory990089\">125381050fjzrpwt771657752</td><td class=\"tdhistory990089\">EY4pH14_ZlZaQQKZpXdXRqo</td><td class=\"tdhistory990089\">N</td><td class=\"tdhistory990089\">-1</td><td class=\"tdhistory990089\">Visitor - Browse Only</td><td class=\"tdhistory990089\">0</td><td class=\"tdhistory990089\">4308895</td><td class=\"tdhistory990089\">2016-02-11 12:38:03.000000-07:00</td><td class=\"tdhistory990089\">WEBSITE</td><td class=\"tdhistory990089\">BROWSE</td><td class=\"tdhistory990089\">-1</td></tr><tr><th class=\"tdhistory990089\" style= \"background: rgba(243, 243, 243, 0.75)\">10</th><td class=\"tdhistory990089\">/S3/s3.amazonaws.com/td-usecases-data-store/retail_sample_data/FSCustomerJourney/ich_banking/ich_banking_10.csv</td><td class=\"tdhistory990089\">123501</td><td class=\"tdhistory990089\">729007171htkuxfk312736187</td><td class=\"tdhistory990089\">JTHwxvgAmeoXycdIJUc6Ynl</td><td class=\"tdhistory990089\">N</td><td class=\"tdhistory990089\">-1</td><td class=\"tdhistory990089\">Visitor - Browse Only</td><td class=\"tdhistory990089\">0</td><td class=\"tdhistory990089\">5508838</td><td class=\"tdhistory990089\">2016-02-29 18:43:33.000000-07:00</td><td class=\"tdhistory990089\">WEBSITE</td><td class=\"tdhistory990089\">BROWSE</td><td class=\"tdhistory990089\">-1</td></tr></tbody></table></div>"
      ]
     },
     "execution_count": 20,
     "metadata": {
      "application/vnd.teradata.resultset": "{\"resultSetID\":\"/home/jovyan/JupyterLabRoot/Teradata/Resultsets/2024.08.26_11.57.09.894_UTC\",\"historyID\":11333,\"chunkID\":\"00001\",\"sessionid\":\"\",\"portnum\":\"\",\"dockermode\":\"docker\",\"totalRowCount\":10,\"chunkCount\":0,\"rowLimit\":0,\"columnMetadata\":[{\"columnName\":\"Location\",\"columnTypeName\":\"VARCHAR\",\"length\":2048,\"scale\":2048},{\"columnNumber\":1,\"columnName\":\"customer_skey\",\"columnTypeName\":\"INTEGER\"},{\"columnNumber\":2,\"columnName\":\"customer_identifier\",\"columnTypeName\":\"VARCHAR\",\"length\":26,\"scale\":26},{\"columnNumber\":3,\"columnName\":\"customer_cookie\",\"columnTypeName\":\"VARCHAR\",\"length\":50,\"scale\":50},{\"columnNumber\":4,\"columnName\":\"customer_online_id\",\"columnTypeName\":\"VARCHAR\",\"length\":3,\"scale\":3},{\"columnNumber\":5,\"columnName\":\"customer_offline_id\",\"columnTypeName\":\"INTEGER\"},{\"columnNumber\":6,\"columnName\":\"customer_type\",\"columnTypeName\":\"VARCHAR\",\"length\":90,\"scale\":90},{\"columnNumber\":7,\"columnName\":\"customer_days_active\",\"columnTypeName\":\"INTEGER\"},{\"columnNumber\":8,\"columnName\":\"interaction_session_number\",\"columnTypeName\":\"BIGINT\"},{\"columnNumber\":9,\"columnName\":\"interaction_timestamp\",\"columnTypeName\":\"TIMESTAMP WITH TIME ZONE\",\"length\":6,\"scale\":6},{\"columnNumber\":10,\"columnName\":\"interaction_source\",\"columnTypeName\":\"VARCHAR\",\"length\":100,\"scale\":100},{\"columnNumber\":11,\"columnName\":\"interaction_type\",\"columnTypeName\":\"VARCHAR\",\"length\":100,\"scale\":100},{\"columnNumber\":12,\"columnName\":\"sales_channel\",\"columnTypeName\":\"VARCHAR\",\"length\":100,\"scale\":100}]}"
     },
     "output_type": "execute_result"
    }
   ],
   "source": [
    "SELECT TOP 10 * FROM demo.Banking_History_S3"
   ]
  },
  {
   "cell_type": "code",
   "execution_count": 21,
   "id": "opposed-elements",
   "metadata": {},
   "outputs": [
    {
     "data": {
      "application/vnd.teradata.resultset": "\"Count(*)\"\n\"628723\"",
      "text/html": [
       "<div class = \"td-resultset-table-div\" style = \"max-height: 100%; overflow-y: auto\">\n",
       "      <table class=\"tdhistory996139\"><style>\n",
       "      table.tdhistory996139 { display: block !important; min-height: 105px !important; overflow: auto !important; height: 105px !important; width: 100% !important; border: 1px solid rgb(207, 207, 207) !important; border-collapse: collapse !important; ; color: var(--jp-ui-font-color1) !important; }\n",
       "      th.tdhistory996139 { border: 1px solid rgb(198,198,198) !important; border-collapse: collapse !important; ; padding: 2px 5px !important; ; font-size: 13px !important; ; text-align: center !important; white-space: normal !important; color: var(--jp-ui-font-color1) !important; }\n",
       "      th.tdhistory996139:last-child { text-align: left !important; }\n",
       "      tbody.tdhistory996139 tr:nth-child(even) { background: rgba(243, 243, 243, 0.75) !important; }\n",
       "      tbody.tdhistory996139 tr:nth-child(odd) { background: var(--jp-ui-inverse-font-color1) !important; }\n",
       "      td.tdhistory996139 { border: 1px solid rgb(207, 207, 207) !important; border-collapse: collapse !important; ; padding: 2px 5px !important; ; font-size: 13px !important; ; text-align: left !important;          white-space: nowrap !important; overflow:hidden !important; text-overflow:ellipsis !important;; }\n",
       "    </style><thead><tr style= \"background: rgba(243, 243, 243, 0.75)\"><th class=\"tdhistory996139\"></th><th class=\"tdhistory996139\">Count(*)</th></tr></thead><tbody class=\"tdhistory996139 resultset-body\"><tr><th class=\"tdhistory996139\" style= \"background: rgba(243, 243, 243, 0.75)\">1</th><td class=\"tdhistory996139\">628723</td></tr></tbody></table></div>"
      ]
     },
     "execution_count": 21,
     "metadata": {
      "application/vnd.teradata.resultset": "{\"resultSetID\":\"/home/jovyan/JupyterLabRoot/Teradata/Resultsets/2024.08.26_11.57.10.499_UTC\",\"historyID\":11334,\"chunkID\":\"00001\",\"sessionid\":\"\",\"portnum\":\"\",\"dockermode\":\"docker\",\"totalRowCount\":1,\"chunkCount\":0,\"rowLimit\":0,\"columnMetadata\":[{\"columnName\":\"Count(*)\",\"columnTypeName\":\"INTEGER\"}]}"
     },
     "output_type": "execute_result"
    }
   ],
   "source": [
    "SELECT COUNT(*) FROM demo.Banking_History_S3"
   ]
  },
  {
   "cell_type": "markdown",
   "id": "divine-guest",
   "metadata": {},
   "source": [
    "<hr>\n",
    "<p style = 'font-size:28px;font-family:Arial;color:#00233C'><b>Demonstration 3 - Join data across storage types</b></p>\n",
    "\n",
    "<table style = 'width:100%;table-layout:fixed;font-size:16px;font-family:Arial;color:#00233C'>\n",
    "    <tr style = 'text-align:center'>\n",
    "        <td><b>Customers_BFS, Accounts_Mapping_BFS</b>\n",
    "        <br>Two dimension tables, stored in local BFS Storage on the Primary Cluster.</td>\n",
    "                <td><b>Txn_History_OFS</b>\n",
    "            <br>A large fact table with financial transaction detail information.  Data is stored in the Vantage Object Filesystem.</td>      \n",
    "        <td><b>Banking_History_S3</b>\n",
    "            <br>An extremely large external table containing Banking History. Data is stored as-is in S3.</td>\n",
    "    </tr>\n",
    "    </table>\n",
    "    <table style = 'width:100%;table-layout:fixed;font-size:16px;font-family:Arial;color:#00233C'>\n",
    "    <tr>\n",
    "        <td><img src = 'images/EBS_Tables.png'></td>\n",
    "        <td><img src = 'images/OFS_Tables.png'></td>\n",
    "        <td><img src = 'images/S3_Tables.png'></td>\n",
    "    </tr>\n",
    "</table>"
   ]
  },
  {
   "cell_type": "code",
   "execution_count": 23,
   "id": "better-participation",
   "metadata": {},
   "outputs": [
    {
     "data": {
      "application/vnd.teradata.resultset": "\"amount\",\"firstname\",\"lastname\"\n\"2.08105156e+06\",\"Danielle\",\"Ahmed\"\n\"412668.39\",\"Isabella\",\"Pope\"\n\"127564.33\",\"Phoebe\",\"Jenkins\"\n\"1e+07\",\"Amelie\",\"Wong\"\n\"145035.4\",\"Grace\",\"Forster\"\n\"1.18672539e+06\",\"Caitlin\",\"Gordon\"\n\"2.29933046e+06\",\"Jacob\",\"Wilkins\"\n\"432958.83\",\"Megan\",\"Briggs\"\n\"5.09694674e+06\",\"Edward\",\"Weston\"\n\"829012.31\",\"Benjamin\",\"Godfrey\"",
      "text/html": [
       "<div class = \"td-resultset-table-div\" style = \"max-height: 100%; overflow-y: auto\">\n",
       "      <table class=\"tdhistory353169\"><style>\n",
       "      table.tdhistory353169 { display: block !important; min-height: 294px !important; overflow: auto !important; height: 294px !important; width: 100% !important; border: 1px solid rgb(207, 207, 207) !important; border-collapse: collapse !important; ; color: var(--jp-ui-font-color1) !important; }\n",
       "      th.tdhistory353169 { border: 1px solid rgb(198,198,198) !important; border-collapse: collapse !important; ; padding: 2px 5px !important; ; font-size: 13px !important; ; text-align: center !important; white-space: normal !important; color: var(--jp-ui-font-color1) !important; }\n",
       "      th.tdhistory353169:last-child { text-align: left !important; }\n",
       "      tbody.tdhistory353169 tr:nth-child(even) { background: rgba(243, 243, 243, 0.75) !important; }\n",
       "      tbody.tdhistory353169 tr:nth-child(odd) { background: var(--jp-ui-inverse-font-color1) !important; }\n",
       "      td.tdhistory353169 { border: 1px solid rgb(207, 207, 207) !important; border-collapse: collapse !important; ; padding: 2px 5px !important; ; font-size: 13px !important; ; text-align: left !important;          white-space: nowrap !important; overflow:hidden !important; text-overflow:ellipsis !important;; }\n",
       "    </style><thead><tr style= \"background: rgba(243, 243, 243, 0.75)\"><th class=\"tdhistory353169\"></th><th class=\"tdhistory353169\">amount</th><th class=\"tdhistory353169\">firstname</th><th class=\"tdhistory353169\">lastname</th></tr></thead><tbody class=\"tdhistory353169 resultset-body\"><tr><th class=\"tdhistory353169\" style= \"background: rgba(243, 243, 243, 0.75)\">1</th><td class=\"tdhistory353169\">2.08105156e+06</td><td class=\"tdhistory353169\">Danielle</td><td class=\"tdhistory353169\">Ahmed</td></tr><tr><th class=\"tdhistory353169\" style= \"background: rgba(243, 243, 243, 0.75)\">2</th><td class=\"tdhistory353169\">412668.39</td><td class=\"tdhistory353169\">Isabella</td><td class=\"tdhistory353169\">Pope</td></tr><tr><th class=\"tdhistory353169\" style= \"background: rgba(243, 243, 243, 0.75)\">3</th><td class=\"tdhistory353169\">127564.33</td><td class=\"tdhistory353169\">Phoebe</td><td class=\"tdhistory353169\">Jenkins</td></tr><tr><th class=\"tdhistory353169\" style= \"background: rgba(243, 243, 243, 0.75)\">4</th><td class=\"tdhistory353169\">1e+07</td><td class=\"tdhistory353169\">Amelie</td><td class=\"tdhistory353169\">Wong</td></tr><tr><th class=\"tdhistory353169\" style= \"background: rgba(243, 243, 243, 0.75)\">5</th><td class=\"tdhistory353169\">145035.4</td><td class=\"tdhistory353169\">Grace</td><td class=\"tdhistory353169\">Forster</td></tr><tr><th class=\"tdhistory353169\" style= \"background: rgba(243, 243, 243, 0.75)\">6</th><td class=\"tdhistory353169\">1.18672539e+06</td><td class=\"tdhistory353169\">Caitlin</td><td class=\"tdhistory353169\">Gordon</td></tr><tr><th class=\"tdhistory353169\" style= \"background: rgba(243, 243, 243, 0.75)\">7</th><td class=\"tdhistory353169\">2.29933046e+06</td><td class=\"tdhistory353169\">Jacob</td><td class=\"tdhistory353169\">Wilkins</td></tr><tr><th class=\"tdhistory353169\" style= \"background: rgba(243, 243, 243, 0.75)\">8</th><td class=\"tdhistory353169\">432958.83</td><td class=\"tdhistory353169\">Megan</td><td class=\"tdhistory353169\">Briggs</td></tr><tr><th class=\"tdhistory353169\" style= \"background: rgba(243, 243, 243, 0.75)\">9</th><td class=\"tdhistory353169\">5.09694674e+06</td><td class=\"tdhistory353169\">Edward</td><td class=\"tdhistory353169\">Weston</td></tr><tr><th class=\"tdhistory353169\" style= \"background: rgba(243, 243, 243, 0.75)\">10</th><td class=\"tdhistory353169\">829012.31</td><td class=\"tdhistory353169\">Benjamin</td><td class=\"tdhistory353169\">Godfrey</td></tr></tbody></table></div>"
      ]
     },
     "execution_count": 23,
     "metadata": {
      "application/vnd.teradata.resultset": "{\"resultSetID\":\"/home/jovyan/JupyterLabRoot/Teradata/Resultsets/2024.08.26_12.04.06.022_UTC\",\"historyID\":11336,\"chunkID\":\"00001\",\"sessionid\":\"\",\"portnum\":\"\",\"dockermode\":\"docker\",\"totalRowCount\":10,\"chunkCount\":0,\"rowLimit\":0,\"columnMetadata\":[{\"columnName\":\"amount\",\"columnTypeName\":\"FLOAT\"},{\"columnNumber\":1,\"columnName\":\"firstname\",\"columnTypeName\":\"VARCHAR\",\"length\":50,\"scale\":50},{\"columnNumber\":2,\"columnName\":\"lastname\",\"columnTypeName\":\"VARCHAR\",\"length\":90,\"scale\":90}]}"
     },
     "output_type": "execute_result"
    }
   ],
   "source": [
    "/* Find banking users who have had a fradulent event in their cashapp account*/\n",
    "\n",
    "SELECT TOP 10\n",
    "\n",
    "txn.amount,\n",
    "c.firstname,\n",
    "c.lastname\n",
    "\n",
    "\n",
    "FROM demo.txn_history_ofs txn, demo.Customers_BFS c, demo.Accounts_Mapping_BFS am\n",
    "\n",
    "\n",
    "WHERE txn.isFraud = 1 AND\n",
    "    txn.nameOrig= am.nameOrig AND\n",
    "    am.customer_identifier = c.customer_identifier \n",
    "\n",
    "GROUP BY 1,2,3"
   ]
  },
  {
   "cell_type": "markdown",
   "id": "actual-volleyball",
   "metadata": {},
   "source": [
    "<hr>\n",
    "\n",
    "<b style = 'font-size:18px;font-family:Arial;color:#00233C'>Bringing it all together with ClearScape Analytics Functions</b>\n",
    "\n",
    "<p style = 'font-size:16px;font-family:Arial;color:#00233C'>This query will add two new elements to the analysis; adding in the large fact table stored natively in S3, and wrapping everything in a multi-row pattern analysis function named nPath. The goal of this analysis is identifying offline behavioral patterns leading to \"Fraud\" - a potentially valuable analysis that can directly feed more accurate Fraud prediction or early identification.</p>\n",
    "\n",
    "\n",
    "<table style = 'width:100%;table-layout:fixed;font-size:16px;font-family:Arial;color:#00233C'>\n",
    "    <tr style = 'text-align:top'>\n",
    "        <td style = 'width:30%'>\n",
    "        <ol>\n",
    "            <br>\n",
    "            <li>Use the Join conditions above to identify Fraud in mobile app</li>\n",
    "            <br>\n",
    "            <li>Join the fradulent users to their offline identities</li>\n",
    "            <br>\n",
    "            <li>Pass this data to Teradata nPath function to idenfify offline bevaviors</li>\n",
    "            <br>\n",
    "        </ol></td>\n",
    "        <td><img src = 'images/Life_Of_Query.png'></td>\n",
    "    </tr>\n",
    "</table>"
   ]
  },
  {
   "cell_type": "code",
   "execution_count": 24,
   "id": "consecutive-restoration",
   "metadata": {},
   "outputs": [
    {
     "data": {
      "application/vnd.teradata.resultset": "\"start_time\",\"customer_identifier\",\"firstname\",\"lastname\",\"fraud_amount\",\"path\",\"interaction_session_number\"\n\"2016-02-16 09:08:34.000000-07:00\",\"332124954upbhkhh348550935\",\"Megan\",\"Briggs\",\"432958.83\",\"[BROWSE, BROWSE, BROWSE, BROWSE, BROWSE, BROWSE, BROWSE, BROWSE, BROWSE, BROWSE, BROWSE, BROWSE, BROWSE, BROWSE, BROWSE, BROWSE, BROWSE, BROWSE, BROWSE, BROWSE, BROWSE, BROWSE, BROWSE, BROWSE, BROWSE, BROWSE, BROWSE, BROWSE, BROWSE, BROWSE, BROWSE, BROWSE, BROWSE, BROWSE, BROWSE, BROWSE, STARTS_APPLICATION, STARTS_APPLICATION, STARTS_APPLICATION, STARTS_APPLICATION, STARTS_APPLICATION, STARTS_APPLICATION, STARTS_APPLICATION, STARTS_APPLICATION, STARTS_APPLICATION, STARTS_APPLICATION, STARTS_APPLICATION, STARTS_APPLICATION, BROWSE, BROWSE, BROWSE, BROWSE, BROWSE, BROWSE, BROWSE, BROWSE, BROWSE, BROWSE, BROWSE, BROWSE, BROWSE, BROWSE, BROWSE, BROWSE, BROWSE, BROWSE, BROWSE, BROWSE, BROWSE, BROWSE, BROWSE, BROWSE]\",\"7457497\"\n\"2016-02-22 15:02:03.000000-07:00\",\"228714836dfdzuow919946555\",\"Phoebe\",\"Jenkins\",\"127564.33\",\"[COMPARE, COMPARE, COMPARE, COMPARE, COMPARE, COMPARE, COMPARE, COMPARE, COMPARE, COMPARE, COMPARE, COMPARE, COMPARE, COMPARE, COMPARE, COMPARE, COMPARE, COMPARE, COMPARE, COMPARE, COMPARE, COMPARE, COMPARE, COMPARE, COMPARE, COMPARE, COMPARE, COMPARE, COMPARE, COMPARE, COMPARE, COMPARE, COMPARE, COMPARE, COMPARE, COMPARE]\",\"3639591\"\n\"2016-02-18 13:33:36.000000-07:00\",\"673548669nvuurrm432443654\",\"Danielle\",\"Ahmed\",\"2.08105156e+06\",\"[OLB, OLB, OLB, OLB, OLB, OLB, OLB, OLB, OLB, OLB, OLB, OLB, STARTS_APPLICATION, STARTS_APPLICATION, STARTS_APPLICATION, STARTS_APPLICATION, STARTS_APPLICATION, STARTS_APPLICATION, STARTS_APPLICATION, STARTS_APPLICATION, STARTS_APPLICATION, STARTS_APPLICATION, STARTS_APPLICATION, STARTS_APPLICATION, BROWSE, BROWSE, BROWSE, BROWSE, BROWSE, BROWSE, BROWSE, BROWSE, BROWSE, BROWSE, BROWSE, BROWSE, BROWSE, BROWSE, BROWSE, BROWSE, BROWSE, BROWSE, BROWSE, BROWSE, BROWSE, BROWSE, BROWSE, BROWSE, OLB, OLB, OLB, OLB, OLB, OLB, OLB, OLB, OLB, OLB, OLB, OLB, OLB, OLB, OLB, OLB, OLB, OLB, OLB, OLB, OLB, OLB, OLB, OLB, BROWSE, BROWSE, BROWSE, BROWSE, BROWSE, BROWSE, BROWSE, BROWSE, BROWSE, BROWSE, BROWSE, BROWSE, OLB, OLB, OLB, OLB, OLB, OLB, OLB, OLB, OLB, OLB, OLB, OLB, BROWSE, BROWSE, BROWSE, BROWSE, BROWSE, BROWSE, BROWSE, BROWSE, BROWSE, BROWSE, BROWSE, BROWSE, BROWSE, BROWSE, BROWSE, BROWSE, BROWSE, BROWSE, BROWSE, BROWSE, BROWSE, BROWSE, BROWSE, BROWSE, OLB, OLB, OLB, OLB, OLB, OLB, OLB, OLB, OLB, OLB, OLB, OLB, BROWSE, BROWSE, BROWSE, BROWSE, BROWSE, BROWSE, BROWSE, BROWSE, BROWSE, BROWSE, BROWSE, BROWSE, BROWSE, BROWSE, BROWSE, BROWSE, BROWSE, BROWSE, BROWSE, BROWSE, BROWSE, BROWSE, BROWSE, BROWSE, OLB, OLB, OLB, OLB, OLB, OLB, OLB, OLB, OLB, OLB, OLB, OLB, STARTS_APPLICATION, STARTS_APPLICATION, STARTS_APPLICATION, STARTS_APPLICATION, STARTS_APPLICATION, STARTS_APPLICATION, STARTS_APPLICATION, STARTS_APPLICATION, STARTS_APPLICATION, STARTS_APPLICATION, STARTS_APPLICATION, STARTS_APPLICATION, BROWSE, BROWSE, BROWSE, BROWSE, BROWSE, BROWSE, BROWSE, BROWSE, BROWSE, BROWSE, BROWSE, BROWSE, BROWSE, BROWSE, BROWSE, BROWSE, BROWSE, BROWSE, BROWSE, BROWSE, BROWSE, BROWSE, BROWSE, BROWSE, BROWSE, BROWSE, BROWSE, BROWSE, BROWSE, BROWSE, BROWSE, BROWSE, BROWSE, BROWSE, BROWSE, BROWSE, BROWSE, BROWSE, BROWSE, BROWSE, BROWSE, BROWSE, BROWSE, BROWSE, BROWSE, BROWSE, BROWSE, BROWSE, BROWSE, BROWSE, BROWSE, BROWSE, BROWSE, BROWSE, BROWSE, BROWSE, BROWSE, BROWSE, BROWSE, BROWSE, BROWSE, BROWSE, BROWSE, BROWSE, BROWSE, BROWSE, BROWSE, BROWSE, BROWSE, BROWSE, BROWSE, BROWSE, BROWSE, BROWSE, BROWSE, BROWSE, BROWSE, BROWSE, BROWSE, BROWSE, BROWSE, BROWSE, BROWSE, BROWSE, STARTS_APPLICATION, STARTS_APPLICATION, STARTS_APPLICATION, STARTS_APPLICATION, STARTS_APPLICATION, STARTS_APPLICATION, STARTS_APPLICATION, STARTS_APPLICATION, STARTS_APPLICATION, STARTS_APPLICATION, STARTS_APPLICATION, STARTS_APPLICATION, MORTGAGE_CALC, MORTGAGE_CALC, MORTGAGE_CALC, MORTGAGE_CALC, MORTGAGE_CALC, MORTGAGE_CALC, MORTGAGE_CALC, MORTGAGE_CALC, MORTGAGE_CALC, MORTGAGE_CALC, MORTGAGE_CALC, MORTGAGE_CALC, BROWSE, BROWSE, BROWSE, BROWSE, BROWSE, BROWSE, BROWSE, BROWSE, BROWSE, BROWSE, BROWSE, BROWSE, OLB, OLB, OLB, OLB, OLB, OLB, OLB, OLB, OLB, OLB, OLB, OLB, OLB, OLB, OLB, OLB, OLB, OLB, OLB, OLB, OLB, OLB, OLB, OLB, OLB, OLB, OLB, OLB, OLB, OLB, OLB, OLB, OLB, OLB, OLB, OLB, STARTS_APPLICATION, STARTS_APPLICATION, STARTS_APPLICATION, STARTS_APPLICATION, STARTS_APPLICATION, STARTS_APPLICATION, STARTS_APPLICATION, STARTS_APPLICATION, STARTS_APPLICATION, STARTS_APPLICATION, STARTS_APPLICATION, STARTS_APPLICATION, OLB, OLB, OLB, OLB, OLB, OLB, OLB, OLB, OLB, OLB, OLB, OLB, STARTS_APPLICATION, STARTS_APPLICATION, STARTS_APPLICATION, STARTS_APPLICATION, STARTS_APPLICATION, STARTS_APPLICATION, STARTS_APPLICATION, STARTS_APPLICATION, STARTS_APPLICATION, STARTS_APPLICATION, STARTS_APPLICATION, STARTS_APPLICATION, COMPARE, COMPARE, COMPARE, COMPARE, COMPARE, COMPARE, COMPARE, COMPARE, COMPARE, COMPARE, COMPARE, COMPARE, COMPLETE_APPLICATION, COMPLETE_APPLICATION, COMPLETE_APPLICATION, COMPLETE_APPLICATION, COMPLETE_APPLICATION, COMPLETE_APPLICATION, COMPLETE_APPLICATION, COMPLETE_APPLICATION, COMPLETE_APPLICATION, COMPLETE_APPLICATION, COMPLETE_APPLICATION, COMPLETE_APPLICATION, ACCOUNT_BOOKED_ONLINE, ACCOUNT_BOOKED_ONLINE, ACCOUNT_BOOKED_ONLINE, ACCOUNT_BOOKED_ONLINE, ACCOUNT_BOOKED_ONLINE, ACCOUNT_BOOKED_ONLINE, ACCOUNT_BOOKED_ONLINE, ACCOUNT_BOOKED_ONLINE, ACCOUNT_BOOKED_ONLINE, ACCOUNT_BOOKED_ONLINE, ACCOUNT_BOOKED_ONLINE, ACCOUNT_BOOKED_ONLINE, COMPLETE_APPLICATION, COMPLETE_APPLICATION, COMPLETE_APPLICATION, COMPLETE_APPLICATION, COMPLETE_APPLICATION, COMPLETE_APPLICATION, COMPLETE_APPLICATION, COMPLETE_APPLICATION, COMPLETE_APPLICATION, COMPLETE_APPLICATION, COMPLETE_APPLICATION, COMPLETE_APPLICATION, FEE_REVERSAL, FEE_REVERSAL, FEE_REVERSAL, FEE_REVERSAL, FEE_REVERSAL, FEE_REVERSAL, FEE_REVERSAL, FEE_REVERSAL, FEE_REVERSAL, FEE_REVERSAL, FEE_REVERSAL, FEE_REVERSAL, LINK_EXTERNAL_ACCOUNT, LINK_EXTERNAL_ACCOUNT, LINK_EXTERNAL_ACCOUNT, LINK_EXTERNAL_ACCOUNT, LINK_EXTERNAL_ACCOUNT, LINK_EXTERNAL_ACCOUNT, LINK_EXTERNAL_ACCOUNT, LINK_EXTERNAL_ACCOUNT, LINK_EXTERNAL_ACCOUNT, LINK_EXTERNAL_ACCOUNT, LINK_EXTERNAL_ACCOUNT, LINK_EXTERNAL_ACCOUNT, BALANCE_TRANSFER, BALANCE_TRANSFER, BALANCE_TRANSFER, BALANCE_TRANSFER, BALANCE_TRANSFER, BALANCE_TRANSFER, BALANCE_TRANSFER, BALANCE_TRANSFER, BALANCE_TRANSFER, BALANCE_TRANSFER, BALANCE_TRANSFER, BALANCE_TRANSFER, ACCOUNT_CLOSED, ACCOUNT_CLOSED, ACCOUNT_CLOSED, ACCOUNT_CLOSED, ACCOUNT_CLOSED, ACCOUNT_CLOSED, ACCOUNT_CLOSED, ACCOUNT_CLOSED, ACCOUNT_CLOSED, ACCOUNT_CLOSED, ACCOUNT_CLOSED, ACCOUNT_CLOSED]\",\"2160216\"\n\"2016-02-16 16:22:58.000000-07:00\",\"382199496nujsfqt379492272\",\"Caitlin\",\"Gordon\",\"1.18672539e+06\",\"[BROWSE, BROWSE, BROWSE, BROWSE, BROWSE, BROWSE]\",\"7280496\"\n\"2016-03-06 16:32:33.000000-07:00\",\"315616825hhozhjg829286508\",\"Benjamin\",\"Godfrey\",\"829012.31\",\"[BROWSE, BROWSE, BROWSE, BROWSE, BROWSE, BROWSE, BROWSE, BROWSE, BROWSE, BROWSE, BROWSE, BROWSE, STARTS_APPLICATION, STARTS_APPLICATION, STARTS_APPLICATION, STARTS_APPLICATION, STARTS_APPLICATION, STARTS_APPLICATION, STARTS_APPLICATION, STARTS_APPLICATION, STARTS_APPLICATION, STARTS_APPLICATION, STARTS_APPLICATION, STARTS_APPLICATION, COMPARE, COMPARE, COMPARE, COMPARE, COMPARE, COMPARE, COMPARE, COMPARE, COMPARE, COMPARE, COMPARE, COMPARE, STARTS_APPLICATION, STARTS_APPLICATION, STARTS_APPLICATION, STARTS_APPLICATION, STARTS_APPLICATION, STARTS_APPLICATION, STARTS_APPLICATION, STARTS_APPLICATION, STARTS_APPLICATION, STARTS_APPLICATION, STARTS_APPLICATION, STARTS_APPLICATION, COMPLETE_APPLICATION, COMPLETE_APPLICATION, COMPLETE_APPLICATION, COMPLETE_APPLICATION, COMPLETE_APPLICATION, COMPLETE_APPLICATION, COMPLETE_APPLICATION, COMPLETE_APPLICATION, COMPLETE_APPLICATION, COMPLETE_APPLICATION, COMPLETE_APPLICATION, COMPLETE_APPLICATION, ACCOUNT_BOOKED_ONLINE, ACCOUNT_BOOKED_ONLINE, ACCOUNT_BOOKED_ONLINE, ACCOUNT_BOOKED_ONLINE, ACCOUNT_BOOKED_ONLINE, ACCOUNT_BOOKED_ONLINE, ACCOUNT_BOOKED_ONLINE, ACCOUNT_BOOKED_ONLINE, ACCOUNT_BOOKED_ONLINE, ACCOUNT_BOOKED_ONLINE, ACCOUNT_BOOKED_ONLINE, ACCOUNT_BOOKED_ONLINE, COMPLETE_APPLICATION, COMPLETE_APPLICATION, COMPLETE_APPLICATION, COMPLETE_APPLICATION, COMPLETE_APPLICATION, COMPLETE_APPLICATION, COMPLETE_APPLICATION, COMPLETE_APPLICATION, COMPLETE_APPLICATION, COMPLETE_APPLICATION, COMPLETE_APPLICATION, COMPLETE_APPLICATION]\",\"2245141\"\n\"2016-02-16 14:24:13.000000-07:00\",\"382199496nujsfqt379492272\",\"Caitlin\",\"Gordon\",\"1.18672539e+06\",\"[STARTS_APPLICATION, STARTS_APPLICATION, STARTS_APPLICATION, STARTS_APPLICATION, STARTS_APPLICATION, STARTS_APPLICATION, STARTS_APPLICATION, STARTS_APPLICATION, STARTS_APPLICATION, STARTS_APPLICATION, STARTS_APPLICATION, STARTS_APPLICATION, COMPLETE_APPLICATION, COMPLETE_APPLICATION, COMPLETE_APPLICATION, COMPLETE_APPLICATION, COMPLETE_APPLICATION, COMPLETE_APPLICATION, COMPLETE_APPLICATION, COMPLETE_APPLICATION, COMPLETE_APPLICATION, COMPLETE_APPLICATION, COMPLETE_APPLICATION, COMPLETE_APPLICATION]\",\"7210517\"\n\"2016-02-23 13:53:20.000000-07:00\",\"723346324bqtywyv557899717\",\"Jacob\",\"Wilkins\",\"2.29933046e+06\",\"[STARTS_APPLICATION, STARTS_APPLICATION, STARTS_APPLICATION, STARTS_APPLICATION, STARTS_APPLICATION, STARTS_APPLICATION, STARTS_APPLICATION, STARTS_APPLICATION, STARTS_APPLICATION, STARTS_APPLICATION, STARTS_APPLICATION, STARTS_APPLICATION, BROWSE, BROWSE, BROWSE, BROWSE, BROWSE, BROWSE, BROWSE, BROWSE, BROWSE, BROWSE, BROWSE, BROWSE]\",\"3239057\"\n\"2016-02-13 11:39:23.000000-07:00\",\"550877512qiultoa660406456\",\"Amelie\",\"Wong\",\"1e+07\",\"[BROWSE, BROWSE, BROWSE, BROWSE, BROWSE, BROWSE, COMPARE, COMPARE, COMPARE, COMPARE, COMPARE, COMPARE, STARTS_APPLICATION, STARTS_APPLICATION, STARTS_APPLICATION, STARTS_APPLICATION, STARTS_APPLICATION, STARTS_APPLICATION]\",\"5335956\"\n\"2016-02-22 16:30:38.000000-07:00\",\"228714836dfdzuow919946555\",\"Phoebe\",\"Jenkins\",\"127564.33\",\"[COMPARE, COMPARE, COMPARE, COMPARE, COMPARE, COMPARE, COMPARE, COMPARE, COMPARE, COMPARE, COMPARE, COMPARE, COMPARE, COMPARE, COMPARE, COMPARE, COMPARE, COMPARE, COMPARE, COMPARE, COMPARE, COMPARE, COMPARE, COMPARE, COMPARE, COMPARE, COMPARE, COMPARE, COMPARE, COMPARE, COMPARE, COMPARE, COMPARE, COMPARE, COMPARE, COMPARE]\",\"3688318\"\n\"2016-02-19 16:44:37.000000-07:00\",\"501031717hyvpzwr150436516\",\"Edward\",\"Weston\",\"5.09694674e+06\",\"[BROWSE, BROWSE, BROWSE, BROWSE, BROWSE, BROWSE, BROWSE, BROWSE, BROWSE, BROWSE, BROWSE, BROWSE, BROWSE, BROWSE, BROWSE, BROWSE, BROWSE, BROWSE, STARTS_APPLICATION, STARTS_APPLICATION, STARTS_APPLICATION, STARTS_APPLICATION, STARTS_APPLICATION, STARTS_APPLICATION]\",\"2806884\"\n\"2016-02-21 18:24:51.000000-07:00\",\"228714836dfdzuow919946555\",\"Phoebe\",\"Jenkins\",\"127564.33\",\"[BROWSE, BROWSE, BROWSE, BROWSE, BROWSE, BROWSE, BROWSE, BROWSE, BROWSE, BROWSE, BROWSE, BROWSE, STARTS_APPLICATION, STARTS_APPLICATION, STARTS_APPLICATION, STARTS_APPLICATION, STARTS_APPLICATION, STARTS_APPLICATION, STARTS_APPLICATION, STARTS_APPLICATION, STARTS_APPLICATION, STARTS_APPLICATION, STARTS_APPLICATION, STARTS_APPLICATION]\",\"3363365\"\n\"2016-03-13 03:41:47.000000-07:00\",\"990829121nztvwns574946555\",\"Isabella\",\"Pope\",\"412668.39\",\"[COMPARE, COMPARE, COMPARE, COMPARE, COMPARE, COMPARE, BROWSE, BROWSE, BROWSE, BROWSE, BROWSE, BROWSE, BROWSE, BROWSE, BROWSE, BROWSE, BROWSE, BROWSE, BROWSE, BROWSE, BROWSE, BROWSE, BROWSE, BROWSE, BROWSE, BROWSE, BROWSE, BROWSE, BROWSE, BROWSE, STARTS_APPLICATION, STARTS_APPLICATION, STARTS_APPLICATION, STARTS_APPLICATION, STARTS_APPLICATION, STARTS_APPLICATION, BROWSE, BROWSE, BROWSE, BROWSE, BROWSE, BROWSE, BROWSE, BROWSE, BROWSE, BROWSE, BROWSE, BROWSE, BROWSE, BROWSE, BROWSE, BROWSE, BROWSE, BROWSE, STARTS_APPLICATION, STARTS_APPLICATION, STARTS_APPLICATION, STARTS_APPLICATION, STARTS_APPLICATION, STARTS_APPLICATION]\",\"4553859\"\n\"2016-02-17 17:58:42.000000-07:00\",\"673548669nvuurrm432443654\",\"Danielle\",\"Ahmed\",\"2.08105156e+06\",\"[BROWSE, BROWSE, BROWSE, BROWSE, BROWSE, BROWSE, BROWSE, BROWSE, BROWSE, BROWSE, BROWSE, BROWSE, OLB, OLB, OLB, OLB, OLB, OLB, OLB, OLB, OLB, OLB, OLB, OLB, OLB, OLB, OLB, OLB, OLB, OLB, OLB, OLB, OLB, OLB, OLB, OLB]\",\"1917281\"\n\"2016-02-07 14:47:45.000000-07:00\",\"554873258gwonmzq747017981\",\"Grace\",\"Forster\",\"145035.4\",\"[STARTS_APPLICATION, STARTS_APPLICATION, STARTS_APPLICATION, STARTS_APPLICATION, STARTS_APPLICATION, STARTS_APPLICATION, STARTS_APPLICATION, STARTS_APPLICATION, STARTS_APPLICATION, STARTS_APPLICATION, STARTS_APPLICATION, STARTS_APPLICATION]\",\"3267888\"",
      "text/html": [
       "<div class = \"td-resultset-table-div\" style = \"max-height: 100%; overflow-y: auto\">\n",
       "      <table class=\"tdhistory156909\"><style>\n",
       "      table.tdhistory156909 { display: block !important; min-height: 378px !important; overflow: auto !important; height: 378px !important; width: 100% !important; border: 1px solid rgb(207, 207, 207) !important; border-collapse: collapse !important; ; color: var(--jp-ui-font-color1) !important; }\n",
       "      th.tdhistory156909 { border: 1px solid rgb(198,198,198) !important; border-collapse: collapse !important; ; padding: 2px 5px !important; ; font-size: 13px !important; ; text-align: center !important; white-space: normal !important; color: var(--jp-ui-font-color1) !important; }\n",
       "      th.tdhistory156909:last-child { text-align: left !important; }\n",
       "      tbody.tdhistory156909 tr:nth-child(even) { background: rgba(243, 243, 243, 0.75) !important; }\n",
       "      tbody.tdhistory156909 tr:nth-child(odd) { background: var(--jp-ui-inverse-font-color1) !important; }\n",
       "      td.tdhistory156909 { border: 1px solid rgb(207, 207, 207) !important; border-collapse: collapse !important; ; padding: 2px 5px !important; ; font-size: 13px !important; ; text-align: left !important;          white-space: nowrap !important; overflow:hidden !important; text-overflow:ellipsis !important;; }\n",
       "    </style><thead><tr style= \"background: rgba(243, 243, 243, 0.75)\"><th class=\"tdhistory156909\"></th><th class=\"tdhistory156909\">start_time</th><th class=\"tdhistory156909\">customer_identifier</th><th class=\"tdhistory156909\">firstname</th><th class=\"tdhistory156909\">lastname</th><th class=\"tdhistory156909\">fraud_amount</th><th class=\"tdhistory156909\">path</th><th class=\"tdhistory156909\">interaction_session_number</th></tr></thead><tbody class=\"tdhistory156909 resultset-body\"><tr><th class=\"tdhistory156909\" style= \"background: rgba(243, 243, 243, 0.75)\">1</th><td class=\"tdhistory156909\">2016-02-16 09:08:34.000000-07:00</td><td class=\"tdhistory156909\">332124954upbhkhh348550935</td><td class=\"tdhistory156909\">Megan</td><td class=\"tdhistory156909\">Briggs</td><td class=\"tdhistory156909\">432958.83</td><td class=\"tdhistory156909\">[BROWSE, BROWSE, BROWSE, BROWSE, BROWSE, BROWSE, BROWSE, BROWSE, BROWSE, BROWSE, BROWSE, BROWSE, BROWSE, BROWSE, BROWSE, BROWSE, BROWSE, BROWSE, BROWSE, BROWSE, BROWSE, BROWSE, BROWSE, BROWSE, BROWSE, BROWSE, BROWSE, BROWSE, BROWSE, BROWSE, BROWSE, BROWSE, BROWSE, BROWSE, BROWSE, BROWSE, STARTS_APPLICATION, STARTS_APPLICATION, STARTS_APPLICATION, STARTS_APPLICATION, STARTS_APPLICATION, STARTS_APPLICATION, STARTS_APPLICATION, STARTS_APPLICATION, STARTS_APPLICATION, STARTS_APPLICATION, STARTS_APPLICATION, STARTS_APPLICATION, BROWSE, BROWSE, BROWSE, BROWSE, BROWSE, BROWSE, BROWSE, BROWSE, BROWSE, BROWSE, BROWSE, BROWSE, BROWSE, BROWSE, BROWSE, BROWSE, BROWSE, BROWSE, BROWSE, BROWSE, BROWSE, BROWSE, BROWSE, BROWSE]</td><td class=\"tdhistory156909\">7457497</td></tr><tr><th class=\"tdhistory156909\" style= \"background: rgba(243, 243, 243, 0.75)\">2</th><td class=\"tdhistory156909\">2016-02-22 15:02:03.000000-07:00</td><td class=\"tdhistory156909\">228714836dfdzuow919946555</td><td class=\"tdhistory156909\">Phoebe</td><td class=\"tdhistory156909\">Jenkins</td><td class=\"tdhistory156909\">127564.33</td><td class=\"tdhistory156909\">[COMPARE, COMPARE, COMPARE, COMPARE, COMPARE, COMPARE, COMPARE, COMPARE, COMPARE, COMPARE, COMPARE, COMPARE, COMPARE, COMPARE, COMPARE, COMPARE, COMPARE, COMPARE, COMPARE, COMPARE, COMPARE, COMPARE, COMPARE, COMPARE, COMPARE, COMPARE, COMPARE, COMPARE, COMPARE, COMPARE, COMPARE, COMPARE, COMPARE, COMPARE, COMPARE, COMPARE]</td><td class=\"tdhistory156909\">3639591</td></tr><tr><th class=\"tdhistory156909\" style= \"background: rgba(243, 243, 243, 0.75)\">3</th><td class=\"tdhistory156909\">2016-02-18 13:33:36.000000-07:00</td><td class=\"tdhistory156909\">673548669nvuurrm432443654</td><td class=\"tdhistory156909\">Danielle</td><td class=\"tdhistory156909\">Ahmed</td><td class=\"tdhistory156909\">2.08105156e+06</td><td class=\"tdhistory156909\">[OLB, OLB, OLB, OLB, OLB, OLB, OLB, OLB, OLB, OLB, OLB, OLB, STARTS_APPLICATION, STARTS_APPLICATION, STARTS_APPLICATION, STARTS_APPLICATION, STARTS_APPLICATION, STARTS_APPLICATION, STARTS_APPLICATION, STARTS_APPLICATION, STARTS_APPLICATION, STARTS_APPLICATION, STARTS_APPLICATION, STARTS_APPLICATION, BROWSE, BROWSE, BROWSE, BROWSE, BROWSE, BROWSE, BROWSE, BROWSE, BROWSE, BROWSE, BROWSE, BROWSE, BROWSE, BROWSE, BROWSE, BROWSE, BROWSE, BROWSE, BROWSE, BROWSE, BROWSE, BROWSE, BROWSE, BROWSE, OLB, OLB, OLB, OLB, OLB, OLB, OLB, OLB, OLB, OLB, OLB, OLB, OLB, OLB, OLB, OLB, OLB, OLB, OLB, OLB, OLB, OLB, OLB, OLB, BROWSE, BROWSE, BROWSE, BROWSE, BROWSE, BROWSE, BROWSE, BROWSE, BROWSE, BROWSE, BROWSE, BROWSE, OLB, OLB, OLB, OLB, OLB, OLB, OLB, OLB, OLB, OLB, OLB, OLB, BROWSE, BROWSE, BROWSE, BROWSE, BROWSE, BROWSE, BROWSE, BROWSE, BROWSE, BROWSE, BROWSE, BROWSE, BROWSE, BROWSE, BROWSE, BROWSE, BROWSE, BROWSE, BROWSE, BROWSE, BROWSE, BROWSE, BROWSE, BROWSE, OLB, OLB, OLB, OLB, OLB, OLB, OLB, OLB, OLB, OLB, OLB, OLB, BROWSE, BROWSE, BROWSE, BROWSE, BROWSE, BROWSE, BROWSE, BROWSE, BROWSE, BROWSE, BROWSE, BROWSE, BROWSE, BROWSE, BROWSE, BROWSE, BROWSE, BROWSE, BROWSE, BROWSE, BROWSE, BROWSE, BROWSE, BROWSE, OLB, OLB, OLB, OLB, OLB, OLB, OLB, OLB, OLB, OLB, OLB, OLB, STARTS_APPLICATION, STARTS_APPLICATION, STARTS_APPLICATION, STARTS_APPLICATION, STARTS_APPLICATION, STARTS_APPLICATION, STARTS_APPLICATION, STARTS_APPLICATION, STARTS_APPLICATION, STARTS_APPLICATION, STARTS_APPLICATION, STARTS_APPLICATION, BROWSE, BROWSE, BROWSE, BROWSE, BROWSE, BROWSE, BROWSE, BROWSE, BROWSE, BROWSE, BROWSE, BROWSE, BROWSE, BROWSE, BROWSE, BROWSE, BROWSE, BROWSE, BROWSE, BROWSE, BROWSE, BROWSE, BROWSE, BROWSE, BROWSE, BROWSE, BROWSE, BROWSE, BROWSE, BROWSE, BROWSE, BROWSE, BROWSE, BROWSE, BROWSE, BROWSE, BROWSE, BROWSE, BROWSE, BROWSE, BROWSE, BROWSE, BROWSE, BROWSE, BROWSE, BROWSE, BROWSE, BROWSE, BROWSE, BROWSE, BROWSE, BROWSE, BROWSE, BROWSE, BROWSE, BROWSE, BROWSE, BROWSE, BROWSE, BROWSE, BROWSE, BROWSE, BROWSE, BROWSE, BROWSE, BROWSE, BROWSE, BROWSE, BROWSE, BROWSE, BROWSE, BROWSE, BROWSE, BROWSE, BROWSE, BROWSE, BROWSE, BROWSE, BROWSE, BROWSE, BROWSE, BROWSE, BROWSE, BROWSE, STARTS_APPLICATION, STARTS_APPLICATION, STARTS_APPLICATION, STARTS_APPLICATION, STARTS_APPLICATION, STARTS_APPLICATION, STARTS_APPLICATION, STARTS_APPLICATION, STARTS_APPLICATION, STARTS_APPLICATION, STARTS_APPLICATION, STARTS_APPLICATION, MORTGAGE_CALC, MORTGAGE_CALC, MORTGAGE_CALC, MORTGAGE_CALC, MORTGAGE_CALC, MORTGAGE_CALC, MORTGAGE_CALC, MORTGAGE_CALC, MORTGAGE_CALC, MORTGAGE_CALC, MORTGAGE_CALC, MORTGAGE_CALC, BROWSE, BROWSE, BROWSE, BROWSE, BROWSE, BROWSE, BROWSE, BROWSE, BROWSE, BROWSE, BROWSE, BROWSE, OLB, OLB, OLB, OLB, OLB, OLB, OLB, OLB, OLB, OLB, OLB, OLB, OLB, OLB, OLB, OLB, OLB, OLB, OLB, OLB, OLB, OLB, OLB, OLB, OLB, OLB, OLB, OLB, OLB, OLB, OLB, OLB, OLB, OLB, OLB, OLB, STARTS_APPLICATION, STARTS_APPLICATION, STARTS_APPLICATION, STARTS_APPLICATION, STARTS_APPLICATION, STARTS_APPLICATION, STARTS_APPLICATION, STARTS_APPLICATION, STARTS_APPLICATION, STARTS_APPLICATION, STARTS_APPLICATION, STARTS_APPLICATION, OLB, OLB, OLB, OLB, OLB, OLB, OLB, OLB, OLB, OLB, OLB, OLB, STARTS_APPLICATION, STARTS_APPLICATION, STARTS_APPLICATION, STARTS_APPLICATION, STARTS_APPLICATION, STARTS_APPLICATION, STARTS_APPLICATION, STARTS_APPLICATION, STARTS_APPLICATION, STARTS_APPLICATION, STARTS_APPLICATION, STARTS_APPLICATION, COMPARE, COMPARE, COMPARE, COMPARE, COMPARE, COMPARE, COMPARE, COMPARE, COMPARE, COMPARE, COMPARE, COMPARE, COMPLETE_APPLICATION, COMPLETE_APPLICATION, COMPLETE_APPLICATION, COMPLETE_APPLICATION, COMPLETE_APPLICATION, COMPLETE_APPLICATION, COMPLETE_APPLICATION, COMPLETE_APPLICATION, COMPLETE_APPLICATION, COMPLETE_APPLICATION, COMPLETE_APPLICATION, COMPLETE_APPLICATION, ACCOUNT_BOOKED_ONLINE, ACCOUNT_BOOKED_ONLINE, ACCOUNT_BOOKED_ONLINE, ACCOUNT_BOOKED_ONLINE, ACCOUNT_BOOKED_ONLINE, ACCOUNT_BOOKED_ONLINE, ACCOUNT_BOOKED_ONLINE, ACCOUNT_BOOKED_ONLINE, ACCOUNT_BOOKED_ONLINE, ACCOUNT_BOOKED_ONLINE, ACCOUNT_BOOKED_ONLINE, ACCOUNT_BOOKED_ONLINE, COMPLETE_APPLICATION, COMPLETE_APPLICATION, COMPLETE_APPLICATION, COMPLETE_APPLICATION, COMPLETE_APPLICATION, COMPLETE_APPLICATION, COMPLETE_APPLICATION, COMPLETE_APPLICATION, COMPLETE_APPLICATION, COMPLETE_APPLICATION, COMPLETE_APPLICATION, COMPLETE_APPLICATION, FEE_REVERSAL, FEE_REVERSAL, FEE_REVERSAL, FEE_REVERSAL, FEE_REVERSAL, FEE_REVERSAL, FEE_REVERSAL, FEE_REVERSAL, FEE_REVERSAL, FEE_REVERSAL, FEE_REVERSAL, FEE_REVERSAL, LINK_EXTERNAL_ACCOUNT, LINK_EXTERNAL_ACCOUNT, LINK_EXTERNAL_ACCOUNT, LINK_EXTERNAL_ACCOUNT, LINK_EXTERNAL_ACCOUNT, LINK_EXTERNAL_ACCOUNT, LINK_EXTERNAL_ACCOUNT, LINK_EXTERNAL_ACCOUNT, LINK_EXTERNAL_ACCOUNT, LINK_EXTERNAL_ACCOUNT, LINK_EXTERNAL_ACCOUNT, LINK_EXTERNAL_ACCOUNT, BALANCE_TRANSFER, BALANCE_TRANSFER, BALANCE_TRANSFER, BALANCE_TRANSFER, BALANCE_TRANSFER, BALANCE_TRANSFER, BALANCE_TRANSFER, BALANCE_TRANSFER, BALANCE_TRANSFER, BALANCE_TRANSFER, BALANCE_TRANSFER, BALANCE_TRANSFER, ACCOUNT_CLOSED, ACCOUNT_CLOSED, ACCOUNT_CLOSED, ACCOUNT_CLOSED, ACCOUNT_CLOSED, ACCOUNT_CLOSED, ACCOUNT_CLOSED, ACCOUNT_CLOSED, ACCOUNT_CLOSED, ACCOUNT_CLOSED, ACCOUNT_CLOSED, ACCOUNT_CLOSED]</td><td class=\"tdhistory156909\">2160216</td></tr><tr><th class=\"tdhistory156909\" style= \"background: rgba(243, 243, 243, 0.75)\">4</th><td class=\"tdhistory156909\">2016-02-16 16:22:58.000000-07:00</td><td class=\"tdhistory156909\">382199496nujsfqt379492272</td><td class=\"tdhistory156909\">Caitlin</td><td class=\"tdhistory156909\">Gordon</td><td class=\"tdhistory156909\">1.18672539e+06</td><td class=\"tdhistory156909\">[BROWSE, BROWSE, BROWSE, BROWSE, BROWSE, BROWSE]</td><td class=\"tdhistory156909\">7280496</td></tr><tr><th class=\"tdhistory156909\" style= \"background: rgba(243, 243, 243, 0.75)\">5</th><td class=\"tdhistory156909\">2016-03-06 16:32:33.000000-07:00</td><td class=\"tdhistory156909\">315616825hhozhjg829286508</td><td class=\"tdhistory156909\">Benjamin</td><td class=\"tdhistory156909\">Godfrey</td><td class=\"tdhistory156909\">829012.31</td><td class=\"tdhistory156909\">[BROWSE, BROWSE, BROWSE, BROWSE, BROWSE, BROWSE, BROWSE, BROWSE, BROWSE, BROWSE, BROWSE, BROWSE, STARTS_APPLICATION, STARTS_APPLICATION, STARTS_APPLICATION, STARTS_APPLICATION, STARTS_APPLICATION, STARTS_APPLICATION, STARTS_APPLICATION, STARTS_APPLICATION, STARTS_APPLICATION, STARTS_APPLICATION, STARTS_APPLICATION, STARTS_APPLICATION, COMPARE, COMPARE, COMPARE, COMPARE, COMPARE, COMPARE, COMPARE, COMPARE, COMPARE, COMPARE, COMPARE, COMPARE, STARTS_APPLICATION, STARTS_APPLICATION, STARTS_APPLICATION, STARTS_APPLICATION, STARTS_APPLICATION, STARTS_APPLICATION, STARTS_APPLICATION, STARTS_APPLICATION, STARTS_APPLICATION, STARTS_APPLICATION, STARTS_APPLICATION, STARTS_APPLICATION, COMPLETE_APPLICATION, COMPLETE_APPLICATION, COMPLETE_APPLICATION, COMPLETE_APPLICATION, COMPLETE_APPLICATION, COMPLETE_APPLICATION, COMPLETE_APPLICATION, COMPLETE_APPLICATION, COMPLETE_APPLICATION, COMPLETE_APPLICATION, COMPLETE_APPLICATION, COMPLETE_APPLICATION, ACCOUNT_BOOKED_ONLINE, ACCOUNT_BOOKED_ONLINE, ACCOUNT_BOOKED_ONLINE, ACCOUNT_BOOKED_ONLINE, ACCOUNT_BOOKED_ONLINE, ACCOUNT_BOOKED_ONLINE, ACCOUNT_BOOKED_ONLINE, ACCOUNT_BOOKED_ONLINE, ACCOUNT_BOOKED_ONLINE, ACCOUNT_BOOKED_ONLINE, ACCOUNT_BOOKED_ONLINE, ACCOUNT_BOOKED_ONLINE, COMPLETE_APPLICATION, COMPLETE_APPLICATION, COMPLETE_APPLICATION, COMPLETE_APPLICATION, COMPLETE_APPLICATION, COMPLETE_APPLICATION, COMPLETE_APPLICATION, COMPLETE_APPLICATION, COMPLETE_APPLICATION, COMPLETE_APPLICATION, COMPLETE_APPLICATION, COMPLETE_APPLICATION]</td><td class=\"tdhistory156909\">2245141</td></tr><tr><th class=\"tdhistory156909\" style= \"background: rgba(243, 243, 243, 0.75)\">6</th><td class=\"tdhistory156909\">2016-02-16 14:24:13.000000-07:00</td><td class=\"tdhistory156909\">382199496nujsfqt379492272</td><td class=\"tdhistory156909\">Caitlin</td><td class=\"tdhistory156909\">Gordon</td><td class=\"tdhistory156909\">1.18672539e+06</td><td class=\"tdhistory156909\">[STARTS_APPLICATION, STARTS_APPLICATION, STARTS_APPLICATION, STARTS_APPLICATION, STARTS_APPLICATION, STARTS_APPLICATION, STARTS_APPLICATION, STARTS_APPLICATION, STARTS_APPLICATION, STARTS_APPLICATION, STARTS_APPLICATION, STARTS_APPLICATION, COMPLETE_APPLICATION, COMPLETE_APPLICATION, COMPLETE_APPLICATION, COMPLETE_APPLICATION, COMPLETE_APPLICATION, COMPLETE_APPLICATION, COMPLETE_APPLICATION, COMPLETE_APPLICATION, COMPLETE_APPLICATION, COMPLETE_APPLICATION, COMPLETE_APPLICATION, COMPLETE_APPLICATION]</td><td class=\"tdhistory156909\">7210517</td></tr><tr><th class=\"tdhistory156909\" style= \"background: rgba(243, 243, 243, 0.75)\">7</th><td class=\"tdhistory156909\">2016-02-23 13:53:20.000000-07:00</td><td class=\"tdhistory156909\">723346324bqtywyv557899717</td><td class=\"tdhistory156909\">Jacob</td><td class=\"tdhistory156909\">Wilkins</td><td class=\"tdhistory156909\">2.29933046e+06</td><td class=\"tdhistory156909\">[STARTS_APPLICATION, STARTS_APPLICATION, STARTS_APPLICATION, STARTS_APPLICATION, STARTS_APPLICATION, STARTS_APPLICATION, STARTS_APPLICATION, STARTS_APPLICATION, STARTS_APPLICATION, STARTS_APPLICATION, STARTS_APPLICATION, STARTS_APPLICATION, BROWSE, BROWSE, BROWSE, BROWSE, BROWSE, BROWSE, BROWSE, BROWSE, BROWSE, BROWSE, BROWSE, BROWSE]</td><td class=\"tdhistory156909\">3239057</td></tr><tr><th class=\"tdhistory156909\" style= \"background: rgba(243, 243, 243, 0.75)\">8</th><td class=\"tdhistory156909\">2016-02-13 11:39:23.000000-07:00</td><td class=\"tdhistory156909\">550877512qiultoa660406456</td><td class=\"tdhistory156909\">Amelie</td><td class=\"tdhistory156909\">Wong</td><td class=\"tdhistory156909\">1e+07</td><td class=\"tdhistory156909\">[BROWSE, BROWSE, BROWSE, BROWSE, BROWSE, BROWSE, COMPARE, COMPARE, COMPARE, COMPARE, COMPARE, COMPARE, STARTS_APPLICATION, STARTS_APPLICATION, STARTS_APPLICATION, STARTS_APPLICATION, STARTS_APPLICATION, STARTS_APPLICATION]</td><td class=\"tdhistory156909\">5335956</td></tr><tr><th class=\"tdhistory156909\" style= \"background: rgba(243, 243, 243, 0.75)\">9</th><td class=\"tdhistory156909\">2016-02-22 16:30:38.000000-07:00</td><td class=\"tdhistory156909\">228714836dfdzuow919946555</td><td class=\"tdhistory156909\">Phoebe</td><td class=\"tdhistory156909\">Jenkins</td><td class=\"tdhistory156909\">127564.33</td><td class=\"tdhistory156909\">[COMPARE, COMPARE, COMPARE, COMPARE, COMPARE, COMPARE, COMPARE, COMPARE, COMPARE, COMPARE, COMPARE, COMPARE, COMPARE, COMPARE, COMPARE, COMPARE, COMPARE, COMPARE, COMPARE, COMPARE, COMPARE, COMPARE, COMPARE, COMPARE, COMPARE, COMPARE, COMPARE, COMPARE, COMPARE, COMPARE, COMPARE, COMPARE, COMPARE, COMPARE, COMPARE, COMPARE]</td><td class=\"tdhistory156909\">3688318</td></tr><tr><th class=\"tdhistory156909\" style= \"background: rgba(243, 243, 243, 0.75)\">10</th><td class=\"tdhistory156909\">2016-02-19 16:44:37.000000-07:00</td><td class=\"tdhistory156909\">501031717hyvpzwr150436516</td><td class=\"tdhistory156909\">Edward</td><td class=\"tdhistory156909\">Weston</td><td class=\"tdhistory156909\">5.09694674e+06</td><td class=\"tdhistory156909\">[BROWSE, BROWSE, BROWSE, BROWSE, BROWSE, BROWSE, BROWSE, BROWSE, BROWSE, BROWSE, BROWSE, BROWSE, BROWSE, BROWSE, BROWSE, BROWSE, BROWSE, BROWSE, STARTS_APPLICATION, STARTS_APPLICATION, STARTS_APPLICATION, STARTS_APPLICATION, STARTS_APPLICATION, STARTS_APPLICATION]</td><td class=\"tdhistory156909\">2806884</td></tr><tr><th class=\"tdhistory156909\" style= \"background: rgba(243, 243, 243, 0.75)\">11</th><td class=\"tdhistory156909\">2016-02-21 18:24:51.000000-07:00</td><td class=\"tdhistory156909\">228714836dfdzuow919946555</td><td class=\"tdhistory156909\">Phoebe</td><td class=\"tdhistory156909\">Jenkins</td><td class=\"tdhistory156909\">127564.33</td><td class=\"tdhistory156909\">[BROWSE, BROWSE, BROWSE, BROWSE, BROWSE, BROWSE, BROWSE, BROWSE, BROWSE, BROWSE, BROWSE, BROWSE, STARTS_APPLICATION, STARTS_APPLICATION, STARTS_APPLICATION, STARTS_APPLICATION, STARTS_APPLICATION, STARTS_APPLICATION, STARTS_APPLICATION, STARTS_APPLICATION, STARTS_APPLICATION, STARTS_APPLICATION, STARTS_APPLICATION, STARTS_APPLICATION]</td><td class=\"tdhistory156909\">3363365</td></tr><tr><th class=\"tdhistory156909\" style= \"background: rgba(243, 243, 243, 0.75)\">12</th><td class=\"tdhistory156909\">2016-03-13 03:41:47.000000-07:00</td><td class=\"tdhistory156909\">990829121nztvwns574946555</td><td class=\"tdhistory156909\">Isabella</td><td class=\"tdhistory156909\">Pope</td><td class=\"tdhistory156909\">412668.39</td><td class=\"tdhistory156909\">[COMPARE, COMPARE, COMPARE, COMPARE, COMPARE, COMPARE, BROWSE, BROWSE, BROWSE, BROWSE, BROWSE, BROWSE, BROWSE, BROWSE, BROWSE, BROWSE, BROWSE, BROWSE, BROWSE, BROWSE, BROWSE, BROWSE, BROWSE, BROWSE, BROWSE, BROWSE, BROWSE, BROWSE, BROWSE, BROWSE, STARTS_APPLICATION, STARTS_APPLICATION, STARTS_APPLICATION, STARTS_APPLICATION, STARTS_APPLICATION, STARTS_APPLICATION, BROWSE, BROWSE, BROWSE, BROWSE, BROWSE, BROWSE, BROWSE, BROWSE, BROWSE, BROWSE, BROWSE, BROWSE, BROWSE, BROWSE, BROWSE, BROWSE, BROWSE, BROWSE, STARTS_APPLICATION, STARTS_APPLICATION, STARTS_APPLICATION, STARTS_APPLICATION, STARTS_APPLICATION, STARTS_APPLICATION]</td><td class=\"tdhistory156909\">4553859</td></tr><tr><th class=\"tdhistory156909\" style= \"background: rgba(243, 243, 243, 0.75)\">13</th><td class=\"tdhistory156909\">2016-02-17 17:58:42.000000-07:00</td><td class=\"tdhistory156909\">673548669nvuurrm432443654</td><td class=\"tdhistory156909\">Danielle</td><td class=\"tdhistory156909\">Ahmed</td><td class=\"tdhistory156909\">2.08105156e+06</td><td class=\"tdhistory156909\">[BROWSE, BROWSE, BROWSE, BROWSE, BROWSE, BROWSE, BROWSE, BROWSE, BROWSE, BROWSE, BROWSE, BROWSE, OLB, OLB, OLB, OLB, OLB, OLB, OLB, OLB, OLB, OLB, OLB, OLB, OLB, OLB, OLB, OLB, OLB, OLB, OLB, OLB, OLB, OLB, OLB, OLB]</td><td class=\"tdhistory156909\">1917281</td></tr><tr><th class=\"tdhistory156909\" style= \"background: rgba(243, 243, 243, 0.75)\">14</th><td class=\"tdhistory156909\">2016-02-07 14:47:45.000000-07:00</td><td class=\"tdhistory156909\">554873258gwonmzq747017981</td><td class=\"tdhistory156909\">Grace</td><td class=\"tdhistory156909\">Forster</td><td class=\"tdhistory156909\">145035.4</td><td class=\"tdhistory156909\">[STARTS_APPLICATION, STARTS_APPLICATION, STARTS_APPLICATION, STARTS_APPLICATION, STARTS_APPLICATION, STARTS_APPLICATION, STARTS_APPLICATION, STARTS_APPLICATION, STARTS_APPLICATION, STARTS_APPLICATION, STARTS_APPLICATION, STARTS_APPLICATION]</td><td class=\"tdhistory156909\">3267888</td></tr></tbody></table></div>"
      ]
     },
     "execution_count": 24,
     "metadata": {
      "application/vnd.teradata.resultset": "{\"resultSetID\":\"/home/jovyan/JupyterLabRoot/Teradata/Resultsets/2024.08.26_12.04.10.669_UTC\",\"historyID\":11337,\"chunkID\":\"00001\",\"sessionid\":\"\",\"portnum\":\"\",\"dockermode\":\"docker\",\"totalRowCount\":14,\"chunkCount\":0,\"rowLimit\":0,\"columnMetadata\":[{\"columnName\":\"start_time\",\"columnTypeName\":\"TIMESTAMP WITH TIME ZONE\",\"length\":6,\"scale\":6},{\"columnNumber\":1,\"columnName\":\"customer_identifier\",\"columnTypeName\":\"VARCHAR\",\"length\":26,\"scale\":26},{\"columnNumber\":2,\"columnName\":\"firstname\",\"columnTypeName\":\"VARCHAR\",\"length\":50,\"scale\":50},{\"columnNumber\":3,\"columnName\":\"lastname\",\"columnTypeName\":\"VARCHAR\",\"length\":90,\"scale\":90},{\"columnNumber\":4,\"columnName\":\"fraud_amount\",\"columnTypeName\":\"FLOAT\"},{\"columnNumber\":5,\"columnName\":\"path\",\"columnTypeName\":\"LONG VARCHAR\",\"length\":64000,\"scale\":64000},{\"columnNumber\":6,\"columnName\":\"interaction_session_number\",\"columnTypeName\":\"BIGINT\"}]}"
     },
     "output_type": "execute_result"
    }
   ],
   "source": [
    "/* Investigate user banking activities that preceeded a fraudulent online transaction */\n",
    "\n",
    "SELECT * FROM NPATH\n",
    "    (ON (\n",
    "        SELECT\n",
    "                bh.customer_identifier,\n",
    "                bh.interaction_session_number,\n",
    "                bh.interaction_timestamp,\n",
    "                bh.interaction_type,\n",
    "                txn.amount,\n",
    "                c.firstname,\n",
    "                c.lastname\n",
    "\n",
    "\n",
    "                FROM demo.txn_history_ofs txn, demo.Banking_History_S3 bh, \n",
    "                    demo.Customers_BFS c, demo.Accounts_Mapping_BFS am\n",
    "\n",
    "\n",
    "                WHERE txn.isFraud = 1 AND\n",
    "                    txn.nameOrig= am.nameOrig AND\n",
    "                    am.customer_identifier = bh.customer_identifier AND\n",
    "                    am.customer_identifier = c.customer_identifier\n",
    "        )\n",
    "        \n",
    "        PARTITION BY interaction_session_number\n",
    "        ORDER BY interaction_timestamp\n",
    "    USING\n",
    "        MODE (NONOVERLAPPING)\n",
    "        SYMBOLS (TRUE AS A)\n",
    "        PATTERN ('A*')\n",
    "        RESULT (FIRST (interaction_timestamp of A) as start_time, \n",
    "                FIRST (customer_identifier of A) as customer_identifier,\n",
    "                FIRST (firstname of A) as firstname, \n",
    "                FIRST (lastname of A) as lastname,\n",
    "                FIRST (amount of A) as fraud_amount,\n",
    "                ACCUMULATE (interaction_type of ANY(A)) as path,\n",
    "                FIRST (interaction_session_number of A) as interaction_session_number\n",
    "                \n",
    "    ));"
   ]
  },
  {
   "cell_type": "markdown",
   "id": "after-expense",
   "metadata": {},
   "source": [
    "<hr>\n",
    "\n",
    "<p style = 'font-size:28px;font-family:Arial;color:#00233C'><b>Seamlessly Join Data Across the Data Fabric</b></p>\n",
    "\n",
    "<p style = 'font-size:16px;font-family:Arial;color:#00233C'><b>QueryGrid</b> provides seamless, high-performance data access with pushdown processing and parallel data movement across systems in heterogeneous analytical environments, including hybrid and multi-cloud.</p>\n",
    "\n",
    "<table style = 'width:75%;table-layout:fixed;font-size:16px;font-family:Arial;color:#00233C'>\n",
    "    <tr style = 'text-align:top'>\n",
    "        <td style = 'width:50%'>\n",
    "        <ol>\n",
    "            <br>\n",
    "            <li><b>Orchestrate</b> query execution across databases and platforms without migrating data</li>\n",
    "            <br>\n",
    "            <li><b>Launch</b> queries in place and execute pushdown processing across systems</li>\n",
    "            <br>\n",
    "            <li><b>Join</b> and transfer data across tables and systems from multiple sources</li>\n",
    "            <br>\n",
    "            <li><b>Reduce</b> data movement and minimize egress charges</li>\n",
    "            <br>\n",
    "        </ol></td>\n",
    "        <td><img src = 'images/QG_Overview.png' width = '400' ></td>\n",
    "    </tr>\n",
    "</table>\n",
    "\n",
    "<p style = 'font-size:16px;font-family:Arial;color:#00233C'>For this demonstration, the <b>Transaction History</b> data set has been moved to an external RDBMS connected via VantageCloud Lake QueryGrid.  After executing this query, administrators can view detailed telemetry on data transfer rates, query pushdown, and other metrics in the <b>VantageCloud Lake Console.</b>  Alternatively, users can run an <b>EXPLAIN</b> to show the QueryGrid operations.</p>"
   ]
  },
  {
   "cell_type": "code",
   "execution_count": 25,
   "id": "painted-mathematics",
   "metadata": {},
   "outputs": [
    {
     "data": {
      "application/vnd.teradata.resultset": "\"start_time\",\"customer_identifier\",\"firstname\",\"lastname\",\"fraud_amount\",\"path\",\"interaction_session_number\"\n\"2016-02-16 09:08:34.000000-07:00\",\"332124954upbhkhh348550935\",\"Megan\",\"Briggs\",\"432958.83\",\"[BROWSE, BROWSE, BROWSE, BROWSE, BROWSE, BROWSE, BROWSE, BROWSE, BROWSE, BROWSE, BROWSE, BROWSE, BROWSE, BROWSE, BROWSE, BROWSE, BROWSE, BROWSE, STARTS_APPLICATION, STARTS_APPLICATION, STARTS_APPLICATION, STARTS_APPLICATION, STARTS_APPLICATION, STARTS_APPLICATION, BROWSE, BROWSE, BROWSE, BROWSE, BROWSE, BROWSE, BROWSE, BROWSE, BROWSE, BROWSE, BROWSE, BROWSE]\",\"7457497\"\n\"2016-02-22 15:02:03.000000-07:00\",\"228714836dfdzuow919946555\",\"Phoebe\",\"Jenkins\",\"127564.33\",\"[COMPARE, COMPARE, COMPARE, COMPARE, COMPARE, COMPARE, COMPARE, COMPARE, COMPARE, COMPARE, COMPARE, COMPARE, COMPARE, COMPARE, COMPARE, COMPARE, COMPARE, COMPARE]\",\"3639591\"\n\"2016-02-18 13:33:36.000000-07:00\",\"673548669nvuurrm432443654\",\"Danielle\",\"Ahmed\",\"2.08105156e+06\",\"[OLB, OLB, OLB, OLB, OLB, OLB, STARTS_APPLICATION, STARTS_APPLICATION, STARTS_APPLICATION, STARTS_APPLICATION, STARTS_APPLICATION, STARTS_APPLICATION, BROWSE, BROWSE, BROWSE, BROWSE, BROWSE, BROWSE, BROWSE, BROWSE, BROWSE, BROWSE, BROWSE, BROWSE, OLB, OLB, OLB, OLB, OLB, OLB, OLB, OLB, OLB, OLB, OLB, OLB, BROWSE, BROWSE, BROWSE, BROWSE, BROWSE, BROWSE, OLB, OLB, OLB, OLB, OLB, OLB, BROWSE, BROWSE, BROWSE, BROWSE, BROWSE, BROWSE, BROWSE, BROWSE, BROWSE, BROWSE, BROWSE, BROWSE, OLB, OLB, OLB, OLB, OLB, OLB, BROWSE, BROWSE, BROWSE, BROWSE, BROWSE, BROWSE, BROWSE, BROWSE, BROWSE, BROWSE, BROWSE, BROWSE, OLB, OLB, OLB, OLB, OLB, OLB, STARTS_APPLICATION, STARTS_APPLICATION, STARTS_APPLICATION, STARTS_APPLICATION, STARTS_APPLICATION, STARTS_APPLICATION, BROWSE, BROWSE, BROWSE, BROWSE, BROWSE, BROWSE, BROWSE, BROWSE, BROWSE, BROWSE, BROWSE, BROWSE, BROWSE, BROWSE, BROWSE, BROWSE, BROWSE, BROWSE, BROWSE, BROWSE, BROWSE, BROWSE, BROWSE, BROWSE, BROWSE, BROWSE, BROWSE, BROWSE, BROWSE, BROWSE, BROWSE, BROWSE, BROWSE, BROWSE, BROWSE, BROWSE, BROWSE, BROWSE, BROWSE, BROWSE, BROWSE, BROWSE, STARTS_APPLICATION, STARTS_APPLICATION, STARTS_APPLICATION, STARTS_APPLICATION, STARTS_APPLICATION, STARTS_APPLICATION, MORTGAGE_CALC, MORTGAGE_CALC, MORTGAGE_CALC, MORTGAGE_CALC, MORTGAGE_CALC, MORTGAGE_CALC, BROWSE, BROWSE, BROWSE, BROWSE, BROWSE, BROWSE, OLB, OLB, OLB, OLB, OLB, OLB, OLB, OLB, OLB, OLB, OLB, OLB, OLB, OLB, OLB, OLB, OLB, OLB, STARTS_APPLICATION, STARTS_APPLICATION, STARTS_APPLICATION, STARTS_APPLICATION, STARTS_APPLICATION, STARTS_APPLICATION, OLB, OLB, OLB, OLB, OLB, OLB, STARTS_APPLICATION, STARTS_APPLICATION, STARTS_APPLICATION, STARTS_APPLICATION, STARTS_APPLICATION, STARTS_APPLICATION, COMPARE, COMPARE, COMPARE, COMPARE, COMPARE, COMPARE, COMPLETE_APPLICATION, COMPLETE_APPLICATION, COMPLETE_APPLICATION, COMPLETE_APPLICATION, COMPLETE_APPLICATION, COMPLETE_APPLICATION, ACCOUNT_BOOKED_ONLINE, ACCOUNT_BOOKED_ONLINE, ACCOUNT_BOOKED_ONLINE, ACCOUNT_BOOKED_ONLINE, ACCOUNT_BOOKED_ONLINE, ACCOUNT_BOOKED_ONLINE, COMPLETE_APPLICATION, COMPLETE_APPLICATION, COMPLETE_APPLICATION, COMPLETE_APPLICATION, COMPLETE_APPLICATION, COMPLETE_APPLICATION, FEE_REVERSAL, FEE_REVERSAL, FEE_REVERSAL, FEE_REVERSAL, FEE_REVERSAL, FEE_REVERSAL, LINK_EXTERNAL_ACCOUNT, LINK_EXTERNAL_ACCOUNT, LINK_EXTERNAL_ACCOUNT, LINK_EXTERNAL_ACCOUNT, LINK_EXTERNAL_ACCOUNT, LINK_EXTERNAL_ACCOUNT, BALANCE_TRANSFER, BALANCE_TRANSFER, BALANCE_TRANSFER, BALANCE_TRANSFER, BALANCE_TRANSFER, BALANCE_TRANSFER, ACCOUNT_CLOSED, ACCOUNT_CLOSED, ACCOUNT_CLOSED, ACCOUNT_CLOSED, ACCOUNT_CLOSED, ACCOUNT_CLOSED]\",\"2160216\"\n\"2016-03-06 16:32:33.000000-07:00\",\"315616825hhozhjg829286508\",\"Benjamin\",\"Godfrey\",\"829012.31\",\"[BROWSE, BROWSE, BROWSE, BROWSE, BROWSE, BROWSE, STARTS_APPLICATION, STARTS_APPLICATION, STARTS_APPLICATION, STARTS_APPLICATION, STARTS_APPLICATION, STARTS_APPLICATION, COMPARE, COMPARE, COMPARE, COMPARE, COMPARE, COMPARE, STARTS_APPLICATION, STARTS_APPLICATION, STARTS_APPLICATION, STARTS_APPLICATION, STARTS_APPLICATION, STARTS_APPLICATION, COMPLETE_APPLICATION, COMPLETE_APPLICATION, COMPLETE_APPLICATION, COMPLETE_APPLICATION, COMPLETE_APPLICATION, COMPLETE_APPLICATION, ACCOUNT_BOOKED_ONLINE, ACCOUNT_BOOKED_ONLINE, ACCOUNT_BOOKED_ONLINE, ACCOUNT_BOOKED_ONLINE, ACCOUNT_BOOKED_ONLINE, ACCOUNT_BOOKED_ONLINE, COMPLETE_APPLICATION, COMPLETE_APPLICATION, COMPLETE_APPLICATION, COMPLETE_APPLICATION, COMPLETE_APPLICATION, COMPLETE_APPLICATION]\",\"2245141\"\n\"2016-02-23 13:53:20.000000-07:00\",\"723346324bqtywyv557899717\",\"Jacob\",\"Wilkins\",\"2.29933046e+06\",\"[STARTS_APPLICATION, STARTS_APPLICATION, STARTS_APPLICATION, STARTS_APPLICATION, STARTS_APPLICATION, STARTS_APPLICATION, BROWSE, BROWSE, BROWSE, BROWSE, BROWSE, BROWSE]\",\"3239057\"\n\"2016-02-13 11:39:23.000000-07:00\",\"550877512qiultoa660406456\",\"Amelie\",\"Wong\",\"1e+07\",\"[BROWSE, BROWSE, BROWSE, BROWSE, BROWSE, BROWSE, COMPARE, COMPARE, COMPARE, COMPARE, COMPARE, COMPARE, STARTS_APPLICATION, STARTS_APPLICATION, STARTS_APPLICATION, STARTS_APPLICATION, STARTS_APPLICATION, STARTS_APPLICATION]\",\"5335956\"\n\"2016-02-22 16:30:38.000000-07:00\",\"228714836dfdzuow919946555\",\"Phoebe\",\"Jenkins\",\"127564.33\",\"[COMPARE, COMPARE, COMPARE, COMPARE, COMPARE, COMPARE, COMPARE, COMPARE, COMPARE, COMPARE, COMPARE, COMPARE, COMPARE, COMPARE, COMPARE, COMPARE, COMPARE, COMPARE]\",\"3688318\"\n\"2016-02-21 18:24:51.000000-07:00\",\"228714836dfdzuow919946555\",\"Phoebe\",\"Jenkins\",\"127564.33\",\"[BROWSE, BROWSE, BROWSE, BROWSE, BROWSE, BROWSE, STARTS_APPLICATION, STARTS_APPLICATION, STARTS_APPLICATION, STARTS_APPLICATION, STARTS_APPLICATION, STARTS_APPLICATION]\",\"3363365\"\n\"2016-02-17 17:58:42.000000-07:00\",\"673548669nvuurrm432443654\",\"Danielle\",\"Ahmed\",\"2.08105156e+06\",\"[BROWSE, BROWSE, BROWSE, BROWSE, BROWSE, BROWSE, OLB, OLB, OLB, OLB, OLB, OLB, OLB, OLB, OLB, OLB, OLB, OLB]\",\"1917281\"\n\"2016-02-07 14:47:45.000000-07:00\",\"554873258gwonmzq747017981\",\"Grace\",\"Forster\",\"145035.4\",\"[STARTS_APPLICATION, STARTS_APPLICATION, STARTS_APPLICATION, STARTS_APPLICATION, STARTS_APPLICATION, STARTS_APPLICATION]\",\"3267888\"",
      "text/html": [
       "<div class = \"td-resultset-table-div\" style = \"max-height: 100%; overflow-y: auto\">\n",
       "      <table class=\"tdhistory44799\"><style>\n",
       "      table.tdhistory44799 { display: block !important; min-height: 294px !important; overflow: auto !important; height: 294px !important; width: 100% !important; border: 1px solid rgb(207, 207, 207) !important; border-collapse: collapse !important; ; color: var(--jp-ui-font-color1) !important; }\n",
       "      th.tdhistory44799 { border: 1px solid rgb(198,198,198) !important; border-collapse: collapse !important; ; padding: 2px 5px !important; ; font-size: 13px !important; ; text-align: center !important; white-space: normal !important; color: var(--jp-ui-font-color1) !important; }\n",
       "      th.tdhistory44799:last-child { text-align: left !important; }\n",
       "      tbody.tdhistory44799 tr:nth-child(even) { background: rgba(243, 243, 243, 0.75) !important; }\n",
       "      tbody.tdhistory44799 tr:nth-child(odd) { background: var(--jp-ui-inverse-font-color1) !important; }\n",
       "      td.tdhistory44799 { border: 1px solid rgb(207, 207, 207) !important; border-collapse: collapse !important; ; padding: 2px 5px !important; ; font-size: 13px !important; ; text-align: left !important;          white-space: nowrap !important; overflow:hidden !important; text-overflow:ellipsis !important;; }\n",
       "    </style><thead><tr style= \"background: rgba(243, 243, 243, 0.75)\"><th class=\"tdhistory44799\"></th><th class=\"tdhistory44799\">start_time</th><th class=\"tdhistory44799\">customer_identifier</th><th class=\"tdhistory44799\">firstname</th><th class=\"tdhistory44799\">lastname</th><th class=\"tdhistory44799\">fraud_amount</th><th class=\"tdhistory44799\">path</th><th class=\"tdhistory44799\">interaction_session_number</th></tr></thead><tbody class=\"tdhistory44799 resultset-body\"><tr><th class=\"tdhistory44799\" style= \"background: rgba(243, 243, 243, 0.75)\">1</th><td class=\"tdhistory44799\">2016-02-16 09:08:34.000000-07:00</td><td class=\"tdhistory44799\">332124954upbhkhh348550935</td><td class=\"tdhistory44799\">Megan</td><td class=\"tdhistory44799\">Briggs</td><td class=\"tdhistory44799\">432958.83</td><td class=\"tdhistory44799\">[BROWSE, BROWSE, BROWSE, BROWSE, BROWSE, BROWSE, BROWSE, BROWSE, BROWSE, BROWSE, BROWSE, BROWSE, BROWSE, BROWSE, BROWSE, BROWSE, BROWSE, BROWSE, STARTS_APPLICATION, STARTS_APPLICATION, STARTS_APPLICATION, STARTS_APPLICATION, STARTS_APPLICATION, STARTS_APPLICATION, BROWSE, BROWSE, BROWSE, BROWSE, BROWSE, BROWSE, BROWSE, BROWSE, BROWSE, BROWSE, BROWSE, BROWSE]</td><td class=\"tdhistory44799\">7457497</td></tr><tr><th class=\"tdhistory44799\" style= \"background: rgba(243, 243, 243, 0.75)\">2</th><td class=\"tdhistory44799\">2016-02-22 15:02:03.000000-07:00</td><td class=\"tdhistory44799\">228714836dfdzuow919946555</td><td class=\"tdhistory44799\">Phoebe</td><td class=\"tdhistory44799\">Jenkins</td><td class=\"tdhistory44799\">127564.33</td><td class=\"tdhistory44799\">[COMPARE, COMPARE, COMPARE, COMPARE, COMPARE, COMPARE, COMPARE, COMPARE, COMPARE, COMPARE, COMPARE, COMPARE, COMPARE, COMPARE, COMPARE, COMPARE, COMPARE, COMPARE]</td><td class=\"tdhistory44799\">3639591</td></tr><tr><th class=\"tdhistory44799\" style= \"background: rgba(243, 243, 243, 0.75)\">3</th><td class=\"tdhistory44799\">2016-02-18 13:33:36.000000-07:00</td><td class=\"tdhistory44799\">673548669nvuurrm432443654</td><td class=\"tdhistory44799\">Danielle</td><td class=\"tdhistory44799\">Ahmed</td><td class=\"tdhistory44799\">2.08105156e+06</td><td class=\"tdhistory44799\">[OLB, OLB, OLB, OLB, OLB, OLB, STARTS_APPLICATION, STARTS_APPLICATION, STARTS_APPLICATION, STARTS_APPLICATION, STARTS_APPLICATION, STARTS_APPLICATION, BROWSE, BROWSE, BROWSE, BROWSE, BROWSE, BROWSE, BROWSE, BROWSE, BROWSE, BROWSE, BROWSE, BROWSE, OLB, OLB, OLB, OLB, OLB, OLB, OLB, OLB, OLB, OLB, OLB, OLB, BROWSE, BROWSE, BROWSE, BROWSE, BROWSE, BROWSE, OLB, OLB, OLB, OLB, OLB, OLB, BROWSE, BROWSE, BROWSE, BROWSE, BROWSE, BROWSE, BROWSE, BROWSE, BROWSE, BROWSE, BROWSE, BROWSE, OLB, OLB, OLB, OLB, OLB, OLB, BROWSE, BROWSE, BROWSE, BROWSE, BROWSE, BROWSE, BROWSE, BROWSE, BROWSE, BROWSE, BROWSE, BROWSE, OLB, OLB, OLB, OLB, OLB, OLB, STARTS_APPLICATION, STARTS_APPLICATION, STARTS_APPLICATION, STARTS_APPLICATION, STARTS_APPLICATION, STARTS_APPLICATION, BROWSE, BROWSE, BROWSE, BROWSE, BROWSE, BROWSE, BROWSE, BROWSE, BROWSE, BROWSE, BROWSE, BROWSE, BROWSE, BROWSE, BROWSE, BROWSE, BROWSE, BROWSE, BROWSE, BROWSE, BROWSE, BROWSE, BROWSE, BROWSE, BROWSE, BROWSE, BROWSE, BROWSE, BROWSE, BROWSE, BROWSE, BROWSE, BROWSE, BROWSE, BROWSE, BROWSE, BROWSE, BROWSE, BROWSE, BROWSE, BROWSE, BROWSE, STARTS_APPLICATION, STARTS_APPLICATION, STARTS_APPLICATION, STARTS_APPLICATION, STARTS_APPLICATION, STARTS_APPLICATION, MORTGAGE_CALC, MORTGAGE_CALC, MORTGAGE_CALC, MORTGAGE_CALC, MORTGAGE_CALC, MORTGAGE_CALC, BROWSE, BROWSE, BROWSE, BROWSE, BROWSE, BROWSE, OLB, OLB, OLB, OLB, OLB, OLB, OLB, OLB, OLB, OLB, OLB, OLB, OLB, OLB, OLB, OLB, OLB, OLB, STARTS_APPLICATION, STARTS_APPLICATION, STARTS_APPLICATION, STARTS_APPLICATION, STARTS_APPLICATION, STARTS_APPLICATION, OLB, OLB, OLB, OLB, OLB, OLB, STARTS_APPLICATION, STARTS_APPLICATION, STARTS_APPLICATION, STARTS_APPLICATION, STARTS_APPLICATION, STARTS_APPLICATION, COMPARE, COMPARE, COMPARE, COMPARE, COMPARE, COMPARE, COMPLETE_APPLICATION, COMPLETE_APPLICATION, COMPLETE_APPLICATION, COMPLETE_APPLICATION, COMPLETE_APPLICATION, COMPLETE_APPLICATION, ACCOUNT_BOOKED_ONLINE, ACCOUNT_BOOKED_ONLINE, ACCOUNT_BOOKED_ONLINE, ACCOUNT_BOOKED_ONLINE, ACCOUNT_BOOKED_ONLINE, ACCOUNT_BOOKED_ONLINE, COMPLETE_APPLICATION, COMPLETE_APPLICATION, COMPLETE_APPLICATION, COMPLETE_APPLICATION, COMPLETE_APPLICATION, COMPLETE_APPLICATION, FEE_REVERSAL, FEE_REVERSAL, FEE_REVERSAL, FEE_REVERSAL, FEE_REVERSAL, FEE_REVERSAL, LINK_EXTERNAL_ACCOUNT, LINK_EXTERNAL_ACCOUNT, LINK_EXTERNAL_ACCOUNT, LINK_EXTERNAL_ACCOUNT, LINK_EXTERNAL_ACCOUNT, LINK_EXTERNAL_ACCOUNT, BALANCE_TRANSFER, BALANCE_TRANSFER, BALANCE_TRANSFER, BALANCE_TRANSFER, BALANCE_TRANSFER, BALANCE_TRANSFER, ACCOUNT_CLOSED, ACCOUNT_CLOSED, ACCOUNT_CLOSED, ACCOUNT_CLOSED, ACCOUNT_CLOSED, ACCOUNT_CLOSED]</td><td class=\"tdhistory44799\">2160216</td></tr><tr><th class=\"tdhistory44799\" style= \"background: rgba(243, 243, 243, 0.75)\">4</th><td class=\"tdhistory44799\">2016-03-06 16:32:33.000000-07:00</td><td class=\"tdhistory44799\">315616825hhozhjg829286508</td><td class=\"tdhistory44799\">Benjamin</td><td class=\"tdhistory44799\">Godfrey</td><td class=\"tdhistory44799\">829012.31</td><td class=\"tdhistory44799\">[BROWSE, BROWSE, BROWSE, BROWSE, BROWSE, BROWSE, STARTS_APPLICATION, STARTS_APPLICATION, STARTS_APPLICATION, STARTS_APPLICATION, STARTS_APPLICATION, STARTS_APPLICATION, COMPARE, COMPARE, COMPARE, COMPARE, COMPARE, COMPARE, STARTS_APPLICATION, STARTS_APPLICATION, STARTS_APPLICATION, STARTS_APPLICATION, STARTS_APPLICATION, STARTS_APPLICATION, COMPLETE_APPLICATION, COMPLETE_APPLICATION, COMPLETE_APPLICATION, COMPLETE_APPLICATION, COMPLETE_APPLICATION, COMPLETE_APPLICATION, ACCOUNT_BOOKED_ONLINE, ACCOUNT_BOOKED_ONLINE, ACCOUNT_BOOKED_ONLINE, ACCOUNT_BOOKED_ONLINE, ACCOUNT_BOOKED_ONLINE, ACCOUNT_BOOKED_ONLINE, COMPLETE_APPLICATION, COMPLETE_APPLICATION, COMPLETE_APPLICATION, COMPLETE_APPLICATION, COMPLETE_APPLICATION, COMPLETE_APPLICATION]</td><td class=\"tdhistory44799\">2245141</td></tr><tr><th class=\"tdhistory44799\" style= \"background: rgba(243, 243, 243, 0.75)\">5</th><td class=\"tdhistory44799\">2016-02-23 13:53:20.000000-07:00</td><td class=\"tdhistory44799\">723346324bqtywyv557899717</td><td class=\"tdhistory44799\">Jacob</td><td class=\"tdhistory44799\">Wilkins</td><td class=\"tdhistory44799\">2.29933046e+06</td><td class=\"tdhistory44799\">[STARTS_APPLICATION, STARTS_APPLICATION, STARTS_APPLICATION, STARTS_APPLICATION, STARTS_APPLICATION, STARTS_APPLICATION, BROWSE, BROWSE, BROWSE, BROWSE, BROWSE, BROWSE]</td><td class=\"tdhistory44799\">3239057</td></tr><tr><th class=\"tdhistory44799\" style= \"background: rgba(243, 243, 243, 0.75)\">6</th><td class=\"tdhistory44799\">2016-02-13 11:39:23.000000-07:00</td><td class=\"tdhistory44799\">550877512qiultoa660406456</td><td class=\"tdhistory44799\">Amelie</td><td class=\"tdhistory44799\">Wong</td><td class=\"tdhistory44799\">1e+07</td><td class=\"tdhistory44799\">[BROWSE, BROWSE, BROWSE, BROWSE, BROWSE, BROWSE, COMPARE, COMPARE, COMPARE, COMPARE, COMPARE, COMPARE, STARTS_APPLICATION, STARTS_APPLICATION, STARTS_APPLICATION, STARTS_APPLICATION, STARTS_APPLICATION, STARTS_APPLICATION]</td><td class=\"tdhistory44799\">5335956</td></tr><tr><th class=\"tdhistory44799\" style= \"background: rgba(243, 243, 243, 0.75)\">7</th><td class=\"tdhistory44799\">2016-02-22 16:30:38.000000-07:00</td><td class=\"tdhistory44799\">228714836dfdzuow919946555</td><td class=\"tdhistory44799\">Phoebe</td><td class=\"tdhistory44799\">Jenkins</td><td class=\"tdhistory44799\">127564.33</td><td class=\"tdhistory44799\">[COMPARE, COMPARE, COMPARE, COMPARE, COMPARE, COMPARE, COMPARE, COMPARE, COMPARE, COMPARE, COMPARE, COMPARE, COMPARE, COMPARE, COMPARE, COMPARE, COMPARE, COMPARE]</td><td class=\"tdhistory44799\">3688318</td></tr><tr><th class=\"tdhistory44799\" style= \"background: rgba(243, 243, 243, 0.75)\">8</th><td class=\"tdhistory44799\">2016-02-21 18:24:51.000000-07:00</td><td class=\"tdhistory44799\">228714836dfdzuow919946555</td><td class=\"tdhistory44799\">Phoebe</td><td class=\"tdhistory44799\">Jenkins</td><td class=\"tdhistory44799\">127564.33</td><td class=\"tdhistory44799\">[BROWSE, BROWSE, BROWSE, BROWSE, BROWSE, BROWSE, STARTS_APPLICATION, STARTS_APPLICATION, STARTS_APPLICATION, STARTS_APPLICATION, STARTS_APPLICATION, STARTS_APPLICATION]</td><td class=\"tdhistory44799\">3363365</td></tr><tr><th class=\"tdhistory44799\" style= \"background: rgba(243, 243, 243, 0.75)\">9</th><td class=\"tdhistory44799\">2016-02-17 17:58:42.000000-07:00</td><td class=\"tdhistory44799\">673548669nvuurrm432443654</td><td class=\"tdhistory44799\">Danielle</td><td class=\"tdhistory44799\">Ahmed</td><td class=\"tdhistory44799\">2.08105156e+06</td><td class=\"tdhistory44799\">[BROWSE, BROWSE, BROWSE, BROWSE, BROWSE, BROWSE, OLB, OLB, OLB, OLB, OLB, OLB, OLB, OLB, OLB, OLB, OLB, OLB]</td><td class=\"tdhistory44799\">1917281</td></tr><tr><th class=\"tdhistory44799\" style= \"background: rgba(243, 243, 243, 0.75)\">10</th><td class=\"tdhistory44799\">2016-02-07 14:47:45.000000-07:00</td><td class=\"tdhistory44799\">554873258gwonmzq747017981</td><td class=\"tdhistory44799\">Grace</td><td class=\"tdhistory44799\">Forster</td><td class=\"tdhistory44799\">145035.4</td><td class=\"tdhistory44799\">[STARTS_APPLICATION, STARTS_APPLICATION, STARTS_APPLICATION, STARTS_APPLICATION, STARTS_APPLICATION, STARTS_APPLICATION]</td><td class=\"tdhistory44799\">3267888</td></tr></tbody></table></div>"
      ]
     },
     "execution_count": 25,
     "metadata": {
      "application/vnd.teradata.resultset": "{\"resultSetID\":\"/home/jovyan/JupyterLabRoot/Teradata/Resultsets/2024.08.26_12.04.14.003_UTC\",\"historyID\":11338,\"chunkID\":\"00001\",\"sessionid\":\"\",\"portnum\":\"\",\"dockermode\":\"docker\",\"totalRowCount\":10,\"chunkCount\":0,\"rowLimit\":0,\"columnMetadata\":[{\"columnName\":\"start_time\",\"columnTypeName\":\"TIMESTAMP WITH TIME ZONE\",\"length\":6,\"scale\":6},{\"columnNumber\":1,\"columnName\":\"customer_identifier\",\"columnTypeName\":\"VARCHAR\",\"length\":26,\"scale\":26},{\"columnNumber\":2,\"columnName\":\"firstname\",\"columnTypeName\":\"VARCHAR\",\"length\":50,\"scale\":50},{\"columnNumber\":3,\"columnName\":\"lastname\",\"columnTypeName\":\"VARCHAR\",\"length\":90,\"scale\":90},{\"columnNumber\":4,\"columnName\":\"fraud_amount\",\"columnTypeName\":\"FLOAT\"},{\"columnNumber\":5,\"columnName\":\"path\",\"columnTypeName\":\"LONG VARCHAR\",\"length\":64000,\"scale\":64000},{\"columnNumber\":6,\"columnName\":\"interaction_session_number\",\"columnTypeName\":\"BIGINT\"}]}"
     },
     "output_type": "execute_result"
    }
   ],
   "source": [
    "SELECT * FROM NPATH \n",
    "    (ON ( \n",
    "        SELECT \n",
    "                bh.customer_identifier, \n",
    "                bh.interaction_session_number, \n",
    "                bh.interaction_timestamp, \n",
    "                bh.interaction_type, \n",
    "                txn.amount, \n",
    "                c.firstname, \n",
    "                c.lastname \n",
    " \n",
    " \n",
    "                FROM demo_schema.txn_history@fs_postgres txn, demo.Banking_History_S3 bh,  \n",
    "                    demo.Customers_BFS c, demo.Accounts_Mapping_BFS am \n",
    " \n",
    " \n",
    "                WHERE txn.isFraud = 1 AND \n",
    "                    txn.nameOrig= am.nameOrig AND \n",
    "                    am.customer_identifier = bh.customer_identifier AND \n",
    "                    am.customer_identifier = c.customer_identifier \n",
    "        ) \n",
    "         \n",
    "        PARTITION BY interaction_session_number \n",
    "        ORDER BY interaction_timestamp \n",
    "    USING \n",
    "        MODE (NONOVERLAPPING) \n",
    "        SYMBOLS (TRUE AS A) \n",
    "        PATTERN ('A*') \n",
    "        RESULT (FIRST (interaction_timestamp of A) as start_time,  \n",
    "                FIRST (customer_identifier of A) as customer_identifier, \n",
    "                FIRST (firstname of A) as firstname,  \n",
    "                FIRST (lastname of A) as lastname, \n",
    "                FIRST (amount of A) as fraud_amount, \n",
    "                ACCUMULATE (interaction_type of ANY(A)) as path, \n",
    "                FIRST (interaction_session_number of A) as interaction_session_number )); "
   ]
  },
  {
   "cell_type": "code",
   "execution_count": null,
   "id": "clinical-assist",
   "metadata": {},
   "outputs": [],
   "source": [
    "%disconnect lake_demo"
   ]
  },
  {
   "cell_type": "code",
   "execution_count": null,
   "id": "sensitive-humanity",
   "metadata": {},
   "outputs": [],
   "source": []
  }
 ],
 "metadata": {
  "kernelspec": {
   "display_name": "Teradata SQL",
   "language": "Teradata SQL",
   "name": "teradatasql"
  },
  "language_info": {
   "codemirror_mode": "Teradata SQL",
   "file_extension": ".tdrs",
   "mimetype": "application/vnd.teradata.resultset",
   "name": "Teradata SQL",
   "nbconvert_exporter": "",
   "pygments_lexer": "",
   "version": "16.20"
  },
  "toc-autonumbering": false,
  "toc-showmarkdowntxt": true,
  "toc-showtags": false
 },
 "nbformat": 4,
 "nbformat_minor": 5
}
