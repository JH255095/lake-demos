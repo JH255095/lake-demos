{
 "cells": [
  {
   "cell_type": "markdown",
   "id": "parliamentary-relief",
   "metadata": {},
   "source": [
    "<header style=\"padding:1px;background:#f9f9f9;border-top:3px solid #00b2b1\"><img id=\"Teradata-logo\" src=\"https://www.teradata.com/Teradata/Images/Rebrand/Teradata_logo-two_color.png\" alt=\"Teradata\" width=\"220\" align=\"right\" />\n",
    "\n",
    "<b style = 'font-size:28px;font-family:Arial;color:#E37C4D'>Flexible, Scalable Storage and Analytics with Vantage</b>\n",
    "</header>\n",
    "\n",
    "<br>\n",
    "\n",
    "<p style = 'font-size:16px;font-family:Arial'>Teradata's VantageCloud Lake Edition is the only enterprise-class analytics platform that enables powerful, open, and flexible analytics against data in any location; Data Lakes, third-party systems, and traditional EDW.</p>\n",
    "\n",
    "<hr>\n",
    "\n",
    "<b style = 'font-size:28px;font-family:Arial;color:#E37C4D'>Environment Overview</b>\n",
    "\n",
    "<p style = 'font-size:16px;font-family:Arial'>This demonstration will illustrate how users can can use Vantage to access data from a variety of external sources, choose from multiple physical and virtual storage tiers, and then derive valuable analytic and business insights at extreme scale with minimal cost.</p>\n",
    "\n",
    "<p style = 'font-size:16px;font-family:Arial'>Data Architects and Engineers have a choice of a broad data locality and storage types that can help optimize the balance between cost, accessibility, and analytic performance.  These storage types include:</p>\n",
    "\n",
    "<table style = 'width:100%;table-layout:fixed;'>\n",
    "    <tr>\n",
    "        <td style = 'vertical-align:top;font-size:16px;font-family:Arial' width = '50%'>\n",
    "            <ol style = 'font-size:16px;font-family:Arial'>\n",
    "                <li>Direct-attached block storage for high-speed, tactical workloads.  Most common for smaller, dimensional tables, or tables that support tactical, near-real-time query patterns.</li>\n",
    "                <br>\n",
    "                <li>An object-storage-based filesystem named the Vantage Object Filesystem (OFS) which features:\n",
    "                    <ul style = 'font-size:16px;font-family:Arial'>\n",
    "                        <li>Massively scalable low-cost storage</li>\n",
    "                        <li>Data sharing across multiple processing clusters</li>\n",
    "                <li>Full ACID compliance and optimized for performance including caching, optimized spool, indexed metadata</li>\n",
    "                    </ul>\n",
    "                </li>\n",
    "                <br>\n",
    "                <li>Open Object Storage; which can include Data Lakes (including formats such as Delta), IIOT data, Data Marketplaces, and many other third-party ETL and data streaming systems.</li>\n",
    "            </ol>\n",
    "        </td>\n",
    "        <td><img src = 'images/Arch_Simple.png' width = '400'></td>\n",
    "    </tr>\n",
    "</table>\n",
    "\n",
    "<b style = 'font-size:28px;font-family:Arial;color:#E37C4D'>Demonstration Overview</b>\n",
    "\n",
    "<p style = 'font-size:16px;font-family:Arial'>This notebook consists of three primary demonstrations designed to briefly review these storage types and how they can be mixed transparently for analytical processing.  </p>\n",
    "<ol style = 'font-size:16px;font-family:Arial'>\n",
    "    <li><b>Demo 1 - The Object Filesystem (OFS)</b>. Show how users can load data, execute queries, as well as how leverage Time Travel capabilities</li>\n",
    "    <li><b>Demo 2 - Open Object Storage</b> - Data Discovery and analytics against data in S3, and an illustration of how to simplify access for users</li>\n",
    "    <li><b>Demo 3 - Analytics</b> - Combine data across storage tiers and apply powerful, scalable ClearScape Analytics Functions</li>\n",
    "    </ol>\n"
   ]
  },
  {
   "cell_type": "markdown",
   "id": "monthly-apparel",
   "metadata": {},
   "source": [
    "<hr>\n",
    "\n",
    "<p style = 'font-size:18px;font-family:Arial;color:#E37C4D'>Connect to Vantage</p>\n",
    "\n",
    "<p style = 'font-size:16px;font-family:Arial'>This notebook uses the Vantage Plugin for Jupyter; a Jupyter Lab Extension that provides native SQL processing, administrative magic functions, and visualiztion capabilities.  In order to conntect to our Vantage system, the user needs to create a connection - this connection is stored in the user's profile and doesn't need to be recreated each time.</p> "
   ]
  },
  {
   "cell_type": "code",
   "execution_count": 108,
   "id": "executive-texture",
   "metadata": {
    "tags": []
   },
   "outputs": [
    {
     "ename": "ERROR",
     "evalue": "Connection with the name 'lake_user' already exists",
     "output_type": "error",
     "traceback": [
      "Connection with the name 'lake_user' already exists"
     ]
    }
   ],
   "source": [
    "%addconnect name=lake_demo, host=54.69.11.56"
   ]
  },
  {
   "cell_type": "code",
   "execution_count": 14,
   "id": "vertical-edmonton",
   "metadata": {
    "tags": []
   },
   "outputs": [
    {
     "name": "stdout",
     "output_type": "stream",
     "text": [
      "Success: 'lake_demo' connection modified. Disconnect and re-connect for the modified values to take effect. \n"
     ]
    }
   ],
   "source": [
    "%chconnect name=lake_demo, host=35.84.78.248"
   ]
  },
  {
   "cell_type": "code",
   "execution_count": 17,
   "id": "boolean-telephone",
   "metadata": {
    "tags": []
   },
   "outputs": [
    {
     "ename": "ERROR",
     "evalue": "Profile lake_demo not connected",
     "output_type": "error",
     "traceback": [
      "Profile lake_demo not connected"
     ]
    }
   ],
   "source": [
    "%disconnect lake_demo"
   ]
  },
  {
   "cell_type": "markdown",
   "id": "tropical-longitude",
   "metadata": {
    "tags": []
   },
   "source": [
    "password is 'password':"
   ]
  },
  {
   "cell_type": "code",
   "execution_count": 1,
   "id": "operational-visit",
   "metadata": {},
   "outputs": [
    {
     "name": "stdin",
     "output_type": "stream",
     "text": [
      "Password: ········\n"
     ]
    },
    {
     "name": "stdout",
     "output_type": "stream",
     "text": [
      "Success: 'lake_demo' connection established and activated for user 'data_engineer'\n"
     ]
    }
   ],
   "source": [
    "%connect lake_demo, user=data_engineer"
   ]
  },
  {
   "cell_type": "code",
   "execution_count": 2,
   "id": "composite-balloon",
   "metadata": {
    "tags": []
   },
   "outputs": [
    {
     "data": {
      "text/plain": [
       "Success: 1 rows affected"
      ]
     },
     "execution_count": 2,
     "metadata": {
      "application/vnd.teradata.resultset": ""
     },
     "output_type": "execute_result"
    }
   ],
   "source": [
    "--Set user's session to use the \"Standard\" Compute Group\n",
    "SET SESSION COMPUTE GROUP CG_BUSGRPA_STD"
   ]
  },
  {
   "cell_type": "markdown",
   "id": "critical-disease",
   "metadata": {},
   "source": [
    "<hr>\n",
    "<p style = 'font-size:28px;font-family:Arial;color:#E37C4D'><b>Demonstration 1 - Vantage Object FileSystem (OFS)</b></p>\n",
    "\n",
    "<table style = 'width:100%;table-layout:fixed;'>\n",
    "    <tr>\n",
    "        <td style = 'vertical-align:top' width = '40%'>\n",
    "            <ul style = 'font-size:16px;font-family:Arial'>\n",
    "                <li>Immutable storage, objects are versioned to guarantee consistency</li>\n",
    "                <br>\n",
    "                <li>The Object File System (OFS) index is represented by a tree structure with a single root with multiple leaf nodes:\n",
    "                    <br>\n",
    "                    <ul><br>\n",
    "                        <li>One internal index structure is created for each OFS table</li>\n",
    "                    <br>\n",
    "                        <li>Internal indexes provide efficiency in multiple ways:\n",
    "                        <ul>\n",
    "                            <li>Filtering out selected rows</li>\n",
    "                            <li>Pre-positioning index entries across AMPs</li>\n",
    "                            <li>Join column redistributions</li>\n",
    "                            </ul></li>\n",
    "                        <br>\n",
    "                        <li>Set of statistics values for up to 64 columns carried in the root (for each leaf) and the leaf objects (for each data object)</li>\n",
    "                <br>\n",
    "                <li>Index row sizes can be up to 1 MB</li>\n",
    "                    </ul></li>\n",
    "            </ul>\n",
    "        </td>\n",
    "        <td><img src = 'images/OFS_Structure.png' width = '600'></td>\n",
    "    </tr>\n",
    "</table>"
   ]
  },
  {
   "cell_type": "markdown",
   "id": "right-minnesota",
   "metadata": {},
   "source": [
    "<hr>\n",
    "\n",
    "<p style = 'font-size:18px;font-family:Arial;color:#E37C4D'>Create the OFS Table</p>\n",
    "\n",
    "<p style = 'font-size:16px;font-family:Arial'>For purposes of demonstration, the user will DROP the table prior to loading so as to show how a new table can be created.</p> \n",
    "\n",
    "<p style = 'font-size:16px;font-family:Arial'>Tables can be defined as generally normally done with any RDBMS.  However, in this case we will show some specifics that are unique to Vantage.</p>\n",
    "<ul style = 'font-size:16px;font-family:Arial'><li><b>First</b>, the \"STORAGE\" clause is set to indicate the data will be stored in the OFS framework.</li>\n",
    "    <li><b>Second</b>, the SELECT that is used to populate the table consists of a specific query type designed to read data directly from an Object Store.</li> </ul>\n",
    "    \n",
    "<p style = 'font-size:16px;font-family:Arial'>Finally, the table can be queried as any normal relational table.</p>"
   ]
  },
  {
   "cell_type": "code",
   "execution_count": 20,
   "id": "million-dutch",
   "metadata": {},
   "outputs": [
    {
     "ename": "ERROR",
     "evalue": "Unable to run SQL: Unable to run SQL query: Database reported error:3807:Object 'demo.Txn_History_OFS' does not exist.",
     "output_type": "error",
     "traceback": [
      "Unable to run SQL: Unable to run SQL query: Database reported error:3807:Object 'demo.Txn_History_OFS' does not exist."
     ]
    }
   ],
   "source": [
    "DROP TABLE demo.Txn_History_OFS"
   ]
  },
  {
   "cell_type": "code",
   "execution_count": 21,
   "id": "wanted-frank",
   "metadata": {},
   "outputs": [
    {
     "data": {
      "text/plain": [
       "Success: 0 rows affected"
      ]
     },
     "execution_count": 21,
     "metadata": {
      "application/vnd.teradata.resultset": ""
     },
     "output_type": "execute_result"
    }
   ],
   "source": [
    "/* Load the data into OFS directly from S3\n",
    "*/\n",
    "\n",
    "--EXPLAIN\n",
    "CREATE TABLE demo.Txn_History_OFS,\n",
    "\n",
    "    /*Note the use of STORAGE here to specify OFS\n",
    "    This can also be set to a user and database default */\n",
    "    \n",
    "    STORAGE=TD_OFSSTORAGE\n",
    "    \n",
    "    /* We can use a SELECT statement to populate the table\n",
    "    using WITH DATA */\n",
    "    AS (\n",
    "\n",
    "        /*Provide json path information to identify the proper fields */\n",
    "        SELECT Payload.txn_id txn_id,\n",
    "            Payload.step step,\n",
    "            Payload.\"type\" \"txn_type\",\n",
    "            CAST(Payload.amount AS FLOAT) amount,\n",
    "            Payload.nameOrig nameOrig,\n",
    "            CAST(Payload.oldbalanceOrig AS FLOAT) oldbalanceOrig,\n",
    "            CAST(Payload.newbalanceOrig AS FLOAT) newbalanceOrig,\n",
    "            Payload.nameDest nameDest,\n",
    "            CAST(Payload.oldbalanceDest AS FLOAT) oldbalanceDest,\n",
    "            CAST(Payload.newbalanceDest AS FLOAT) newbalanceDest,\n",
    "            CAST(Payload.isFraud AS INTEGER) isFraud,\n",
    "            CAST(Payload.isFlaggedFraud AS INTEGER) isFlaggedFraud\n",
    "\n",
    "        FROM (\n",
    "            LOCATION = '/s3/s3.amazonaws.com/trial-datasets/FraudReduction/'\n",
    "            AUTHORIZATION = Repositories.PubAuth\n",
    ") AS D\n",
    ") WITH DATA;"
   ]
  },
  {
   "cell_type": "code",
   "execution_count": 22,
   "id": "piano-arcade",
   "metadata": {},
   "outputs": [
    {
     "data": {
      "application/vnd.teradata.resultset": "\"txn_type\",\"isFraud\",\"fraud_txns\"\n\"CASH_OUT\",\"20958\",\"36\"\n\"CASH_IN\",\"13142\",\"0\"\n\"DEBIT\",\"387\",\"0\"\n\"TRANSFER\",\"5045\",\"40\"\n\"PAYMENT\",\"20468\",\"0\"",
      "text/html": [
       "<div class = \"td-resultset-table-div\" style = \"max-height: 100%; overflow-y: auto\">\n",
       "      <table class=\"tdhistory75339\"><style>\n",
       "      table.tdhistory75339 { display: block !important; min-height: 189px !important; overflow: auto !important; height: 189px !important; width: 100% !important; border: 1px solid rgb(207, 207, 207) !important; border-collapse: collapse !important; ; color: var(--jp-ui-font-color1) !important; }\n",
       "      th.tdhistory75339 { border: 1px solid rgb(198,198,198) !important; border-collapse: collapse !important; ; padding: 2px 5px !important; ; font-size: 13px !important; ; text-align: center !important; white-space: normal !important; color: var(--jp-ui-font-color1) !important; }\n",
       "      th.tdhistory75339:last-child { text-align: left !important; }\n",
       "      tbody.tdhistory75339 tr:nth-child(even) { background: rgba(243, 243, 243, 0.75) !important; }\n",
       "      tbody.tdhistory75339 tr:nth-child(odd) { background: var(--jp-ui-inverse-font-color1) !important; }\n",
       "      td.tdhistory75339 { border: 1px solid rgb(207, 207, 207) !important; border-collapse: collapse !important; ; padding: 2px 5px !important; ; font-size: 13px !important; ; text-align: left !important;          white-space: nowrap !important; overflow:hidden !important; text-overflow:ellipsis !important;; }\n",
       "    </style><thead><tr style= \"background: rgba(243, 243, 243, 0.75)\"><th class=\"tdhistory75339\"></th><th class=\"tdhistory75339\">txn_type</th><th class=\"tdhistory75339\">isFraud</th><th class=\"tdhistory75339\">fraud_txns</th></tr></thead><tbody class=\"tdhistory75339 resultset-body\"><tr><th class=\"tdhistory75339\" style= \"background: rgba(243, 243, 243, 0.75)\">1</th><td class=\"tdhistory75339\">CASH_OUT</td><td class=\"tdhistory75339\">20958</td><td class=\"tdhistory75339\">36</td></tr><tr><th class=\"tdhistory75339\" style= \"background: rgba(243, 243, 243, 0.75)\">2</th><td class=\"tdhistory75339\">CASH_IN</td><td class=\"tdhistory75339\">13142</td><td class=\"tdhistory75339\">0</td></tr><tr><th class=\"tdhistory75339\" style= \"background: rgba(243, 243, 243, 0.75)\">3</th><td class=\"tdhistory75339\">DEBIT</td><td class=\"tdhistory75339\">387</td><td class=\"tdhistory75339\">0</td></tr><tr><th class=\"tdhistory75339\" style= \"background: rgba(243, 243, 243, 0.75)\">4</th><td class=\"tdhistory75339\">TRANSFER</td><td class=\"tdhistory75339\">5045</td><td class=\"tdhistory75339\">40</td></tr><tr><th class=\"tdhistory75339\" style= \"background: rgba(243, 243, 243, 0.75)\">5</th><td class=\"tdhistory75339\">PAYMENT</td><td class=\"tdhistory75339\">20468</td><td class=\"tdhistory75339\">0</td></tr></tbody></table></div>"
      ]
     },
     "execution_count": 22,
     "metadata": {
      "application/vnd.teradata.resultset": "{\"resultSetID\":\"/home/jovyan/JupyterLabRoot/Teradata/Resultsets/2023.02.13_15.19.50.548_UTC\",\"historyID\":5173,\"chunkID\":\"00001\",\"sessionid\":\"\",\"portnum\":\"\",\"dockermode\":\"docker\",\"totalRowCount\":5,\"chunkCount\":0,\"rowLimit\":0,\"columnMetadata\":[{\"columnName\":\"txn_type\",\"columnTypeName\":\"VARCHAR\",\"length\":4096,\"scale\":4096},{\"columnNumber\":1,\"columnName\":\"isFraud\",\"columnTypeName\":\"INTEGER\"},{\"columnNumber\":2,\"columnName\":\"fraud_txns\",\"columnTypeName\":\"INTEGER\"}]}"
     },
     "output_type": "execute_result"
    }
   ],
   "source": [
    "/* Run a basic query against the data \n",
    "Note we can use AS OF syntax to select a specific version\n",
    "Visualize results */\n",
    "\n",
    "SELECT txn_type, COUNT(isFraud), SUM(isFraud) fraud_txns\n",
    "FROM demo.Txn_History_OFS \n",
    "\n",
    "GROUP BY 1;"
   ]
  },
  {
   "cell_type": "code",
   "execution_count": 23,
   "id": "favorite-forestry",
   "metadata": {},
   "outputs": [
    {
     "data": {
      "application/vnd.vegalite.v3+json": {
       "$schema": "https://vega.github.io/schema/vega-lite/v3.json",
       "data": {
        "format": {
         "type": "csv"
        },
        "values": "\"txn_type\",\"isFraud\",\"fraud_txns\"\n\"CASH_OUT\",\"20958\",\"36\"\n\"CASH_IN\",\"13142\",\"0\"\n\"DEBIT\",\"387\",\"0\"\n\"TRANSFER\",\"5045\",\"40\"\n\"PAYMENT\",\"20468\",\"0\"\n"
       },
       "encoding": {
        "x": {
         "axis": {
          "grid": true,
          "title": "txn_type"
         },
         "field": "txn_type",
         "type": "nominal"
        },
        "y": {
         "axis": {
          "grid": true,
          "title": "fraud_txns"
         },
         "field": "fraud_txns",
         "type": "quantitative"
        }
       },
       "mark": {
        "color": "#4C78A8",
        "type": "bar"
       },
       "title": "Count of Fraudulent Transactions"
      },
      "image/png": "[encoded data removed]"
     },
     "execution_count": 23,
     "metadata": {
      "application/vnd.teradata.resultset": ""
     },
     "output_type": "execute_result"
    }
   ],
   "source": [
    "%chart x=txn_type, y=fraud_txns, title=\"Count of Fraudulent Transactions\""
   ]
  },
  {
   "cell_type": "markdown",
   "id": "naked-consultancy",
   "metadata": {},
   "source": [
    "<hr>\n",
    "<p style = 'font-size:28px;font-family:Arial;color:#E37C4D'><b>Time Travel with OFS</b></p>\n",
    "\n",
    "<table style = 'width:100%;table-layout:fixed;'>\n",
    "    <tr>\n",
    "        <td style = 'vertical-align:top' width = '40%'>\n",
    "            <ul style = 'font-size:16px;font-family:Arial'><b>Benefits of Time Travel</b>\n",
    "                <br>\n",
    "                <br>\n",
    "                <li>Querying the database based on how the data looked at some point in the past</li>\n",
    "                <br>\n",
    "                <li>If there were problems with a data load, users can go back to a point in time where the data is clean/consistent</li>\n",
    "                 <br>\n",
    "                 <li>Analytics can be re-run it keeping the inputs the same for one or more tables at any point in time</li>\n",
    "                <br>\n",
    "            </ul>\n",
    "            <ul style = 'font-size:16px;font-family:Arial'><b>Features</b>\n",
    "                <br>\n",
    "                <br>\n",
    "                <li>supported through SELECT AS OF syntax</li>\n",
    "                <br>\n",
    "                <li>Versions come with a system default retention period</li>\n",
    "                <br>\n",
    "                <li>Versioning allows readers to not be blocked by writers, and vice versa</li>\n",
    "                <br>\n",
    "                <li>A transactionally consistent read is always provided by using the last committed version</li>\n",
    "            </ul>\n",
    "                \n",
    "                </td>\n",
    "        <td><img src = 'images/Time_Travel.png' width = '400'></td>\n",
    "    </tr>\n",
    "</table>"
   ]
  },
  {
   "cell_type": "markdown",
   "id": "accessible-visibility",
   "metadata": {},
   "source": [
    "<hr>\n",
    "\n",
    "<p style = 'font-size:18px;font-family:Arial;color:#E37C4D'>Time Travel Demonstration</p>\n",
    "\n",
    "<p style = 'font-size:16px;font-family:Arial'>As discussed above, OFS tables have a defined retention period over which versions are stored.  This can be viewed by executing a SHOW STORAGE ACCESS statement to see the internal bucket information, including retention period.</p> \n",
    "\n",
    "<p style = 'font-size:16px;font-family:Arial'>Next, some additional data will be inserted into the table.  Executing a query gainst the VersionInfo view can show the version history</p>\n",
    "    \n",
    "<p style = 'font-size:16px;font-family:Arial'>Finally, the table can be queried using AS OF syntax to illustrate simple row counts before and after changes</p>"
   ]
  },
  {
   "cell_type": "code",
   "execution_count": 24,
   "id": "worth-upper",
   "metadata": {},
   "outputs": [
    {
     "data": {
      "application/vnd.teradata.resultset": "\"Request Text\"\n\"CREATE STORAGE ACCESS OFS TD_OFSSTORAGE ,\rAUTHORIZATION TD_OFSDB.OFSAUTH \rUSING (\r      LOCATION  ('/s3/s3.amazonaws.com/pod-tenant-tc2a0319-acc-2a03193c01-nosfs/')\r      MANAGED  ('true')\r      RETENTIONDAYS  ('30')\r);\"",
      "text/html": [
       "<div class = \"td-resultset-table-div\" style = \"max-height: 100%; overflow-y: auto\">\n",
       "      <table class=\"tdhistory41476\"><style>\n",
       "      table.tdhistory41476 { display: block !important; min-height: 105px !important; overflow: auto !important; height: 105px !important; width: 100% !important; border: 1px solid rgb(207, 207, 207) !important; border-collapse: collapse !important; ; color: var(--jp-ui-font-color1) !important; }\n",
       "      th.tdhistory41476 { border: 1px solid rgb(198,198,198) !important; border-collapse: collapse !important; ; padding: 2px 5px !important; ; font-size: 13px !important; ; text-align: center !important; white-space: normal !important; color: var(--jp-ui-font-color1) !important; }\n",
       "      th.tdhistory41476:last-child { text-align: left !important; }\n",
       "      tbody.tdhistory41476 tr:nth-child(even) { background: rgba(243, 243, 243, 0.75) !important; }\n",
       "      tbody.tdhistory41476 tr:nth-child(odd) { background: var(--jp-ui-inverse-font-color1) !important; }\n",
       "      td.tdhistory41476 { border: 1px solid rgb(207, 207, 207) !important; border-collapse: collapse !important; ; padding: 2px 5px !important; ; font-size: 13px !important; ; text-align: left !important;          white-space: nowrap !important; overflow:hidden !important; text-overflow:ellipsis !important;; }\n",
       "    </style><thead><tr style= \"background: rgba(243, 243, 243, 0.75)\"><th class=\"tdhistory41476\"></th><th class=\"tdhistory41476\">Request Text</th></tr></thead><tbody class=\"tdhistory41476 resultset-body\"><tr><th class=\"tdhistory41476\" style= \"background: rgba(243, 243, 243, 0.75)\">1</th><td class=\"tdhistory41476\">CREATE STORAGE ACCESS OFS TD_OFSSTORAGE ,\r",
       "AUTHORIZATION TD_OFSDB.OFSAUTH \r",
       "USING (\r",
       "      LOCATION  ('/s3/s3.amazonaws.com/pod-tenant-tc2a0319-acc-2a03193c01-nosfs/')\r",
       "      MANAGED  ('true')\r",
       "      RETENTIONDAYS  ('30')\r",
       ");</td></tr></tbody></table></div>"
      ]
     },
     "execution_count": 24,
     "metadata": {
      "application/vnd.teradata.resultset": "{\"resultSetID\":\"/home/jovyan/JupyterLabRoot/Teradata/Resultsets/2023.02.13_15.19.58.636_UTC\",\"historyID\":5174,\"chunkID\":\"00001\",\"sessionid\":\"\",\"portnum\":\"\",\"dockermode\":\"docker\",\"totalRowCount\":1,\"chunkCount\":0,\"rowLimit\":0,\"columnMetadata\":[{\"columnName\":\"Request Text\",\"columnTypeName\":\"VARCHAR\",\"length\":219,\"scale\":219}]}"
     },
     "output_type": "execute_result"
    }
   ],
   "source": [
    "--Show the internal S3 bucket and retention (time travel) policy\n",
    "SHOW STORAGE ACCESS TD_OFSSTORAGE"
   ]
  },
  {
   "cell_type": "code",
   "execution_count": 25,
   "id": "polyphonic-blogger",
   "metadata": {},
   "outputs": [
    {
     "data": {
      "text/plain": [
       "Success: 10000 rows affected"
      ]
     },
     "execution_count": 25,
     "metadata": {
      "application/vnd.teradata.resultset": ""
     },
     "output_type": "execute_result"
    }
   ],
   "source": [
    "/* Insert some additional rows into our OFS Table */\n",
    "INSERT INTO demo.Txn_History_OFS\n",
    "\n",
    "        /*Provide json path information to identify the proper fields */\n",
    "        SELECT TOP 10000 Payload.txn_id txn_id,\n",
    "            Payload.step step,\n",
    "            Payload.\"type\" \"txn_type\",\n",
    "            CAST(Payload.amount AS FLOAT) amount,\n",
    "            Payload.nameOrig nameOrig,\n",
    "            CAST(Payload.oldbalanceOrig AS FLOAT) oldbalanceOrig,\n",
    "            CAST(Payload.newbalanceOrig AS FLOAT) newbalanceOrig,\n",
    "            Payload.nameDest nameDest,\n",
    "            CAST(Payload.oldbalanceDest AS FLOAT) oldbalanceDest,\n",
    "            CAST(Payload.newbalanceDest AS FLOAT) newbalanceDest,\n",
    "            CAST(Payload.isFraud AS INTEGER) isFraud,\n",
    "            CAST(Payload.isFlaggedFraud AS INTEGER) isFlaggedFraud\n",
    "\n",
    "        FROM (\n",
    "            LOCATION = '/s3/s3.amazonaws.com/trial-datasets/FraudReduction/'\n",
    "            AUTHORIZATION = Repositories.PubAuth\n",
    ") D"
   ]
  },
  {
   "cell_type": "code",
   "execution_count": 26,
   "id": "serial-syndicate",
   "metadata": {},
   "outputs": [
    {
     "data": {
      "application/vnd.teradata.resultset": "\"TableName\",\"OFSStartVersionNumber\",\"VersionTimeStamp\"\n\"Txn_History_OFS\",\"0\",\"2023-02-13 11:19:28.360000-04:00\"\n\"Txn_History_OFS\",\"1\",\"2023-02-13 15:20:04.580000-04:00\"",
      "text/html": [
       "<div class = \"td-resultset-table-div\" style = \"max-height: 100%; overflow-y: auto\">\n",
       "      <table class=\"tdhistory945549\"><style>\n",
       "      table.tdhistory945549 { display: block !important; min-height: 126px !important; overflow: auto !important; height: 126px !important; width: 100% !important; border: 1px solid rgb(207, 207, 207) !important; border-collapse: collapse !important; ; color: var(--jp-ui-font-color1) !important; }\n",
       "      th.tdhistory945549 { border: 1px solid rgb(198,198,198) !important; border-collapse: collapse !important; ; padding: 2px 5px !important; ; font-size: 13px !important; ; text-align: center !important; white-space: normal !important; color: var(--jp-ui-font-color1) !important; }\n",
       "      th.tdhistory945549:last-child { text-align: left !important; }\n",
       "      tbody.tdhistory945549 tr:nth-child(even) { background: rgba(243, 243, 243, 0.75) !important; }\n",
       "      tbody.tdhistory945549 tr:nth-child(odd) { background: var(--jp-ui-inverse-font-color1) !important; }\n",
       "      td.tdhistory945549 { border: 1px solid rgb(207, 207, 207) !important; border-collapse: collapse !important; ; padding: 2px 5px !important; ; font-size: 13px !important; ; text-align: left !important;          white-space: nowrap !important; overflow:hidden !important; text-overflow:ellipsis !important;; }\n",
       "    </style><thead><tr style= \"background: rgba(243, 243, 243, 0.75)\"><th class=\"tdhistory945549\"></th><th class=\"tdhistory945549\">TableName</th><th class=\"tdhistory945549\">OFSStartVersionNumber</th><th class=\"tdhistory945549\">VersionTimeStamp</th></tr></thead><tbody class=\"tdhistory945549 resultset-body\"><tr><th class=\"tdhistory945549\" style= \"background: rgba(243, 243, 243, 0.75)\">1</th><td class=\"tdhistory945549\">Txn_History_OFS</td><td class=\"tdhistory945549\">0</td><td class=\"tdhistory945549\">2023-02-13 11:19:28.360000-04:00</td></tr><tr><th class=\"tdhistory945549\" style= \"background: rgba(243, 243, 243, 0.75)\">2</th><td class=\"tdhistory945549\">Txn_History_OFS</td><td class=\"tdhistory945549\">1</td><td class=\"tdhistory945549\">2023-02-13 15:20:04.580000-04:00</td></tr></tbody></table></div>"
      ]
     },
     "execution_count": 26,
     "metadata": {
      "application/vnd.teradata.resultset": "{\"resultSetID\":\"/home/jovyan/JupyterLabRoot/Teradata/Resultsets/2023.02.13_15.20.08.153_UTC\",\"historyID\":5176,\"chunkID\":\"00001\",\"sessionid\":\"\",\"portnum\":\"\",\"dockermode\":\"docker\",\"totalRowCount\":2,\"chunkCount\":0,\"rowLimit\":0,\"columnMetadata\":[{\"columnName\":\"TableName\",\"columnTypeName\":\"VARCHAR\",\"length\":128,\"scale\":128},{\"columnNumber\":1,\"columnName\":\"OFSStartVersionNumber\",\"columnTypeName\":\"BIGINT\"},{\"columnNumber\":2,\"columnName\":\"VersionTimeStamp\",\"columnTypeName\":\"TIMESTAMP WITH TIME ZONE\",\"length\":6,\"scale\":6}]}"
     },
     "output_type": "execute_result"
    }
   ],
   "source": [
    "-- Show Table Versioning for Time Travel capabilities\n",
    "SELECT TableName, OFSStartVersionNumber, VersionTimeStamp FROM DBC.MultiVersionInfoTblV\n",
    "WHERE DatabaseName = 'demo'\n",
    "AND TableName = 'Txn_History_OFS'\n",
    "ORDER BY 2;"
   ]
  },
  {
   "cell_type": "code",
   "execution_count": 27,
   "id": "living-intermediate",
   "metadata": {},
   "outputs": [
    {
     "ename": "ERROR",
     "evalue": "Unable to run SQL: Unable to run SQL query: Database reported error:4864:The timestamp is in the future",
     "output_type": "error",
     "traceback": [
      "Unable to run SQL: Unable to run SQL query: Database reported error:4864:The timestamp is in the future"
     ]
    }
   ],
   "source": [
    "/* Count the number of rows after each version\n",
    "Replace the timestamps as necessary */\n",
    "\n",
    "SELECT 'Original' as Ver, COUNT(*) \n",
    "FROM demo.Txn_History_OFS \n",
    "    AS OF TIMESTAMP '2023-02-13 11:19:28.360000-04:00'\n",
    "\n",
    "GROUP BY 1\n",
    "\n",
    "UNION ALL \n",
    "\n",
    "SELECT 'New Ver' as Ver, COUNT(*) \n",
    "FROM demo.Txn_History_OFS \n",
    "    AS OF TIMESTAMP '2023-02-13 15:20:04.580000-04:00'\n",
    "\n",
    "GROUP BY 1"
   ]
  },
  {
   "cell_type": "markdown",
   "id": "textile-phenomenon",
   "metadata": {},
   "source": [
    "<hr>\n",
    "<p style = 'font-size:28px;font-family:Arial;color:#E37C4D'><b>Demonstration 2 - Data in External Object Stores</b></p>\n",
    "\n",
    "<table style = 'width:100%;table-layout:fixed;'>\n",
    "    <tr>\n",
    "        <td style = 'vertical-align:top' width = '40%'>\n",
    "            <ul style = 'font-size:16px;font-family:Arial'>\n",
    "                <li>Vast quantities of data stored in Object Storage\n",
    "                    <br>\n",
    "                <ul>\n",
    "                    <br>\n",
    "                    <li>Data Lakes</li>\n",
    "                    <br>\n",
    "                    <li>IOT/IIOT</li>\n",
    "                    <br>\n",
    "                    <li>Marketplaces</li><br>\n",
    "                    </ul></li>\n",
    "                <br>\n",
    "                <li>Vantage can read this data directly using built-in capabilities:\n",
    "                    <br>\n",
    "                    <ul><br>\n",
    "                        <li>At massive scale/parallelism</li>\n",
    "                    <br>\n",
    "                        <li>Automatic schema discovery</li>\n",
    "                        <br>\n",
    "                            <li>Read optimizations/object filtering</li>\n",
    "                            </ul></li>\n",
    "                <br>\n",
    "                <li>Administrators can create objects to enable easy access/analysis:\n",
    "                <ul><br>\n",
    "                    <li>Foreign Tables that contain object locations and definitions</li>\n",
    "                    <br>\n",
    "                    <li>Views to simplify access for users</li>\n",
    "                    </ul>\n",
    "                </li>\n",
    "            </ul>\n",
    "        </td>\n",
    "        <td><img src = 'images/Data_Marketplace.png' width = '600'></td>\n",
    "    </tr>\n",
    "</table>"
   ]
  },
  {
   "cell_type": "markdown",
   "id": "anonymous-replication",
   "metadata": {},
   "source": [
    "<hr>\n",
    "\n",
    "<p style = 'font-size:18px;font-family:Arial;color:#E37C4D'>Exploration and Access Data in Object Stores</p>\n",
    "\n",
    "<p style = 'font-size:16px;font-family:Arial'>The illustrations below review some common query types for investigating data in object storage.  Adding a \"RETURNTYPE\" parameter to the query can return additional information about the data:</p>\n",
    "<ul style = 'font-size:16px;font-family:Arial'>\n",
    "    <li><b>NOSREAD_KEYS</b> will return objects keys/key paths, length in bytes, etc.</li>\n",
    "    <li><b>NOSREAD_SCHEMA</b> will return the objects schema as interpreted by Vantage</li>\n",
    "    </ul>\n",
    "\n",
    "<p style = 'font-size:16px;font-family:Arial'>The Data Engineer can then create a <b>Foreign Table</b> which acts as a virtual pointer to the data as it lies in Object Storage.  Optionally, this table can contain filtering mechanisms to assist in minimizing download volumes and improving performance.</p>"
   ]
  },
  {
   "cell_type": "code",
   "execution_count": 28,
   "id": "studied-spoke",
   "metadata": {},
   "outputs": [
    {
     "data": {
      "application/vnd.teradata.resultset": "\"Location\",\"ObjectLength\"\n\"/S3/s3.amazonaws.com/td-usecases-data-store/retail_sample_data/FSCustomerJourney/ich_banking/ich_banking_1.csv\",\"14680002\"\n\"/S3/s3.amazonaws.com/td-usecases-data-store/retail_sample_data/FSCustomerJourney/ich_banking/ich_banking_10.csv\",\"9949618\"\n\"/S3/s3.amazonaws.com/td-usecases-data-store/retail_sample_data/FSCustomerJourney/ich_banking/ich_banking_2.csv\",\"14679966\"\n\"/S3/s3.amazonaws.com/td-usecases-data-store/retail_sample_data/FSCustomerJourney/ich_banking/ich_banking_3.csv\",\"14680146\"\n\"/S3/s3.amazonaws.com/td-usecases-data-store/retail_sample_data/FSCustomerJourney/ich_banking/ich_banking_4.csv\",\"14680017\"\n\"/S3/s3.amazonaws.com/td-usecases-data-store/retail_sample_data/FSCustomerJourney/ich_banking/ich_banking_5.csv\",\"14680095\"\n\"/S3/s3.amazonaws.com/td-usecases-data-store/retail_sample_data/FSCustomerJourney/ich_banking/ich_banking_6.csv\",\"14680063\"\n\"/S3/s3.amazonaws.com/td-usecases-data-store/retail_sample_data/FSCustomerJourney/ich_banking/ich_banking_7.csv\",\"14679943\"\n\"/S3/s3.amazonaws.com/td-usecases-data-store/retail_sample_data/FSCustomerJourney/ich_banking/ich_banking_8.csv\",\"14680277\"\n\"/S3/s3.amazonaws.com/td-usecases-data-store/retail_sample_data/FSCustomerJourney/ich_banking/ich_banking_9.csv\",\"14679948\"",
      "text/html": [
       "<div class = \"td-resultset-table-div\" style = \"max-height: 100%; overflow-y: auto\">\n",
       "      <table class=\"tdhistory998613\"><style>\n",
       "      table.tdhistory998613 { display: block !important; min-height: 294px !important; overflow: auto !important; height: 294px !important; width: 100% !important; border: 1px solid rgb(207, 207, 207) !important; border-collapse: collapse !important; ; color: var(--jp-ui-font-color1) !important; }\n",
       "      th.tdhistory998613 { border: 1px solid rgb(198,198,198) !important; border-collapse: collapse !important; ; padding: 2px 5px !important; ; font-size: 13px !important; ; text-align: center !important; white-space: normal !important; color: var(--jp-ui-font-color1) !important; }\n",
       "      th.tdhistory998613:last-child { text-align: left !important; }\n",
       "      tbody.tdhistory998613 tr:nth-child(even) { background: rgba(243, 243, 243, 0.75) !important; }\n",
       "      tbody.tdhistory998613 tr:nth-child(odd) { background: var(--jp-ui-inverse-font-color1) !important; }\n",
       "      td.tdhistory998613 { border: 1px solid rgb(207, 207, 207) !important; border-collapse: collapse !important; ; padding: 2px 5px !important; ; font-size: 13px !important; ; text-align: left !important;          white-space: nowrap !important; overflow:hidden !important; text-overflow:ellipsis !important;; }\n",
       "    </style><thead><tr style= \"background: rgba(243, 243, 243, 0.75)\"><th class=\"tdhistory998613\"></th><th class=\"tdhistory998613\">Location</th><th class=\"tdhistory998613\">ObjectLength</th></tr></thead><tbody class=\"tdhistory998613 resultset-body\"><tr><th class=\"tdhistory998613\" style= \"background: rgba(243, 243, 243, 0.75)\">1</th><td class=\"tdhistory998613\">/S3/s3.amazonaws.com/td-usecases-data-store/retail_sample_data/FSCustomerJourney/ich_banking/ich_banking_1.csv</td><td class=\"tdhistory998613\">14680002</td></tr><tr><th class=\"tdhistory998613\" style= \"background: rgba(243, 243, 243, 0.75)\">2</th><td class=\"tdhistory998613\">/S3/s3.amazonaws.com/td-usecases-data-store/retail_sample_data/FSCustomerJourney/ich_banking/ich_banking_10.csv</td><td class=\"tdhistory998613\">9949618</td></tr><tr><th class=\"tdhistory998613\" style= \"background: rgba(243, 243, 243, 0.75)\">3</th><td class=\"tdhistory998613\">/S3/s3.amazonaws.com/td-usecases-data-store/retail_sample_data/FSCustomerJourney/ich_banking/ich_banking_2.csv</td><td class=\"tdhistory998613\">14679966</td></tr><tr><th class=\"tdhistory998613\" style= \"background: rgba(243, 243, 243, 0.75)\">4</th><td class=\"tdhistory998613\">/S3/s3.amazonaws.com/td-usecases-data-store/retail_sample_data/FSCustomerJourney/ich_banking/ich_banking_3.csv</td><td class=\"tdhistory998613\">14680146</td></tr><tr><th class=\"tdhistory998613\" style= \"background: rgba(243, 243, 243, 0.75)\">5</th><td class=\"tdhistory998613\">/S3/s3.amazonaws.com/td-usecases-data-store/retail_sample_data/FSCustomerJourney/ich_banking/ich_banking_4.csv</td><td class=\"tdhistory998613\">14680017</td></tr><tr><th class=\"tdhistory998613\" style= \"background: rgba(243, 243, 243, 0.75)\">6</th><td class=\"tdhistory998613\">/S3/s3.amazonaws.com/td-usecases-data-store/retail_sample_data/FSCustomerJourney/ich_banking/ich_banking_5.csv</td><td class=\"tdhistory998613\">14680095</td></tr><tr><th class=\"tdhistory998613\" style= \"background: rgba(243, 243, 243, 0.75)\">7</th><td class=\"tdhistory998613\">/S3/s3.amazonaws.com/td-usecases-data-store/retail_sample_data/FSCustomerJourney/ich_banking/ich_banking_6.csv</td><td class=\"tdhistory998613\">14680063</td></tr><tr><th class=\"tdhistory998613\" style= \"background: rgba(243, 243, 243, 0.75)\">8</th><td class=\"tdhistory998613\">/S3/s3.amazonaws.com/td-usecases-data-store/retail_sample_data/FSCustomerJourney/ich_banking/ich_banking_7.csv</td><td class=\"tdhistory998613\">14679943</td></tr><tr><th class=\"tdhistory998613\" style= \"background: rgba(243, 243, 243, 0.75)\">9</th><td class=\"tdhistory998613\">/S3/s3.amazonaws.com/td-usecases-data-store/retail_sample_data/FSCustomerJourney/ich_banking/ich_banking_8.csv</td><td class=\"tdhistory998613\">14680277</td></tr><tr><th class=\"tdhistory998613\" style= \"background: rgba(243, 243, 243, 0.75)\">10</th><td class=\"tdhistory998613\">/S3/s3.amazonaws.com/td-usecases-data-store/retail_sample_data/FSCustomerJourney/ich_banking/ich_banking_9.csv</td><td class=\"tdhistory998613\">14679948</td></tr></tbody></table></div>"
      ]
     },
     "execution_count": 28,
     "metadata": {
      "application/vnd.teradata.resultset": "{\"resultSetID\":\"/home/jovyan/JupyterLabRoot/Teradata/Resultsets/2023.02.13_15.20.33.890_UTC\",\"historyID\":5178,\"chunkID\":\"00001\",\"sessionid\":\"\",\"portnum\":\"\",\"dockermode\":\"docker\",\"totalRowCount\":10,\"chunkCount\":0,\"rowLimit\":0,\"columnMetadata\":[{\"columnName\":\"Location\",\"columnTypeName\":\"VARCHAR\",\"length\":2048,\"scale\":2048},{\"columnNumber\":1,\"columnName\":\"ObjectLength\",\"columnTypeName\":\"BIGINT\"}]}"
     },
     "output_type": "execute_result"
    }
   ],
   "source": [
    "/* Investigate object structure */\n",
    "\n",
    "SELECT Location, ObjectLength\n",
    "\n",
    "FROM (\n",
    "    LOCATION = '/s3/s3.amazonaws.com/td-usecases-data-store/retail_sample_data/FSCustomerJourney/ich_banking/'\n",
    "    AUTHORIZATION = retail_sample_data.DEMO_AUTH_NOS\n",
    "    RETURNTYPE = 'NOSREAD_KEYS'\n",
    ") AS D"
   ]
  },
  {
   "cell_type": "code",
   "execution_count": 29,
   "id": "dynamic-horizon",
   "metadata": {},
   "outputs": [
    {
     "data": {
      "application/vnd.teradata.resultset": "\"ColPosition\",\"Name\",\"Datatype\",\"FileType\",\"Location\"\n\"1\",\"Col1\",\"int\",\"csv\",\"/S3/s3.amazonaws.com/td-usecases-data-store/retail_sample_data/FSCustomerJourney/ich_banking/ich_banking_1.csv\"\n\"2\",\"Col2\",\"char(27) CHARACTER SET LATIN\",\"csv\",\"/S3/s3.amazonaws.com/td-usecases-data-store/retail_sample_data/FSCustomerJourney/ich_banking/ich_banking_1.csv\"\n\"3\",\"Col3\",\"VARCHAR(51) CHARACTER SET LATIN\",\"csv\",\"/S3/s3.amazonaws.com/td-usecases-data-store/retail_sample_data/FSCustomerJourney/ich_banking/ich_banking_1.csv\"\n\"4\",\"Col4\",\"char(3) CHARACTER SET LATIN\",\"csv\",\"/S3/s3.amazonaws.com/td-usecases-data-store/retail_sample_data/FSCustomerJourney/ich_banking/ich_banking_1.csv\"\n\"5\",\"Col5\",\"int\",\"csv\",\"/S3/s3.amazonaws.com/td-usecases-data-store/retail_sample_data/FSCustomerJourney/ich_banking/ich_banking_1.csv\"\n\"6\",\"Col6\",\"varchar(40) CHARACTER SET LATIN\",\"csv\",\"/S3/s3.amazonaws.com/td-usecases-data-store/retail_sample_data/FSCustomerJourney/ich_banking/ich_banking_1.csv\"\n\"7\",\"Col7\",\"smallint\",\"csv\",\"/S3/s3.amazonaws.com/td-usecases-data-store/retail_sample_data/FSCustomerJourney/ich_banking/ich_banking_1.csv\"\n\"8\",\"Col8\",\"int\",\"csv\",\"/S3/s3.amazonaws.com/td-usecases-data-store/retail_sample_data/FSCustomerJourney/ich_banking/ich_banking_1.csv\"\n\"9\",\"Col9\",\"char(34) CHARACTER SET LATIN\",\"csv\",\"/S3/s3.amazonaws.com/td-usecases-data-store/retail_sample_data/FSCustomerJourney/ich_banking/ich_banking_1.csv\"\n\"10\",\"Col10\",\"varchar(27) CHARACTER SET LATIN\",\"csv\",\"/S3/s3.amazonaws.com/td-usecases-data-store/retail_sample_data/FSCustomerJourney/ich_banking/ich_banking_1.csv\"\n\"11\",\"Col11\",\"varchar(43) CHARACTER SET LATIN\",\"csv\",\"/S3/s3.amazonaws.com/td-usecases-data-store/retail_sample_data/FSCustomerJourney/ich_banking/ich_banking_1.csv\"\n\"12\",\"Col12\",\"varchar(22) CHARACTER SET LATIN\",\"csv\",\"/S3/s3.amazonaws.com/td-usecases-data-store/retail_sample_data/FSCustomerJourney/ich_banking/ich_banking_1.csv\"",
      "text/html": [
       "<div class = \"td-resultset-table-div\" style = \"max-height: 100%; overflow-y: auto\">\n",
       "      <table class=\"tdhistory414492\"><style>\n",
       "      table.tdhistory414492 { display: block !important; min-height: 336px !important; overflow: auto !important; height: 336px !important; width: 100% !important; border: 1px solid rgb(207, 207, 207) !important; border-collapse: collapse !important; ; color: var(--jp-ui-font-color1) !important; }\n",
       "      th.tdhistory414492 { border: 1px solid rgb(198,198,198) !important; border-collapse: collapse !important; ; padding: 2px 5px !important; ; font-size: 13px !important; ; text-align: center !important; white-space: normal !important; color: var(--jp-ui-font-color1) !important; }\n",
       "      th.tdhistory414492:last-child { text-align: left !important; }\n",
       "      tbody.tdhistory414492 tr:nth-child(even) { background: rgba(243, 243, 243, 0.75) !important; }\n",
       "      tbody.tdhistory414492 tr:nth-child(odd) { background: var(--jp-ui-inverse-font-color1) !important; }\n",
       "      td.tdhistory414492 { border: 1px solid rgb(207, 207, 207) !important; border-collapse: collapse !important; ; padding: 2px 5px !important; ; font-size: 13px !important; ; text-align: left !important;          white-space: nowrap !important; overflow:hidden !important; text-overflow:ellipsis !important;; }\n",
       "    </style><thead><tr style= \"background: rgba(243, 243, 243, 0.75)\"><th class=\"tdhistory414492\"></th><th class=\"tdhistory414492\">ColPosition</th><th class=\"tdhistory414492\">Name</th><th class=\"tdhistory414492\">Datatype</th><th class=\"tdhistory414492\">FileType</th><th class=\"tdhistory414492\">Location</th></tr></thead><tbody class=\"tdhistory414492 resultset-body\"><tr><th class=\"tdhistory414492\" style= \"background: rgba(243, 243, 243, 0.75)\">1</th><td class=\"tdhistory414492\">1</td><td class=\"tdhistory414492\">Col1</td><td class=\"tdhistory414492\">int</td><td class=\"tdhistory414492\">csv</td><td class=\"tdhistory414492\">/S3/s3.amazonaws.com/td-usecases-data-store/retail_sample_data/FSCustomerJourney/ich_banking/ich_banking_1.csv</td></tr><tr><th class=\"tdhistory414492\" style= \"background: rgba(243, 243, 243, 0.75)\">2</th><td class=\"tdhistory414492\">2</td><td class=\"tdhistory414492\">Col2</td><td class=\"tdhistory414492\">char(27) CHARACTER SET LATIN</td><td class=\"tdhistory414492\">csv</td><td class=\"tdhistory414492\">/S3/s3.amazonaws.com/td-usecases-data-store/retail_sample_data/FSCustomerJourney/ich_banking/ich_banking_1.csv</td></tr><tr><th class=\"tdhistory414492\" style= \"background: rgba(243, 243, 243, 0.75)\">3</th><td class=\"tdhistory414492\">3</td><td class=\"tdhistory414492\">Col3</td><td class=\"tdhistory414492\">VARCHAR(51) CHARACTER SET LATIN</td><td class=\"tdhistory414492\">csv</td><td class=\"tdhistory414492\">/S3/s3.amazonaws.com/td-usecases-data-store/retail_sample_data/FSCustomerJourney/ich_banking/ich_banking_1.csv</td></tr><tr><th class=\"tdhistory414492\" style= \"background: rgba(243, 243, 243, 0.75)\">4</th><td class=\"tdhistory414492\">4</td><td class=\"tdhistory414492\">Col4</td><td class=\"tdhistory414492\">char(3) CHARACTER SET LATIN</td><td class=\"tdhistory414492\">csv</td><td class=\"tdhistory414492\">/S3/s3.amazonaws.com/td-usecases-data-store/retail_sample_data/FSCustomerJourney/ich_banking/ich_banking_1.csv</td></tr><tr><th class=\"tdhistory414492\" style= \"background: rgba(243, 243, 243, 0.75)\">5</th><td class=\"tdhistory414492\">5</td><td class=\"tdhistory414492\">Col5</td><td class=\"tdhistory414492\">int</td><td class=\"tdhistory414492\">csv</td><td class=\"tdhistory414492\">/S3/s3.amazonaws.com/td-usecases-data-store/retail_sample_data/FSCustomerJourney/ich_banking/ich_banking_1.csv</td></tr><tr><th class=\"tdhistory414492\" style= \"background: rgba(243, 243, 243, 0.75)\">6</th><td class=\"tdhistory414492\">6</td><td class=\"tdhistory414492\">Col6</td><td class=\"tdhistory414492\">varchar(40) CHARACTER SET LATIN</td><td class=\"tdhistory414492\">csv</td><td class=\"tdhistory414492\">/S3/s3.amazonaws.com/td-usecases-data-store/retail_sample_data/FSCustomerJourney/ich_banking/ich_banking_1.csv</td></tr><tr><th class=\"tdhistory414492\" style= \"background: rgba(243, 243, 243, 0.75)\">7</th><td class=\"tdhistory414492\">7</td><td class=\"tdhistory414492\">Col7</td><td class=\"tdhistory414492\">smallint</td><td class=\"tdhistory414492\">csv</td><td class=\"tdhistory414492\">/S3/s3.amazonaws.com/td-usecases-data-store/retail_sample_data/FSCustomerJourney/ich_banking/ich_banking_1.csv</td></tr><tr><th class=\"tdhistory414492\" style= \"background: rgba(243, 243, 243, 0.75)\">8</th><td class=\"tdhistory414492\">8</td><td class=\"tdhistory414492\">Col8</td><td class=\"tdhistory414492\">int</td><td class=\"tdhistory414492\">csv</td><td class=\"tdhistory414492\">/S3/s3.amazonaws.com/td-usecases-data-store/retail_sample_data/FSCustomerJourney/ich_banking/ich_banking_1.csv</td></tr><tr><th class=\"tdhistory414492\" style= \"background: rgba(243, 243, 243, 0.75)\">9</th><td class=\"tdhistory414492\">9</td><td class=\"tdhistory414492\">Col9</td><td class=\"tdhistory414492\">char(34) CHARACTER SET LATIN</td><td class=\"tdhistory414492\">csv</td><td class=\"tdhistory414492\">/S3/s3.amazonaws.com/td-usecases-data-store/retail_sample_data/FSCustomerJourney/ich_banking/ich_banking_1.csv</td></tr><tr><th class=\"tdhistory414492\" style= \"background: rgba(243, 243, 243, 0.75)\">10</th><td class=\"tdhistory414492\">10</td><td class=\"tdhistory414492\">Col10</td><td class=\"tdhistory414492\">varchar(27) CHARACTER SET LATIN</td><td class=\"tdhistory414492\">csv</td><td class=\"tdhistory414492\">/S3/s3.amazonaws.com/td-usecases-data-store/retail_sample_data/FSCustomerJourney/ich_banking/ich_banking_1.csv</td></tr><tr><th class=\"tdhistory414492\" style= \"background: rgba(243, 243, 243, 0.75)\">11</th><td class=\"tdhistory414492\">11</td><td class=\"tdhistory414492\">Col11</td><td class=\"tdhistory414492\">varchar(43) CHARACTER SET LATIN</td><td class=\"tdhistory414492\">csv</td><td class=\"tdhistory414492\">/S3/s3.amazonaws.com/td-usecases-data-store/retail_sample_data/FSCustomerJourney/ich_banking/ich_banking_1.csv</td></tr><tr><th class=\"tdhistory414492\" style= \"background: rgba(243, 243, 243, 0.75)\">12</th><td class=\"tdhistory414492\">12</td><td class=\"tdhistory414492\">Col12</td><td class=\"tdhistory414492\">varchar(22) CHARACTER SET LATIN</td><td class=\"tdhistory414492\">csv</td><td class=\"tdhistory414492\">/S3/s3.amazonaws.com/td-usecases-data-store/retail_sample_data/FSCustomerJourney/ich_banking/ich_banking_1.csv</td></tr></tbody></table></div>"
      ]
     },
     "execution_count": 29,
     "metadata": {
      "application/vnd.teradata.resultset": "{\"resultSetID\":\"/home/jovyan/JupyterLabRoot/Teradata/Resultsets/2023.02.13_15.22.47.730_UTC\",\"historyID\":5179,\"chunkID\":\"00001\",\"sessionid\":\"\",\"portnum\":\"\",\"dockermode\":\"docker\",\"totalRowCount\":12,\"chunkCount\":0,\"rowLimit\":0,\"columnMetadata\":[{\"columnName\":\"ColPosition\",\"columnTypeName\":\"INTEGER\"},{\"columnNumber\":1,\"columnName\":\"Name\",\"columnTypeName\":\"VARCHAR\",\"length\":128,\"scale\":128},{\"columnNumber\":2,\"columnName\":\"Datatype\",\"columnTypeName\":\"VARCHAR\",\"length\":65,\"scale\":65},{\"columnNumber\":3,\"columnName\":\"FileType\",\"columnTypeName\":\"VARCHAR\",\"length\":128,\"scale\":128},{\"columnNumber\":4,\"columnName\":\"Location\",\"columnTypeName\":\"VARCHAR\",\"length\":2049,\"scale\":2049}]}"
     },
     "output_type": "execute_result"
    }
   ],
   "source": [
    "/* Investigate object schema */\n",
    "\n",
    "SELECT TOP 12 *\n",
    "\n",
    "FROM (\n",
    "    LOCATION = '/s3/s3.amazonaws.com/td-usecases-data-store/retail_sample_data/FSCustomerJourney/ich_banking/'\n",
    "    AUTHORIZATION = retail_sample_data.DEMO_AUTH_NOS\n",
    "    RETURNTYPE = 'NOSREAD_SCHEMA'\n",
    ") AS D\n",
    "ORDER BY 1"
   ]
  },
  {
   "cell_type": "code",
   "execution_count": 9,
   "id": "improved-petite",
   "metadata": {},
   "outputs": [
    {
     "data": {
      "text/plain": [
       "Success: 36 rows affected"
      ]
     },
     "execution_count": 9,
     "metadata": {
      "application/vnd.teradata.resultset": ""
     },
     "output_type": "execute_result"
    }
   ],
   "source": [
    "DROP TABLE demo.Banking_History_S3"
   ]
  },
  {
   "cell_type": "code",
   "execution_count": 30,
   "id": "amino-deviation",
   "metadata": {},
   "outputs": [
    {
     "data": {
      "text/plain": [
       "Success: 0 rows affected"
      ]
     },
     "execution_count": 30,
     "metadata": {
      "application/vnd.teradata.resultset": ""
     },
     "output_type": "execute_result"
    }
   ],
   "source": [
    "/* Create the Foreign Table */\n",
    "\n",
    "CREATE FOREIGN TABLE demo.Banking_History_S3,\n",
    "    EXTERNAL SECURITY retail_sample_data.DEMO_AUTH_NOS\n",
    "    (\n",
    "    customer_skey                 integer,\n",
    "    customer_identifier           varchar(26),\n",
    "    customer_cookie               varchar(50),\n",
    "    customer_online_id            varchar(3),\n",
    "    customer_offline_id           integer,\n",
    "    customer_type                 varchar(90),\n",
    "    customer_days_active          integer,\n",
    "    interaction_session_number      bigint,\n",
    "    interaction_timestamp         timestamp with time zone,\n",
    "    interaction_source            varchar(100),\n",
    "    interaction_type              varchar(100),\n",
    "    sales_channel            varchar(100))\n",
    "USING\n",
    "(\n",
    "     LOCATION  ('/s3/s3.amazonaws.com/td-usecases-data-store/retail_sample_data/FSCustomerJourney/ich_banking/')\n",
    "     MANIFEST  ('FALSE')\n",
    "     ROWFORMAT  ('{\"field_delimiter\":\",\",\"record_delimiter\":\"\\n\",\"character_set\":\"LATIN\"}')\n",
    "     STOREDAS  ('TEXTFILE')\n",
    "     HEADER  ('FALSE')\n",
    "     STRIP_EXTERIOR_SPACES  ('FALSE')\n",
    "     STRIP_ENCLOSING_CHAR  ('\"')\n",
    ")\n",
    "NO PRIMARY INDEX ;"
   ]
  },
  {
   "cell_type": "code",
   "execution_count": 31,
   "id": "different-animal",
   "metadata": {},
   "outputs": [
    {
     "data": {
      "application/vnd.teradata.resultset": "\"Location\",\"customer_skey\",\"customer_identifier\",\"customer_cookie\",\"customer_online_id\",\"customer_offline_id\",\"customer_type\",\"customer_days_active\",\"interaction_session_number\",\"interaction_timestamp\",\"interaction_source\",\"interaction_type\",\"sales_channel\"\n\"/S3/s3.amazonaws.com/td-usecases-data-store/retail_sample_data/FSCustomerJourney/ich_banking/ich_banking_3.csv\",\"223375\",\"832161474ylmoyeq507735216\",\"Lhi-WtRHOzvlgmqs9fcUuPz\",\"Y\",\"-1\",\"Visitor - Loyalty\",\"0\",\"4099749\",\"2016-01-08 18:50:31.000000-07:00\",\"WEBSITE\",\"OLB\",\"-1\"\n\"/S3/s3.amazonaws.com/td-usecases-data-store/retail_sample_data/FSCustomerJourney/ich_banking/ich_banking_4.csv\",\"237278\",\"566319047mpylzme563266592\",\"B7BvWDimJKoTqB_sbsWH6KF\",\"Y\",\"560261797\",\"Gold\",\"1\",\"3267787\",\"2016-02-21 15:00:24.000000-07:00\",\"WEBSITE\",\"STARTS_APPLICATION\",\"-1\"\n\"/S3/s3.amazonaws.com/td-usecases-data-store/retail_sample_data/FSCustomerJourney/ich_banking/ich_banking_4.csv\",\"237278\",\"566319047mpylzme563266592\",\"B7BvWDimJKoTqB_sbsWH6KF\",\"Y\",\"560261797\",\"Gold\",\"1\",\"3267787\",\"2016-02-21 15:03:09.000000-07:00\",\"WEBSITE\",\"BROWSE\",\"-1\"\n\"/S3/s3.amazonaws.com/td-usecases-data-store/retail_sample_data/FSCustomerJourney/ich_banking/ich_banking_5.csv\",\"2135\",\"861839811lbxepnv901946824\",\"55jkmJvnwpUIMI-zDGvsSra\",\"N\",\"560839436\",\"Gold\",\"1\",\"4873958\",\"2016-03-14 07:33:14.000000-07:00\",\"WEBSITE\",\"COMPARE\",\"-1\"\n\"/S3/s3.amazonaws.com/td-usecases-data-store/retail_sample_data/FSCustomerJourney/ich_banking/ich_banking_8.csv\",\"77310\",\"305591565fsocziw320918796\",\"ztmThhB1F4yVJz3pTXyzbvY\",\"N\",\"-1\",\"Visitor - Browse Only\",\"0\",\"5093790\",\"2016-01-12 11:30:04.000000-07:00\",\"ONSITE_AD\",\"CLICK\",\"-1\"\n\"/S3/s3.amazonaws.com/td-usecases-data-store/retail_sample_data/FSCustomerJourney/ich_banking/ich_banking_8.csv\",\"52588\",\"850774154zosqgqf446273327\",\"Ql_JMd4omel1ytkeOVbiwEY\",\"N\",\"-1\",\"Visitor - Browse Only\",\"0\",\"4043133\",\"2016-03-12 16:19:35.000000-07:00\",\"WEBSITE\",\"BROWSE\",\"-1\"\n\"/S3/s3.amazonaws.com/td-usecases-data-store/retail_sample_data/FSCustomerJourney/ich_banking/ich_banking_2.csv\",\"239956\",\"831898057xcrapzz439247508\",\"MWbJSSxkLUqB6VKnQC5RZr4\",\"Y\",\"404465918\",\"Gold\",\"1054\",\"1884564\",\"2016-02-03 16:54:07.000000-07:00\",\"SOR_SALES_FILE\",\"ACCOUNT_BOOKED_OFFLINE\",\"BRANCH\"\n\"/S3/s3.amazonaws.com/td-usecases-data-store/retail_sample_data/FSCustomerJourney/ich_banking/ich_banking_2.csv\",\"239956\",\"831898057xcrapzz439247508\",\"MWbJSSxkLUqB6VKnQC5RZr4\",\"Y\",\"404465918\",\"Gold\",\"1054\",\"1884564\",\"2016-06-29 16:54:07.000000-07:00\",\"SOR_SALES_FILE\",\"CALL_COMPLAINT\",\"BRANCH\"\n\"/S3/s3.amazonaws.com/td-usecases-data-store/retail_sample_data/FSCustomerJourney/ich_banking/ich_banking_6.csv\",\"155870\",\"994625921asfjncl350510568\",\"UbsHsl36rFIqZdJrDd9Ya-Q\",\"N\",\"-1\",\"Visitor - Browse Only\",\"0\",\"2832095\",\"2016-03-24 18:54:44.000000-07:00\",\"WEBSITE\",\"BROWSE\",\"-1\"\n\"/S3/s3.amazonaws.com/td-usecases-data-store/retail_sample_data/FSCustomerJourney/ich_banking/ich_banking_6.csv\",\"155870\",\"994625921asfjncl350510568\",\"UbsHsl36rFIqZdJrDd9Ya-Q\",\"N\",\"-1\",\"Visitor - Browse Only\",\"0\",\"2832095\",\"2016-03-24 18:59:18.000000-07:00\",\"WEBSITE\",\"BROWSE\",\"-1\"",
      "text/html": [
       "<div class = \"td-resultset-table-div\" style = \"max-height: 100%; overflow-y: auto\">\n",
       "      <table class=\"tdhistory508900\"><style>\n",
       "      table.tdhistory508900 { display: block !important; min-height: 294px !important; overflow: auto !important; height: 294px !important; width: 100% !important; border: 1px solid rgb(207, 207, 207) !important; border-collapse: collapse !important; ; color: var(--jp-ui-font-color1) !important; }\n",
       "      th.tdhistory508900 { border: 1px solid rgb(198,198,198) !important; border-collapse: collapse !important; ; padding: 2px 5px !important; ; font-size: 13px !important; ; text-align: center !important; white-space: normal !important; color: var(--jp-ui-font-color1) !important; }\n",
       "      th.tdhistory508900:last-child { text-align: left !important; }\n",
       "      tbody.tdhistory508900 tr:nth-child(even) { background: rgba(243, 243, 243, 0.75) !important; }\n",
       "      tbody.tdhistory508900 tr:nth-child(odd) { background: var(--jp-ui-inverse-font-color1) !important; }\n",
       "      td.tdhistory508900 { border: 1px solid rgb(207, 207, 207) !important; border-collapse: collapse !important; ; padding: 2px 5px !important; ; font-size: 13px !important; ; text-align: left !important;          white-space: nowrap !important; overflow:hidden !important; text-overflow:ellipsis !important;; }\n",
       "    </style><thead><tr style= \"background: rgba(243, 243, 243, 0.75)\"><th class=\"tdhistory508900\"></th><th class=\"tdhistory508900\">Location</th><th class=\"tdhistory508900\">customer_skey</th><th class=\"tdhistory508900\">customer_identifier</th><th class=\"tdhistory508900\">customer_cookie</th><th class=\"tdhistory508900\">customer_online_id</th><th class=\"tdhistory508900\">customer_offline_id</th><th class=\"tdhistory508900\">customer_type</th><th class=\"tdhistory508900\">customer_days_active</th><th class=\"tdhistory508900\">interaction_session_number</th><th class=\"tdhistory508900\">interaction_timestamp</th><th class=\"tdhistory508900\">interaction_source</th><th class=\"tdhistory508900\">interaction_type</th><th class=\"tdhistory508900\">sales_channel</th></tr></thead><tbody class=\"tdhistory508900 resultset-body\"><tr><th class=\"tdhistory508900\" style= \"background: rgba(243, 243, 243, 0.75)\">1</th><td class=\"tdhistory508900\">/S3/s3.amazonaws.com/td-usecases-data-store/retail_sample_data/FSCustomerJourney/ich_banking/ich_banking_3.csv</td><td class=\"tdhistory508900\">223375</td><td class=\"tdhistory508900\">832161474ylmoyeq507735216</td><td class=\"tdhistory508900\">Lhi-WtRHOzvlgmqs9fcUuPz</td><td class=\"tdhistory508900\">Y</td><td class=\"tdhistory508900\">-1</td><td class=\"tdhistory508900\">Visitor - Loyalty</td><td class=\"tdhistory508900\">0</td><td class=\"tdhistory508900\">4099749</td><td class=\"tdhistory508900\">2016-01-08 18:50:31.000000-07:00</td><td class=\"tdhistory508900\">WEBSITE</td><td class=\"tdhistory508900\">OLB</td><td class=\"tdhistory508900\">-1</td></tr><tr><th class=\"tdhistory508900\" style= \"background: rgba(243, 243, 243, 0.75)\">2</th><td class=\"tdhistory508900\">/S3/s3.amazonaws.com/td-usecases-data-store/retail_sample_data/FSCustomerJourney/ich_banking/ich_banking_4.csv</td><td class=\"tdhistory508900\">237278</td><td class=\"tdhistory508900\">566319047mpylzme563266592</td><td class=\"tdhistory508900\">B7BvWDimJKoTqB_sbsWH6KF</td><td class=\"tdhistory508900\">Y</td><td class=\"tdhistory508900\">560261797</td><td class=\"tdhistory508900\">Gold</td><td class=\"tdhistory508900\">1</td><td class=\"tdhistory508900\">3267787</td><td class=\"tdhistory508900\">2016-02-21 15:00:24.000000-07:00</td><td class=\"tdhistory508900\">WEBSITE</td><td class=\"tdhistory508900\">STARTS_APPLICATION</td><td class=\"tdhistory508900\">-1</td></tr><tr><th class=\"tdhistory508900\" style= \"background: rgba(243, 243, 243, 0.75)\">3</th><td class=\"tdhistory508900\">/S3/s3.amazonaws.com/td-usecases-data-store/retail_sample_data/FSCustomerJourney/ich_banking/ich_banking_4.csv</td><td class=\"tdhistory508900\">237278</td><td class=\"tdhistory508900\">566319047mpylzme563266592</td><td class=\"tdhistory508900\">B7BvWDimJKoTqB_sbsWH6KF</td><td class=\"tdhistory508900\">Y</td><td class=\"tdhistory508900\">560261797</td><td class=\"tdhistory508900\">Gold</td><td class=\"tdhistory508900\">1</td><td class=\"tdhistory508900\">3267787</td><td class=\"tdhistory508900\">2016-02-21 15:03:09.000000-07:00</td><td class=\"tdhistory508900\">WEBSITE</td><td class=\"tdhistory508900\">BROWSE</td><td class=\"tdhistory508900\">-1</td></tr><tr><th class=\"tdhistory508900\" style= \"background: rgba(243, 243, 243, 0.75)\">4</th><td class=\"tdhistory508900\">/S3/s3.amazonaws.com/td-usecases-data-store/retail_sample_data/FSCustomerJourney/ich_banking/ich_banking_5.csv</td><td class=\"tdhistory508900\">2135</td><td class=\"tdhistory508900\">861839811lbxepnv901946824</td><td class=\"tdhistory508900\">55jkmJvnwpUIMI-zDGvsSra</td><td class=\"tdhistory508900\">N</td><td class=\"tdhistory508900\">560839436</td><td class=\"tdhistory508900\">Gold</td><td class=\"tdhistory508900\">1</td><td class=\"tdhistory508900\">4873958</td><td class=\"tdhistory508900\">2016-03-14 07:33:14.000000-07:00</td><td class=\"tdhistory508900\">WEBSITE</td><td class=\"tdhistory508900\">COMPARE</td><td class=\"tdhistory508900\">-1</td></tr><tr><th class=\"tdhistory508900\" style= \"background: rgba(243, 243, 243, 0.75)\">5</th><td class=\"tdhistory508900\">/S3/s3.amazonaws.com/td-usecases-data-store/retail_sample_data/FSCustomerJourney/ich_banking/ich_banking_8.csv</td><td class=\"tdhistory508900\">77310</td><td class=\"tdhistory508900\">305591565fsocziw320918796</td><td class=\"tdhistory508900\">ztmThhB1F4yVJz3pTXyzbvY</td><td class=\"tdhistory508900\">N</td><td class=\"tdhistory508900\">-1</td><td class=\"tdhistory508900\">Visitor - Browse Only</td><td class=\"tdhistory508900\">0</td><td class=\"tdhistory508900\">5093790</td><td class=\"tdhistory508900\">2016-01-12 11:30:04.000000-07:00</td><td class=\"tdhistory508900\">ONSITE_AD</td><td class=\"tdhistory508900\">CLICK</td><td class=\"tdhistory508900\">-1</td></tr><tr><th class=\"tdhistory508900\" style= \"background: rgba(243, 243, 243, 0.75)\">6</th><td class=\"tdhistory508900\">/S3/s3.amazonaws.com/td-usecases-data-store/retail_sample_data/FSCustomerJourney/ich_banking/ich_banking_8.csv</td><td class=\"tdhistory508900\">52588</td><td class=\"tdhistory508900\">850774154zosqgqf446273327</td><td class=\"tdhistory508900\">Ql_JMd4omel1ytkeOVbiwEY</td><td class=\"tdhistory508900\">N</td><td class=\"tdhistory508900\">-1</td><td class=\"tdhistory508900\">Visitor - Browse Only</td><td class=\"tdhistory508900\">0</td><td class=\"tdhistory508900\">4043133</td><td class=\"tdhistory508900\">2016-03-12 16:19:35.000000-07:00</td><td class=\"tdhistory508900\">WEBSITE</td><td class=\"tdhistory508900\">BROWSE</td><td class=\"tdhistory508900\">-1</td></tr><tr><th class=\"tdhistory508900\" style= \"background: rgba(243, 243, 243, 0.75)\">7</th><td class=\"tdhistory508900\">/S3/s3.amazonaws.com/td-usecases-data-store/retail_sample_data/FSCustomerJourney/ich_banking/ich_banking_2.csv</td><td class=\"tdhistory508900\">239956</td><td class=\"tdhistory508900\">831898057xcrapzz439247508</td><td class=\"tdhistory508900\">MWbJSSxkLUqB6VKnQC5RZr4</td><td class=\"tdhistory508900\">Y</td><td class=\"tdhistory508900\">404465918</td><td class=\"tdhistory508900\">Gold</td><td class=\"tdhistory508900\">1054</td><td class=\"tdhistory508900\">1884564</td><td class=\"tdhistory508900\">2016-02-03 16:54:07.000000-07:00</td><td class=\"tdhistory508900\">SOR_SALES_FILE</td><td class=\"tdhistory508900\">ACCOUNT_BOOKED_OFFLINE</td><td class=\"tdhistory508900\">BRANCH</td></tr><tr><th class=\"tdhistory508900\" style= \"background: rgba(243, 243, 243, 0.75)\">8</th><td class=\"tdhistory508900\">/S3/s3.amazonaws.com/td-usecases-data-store/retail_sample_data/FSCustomerJourney/ich_banking/ich_banking_2.csv</td><td class=\"tdhistory508900\">239956</td><td class=\"tdhistory508900\">831898057xcrapzz439247508</td><td class=\"tdhistory508900\">MWbJSSxkLUqB6VKnQC5RZr4</td><td class=\"tdhistory508900\">Y</td><td class=\"tdhistory508900\">404465918</td><td class=\"tdhistory508900\">Gold</td><td class=\"tdhistory508900\">1054</td><td class=\"tdhistory508900\">1884564</td><td class=\"tdhistory508900\">2016-06-29 16:54:07.000000-07:00</td><td class=\"tdhistory508900\">SOR_SALES_FILE</td><td class=\"tdhistory508900\">CALL_COMPLAINT</td><td class=\"tdhistory508900\">BRANCH</td></tr><tr><th class=\"tdhistory508900\" style= \"background: rgba(243, 243, 243, 0.75)\">9</th><td class=\"tdhistory508900\">/S3/s3.amazonaws.com/td-usecases-data-store/retail_sample_data/FSCustomerJourney/ich_banking/ich_banking_6.csv</td><td class=\"tdhistory508900\">155870</td><td class=\"tdhistory508900\">994625921asfjncl350510568</td><td class=\"tdhistory508900\">UbsHsl36rFIqZdJrDd9Ya-Q</td><td class=\"tdhistory508900\">N</td><td class=\"tdhistory508900\">-1</td><td class=\"tdhistory508900\">Visitor - Browse Only</td><td class=\"tdhistory508900\">0</td><td class=\"tdhistory508900\">2832095</td><td class=\"tdhistory508900\">2016-03-24 18:54:44.000000-07:00</td><td class=\"tdhistory508900\">WEBSITE</td><td class=\"tdhistory508900\">BROWSE</td><td class=\"tdhistory508900\">-1</td></tr><tr><th class=\"tdhistory508900\" style= \"background: rgba(243, 243, 243, 0.75)\">10</th><td class=\"tdhistory508900\">/S3/s3.amazonaws.com/td-usecases-data-store/retail_sample_data/FSCustomerJourney/ich_banking/ich_banking_6.csv</td><td class=\"tdhistory508900\">155870</td><td class=\"tdhistory508900\">994625921asfjncl350510568</td><td class=\"tdhistory508900\">UbsHsl36rFIqZdJrDd9Ya-Q</td><td class=\"tdhistory508900\">N</td><td class=\"tdhistory508900\">-1</td><td class=\"tdhistory508900\">Visitor - Browse Only</td><td class=\"tdhistory508900\">0</td><td class=\"tdhistory508900\">2832095</td><td class=\"tdhistory508900\">2016-03-24 18:59:18.000000-07:00</td><td class=\"tdhistory508900\">WEBSITE</td><td class=\"tdhistory508900\">BROWSE</td><td class=\"tdhistory508900\">-1</td></tr></tbody></table></div>"
      ]
     },
     "execution_count": 31,
     "metadata": {
      "application/vnd.teradata.resultset": "{\"resultSetID\":\"/home/jovyan/JupyterLabRoot/Teradata/Resultsets/2023.02.13_15.23.23.921_UTC\",\"historyID\":5181,\"chunkID\":\"00001\",\"sessionid\":\"\",\"portnum\":\"\",\"dockermode\":\"docker\",\"totalRowCount\":10,\"chunkCount\":0,\"rowLimit\":0,\"columnMetadata\":[{\"columnName\":\"Location\",\"columnTypeName\":\"VARCHAR\",\"length\":2048,\"scale\":2048},{\"columnNumber\":1,\"columnName\":\"customer_skey\",\"columnTypeName\":\"INTEGER\"},{\"columnNumber\":2,\"columnName\":\"customer_identifier\",\"columnTypeName\":\"VARCHAR\",\"length\":26,\"scale\":26},{\"columnNumber\":3,\"columnName\":\"customer_cookie\",\"columnTypeName\":\"VARCHAR\",\"length\":50,\"scale\":50},{\"columnNumber\":4,\"columnName\":\"customer_online_id\",\"columnTypeName\":\"VARCHAR\",\"length\":3,\"scale\":3},{\"columnNumber\":5,\"columnName\":\"customer_offline_id\",\"columnTypeName\":\"INTEGER\"},{\"columnNumber\":6,\"columnName\":\"customer_type\",\"columnTypeName\":\"VARCHAR\",\"length\":90,\"scale\":90},{\"columnNumber\":7,\"columnName\":\"customer_days_active\",\"columnTypeName\":\"INTEGER\"},{\"columnNumber\":8,\"columnName\":\"interaction_session_number\",\"columnTypeName\":\"BIGINT\"},{\"columnNumber\":9,\"columnName\":\"interaction_timestamp\",\"columnTypeName\":\"TIMESTAMP WITH TIME ZONE\",\"length\":6,\"scale\":6},{\"columnNumber\":10,\"columnName\":\"interaction_source\",\"columnTypeName\":\"VARCHAR\",\"length\":100,\"scale\":100},{\"columnNumber\":11,\"columnName\":\"interaction_type\",\"columnTypeName\":\"VARCHAR\",\"length\":100,\"scale\":100},{\"columnNumber\":12,\"columnName\":\"sales_channel\",\"columnTypeName\":\"VARCHAR\",\"length\":100,\"scale\":100}]}"
     },
     "output_type": "execute_result"
    }
   ],
   "source": [
    "SELECT TOP 10 * FROM demo.Banking_History_S3"
   ]
  },
  {
   "cell_type": "code",
   "execution_count": 32,
   "id": "protective-virgin",
   "metadata": {},
   "outputs": [
    {
     "data": {
      "application/vnd.teradata.resultset": "\"Count(*)\"\n\"628723\"",
      "text/html": [
       "<div class = \"td-resultset-table-div\" style = \"max-height: 100%; overflow-y: auto\">\n",
       "      <table class=\"tdhistory901794\"><style>\n",
       "      table.tdhistory901794 { display: block !important; min-height: 105px !important; overflow: auto !important; height: 105px !important; width: 100% !important; border: 1px solid rgb(207, 207, 207) !important; border-collapse: collapse !important; ; color: var(--jp-ui-font-color1) !important; }\n",
       "      th.tdhistory901794 { border: 1px solid rgb(198,198,198) !important; border-collapse: collapse !important; ; padding: 2px 5px !important; ; font-size: 13px !important; ; text-align: center !important; white-space: normal !important; color: var(--jp-ui-font-color1) !important; }\n",
       "      th.tdhistory901794:last-child { text-align: left !important; }\n",
       "      tbody.tdhistory901794 tr:nth-child(even) { background: rgba(243, 243, 243, 0.75) !important; }\n",
       "      tbody.tdhistory901794 tr:nth-child(odd) { background: var(--jp-ui-inverse-font-color1) !important; }\n",
       "      td.tdhistory901794 { border: 1px solid rgb(207, 207, 207) !important; border-collapse: collapse !important; ; padding: 2px 5px !important; ; font-size: 13px !important; ; text-align: left !important;          white-space: nowrap !important; overflow:hidden !important; text-overflow:ellipsis !important;; }\n",
       "    </style><thead><tr style= \"background: rgba(243, 243, 243, 0.75)\"><th class=\"tdhistory901794\"></th><th class=\"tdhistory901794\">Count(*)</th></tr></thead><tbody class=\"tdhistory901794 resultset-body\"><tr><th class=\"tdhistory901794\" style= \"background: rgba(243, 243, 243, 0.75)\">1</th><td class=\"tdhistory901794\">628723</td></tr></tbody></table></div>"
      ]
     },
     "execution_count": 32,
     "metadata": {
      "application/vnd.teradata.resultset": "{\"resultSetID\":\"/home/jovyan/JupyterLabRoot/Teradata/Resultsets/2023.02.13_15.23.24.681_UTC\",\"historyID\":5182,\"chunkID\":\"00001\",\"sessionid\":\"\",\"portnum\":\"\",\"dockermode\":\"docker\",\"totalRowCount\":1,\"chunkCount\":0,\"rowLimit\":0,\"columnMetadata\":[{\"columnName\":\"Count(*)\",\"columnTypeName\":\"INTEGER\"}]}"
     },
     "output_type": "execute_result"
    }
   ],
   "source": [
    "SELECT COUNT(*) FROM demo.Banking_History_S3"
   ]
  },
  {
   "cell_type": "markdown",
   "id": "cubic-briefing",
   "metadata": {},
   "source": [
    "<hr>\n",
    "<p style = 'font-size:28px;font-family:Arial;color:#E37C4D'><b>Demonstration 3 - Join data across storage types</b></p>\n",
    "\n",
    "<table style = 'width:100%;table-layout:fixed;font-size:16px;font-family:Arial'>\n",
    "    <tr style = 'text-align:center'>\n",
    "        <td><b>Customers_BFS, Accounts_Mapping_BFS</b>\n",
    "        <br>\n",
    "        Two dimension tables, stored in local BFS Storage on the Primary Cluster.</td>\n",
    "                <td><b>Txn_History_OFS</b>\n",
    "            <br>\n",
    "            A large fact table with financial transaction detail information.  Data is stored in the Vantage Object Filesystem.</td>\n",
    "        \n",
    "        <td><b>Banking_History_S3</b>\n",
    "            <br>\n",
    "            An extremely large external table containing Banking History. Data is stored as-is in S3.</td>\n",
    "    </tr>\n",
    "    </table>\n",
    "    <table style = 'width:100%;table-layout:fixed;font-size:16px;font-family:Arial'>\n",
    "    <tr>\n",
    "        <td><img src = 'images/EBS_Tables.png'></td>\n",
    "        <td><img src = 'images/OFS_Tables.png'></td>\n",
    "        <td><img src = 'images/S3_Tables.png'></td>\n",
    "    </tr>\n",
    "</table>"
   ]
  },
  {
   "cell_type": "code",
   "execution_count": 4,
   "id": "frequent-blend",
   "metadata": {},
   "outputs": [
    {
     "data": {
      "application/vnd.teradata.resultset": "\"amount\",\"firstname\",\"lastname\"\n\"829012.31\",\"Benjamin\",\"Godfrey\"\n\"127564.33\",\"Phoebe\",\"Jenkins\"\n\"1e+07\",\"Amelie\",\"Wong\"\n\"5.09694674e+06\",\"Edward\",\"Weston\"\n\"1.18672539e+06\",\"Caitlin\",\"Gordon\"\n\"412668.39\",\"Isabella\",\"Pope\"\n\"432958.83\",\"Megan\",\"Briggs\"\n\"2.29933046e+06\",\"Jacob\",\"Wilkins\"\n\"2.08105156e+06\",\"Danielle\",\"Ahmed\"\n\"145035.4\",\"Grace\",\"Forster\"",
      "text/html": [
       "<div class = \"td-resultset-table-div\" style = \"max-height: 100%; overflow-y: auto\">\n",
       "      <table class=\"tdhistory415142\"><style>\n",
       "      table.tdhistory415142 { display: block !important; min-height: 294px !important; overflow: auto !important; height: 294px !important; width: 100% !important; border: 1px solid rgb(207, 207, 207) !important; border-collapse: collapse !important; ; color: var(--jp-ui-font-color1) !important; }\n",
       "      th.tdhistory415142 { border: 1px solid rgb(198,198,198) !important; border-collapse: collapse !important; ; padding: 2px 5px !important; ; font-size: 13px !important; ; text-align: center !important; white-space: normal !important; color: var(--jp-ui-font-color1) !important; }\n",
       "      th.tdhistory415142:last-child { text-align: left !important; }\n",
       "      tbody.tdhistory415142 tr:nth-child(even) { background: rgba(243, 243, 243, 0.75) !important; }\n",
       "      tbody.tdhistory415142 tr:nth-child(odd) { background: var(--jp-ui-inverse-font-color1) !important; }\n",
       "      td.tdhistory415142 { border: 1px solid rgb(207, 207, 207) !important; border-collapse: collapse !important; ; padding: 2px 5px !important; ; font-size: 13px !important; ; text-align: left !important;          white-space: nowrap !important; overflow:hidden !important; text-overflow:ellipsis !important;; }\n",
       "    </style><thead><tr style= \"background: rgba(243, 243, 243, 0.75)\"><th class=\"tdhistory415142\"></th><th class=\"tdhistory415142\">amount</th><th class=\"tdhistory415142\">firstname</th><th class=\"tdhistory415142\">lastname</th></tr></thead><tbody class=\"tdhistory415142 resultset-body\"><tr><th class=\"tdhistory415142\" style= \"background: rgba(243, 243, 243, 0.75)\">1</th><td class=\"tdhistory415142\">829012.31</td><td class=\"tdhistory415142\">Benjamin</td><td class=\"tdhistory415142\">Godfrey</td></tr><tr><th class=\"tdhistory415142\" style= \"background: rgba(243, 243, 243, 0.75)\">2</th><td class=\"tdhistory415142\">127564.33</td><td class=\"tdhistory415142\">Phoebe</td><td class=\"tdhistory415142\">Jenkins</td></tr><tr><th class=\"tdhistory415142\" style= \"background: rgba(243, 243, 243, 0.75)\">3</th><td class=\"tdhistory415142\">1e+07</td><td class=\"tdhistory415142\">Amelie</td><td class=\"tdhistory415142\">Wong</td></tr><tr><th class=\"tdhistory415142\" style= \"background: rgba(243, 243, 243, 0.75)\">4</th><td class=\"tdhistory415142\">5.09694674e+06</td><td class=\"tdhistory415142\">Edward</td><td class=\"tdhistory415142\">Weston</td></tr><tr><th class=\"tdhistory415142\" style= \"background: rgba(243, 243, 243, 0.75)\">5</th><td class=\"tdhistory415142\">1.18672539e+06</td><td class=\"tdhistory415142\">Caitlin</td><td class=\"tdhistory415142\">Gordon</td></tr><tr><th class=\"tdhistory415142\" style= \"background: rgba(243, 243, 243, 0.75)\">6</th><td class=\"tdhistory415142\">412668.39</td><td class=\"tdhistory415142\">Isabella</td><td class=\"tdhistory415142\">Pope</td></tr><tr><th class=\"tdhistory415142\" style= \"background: rgba(243, 243, 243, 0.75)\">7</th><td class=\"tdhistory415142\">432958.83</td><td class=\"tdhistory415142\">Megan</td><td class=\"tdhistory415142\">Briggs</td></tr><tr><th class=\"tdhistory415142\" style= \"background: rgba(243, 243, 243, 0.75)\">8</th><td class=\"tdhistory415142\">2.29933046e+06</td><td class=\"tdhistory415142\">Jacob</td><td class=\"tdhistory415142\">Wilkins</td></tr><tr><th class=\"tdhistory415142\" style= \"background: rgba(243, 243, 243, 0.75)\">9</th><td class=\"tdhistory415142\">2.08105156e+06</td><td class=\"tdhistory415142\">Danielle</td><td class=\"tdhistory415142\">Ahmed</td></tr><tr><th class=\"tdhistory415142\" style= \"background: rgba(243, 243, 243, 0.75)\">10</th><td class=\"tdhistory415142\">145035.4</td><td class=\"tdhistory415142\">Grace</td><td class=\"tdhistory415142\">Forster</td></tr></tbody></table></div>"
      ]
     },
     "execution_count": 4,
     "metadata": {
      "application/vnd.teradata.resultset": "{\"resultSetID\":\"/home/jovyan/JupyterLabRoot/Teradata/Resultsets/2023.03.07_19.14.30.092_UTC\",\"historyID\":5353,\"chunkID\":\"00001\",\"sessionid\":\"\",\"portnum\":\"\",\"dockermode\":\"docker\",\"totalRowCount\":10,\"chunkCount\":0,\"rowLimit\":0,\"columnMetadata\":[{\"columnName\":\"amount\",\"columnTypeName\":\"FLOAT\"},{\"columnNumber\":1,\"columnName\":\"firstname\",\"columnTypeName\":\"VARCHAR\",\"length\":50,\"scale\":50},{\"columnNumber\":2,\"columnName\":\"lastname\",\"columnTypeName\":\"VARCHAR\",\"length\":90,\"scale\":90}]}"
     },
     "output_type": "execute_result"
    }
   ],
   "source": [
    "/* Find banking users who have had a fradulent event in their cashapp account*/\n",
    "\n",
    "SELECT TOP 10\n",
    "\n",
    "txn.amount,\n",
    "c.firstname,\n",
    "c.lastname\n",
    "\n",
    "\n",
    "FROM demo.txn_history_ofs txn, demo.Customers_BFS c, demo.Accounts_Mapping_BFS am\n",
    "\n",
    "\n",
    "WHERE txn.isFraud = 1 AND\n",
    "    txn.nameOrig= am.nameOrig AND\n",
    "    am.customer_identifier = c.customer_identifier \n",
    "\n",
    "GROUP BY 1,2,3"
   ]
  },
  {
   "cell_type": "markdown",
   "id": "interstate-ebony",
   "metadata": {},
   "source": [
    "<hr>\n",
    "\n",
    "<p style = 'font-size:18px;font-family:Arial;color:#E37C4D'>Bringing it all together with ClearScape Analytics Functions</p>\n",
    "\n",
    "<p style = 'font-size:16px;font-family:Arial'>This query will add two new elements to the analysis; adding in the large fact table stored natively in S3, and wrapping everything in a multi-row pattern analysis function named nPath. The goal of this analysis is identifying offline behavioral patterns leading to \"Fraud\" - a potentially valuable analysis that can directly feed more accurate Fraud prediction or early identification.</p>\n",
    "\n",
    "\n",
    "<table style = 'width:100%;table-layout:fixed;font-size:16px;font-family:Arial'>\n",
    "    <tr style = 'text-align:top'>\n",
    "        <td style = 'width:30%'>\n",
    "        <ol>\n",
    "            <br>\n",
    "            <li>Use the Join conditions above to identify Fraud in mobile app</li>\n",
    "            <br>\n",
    "            <li>Join the fradulent users to their offline identities</li>\n",
    "            <br>\n",
    "            <li>Pass this data to Teradata nPath function to idenfify offline bevaviors</li>\n",
    "            <br>\n",
    "        </ol></td>\n",
    "        <td><img src = 'images/Life_Of_Query.png'></td>\n",
    "    </tr>\n",
    "</table>"
   ]
  },
  {
   "cell_type": "code",
   "execution_count": null,
   "id": "monthly-particle",
   "metadata": {},
   "outputs": [],
   "source": [
    "/* Investigate user banking activities that preceeded a fraudulent online transaction */\n",
    "\n",
    "SELECT * FROM NPATH\n",
    "    (ON (\n",
    "        SELECT\n",
    "                bh.customer_identifier,\n",
    "                bh.interaction_session_number,\n",
    "                bh.interaction_timestamp,\n",
    "                bh.interaction_type,\n",
    "                txn.amount,\n",
    "                c.firstname,\n",
    "                c.lastname\n",
    "\n",
    "\n",
    "                FROM demo.txn_history_ofs txn, demo.Banking_History_S3 bh, \n",
    "                    demo.Customers_BFS c, demo.Accounts_Mapping_BFS am\n",
    "\n",
    "\n",
    "                WHERE txn.isFraud = 1 AND\n",
    "                    txn.nameOrig= am.nameOrig AND\n",
    "                    am.customer_identifier = bh.customer_identifier AND\n",
    "                    am.customer_identifier = c.customer_identifier\n",
    "        )\n",
    "        \n",
    "        PARTITION BY interaction_session_number\n",
    "        ORDER BY interaction_timestamp\n",
    "    USING\n",
    "        MODE (NONOVERLAPPING)\n",
    "        SYMBOLS (TRUE AS A)\n",
    "        PATTERN ('A*')\n",
    "        RESULT (FIRST (interaction_timestamp of A) as start_time, \n",
    "                FIRST (customer_identifier of A) as customer_identifier,\n",
    "                FIRST (firstname of A) as firstname, \n",
    "                FIRST (lastname of A) as lastname,\n",
    "                FIRST (amount of A) as fraud_amount,\n",
    "                ACCUMULATE (interaction_type of ANY(A)) as path,\n",
    "                FIRST (interaction_session_number of A) as interaction_session_number\n",
    "                \n",
    "    ));"
   ]
  },
  {
   "cell_type": "code",
   "execution_count": 35,
   "id": "administrative-graduate",
   "metadata": {},
   "outputs": [
    {
     "name": "stdout",
     "output_type": "stream",
     "text": [
      "Success: 'lake_demo' disconnected"
     ]
    }
   ],
   "source": [
    "%disconnect lake_demo"
   ]
  },
  {
   "cell_type": "code",
   "execution_count": null,
   "id": "electoral-gates",
   "metadata": {},
   "outputs": [],
   "source": []
  }
 ],
 "metadata": {
  "kernelspec": {
   "display_name": "Teradata SQL",
   "language": "Teradata SQL",
   "name": "teradatasql"
  },
  "language_info": {
   "codemirror_mode": "Teradata SQL",
   "file_extension": ".tdrs",
   "mimetype": "application/vnd.teradata.resultset",
   "name": "Teradata SQL",
   "nbconvert_exporter": "",
   "pygments_lexer": "",
   "version": "16.20"
  },
  "toc-autonumbering": false,
  "toc-showmarkdowntxt": true,
  "toc-showtags": false
 },
 "nbformat": 4,
 "nbformat_minor": 5
}
