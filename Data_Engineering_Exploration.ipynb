{
 "cells": [
  {
   "cell_type": "markdown",
   "id": "defensive-moisture",
   "metadata": {},
   "source": [
    "<header style=\"padding:1px;background:#f9f9f9;border-top:3px solid #00b2b1\"><img id=\"Teradata-logo\" src=\"https://www.teradata.com/Teradata/Images/Rebrand/Teradata_logo-two_color.png\" alt=\"Teradata\" width=\"220\" align=\"right\" />\n",
    "\n",
    "<b style = 'font-size:28px;font-family:Arial;color:#E37C4D'>Flexible, Scalable Storage and Analytics with Vantage</b>\n",
    "</header>\n",
    "\n",
    "<br>\n",
    "\n",
    "<p style = 'font-size:16px;font-family:Arial'>Teradata's VantageCloud Lake Edition is the only enterprise-class analytics platform that enables powerful, open, and flexible analytics against data in any location; Data Lakes, third-party systems, and traditional EDW.</p>\n",
    "\n",
    "<hr>\n",
    "\n",
    "<b style = 'font-size:28px;font-family:Arial;color:#E37C4D'>Environment Overview</b>\n",
    "\n",
    "<p style = 'font-size:16px;font-family:Arial'>This demonstration will illustrate how users can can use Vantage to access data from a variety of external sources, choose from multiple physical and virtual storage tiers, and then derive valuable analytic and business insights at extreme scale with minimal cost.</p>\n",
    "\n",
    "<p style = 'font-size:16px;font-family:Arial'>Data Architects and Engineers have a choice of a broad data locality and storage types that can help optimize the balance between cost, accessibility, and analytic performance.  These storage types include:</p>\n",
    "\n",
    "<table style = 'width:100%;table-layout:fixed;'>\n",
    "    <tr>\n",
    "        <td style = 'vertical-align:top;font-size:16px;font-family:Arial' width = '50%'>\n",
    "            <ol style = 'font-size:16px;font-family:Arial'>\n",
    "                <li>Direct-attached block storage for high-speed, tactical workloads.  Most common for smaller, dimensional tables, or tables that support tactical, near-real-time query patterns.</li>\n",
    "                <br>\n",
    "                <li>An object-storage-based filesystem named the Vantage Object Filesystem (OFS) which features:\n",
    "                    <ul style = 'font-size:16px;font-family:Arial'>\n",
    "                        <li>Massively scalable low-cost storage</li>\n",
    "                        <li>Data sharing across multiple processing clusters</li>\n",
    "                <li>Full ACID compliance and optimized for performance including caching, optimized spool, indexed metadata</li>\n",
    "                    </ul>\n",
    "                </li>\n",
    "                <br>\n",
    "                <li>Open Object Storage; which can include Data Lakes (including formats such as Delta), IIOT data, Data Marketplaces, and many other third-party ETL and data streaming systems.</li>\n",
    "            </ol>\n",
    "        </td>\n",
    "        <td><img src = 'images/Arch_Simple.png' width = '400'></td>\n",
    "    </tr>\n",
    "</table>\n",
    "\n",
    "<b style = 'font-size:28px;font-family:Arial;color:#E37C4D'>Demonstration Overview</b>\n",
    "\n",
    "<p style = 'font-size:16px;font-family:Arial'>This notebook consists of three primary demonstrations designed to briefly review these storage types and how they can be mixed transparently for analytical processing.  </p>\n",
    "<ol style = 'font-size:16px;font-family:Arial'>\n",
    "    <li><b>Demo 1 - The Object Filesystem (OFS)</b>. Show how users can load data, execute queries, as well as how leverage Time Travel capabilities</li>\n",
    "    <li><b>Demo 2 - Open Object Storage</b> - Data Discovery and analytics against data in S3, and an illustration of how to simplify access for users</li>\n",
    "    <li><b>Demo 3 - Analytics</b> - Combine data across storage tiers and apply powerful, scalable ClearScape Analytics Functions</li>\n",
    "    </ol>\n"
   ]
  },
  {
   "cell_type": "markdown",
   "id": "impressive-gates",
   "metadata": {},
   "source": [
    "<hr>\n",
    "\n",
    "<p style = 'font-size:18px;font-family:Arial;color:#E37C4D'>Connect to Vantage</p>\n",
    "\n",
    "<p style = 'font-size:16px;font-family:Arial'>This notebook uses the Vantage Plugin for Jupyter; a Jupyter Lab Extension that provides native SQL processing, administrative magic functions, and visualiztion capabilities.  In order to conntect to our Vantage system, the user needs to create a connection - this connection is stored in the user's profile and doesn't need to be recreated each time.</p> "
   ]
  },
  {
   "cell_type": "code",
   "execution_count": 108,
   "id": "developing-upset",
   "metadata": {
    "tags": []
   },
   "outputs": [
    {
     "ename": "ERROR",
     "evalue": "Connection with the name 'lake_user' already exists",
     "output_type": "error",
     "traceback": [
      "Connection with the name 'lake_user' already exists"
     ]
    }
   ],
   "source": [
    "%addconnect name=lake_demo, host=18.220.148.208"
   ]
  },
  {
   "cell_type": "code",
   "execution_count": 1,
   "id": "hydraulic-budapest",
   "metadata": {
    "tags": []
   },
   "outputs": [
    {
     "name": "stdout",
     "output_type": "stream",
     "text": [
      "Success: 'lake_demo' connection modified\n"
     ]
    }
   ],
   "source": [
    "%chconnect name=lake_demo, host=18.220.148.208"
   ]
  },
  {
   "cell_type": "code",
   "execution_count": 17,
   "id": "fourth-titanium",
   "metadata": {
    "tags": []
   },
   "outputs": [
    {
     "ename": "ERROR",
     "evalue": "Profile lake_demo not connected",
     "output_type": "error",
     "traceback": [
      "Profile lake_demo not connected"
     ]
    }
   ],
   "source": [
    "%disconnect lake_demo"
   ]
  },
  {
   "cell_type": "markdown",
   "id": "organized-motivation",
   "metadata": {
    "tags": []
   },
   "source": [
    "password is 'password':"
   ]
  },
  {
   "cell_type": "code",
   "execution_count": 2,
   "id": "manufactured-mercy",
   "metadata": {},
   "outputs": [
    {
     "name": "stdin",
     "output_type": "stream",
     "text": [
      "Password: ········\n"
     ]
    },
    {
     "name": "stdout",
     "output_type": "stream",
     "text": [
      "Success: 'lake_demo' connection established and activated for user 'data_engineer'\n"
     ]
    }
   ],
   "source": [
    "%connect lake_demo, user=data_engineer, hidewarnings=True"
   ]
  },
  {
   "cell_type": "code",
   "execution_count": 3,
   "id": "beginning-debut",
   "metadata": {
    "tags": []
   },
   "outputs": [
    {
     "data": {
      "text/plain": [
       "Success: 1 rows affected"
      ]
     },
     "execution_count": 3,
     "metadata": {
      "application/vnd.teradata.resultset": ""
     },
     "output_type": "execute_result"
    }
   ],
   "source": [
    "--Set user's session to use the \"Standard\" Compute Group\n",
    "SET SESSION COMPUTE GROUP CG_BUSGRPA_STD"
   ]
  },
  {
   "cell_type": "markdown",
   "id": "independent-surveillance",
   "metadata": {},
   "source": [
    "<hr>\n",
    "<p style = 'font-size:28px;font-family:Arial;color:#E37C4D'><b>Demonstration 1 - Vantage Object FileSystem (OFS)</b></p>\n",
    "\n",
    "<table style = 'width:100%;table-layout:fixed;'>\n",
    "    <tr>\n",
    "        <td style = 'vertical-align:top' width = '40%'>\n",
    "            <ul style = 'font-size:16px;font-family:Arial'>\n",
    "                <li>Immutable storage, objects are versioned to guarantee consistency</li>\n",
    "                <br>\n",
    "                <li>The Object File System (OFS) index is represented by a tree structure with a single root with multiple leaf nodes:\n",
    "                    <br>\n",
    "                    <ul><br>\n",
    "                        <li>One internal index structure is created for each OFS table</li>\n",
    "                    <br>\n",
    "                        <li>Internal indexes provide efficiency in multiple ways:\n",
    "                        <ul>\n",
    "                            <li>Filtering out selected rows</li>\n",
    "                            <li>Pre-positioning index entries across AMPs</li>\n",
    "                            <li>Join column redistributions</li>\n",
    "                            </ul></li>\n",
    "                        <br>\n",
    "                        <li>Set of statistics values for up to 64 columns carried in the root (for each leaf) and the leaf objects (for each data object)</li>\n",
    "                <br>\n",
    "                <li>Index row sizes can be up to 1 MB</li>\n",
    "                    </ul></li>\n",
    "            </ul>\n",
    "        </td>\n",
    "        <td><img src = 'images/OFS_Structure.png' width = '600'></td>\n",
    "    </tr>\n",
    "</table>"
   ]
  },
  {
   "cell_type": "markdown",
   "id": "meaning-provincial",
   "metadata": {},
   "source": [
    "<hr>\n",
    "\n",
    "<p style = 'font-size:18px;font-family:Arial;color:#E37C4D'>Create the OFS Table</p>\n",
    "\n",
    "<p style = 'font-size:16px;font-family:Arial'>For purposes of demonstration, the user will DROP the table prior to loading so as to show how a new table can be created.</p> \n",
    "\n",
    "<p style = 'font-size:16px;font-family:Arial'>Tables can be defined as generally normally done with any RDBMS.  However, in this case we will show some specifics that are unique to Vantage.</p>\n",
    "<ul style = 'font-size:16px;font-family:Arial'><li><b>First</b>, the \"STORAGE\" clause is set to indicate the data will be stored in the OFS framework.</li>\n",
    "    <li><b>Second</b>, the SELECT that is used to populate the table consists of a specific query type designed to read data directly from an Object Store.</li> </ul>\n",
    "    \n",
    "<p style = 'font-size:16px;font-family:Arial'>Finally, the table can be queried as any normal relational table.</p>"
   ]
  },
  {
   "cell_type": "code",
   "execution_count": 20,
   "id": "quantitative-thomson",
   "metadata": {},
   "outputs": [
    {
     "ename": "ERROR",
     "evalue": "Unable to run SQL: Unable to run SQL query: Database reported error:3807:Object 'demo.Txn_History_OFS' does not exist.",
     "output_type": "error",
     "traceback": [
      "Unable to run SQL: Unable to run SQL query: Database reported error:3807:Object 'demo.Txn_History_OFS' does not exist."
     ]
    }
   ],
   "source": [
    "DROP TABLE demo.Txn_History_OFS"
   ]
  },
  {
   "cell_type": "code",
   "execution_count": 4,
   "id": "subtle-registration",
   "metadata": {},
   "outputs": [
    {
     "data": {
      "text/plain": [
       "Success: 0 rows affected"
      ]
     },
     "execution_count": 4,
     "metadata": {
      "application/vnd.teradata.resultset": ""
     },
     "output_type": "execute_result"
    }
   ],
   "source": [
    "/* Load the data into OFS directly from S3\n",
    "*/\n",
    "\n",
    "--EXPLAIN\n",
    "CREATE TABLE demo.Txn_History_OFS,\n",
    "\n",
    "    /*Note the use of STORAGE here to specify OFS\n",
    "    This can also be set to a user and database default */\n",
    "    \n",
    "    STORAGE=TD_OFSSTORAGE\n",
    "    \n",
    "    /* We can use a SELECT statement to populate the table\n",
    "    using WITH DATA */\n",
    "    AS (\n",
    "\n",
    "        /*Provide json path information to identify the proper fields */\n",
    "        SELECT Payload.txn_id txn_id,\n",
    "            Payload.step step,\n",
    "            Payload.\"type\" \"txn_type\",\n",
    "            CAST(Payload.amount AS FLOAT) amount,\n",
    "            Payload.nameOrig nameOrig,\n",
    "            CAST(Payload.oldbalanceOrig AS FLOAT) oldbalanceOrig,\n",
    "            CAST(Payload.newbalanceOrig AS FLOAT) newbalanceOrig,\n",
    "            Payload.nameDest nameDest,\n",
    "            CAST(Payload.oldbalanceDest AS FLOAT) oldbalanceDest,\n",
    "            CAST(Payload.newbalanceDest AS FLOAT) newbalanceDest,\n",
    "            CAST(Payload.isFraud AS INTEGER) isFraud,\n",
    "            CAST(Payload.isFlaggedFraud AS INTEGER) isFlaggedFraud\n",
    "\n",
    "        FROM (\n",
    "            LOCATION = '/s3/s3.amazonaws.com/trial-datasets/FraudReduction/'\n",
    "            AUTHORIZATION = Repositories.PubAuth\n",
    ") AS D\n",
    ") WITH DATA;"
   ]
  },
  {
   "cell_type": "code",
   "execution_count": 5,
   "id": "apparent-router",
   "metadata": {},
   "outputs": [
    {
     "data": {
      "application/vnd.teradata.resultset": "\"txn_type\",\"isFraud\",\"fraud_txns\"\n\"CASH_OUT\",\"20958\",\"36\"\n\"CASH_IN\",\"13142\",\"0\"\n\"DEBIT\",\"387\",\"0\"\n\"TRANSFER\",\"5045\",\"40\"\n\"PAYMENT\",\"20468\",\"0\"",
      "text/html": [
       "<div class = \"td-resultset-table-div\" style = \"max-height: 100%; overflow-y: auto\">\n",
       "      <table class=\"tdhistory47802\"><style>\n",
       "      table.tdhistory47802 { display: block !important; min-height: 189px !important; overflow: auto !important; height: 189px !important; width: 100% !important; border: 1px solid rgb(207, 207, 207) !important; border-collapse: collapse !important; ; color: var(--jp-ui-font-color1) !important; }\n",
       "      th.tdhistory47802 { border: 1px solid rgb(198,198,198) !important; border-collapse: collapse !important; ; padding: 2px 5px !important; ; font-size: 13px !important; ; text-align: center !important; white-space: normal !important; color: var(--jp-ui-font-color1) !important; }\n",
       "      th.tdhistory47802:last-child { text-align: left !important; }\n",
       "      tbody.tdhistory47802 tr:nth-child(even) { background: rgba(243, 243, 243, 0.75) !important; }\n",
       "      tbody.tdhistory47802 tr:nth-child(odd) { background: var(--jp-ui-inverse-font-color1) !important; }\n",
       "      td.tdhistory47802 { border: 1px solid rgb(207, 207, 207) !important; border-collapse: collapse !important; ; padding: 2px 5px !important; ; font-size: 13px !important; ; text-align: left !important;          white-space: nowrap !important; overflow:hidden !important; text-overflow:ellipsis !important;; }\n",
       "    </style><thead><tr style= \"background: rgba(243, 243, 243, 0.75)\"><th class=\"tdhistory47802\"></th><th class=\"tdhistory47802\">txn_type</th><th class=\"tdhistory47802\">isFraud</th><th class=\"tdhistory47802\">fraud_txns</th></tr></thead><tbody class=\"tdhistory47802 resultset-body\"><tr><th class=\"tdhistory47802\" style= \"background: rgba(243, 243, 243, 0.75)\">1</th><td class=\"tdhistory47802\">CASH_OUT</td><td class=\"tdhistory47802\">20958</td><td class=\"tdhistory47802\">36</td></tr><tr><th class=\"tdhistory47802\" style= \"background: rgba(243, 243, 243, 0.75)\">2</th><td class=\"tdhistory47802\">CASH_IN</td><td class=\"tdhistory47802\">13142</td><td class=\"tdhistory47802\">0</td></tr><tr><th class=\"tdhistory47802\" style= \"background: rgba(243, 243, 243, 0.75)\">3</th><td class=\"tdhistory47802\">DEBIT</td><td class=\"tdhistory47802\">387</td><td class=\"tdhistory47802\">0</td></tr><tr><th class=\"tdhistory47802\" style= \"background: rgba(243, 243, 243, 0.75)\">4</th><td class=\"tdhistory47802\">TRANSFER</td><td class=\"tdhistory47802\">5045</td><td class=\"tdhistory47802\">40</td></tr><tr><th class=\"tdhistory47802\" style= \"background: rgba(243, 243, 243, 0.75)\">5</th><td class=\"tdhistory47802\">PAYMENT</td><td class=\"tdhistory47802\">20468</td><td class=\"tdhistory47802\">0</td></tr></tbody></table></div>"
      ]
     },
     "execution_count": 5,
     "metadata": {
      "application/vnd.teradata.resultset": "{\"resultSetID\":\"/home/jovyan/JupyterLabRoot/Teradata/Resultsets/2023.09.06_14.54.02.016_UTC\",\"historyID\":7760,\"chunkID\":\"00001\",\"sessionid\":\"\",\"portnum\":\"\",\"dockermode\":\"docker\",\"totalRowCount\":5,\"chunkCount\":0,\"rowLimit\":0,\"columnMetadata\":[{\"columnName\":\"txn_type\",\"columnTypeName\":\"VARCHAR\",\"length\":4096,\"scale\":4096},{\"columnNumber\":1,\"columnName\":\"isFraud\",\"columnTypeName\":\"INTEGER\"},{\"columnNumber\":2,\"columnName\":\"fraud_txns\",\"columnTypeName\":\"INTEGER\"}]}"
     },
     "output_type": "execute_result"
    }
   ],
   "source": [
    "/* Run a basic query against the data \n",
    "Note we can use AS OF syntax to select a specific version\n",
    "Visualize results */\n",
    "\n",
    "SELECT txn_type, COUNT(isFraud), SUM(isFraud) fraud_txns\n",
    "FROM demo.Txn_History_OFS \n",
    "\n",
    "GROUP BY 1;"
   ]
  },
  {
   "cell_type": "code",
   "execution_count": 6,
   "id": "anonymous-print",
   "metadata": {},
   "outputs": [
    {
     "data": {
      "application/vnd.vegalite.v3+json": {
       "$schema": "https://vega.github.io/schema/vega-lite/v3.json",
       "data": {
        "format": {
         "type": "csv"
        },
        "values": "\"txn_type\",\"isFraud\",\"fraud_txns\"\n\"CASH_OUT\",\"20958\",\"36\"\n\"CASH_IN\",\"13142\",\"0\"\n\"DEBIT\",\"387\",\"0\"\n\"TRANSFER\",\"5045\",\"40\"\n\"PAYMENT\",\"20468\",\"0\"\n"
       },
       "encoding": {
        "x": {
         "axis": {
          "grid": true,
          "title": "txn_type"
         },
         "field": "txn_type",
         "type": "nominal"
        },
        "y": {
         "axis": {
          "grid": true,
          "title": "fraud_txns"
         },
         "field": "fraud_txns",
         "type": "quantitative"
        }
       },
       "mark": {
        "color": "#4C78A8",
        "type": "bar"
       },
       "title": "Count of Fraudulent Transactions"
      },
      "image/png": "[encoded data removed]"
     },
     "execution_count": 6,
     "metadata": {
      "application/vnd.teradata.resultset": ""
     },
     "output_type": "execute_result"
    }
   ],
   "source": [
    "%chart x=txn_type, y=fraud_txns, title=\"Count of Fraudulent Transactions\""
   ]
  },
  {
   "cell_type": "markdown",
   "id": "sticky-maryland",
   "metadata": {},
   "source": [
    "<hr>\n",
    "<p style = 'font-size:28px;font-family:Arial;color:#E37C4D'><b>Time Travel with OFS</b></p>\n",
    "\n",
    "<table style = 'width:100%;table-layout:fixed;'>\n",
    "    <tr>\n",
    "        <td style = 'vertical-align:top' width = '40%'>\n",
    "            <ul style = 'font-size:16px;font-family:Arial'><b>Benefits of Time Travel</b>\n",
    "                <br>\n",
    "                <br>\n",
    "                <li>Querying the database based on how the data looked at some point in the past</li>\n",
    "                <br>\n",
    "                <li>If there were problems with a data load, users can go back to a point in time where the data is clean/consistent</li>\n",
    "                 <br>\n",
    "                 <li>Analytics can be re-run it keeping the inputs the same for one or more tables at any point in time</li>\n",
    "                <br>\n",
    "            </ul>\n",
    "            <ul style = 'font-size:16px;font-family:Arial'><b>Features</b>\n",
    "                <br>\n",
    "                <br>\n",
    "                <li>supported through SELECT AS OF syntax</li>\n",
    "                <br>\n",
    "                <li>Versions come with a system default retention period</li>\n",
    "                <br>\n",
    "                <li>Versioning allows readers to not be blocked by writers, and vice versa</li>\n",
    "                <br>\n",
    "                <li>A transactionally consistent read is always provided by using the last committed version</li>\n",
    "            </ul>               \n",
    "                </td>\n",
    "        <td><img src = 'images/Time_Travel.png' width = '400'></td>\n",
    "    </tr>\n",
    "</table>"
   ]
  },
  {
   "cell_type": "markdown",
   "id": "removable-civilization",
   "metadata": {},
   "source": [
    "<hr>\n",
    "\n",
    "<p style = 'font-size:18px;font-family:Arial;color:#E37C4D'>Time Travel Demonstration</p>\n",
    "\n",
    "<p style = 'font-size:16px;font-family:Arial'>As discussed above, OFS tables have a defined retention period over which versions are stored.  This can be viewed by executing a SHOW STORAGE ACCESS statement to see the internal bucket information, including retention period.</p> \n",
    "\n",
    "<p style = 'font-size:16px;font-family:Arial'>Next, some additional data will be inserted into the table.  Executing a query gainst the VersionInfo view can show the version history</p>\n",
    "    \n",
    "<p style = 'font-size:16px;font-family:Arial'>Finally, the table can be queried using AS OF syntax to illustrate simple row counts before and after changes</p>"
   ]
  },
  {
   "cell_type": "code",
   "execution_count": 7,
   "id": "intense-serum",
   "metadata": {},
   "outputs": [
    {
     "data": {
      "application/vnd.teradata.resultset": "\"Request Text\"\n\"CREATE STORAGE ACCESS OFS TD_OFSSTORAGE ,\rAUTHORIZATION TD_OFSDB.OFSAUTH \rUSING (\r      LOCATION  ('/s3/s3.amazonaws.com/pod-tenant-tc3330d1-acc-3330d14d5a-nosfs/')\r      MANAGED  ('true')\r      RETENTIONDAYS  ('30')\r);\"",
      "text/html": [
       "<div class = \"td-resultset-table-div\" style = \"max-height: 100%; overflow-y: auto\">\n",
       "      <table class=\"tdhistory433299\"><style>\n",
       "      table.tdhistory433299 { display: block !important; min-height: 105px !important; overflow: auto !important; height: 105px !important; width: 100% !important; border: 1px solid rgb(207, 207, 207) !important; border-collapse: collapse !important; ; color: var(--jp-ui-font-color1) !important; }\n",
       "      th.tdhistory433299 { border: 1px solid rgb(198,198,198) !important; border-collapse: collapse !important; ; padding: 2px 5px !important; ; font-size: 13px !important; ; text-align: center !important; white-space: normal !important; color: var(--jp-ui-font-color1) !important; }\n",
       "      th.tdhistory433299:last-child { text-align: left !important; }\n",
       "      tbody.tdhistory433299 tr:nth-child(even) { background: rgba(243, 243, 243, 0.75) !important; }\n",
       "      tbody.tdhistory433299 tr:nth-child(odd) { background: var(--jp-ui-inverse-font-color1) !important; }\n",
       "      td.tdhistory433299 { border: 1px solid rgb(207, 207, 207) !important; border-collapse: collapse !important; ; padding: 2px 5px !important; ; font-size: 13px !important; ; text-align: left !important;          white-space: nowrap !important; overflow:hidden !important; text-overflow:ellipsis !important;; }\n",
       "    </style><thead><tr style= \"background: rgba(243, 243, 243, 0.75)\"><th class=\"tdhistory433299\"></th><th class=\"tdhistory433299\">Request Text</th></tr></thead><tbody class=\"tdhistory433299 resultset-body\"><tr><th class=\"tdhistory433299\" style= \"background: rgba(243, 243, 243, 0.75)\">1</th><td class=\"tdhistory433299\">CREATE STORAGE ACCESS OFS TD_OFSSTORAGE ,\r",
       "AUTHORIZATION TD_OFSDB.OFSAUTH \r",
       "USING (\r",
       "      LOCATION  ('/s3/s3.amazonaws.com/pod-tenant-tc3330d1-acc-3330d14d5a-nosfs/')\r",
       "      MANAGED  ('true')\r",
       "      RETENTIONDAYS  ('30')\r",
       ");</td></tr></tbody></table></div>"
      ]
     },
     "execution_count": 7,
     "metadata": {
      "application/vnd.teradata.resultset": "{\"resultSetID\":\"/home/jovyan/JupyterLabRoot/Teradata/Resultsets/2023.09.06_14.54.09.193_UTC\",\"historyID\":7761,\"chunkID\":\"00001\",\"sessionid\":\"\",\"portnum\":\"\",\"dockermode\":\"docker\",\"totalRowCount\":1,\"chunkCount\":0,\"rowLimit\":0,\"columnMetadata\":[{\"columnName\":\"Request Text\",\"columnTypeName\":\"VARCHAR\",\"length\":219,\"scale\":219}]}"
     },
     "output_type": "execute_result"
    }
   ],
   "source": [
    "--Show the internal S3 bucket and retention (time travel) policy\n",
    "SHOW STORAGE ACCESS TD_OFSSTORAGE"
   ]
  },
  {
   "cell_type": "code",
   "execution_count": 8,
   "id": "reliable-impossible",
   "metadata": {},
   "outputs": [
    {
     "data": {
      "text/plain": [
       "Success: 10000 rows affected"
      ]
     },
     "execution_count": 8,
     "metadata": {
      "application/vnd.teradata.resultset": ""
     },
     "output_type": "execute_result"
    }
   ],
   "source": [
    "/* Insert some additional rows into our OFS Table */\n",
    "INSERT INTO demo.Txn_History_OFS\n",
    "\n",
    "        /*Provide json path information to identify the proper fields */\n",
    "        SELECT TOP 10000 Payload.txn_id txn_id,\n",
    "            Payload.step step,\n",
    "            Payload.\"type\" \"txn_type\",\n",
    "            CAST(Payload.amount AS FLOAT) amount,\n",
    "            Payload.nameOrig nameOrig,\n",
    "            CAST(Payload.oldbalanceOrig AS FLOAT) oldbalanceOrig,\n",
    "            CAST(Payload.newbalanceOrig AS FLOAT) newbalanceOrig,\n",
    "            Payload.nameDest nameDest,\n",
    "            CAST(Payload.oldbalanceDest AS FLOAT) oldbalanceDest,\n",
    "            CAST(Payload.newbalanceDest AS FLOAT) newbalanceDest,\n",
    "            CAST(Payload.isFraud AS INTEGER) isFraud,\n",
    "            CAST(Payload.isFlaggedFraud AS INTEGER) isFlaggedFraud\n",
    "\n",
    "        FROM (\n",
    "            LOCATION = '/s3/s3.amazonaws.com/trial-datasets/FraudReduction/'\n",
    "            AUTHORIZATION = Repositories.PubAuth\n",
    ") D"
   ]
  },
  {
   "cell_type": "code",
   "execution_count": 9,
   "id": "bearing-european",
   "metadata": {},
   "outputs": [
    {
     "data": {
      "application/vnd.teradata.resultset": "\"TableName\",\"OFSStartVersionNumber\",\"VersionTimeStamp\"\n\"Txn_History_OFS\",\"0\",\"2023-09-06 14:53:45.950000+00:00\"\n\"Txn_History_OFS\",\"1\",\"2023-09-06 14:54:12.180000+00:00\"",
      "text/html": [
       "<div class = \"td-resultset-table-div\" style = \"max-height: 100%; overflow-y: auto\">\n",
       "      <table class=\"tdhistory14056\"><style>\n",
       "      table.tdhistory14056 { display: block !important; min-height: 126px !important; overflow: auto !important; height: 126px !important; width: 100% !important; border: 1px solid rgb(207, 207, 207) !important; border-collapse: collapse !important; ; color: var(--jp-ui-font-color1) !important; }\n",
       "      th.tdhistory14056 { border: 1px solid rgb(198,198,198) !important; border-collapse: collapse !important; ; padding: 2px 5px !important; ; font-size: 13px !important; ; text-align: center !important; white-space: normal !important; color: var(--jp-ui-font-color1) !important; }\n",
       "      th.tdhistory14056:last-child { text-align: left !important; }\n",
       "      tbody.tdhistory14056 tr:nth-child(even) { background: rgba(243, 243, 243, 0.75) !important; }\n",
       "      tbody.tdhistory14056 tr:nth-child(odd) { background: var(--jp-ui-inverse-font-color1) !important; }\n",
       "      td.tdhistory14056 { border: 1px solid rgb(207, 207, 207) !important; border-collapse: collapse !important; ; padding: 2px 5px !important; ; font-size: 13px !important; ; text-align: left !important;          white-space: nowrap !important; overflow:hidden !important; text-overflow:ellipsis !important;; }\n",
       "    </style><thead><tr style= \"background: rgba(243, 243, 243, 0.75)\"><th class=\"tdhistory14056\"></th><th class=\"tdhistory14056\">TableName</th><th class=\"tdhistory14056\">OFSStartVersionNumber</th><th class=\"tdhistory14056\">VersionTimeStamp</th></tr></thead><tbody class=\"tdhistory14056 resultset-body\"><tr><th class=\"tdhistory14056\" style= \"background: rgba(243, 243, 243, 0.75)\">1</th><td class=\"tdhistory14056\">Txn_History_OFS</td><td class=\"tdhistory14056\">0</td><td class=\"tdhistory14056\">2023-09-06 14:53:45.950000+00:00</td></tr><tr><th class=\"tdhistory14056\" style= \"background: rgba(243, 243, 243, 0.75)\">2</th><td class=\"tdhistory14056\">Txn_History_OFS</td><td class=\"tdhistory14056\">1</td><td class=\"tdhistory14056\">2023-09-06 14:54:12.180000+00:00</td></tr></tbody></table></div>"
      ]
     },
     "execution_count": 9,
     "metadata": {
      "application/vnd.teradata.resultset": "{\"resultSetID\":\"/home/jovyan/JupyterLabRoot/Teradata/Resultsets/2023.09.06_14.54.26.053_UTC\",\"historyID\":7763,\"chunkID\":\"00001\",\"sessionid\":\"\",\"portnum\":\"\",\"dockermode\":\"docker\",\"totalRowCount\":2,\"chunkCount\":0,\"rowLimit\":0,\"columnMetadata\":[{\"columnName\":\"TableName\",\"columnTypeName\":\"VARCHAR\",\"length\":128,\"scale\":128},{\"columnNumber\":1,\"columnName\":\"OFSStartVersionNumber\",\"columnTypeName\":\"BIGINT\"},{\"columnNumber\":2,\"columnName\":\"VersionTimeStamp\",\"columnTypeName\":\"TIMESTAMP WITH TIME ZONE\",\"length\":6,\"scale\":6}]}"
     },
     "output_type": "execute_result"
    }
   ],
   "source": [
    "-- Show Table Versioning for Time Travel capabilities\n",
    "SELECT TableName, OFSStartVersionNumber, VersionTimeStamp FROM DBC.MultiVersionInfoTblV\n",
    "WHERE DatabaseName = 'demo'\n",
    "AND TableName = 'Txn_History_OFS'\n",
    "ORDER BY 2;"
   ]
  },
  {
   "cell_type": "code",
   "execution_count": 10,
   "id": "natural-freeware",
   "metadata": {},
   "outputs": [
    {
     "data": {
      "application/vnd.teradata.resultset": "\"Ver\",\"Count(*)\"\n\"Original\",\"60000\"\n\"New Ver\",\"70000\"",
      "text/html": [
       "<div class = \"td-resultset-table-div\" style = \"max-height: 100%; overflow-y: auto\">\n",
       "      <table class=\"tdhistory830897\"><style>\n",
       "      table.tdhistory830897 { display: block !important; min-height: 126px !important; overflow: auto !important; height: 126px !important; width: 100% !important; border: 1px solid rgb(207, 207, 207) !important; border-collapse: collapse !important; ; color: var(--jp-ui-font-color1) !important; }\n",
       "      th.tdhistory830897 { border: 1px solid rgb(198,198,198) !important; border-collapse: collapse !important; ; padding: 2px 5px !important; ; font-size: 13px !important; ; text-align: center !important; white-space: normal !important; color: var(--jp-ui-font-color1) !important; }\n",
       "      th.tdhistory830897:last-child { text-align: left !important; }\n",
       "      tbody.tdhistory830897 tr:nth-child(even) { background: rgba(243, 243, 243, 0.75) !important; }\n",
       "      tbody.tdhistory830897 tr:nth-child(odd) { background: var(--jp-ui-inverse-font-color1) !important; }\n",
       "      td.tdhistory830897 { border: 1px solid rgb(207, 207, 207) !important; border-collapse: collapse !important; ; padding: 2px 5px !important; ; font-size: 13px !important; ; text-align: left !important;          white-space: nowrap !important; overflow:hidden !important; text-overflow:ellipsis !important;; }\n",
       "    </style><thead><tr style= \"background: rgba(243, 243, 243, 0.75)\"><th class=\"tdhistory830897\"></th><th class=\"tdhistory830897\">Ver</th><th class=\"tdhistory830897\">Count(*)</th></tr></thead><tbody class=\"tdhistory830897 resultset-body\"><tr><th class=\"tdhistory830897\" style= \"background: rgba(243, 243, 243, 0.75)\">1</th><td class=\"tdhistory830897\">Original</td><td class=\"tdhistory830897\">60000</td></tr><tr><th class=\"tdhistory830897\" style= \"background: rgba(243, 243, 243, 0.75)\">2</th><td class=\"tdhistory830897\">New Ver</td><td class=\"tdhistory830897\">70000</td></tr></tbody></table></div>"
      ]
     },
     "execution_count": 10,
     "metadata": {
      "application/vnd.teradata.resultset": "{\"resultSetID\":\"/home/jovyan/JupyterLabRoot/Teradata/Resultsets/2023.09.06_14.54.29.571_UTC\",\"historyID\":7764,\"chunkID\":\"00001\",\"sessionid\":\"\",\"portnum\":\"\",\"dockermode\":\"docker\",\"totalRowCount\":2,\"chunkCount\":0,\"rowLimit\":0,\"columnMetadata\":[{\"columnName\":\"Ver\",\"columnTypeName\":\"VARCHAR\",\"length\":8,\"scale\":8},{\"columnNumber\":1,\"columnName\":\"Count(*)\",\"columnTypeName\":\"INTEGER\"}]}"
     },
     "output_type": "execute_result"
    }
   ],
   "source": [
    "/* Count the number of rows after each version\n",
    "Replace the timestamps as necessary \n",
    "Or use the version number */\n",
    "\n",
    "SELECT 'Original' as Ver, COUNT(*) \n",
    "FROM demo.Txn_History_OFS \n",
    "    --AS OF TIMESTAMP '2023-02-13 11:19:28.360000-04:00'\n",
    "    AS OF 0\n",
    "\n",
    "GROUP BY 1\n",
    "\n",
    "UNION ALL \n",
    "\n",
    "SELECT 'New Ver' as Ver, COUNT(*) \n",
    "FROM demo.Txn_History_OFS \n",
    "    --AS OF TIMESTAMP '2023-02-13 15:20:04.580000-04:00'\n",
    "    AS OF 1\n",
    "\n",
    "GROUP BY 1"
   ]
  },
  {
   "cell_type": "markdown",
   "id": "nervous-palmer",
   "metadata": {},
   "source": [
    "<hr>\n",
    "<p style = 'font-size:28px;font-family:Arial;color:#E37C4D'><b>Demonstration 2 - Data in External Object Stores</b></p>\n",
    "\n",
    "<table style = 'width:100%;table-layout:fixed;'>\n",
    "    <tr>\n",
    "        <td style = 'vertical-align:top' width = '40%'>\n",
    "            <ul style = 'font-size:16px;font-family:Arial'>\n",
    "                <li>Vast quantities of data stored in Object Storage\n",
    "                    <br>\n",
    "                <ul>\n",
    "                    <br>\n",
    "                    <li>Data Lakes</li>\n",
    "                    <br>\n",
    "                    <li>IOT/IIOT</li>\n",
    "                    <br>\n",
    "                    <li>Marketplaces</li><br>\n",
    "                    </ul></li>\n",
    "                <br>\n",
    "                <li>Vantage can read this data directly using built-in capabilities:\n",
    "                    <br>\n",
    "                    <ul><br>\n",
    "                        <li>At massive scale/parallelism</li>\n",
    "                    <br>\n",
    "                        <li>Automatic schema discovery</li>\n",
    "                        <br>\n",
    "                            <li>Read optimizations/object filtering</li>\n",
    "                            </ul></li>\n",
    "                <br>\n",
    "                <li>Administrators can create objects to enable easy access/analysis:\n",
    "                <ul><br>\n",
    "                    <li>Foreign Tables that contain object locations and definitions</li>\n",
    "                    <br>\n",
    "                    <li>Views to simplify access for users</li>\n",
    "                    </ul>\n",
    "                </li>\n",
    "            </ul>\n",
    "        </td>\n",
    "        <td><img src = 'images/Data_Marketplace.png' width = '600'></td>\n",
    "    </tr>\n",
    "</table>"
   ]
  },
  {
   "cell_type": "markdown",
   "id": "level-arctic",
   "metadata": {},
   "source": [
    "<hr>\n",
    "\n",
    "<p style = 'font-size:18px;font-family:Arial;color:#E37C4D'>Exploration and Access Data in Object Stores</p>\n",
    "\n",
    "<p style = 'font-size:16px;font-family:Arial'>The illustrations below review some common query types for investigating data in object storage.  Adding a \"RETURNTYPE\" parameter to the query can return additional information about the data:</p>\n",
    "<ul style = 'font-size:16px;font-family:Arial'>\n",
    "    <li><b>NOSREAD_KEYS</b> will return objects keys/key paths, length in bytes, etc.</li>\n",
    "    <li><b>NOSREAD_SCHEMA</b> will return the objects schema as interpreted by Vantage</li>\n",
    "    </ul>\n",
    "\n",
    "<p style = 'font-size:16px;font-family:Arial'>The Data Engineer can then create a <b>Foreign Table</b> which acts as a virtual pointer to the data as it lies in Object Storage.  Optionally, this table can contain filtering mechanisms to assist in minimizing download volumes and improving performance.</p>"
   ]
  },
  {
   "cell_type": "code",
   "execution_count": 11,
   "id": "arctic-discussion",
   "metadata": {},
   "outputs": [
    {
     "data": {
      "application/vnd.teradata.resultset": "\"Location\",\"ObjectLength\"\n\"/S3/s3.amazonaws.com/td-usecases-data-store/retail_sample_data/FSCustomerJourney/ich_banking/ich_banking_1.csv\",\"14680002\"\n\"/S3/s3.amazonaws.com/td-usecases-data-store/retail_sample_data/FSCustomerJourney/ich_banking/ich_banking_10.csv\",\"9949618\"\n\"/S3/s3.amazonaws.com/td-usecases-data-store/retail_sample_data/FSCustomerJourney/ich_banking/ich_banking_2.csv\",\"14679966\"\n\"/S3/s3.amazonaws.com/td-usecases-data-store/retail_sample_data/FSCustomerJourney/ich_banking/ich_banking_3.csv\",\"14680146\"\n\"/S3/s3.amazonaws.com/td-usecases-data-store/retail_sample_data/FSCustomerJourney/ich_banking/ich_banking_4.csv\",\"14680017\"\n\"/S3/s3.amazonaws.com/td-usecases-data-store/retail_sample_data/FSCustomerJourney/ich_banking/ich_banking_5.csv\",\"14680095\"\n\"/S3/s3.amazonaws.com/td-usecases-data-store/retail_sample_data/FSCustomerJourney/ich_banking/ich_banking_6.csv\",\"14680063\"\n\"/S3/s3.amazonaws.com/td-usecases-data-store/retail_sample_data/FSCustomerJourney/ich_banking/ich_banking_7.csv\",\"14679943\"\n\"/S3/s3.amazonaws.com/td-usecases-data-store/retail_sample_data/FSCustomerJourney/ich_banking/ich_banking_8.csv\",\"14680277\"\n\"/S3/s3.amazonaws.com/td-usecases-data-store/retail_sample_data/FSCustomerJourney/ich_banking/ich_banking_9.csv\",\"14679948\"",
      "text/html": [
       "<div class = \"td-resultset-table-div\" style = \"max-height: 100%; overflow-y: auto\">\n",
       "      <table class=\"tdhistory315241\"><style>\n",
       "      table.tdhistory315241 { display: block !important; min-height: 294px !important; overflow: auto !important; height: 294px !important; width: 100% !important; border: 1px solid rgb(207, 207, 207) !important; border-collapse: collapse !important; ; color: var(--jp-ui-font-color1) !important; }\n",
       "      th.tdhistory315241 { border: 1px solid rgb(198,198,198) !important; border-collapse: collapse !important; ; padding: 2px 5px !important; ; font-size: 13px !important; ; text-align: center !important; white-space: normal !important; color: var(--jp-ui-font-color1) !important; }\n",
       "      th.tdhistory315241:last-child { text-align: left !important; }\n",
       "      tbody.tdhistory315241 tr:nth-child(even) { background: rgba(243, 243, 243, 0.75) !important; }\n",
       "      tbody.tdhistory315241 tr:nth-child(odd) { background: var(--jp-ui-inverse-font-color1) !important; }\n",
       "      td.tdhistory315241 { border: 1px solid rgb(207, 207, 207) !important; border-collapse: collapse !important; ; padding: 2px 5px !important; ; font-size: 13px !important; ; text-align: left !important;          white-space: nowrap !important; overflow:hidden !important; text-overflow:ellipsis !important;; }\n",
       "    </style><thead><tr style= \"background: rgba(243, 243, 243, 0.75)\"><th class=\"tdhistory315241\"></th><th class=\"tdhistory315241\">Location</th><th class=\"tdhistory315241\">ObjectLength</th></tr></thead><tbody class=\"tdhistory315241 resultset-body\"><tr><th class=\"tdhistory315241\" style= \"background: rgba(243, 243, 243, 0.75)\">1</th><td class=\"tdhistory315241\">/S3/s3.amazonaws.com/td-usecases-data-store/retail_sample_data/FSCustomerJourney/ich_banking/ich_banking_1.csv</td><td class=\"tdhistory315241\">14680002</td></tr><tr><th class=\"tdhistory315241\" style= \"background: rgba(243, 243, 243, 0.75)\">2</th><td class=\"tdhistory315241\">/S3/s3.amazonaws.com/td-usecases-data-store/retail_sample_data/FSCustomerJourney/ich_banking/ich_banking_10.csv</td><td class=\"tdhistory315241\">9949618</td></tr><tr><th class=\"tdhistory315241\" style= \"background: rgba(243, 243, 243, 0.75)\">3</th><td class=\"tdhistory315241\">/S3/s3.amazonaws.com/td-usecases-data-store/retail_sample_data/FSCustomerJourney/ich_banking/ich_banking_2.csv</td><td class=\"tdhistory315241\">14679966</td></tr><tr><th class=\"tdhistory315241\" style= \"background: rgba(243, 243, 243, 0.75)\">4</th><td class=\"tdhistory315241\">/S3/s3.amazonaws.com/td-usecases-data-store/retail_sample_data/FSCustomerJourney/ich_banking/ich_banking_3.csv</td><td class=\"tdhistory315241\">14680146</td></tr><tr><th class=\"tdhistory315241\" style= \"background: rgba(243, 243, 243, 0.75)\">5</th><td class=\"tdhistory315241\">/S3/s3.amazonaws.com/td-usecases-data-store/retail_sample_data/FSCustomerJourney/ich_banking/ich_banking_4.csv</td><td class=\"tdhistory315241\">14680017</td></tr><tr><th class=\"tdhistory315241\" style= \"background: rgba(243, 243, 243, 0.75)\">6</th><td class=\"tdhistory315241\">/S3/s3.amazonaws.com/td-usecases-data-store/retail_sample_data/FSCustomerJourney/ich_banking/ich_banking_5.csv</td><td class=\"tdhistory315241\">14680095</td></tr><tr><th class=\"tdhistory315241\" style= \"background: rgba(243, 243, 243, 0.75)\">7</th><td class=\"tdhistory315241\">/S3/s3.amazonaws.com/td-usecases-data-store/retail_sample_data/FSCustomerJourney/ich_banking/ich_banking_6.csv</td><td class=\"tdhistory315241\">14680063</td></tr><tr><th class=\"tdhistory315241\" style= \"background: rgba(243, 243, 243, 0.75)\">8</th><td class=\"tdhistory315241\">/S3/s3.amazonaws.com/td-usecases-data-store/retail_sample_data/FSCustomerJourney/ich_banking/ich_banking_7.csv</td><td class=\"tdhistory315241\">14679943</td></tr><tr><th class=\"tdhistory315241\" style= \"background: rgba(243, 243, 243, 0.75)\">9</th><td class=\"tdhistory315241\">/S3/s3.amazonaws.com/td-usecases-data-store/retail_sample_data/FSCustomerJourney/ich_banking/ich_banking_8.csv</td><td class=\"tdhistory315241\">14680277</td></tr><tr><th class=\"tdhistory315241\" style= \"background: rgba(243, 243, 243, 0.75)\">10</th><td class=\"tdhistory315241\">/S3/s3.amazonaws.com/td-usecases-data-store/retail_sample_data/FSCustomerJourney/ich_banking/ich_banking_9.csv</td><td class=\"tdhistory315241\">14679948</td></tr></tbody></table></div>"
      ]
     },
     "execution_count": 11,
     "metadata": {
      "application/vnd.teradata.resultset": "{\"resultSetID\":\"/home/jovyan/JupyterLabRoot/Teradata/Resultsets/2023.09.06_14.54.35.598_UTC\",\"historyID\":7765,\"chunkID\":\"00001\",\"sessionid\":\"\",\"portnum\":\"\",\"dockermode\":\"docker\",\"totalRowCount\":10,\"chunkCount\":0,\"rowLimit\":0,\"columnMetadata\":[{\"columnName\":\"Location\",\"columnTypeName\":\"VARCHAR\",\"length\":2048,\"scale\":2048},{\"columnNumber\":1,\"columnName\":\"ObjectLength\",\"columnTypeName\":\"BIGINT\"}]}"
     },
     "output_type": "execute_result"
    }
   ],
   "source": [
    "/* Investigate object structure */\n",
    "\n",
    "SELECT Location, ObjectLength\n",
    "\n",
    "FROM (\n",
    "    LOCATION = '/s3/s3.amazonaws.com/td-usecases-data-store/retail_sample_data/FSCustomerJourney/ich_banking/'\n",
    "    AUTHORIZATION = retail_sample_data.DEMO_AUTH_NOS\n",
    "    RETURNTYPE = 'NOSREAD_KEYS'\n",
    ") AS D"
   ]
  },
  {
   "cell_type": "code",
   "execution_count": 12,
   "id": "greenhouse-horizontal",
   "metadata": {},
   "outputs": [
    {
     "data": {
      "application/vnd.teradata.resultset": "\"ColPosition\",\"Name\",\"Datatype\",\"FileType\",\"Location\"\n\"1\",\"Col1\",\"int\",\"csv\",\"/S3/s3.amazonaws.com/td-usecases-data-store/retail_sample_data/FSCustomerJourney/ich_banking/ich_banking_1.csv\"\n\"2\",\"Col2\",\"char(27) CHARACTER SET LATIN\",\"csv\",\"/S3/s3.amazonaws.com/td-usecases-data-store/retail_sample_data/FSCustomerJourney/ich_banking/ich_banking_1.csv\"\n\"3\",\"Col3\",\"VARCHAR(51) CHARACTER SET LATIN\",\"csv\",\"/S3/s3.amazonaws.com/td-usecases-data-store/retail_sample_data/FSCustomerJourney/ich_banking/ich_banking_1.csv\"\n\"4\",\"Col4\",\"char(3) CHARACTER SET LATIN\",\"csv\",\"/S3/s3.amazonaws.com/td-usecases-data-store/retail_sample_data/FSCustomerJourney/ich_banking/ich_banking_1.csv\"\n\"5\",\"Col5\",\"int\",\"csv\",\"/S3/s3.amazonaws.com/td-usecases-data-store/retail_sample_data/FSCustomerJourney/ich_banking/ich_banking_1.csv\"\n\"6\",\"Col6\",\"varchar(40) CHARACTER SET LATIN\",\"csv\",\"/S3/s3.amazonaws.com/td-usecases-data-store/retail_sample_data/FSCustomerJourney/ich_banking/ich_banking_1.csv\"\n\"7\",\"Col7\",\"smallint\",\"csv\",\"/S3/s3.amazonaws.com/td-usecases-data-store/retail_sample_data/FSCustomerJourney/ich_banking/ich_banking_1.csv\"\n\"8\",\"Col8\",\"int\",\"csv\",\"/S3/s3.amazonaws.com/td-usecases-data-store/retail_sample_data/FSCustomerJourney/ich_banking/ich_banking_1.csv\"\n\"9\",\"Col9\",\"char(34) CHARACTER SET LATIN\",\"csv\",\"/S3/s3.amazonaws.com/td-usecases-data-store/retail_sample_data/FSCustomerJourney/ich_banking/ich_banking_1.csv\"\n\"10\",\"Col10\",\"varchar(27) CHARACTER SET LATIN\",\"csv\",\"/S3/s3.amazonaws.com/td-usecases-data-store/retail_sample_data/FSCustomerJourney/ich_banking/ich_banking_1.csv\"\n\"11\",\"Col11\",\"varchar(43) CHARACTER SET LATIN\",\"csv\",\"/S3/s3.amazonaws.com/td-usecases-data-store/retail_sample_data/FSCustomerJourney/ich_banking/ich_banking_1.csv\"\n\"12\",\"Col12\",\"varchar(22) CHARACTER SET LATIN\",\"csv\",\"/S3/s3.amazonaws.com/td-usecases-data-store/retail_sample_data/FSCustomerJourney/ich_banking/ich_banking_1.csv\"",
      "text/html": [
       "<div class = \"td-resultset-table-div\" style = \"max-height: 100%; overflow-y: auto\">\n",
       "      <table class=\"tdhistory832103\"><style>\n",
       "      table.tdhistory832103 { display: block !important; min-height: 336px !important; overflow: auto !important; height: 336px !important; width: 100% !important; border: 1px solid rgb(207, 207, 207) !important; border-collapse: collapse !important; ; color: var(--jp-ui-font-color1) !important; }\n",
       "      th.tdhistory832103 { border: 1px solid rgb(198,198,198) !important; border-collapse: collapse !important; ; padding: 2px 5px !important; ; font-size: 13px !important; ; text-align: center !important; white-space: normal !important; color: var(--jp-ui-font-color1) !important; }\n",
       "      th.tdhistory832103:last-child { text-align: left !important; }\n",
       "      tbody.tdhistory832103 tr:nth-child(even) { background: rgba(243, 243, 243, 0.75) !important; }\n",
       "      tbody.tdhistory832103 tr:nth-child(odd) { background: var(--jp-ui-inverse-font-color1) !important; }\n",
       "      td.tdhistory832103 { border: 1px solid rgb(207, 207, 207) !important; border-collapse: collapse !important; ; padding: 2px 5px !important; ; font-size: 13px !important; ; text-align: left !important;          white-space: nowrap !important; overflow:hidden !important; text-overflow:ellipsis !important;; }\n",
       "    </style><thead><tr style= \"background: rgba(243, 243, 243, 0.75)\"><th class=\"tdhistory832103\"></th><th class=\"tdhistory832103\">ColPosition</th><th class=\"tdhistory832103\">Name</th><th class=\"tdhistory832103\">Datatype</th><th class=\"tdhistory832103\">FileType</th><th class=\"tdhistory832103\">Location</th></tr></thead><tbody class=\"tdhistory832103 resultset-body\"><tr><th class=\"tdhistory832103\" style= \"background: rgba(243, 243, 243, 0.75)\">1</th><td class=\"tdhistory832103\">1</td><td class=\"tdhistory832103\">Col1</td><td class=\"tdhistory832103\">int</td><td class=\"tdhistory832103\">csv</td><td class=\"tdhistory832103\">/S3/s3.amazonaws.com/td-usecases-data-store/retail_sample_data/FSCustomerJourney/ich_banking/ich_banking_1.csv</td></tr><tr><th class=\"tdhistory832103\" style= \"background: rgba(243, 243, 243, 0.75)\">2</th><td class=\"tdhistory832103\">2</td><td class=\"tdhistory832103\">Col2</td><td class=\"tdhistory832103\">char(27) CHARACTER SET LATIN</td><td class=\"tdhistory832103\">csv</td><td class=\"tdhistory832103\">/S3/s3.amazonaws.com/td-usecases-data-store/retail_sample_data/FSCustomerJourney/ich_banking/ich_banking_1.csv</td></tr><tr><th class=\"tdhistory832103\" style= \"background: rgba(243, 243, 243, 0.75)\">3</th><td class=\"tdhistory832103\">3</td><td class=\"tdhistory832103\">Col3</td><td class=\"tdhistory832103\">VARCHAR(51) CHARACTER SET LATIN</td><td class=\"tdhistory832103\">csv</td><td class=\"tdhistory832103\">/S3/s3.amazonaws.com/td-usecases-data-store/retail_sample_data/FSCustomerJourney/ich_banking/ich_banking_1.csv</td></tr><tr><th class=\"tdhistory832103\" style= \"background: rgba(243, 243, 243, 0.75)\">4</th><td class=\"tdhistory832103\">4</td><td class=\"tdhistory832103\">Col4</td><td class=\"tdhistory832103\">char(3) CHARACTER SET LATIN</td><td class=\"tdhistory832103\">csv</td><td class=\"tdhistory832103\">/S3/s3.amazonaws.com/td-usecases-data-store/retail_sample_data/FSCustomerJourney/ich_banking/ich_banking_1.csv</td></tr><tr><th class=\"tdhistory832103\" style= \"background: rgba(243, 243, 243, 0.75)\">5</th><td class=\"tdhistory832103\">5</td><td class=\"tdhistory832103\">Col5</td><td class=\"tdhistory832103\">int</td><td class=\"tdhistory832103\">csv</td><td class=\"tdhistory832103\">/S3/s3.amazonaws.com/td-usecases-data-store/retail_sample_data/FSCustomerJourney/ich_banking/ich_banking_1.csv</td></tr><tr><th class=\"tdhistory832103\" style= \"background: rgba(243, 243, 243, 0.75)\">6</th><td class=\"tdhistory832103\">6</td><td class=\"tdhistory832103\">Col6</td><td class=\"tdhistory832103\">varchar(40) CHARACTER SET LATIN</td><td class=\"tdhistory832103\">csv</td><td class=\"tdhistory832103\">/S3/s3.amazonaws.com/td-usecases-data-store/retail_sample_data/FSCustomerJourney/ich_banking/ich_banking_1.csv</td></tr><tr><th class=\"tdhistory832103\" style= \"background: rgba(243, 243, 243, 0.75)\">7</th><td class=\"tdhistory832103\">7</td><td class=\"tdhistory832103\">Col7</td><td class=\"tdhistory832103\">smallint</td><td class=\"tdhistory832103\">csv</td><td class=\"tdhistory832103\">/S3/s3.amazonaws.com/td-usecases-data-store/retail_sample_data/FSCustomerJourney/ich_banking/ich_banking_1.csv</td></tr><tr><th class=\"tdhistory832103\" style= \"background: rgba(243, 243, 243, 0.75)\">8</th><td class=\"tdhistory832103\">8</td><td class=\"tdhistory832103\">Col8</td><td class=\"tdhistory832103\">int</td><td class=\"tdhistory832103\">csv</td><td class=\"tdhistory832103\">/S3/s3.amazonaws.com/td-usecases-data-store/retail_sample_data/FSCustomerJourney/ich_banking/ich_banking_1.csv</td></tr><tr><th class=\"tdhistory832103\" style= \"background: rgba(243, 243, 243, 0.75)\">9</th><td class=\"tdhistory832103\">9</td><td class=\"tdhistory832103\">Col9</td><td class=\"tdhistory832103\">char(34) CHARACTER SET LATIN</td><td class=\"tdhistory832103\">csv</td><td class=\"tdhistory832103\">/S3/s3.amazonaws.com/td-usecases-data-store/retail_sample_data/FSCustomerJourney/ich_banking/ich_banking_1.csv</td></tr><tr><th class=\"tdhistory832103\" style= \"background: rgba(243, 243, 243, 0.75)\">10</th><td class=\"tdhistory832103\">10</td><td class=\"tdhistory832103\">Col10</td><td class=\"tdhistory832103\">varchar(27) CHARACTER SET LATIN</td><td class=\"tdhistory832103\">csv</td><td class=\"tdhistory832103\">/S3/s3.amazonaws.com/td-usecases-data-store/retail_sample_data/FSCustomerJourney/ich_banking/ich_banking_1.csv</td></tr><tr><th class=\"tdhistory832103\" style= \"background: rgba(243, 243, 243, 0.75)\">11</th><td class=\"tdhistory832103\">11</td><td class=\"tdhistory832103\">Col11</td><td class=\"tdhistory832103\">varchar(43) CHARACTER SET LATIN</td><td class=\"tdhistory832103\">csv</td><td class=\"tdhistory832103\">/S3/s3.amazonaws.com/td-usecases-data-store/retail_sample_data/FSCustomerJourney/ich_banking/ich_banking_1.csv</td></tr><tr><th class=\"tdhistory832103\" style= \"background: rgba(243, 243, 243, 0.75)\">12</th><td class=\"tdhistory832103\">12</td><td class=\"tdhistory832103\">Col12</td><td class=\"tdhistory832103\">varchar(22) CHARACTER SET LATIN</td><td class=\"tdhistory832103\">csv</td><td class=\"tdhistory832103\">/S3/s3.amazonaws.com/td-usecases-data-store/retail_sample_data/FSCustomerJourney/ich_banking/ich_banking_1.csv</td></tr></tbody></table></div>"
      ]
     },
     "execution_count": 12,
     "metadata": {
      "application/vnd.teradata.resultset": "{\"resultSetID\":\"/home/jovyan/JupyterLabRoot/Teradata/Resultsets/2023.09.06_14.56.57.393_UTC\",\"historyID\":7766,\"chunkID\":\"00001\",\"sessionid\":\"\",\"portnum\":\"\",\"dockermode\":\"docker\",\"totalRowCount\":12,\"chunkCount\":0,\"rowLimit\":0,\"columnMetadata\":[{\"columnName\":\"ColPosition\",\"columnTypeName\":\"INTEGER\"},{\"columnNumber\":1,\"columnName\":\"Name\",\"columnTypeName\":\"VARCHAR\",\"length\":128,\"scale\":128},{\"columnNumber\":2,\"columnName\":\"Datatype\",\"columnTypeName\":\"VARCHAR\",\"length\":65,\"scale\":65},{\"columnNumber\":3,\"columnName\":\"FileType\",\"columnTypeName\":\"VARCHAR\",\"length\":128,\"scale\":128},{\"columnNumber\":4,\"columnName\":\"Location\",\"columnTypeName\":\"VARCHAR\",\"length\":2049,\"scale\":2049}]}"
     },
     "output_type": "execute_result"
    }
   ],
   "source": [
    "/* Investigate object schema */\n",
    "\n",
    "SELECT TOP 12 *\n",
    "\n",
    "FROM (\n",
    "    LOCATION = '/s3/s3.amazonaws.com/td-usecases-data-store/retail_sample_data/FSCustomerJourney/ich_banking/'\n",
    "    AUTHORIZATION = retail_sample_data.DEMO_AUTH_NOS\n",
    "    RETURNTYPE = 'NOSREAD_SCHEMA'\n",
    ") AS D\n",
    "ORDER BY 1"
   ]
  },
  {
   "cell_type": "code",
   "execution_count": 9,
   "id": "danish-timer",
   "metadata": {},
   "outputs": [
    {
     "data": {
      "text/plain": [
       "Success: 36 rows affected"
      ]
     },
     "execution_count": 9,
     "metadata": {
      "application/vnd.teradata.resultset": ""
     },
     "output_type": "execute_result"
    }
   ],
   "source": [
    "DROP TABLE demo.Banking_History_S3"
   ]
  },
  {
   "cell_type": "code",
   "execution_count": 13,
   "id": "allied-tuesday",
   "metadata": {},
   "outputs": [
    {
     "data": {
      "text/plain": [
       "Success: 0 rows affected"
      ]
     },
     "execution_count": 13,
     "metadata": {
      "application/vnd.teradata.resultset": ""
     },
     "output_type": "execute_result"
    }
   ],
   "source": [
    "/* Create the Foreign Table */\n",
    "\n",
    "CREATE FOREIGN TABLE demo.Banking_History_S3,\n",
    "    EXTERNAL SECURITY retail_sample_data.DEMO_AUTH_NOS\n",
    "    (\n",
    "    customer_skey                 integer,\n",
    "    customer_identifier           varchar(26),\n",
    "    customer_cookie               varchar(50),\n",
    "    customer_online_id            varchar(3),\n",
    "    customer_offline_id           integer,\n",
    "    customer_type                 varchar(90),\n",
    "    customer_days_active          integer,\n",
    "    interaction_session_number      bigint,\n",
    "    interaction_timestamp         timestamp with time zone,\n",
    "    interaction_source            varchar(100),\n",
    "    interaction_type              varchar(100),\n",
    "    sales_channel            varchar(100))\n",
    "USING\n",
    "(\n",
    "     LOCATION  ('/s3/s3.amazonaws.com/td-usecases-data-store/retail_sample_data/FSCustomerJourney/ich_banking/')\n",
    "     MANIFEST  ('FALSE')\n",
    "     ROWFORMAT  ('{\"field_delimiter\":\",\",\"record_delimiter\":\"\\n\",\"character_set\":\"LATIN\"}')\n",
    "     STOREDAS  ('TEXTFILE')\n",
    "     HEADER  ('FALSE')\n",
    "     STRIP_EXTERIOR_SPACES  ('FALSE')\n",
    "     STRIP_ENCLOSING_CHAR  ('\"')\n",
    ")\n",
    "NO PRIMARY INDEX ;"
   ]
  },
  {
   "cell_type": "code",
   "execution_count": 14,
   "id": "pacific-capture",
   "metadata": {},
   "outputs": [
    {
     "data": {
      "application/vnd.teradata.resultset": "\"Location\",\"customer_skey\",\"customer_identifier\",\"customer_cookie\",\"customer_online_id\",\"customer_offline_id\",\"customer_type\",\"customer_days_active\",\"interaction_session_number\",\"interaction_timestamp\",\"interaction_source\",\"interaction_type\",\"sales_channel\"\n\"/S3/s3.amazonaws.com/td-usecases-data-store/retail_sample_data/FSCustomerJourney/ich_banking/ich_banking_1.csv\",\"112110\",\"125381050fjzrpwt771657752\",\"EY4pH14_ZlZaQQKZpXdXRqo\",\"N\",\"-1\",\"Visitor - Browse Only\",\"0\",\"4308895\",\"2016-02-11 12:38:03.000000-07:00\",\"WEBSITE\",\"BROWSE\",\"-1\"\n\"/S3/s3.amazonaws.com/td-usecases-data-store/retail_sample_data/FSCustomerJourney/ich_banking/ich_banking_8.csv\",\"77310\",\"305591565fsocziw320918796\",\"ztmThhB1F4yVJz3pTXyzbvY\",\"N\",\"-1\",\"Visitor - Browse Only\",\"0\",\"5093790\",\"2016-01-12 11:30:04.000000-07:00\",\"ONSITE_AD\",\"CLICK\",\"-1\"\n\"/S3/s3.amazonaws.com/td-usecases-data-store/retail_sample_data/FSCustomerJourney/ich_banking/ich_banking_9.csv\",\"238628\",\"723942387blqopyz768264691\",\"mRejQzem5LYwyfL12shm68f-1\",\"Y\",\"545408141\",\"Gold\",\"94\",\"1789480\",\"2016-02-16 13:28:21.000000-07:00\",\"WEBSITE\",\"COMPARE\",\"-1\"\n\"/S3/s3.amazonaws.com/td-usecases-data-store/retail_sample_data/FSCustomerJourney/ich_banking/ich_banking_4.csv\",\"237278\",\"566319047mpylzme563266592\",\"B7BvWDimJKoTqB_sbsWH6KF\",\"Y\",\"560261797\",\"Gold\",\"1\",\"3267787\",\"2016-02-21 15:00:24.000000-07:00\",\"WEBSITE\",\"STARTS_APPLICATION\",\"-1\"\n\"/S3/s3.amazonaws.com/td-usecases-data-store/retail_sample_data/FSCustomerJourney/ich_banking/ich_banking_6.csv\",\"155870\",\"994625921asfjncl350510568\",\"UbsHsl36rFIqZdJrDd9Ya-Q\",\"N\",\"-1\",\"Visitor - Browse Only\",\"0\",\"2832095\",\"2016-03-24 18:54:44.000000-07:00\",\"WEBSITE\",\"BROWSE\",\"-1\"\n\"/S3/s3.amazonaws.com/td-usecases-data-store/retail_sample_data/FSCustomerJourney/ich_banking/ich_banking_5.csv\",\"2135\",\"861839811lbxepnv901946824\",\"55jkmJvnwpUIMI-zDGvsSra\",\"N\",\"560839436\",\"Gold\",\"1\",\"4873958\",\"2016-03-14 07:33:14.000000-07:00\",\"WEBSITE\",\"COMPARE\",\"-1\"\n\"/S3/s3.amazonaws.com/td-usecases-data-store/retail_sample_data/FSCustomerJourney/ich_banking/ich_banking_7.csv\",\"241125\",\"881215615vjzlqop829238201\",\"OM-7DENTnCcPO0r109jd8eL\",\"Y\",\"538408614\",\"Platinum\",\"798\",\"3719924\",\"2016-01-07 18:00:27.000000-07:00\",\"WEBSITE\",\"BROWSE\",\"-1\"\n\"/S3/s3.amazonaws.com/td-usecases-data-store/retail_sample_data/FSCustomerJourney/ich_banking/ich_banking_3.csv\",\"223375\",\"832161474ylmoyeq507735216\",\"Lhi-WtRHOzvlgmqs9fcUuPz\",\"Y\",\"-1\",\"Visitor - Loyalty\",\"0\",\"4099749\",\"2016-01-08 18:50:31.000000-07:00\",\"WEBSITE\",\"OLB\",\"-1\"\n\"/S3/s3.amazonaws.com/td-usecases-data-store/retail_sample_data/FSCustomerJourney/ich_banking/ich_banking_2.csv\",\"239956\",\"831898057xcrapzz439247508\",\"MWbJSSxkLUqB6VKnQC5RZr4\",\"Y\",\"404465918\",\"Gold\",\"1054\",\"1884564\",\"2016-02-03 16:54:07.000000-07:00\",\"SOR_SALES_FILE\",\"ACCOUNT_BOOKED_OFFLINE\",\"BRANCH\"\n\"/S3/s3.amazonaws.com/td-usecases-data-store/retail_sample_data/FSCustomerJourney/ich_banking/ich_banking_10.csv\",\"123501\",\"729007171htkuxfk312736187\",\"JTHwxvgAmeoXycdIJUc6Ynl\",\"N\",\"-1\",\"Visitor - Browse Only\",\"0\",\"5508838\",\"2016-02-29 18:43:33.000000-07:00\",\"WEBSITE\",\"BROWSE\",\"-1\"",
      "text/html": [
       "<div class = \"td-resultset-table-div\" style = \"max-height: 100%; overflow-y: auto\">\n",
       "      <table class=\"tdhistory373538\"><style>\n",
       "      table.tdhistory373538 { display: block !important; min-height: 294px !important; overflow: auto !important; height: 294px !important; width: 100% !important; border: 1px solid rgb(207, 207, 207) !important; border-collapse: collapse !important; ; color: var(--jp-ui-font-color1) !important; }\n",
       "      th.tdhistory373538 { border: 1px solid rgb(198,198,198) !important; border-collapse: collapse !important; ; padding: 2px 5px !important; ; font-size: 13px !important; ; text-align: center !important; white-space: normal !important; color: var(--jp-ui-font-color1) !important; }\n",
       "      th.tdhistory373538:last-child { text-align: left !important; }\n",
       "      tbody.tdhistory373538 tr:nth-child(even) { background: rgba(243, 243, 243, 0.75) !important; }\n",
       "      tbody.tdhistory373538 tr:nth-child(odd) { background: var(--jp-ui-inverse-font-color1) !important; }\n",
       "      td.tdhistory373538 { border: 1px solid rgb(207, 207, 207) !important; border-collapse: collapse !important; ; padding: 2px 5px !important; ; font-size: 13px !important; ; text-align: left !important;          white-space: nowrap !important; overflow:hidden !important; text-overflow:ellipsis !important;; }\n",
       "    </style><thead><tr style= \"background: rgba(243, 243, 243, 0.75)\"><th class=\"tdhistory373538\"></th><th class=\"tdhistory373538\">Location</th><th class=\"tdhistory373538\">customer_skey</th><th class=\"tdhistory373538\">customer_identifier</th><th class=\"tdhistory373538\">customer_cookie</th><th class=\"tdhistory373538\">customer_online_id</th><th class=\"tdhistory373538\">customer_offline_id</th><th class=\"tdhistory373538\">customer_type</th><th class=\"tdhistory373538\">customer_days_active</th><th class=\"tdhistory373538\">interaction_session_number</th><th class=\"tdhistory373538\">interaction_timestamp</th><th class=\"tdhistory373538\">interaction_source</th><th class=\"tdhistory373538\">interaction_type</th><th class=\"tdhistory373538\">sales_channel</th></tr></thead><tbody class=\"tdhistory373538 resultset-body\"><tr><th class=\"tdhistory373538\" style= \"background: rgba(243, 243, 243, 0.75)\">1</th><td class=\"tdhistory373538\">/S3/s3.amazonaws.com/td-usecases-data-store/retail_sample_data/FSCustomerJourney/ich_banking/ich_banking_1.csv</td><td class=\"tdhistory373538\">112110</td><td class=\"tdhistory373538\">125381050fjzrpwt771657752</td><td class=\"tdhistory373538\">EY4pH14_ZlZaQQKZpXdXRqo</td><td class=\"tdhistory373538\">N</td><td class=\"tdhistory373538\">-1</td><td class=\"tdhistory373538\">Visitor - Browse Only</td><td class=\"tdhistory373538\">0</td><td class=\"tdhistory373538\">4308895</td><td class=\"tdhistory373538\">2016-02-11 12:38:03.000000-07:00</td><td class=\"tdhistory373538\">WEBSITE</td><td class=\"tdhistory373538\">BROWSE</td><td class=\"tdhistory373538\">-1</td></tr><tr><th class=\"tdhistory373538\" style= \"background: rgba(243, 243, 243, 0.75)\">2</th><td class=\"tdhistory373538\">/S3/s3.amazonaws.com/td-usecases-data-store/retail_sample_data/FSCustomerJourney/ich_banking/ich_banking_8.csv</td><td class=\"tdhistory373538\">77310</td><td class=\"tdhistory373538\">305591565fsocziw320918796</td><td class=\"tdhistory373538\">ztmThhB1F4yVJz3pTXyzbvY</td><td class=\"tdhistory373538\">N</td><td class=\"tdhistory373538\">-1</td><td class=\"tdhistory373538\">Visitor - Browse Only</td><td class=\"tdhistory373538\">0</td><td class=\"tdhistory373538\">5093790</td><td class=\"tdhistory373538\">2016-01-12 11:30:04.000000-07:00</td><td class=\"tdhistory373538\">ONSITE_AD</td><td class=\"tdhistory373538\">CLICK</td><td class=\"tdhistory373538\">-1</td></tr><tr><th class=\"tdhistory373538\" style= \"background: rgba(243, 243, 243, 0.75)\">3</th><td class=\"tdhistory373538\">/S3/s3.amazonaws.com/td-usecases-data-store/retail_sample_data/FSCustomerJourney/ich_banking/ich_banking_9.csv</td><td class=\"tdhistory373538\">238628</td><td class=\"tdhistory373538\">723942387blqopyz768264691</td><td class=\"tdhistory373538\">mRejQzem5LYwyfL12shm68f-1</td><td class=\"tdhistory373538\">Y</td><td class=\"tdhistory373538\">545408141</td><td class=\"tdhistory373538\">Gold</td><td class=\"tdhistory373538\">94</td><td class=\"tdhistory373538\">1789480</td><td class=\"tdhistory373538\">2016-02-16 13:28:21.000000-07:00</td><td class=\"tdhistory373538\">WEBSITE</td><td class=\"tdhistory373538\">COMPARE</td><td class=\"tdhistory373538\">-1</td></tr><tr><th class=\"tdhistory373538\" style= \"background: rgba(243, 243, 243, 0.75)\">4</th><td class=\"tdhistory373538\">/S3/s3.amazonaws.com/td-usecases-data-store/retail_sample_data/FSCustomerJourney/ich_banking/ich_banking_4.csv</td><td class=\"tdhistory373538\">237278</td><td class=\"tdhistory373538\">566319047mpylzme563266592</td><td class=\"tdhistory373538\">B7BvWDimJKoTqB_sbsWH6KF</td><td class=\"tdhistory373538\">Y</td><td class=\"tdhistory373538\">560261797</td><td class=\"tdhistory373538\">Gold</td><td class=\"tdhistory373538\">1</td><td class=\"tdhistory373538\">3267787</td><td class=\"tdhistory373538\">2016-02-21 15:00:24.000000-07:00</td><td class=\"tdhistory373538\">WEBSITE</td><td class=\"tdhistory373538\">STARTS_APPLICATION</td><td class=\"tdhistory373538\">-1</td></tr><tr><th class=\"tdhistory373538\" style= \"background: rgba(243, 243, 243, 0.75)\">5</th><td class=\"tdhistory373538\">/S3/s3.amazonaws.com/td-usecases-data-store/retail_sample_data/FSCustomerJourney/ich_banking/ich_banking_6.csv</td><td class=\"tdhistory373538\">155870</td><td class=\"tdhistory373538\">994625921asfjncl350510568</td><td class=\"tdhistory373538\">UbsHsl36rFIqZdJrDd9Ya-Q</td><td class=\"tdhistory373538\">N</td><td class=\"tdhistory373538\">-1</td><td class=\"tdhistory373538\">Visitor - Browse Only</td><td class=\"tdhistory373538\">0</td><td class=\"tdhistory373538\">2832095</td><td class=\"tdhistory373538\">2016-03-24 18:54:44.000000-07:00</td><td class=\"tdhistory373538\">WEBSITE</td><td class=\"tdhistory373538\">BROWSE</td><td class=\"tdhistory373538\">-1</td></tr><tr><th class=\"tdhistory373538\" style= \"background: rgba(243, 243, 243, 0.75)\">6</th><td class=\"tdhistory373538\">/S3/s3.amazonaws.com/td-usecases-data-store/retail_sample_data/FSCustomerJourney/ich_banking/ich_banking_5.csv</td><td class=\"tdhistory373538\">2135</td><td class=\"tdhistory373538\">861839811lbxepnv901946824</td><td class=\"tdhistory373538\">55jkmJvnwpUIMI-zDGvsSra</td><td class=\"tdhistory373538\">N</td><td class=\"tdhistory373538\">560839436</td><td class=\"tdhistory373538\">Gold</td><td class=\"tdhistory373538\">1</td><td class=\"tdhistory373538\">4873958</td><td class=\"tdhistory373538\">2016-03-14 07:33:14.000000-07:00</td><td class=\"tdhistory373538\">WEBSITE</td><td class=\"tdhistory373538\">COMPARE</td><td class=\"tdhistory373538\">-1</td></tr><tr><th class=\"tdhistory373538\" style= \"background: rgba(243, 243, 243, 0.75)\">7</th><td class=\"tdhistory373538\">/S3/s3.amazonaws.com/td-usecases-data-store/retail_sample_data/FSCustomerJourney/ich_banking/ich_banking_7.csv</td><td class=\"tdhistory373538\">241125</td><td class=\"tdhistory373538\">881215615vjzlqop829238201</td><td class=\"tdhistory373538\">OM-7DENTnCcPO0r109jd8eL</td><td class=\"tdhistory373538\">Y</td><td class=\"tdhistory373538\">538408614</td><td class=\"tdhistory373538\">Platinum</td><td class=\"tdhistory373538\">798</td><td class=\"tdhistory373538\">3719924</td><td class=\"tdhistory373538\">2016-01-07 18:00:27.000000-07:00</td><td class=\"tdhistory373538\">WEBSITE</td><td class=\"tdhistory373538\">BROWSE</td><td class=\"tdhistory373538\">-1</td></tr><tr><th class=\"tdhistory373538\" style= \"background: rgba(243, 243, 243, 0.75)\">8</th><td class=\"tdhistory373538\">/S3/s3.amazonaws.com/td-usecases-data-store/retail_sample_data/FSCustomerJourney/ich_banking/ich_banking_3.csv</td><td class=\"tdhistory373538\">223375</td><td class=\"tdhistory373538\">832161474ylmoyeq507735216</td><td class=\"tdhistory373538\">Lhi-WtRHOzvlgmqs9fcUuPz</td><td class=\"tdhistory373538\">Y</td><td class=\"tdhistory373538\">-1</td><td class=\"tdhistory373538\">Visitor - Loyalty</td><td class=\"tdhistory373538\">0</td><td class=\"tdhistory373538\">4099749</td><td class=\"tdhistory373538\">2016-01-08 18:50:31.000000-07:00</td><td class=\"tdhistory373538\">WEBSITE</td><td class=\"tdhistory373538\">OLB</td><td class=\"tdhistory373538\">-1</td></tr><tr><th class=\"tdhistory373538\" style= \"background: rgba(243, 243, 243, 0.75)\">9</th><td class=\"tdhistory373538\">/S3/s3.amazonaws.com/td-usecases-data-store/retail_sample_data/FSCustomerJourney/ich_banking/ich_banking_2.csv</td><td class=\"tdhistory373538\">239956</td><td class=\"tdhistory373538\">831898057xcrapzz439247508</td><td class=\"tdhistory373538\">MWbJSSxkLUqB6VKnQC5RZr4</td><td class=\"tdhistory373538\">Y</td><td class=\"tdhistory373538\">404465918</td><td class=\"tdhistory373538\">Gold</td><td class=\"tdhistory373538\">1054</td><td class=\"tdhistory373538\">1884564</td><td class=\"tdhistory373538\">2016-02-03 16:54:07.000000-07:00</td><td class=\"tdhistory373538\">SOR_SALES_FILE</td><td class=\"tdhistory373538\">ACCOUNT_BOOKED_OFFLINE</td><td class=\"tdhistory373538\">BRANCH</td></tr><tr><th class=\"tdhistory373538\" style= \"background: rgba(243, 243, 243, 0.75)\">10</th><td class=\"tdhistory373538\">/S3/s3.amazonaws.com/td-usecases-data-store/retail_sample_data/FSCustomerJourney/ich_banking/ich_banking_10.csv</td><td class=\"tdhistory373538\">123501</td><td class=\"tdhistory373538\">729007171htkuxfk312736187</td><td class=\"tdhistory373538\">JTHwxvgAmeoXycdIJUc6Ynl</td><td class=\"tdhistory373538\">N</td><td class=\"tdhistory373538\">-1</td><td class=\"tdhistory373538\">Visitor - Browse Only</td><td class=\"tdhistory373538\">0</td><td class=\"tdhistory373538\">5508838</td><td class=\"tdhistory373538\">2016-02-29 18:43:33.000000-07:00</td><td class=\"tdhistory373538\">WEBSITE</td><td class=\"tdhistory373538\">BROWSE</td><td class=\"tdhistory373538\">-1</td></tr></tbody></table></div>"
      ]
     },
     "execution_count": 14,
     "metadata": {
      "application/vnd.teradata.resultset": "{\"resultSetID\":\"/home/jovyan/JupyterLabRoot/Teradata/Resultsets/2023.09.06_14.58.47.770_UTC\",\"historyID\":7768,\"chunkID\":\"00001\",\"sessionid\":\"\",\"portnum\":\"\",\"dockermode\":\"docker\",\"totalRowCount\":10,\"chunkCount\":0,\"rowLimit\":0,\"columnMetadata\":[{\"columnName\":\"Location\",\"columnTypeName\":\"VARCHAR\",\"length\":2048,\"scale\":2048},{\"columnNumber\":1,\"columnName\":\"customer_skey\",\"columnTypeName\":\"INTEGER\"},{\"columnNumber\":2,\"columnName\":\"customer_identifier\",\"columnTypeName\":\"VARCHAR\",\"length\":26,\"scale\":26},{\"columnNumber\":3,\"columnName\":\"customer_cookie\",\"columnTypeName\":\"VARCHAR\",\"length\":50,\"scale\":50},{\"columnNumber\":4,\"columnName\":\"customer_online_id\",\"columnTypeName\":\"VARCHAR\",\"length\":3,\"scale\":3},{\"columnNumber\":5,\"columnName\":\"customer_offline_id\",\"columnTypeName\":\"INTEGER\"},{\"columnNumber\":6,\"columnName\":\"customer_type\",\"columnTypeName\":\"VARCHAR\",\"length\":90,\"scale\":90},{\"columnNumber\":7,\"columnName\":\"customer_days_active\",\"columnTypeName\":\"INTEGER\"},{\"columnNumber\":8,\"columnName\":\"interaction_session_number\",\"columnTypeName\":\"BIGINT\"},{\"columnNumber\":9,\"columnName\":\"interaction_timestamp\",\"columnTypeName\":\"TIMESTAMP WITH TIME ZONE\",\"length\":6,\"scale\":6},{\"columnNumber\":10,\"columnName\":\"interaction_source\",\"columnTypeName\":\"VARCHAR\",\"length\":100,\"scale\":100},{\"columnNumber\":11,\"columnName\":\"interaction_type\",\"columnTypeName\":\"VARCHAR\",\"length\":100,\"scale\":100},{\"columnNumber\":12,\"columnName\":\"sales_channel\",\"columnTypeName\":\"VARCHAR\",\"length\":100,\"scale\":100}]}"
     },
     "output_type": "execute_result"
    }
   ],
   "source": [
    "SELECT TOP 10 * FROM demo.Banking_History_S3"
   ]
  },
  {
   "cell_type": "code",
   "execution_count": 15,
   "id": "stuffed-married",
   "metadata": {},
   "outputs": [
    {
     "data": {
      "application/vnd.teradata.resultset": "\"Count(*)\"\n\"628723\"",
      "text/html": [
       "<div class = \"td-resultset-table-div\" style = \"max-height: 100%; overflow-y: auto\">\n",
       "      <table class=\"tdhistory952939\"><style>\n",
       "      table.tdhistory952939 { display: block !important; min-height: 105px !important; overflow: auto !important; height: 105px !important; width: 100% !important; border: 1px solid rgb(207, 207, 207) !important; border-collapse: collapse !important; ; color: var(--jp-ui-font-color1) !important; }\n",
       "      th.tdhistory952939 { border: 1px solid rgb(198,198,198) !important; border-collapse: collapse !important; ; padding: 2px 5px !important; ; font-size: 13px !important; ; text-align: center !important; white-space: normal !important; color: var(--jp-ui-font-color1) !important; }\n",
       "      th.tdhistory952939:last-child { text-align: left !important; }\n",
       "      tbody.tdhistory952939 tr:nth-child(even) { background: rgba(243, 243, 243, 0.75) !important; }\n",
       "      tbody.tdhistory952939 tr:nth-child(odd) { background: var(--jp-ui-inverse-font-color1) !important; }\n",
       "      td.tdhistory952939 { border: 1px solid rgb(207, 207, 207) !important; border-collapse: collapse !important; ; padding: 2px 5px !important; ; font-size: 13px !important; ; text-align: left !important;          white-space: nowrap !important; overflow:hidden !important; text-overflow:ellipsis !important;; }\n",
       "    </style><thead><tr style= \"background: rgba(243, 243, 243, 0.75)\"><th class=\"tdhistory952939\"></th><th class=\"tdhistory952939\">Count(*)</th></tr></thead><tbody class=\"tdhistory952939 resultset-body\"><tr><th class=\"tdhistory952939\" style= \"background: rgba(243, 243, 243, 0.75)\">1</th><td class=\"tdhistory952939\">628723</td></tr></tbody></table></div>"
      ]
     },
     "execution_count": 15,
     "metadata": {
      "application/vnd.teradata.resultset": "{\"resultSetID\":\"/home/jovyan/JupyterLabRoot/Teradata/Resultsets/2023.09.06_14.58.49.404_UTC\",\"historyID\":7769,\"chunkID\":\"00001\",\"sessionid\":\"\",\"portnum\":\"\",\"dockermode\":\"docker\",\"totalRowCount\":1,\"chunkCount\":0,\"rowLimit\":0,\"columnMetadata\":[{\"columnName\":\"Count(*)\",\"columnTypeName\":\"INTEGER\"}]}"
     },
     "output_type": "execute_result"
    }
   ],
   "source": [
    "SELECT COUNT(*) FROM demo.Banking_History_S3"
   ]
  },
  {
   "cell_type": "markdown",
   "id": "lesbian-mystery",
   "metadata": {},
   "source": [
    "<hr>\n",
    "<p style = 'font-size:28px;font-family:Arial;color:#E37C4D'><b>Demonstration 3 - Join data across storage types</b></p>\n",
    "\n",
    "<table style = 'width:100%;table-layout:fixed;font-size:16px;font-family:Arial'>\n",
    "    <tr style = 'text-align:center'>\n",
    "        <td><b>Customers_BFS, Accounts_Mapping_BFS</b>\n",
    "        <br>Two dimension tables, stored in local BFS Storage on the Primary Cluster.</td>\n",
    "                <td><b>Txn_History_OFS</b>\n",
    "            <br>A large fact table with financial transaction detail information.  Data is stored in the Vantage Object Filesystem.</td>      \n",
    "        <td><b>Banking_History_S3</b>\n",
    "            <br>An extremely large external table containing Banking History. Data is stored as-is in S3.</td>\n",
    "    </tr>\n",
    "    </table>\n",
    "    <table style = 'width:100%;table-layout:fixed;font-size:16px;font-family:Arial'>\n",
    "    <tr>\n",
    "        <td><img src = 'images/EBS_Tables.png'></td>\n",
    "        <td><img src = 'images/OFS_Tables.png'></td>\n",
    "        <td><img src = 'images/S3_Tables.png'></td>\n",
    "    </tr>\n",
    "</table>"
   ]
  },
  {
   "cell_type": "code",
   "execution_count": 16,
   "id": "selected-landing",
   "metadata": {},
   "outputs": [
    {
     "data": {
      "application/vnd.teradata.resultset": "\"amount\",\"firstname\",\"lastname\"\n\"2.29933046e+06\",\"Jacob\",\"Wilkins\"\n\"2.08105156e+06\",\"Danielle\",\"Ahmed\"\n\"829012.31\",\"Benjamin\",\"Godfrey\"\n\"5.09694674e+06\",\"Edward\",\"Weston\"\n\"127564.33\",\"Phoebe\",\"Jenkins\"\n\"412668.39\",\"Isabella\",\"Pope\"\n\"1.18672539e+06\",\"Caitlin\",\"Gordon\"\n\"145035.4\",\"Grace\",\"Forster\"\n\"1e+07\",\"Amelie\",\"Wong\"\n\"432958.83\",\"Megan\",\"Briggs\"",
      "text/html": [
       "<div class = \"td-resultset-table-div\" style = \"max-height: 100%; overflow-y: auto\">\n",
       "      <table class=\"tdhistory959564\"><style>\n",
       "      table.tdhistory959564 { display: block !important; min-height: 294px !important; overflow: auto !important; height: 294px !important; width: 100% !important; border: 1px solid rgb(207, 207, 207) !important; border-collapse: collapse !important; ; color: var(--jp-ui-font-color1) !important; }\n",
       "      th.tdhistory959564 { border: 1px solid rgb(198,198,198) !important; border-collapse: collapse !important; ; padding: 2px 5px !important; ; font-size: 13px !important; ; text-align: center !important; white-space: normal !important; color: var(--jp-ui-font-color1) !important; }\n",
       "      th.tdhistory959564:last-child { text-align: left !important; }\n",
       "      tbody.tdhistory959564 tr:nth-child(even) { background: rgba(243, 243, 243, 0.75) !important; }\n",
       "      tbody.tdhistory959564 tr:nth-child(odd) { background: var(--jp-ui-inverse-font-color1) !important; }\n",
       "      td.tdhistory959564 { border: 1px solid rgb(207, 207, 207) !important; border-collapse: collapse !important; ; padding: 2px 5px !important; ; font-size: 13px !important; ; text-align: left !important;          white-space: nowrap !important; overflow:hidden !important; text-overflow:ellipsis !important;; }\n",
       "    </style><thead><tr style= \"background: rgba(243, 243, 243, 0.75)\"><th class=\"tdhistory959564\"></th><th class=\"tdhistory959564\">amount</th><th class=\"tdhistory959564\">firstname</th><th class=\"tdhistory959564\">lastname</th></tr></thead><tbody class=\"tdhistory959564 resultset-body\"><tr><th class=\"tdhistory959564\" style= \"background: rgba(243, 243, 243, 0.75)\">1</th><td class=\"tdhistory959564\">2.29933046e+06</td><td class=\"tdhistory959564\">Jacob</td><td class=\"tdhistory959564\">Wilkins</td></tr><tr><th class=\"tdhistory959564\" style= \"background: rgba(243, 243, 243, 0.75)\">2</th><td class=\"tdhistory959564\">2.08105156e+06</td><td class=\"tdhistory959564\">Danielle</td><td class=\"tdhistory959564\">Ahmed</td></tr><tr><th class=\"tdhistory959564\" style= \"background: rgba(243, 243, 243, 0.75)\">3</th><td class=\"tdhistory959564\">829012.31</td><td class=\"tdhistory959564\">Benjamin</td><td class=\"tdhistory959564\">Godfrey</td></tr><tr><th class=\"tdhistory959564\" style= \"background: rgba(243, 243, 243, 0.75)\">4</th><td class=\"tdhistory959564\">5.09694674e+06</td><td class=\"tdhistory959564\">Edward</td><td class=\"tdhistory959564\">Weston</td></tr><tr><th class=\"tdhistory959564\" style= \"background: rgba(243, 243, 243, 0.75)\">5</th><td class=\"tdhistory959564\">127564.33</td><td class=\"tdhistory959564\">Phoebe</td><td class=\"tdhistory959564\">Jenkins</td></tr><tr><th class=\"tdhistory959564\" style= \"background: rgba(243, 243, 243, 0.75)\">6</th><td class=\"tdhistory959564\">412668.39</td><td class=\"tdhistory959564\">Isabella</td><td class=\"tdhistory959564\">Pope</td></tr><tr><th class=\"tdhistory959564\" style= \"background: rgba(243, 243, 243, 0.75)\">7</th><td class=\"tdhistory959564\">1.18672539e+06</td><td class=\"tdhistory959564\">Caitlin</td><td class=\"tdhistory959564\">Gordon</td></tr><tr><th class=\"tdhistory959564\" style= \"background: rgba(243, 243, 243, 0.75)\">8</th><td class=\"tdhistory959564\">145035.4</td><td class=\"tdhistory959564\">Grace</td><td class=\"tdhistory959564\">Forster</td></tr><tr><th class=\"tdhistory959564\" style= \"background: rgba(243, 243, 243, 0.75)\">9</th><td class=\"tdhistory959564\">1e+07</td><td class=\"tdhistory959564\">Amelie</td><td class=\"tdhistory959564\">Wong</td></tr><tr><th class=\"tdhistory959564\" style= \"background: rgba(243, 243, 243, 0.75)\">10</th><td class=\"tdhistory959564\">432958.83</td><td class=\"tdhistory959564\">Megan</td><td class=\"tdhistory959564\">Briggs</td></tr></tbody></table></div>"
      ]
     },
     "execution_count": 16,
     "metadata": {
      "application/vnd.teradata.resultset": "{\"resultSetID\":\"/home/jovyan/JupyterLabRoot/Teradata/Resultsets/2023.09.06_14.58.56.634_UTC\",\"historyID\":7770,\"chunkID\":\"00001\",\"sessionid\":\"\",\"portnum\":\"\",\"dockermode\":\"docker\",\"totalRowCount\":10,\"chunkCount\":0,\"rowLimit\":0,\"columnMetadata\":[{\"columnName\":\"amount\",\"columnTypeName\":\"FLOAT\"},{\"columnNumber\":1,\"columnName\":\"firstname\",\"columnTypeName\":\"VARCHAR\",\"length\":50,\"scale\":50},{\"columnNumber\":2,\"columnName\":\"lastname\",\"columnTypeName\":\"VARCHAR\",\"length\":90,\"scale\":90}]}"
     },
     "output_type": "execute_result"
    }
   ],
   "source": [
    "/* Find banking users who have had a fradulent event in their cashapp account*/\n",
    "\n",
    "SELECT TOP 10\n",
    "\n",
    "txn.amount,\n",
    "c.firstname,\n",
    "c.lastname\n",
    "\n",
    "\n",
    "FROM demo.txn_history_ofs txn, demo.Customers_BFS c, demo.Accounts_Mapping_BFS am\n",
    "\n",
    "\n",
    "WHERE txn.isFraud = 1 AND\n",
    "    txn.nameOrig= am.nameOrig AND\n",
    "    am.customer_identifier = c.customer_identifier \n",
    "\n",
    "GROUP BY 1,2,3"
   ]
  },
  {
   "cell_type": "markdown",
   "id": "returning-animal",
   "metadata": {},
   "source": [
    "<hr>\n",
    "\n",
    "<p style = 'font-size:18px;font-family:Arial;color:#E37C4D'>Bringing it all together with ClearScape Analytics Functions</p>\n",
    "\n",
    "<p style = 'font-size:16px;font-family:Arial'>This query will add two new elements to the analysis; adding in the large fact table stored natively in S3, and wrapping everything in a multi-row pattern analysis function named nPath. The goal of this analysis is identifying offline behavioral patterns leading to \"Fraud\" - a potentially valuable analysis that can directly feed more accurate Fraud prediction or early identification.</p>\n",
    "\n",
    "\n",
    "<table style = 'width:100%;table-layout:fixed;font-size:16px;font-family:Arial'>\n",
    "    <tr style = 'text-align:top'>\n",
    "        <td style = 'width:30%'>\n",
    "        <ol>\n",
    "            <br>\n",
    "            <li>Use the Join conditions above to identify Fraud in mobile app</li>\n",
    "            <br>\n",
    "            <li>Join the fradulent users to their offline identities</li>\n",
    "            <br>\n",
    "            <li>Pass this data to Teradata nPath function to idenfify offline bevaviors</li>\n",
    "            <br>\n",
    "        </ol></td>\n",
    "        <td><img src = 'images/Life_Of_Query.png'></td>\n",
    "    </tr>\n",
    "</table>"
   ]
  },
  {
   "cell_type": "code",
   "execution_count": 17,
   "id": "bright-check",
   "metadata": {},
   "outputs": [
    {
     "data": {
      "application/vnd.teradata.resultset": "\"start_time\",\"customer_identifier\",\"firstname\",\"lastname\",\"fraud_amount\",\"path\",\"interaction_session_number\"\n\"2016-02-16 16:22:58.000000-07:00\",\"382199496nujsfqt379492272\",\"Caitlin\",\"Gordon\",\"1.18672539e+06\",\"[BROWSE, BROWSE, BROWSE, BROWSE, BROWSE, BROWSE]\",\"7280496\"\n\"2016-02-22 16:30:38.000000-07:00\",\"228714836dfdzuow919946555\",\"Phoebe\",\"Jenkins\",\"127564.33\",\"[COMPARE, COMPARE, COMPARE, COMPARE, COMPARE, COMPARE, COMPARE, COMPARE, COMPARE, COMPARE, COMPARE, COMPARE, COMPARE, COMPARE, COMPARE, COMPARE, COMPARE, COMPARE, COMPARE, COMPARE, COMPARE, COMPARE, COMPARE, COMPARE, COMPARE, COMPARE, COMPARE, COMPARE, COMPARE, COMPARE, COMPARE, COMPARE, COMPARE, COMPARE, COMPARE, COMPARE]\",\"3688318\"\n\"2016-02-13 11:39:23.000000-07:00\",\"550877512qiultoa660406456\",\"Amelie\",\"Wong\",\"1e+07\",\"[BROWSE, BROWSE, BROWSE, BROWSE, BROWSE, BROWSE, COMPARE, COMPARE, COMPARE, COMPARE, COMPARE, COMPARE, STARTS_APPLICATION, STARTS_APPLICATION, STARTS_APPLICATION, STARTS_APPLICATION, STARTS_APPLICATION, STARTS_APPLICATION]\",\"5335956\"\n\"2016-03-06 16:32:33.000000-07:00\",\"315616825hhozhjg829286508\",\"Benjamin\",\"Godfrey\",\"829012.31\",\"[BROWSE, BROWSE, BROWSE, BROWSE, BROWSE, BROWSE, BROWSE, BROWSE, BROWSE, BROWSE, BROWSE, BROWSE, STARTS_APPLICATION, STARTS_APPLICATION, STARTS_APPLICATION, STARTS_APPLICATION, STARTS_APPLICATION, STARTS_APPLICATION, STARTS_APPLICATION, STARTS_APPLICATION, STARTS_APPLICATION, STARTS_APPLICATION, STARTS_APPLICATION, STARTS_APPLICATION, COMPARE, COMPARE, COMPARE, COMPARE, COMPARE, COMPARE, COMPARE, COMPARE, COMPARE, COMPARE, COMPARE, COMPARE, STARTS_APPLICATION, STARTS_APPLICATION, STARTS_APPLICATION, STARTS_APPLICATION, STARTS_APPLICATION, STARTS_APPLICATION, STARTS_APPLICATION, STARTS_APPLICATION, STARTS_APPLICATION, STARTS_APPLICATION, STARTS_APPLICATION, STARTS_APPLICATION, COMPLETE_APPLICATION, COMPLETE_APPLICATION, COMPLETE_APPLICATION, COMPLETE_APPLICATION, COMPLETE_APPLICATION, COMPLETE_APPLICATION, COMPLETE_APPLICATION, COMPLETE_APPLICATION, COMPLETE_APPLICATION, COMPLETE_APPLICATION, COMPLETE_APPLICATION, COMPLETE_APPLICATION, ACCOUNT_BOOKED_ONLINE, ACCOUNT_BOOKED_ONLINE, ACCOUNT_BOOKED_ONLINE, ACCOUNT_BOOKED_ONLINE, ACCOUNT_BOOKED_ONLINE, ACCOUNT_BOOKED_ONLINE, ACCOUNT_BOOKED_ONLINE, ACCOUNT_BOOKED_ONLINE, ACCOUNT_BOOKED_ONLINE, ACCOUNT_BOOKED_ONLINE, ACCOUNT_BOOKED_ONLINE, ACCOUNT_BOOKED_ONLINE, COMPLETE_APPLICATION, COMPLETE_APPLICATION, COMPLETE_APPLICATION, COMPLETE_APPLICATION, COMPLETE_APPLICATION, COMPLETE_APPLICATION, COMPLETE_APPLICATION, COMPLETE_APPLICATION, COMPLETE_APPLICATION, COMPLETE_APPLICATION, COMPLETE_APPLICATION, COMPLETE_APPLICATION]\",\"2245141\"\n\"2016-03-13 03:41:47.000000-07:00\",\"990829121nztvwns574946555\",\"Isabella\",\"Pope\",\"412668.39\",\"[COMPARE, COMPARE, COMPARE, COMPARE, COMPARE, COMPARE, BROWSE, BROWSE, BROWSE, BROWSE, BROWSE, BROWSE, BROWSE, BROWSE, BROWSE, BROWSE, BROWSE, BROWSE, BROWSE, BROWSE, BROWSE, BROWSE, BROWSE, BROWSE, BROWSE, BROWSE, BROWSE, BROWSE, BROWSE, BROWSE, STARTS_APPLICATION, STARTS_APPLICATION, STARTS_APPLICATION, STARTS_APPLICATION, STARTS_APPLICATION, STARTS_APPLICATION, BROWSE, BROWSE, BROWSE, BROWSE, BROWSE, BROWSE, BROWSE, BROWSE, BROWSE, BROWSE, BROWSE, BROWSE, BROWSE, BROWSE, BROWSE, BROWSE, BROWSE, BROWSE, STARTS_APPLICATION, STARTS_APPLICATION, STARTS_APPLICATION, STARTS_APPLICATION, STARTS_APPLICATION, STARTS_APPLICATION]\",\"4553859\"\n\"2016-02-23 13:53:20.000000-07:00\",\"723346324bqtywyv557899717\",\"Jacob\",\"Wilkins\",\"2.29933046e+06\",\"[STARTS_APPLICATION, STARTS_APPLICATION, STARTS_APPLICATION, STARTS_APPLICATION, STARTS_APPLICATION, STARTS_APPLICATION, STARTS_APPLICATION, STARTS_APPLICATION, STARTS_APPLICATION, STARTS_APPLICATION, STARTS_APPLICATION, STARTS_APPLICATION, BROWSE, BROWSE, BROWSE, BROWSE, BROWSE, BROWSE, BROWSE, BROWSE, BROWSE, BROWSE, BROWSE, BROWSE]\",\"3239057\"\n\"2016-02-21 18:24:51.000000-07:00\",\"228714836dfdzuow919946555\",\"Phoebe\",\"Jenkins\",\"127564.33\",\"[BROWSE, BROWSE, BROWSE, BROWSE, BROWSE, BROWSE, BROWSE, BROWSE, BROWSE, BROWSE, BROWSE, BROWSE, STARTS_APPLICATION, STARTS_APPLICATION, STARTS_APPLICATION, STARTS_APPLICATION, STARTS_APPLICATION, STARTS_APPLICATION, STARTS_APPLICATION, STARTS_APPLICATION, STARTS_APPLICATION, STARTS_APPLICATION, STARTS_APPLICATION, STARTS_APPLICATION]\",\"3363365\"\n\"2016-02-19 16:44:37.000000-07:00\",\"501031717hyvpzwr150436516\",\"Edward\",\"Weston\",\"5.09694674e+06\",\"[BROWSE, BROWSE, BROWSE, BROWSE, BROWSE, BROWSE, BROWSE, BROWSE, BROWSE, BROWSE, BROWSE, BROWSE, BROWSE, BROWSE, BROWSE, BROWSE, BROWSE, BROWSE, STARTS_APPLICATION, STARTS_APPLICATION, STARTS_APPLICATION, STARTS_APPLICATION, STARTS_APPLICATION, STARTS_APPLICATION]\",\"2806884\"\n\"2016-02-18 13:33:36.000000-07:00\",\"673548669nvuurrm432443654\",\"Danielle\",\"Ahmed\",\"2.08105156e+06\",\"[OLB, OLB, OLB, OLB, OLB, OLB, OLB, OLB, OLB, OLB, OLB, OLB, STARTS_APPLICATION, STARTS_APPLICATION, STARTS_APPLICATION, STARTS_APPLICATION, STARTS_APPLICATION, STARTS_APPLICATION, STARTS_APPLICATION, STARTS_APPLICATION, STARTS_APPLICATION, STARTS_APPLICATION, STARTS_APPLICATION, STARTS_APPLICATION, BROWSE, BROWSE, BROWSE, BROWSE, BROWSE, BROWSE, BROWSE, BROWSE, BROWSE, BROWSE, BROWSE, BROWSE, BROWSE, BROWSE, BROWSE, BROWSE, BROWSE, BROWSE, BROWSE, BROWSE, BROWSE, BROWSE, BROWSE, BROWSE, OLB, OLB, OLB, OLB, OLB, OLB, OLB, OLB, OLB, OLB, OLB, OLB, OLB, OLB, OLB, OLB, OLB, OLB, OLB, OLB, OLB, OLB, OLB, OLB, BROWSE, BROWSE, BROWSE, BROWSE, BROWSE, BROWSE, BROWSE, BROWSE, BROWSE, BROWSE, BROWSE, BROWSE, OLB, OLB, OLB, OLB, OLB, OLB, OLB, OLB, OLB, OLB, OLB, OLB, BROWSE, BROWSE, BROWSE, BROWSE, BROWSE, BROWSE, BROWSE, BROWSE, BROWSE, BROWSE, BROWSE, BROWSE, BROWSE, BROWSE, BROWSE, BROWSE, BROWSE, BROWSE, BROWSE, BROWSE, BROWSE, BROWSE, BROWSE, BROWSE, OLB, OLB, OLB, OLB, OLB, OLB, OLB, OLB, OLB, OLB, OLB, OLB, BROWSE, BROWSE, BROWSE, BROWSE, BROWSE, BROWSE, BROWSE, BROWSE, BROWSE, BROWSE, BROWSE, BROWSE, BROWSE, BROWSE, BROWSE, BROWSE, BROWSE, BROWSE, BROWSE, BROWSE, BROWSE, BROWSE, BROWSE, BROWSE, OLB, OLB, OLB, OLB, OLB, OLB, OLB, OLB, OLB, OLB, OLB, OLB, STARTS_APPLICATION, STARTS_APPLICATION, STARTS_APPLICATION, STARTS_APPLICATION, STARTS_APPLICATION, STARTS_APPLICATION, STARTS_APPLICATION, STARTS_APPLICATION, STARTS_APPLICATION, STARTS_APPLICATION, STARTS_APPLICATION, STARTS_APPLICATION, BROWSE, BROWSE, BROWSE, BROWSE, BROWSE, BROWSE, BROWSE, BROWSE, BROWSE, BROWSE, BROWSE, BROWSE, BROWSE, BROWSE, BROWSE, BROWSE, BROWSE, BROWSE, BROWSE, BROWSE, BROWSE, BROWSE, BROWSE, BROWSE, BROWSE, BROWSE, BROWSE, BROWSE, BROWSE, BROWSE, BROWSE, BROWSE, BROWSE, BROWSE, BROWSE, BROWSE, BROWSE, BROWSE, BROWSE, BROWSE, BROWSE, BROWSE, BROWSE, BROWSE, BROWSE, BROWSE, BROWSE, BROWSE, BROWSE, BROWSE, BROWSE, BROWSE, BROWSE, BROWSE, BROWSE, BROWSE, BROWSE, BROWSE, BROWSE, BROWSE, BROWSE, BROWSE, BROWSE, BROWSE, BROWSE, BROWSE, BROWSE, BROWSE, BROWSE, BROWSE, BROWSE, BROWSE, BROWSE, BROWSE, BROWSE, BROWSE, BROWSE, BROWSE, BROWSE, BROWSE, BROWSE, BROWSE, BROWSE, BROWSE, STARTS_APPLICATION, STARTS_APPLICATION, STARTS_APPLICATION, STARTS_APPLICATION, STARTS_APPLICATION, STARTS_APPLICATION, STARTS_APPLICATION, STARTS_APPLICATION, STARTS_APPLICATION, STARTS_APPLICATION, STARTS_APPLICATION, STARTS_APPLICATION, MORTGAGE_CALC, MORTGAGE_CALC, MORTGAGE_CALC, MORTGAGE_CALC, MORTGAGE_CALC, MORTGAGE_CALC, MORTGAGE_CALC, MORTGAGE_CALC, MORTGAGE_CALC, MORTGAGE_CALC, MORTGAGE_CALC, MORTGAGE_CALC, BROWSE, BROWSE, BROWSE, BROWSE, BROWSE, BROWSE, BROWSE, BROWSE, BROWSE, BROWSE, BROWSE, BROWSE, OLB, OLB, OLB, OLB, OLB, OLB, OLB, OLB, OLB, OLB, OLB, OLB, OLB, OLB, OLB, OLB, OLB, OLB, OLB, OLB, OLB, OLB, OLB, OLB, OLB, OLB, OLB, OLB, OLB, OLB, OLB, OLB, OLB, OLB, OLB, OLB, STARTS_APPLICATION, STARTS_APPLICATION, STARTS_APPLICATION, STARTS_APPLICATION, STARTS_APPLICATION, STARTS_APPLICATION, STARTS_APPLICATION, STARTS_APPLICATION, STARTS_APPLICATION, STARTS_APPLICATION, STARTS_APPLICATION, STARTS_APPLICATION, OLB, OLB, OLB, OLB, OLB, OLB, OLB, OLB, OLB, OLB, OLB, OLB, STARTS_APPLICATION, STARTS_APPLICATION, STARTS_APPLICATION, STARTS_APPLICATION, STARTS_APPLICATION, STARTS_APPLICATION, STARTS_APPLICATION, STARTS_APPLICATION, STARTS_APPLICATION, STARTS_APPLICATION, STARTS_APPLICATION, STARTS_APPLICATION, COMPARE, COMPARE, COMPARE, COMPARE, COMPARE, COMPARE, COMPARE, COMPARE, COMPARE, COMPARE, COMPARE, COMPARE, COMPLETE_APPLICATION, COMPLETE_APPLICATION, COMPLETE_APPLICATION, COMPLETE_APPLICATION, COMPLETE_APPLICATION, COMPLETE_APPLICATION, COMPLETE_APPLICATION, COMPLETE_APPLICATION, COMPLETE_APPLICATION, COMPLETE_APPLICATION, COMPLETE_APPLICATION, COMPLETE_APPLICATION, ACCOUNT_BOOKED_ONLINE, ACCOUNT_BOOKED_ONLINE, ACCOUNT_BOOKED_ONLINE, ACCOUNT_BOOKED_ONLINE, ACCOUNT_BOOKED_ONLINE, ACCOUNT_BOOKED_ONLINE, ACCOUNT_BOOKED_ONLINE, ACCOUNT_BOOKED_ONLINE, ACCOUNT_BOOKED_ONLINE, ACCOUNT_BOOKED_ONLINE, ACCOUNT_BOOKED_ONLINE, ACCOUNT_BOOKED_ONLINE, COMPLETE_APPLICATION, COMPLETE_APPLICATION, COMPLETE_APPLICATION, COMPLETE_APPLICATION, COMPLETE_APPLICATION, COMPLETE_APPLICATION, COMPLETE_APPLICATION, COMPLETE_APPLICATION, COMPLETE_APPLICATION, COMPLETE_APPLICATION, COMPLETE_APPLICATION, COMPLETE_APPLICATION, FEE_REVERSAL, FEE_REVERSAL, FEE_REVERSAL, FEE_REVERSAL, FEE_REVERSAL, FEE_REVERSAL, FEE_REVERSAL, FEE_REVERSAL, FEE_REVERSAL, FEE_REVERSAL, FEE_REVERSAL, FEE_REVERSAL, LINK_EXTERNAL_ACCOUNT, LINK_EXTERNAL_ACCOUNT, LINK_EXTERNAL_ACCOUNT, LINK_EXTERNAL_ACCOUNT, LINK_EXTERNAL_ACCOUNT, LINK_EXTERNAL_ACCOUNT, LINK_EXTERNAL_ACCOUNT, LINK_EXTERNAL_ACCOUNT, LINK_EXTERNAL_ACCOUNT, LINK_EXTERNAL_ACCOUNT, LINK_EXTERNAL_ACCOUNT, LINK_EXTERNAL_ACCOUNT, BALANCE_TRANSFER, BALANCE_TRANSFER, BALANCE_TRANSFER, BALANCE_TRANSFER, BALANCE_TRANSFER, BALANCE_TRANSFER, BALANCE_TRANSFER, BALANCE_TRANSFER, BALANCE_TRANSFER, BALANCE_TRANSFER, BALANCE_TRANSFER, BALANCE_TRANSFER, ACCOUNT_CLOSED, ACCOUNT_CLOSED, ACCOUNT_CLOSED, ACCOUNT_CLOSED, ACCOUNT_CLOSED, ACCOUNT_CLOSED, ACCOUNT_CLOSED, ACCOUNT_CLOSED, ACCOUNT_CLOSED, ACCOUNT_CLOSED, ACCOUNT_CLOSED, ACCOUNT_CLOSED]\",\"2160216\"\n\"2016-02-17 17:58:42.000000-07:00\",\"673548669nvuurrm432443654\",\"Danielle\",\"Ahmed\",\"2.08105156e+06\",\"[BROWSE, BROWSE, BROWSE, BROWSE, BROWSE, BROWSE, BROWSE, BROWSE, BROWSE, BROWSE, BROWSE, BROWSE, OLB, OLB, OLB, OLB, OLB, OLB, OLB, OLB, OLB, OLB, OLB, OLB, OLB, OLB, OLB, OLB, OLB, OLB, OLB, OLB, OLB, OLB, OLB, OLB]\",\"1917281\"\n\"2016-02-16 14:24:13.000000-07:00\",\"382199496nujsfqt379492272\",\"Caitlin\",\"Gordon\",\"1.18672539e+06\",\"[STARTS_APPLICATION, STARTS_APPLICATION, STARTS_APPLICATION, STARTS_APPLICATION, STARTS_APPLICATION, STARTS_APPLICATION, STARTS_APPLICATION, STARTS_APPLICATION, STARTS_APPLICATION, STARTS_APPLICATION, STARTS_APPLICATION, STARTS_APPLICATION, COMPLETE_APPLICATION, COMPLETE_APPLICATION, COMPLETE_APPLICATION, COMPLETE_APPLICATION, COMPLETE_APPLICATION, COMPLETE_APPLICATION, COMPLETE_APPLICATION, COMPLETE_APPLICATION, COMPLETE_APPLICATION, COMPLETE_APPLICATION, COMPLETE_APPLICATION, COMPLETE_APPLICATION]\",\"7210517\"\n\"2016-02-22 15:02:03.000000-07:00\",\"228714836dfdzuow919946555\",\"Phoebe\",\"Jenkins\",\"127564.33\",\"[COMPARE, COMPARE, COMPARE, COMPARE, COMPARE, COMPARE, COMPARE, COMPARE, COMPARE, COMPARE, COMPARE, COMPARE, COMPARE, COMPARE, COMPARE, COMPARE, COMPARE, COMPARE, COMPARE, COMPARE, COMPARE, COMPARE, COMPARE, COMPARE, COMPARE, COMPARE, COMPARE, COMPARE, COMPARE, COMPARE, COMPARE, COMPARE, COMPARE, COMPARE, COMPARE, COMPARE]\",\"3639591\"\n\"2016-02-16 09:08:34.000000-07:00\",\"332124954upbhkhh348550935\",\"Megan\",\"Briggs\",\"432958.83\",\"[BROWSE, BROWSE, BROWSE, BROWSE, BROWSE, BROWSE, BROWSE, BROWSE, BROWSE, BROWSE, BROWSE, BROWSE, BROWSE, BROWSE, BROWSE, BROWSE, BROWSE, BROWSE, BROWSE, BROWSE, BROWSE, BROWSE, BROWSE, BROWSE, BROWSE, BROWSE, BROWSE, BROWSE, BROWSE, BROWSE, BROWSE, BROWSE, BROWSE, BROWSE, BROWSE, BROWSE, STARTS_APPLICATION, STARTS_APPLICATION, STARTS_APPLICATION, STARTS_APPLICATION, STARTS_APPLICATION, STARTS_APPLICATION, STARTS_APPLICATION, STARTS_APPLICATION, STARTS_APPLICATION, STARTS_APPLICATION, STARTS_APPLICATION, STARTS_APPLICATION, BROWSE, BROWSE, BROWSE, BROWSE, BROWSE, BROWSE, BROWSE, BROWSE, BROWSE, BROWSE, BROWSE, BROWSE, BROWSE, BROWSE, BROWSE, BROWSE, BROWSE, BROWSE, BROWSE, BROWSE, BROWSE, BROWSE, BROWSE, BROWSE]\",\"7457497\"\n\"2016-02-07 14:47:45.000000-07:00\",\"554873258gwonmzq747017981\",\"Grace\",\"Forster\",\"145035.4\",\"[STARTS_APPLICATION, STARTS_APPLICATION, STARTS_APPLICATION, STARTS_APPLICATION, STARTS_APPLICATION, STARTS_APPLICATION, STARTS_APPLICATION, STARTS_APPLICATION, STARTS_APPLICATION, STARTS_APPLICATION, STARTS_APPLICATION, STARTS_APPLICATION]\",\"3267888\"",
      "text/html": [
       "<div class = \"td-resultset-table-div\" style = \"max-height: 100%; overflow-y: auto\">\n",
       "      <table class=\"tdhistory5273\"><style>\n",
       "      table.tdhistory5273 { display: block !important; min-height: 378px !important; overflow: auto !important; height: 378px !important; width: 100% !important; border: 1px solid rgb(207, 207, 207) !important; border-collapse: collapse !important; ; color: var(--jp-ui-font-color1) !important; }\n",
       "      th.tdhistory5273 { border: 1px solid rgb(198,198,198) !important; border-collapse: collapse !important; ; padding: 2px 5px !important; ; font-size: 13px !important; ; text-align: center !important; white-space: normal !important; color: var(--jp-ui-font-color1) !important; }\n",
       "      th.tdhistory5273:last-child { text-align: left !important; }\n",
       "      tbody.tdhistory5273 tr:nth-child(even) { background: rgba(243, 243, 243, 0.75) !important; }\n",
       "      tbody.tdhistory5273 tr:nth-child(odd) { background: var(--jp-ui-inverse-font-color1) !important; }\n",
       "      td.tdhistory5273 { border: 1px solid rgb(207, 207, 207) !important; border-collapse: collapse !important; ; padding: 2px 5px !important; ; font-size: 13px !important; ; text-align: left !important;          white-space: nowrap !important; overflow:hidden !important; text-overflow:ellipsis !important;; }\n",
       "    </style><thead><tr style= \"background: rgba(243, 243, 243, 0.75)\"><th class=\"tdhistory5273\"></th><th class=\"tdhistory5273\">start_time</th><th class=\"tdhistory5273\">customer_identifier</th><th class=\"tdhistory5273\">firstname</th><th class=\"tdhistory5273\">lastname</th><th class=\"tdhistory5273\">fraud_amount</th><th class=\"tdhistory5273\">path</th><th class=\"tdhistory5273\">interaction_session_number</th></tr></thead><tbody class=\"tdhistory5273 resultset-body\"><tr><th class=\"tdhistory5273\" style= \"background: rgba(243, 243, 243, 0.75)\">1</th><td class=\"tdhistory5273\">2016-02-16 16:22:58.000000-07:00</td><td class=\"tdhistory5273\">382199496nujsfqt379492272</td><td class=\"tdhistory5273\">Caitlin</td><td class=\"tdhistory5273\">Gordon</td><td class=\"tdhistory5273\">1.18672539e+06</td><td class=\"tdhistory5273\">[BROWSE, BROWSE, BROWSE, BROWSE, BROWSE, BROWSE]</td><td class=\"tdhistory5273\">7280496</td></tr><tr><th class=\"tdhistory5273\" style= \"background: rgba(243, 243, 243, 0.75)\">2</th><td class=\"tdhistory5273\">2016-02-22 16:30:38.000000-07:00</td><td class=\"tdhistory5273\">228714836dfdzuow919946555</td><td class=\"tdhistory5273\">Phoebe</td><td class=\"tdhistory5273\">Jenkins</td><td class=\"tdhistory5273\">127564.33</td><td class=\"tdhistory5273\">[COMPARE, COMPARE, COMPARE, COMPARE, COMPARE, COMPARE, COMPARE, COMPARE, COMPARE, COMPARE, COMPARE, COMPARE, COMPARE, COMPARE, COMPARE, COMPARE, COMPARE, COMPARE, COMPARE, COMPARE, COMPARE, COMPARE, COMPARE, COMPARE, COMPARE, COMPARE, COMPARE, COMPARE, COMPARE, COMPARE, COMPARE, COMPARE, COMPARE, COMPARE, COMPARE, COMPARE]</td><td class=\"tdhistory5273\">3688318</td></tr><tr><th class=\"tdhistory5273\" style= \"background: rgba(243, 243, 243, 0.75)\">3</th><td class=\"tdhistory5273\">2016-02-13 11:39:23.000000-07:00</td><td class=\"tdhistory5273\">550877512qiultoa660406456</td><td class=\"tdhistory5273\">Amelie</td><td class=\"tdhistory5273\">Wong</td><td class=\"tdhistory5273\">1e+07</td><td class=\"tdhistory5273\">[BROWSE, BROWSE, BROWSE, BROWSE, BROWSE, BROWSE, COMPARE, COMPARE, COMPARE, COMPARE, COMPARE, COMPARE, STARTS_APPLICATION, STARTS_APPLICATION, STARTS_APPLICATION, STARTS_APPLICATION, STARTS_APPLICATION, STARTS_APPLICATION]</td><td class=\"tdhistory5273\">5335956</td></tr><tr><th class=\"tdhistory5273\" style= \"background: rgba(243, 243, 243, 0.75)\">4</th><td class=\"tdhistory5273\">2016-03-06 16:32:33.000000-07:00</td><td class=\"tdhistory5273\">315616825hhozhjg829286508</td><td class=\"tdhistory5273\">Benjamin</td><td class=\"tdhistory5273\">Godfrey</td><td class=\"tdhistory5273\">829012.31</td><td class=\"tdhistory5273\">[BROWSE, BROWSE, BROWSE, BROWSE, BROWSE, BROWSE, BROWSE, BROWSE, BROWSE, BROWSE, BROWSE, BROWSE, STARTS_APPLICATION, STARTS_APPLICATION, STARTS_APPLICATION, STARTS_APPLICATION, STARTS_APPLICATION, STARTS_APPLICATION, STARTS_APPLICATION, STARTS_APPLICATION, STARTS_APPLICATION, STARTS_APPLICATION, STARTS_APPLICATION, STARTS_APPLICATION, COMPARE, COMPARE, COMPARE, COMPARE, COMPARE, COMPARE, COMPARE, COMPARE, COMPARE, COMPARE, COMPARE, COMPARE, STARTS_APPLICATION, STARTS_APPLICATION, STARTS_APPLICATION, STARTS_APPLICATION, STARTS_APPLICATION, STARTS_APPLICATION, STARTS_APPLICATION, STARTS_APPLICATION, STARTS_APPLICATION, STARTS_APPLICATION, STARTS_APPLICATION, STARTS_APPLICATION, COMPLETE_APPLICATION, COMPLETE_APPLICATION, COMPLETE_APPLICATION, COMPLETE_APPLICATION, COMPLETE_APPLICATION, COMPLETE_APPLICATION, COMPLETE_APPLICATION, COMPLETE_APPLICATION, COMPLETE_APPLICATION, COMPLETE_APPLICATION, COMPLETE_APPLICATION, COMPLETE_APPLICATION, ACCOUNT_BOOKED_ONLINE, ACCOUNT_BOOKED_ONLINE, ACCOUNT_BOOKED_ONLINE, ACCOUNT_BOOKED_ONLINE, ACCOUNT_BOOKED_ONLINE, ACCOUNT_BOOKED_ONLINE, ACCOUNT_BOOKED_ONLINE, ACCOUNT_BOOKED_ONLINE, ACCOUNT_BOOKED_ONLINE, ACCOUNT_BOOKED_ONLINE, ACCOUNT_BOOKED_ONLINE, ACCOUNT_BOOKED_ONLINE, COMPLETE_APPLICATION, COMPLETE_APPLICATION, COMPLETE_APPLICATION, COMPLETE_APPLICATION, COMPLETE_APPLICATION, COMPLETE_APPLICATION, COMPLETE_APPLICATION, COMPLETE_APPLICATION, COMPLETE_APPLICATION, COMPLETE_APPLICATION, COMPLETE_APPLICATION, COMPLETE_APPLICATION]</td><td class=\"tdhistory5273\">2245141</td></tr><tr><th class=\"tdhistory5273\" style= \"background: rgba(243, 243, 243, 0.75)\">5</th><td class=\"tdhistory5273\">2016-03-13 03:41:47.000000-07:00</td><td class=\"tdhistory5273\">990829121nztvwns574946555</td><td class=\"tdhistory5273\">Isabella</td><td class=\"tdhistory5273\">Pope</td><td class=\"tdhistory5273\">412668.39</td><td class=\"tdhistory5273\">[COMPARE, COMPARE, COMPARE, COMPARE, COMPARE, COMPARE, BROWSE, BROWSE, BROWSE, BROWSE, BROWSE, BROWSE, BROWSE, BROWSE, BROWSE, BROWSE, BROWSE, BROWSE, BROWSE, BROWSE, BROWSE, BROWSE, BROWSE, BROWSE, BROWSE, BROWSE, BROWSE, BROWSE, BROWSE, BROWSE, STARTS_APPLICATION, STARTS_APPLICATION, STARTS_APPLICATION, STARTS_APPLICATION, STARTS_APPLICATION, STARTS_APPLICATION, BROWSE, BROWSE, BROWSE, BROWSE, BROWSE, BROWSE, BROWSE, BROWSE, BROWSE, BROWSE, BROWSE, BROWSE, BROWSE, BROWSE, BROWSE, BROWSE, BROWSE, BROWSE, STARTS_APPLICATION, STARTS_APPLICATION, STARTS_APPLICATION, STARTS_APPLICATION, STARTS_APPLICATION, STARTS_APPLICATION]</td><td class=\"tdhistory5273\">4553859</td></tr><tr><th class=\"tdhistory5273\" style= \"background: rgba(243, 243, 243, 0.75)\">6</th><td class=\"tdhistory5273\">2016-02-23 13:53:20.000000-07:00</td><td class=\"tdhistory5273\">723346324bqtywyv557899717</td><td class=\"tdhistory5273\">Jacob</td><td class=\"tdhistory5273\">Wilkins</td><td class=\"tdhistory5273\">2.29933046e+06</td><td class=\"tdhistory5273\">[STARTS_APPLICATION, STARTS_APPLICATION, STARTS_APPLICATION, STARTS_APPLICATION, STARTS_APPLICATION, STARTS_APPLICATION, STARTS_APPLICATION, STARTS_APPLICATION, STARTS_APPLICATION, STARTS_APPLICATION, STARTS_APPLICATION, STARTS_APPLICATION, BROWSE, BROWSE, BROWSE, BROWSE, BROWSE, BROWSE, BROWSE, BROWSE, BROWSE, BROWSE, BROWSE, BROWSE]</td><td class=\"tdhistory5273\">3239057</td></tr><tr><th class=\"tdhistory5273\" style= \"background: rgba(243, 243, 243, 0.75)\">7</th><td class=\"tdhistory5273\">2016-02-21 18:24:51.000000-07:00</td><td class=\"tdhistory5273\">228714836dfdzuow919946555</td><td class=\"tdhistory5273\">Phoebe</td><td class=\"tdhistory5273\">Jenkins</td><td class=\"tdhistory5273\">127564.33</td><td class=\"tdhistory5273\">[BROWSE, BROWSE, BROWSE, BROWSE, BROWSE, BROWSE, BROWSE, BROWSE, BROWSE, BROWSE, BROWSE, BROWSE, STARTS_APPLICATION, STARTS_APPLICATION, STARTS_APPLICATION, STARTS_APPLICATION, STARTS_APPLICATION, STARTS_APPLICATION, STARTS_APPLICATION, STARTS_APPLICATION, STARTS_APPLICATION, STARTS_APPLICATION, STARTS_APPLICATION, STARTS_APPLICATION]</td><td class=\"tdhistory5273\">3363365</td></tr><tr><th class=\"tdhistory5273\" style= \"background: rgba(243, 243, 243, 0.75)\">8</th><td class=\"tdhistory5273\">2016-02-19 16:44:37.000000-07:00</td><td class=\"tdhistory5273\">501031717hyvpzwr150436516</td><td class=\"tdhistory5273\">Edward</td><td class=\"tdhistory5273\">Weston</td><td class=\"tdhistory5273\">5.09694674e+06</td><td class=\"tdhistory5273\">[BROWSE, BROWSE, BROWSE, BROWSE, BROWSE, BROWSE, BROWSE, BROWSE, BROWSE, BROWSE, BROWSE, BROWSE, BROWSE, BROWSE, BROWSE, BROWSE, BROWSE, BROWSE, STARTS_APPLICATION, STARTS_APPLICATION, STARTS_APPLICATION, STARTS_APPLICATION, STARTS_APPLICATION, STARTS_APPLICATION]</td><td class=\"tdhistory5273\">2806884</td></tr><tr><th class=\"tdhistory5273\" style= \"background: rgba(243, 243, 243, 0.75)\">9</th><td class=\"tdhistory5273\">2016-02-18 13:33:36.000000-07:00</td><td class=\"tdhistory5273\">673548669nvuurrm432443654</td><td class=\"tdhistory5273\">Danielle</td><td class=\"tdhistory5273\">Ahmed</td><td class=\"tdhistory5273\">2.08105156e+06</td><td class=\"tdhistory5273\">[OLB, OLB, OLB, OLB, OLB, OLB, OLB, OLB, OLB, OLB, OLB, OLB, STARTS_APPLICATION, STARTS_APPLICATION, STARTS_APPLICATION, STARTS_APPLICATION, STARTS_APPLICATION, STARTS_APPLICATION, STARTS_APPLICATION, STARTS_APPLICATION, STARTS_APPLICATION, STARTS_APPLICATION, STARTS_APPLICATION, STARTS_APPLICATION, BROWSE, BROWSE, BROWSE, BROWSE, BROWSE, BROWSE, BROWSE, BROWSE, BROWSE, BROWSE, BROWSE, BROWSE, BROWSE, BROWSE, BROWSE, BROWSE, BROWSE, BROWSE, BROWSE, BROWSE, BROWSE, BROWSE, BROWSE, BROWSE, OLB, OLB, OLB, OLB, OLB, OLB, OLB, OLB, OLB, OLB, OLB, OLB, OLB, OLB, OLB, OLB, OLB, OLB, OLB, OLB, OLB, OLB, OLB, OLB, BROWSE, BROWSE, BROWSE, BROWSE, BROWSE, BROWSE, BROWSE, BROWSE, BROWSE, BROWSE, BROWSE, BROWSE, OLB, OLB, OLB, OLB, OLB, OLB, OLB, OLB, OLB, OLB, OLB, OLB, BROWSE, BROWSE, BROWSE, BROWSE, BROWSE, BROWSE, BROWSE, BROWSE, BROWSE, BROWSE, BROWSE, BROWSE, BROWSE, BROWSE, BROWSE, BROWSE, BROWSE, BROWSE, BROWSE, BROWSE, BROWSE, BROWSE, BROWSE, BROWSE, OLB, OLB, OLB, OLB, OLB, OLB, OLB, OLB, OLB, OLB, OLB, OLB, BROWSE, BROWSE, BROWSE, BROWSE, BROWSE, BROWSE, BROWSE, BROWSE, BROWSE, BROWSE, BROWSE, BROWSE, BROWSE, BROWSE, BROWSE, BROWSE, BROWSE, BROWSE, BROWSE, BROWSE, BROWSE, BROWSE, BROWSE, BROWSE, OLB, OLB, OLB, OLB, OLB, OLB, OLB, OLB, OLB, OLB, OLB, OLB, STARTS_APPLICATION, STARTS_APPLICATION, STARTS_APPLICATION, STARTS_APPLICATION, STARTS_APPLICATION, STARTS_APPLICATION, STARTS_APPLICATION, STARTS_APPLICATION, STARTS_APPLICATION, STARTS_APPLICATION, STARTS_APPLICATION, STARTS_APPLICATION, BROWSE, BROWSE, BROWSE, BROWSE, BROWSE, BROWSE, BROWSE, BROWSE, BROWSE, BROWSE, BROWSE, BROWSE, BROWSE, BROWSE, BROWSE, BROWSE, BROWSE, BROWSE, BROWSE, BROWSE, BROWSE, BROWSE, BROWSE, BROWSE, BROWSE, BROWSE, BROWSE, BROWSE, BROWSE, BROWSE, BROWSE, BROWSE, BROWSE, BROWSE, BROWSE, BROWSE, BROWSE, BROWSE, BROWSE, BROWSE, BROWSE, BROWSE, BROWSE, BROWSE, BROWSE, BROWSE, BROWSE, BROWSE, BROWSE, BROWSE, BROWSE, BROWSE, BROWSE, BROWSE, BROWSE, BROWSE, BROWSE, BROWSE, BROWSE, BROWSE, BROWSE, BROWSE, BROWSE, BROWSE, BROWSE, BROWSE, BROWSE, BROWSE, BROWSE, BROWSE, BROWSE, BROWSE, BROWSE, BROWSE, BROWSE, BROWSE, BROWSE, BROWSE, BROWSE, BROWSE, BROWSE, BROWSE, BROWSE, BROWSE, STARTS_APPLICATION, STARTS_APPLICATION, STARTS_APPLICATION, STARTS_APPLICATION, STARTS_APPLICATION, STARTS_APPLICATION, STARTS_APPLICATION, STARTS_APPLICATION, STARTS_APPLICATION, STARTS_APPLICATION, STARTS_APPLICATION, STARTS_APPLICATION, MORTGAGE_CALC, MORTGAGE_CALC, MORTGAGE_CALC, MORTGAGE_CALC, MORTGAGE_CALC, MORTGAGE_CALC, MORTGAGE_CALC, MORTGAGE_CALC, MORTGAGE_CALC, MORTGAGE_CALC, MORTGAGE_CALC, MORTGAGE_CALC, BROWSE, BROWSE, BROWSE, BROWSE, BROWSE, BROWSE, BROWSE, BROWSE, BROWSE, BROWSE, BROWSE, BROWSE, OLB, OLB, OLB, OLB, OLB, OLB, OLB, OLB, OLB, OLB, OLB, OLB, OLB, OLB, OLB, OLB, OLB, OLB, OLB, OLB, OLB, OLB, OLB, OLB, OLB, OLB, OLB, OLB, OLB, OLB, OLB, OLB, OLB, OLB, OLB, OLB, STARTS_APPLICATION, STARTS_APPLICATION, STARTS_APPLICATION, STARTS_APPLICATION, STARTS_APPLICATION, STARTS_APPLICATION, STARTS_APPLICATION, STARTS_APPLICATION, STARTS_APPLICATION, STARTS_APPLICATION, STARTS_APPLICATION, STARTS_APPLICATION, OLB, OLB, OLB, OLB, OLB, OLB, OLB, OLB, OLB, OLB, OLB, OLB, STARTS_APPLICATION, STARTS_APPLICATION, STARTS_APPLICATION, STARTS_APPLICATION, STARTS_APPLICATION, STARTS_APPLICATION, STARTS_APPLICATION, STARTS_APPLICATION, STARTS_APPLICATION, STARTS_APPLICATION, STARTS_APPLICATION, STARTS_APPLICATION, COMPARE, COMPARE, COMPARE, COMPARE, COMPARE, COMPARE, COMPARE, COMPARE, COMPARE, COMPARE, COMPARE, COMPARE, COMPLETE_APPLICATION, COMPLETE_APPLICATION, COMPLETE_APPLICATION, COMPLETE_APPLICATION, COMPLETE_APPLICATION, COMPLETE_APPLICATION, COMPLETE_APPLICATION, COMPLETE_APPLICATION, COMPLETE_APPLICATION, COMPLETE_APPLICATION, COMPLETE_APPLICATION, COMPLETE_APPLICATION, ACCOUNT_BOOKED_ONLINE, ACCOUNT_BOOKED_ONLINE, ACCOUNT_BOOKED_ONLINE, ACCOUNT_BOOKED_ONLINE, ACCOUNT_BOOKED_ONLINE, ACCOUNT_BOOKED_ONLINE, ACCOUNT_BOOKED_ONLINE, ACCOUNT_BOOKED_ONLINE, ACCOUNT_BOOKED_ONLINE, ACCOUNT_BOOKED_ONLINE, ACCOUNT_BOOKED_ONLINE, ACCOUNT_BOOKED_ONLINE, COMPLETE_APPLICATION, COMPLETE_APPLICATION, COMPLETE_APPLICATION, COMPLETE_APPLICATION, COMPLETE_APPLICATION, COMPLETE_APPLICATION, COMPLETE_APPLICATION, COMPLETE_APPLICATION, COMPLETE_APPLICATION, COMPLETE_APPLICATION, COMPLETE_APPLICATION, COMPLETE_APPLICATION, FEE_REVERSAL, FEE_REVERSAL, FEE_REVERSAL, FEE_REVERSAL, FEE_REVERSAL, FEE_REVERSAL, FEE_REVERSAL, FEE_REVERSAL, FEE_REVERSAL, FEE_REVERSAL, FEE_REVERSAL, FEE_REVERSAL, LINK_EXTERNAL_ACCOUNT, LINK_EXTERNAL_ACCOUNT, LINK_EXTERNAL_ACCOUNT, LINK_EXTERNAL_ACCOUNT, LINK_EXTERNAL_ACCOUNT, LINK_EXTERNAL_ACCOUNT, LINK_EXTERNAL_ACCOUNT, LINK_EXTERNAL_ACCOUNT, LINK_EXTERNAL_ACCOUNT, LINK_EXTERNAL_ACCOUNT, LINK_EXTERNAL_ACCOUNT, LINK_EXTERNAL_ACCOUNT, BALANCE_TRANSFER, BALANCE_TRANSFER, BALANCE_TRANSFER, BALANCE_TRANSFER, BALANCE_TRANSFER, BALANCE_TRANSFER, BALANCE_TRANSFER, BALANCE_TRANSFER, BALANCE_TRANSFER, BALANCE_TRANSFER, BALANCE_TRANSFER, BALANCE_TRANSFER, ACCOUNT_CLOSED, ACCOUNT_CLOSED, ACCOUNT_CLOSED, ACCOUNT_CLOSED, ACCOUNT_CLOSED, ACCOUNT_CLOSED, ACCOUNT_CLOSED, ACCOUNT_CLOSED, ACCOUNT_CLOSED, ACCOUNT_CLOSED, ACCOUNT_CLOSED, ACCOUNT_CLOSED]</td><td class=\"tdhistory5273\">2160216</td></tr><tr><th class=\"tdhistory5273\" style= \"background: rgba(243, 243, 243, 0.75)\">10</th><td class=\"tdhistory5273\">2016-02-17 17:58:42.000000-07:00</td><td class=\"tdhistory5273\">673548669nvuurrm432443654</td><td class=\"tdhistory5273\">Danielle</td><td class=\"tdhistory5273\">Ahmed</td><td class=\"tdhistory5273\">2.08105156e+06</td><td class=\"tdhistory5273\">[BROWSE, BROWSE, BROWSE, BROWSE, BROWSE, BROWSE, BROWSE, BROWSE, BROWSE, BROWSE, BROWSE, BROWSE, OLB, OLB, OLB, OLB, OLB, OLB, OLB, OLB, OLB, OLB, OLB, OLB, OLB, OLB, OLB, OLB, OLB, OLB, OLB, OLB, OLB, OLB, OLB, OLB]</td><td class=\"tdhistory5273\">1917281</td></tr><tr><th class=\"tdhistory5273\" style= \"background: rgba(243, 243, 243, 0.75)\">11</th><td class=\"tdhistory5273\">2016-02-16 14:24:13.000000-07:00</td><td class=\"tdhistory5273\">382199496nujsfqt379492272</td><td class=\"tdhistory5273\">Caitlin</td><td class=\"tdhistory5273\">Gordon</td><td class=\"tdhistory5273\">1.18672539e+06</td><td class=\"tdhistory5273\">[STARTS_APPLICATION, STARTS_APPLICATION, STARTS_APPLICATION, STARTS_APPLICATION, STARTS_APPLICATION, STARTS_APPLICATION, STARTS_APPLICATION, STARTS_APPLICATION, STARTS_APPLICATION, STARTS_APPLICATION, STARTS_APPLICATION, STARTS_APPLICATION, COMPLETE_APPLICATION, COMPLETE_APPLICATION, COMPLETE_APPLICATION, COMPLETE_APPLICATION, COMPLETE_APPLICATION, COMPLETE_APPLICATION, COMPLETE_APPLICATION, COMPLETE_APPLICATION, COMPLETE_APPLICATION, COMPLETE_APPLICATION, COMPLETE_APPLICATION, COMPLETE_APPLICATION]</td><td class=\"tdhistory5273\">7210517</td></tr><tr><th class=\"tdhistory5273\" style= \"background: rgba(243, 243, 243, 0.75)\">12</th><td class=\"tdhistory5273\">2016-02-22 15:02:03.000000-07:00</td><td class=\"tdhistory5273\">228714836dfdzuow919946555</td><td class=\"tdhistory5273\">Phoebe</td><td class=\"tdhistory5273\">Jenkins</td><td class=\"tdhistory5273\">127564.33</td><td class=\"tdhistory5273\">[COMPARE, COMPARE, COMPARE, COMPARE, COMPARE, COMPARE, COMPARE, COMPARE, COMPARE, COMPARE, COMPARE, COMPARE, COMPARE, COMPARE, COMPARE, COMPARE, COMPARE, COMPARE, COMPARE, COMPARE, COMPARE, COMPARE, COMPARE, COMPARE, COMPARE, COMPARE, COMPARE, COMPARE, COMPARE, COMPARE, COMPARE, COMPARE, COMPARE, COMPARE, COMPARE, COMPARE]</td><td class=\"tdhistory5273\">3639591</td></tr><tr><th class=\"tdhistory5273\" style= \"background: rgba(243, 243, 243, 0.75)\">13</th><td class=\"tdhistory5273\">2016-02-16 09:08:34.000000-07:00</td><td class=\"tdhistory5273\">332124954upbhkhh348550935</td><td class=\"tdhistory5273\">Megan</td><td class=\"tdhistory5273\">Briggs</td><td class=\"tdhistory5273\">432958.83</td><td class=\"tdhistory5273\">[BROWSE, BROWSE, BROWSE, BROWSE, BROWSE, BROWSE, BROWSE, BROWSE, BROWSE, BROWSE, BROWSE, BROWSE, BROWSE, BROWSE, BROWSE, BROWSE, BROWSE, BROWSE, BROWSE, BROWSE, BROWSE, BROWSE, BROWSE, BROWSE, BROWSE, BROWSE, BROWSE, BROWSE, BROWSE, BROWSE, BROWSE, BROWSE, BROWSE, BROWSE, BROWSE, BROWSE, STARTS_APPLICATION, STARTS_APPLICATION, STARTS_APPLICATION, STARTS_APPLICATION, STARTS_APPLICATION, STARTS_APPLICATION, STARTS_APPLICATION, STARTS_APPLICATION, STARTS_APPLICATION, STARTS_APPLICATION, STARTS_APPLICATION, STARTS_APPLICATION, BROWSE, BROWSE, BROWSE, BROWSE, BROWSE, BROWSE, BROWSE, BROWSE, BROWSE, BROWSE, BROWSE, BROWSE, BROWSE, BROWSE, BROWSE, BROWSE, BROWSE, BROWSE, BROWSE, BROWSE, BROWSE, BROWSE, BROWSE, BROWSE]</td><td class=\"tdhistory5273\">7457497</td></tr><tr><th class=\"tdhistory5273\" style= \"background: rgba(243, 243, 243, 0.75)\">14</th><td class=\"tdhistory5273\">2016-02-07 14:47:45.000000-07:00</td><td class=\"tdhistory5273\">554873258gwonmzq747017981</td><td class=\"tdhistory5273\">Grace</td><td class=\"tdhistory5273\">Forster</td><td class=\"tdhistory5273\">145035.4</td><td class=\"tdhistory5273\">[STARTS_APPLICATION, STARTS_APPLICATION, STARTS_APPLICATION, STARTS_APPLICATION, STARTS_APPLICATION, STARTS_APPLICATION, STARTS_APPLICATION, STARTS_APPLICATION, STARTS_APPLICATION, STARTS_APPLICATION, STARTS_APPLICATION, STARTS_APPLICATION]</td><td class=\"tdhistory5273\">3267888</td></tr></tbody></table></div>"
      ]
     },
     "execution_count": 17,
     "metadata": {
      "application/vnd.teradata.resultset": "{\"resultSetID\":\"/home/jovyan/JupyterLabRoot/Teradata/Resultsets/2023.09.06_14.59.03.250_UTC\",\"historyID\":7771,\"chunkID\":\"00001\",\"sessionid\":\"\",\"portnum\":\"\",\"dockermode\":\"docker\",\"totalRowCount\":14,\"chunkCount\":0,\"rowLimit\":0,\"columnMetadata\":[{\"columnName\":\"start_time\",\"columnTypeName\":\"TIMESTAMP WITH TIME ZONE\",\"length\":6,\"scale\":6},{\"columnNumber\":1,\"columnName\":\"customer_identifier\",\"columnTypeName\":\"VARCHAR\",\"length\":26,\"scale\":26},{\"columnNumber\":2,\"columnName\":\"firstname\",\"columnTypeName\":\"VARCHAR\",\"length\":50,\"scale\":50},{\"columnNumber\":3,\"columnName\":\"lastname\",\"columnTypeName\":\"VARCHAR\",\"length\":90,\"scale\":90},{\"columnNumber\":4,\"columnName\":\"fraud_amount\",\"columnTypeName\":\"FLOAT\"},{\"columnNumber\":5,\"columnName\":\"path\",\"columnTypeName\":\"LONG VARCHAR\",\"length\":64000,\"scale\":64000},{\"columnNumber\":6,\"columnName\":\"interaction_session_number\",\"columnTypeName\":\"BIGINT\"}]}"
     },
     "output_type": "execute_result"
    }
   ],
   "source": [
    "/* Investigate user banking activities that preceeded a fraudulent online transaction */\n",
    "\n",
    "SELECT * FROM NPATH\n",
    "    (ON (\n",
    "        SELECT\n",
    "                bh.customer_identifier,\n",
    "                bh.interaction_session_number,\n",
    "                bh.interaction_timestamp,\n",
    "                bh.interaction_type,\n",
    "                txn.amount,\n",
    "                c.firstname,\n",
    "                c.lastname\n",
    "\n",
    "\n",
    "                FROM demo.txn_history_ofs txn, demo.Banking_History_S3 bh, \n",
    "                    demo.Customers_BFS c, demo.Accounts_Mapping_BFS am\n",
    "\n",
    "\n",
    "                WHERE txn.isFraud = 1 AND\n",
    "                    txn.nameOrig= am.nameOrig AND\n",
    "                    am.customer_identifier = bh.customer_identifier AND\n",
    "                    am.customer_identifier = c.customer_identifier\n",
    "        )\n",
    "        \n",
    "        PARTITION BY interaction_session_number\n",
    "        ORDER BY interaction_timestamp\n",
    "    USING\n",
    "        MODE (NONOVERLAPPING)\n",
    "        SYMBOLS (TRUE AS A)\n",
    "        PATTERN ('A*')\n",
    "        RESULT (FIRST (interaction_timestamp of A) as start_time, \n",
    "                FIRST (customer_identifier of A) as customer_identifier,\n",
    "                FIRST (firstname of A) as firstname, \n",
    "                FIRST (lastname of A) as lastname,\n",
    "                FIRST (amount of A) as fraud_amount,\n",
    "                ACCUMULATE (interaction_type of ANY(A)) as path,\n",
    "                FIRST (interaction_session_number of A) as interaction_session_number\n",
    "                \n",
    "    ));"
   ]
  },
  {
   "cell_type": "code",
   "execution_count": 35,
   "id": "distributed-miniature",
   "metadata": {},
   "outputs": [
    {
     "name": "stdout",
     "output_type": "stream",
     "text": [
      "Success: 'lake_demo' disconnected"
     ]
    }
   ],
   "source": [
    "%disconnect lake_demo"
   ]
  },
  {
   "cell_type": "code",
   "execution_count": null,
   "id": "neither-carter",
   "metadata": {},
   "outputs": [],
   "source": []
  }
 ],
 "metadata": {
  "kernelspec": {
   "display_name": "Teradata SQL",
   "language": "Teradata SQL",
   "name": "teradatasql"
  },
  "language_info": {
   "codemirror_mode": "Teradata SQL",
   "file_extension": ".tdrs",
   "mimetype": "application/vnd.teradata.resultset",
   "name": "Teradata SQL",
   "nbconvert_exporter": "",
   "pygments_lexer": "",
   "version": "16.20"
  },
  "toc-autonumbering": false,
  "toc-showmarkdowntxt": true,
  "toc-showtags": false
 },
 "nbformat": 4,
 "nbformat_minor": 5
}
