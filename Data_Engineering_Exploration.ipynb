{
 "cells": [
  {
   "cell_type": "markdown",
   "id": "dutch-banks",
   "metadata": {},
   "source": [
    "<header style=\"padding:1px;background:#f9f9f9;border-top:3px solid #00b2b1\"><img id=\"Teradata-logo\" src=\"https://www.teradata.com/Teradata/Images/Rebrand/Teradata_logo-two_color.png\" alt=\"Teradata\" width=\"220\" align=\"right\" />\n",
    "\n",
    "<b style = 'font-size:28px;font-family:Arial;color:#E37C4D'>Flexible, Scalable Storage and Analytics with Vantage</b>\n",
    "</header>\n",
    "\n",
    "<br>\n",
    "\n",
    "<p style = 'font-size:16px;font-family:Arial'>Teradata's VantageCloud Lake Edition is the only enterprise-class analytics platform that enables powerful, open, and flexible analytics against data in any location; Data Lakes, third-party systems, and traditional EDW.</p>\n",
    "\n",
    "<hr>\n",
    "\n",
    "<b style = 'font-size:28px;font-family:Arial;color:#E37C4D'>Environment Overview</b>\n",
    "\n",
    "<p style = 'font-size:16px;font-family:Arial'>This demonstration will illustrate how users can can use Vantage to access data from a variety of external sources, choose from multiple physical and virtual storage tiers, and then derive valuable analytic and business insights at extreme scale with minimal cost.</p>\n",
    "\n",
    "<p style = 'font-size:16px;font-family:Arial'>Data Architects and Engineers have a choice of a broad data locality and storage types that can help optimize the balance between cost, accessibility, and analytic performance.  These storage types include:</p>\n",
    "\n",
    "<table style = 'width:100%;table-layout:fixed;'>\n",
    "    <tr>\n",
    "        <td style = 'vertical-align:top;font-size:16px;font-family:Arial' width = '40%'>\n",
    "            <ol style = 'font-size:16px;font-family:Arial'>\n",
    "                <li>Direct-attached block storage for high-speed, tactical workloads.  Most common for smaller, dimensional tables, or tables that support tactical, near-real-time query patterns.</li>\n",
    "                <br>\n",
    "                <li>An object-storage-based filesystem named the Vantage Object Filesystem (OFS) which features:\n",
    "                    <ul style = 'font-size:16px;font-family:Arial'>\n",
    "                        <li>Massively scalable low-cost storage</li>\n",
    "                        <li>Data sharing across multiple processing clusters</li>\n",
    "                <li>Full ACID compliance and optimized for performance including caching, optimized spool, indexed metadata</li>\n",
    "                    </ul>\n",
    "                </li>\n",
    "                <br>\n",
    "                <li>Open Object Storage; which can include Data Lakes (including formats such as Delta), IIOT data, Data Marketplaces, and many other third-party ETL and data streaming systems.</li>\n",
    "            </ol>\n",
    "        </td>\n",
    "        <td><img src = 'images/Lake_Architecture.png' width = '800'></td>\n",
    "    </tr>\n",
    "</table>\n",
    "\n",
    "<b style = 'font-size:28px;font-family:Arial;color:#E37C4D'>Demonstration Overview</b>\n",
    "\n",
    "<p style = 'font-size:16px;font-family:Arial'>This notebook consists of three primary demonstrations designed to briefly review these storage types and how they can be mixed transparently for analytical processing.  </p>\n",
    "<ol style = 'font-size:16px;font-family:Arial'>\n",
    "    <li><b>Demo 1 - The Object Filesystem (OFS)</b>. Show how users can load data, execute queries, as well as how leverage Time Travel capabilities</li>\n",
    "    <li><b>Demo 2 - Open Object Storage</b> - Data Discovery and analytics against data in S3, and an illustration of how to simplify access for users</li>\n",
    "    <li><b>Demo 3 - Analytics</b> - Combine data across storage tiers and apply powerful, scalable ClearScape Analytics Functions</li>\n",
    "    </ol>\n"
   ]
  },
  {
   "cell_type": "markdown",
   "id": "electronic-litigation",
   "metadata": {},
   "source": [
    "<hr>\n",
    "\n",
    "<p style = 'font-size:18px;font-family:Arial;color:#E37C4D'>Connect to Vantage</p>\n",
    "\n",
    "<p style = 'font-size:16px;font-family:Arial'>This notebook uses the Vantage Plugin for Jupyter; a Jupyter Lab Extension that provides native SQL processing, administrative magic functions, and visualiztion capabilities.  In order to conntect to our Vantage system, the user needs to create a connection - this connection is stored in the user's profile and doesn't need to be recreated each time.</p> "
   ]
  },
  {
   "cell_type": "code",
   "execution_count": null,
   "id": "significant-october",
   "metadata": {
    "tags": []
   },
   "outputs": [],
   "source": [
    "%addconnect name=lake_demo, host=44.225.54.151"
   ]
  },
  {
   "cell_type": "code",
   "execution_count": 15,
   "id": "studied-cuisine",
   "metadata": {
    "tags": []
   },
   "outputs": [
    {
     "name": "stdout",
     "output_type": "stream",
     "text": [
      "Success: 'lake_demo' connection modified. Disconnect and re-connect for the modified values to take effect. \n"
     ]
    }
   ],
   "source": [
    "%chconnect name=lake_demo, host=44.225.54.151"
   ]
  },
  {
   "cell_type": "code",
   "execution_count": 16,
   "id": "seven-parking",
   "metadata": {},
   "outputs": [
    {
     "name": "stdout",
     "output_type": "stream",
     "text": [
      "Success: 'lake_demo' disconnected"
     ]
    }
   ],
   "source": [
    "%disconnect name=lake_demo"
   ]
  },
  {
   "cell_type": "markdown",
   "id": "excess-large",
   "metadata": {
    "tags": []
   },
   "source": [
    "password is 'password':"
   ]
  },
  {
   "cell_type": "code",
   "execution_count": 17,
   "id": "considered-terror",
   "metadata": {},
   "outputs": [
    {
     "name": "stdin",
     "output_type": "stream",
     "text": [
      "Password: ········\n"
     ]
    },
    {
     "name": "stdout",
     "output_type": "stream",
     "text": [
      "Success: 'lake_demo' connection established and activated for user 'data_engineer'\n"
     ]
    }
   ],
   "source": [
    "%connect lake_demo, user=data_engineer, hidewarnings=True"
   ]
  },
  {
   "cell_type": "code",
   "execution_count": 18,
   "id": "imperial-advisory",
   "metadata": {
    "tags": []
   },
   "outputs": [
    {
     "data": {
      "text/plain": [
       "Success: 1 rows affected"
      ]
     },
     "execution_count": 18,
     "metadata": {
      "application/vnd.teradata.resultset": ""
     },
     "output_type": "execute_result"
    }
   ],
   "source": [
    "--Set user's session to use the \"Standard\" Compute Group\n",
    "SET SESSION COMPUTE GROUP CG_BUSGRPA_STD"
   ]
  },
  {
   "cell_type": "markdown",
   "id": "pointed-malawi",
   "metadata": {},
   "source": [
    "<hr>\n",
    "<p style = 'font-size:28px;font-family:Arial;color:#E37C4D'><b>Demonstration 1 - Vantage Object FileSystem (OFS)</b></p>\n",
    "\n",
    "<table style = 'width:100%;table-layout:fixed;'>\n",
    "    <tr>\n",
    "        <td style = 'vertical-align:top' width = '40%'>\n",
    "            <ul style = 'font-size:16px;font-family:Arial'>\n",
    "                <li>Immutable storage, objects are versioned to guarantee consistency</li>\n",
    "                <br>\n",
    "                <li>The Object File System (OFS) index is represented by a tree structure with a single root with multiple leaf nodes:\n",
    "                    <br>\n",
    "                    <ul><br>\n",
    "                        <li>One internal index structure is created for each OFS table</li>\n",
    "                    <br>\n",
    "                        <li>Internal indexes provide efficiency in multiple ways:<ul>\n",
    "                            <li>Filtering out selected rows</li>\n",
    "                            <li>Pre-positioning index entries across AMPs</li>\n",
    "                            <li>Join column redistributions</li>\n",
    "                            </ul></li>\n",
    "                        <br>\n",
    "                        <li>Set of statistics values for up to 64 columns carried in the root (for each leaf) and the leaf objects (for each data object)</li>\n",
    "                    <br>\n",
    "                <li>Each Root and Leaf node are in their own object, separate from the data objects</li>\n",
    "                        <br>\n",
    "                <li>With Columnar format, each Data Object contains one Row Group broken into Pages within Column Chunks</li></ul></li>\n",
    "            </ul>\n",
    "        </td>\n",
    "        <td><img src = 'images/OFS_Columnar.png' width = '600'></td>\n",
    "    </tr>\n",
    "</table>"
   ]
  },
  {
   "cell_type": "markdown",
   "id": "endangered-repeat",
   "metadata": {},
   "source": [
    "<hr>\n",
    "\n",
    "<p style = 'font-size:18px;font-family:Arial;color:#E37C4D'>Create the OFS Table</p>\n",
    "\n",
    "<p style = 'font-size:16px;font-family:Arial'>For purposes of demonstration, the user will DROP the table prior to loading so as to show how a new table can be created.</p> \n",
    "\n",
    "<p style = 'font-size:16px;font-family:Arial'>Tables can be defined as generally normally done with any RDBMS.  However, in this case we will show some specifics that are unique to Vantage.</p>\n",
    "<ul style = 'font-size:16px;font-family:Arial'><li><b>First</b>, the \"STORAGE\" clause is set to indicate the data will be stored in the OFS framework.</li>\n",
    "    <li><b>Second</b>, the SELECT that is used to populate the table consists of a specific query type designed to read data directly from an Object Store.</li> </ul>\n",
    "    \n",
    "<p style = 'font-size:16px;font-family:Arial'>Finally, the table can be queried as any normal relational table.</p>"
   ]
  },
  {
   "cell_type": "code",
   "execution_count": null,
   "id": "positive-document",
   "metadata": {},
   "outputs": [],
   "source": [
    "DROP TABLE demo.Txn_History_OFS"
   ]
  },
  {
   "cell_type": "code",
   "execution_count": 20,
   "id": "marked-dominican",
   "metadata": {},
   "outputs": [
    {
     "data": {
      "text/plain": [
       "Success: 0 rows affected"
      ]
     },
     "execution_count": 20,
     "metadata": {
      "application/vnd.teradata.resultset": ""
     },
     "output_type": "execute_result"
    }
   ],
   "source": [
    "/* Load the data into OFS directly from Azure Blob Storage\n",
    "*/\n",
    "\n",
    "CREATE TABLE demo.Txn_History_OFS,\n",
    "\n",
    "    /*Note the use of STORAGE here to specify OFS\n",
    "    This can also be set to a user and database default */\n",
    "    \n",
    "    STORAGE=TD_OFSSTORAGE\n",
    "    \n",
    "    AS (\n",
    "    /* We can use a SELECT statement to populate the table\n",
    "    using WITH DATA */\n",
    "        SELECT *\n",
    "        FROM (LOCATION = '/az/tdazdemo.blob.core.windows.net/txn-history/') AS D) \n",
    "    \n",
    "WITH DATA;"
   ]
  },
  {
   "cell_type": "code",
   "execution_count": 21,
   "id": "retained-making",
   "metadata": {},
   "outputs": [
    {
     "data": {
      "application/vnd.teradata.resultset": "\"txn_type\",\"isFraud\",\"fraud_txns\"\n\"CASH_OUT\",\"20958\",\"36\"\n\"CASH_IN\",\"13142\",\"0\"\n\"DEBIT\",\"387\",\"0\"\n\"TRANSFER\",\"5045\",\"40\"\n\"PAYMENT\",\"20468\",\"0\"",
      "text/html": [
       "<div class = \"td-resultset-table-div\" style = \"max-height: 100%; overflow-y: auto\">\n",
       "      <table class=\"tdhistory904047\"><style>\n",
       "      table.tdhistory904047 { display: block !important; min-height: 189px !important; overflow: auto !important; height: 189px !important; width: 100% !important; border: 1px solid rgb(207, 207, 207) !important; border-collapse: collapse !important; ; color: var(--jp-ui-font-color1) !important; }\n",
       "      th.tdhistory904047 { border: 1px solid rgb(198,198,198) !important; border-collapse: collapse !important; ; padding: 2px 5px !important; ; font-size: 13px !important; ; text-align: center !important; white-space: normal !important; color: var(--jp-ui-font-color1) !important; }\n",
       "      th.tdhistory904047:last-child { text-align: left !important; }\n",
       "      tbody.tdhistory904047 tr:nth-child(even) { background: rgba(243, 243, 243, 0.75) !important; }\n",
       "      tbody.tdhistory904047 tr:nth-child(odd) { background: var(--jp-ui-inverse-font-color1) !important; }\n",
       "      td.tdhistory904047 { border: 1px solid rgb(207, 207, 207) !important; border-collapse: collapse !important; ; padding: 2px 5px !important; ; font-size: 13px !important; ; text-align: left !important;          white-space: nowrap !important; overflow:hidden !important; text-overflow:ellipsis !important;; }\n",
       "    </style><thead><tr style= \"background: rgba(243, 243, 243, 0.75)\"><th class=\"tdhistory904047\"></th><th class=\"tdhistory904047\">txn_type</th><th class=\"tdhistory904047\">isFraud</th><th class=\"tdhistory904047\">fraud_txns</th></tr></thead><tbody class=\"tdhistory904047 resultset-body\"><tr><th class=\"tdhistory904047\" style= \"background: rgba(243, 243, 243, 0.75)\">1</th><td class=\"tdhistory904047\">CASH_OUT</td><td class=\"tdhistory904047\">20958</td><td class=\"tdhistory904047\">36</td></tr><tr><th class=\"tdhistory904047\" style= \"background: rgba(243, 243, 243, 0.75)\">2</th><td class=\"tdhistory904047\">CASH_IN</td><td class=\"tdhistory904047\">13142</td><td class=\"tdhistory904047\">0</td></tr><tr><th class=\"tdhistory904047\" style= \"background: rgba(243, 243, 243, 0.75)\">3</th><td class=\"tdhistory904047\">DEBIT</td><td class=\"tdhistory904047\">387</td><td class=\"tdhistory904047\">0</td></tr><tr><th class=\"tdhistory904047\" style= \"background: rgba(243, 243, 243, 0.75)\">4</th><td class=\"tdhistory904047\">TRANSFER</td><td class=\"tdhistory904047\">5045</td><td class=\"tdhistory904047\">40</td></tr><tr><th class=\"tdhistory904047\" style= \"background: rgba(243, 243, 243, 0.75)\">5</th><td class=\"tdhistory904047\">PAYMENT</td><td class=\"tdhistory904047\">20468</td><td class=\"tdhistory904047\">0</td></tr></tbody></table></div>"
      ]
     },
     "execution_count": 21,
     "metadata": {
      "application/vnd.teradata.resultset": "{\"resultSetID\":\"/home/jovyan/JupyterLabRoot/Teradata/Resultsets/2024.01.04_17.46.05.311_UTC\",\"historyID\":8903,\"chunkID\":\"00001\",\"sessionid\":\"\",\"portnum\":\"\",\"dockermode\":\"docker\",\"totalRowCount\":5,\"chunkCount\":0,\"rowLimit\":0,\"columnMetadata\":[{\"columnName\":\"txn_type\",\"columnTypeName\":\"VARCHAR\",\"length\":4096,\"scale\":4096},{\"columnNumber\":1,\"columnName\":\"isFraud\",\"columnTypeName\":\"INTEGER\"},{\"columnNumber\":2,\"columnName\":\"fraud_txns\",\"columnTypeName\":\"INTEGER\"}]}"
     },
     "output_type": "execute_result"
    }
   ],
   "source": [
    "/* Run a basic query against the data \n",
    "Note we can use AS OF syntax to select a specific version\n",
    "Visualize results */\n",
    "\n",
    "SELECT txn_type, COUNT(isFraud), SUM(isFraud) fraud_txns\n",
    "FROM demo.Txn_History_OFS \n",
    "\n",
    "GROUP BY 1;"
   ]
  },
  {
   "cell_type": "code",
   "execution_count": 22,
   "id": "associate-general",
   "metadata": {},
   "outputs": [
    {
     "data": {
      "application/vnd.vegalite.v3+json": {
       "$schema": "https://vega.github.io/schema/vega-lite/v3.json",
       "data": {
        "format": {
         "type": "csv"
        },
        "values": "\"txn_type\",\"isFraud\",\"fraud_txns\"\n\"CASH_OUT\",\"20958\",\"36\"\n\"CASH_IN\",\"13142\",\"0\"\n\"DEBIT\",\"387\",\"0\"\n\"TRANSFER\",\"5045\",\"40\"\n\"PAYMENT\",\"20468\",\"0\"\n"
       },
       "encoding": {
        "x": {
         "axis": {
          "grid": true,
          "title": "txn_type"
         },
         "field": "txn_type",
         "type": "nominal"
        },
        "y": {
         "axis": {
          "grid": true,
          "title": "fraud_txns"
         },
         "field": "fraud_txns",
         "type": "quantitative"
        }
       },
       "mark": {
        "color": "#4C78A8",
        "type": "bar"
       },
       "title": "Count of Fraudulent Transactions"
      },
      "image/png": "[encoded data removed]"
     },
     "execution_count": 22,
     "metadata": {
      "application/vnd.teradata.resultset": ""
     },
     "output_type": "execute_result"
    }
   ],
   "source": [
    "%chart x=txn_type, y=fraud_txns, title=\"Count of Fraudulent Transactions\""
   ]
  },
  {
   "cell_type": "markdown",
   "id": "macro-criticism",
   "metadata": {},
   "source": [
    "<hr>\n",
    "<p style = 'font-size:28px;font-family:Arial;color:#E37C4D'><b>Time Travel with OFS</b></p>\n",
    "\n",
    "<table style = 'width:100%;table-layout:fixed;'>\n",
    "    <tr>\n",
    "        <td style = 'vertical-align:top' width = '40%'>\n",
    "            <ul style = 'font-size:16px;font-family:Arial'><b>Benefits of Time Travel</b>\n",
    "                <br>\n",
    "                <br>\n",
    "                <li>Querying the database based on how the data looked at some point in the past</li>\n",
    "                <br>\n",
    "                <li>If there were problems with a data load, users can go back to a point in time where the data is clean/consistent</li>\n",
    "                 <br>\n",
    "                 <li>Analytics can be re-run it keeping the inputs the same for one or more tables at any point in time</li>\n",
    "                <br>\n",
    "            </ul>\n",
    "            <ul style = 'font-size:16px;font-family:Arial'><b>Features</b>\n",
    "                <br>\n",
    "                <br>\n",
    "                <li>supported through SELECT AS OF syntax</li>\n",
    "                <br>\n",
    "                <li>Versions come with a system default retention period</li>\n",
    "                <br>\n",
    "                <li>Versioning allows readers to not be blocked by writers, and vice versa</li>\n",
    "                <br>\n",
    "                <li>A transactionally consistent read is always provided by using the last committed version</li>\n",
    "            </ul>               \n",
    "                </td>\n",
    "        <td><img src = 'images/Time_Travel.png' width = '400'></td>\n",
    "    </tr>\n",
    "</table>"
   ]
  },
  {
   "cell_type": "markdown",
   "id": "related-carroll",
   "metadata": {},
   "source": [
    "<hr>\n",
    "\n",
    "<p style = 'font-size:18px;font-family:Arial;color:#E37C4D'>Time Travel Demonstration</p>\n",
    "\n",
    "<p style = 'font-size:16px;font-family:Arial'>As discussed above, OFS tables have a defined retention period over which versions are stored.  This can be viewed by executing a SHOW STORAGE ACCESS statement to see the internal bucket information, including retention period.</p> \n",
    "\n",
    "<p style = 'font-size:16px;font-family:Arial'>Next, some additional data will be inserted into the table.  Executing a query gainst the VersionInfo view can show the version history</p>\n",
    "    \n",
    "<p style = 'font-size:16px;font-family:Arial'>Finally, the table can be queried using AS OF syntax to illustrate simple row counts before and after changes</p>"
   ]
  },
  {
   "cell_type": "code",
   "execution_count": 23,
   "id": "corrected-interim",
   "metadata": {},
   "outputs": [
    {
     "data": {
      "application/vnd.teradata.resultset": "\"Request Text\"\n\"CREATE STORAGE ACCESS OFS TD_OFSSTORAGE ,\rAUTHORIZATION TD_OFSDB.OFSAUTH \rUSING (\r      LOCATION  ('/s3/s3.amazonaws.com/pod-tenant-tc2a0319-acc-2a0319cf83-nosfs/')\r      MANAGED  ('true')\r      RETENTIONDAYS  ('30')\r);\"",
      "text/html": [
       "<div class = \"td-resultset-table-div\" style = \"max-height: 100%; overflow-y: auto\">\n",
       "      <table class=\"tdhistory554052\"><style>\n",
       "      table.tdhistory554052 { display: block !important; min-height: 105px !important; overflow: auto !important; height: 105px !important; width: 100% !important; border: 1px solid rgb(207, 207, 207) !important; border-collapse: collapse !important; ; color: var(--jp-ui-font-color1) !important; }\n",
       "      th.tdhistory554052 { border: 1px solid rgb(198,198,198) !important; border-collapse: collapse !important; ; padding: 2px 5px !important; ; font-size: 13px !important; ; text-align: center !important; white-space: normal !important; color: var(--jp-ui-font-color1) !important; }\n",
       "      th.tdhistory554052:last-child { text-align: left !important; }\n",
       "      tbody.tdhistory554052 tr:nth-child(even) { background: rgba(243, 243, 243, 0.75) !important; }\n",
       "      tbody.tdhistory554052 tr:nth-child(odd) { background: var(--jp-ui-inverse-font-color1) !important; }\n",
       "      td.tdhistory554052 { border: 1px solid rgb(207, 207, 207) !important; border-collapse: collapse !important; ; padding: 2px 5px !important; ; font-size: 13px !important; ; text-align: left !important;          white-space: nowrap !important; overflow:hidden !important; text-overflow:ellipsis !important;; }\n",
       "    </style><thead><tr style= \"background: rgba(243, 243, 243, 0.75)\"><th class=\"tdhistory554052\"></th><th class=\"tdhistory554052\">Request Text</th></tr></thead><tbody class=\"tdhistory554052 resultset-body\"><tr><th class=\"tdhistory554052\" style= \"background: rgba(243, 243, 243, 0.75)\">1</th><td class=\"tdhistory554052\">CREATE STORAGE ACCESS OFS TD_OFSSTORAGE ,\r",
       "AUTHORIZATION TD_OFSDB.OFSAUTH \r",
       "USING (\r",
       "      LOCATION  ('/s3/s3.amazonaws.com/pod-tenant-tc2a0319-acc-2a0319cf83-nosfs/')\r",
       "      MANAGED  ('true')\r",
       "      RETENTIONDAYS  ('30')\r",
       ");</td></tr></tbody></table></div>"
      ]
     },
     "execution_count": 23,
     "metadata": {
      "application/vnd.teradata.resultset": "{\"resultSetID\":\"/home/jovyan/JupyterLabRoot/Teradata/Resultsets/2024.01.04_17.46.44.475_UTC\",\"historyID\":8904,\"chunkID\":\"00001\",\"sessionid\":\"\",\"portnum\":\"\",\"dockermode\":\"docker\",\"totalRowCount\":1,\"chunkCount\":0,\"rowLimit\":0,\"columnMetadata\":[{\"columnName\":\"Request Text\",\"columnTypeName\":\"VARCHAR\",\"length\":219,\"scale\":219}]}"
     },
     "output_type": "execute_result"
    }
   ],
   "source": [
    "--Show the internal S3 bucket and retention (time travel) policy\n",
    "SHOW STORAGE ACCESS TD_OFSSTORAGE;"
   ]
  },
  {
   "cell_type": "code",
   "execution_count": 24,
   "id": "nonprofit-guess",
   "metadata": {},
   "outputs": [
    {
     "data": {
      "text/plain": [
       "Success: 10000 rows affected"
      ]
     },
     "execution_count": 24,
     "metadata": {
      "application/vnd.teradata.resultset": ""
     },
     "output_type": "execute_result"
    }
   ],
   "source": [
    "/* Insert some additional rows into our OFS Table */\n",
    "INSERT INTO demo.Txn_History_OFS\n",
    "\n",
    "SELECT TOP 10000 * FROM (LOCATION = '/az/tdazdemo.blob.core.windows.net/txn-history/') AS D;"
   ]
  },
  {
   "cell_type": "code",
   "execution_count": 25,
   "id": "painted-hierarchy",
   "metadata": {},
   "outputs": [
    {
     "data": {
      "application/vnd.teradata.resultset": "\"TableName\",\"OFSStartVersionNumber\",\"VersionTimeStamp\"\n\"Txn_History_OFS\",\"0\",\"2024-01-04 17:45:57.140000+00:00\"\n\"Txn_History_OFS\",\"1\",\"2024-01-04 17:46:47.950000+00:00\"",
      "text/html": [
       "<div class = \"td-resultset-table-div\" style = \"max-height: 100%; overflow-y: auto\">\n",
       "      <table class=\"tdhistory874448\"><style>\n",
       "      table.tdhistory874448 { display: block !important; min-height: 126px !important; overflow: auto !important; height: 126px !important; width: 100% !important; border: 1px solid rgb(207, 207, 207) !important; border-collapse: collapse !important; ; color: var(--jp-ui-font-color1) !important; }\n",
       "      th.tdhistory874448 { border: 1px solid rgb(198,198,198) !important; border-collapse: collapse !important; ; padding: 2px 5px !important; ; font-size: 13px !important; ; text-align: center !important; white-space: normal !important; color: var(--jp-ui-font-color1) !important; }\n",
       "      th.tdhistory874448:last-child { text-align: left !important; }\n",
       "      tbody.tdhistory874448 tr:nth-child(even) { background: rgba(243, 243, 243, 0.75) !important; }\n",
       "      tbody.tdhistory874448 tr:nth-child(odd) { background: var(--jp-ui-inverse-font-color1) !important; }\n",
       "      td.tdhistory874448 { border: 1px solid rgb(207, 207, 207) !important; border-collapse: collapse !important; ; padding: 2px 5px !important; ; font-size: 13px !important; ; text-align: left !important;          white-space: nowrap !important; overflow:hidden !important; text-overflow:ellipsis !important;; }\n",
       "    </style><thead><tr style= \"background: rgba(243, 243, 243, 0.75)\"><th class=\"tdhistory874448\"></th><th class=\"tdhistory874448\">TableName</th><th class=\"tdhistory874448\">OFSStartVersionNumber</th><th class=\"tdhistory874448\">VersionTimeStamp</th></tr></thead><tbody class=\"tdhistory874448 resultset-body\"><tr><th class=\"tdhistory874448\" style= \"background: rgba(243, 243, 243, 0.75)\">1</th><td class=\"tdhistory874448\">Txn_History_OFS</td><td class=\"tdhistory874448\">0</td><td class=\"tdhistory874448\">2024-01-04 17:45:57.140000+00:00</td></tr><tr><th class=\"tdhistory874448\" style= \"background: rgba(243, 243, 243, 0.75)\">2</th><td class=\"tdhistory874448\">Txn_History_OFS</td><td class=\"tdhistory874448\">1</td><td class=\"tdhistory874448\">2024-01-04 17:46:47.950000+00:00</td></tr></tbody></table></div>"
      ]
     },
     "execution_count": 25,
     "metadata": {
      "application/vnd.teradata.resultset": "{\"resultSetID\":\"/home/jovyan/JupyterLabRoot/Teradata/Resultsets/2024.01.04_17.46.51.939_UTC\",\"historyID\":8906,\"chunkID\":\"00001\",\"sessionid\":\"\",\"portnum\":\"\",\"dockermode\":\"docker\",\"totalRowCount\":2,\"chunkCount\":0,\"rowLimit\":0,\"columnMetadata\":[{\"columnName\":\"TableName\",\"columnTypeName\":\"VARCHAR\",\"length\":128,\"scale\":128},{\"columnNumber\":1,\"columnName\":\"OFSStartVersionNumber\",\"columnTypeName\":\"BIGINT\"},{\"columnNumber\":2,\"columnName\":\"VersionTimeStamp\",\"columnTypeName\":\"TIMESTAMP WITH TIME ZONE\",\"length\":6,\"scale\":6}]}"
     },
     "output_type": "execute_result"
    }
   ],
   "source": [
    "-- Show Table Versioning for Time Travel capabilities\n",
    "SELECT TableName, OFSStartVersionNumber, VersionTimeStamp FROM DBC.MultiVersionInfoTblV\n",
    "WHERE DatabaseName = 'demo'\n",
    "AND TableName = 'Txn_History_OFS'\n",
    "ORDER BY 2;"
   ]
  },
  {
   "cell_type": "code",
   "execution_count": 26,
   "id": "worthy-cleveland",
   "metadata": {},
   "outputs": [
    {
     "data": {
      "application/vnd.teradata.resultset": "\"Ver\",\"Count(*)\"\n\"Original\",\"60000\"\n\"New Ver\",\"70000\"",
      "text/html": [
       "<div class = \"td-resultset-table-div\" style = \"max-height: 100%; overflow-y: auto\">\n",
       "      <table class=\"tdhistory422398\"><style>\n",
       "      table.tdhistory422398 { display: block !important; min-height: 126px !important; overflow: auto !important; height: 126px !important; width: 100% !important; border: 1px solid rgb(207, 207, 207) !important; border-collapse: collapse !important; ; color: var(--jp-ui-font-color1) !important; }\n",
       "      th.tdhistory422398 { border: 1px solid rgb(198,198,198) !important; border-collapse: collapse !important; ; padding: 2px 5px !important; ; font-size: 13px !important; ; text-align: center !important; white-space: normal !important; color: var(--jp-ui-font-color1) !important; }\n",
       "      th.tdhistory422398:last-child { text-align: left !important; }\n",
       "      tbody.tdhistory422398 tr:nth-child(even) { background: rgba(243, 243, 243, 0.75) !important; }\n",
       "      tbody.tdhistory422398 tr:nth-child(odd) { background: var(--jp-ui-inverse-font-color1) !important; }\n",
       "      td.tdhistory422398 { border: 1px solid rgb(207, 207, 207) !important; border-collapse: collapse !important; ; padding: 2px 5px !important; ; font-size: 13px !important; ; text-align: left !important;          white-space: nowrap !important; overflow:hidden !important; text-overflow:ellipsis !important;; }\n",
       "    </style><thead><tr style= \"background: rgba(243, 243, 243, 0.75)\"><th class=\"tdhistory422398\"></th><th class=\"tdhistory422398\">Ver</th><th class=\"tdhistory422398\">Count(*)</th></tr></thead><tbody class=\"tdhistory422398 resultset-body\"><tr><th class=\"tdhistory422398\" style= \"background: rgba(243, 243, 243, 0.75)\">1</th><td class=\"tdhistory422398\">Original</td><td class=\"tdhistory422398\">60000</td></tr><tr><th class=\"tdhistory422398\" style= \"background: rgba(243, 243, 243, 0.75)\">2</th><td class=\"tdhistory422398\">New Ver</td><td class=\"tdhistory422398\">70000</td></tr></tbody></table></div>"
      ]
     },
     "execution_count": 26,
     "metadata": {
      "application/vnd.teradata.resultset": "{\"resultSetID\":\"/home/jovyan/JupyterLabRoot/Teradata/Resultsets/2024.01.04_17.46.55.531_UTC\",\"historyID\":8907,\"chunkID\":\"00001\",\"sessionid\":\"\",\"portnum\":\"\",\"dockermode\":\"docker\",\"totalRowCount\":2,\"chunkCount\":0,\"rowLimit\":0,\"columnMetadata\":[{\"columnName\":\"Ver\",\"columnTypeName\":\"VARCHAR\",\"length\":8,\"scale\":8},{\"columnNumber\":1,\"columnName\":\"Count(*)\",\"columnTypeName\":\"INTEGER\"}]}"
     },
     "output_type": "execute_result"
    }
   ],
   "source": [
    "/* Count the number of rows after each version\n",
    "Replace the timestamps as necessary \n",
    "Or use the version number */\n",
    "\n",
    "SELECT 'Original' as Ver, COUNT(*) \n",
    "FROM demo.Txn_History_OFS \n",
    "    --AS OF TIMESTAMP '2023-02-13 11:19:28.360000-04:00'\n",
    "    AS OF 0\n",
    "\n",
    "GROUP BY 1\n",
    "\n",
    "UNION ALL \n",
    "\n",
    "SELECT 'New Ver' as Ver, COUNT(*) \n",
    "FROM demo.Txn_History_OFS \n",
    "    --AS OF TIMESTAMP '2023-02-13 15:20:04.580000-04:00'\n",
    "    AS OF 1\n",
    "\n",
    "GROUP BY 1"
   ]
  },
  {
   "cell_type": "markdown",
   "id": "greater-saint",
   "metadata": {},
   "source": [
    "<hr>\n",
    "<p style = 'font-size:28px;font-family:Arial;color:#E37C4D'><b>Demonstration 2 - Data in External Object Stores</b></p>\n",
    "\n",
    "<table style = 'width:100%;table-layout:fixed;'>\n",
    "    <tr>\n",
    "        <td style = 'vertical-align:top' width = '40%'>\n",
    "            <ul style = 'font-size:16px;font-family:Arial'>\n",
    "                <li>Vast quantities of data stored in Object Storage\n",
    "                    <br>\n",
    "                <ul>\n",
    "                    <br>\n",
    "                    <li>Data Lakes</li>\n",
    "                    <br>\n",
    "                    <li>IOT/IIOT</li>\n",
    "                    <br>\n",
    "                    <li>Marketplaces</li><br>\n",
    "                    </ul></li>\n",
    "                <br>\n",
    "                <li>Vantage can read this data directly using built-in capabilities:\n",
    "                    <br>\n",
    "                    <ul><br>\n",
    "                        <li>At massive scale/parallelism</li>\n",
    "                    <br>\n",
    "                        <li>Automatic schema discovery</li>\n",
    "                        <br>\n",
    "                            <li>Read optimizations/object filtering</li>\n",
    "                            </ul></li>\n",
    "                <br>\n",
    "                <li>Administrators can create objects to enable easy access/analysis:\n",
    "                <ul><br>\n",
    "                    <li>Foreign Tables that contain object locations and definitions</li>\n",
    "                    <br>\n",
    "                    <li>Views to simplify access for users</li>\n",
    "                    </ul>\n",
    "                </li>\n",
    "            </ul>\n",
    "        </td>\n",
    "        <td><img src = 'images/Data_Marketplace.png' width = '600'></td>\n",
    "    </tr>\n",
    "</table>"
   ]
  },
  {
   "cell_type": "markdown",
   "id": "mighty-jones",
   "metadata": {},
   "source": [
    "<hr>\n",
    "\n",
    "<p style = 'font-size:18px;font-family:Arial;color:#E37C4D'>Exploration and Access Data in Object Stores</p>\n",
    "\n",
    "<p style = 'font-size:16px;font-family:Arial'>The illustrations below review some common query types for investigating data in object storage.  Adding a \"RETURNTYPE\" parameter to the query can return additional information about the data:</p>\n",
    "<ul style = 'font-size:16px;font-family:Arial'>\n",
    "    <li><b>NOSREAD_KEYS</b> will return objects keys/key paths, length in bytes, etc.</li>\n",
    "    <li><b>NOSREAD_SCHEMA</b> will return the objects schema as interpreted by Vantage</li>\n",
    "    </ul>\n",
    "\n",
    "<p style = 'font-size:16px;font-family:Arial'>The Data Engineer can then create a <b>Foreign Table</b> which acts as a virtual pointer to the data as it lies in Object Storage.  Optionally, this table can contain filtering mechanisms to assist in minimizing download volumes and improving performance.</p>"
   ]
  },
  {
   "cell_type": "code",
   "execution_count": 27,
   "id": "handmade-connectivity",
   "metadata": {},
   "outputs": [
    {
     "data": {
      "application/vnd.teradata.resultset": "\"Location\",\"ObjectLength\"\n\"/S3/s3.amazonaws.com/td-usecases-data-store/retail_sample_data/FSCustomerJourney/ich_banking/ich_banking_1.csv\",\"14680002\"\n\"/S3/s3.amazonaws.com/td-usecases-data-store/retail_sample_data/FSCustomerJourney/ich_banking/ich_banking_10.csv\",\"9949618\"\n\"/S3/s3.amazonaws.com/td-usecases-data-store/retail_sample_data/FSCustomerJourney/ich_banking/ich_banking_2.csv\",\"14679966\"\n\"/S3/s3.amazonaws.com/td-usecases-data-store/retail_sample_data/FSCustomerJourney/ich_banking/ich_banking_3.csv\",\"14680146\"\n\"/S3/s3.amazonaws.com/td-usecases-data-store/retail_sample_data/FSCustomerJourney/ich_banking/ich_banking_4.csv\",\"14680017\"\n\"/S3/s3.amazonaws.com/td-usecases-data-store/retail_sample_data/FSCustomerJourney/ich_banking/ich_banking_5.csv\",\"14680095\"\n\"/S3/s3.amazonaws.com/td-usecases-data-store/retail_sample_data/FSCustomerJourney/ich_banking/ich_banking_6.csv\",\"14680063\"\n\"/S3/s3.amazonaws.com/td-usecases-data-store/retail_sample_data/FSCustomerJourney/ich_banking/ich_banking_7.csv\",\"14679943\"\n\"/S3/s3.amazonaws.com/td-usecases-data-store/retail_sample_data/FSCustomerJourney/ich_banking/ich_banking_8.csv\",\"14680277\"\n\"/S3/s3.amazonaws.com/td-usecases-data-store/retail_sample_data/FSCustomerJourney/ich_banking/ich_banking_9.csv\",\"14679948\"",
      "text/html": [
       "<div class = \"td-resultset-table-div\" style = \"max-height: 100%; overflow-y: auto\">\n",
       "      <table class=\"tdhistory247940\"><style>\n",
       "      table.tdhistory247940 { display: block !important; min-height: 294px !important; overflow: auto !important; height: 294px !important; width: 100% !important; border: 1px solid rgb(207, 207, 207) !important; border-collapse: collapse !important; ; color: var(--jp-ui-font-color1) !important; }\n",
       "      th.tdhistory247940 { border: 1px solid rgb(198,198,198) !important; border-collapse: collapse !important; ; padding: 2px 5px !important; ; font-size: 13px !important; ; text-align: center !important; white-space: normal !important; color: var(--jp-ui-font-color1) !important; }\n",
       "      th.tdhistory247940:last-child { text-align: left !important; }\n",
       "      tbody.tdhistory247940 tr:nth-child(even) { background: rgba(243, 243, 243, 0.75) !important; }\n",
       "      tbody.tdhistory247940 tr:nth-child(odd) { background: var(--jp-ui-inverse-font-color1) !important; }\n",
       "      td.tdhistory247940 { border: 1px solid rgb(207, 207, 207) !important; border-collapse: collapse !important; ; padding: 2px 5px !important; ; font-size: 13px !important; ; text-align: left !important;          white-space: nowrap !important; overflow:hidden !important; text-overflow:ellipsis !important;; }\n",
       "    </style><thead><tr style= \"background: rgba(243, 243, 243, 0.75)\"><th class=\"tdhistory247940\"></th><th class=\"tdhistory247940\">Location</th><th class=\"tdhistory247940\">ObjectLength</th></tr></thead><tbody class=\"tdhistory247940 resultset-body\"><tr><th class=\"tdhistory247940\" style= \"background: rgba(243, 243, 243, 0.75)\">1</th><td class=\"tdhistory247940\">/S3/s3.amazonaws.com/td-usecases-data-store/retail_sample_data/FSCustomerJourney/ich_banking/ich_banking_1.csv</td><td class=\"tdhistory247940\">14680002</td></tr><tr><th class=\"tdhistory247940\" style= \"background: rgba(243, 243, 243, 0.75)\">2</th><td class=\"tdhistory247940\">/S3/s3.amazonaws.com/td-usecases-data-store/retail_sample_data/FSCustomerJourney/ich_banking/ich_banking_10.csv</td><td class=\"tdhistory247940\">9949618</td></tr><tr><th class=\"tdhistory247940\" style= \"background: rgba(243, 243, 243, 0.75)\">3</th><td class=\"tdhistory247940\">/S3/s3.amazonaws.com/td-usecases-data-store/retail_sample_data/FSCustomerJourney/ich_banking/ich_banking_2.csv</td><td class=\"tdhistory247940\">14679966</td></tr><tr><th class=\"tdhistory247940\" style= \"background: rgba(243, 243, 243, 0.75)\">4</th><td class=\"tdhistory247940\">/S3/s3.amazonaws.com/td-usecases-data-store/retail_sample_data/FSCustomerJourney/ich_banking/ich_banking_3.csv</td><td class=\"tdhistory247940\">14680146</td></tr><tr><th class=\"tdhistory247940\" style= \"background: rgba(243, 243, 243, 0.75)\">5</th><td class=\"tdhistory247940\">/S3/s3.amazonaws.com/td-usecases-data-store/retail_sample_data/FSCustomerJourney/ich_banking/ich_banking_4.csv</td><td class=\"tdhistory247940\">14680017</td></tr><tr><th class=\"tdhistory247940\" style= \"background: rgba(243, 243, 243, 0.75)\">6</th><td class=\"tdhistory247940\">/S3/s3.amazonaws.com/td-usecases-data-store/retail_sample_data/FSCustomerJourney/ich_banking/ich_banking_5.csv</td><td class=\"tdhistory247940\">14680095</td></tr><tr><th class=\"tdhistory247940\" style= \"background: rgba(243, 243, 243, 0.75)\">7</th><td class=\"tdhistory247940\">/S3/s3.amazonaws.com/td-usecases-data-store/retail_sample_data/FSCustomerJourney/ich_banking/ich_banking_6.csv</td><td class=\"tdhistory247940\">14680063</td></tr><tr><th class=\"tdhistory247940\" style= \"background: rgba(243, 243, 243, 0.75)\">8</th><td class=\"tdhistory247940\">/S3/s3.amazonaws.com/td-usecases-data-store/retail_sample_data/FSCustomerJourney/ich_banking/ich_banking_7.csv</td><td class=\"tdhistory247940\">14679943</td></tr><tr><th class=\"tdhistory247940\" style= \"background: rgba(243, 243, 243, 0.75)\">9</th><td class=\"tdhistory247940\">/S3/s3.amazonaws.com/td-usecases-data-store/retail_sample_data/FSCustomerJourney/ich_banking/ich_banking_8.csv</td><td class=\"tdhistory247940\">14680277</td></tr><tr><th class=\"tdhistory247940\" style= \"background: rgba(243, 243, 243, 0.75)\">10</th><td class=\"tdhistory247940\">/S3/s3.amazonaws.com/td-usecases-data-store/retail_sample_data/FSCustomerJourney/ich_banking/ich_banking_9.csv</td><td class=\"tdhistory247940\">14679948</td></tr></tbody></table></div>"
      ]
     },
     "execution_count": 27,
     "metadata": {
      "application/vnd.teradata.resultset": "{\"resultSetID\":\"/home/jovyan/JupyterLabRoot/Teradata/Resultsets/2024.01.04_17.47.03.735_UTC\",\"historyID\":8908,\"chunkID\":\"00001\",\"sessionid\":\"\",\"portnum\":\"\",\"dockermode\":\"docker\",\"totalRowCount\":10,\"chunkCount\":0,\"rowLimit\":0,\"columnMetadata\":[{\"columnName\":\"Location\",\"columnTypeName\":\"VARCHAR\",\"length\":2048,\"scale\":2048},{\"columnNumber\":1,\"columnName\":\"ObjectLength\",\"columnTypeName\":\"BIGINT\"}]}"
     },
     "output_type": "execute_result"
    }
   ],
   "source": [
    "/* Investigate object structure */\n",
    "\n",
    "SELECT Location, ObjectLength\n",
    "\n",
    "FROM (\n",
    "    LOCATION = '/s3/s3.amazonaws.com/td-usecases-data-store/retail_sample_data/FSCustomerJourney/ich_banking/'\n",
    "    AUTHORIZATION = retail_sample_data.DEMO_AUTH_NOS\n",
    "    RETURNTYPE = 'NOSREAD_KEYS'\n",
    ") AS D"
   ]
  },
  {
   "cell_type": "code",
   "execution_count": 28,
   "id": "married-month",
   "metadata": {},
   "outputs": [
    {
     "data": {
      "application/vnd.teradata.resultset": "\"ColPosition\",\"Name\",\"Datatype\",\"FileType\",\"Location\"\n\"1\",\"Col1\",\"int\",\"csv\",\"/S3/s3.amazonaws.com/td-usecases-data-store/retail_sample_data/FSCustomerJourney/ich_banking/ich_banking_1.csv\"\n\"2\",\"Col2\",\"char(27) CHARACTER SET LATIN\",\"csv\",\"/S3/s3.amazonaws.com/td-usecases-data-store/retail_sample_data/FSCustomerJourney/ich_banking/ich_banking_1.csv\"\n\"3\",\"Col3\",\"VARCHAR(51) CHARACTER SET LATIN\",\"csv\",\"/S3/s3.amazonaws.com/td-usecases-data-store/retail_sample_data/FSCustomerJourney/ich_banking/ich_banking_1.csv\"\n\"4\",\"Col4\",\"char(3) CHARACTER SET LATIN\",\"csv\",\"/S3/s3.amazonaws.com/td-usecases-data-store/retail_sample_data/FSCustomerJourney/ich_banking/ich_banking_1.csv\"\n\"5\",\"Col5\",\"int\",\"csv\",\"/S3/s3.amazonaws.com/td-usecases-data-store/retail_sample_data/FSCustomerJourney/ich_banking/ich_banking_1.csv\"\n\"6\",\"Col6\",\"varchar(40) CHARACTER SET LATIN\",\"csv\",\"/S3/s3.amazonaws.com/td-usecases-data-store/retail_sample_data/FSCustomerJourney/ich_banking/ich_banking_1.csv\"\n\"7\",\"Col7\",\"smallint\",\"csv\",\"/S3/s3.amazonaws.com/td-usecases-data-store/retail_sample_data/FSCustomerJourney/ich_banking/ich_banking_1.csv\"\n\"8\",\"Col8\",\"int\",\"csv\",\"/S3/s3.amazonaws.com/td-usecases-data-store/retail_sample_data/FSCustomerJourney/ich_banking/ich_banking_1.csv\"\n\"9\",\"Col9\",\"char(34) CHARACTER SET LATIN\",\"csv\",\"/S3/s3.amazonaws.com/td-usecases-data-store/retail_sample_data/FSCustomerJourney/ich_banking/ich_banking_1.csv\"\n\"10\",\"Col10\",\"varchar(27) CHARACTER SET LATIN\",\"csv\",\"/S3/s3.amazonaws.com/td-usecases-data-store/retail_sample_data/FSCustomerJourney/ich_banking/ich_banking_1.csv\"\n\"11\",\"Col11\",\"varchar(43) CHARACTER SET LATIN\",\"csv\",\"/S3/s3.amazonaws.com/td-usecases-data-store/retail_sample_data/FSCustomerJourney/ich_banking/ich_banking_1.csv\"\n\"12\",\"Col12\",\"varchar(22) CHARACTER SET LATIN\",\"csv\",\"/S3/s3.amazonaws.com/td-usecases-data-store/retail_sample_data/FSCustomerJourney/ich_banking/ich_banking_1.csv\"",
      "text/html": [
       "<div class = \"td-resultset-table-div\" style = \"max-height: 100%; overflow-y: auto\">\n",
       "      <table class=\"tdhistory778673\"><style>\n",
       "      table.tdhistory778673 { display: block !important; min-height: 336px !important; overflow: auto !important; height: 336px !important; width: 100% !important; border: 1px solid rgb(207, 207, 207) !important; border-collapse: collapse !important; ; color: var(--jp-ui-font-color1) !important; }\n",
       "      th.tdhistory778673 { border: 1px solid rgb(198,198,198) !important; border-collapse: collapse !important; ; padding: 2px 5px !important; ; font-size: 13px !important; ; text-align: center !important; white-space: normal !important; color: var(--jp-ui-font-color1) !important; }\n",
       "      th.tdhistory778673:last-child { text-align: left !important; }\n",
       "      tbody.tdhistory778673 tr:nth-child(even) { background: rgba(243, 243, 243, 0.75) !important; }\n",
       "      tbody.tdhistory778673 tr:nth-child(odd) { background: var(--jp-ui-inverse-font-color1) !important; }\n",
       "      td.tdhistory778673 { border: 1px solid rgb(207, 207, 207) !important; border-collapse: collapse !important; ; padding: 2px 5px !important; ; font-size: 13px !important; ; text-align: left !important;          white-space: nowrap !important; overflow:hidden !important; text-overflow:ellipsis !important;; }\n",
       "    </style><thead><tr style= \"background: rgba(243, 243, 243, 0.75)\"><th class=\"tdhistory778673\"></th><th class=\"tdhistory778673\">ColPosition</th><th class=\"tdhistory778673\">Name</th><th class=\"tdhistory778673\">Datatype</th><th class=\"tdhistory778673\">FileType</th><th class=\"tdhistory778673\">Location</th></tr></thead><tbody class=\"tdhistory778673 resultset-body\"><tr><th class=\"tdhistory778673\" style= \"background: rgba(243, 243, 243, 0.75)\">1</th><td class=\"tdhistory778673\">1</td><td class=\"tdhistory778673\">Col1</td><td class=\"tdhistory778673\">int</td><td class=\"tdhistory778673\">csv</td><td class=\"tdhistory778673\">/S3/s3.amazonaws.com/td-usecases-data-store/retail_sample_data/FSCustomerJourney/ich_banking/ich_banking_1.csv</td></tr><tr><th class=\"tdhistory778673\" style= \"background: rgba(243, 243, 243, 0.75)\">2</th><td class=\"tdhistory778673\">2</td><td class=\"tdhistory778673\">Col2</td><td class=\"tdhistory778673\">char(27) CHARACTER SET LATIN</td><td class=\"tdhistory778673\">csv</td><td class=\"tdhistory778673\">/S3/s3.amazonaws.com/td-usecases-data-store/retail_sample_data/FSCustomerJourney/ich_banking/ich_banking_1.csv</td></tr><tr><th class=\"tdhistory778673\" style= \"background: rgba(243, 243, 243, 0.75)\">3</th><td class=\"tdhistory778673\">3</td><td class=\"tdhistory778673\">Col3</td><td class=\"tdhistory778673\">VARCHAR(51) CHARACTER SET LATIN</td><td class=\"tdhistory778673\">csv</td><td class=\"tdhistory778673\">/S3/s3.amazonaws.com/td-usecases-data-store/retail_sample_data/FSCustomerJourney/ich_banking/ich_banking_1.csv</td></tr><tr><th class=\"tdhistory778673\" style= \"background: rgba(243, 243, 243, 0.75)\">4</th><td class=\"tdhistory778673\">4</td><td class=\"tdhistory778673\">Col4</td><td class=\"tdhistory778673\">char(3) CHARACTER SET LATIN</td><td class=\"tdhistory778673\">csv</td><td class=\"tdhistory778673\">/S3/s3.amazonaws.com/td-usecases-data-store/retail_sample_data/FSCustomerJourney/ich_banking/ich_banking_1.csv</td></tr><tr><th class=\"tdhistory778673\" style= \"background: rgba(243, 243, 243, 0.75)\">5</th><td class=\"tdhistory778673\">5</td><td class=\"tdhistory778673\">Col5</td><td class=\"tdhistory778673\">int</td><td class=\"tdhistory778673\">csv</td><td class=\"tdhistory778673\">/S3/s3.amazonaws.com/td-usecases-data-store/retail_sample_data/FSCustomerJourney/ich_banking/ich_banking_1.csv</td></tr><tr><th class=\"tdhistory778673\" style= \"background: rgba(243, 243, 243, 0.75)\">6</th><td class=\"tdhistory778673\">6</td><td class=\"tdhistory778673\">Col6</td><td class=\"tdhistory778673\">varchar(40) CHARACTER SET LATIN</td><td class=\"tdhistory778673\">csv</td><td class=\"tdhistory778673\">/S3/s3.amazonaws.com/td-usecases-data-store/retail_sample_data/FSCustomerJourney/ich_banking/ich_banking_1.csv</td></tr><tr><th class=\"tdhistory778673\" style= \"background: rgba(243, 243, 243, 0.75)\">7</th><td class=\"tdhistory778673\">7</td><td class=\"tdhistory778673\">Col7</td><td class=\"tdhistory778673\">smallint</td><td class=\"tdhistory778673\">csv</td><td class=\"tdhistory778673\">/S3/s3.amazonaws.com/td-usecases-data-store/retail_sample_data/FSCustomerJourney/ich_banking/ich_banking_1.csv</td></tr><tr><th class=\"tdhistory778673\" style= \"background: rgba(243, 243, 243, 0.75)\">8</th><td class=\"tdhistory778673\">8</td><td class=\"tdhistory778673\">Col8</td><td class=\"tdhistory778673\">int</td><td class=\"tdhistory778673\">csv</td><td class=\"tdhistory778673\">/S3/s3.amazonaws.com/td-usecases-data-store/retail_sample_data/FSCustomerJourney/ich_banking/ich_banking_1.csv</td></tr><tr><th class=\"tdhistory778673\" style= \"background: rgba(243, 243, 243, 0.75)\">9</th><td class=\"tdhistory778673\">9</td><td class=\"tdhistory778673\">Col9</td><td class=\"tdhistory778673\">char(34) CHARACTER SET LATIN</td><td class=\"tdhistory778673\">csv</td><td class=\"tdhistory778673\">/S3/s3.amazonaws.com/td-usecases-data-store/retail_sample_data/FSCustomerJourney/ich_banking/ich_banking_1.csv</td></tr><tr><th class=\"tdhistory778673\" style= \"background: rgba(243, 243, 243, 0.75)\">10</th><td class=\"tdhistory778673\">10</td><td class=\"tdhistory778673\">Col10</td><td class=\"tdhistory778673\">varchar(27) CHARACTER SET LATIN</td><td class=\"tdhistory778673\">csv</td><td class=\"tdhistory778673\">/S3/s3.amazonaws.com/td-usecases-data-store/retail_sample_data/FSCustomerJourney/ich_banking/ich_banking_1.csv</td></tr><tr><th class=\"tdhistory778673\" style= \"background: rgba(243, 243, 243, 0.75)\">11</th><td class=\"tdhistory778673\">11</td><td class=\"tdhistory778673\">Col11</td><td class=\"tdhistory778673\">varchar(43) CHARACTER SET LATIN</td><td class=\"tdhistory778673\">csv</td><td class=\"tdhistory778673\">/S3/s3.amazonaws.com/td-usecases-data-store/retail_sample_data/FSCustomerJourney/ich_banking/ich_banking_1.csv</td></tr><tr><th class=\"tdhistory778673\" style= \"background: rgba(243, 243, 243, 0.75)\">12</th><td class=\"tdhistory778673\">12</td><td class=\"tdhistory778673\">Col12</td><td class=\"tdhistory778673\">varchar(22) CHARACTER SET LATIN</td><td class=\"tdhistory778673\">csv</td><td class=\"tdhistory778673\">/S3/s3.amazonaws.com/td-usecases-data-store/retail_sample_data/FSCustomerJourney/ich_banking/ich_banking_1.csv</td></tr></tbody></table></div>"
      ]
     },
     "execution_count": 28,
     "metadata": {
      "application/vnd.teradata.resultset": "{\"resultSetID\":\"/home/jovyan/JupyterLabRoot/Teradata/Resultsets/2024.01.04_17.49.15.659_UTC\",\"historyID\":8909,\"chunkID\":\"00001\",\"sessionid\":\"\",\"portnum\":\"\",\"dockermode\":\"docker\",\"totalRowCount\":12,\"chunkCount\":0,\"rowLimit\":0,\"columnMetadata\":[{\"columnName\":\"ColPosition\",\"columnTypeName\":\"INTEGER\"},{\"columnNumber\":1,\"columnName\":\"Name\",\"columnTypeName\":\"VARCHAR\",\"length\":128,\"scale\":128},{\"columnNumber\":2,\"columnName\":\"Datatype\",\"columnTypeName\":\"VARCHAR\",\"length\":65,\"scale\":65},{\"columnNumber\":3,\"columnName\":\"FileType\",\"columnTypeName\":\"VARCHAR\",\"length\":128,\"scale\":128},{\"columnNumber\":4,\"columnName\":\"Location\",\"columnTypeName\":\"VARCHAR\",\"length\":2049,\"scale\":2049}]}"
     },
     "output_type": "execute_result"
    }
   ],
   "source": [
    "/* Investigate object schema */\n",
    "\n",
    "SELECT TOP 12 *\n",
    "\n",
    "FROM (\n",
    "    LOCATION = '/s3/s3.amazonaws.com/td-usecases-data-store/retail_sample_data/FSCustomerJourney/ich_banking/'\n",
    "    AUTHORIZATION = retail_sample_data.DEMO_AUTH_NOS\n",
    "    RETURNTYPE = 'NOSREAD_SCHEMA'\n",
    ") AS D\n",
    "ORDER BY 1"
   ]
  },
  {
   "cell_type": "code",
   "execution_count": 29,
   "id": "looking-characterization",
   "metadata": {},
   "outputs": [
    {
     "data": {
      "text/plain": [
       "Success: 36 rows affected"
      ]
     },
     "execution_count": 29,
     "metadata": {
      "application/vnd.teradata.resultset": ""
     },
     "output_type": "execute_result"
    }
   ],
   "source": [
    "DROP TABLE demo.Banking_History_S3"
   ]
  },
  {
   "cell_type": "code",
   "execution_count": 30,
   "id": "irish-vinyl",
   "metadata": {},
   "outputs": [
    {
     "data": {
      "text/plain": [
       "Success: 0 rows affected"
      ]
     },
     "execution_count": 30,
     "metadata": {
      "application/vnd.teradata.resultset": ""
     },
     "output_type": "execute_result"
    }
   ],
   "source": [
    "/* Create the Foreign Table */\n",
    "\n",
    "CREATE FOREIGN TABLE demo.Banking_History_S3,\n",
    "    EXTERNAL SECURITY retail_sample_data.DEMO_AUTH_NOS\n",
    "    (\n",
    "    customer_skey                 integer,\n",
    "    customer_identifier           varchar(26),\n",
    "    customer_cookie               varchar(50),\n",
    "    customer_online_id            varchar(3),\n",
    "    customer_offline_id           integer,\n",
    "    customer_type                 varchar(90),\n",
    "    customer_days_active          integer,\n",
    "    interaction_session_number      bigint,\n",
    "    interaction_timestamp         timestamp with time zone,\n",
    "    interaction_source            varchar(100),\n",
    "    interaction_type              varchar(100),\n",
    "    sales_channel            varchar(100))\n",
    "USING\n",
    "(\n",
    "     LOCATION  ('/s3/s3.amazonaws.com/td-usecases-data-store/retail_sample_data/FSCustomerJourney/ich_banking/')\n",
    "     MANIFEST  ('FALSE')\n",
    "     ROWFORMAT  ('{\"field_delimiter\":\",\",\"record_delimiter\":\"\\n\",\"character_set\":\"LATIN\"}')\n",
    "     STOREDAS  ('TEXTFILE')\n",
    "     HEADER  ('FALSE')\n",
    "     STRIP_EXTERIOR_SPACES  ('FALSE')\n",
    "     STRIP_ENCLOSING_CHAR  ('\"')\n",
    ")\n",
    "NO PRIMARY INDEX ;"
   ]
  },
  {
   "cell_type": "code",
   "execution_count": 31,
   "id": "visible-sense",
   "metadata": {},
   "outputs": [
    {
     "data": {
      "application/vnd.teradata.resultset": "\"Location\",\"customer_skey\",\"customer_identifier\",\"customer_cookie\",\"customer_online_id\",\"customer_offline_id\",\"customer_type\",\"customer_days_active\",\"interaction_session_number\",\"interaction_timestamp\",\"interaction_source\",\"interaction_type\",\"sales_channel\"\n\"/S3/s3.amazonaws.com/td-usecases-data-store/retail_sample_data/FSCustomerJourney/ich_banking/ich_banking_1.csv\",\"112110\",\"125381050fjzrpwt771657752\",\"EY4pH14_ZlZaQQKZpXdXRqo\",\"N\",\"-1\",\"Visitor - Browse Only\",\"0\",\"4308895\",\"2016-02-11 12:38:03.000000-07:00\",\"WEBSITE\",\"BROWSE\",\"-1\"\n\"/S3/s3.amazonaws.com/td-usecases-data-store/retail_sample_data/FSCustomerJourney/ich_banking/ich_banking_3.csv\",\"223375\",\"832161474ylmoyeq507735216\",\"Lhi-WtRHOzvlgmqs9fcUuPz\",\"Y\",\"-1\",\"Visitor - Loyalty\",\"0\",\"4099749\",\"2016-01-08 18:50:31.000000-07:00\",\"WEBSITE\",\"OLB\",\"-1\"\n\"/S3/s3.amazonaws.com/td-usecases-data-store/retail_sample_data/FSCustomerJourney/ich_banking/ich_banking_3.csv\",\"223375\",\"832161474ylmoyeq507735216\",\"Lhi-WtRHOzvlgmqs9fcUuPz\",\"Y\",\"-1\",\"Visitor - Loyalty\",\"0\",\"4099749\",\"2016-01-08 19:33:13.000000-07:00\",\"WEBSITE\",\"COMPLETE_APPLICATION\",\"-1\"\n\"/S3/s3.amazonaws.com/td-usecases-data-store/retail_sample_data/FSCustomerJourney/ich_banking/ich_banking_5.csv\",\"2135\",\"861839811lbxepnv901946824\",\"55jkmJvnwpUIMI-zDGvsSra\",\"N\",\"560839436\",\"Gold\",\"1\",\"4873958\",\"2016-03-14 07:33:14.000000-07:00\",\"WEBSITE\",\"COMPARE\",\"-1\"\n\"/S3/s3.amazonaws.com/td-usecases-data-store/retail_sample_data/FSCustomerJourney/ich_banking/ich_banking_4.csv\",\"237278\",\"566319047mpylzme563266592\",\"B7BvWDimJKoTqB_sbsWH6KF\",\"Y\",\"560261797\",\"Gold\",\"1\",\"3267787\",\"2016-02-21 15:00:24.000000-07:00\",\"WEBSITE\",\"STARTS_APPLICATION\",\"-1\"\n\"/S3/s3.amazonaws.com/td-usecases-data-store/retail_sample_data/FSCustomerJourney/ich_banking/ich_banking_4.csv\",\"237278\",\"566319047mpylzme563266592\",\"B7BvWDimJKoTqB_sbsWH6KF\",\"Y\",\"560261797\",\"Gold\",\"1\",\"3267787\",\"2016-02-21 15:03:09.000000-07:00\",\"WEBSITE\",\"BROWSE\",\"-1\"\n\"/S3/s3.amazonaws.com/td-usecases-data-store/retail_sample_data/FSCustomerJourney/ich_banking/ich_banking_8.csv\",\"77310\",\"305591565fsocziw320918796\",\"ztmThhB1F4yVJz3pTXyzbvY\",\"N\",\"-1\",\"Visitor - Browse Only\",\"0\",\"5093790\",\"2016-01-12 11:30:04.000000-07:00\",\"ONSITE_AD\",\"CLICK\",\"-1\"\n\"/S3/s3.amazonaws.com/td-usecases-data-store/retail_sample_data/FSCustomerJourney/ich_banking/ich_banking_8.csv\",\"52588\",\"850774154zosqgqf446273327\",\"Ql_JMd4omel1ytkeOVbiwEY\",\"N\",\"-1\",\"Visitor - Browse Only\",\"0\",\"4043133\",\"2016-03-12 16:19:35.000000-07:00\",\"WEBSITE\",\"BROWSE\",\"-1\"\n\"/S3/s3.amazonaws.com/td-usecases-data-store/retail_sample_data/FSCustomerJourney/ich_banking/ich_banking_2.csv\",\"239956\",\"831898057xcrapzz439247508\",\"MWbJSSxkLUqB6VKnQC5RZr4\",\"Y\",\"404465918\",\"Gold\",\"1054\",\"1884564\",\"2016-02-03 16:54:07.000000-07:00\",\"SOR_SALES_FILE\",\"ACCOUNT_BOOKED_OFFLINE\",\"BRANCH\"\n\"/S3/s3.amazonaws.com/td-usecases-data-store/retail_sample_data/FSCustomerJourney/ich_banking/ich_banking_2.csv\",\"239956\",\"831898057xcrapzz439247508\",\"MWbJSSxkLUqB6VKnQC5RZr4\",\"Y\",\"404465918\",\"Gold\",\"1054\",\"1884564\",\"2016-06-29 16:54:07.000000-07:00\",\"SOR_SALES_FILE\",\"CALL_COMPLAINT\",\"BRANCH\"",
      "text/html": [
       "<div class = \"td-resultset-table-div\" style = \"max-height: 100%; overflow-y: auto\">\n",
       "      <table class=\"tdhistory367370\"><style>\n",
       "      table.tdhistory367370 { display: block !important; min-height: 294px !important; overflow: auto !important; height: 294px !important; width: 100% !important; border: 1px solid rgb(207, 207, 207) !important; border-collapse: collapse !important; ; color: var(--jp-ui-font-color1) !important; }\n",
       "      th.tdhistory367370 { border: 1px solid rgb(198,198,198) !important; border-collapse: collapse !important; ; padding: 2px 5px !important; ; font-size: 13px !important; ; text-align: center !important; white-space: normal !important; color: var(--jp-ui-font-color1) !important; }\n",
       "      th.tdhistory367370:last-child { text-align: left !important; }\n",
       "      tbody.tdhistory367370 tr:nth-child(even) { background: rgba(243, 243, 243, 0.75) !important; }\n",
       "      tbody.tdhistory367370 tr:nth-child(odd) { background: var(--jp-ui-inverse-font-color1) !important; }\n",
       "      td.tdhistory367370 { border: 1px solid rgb(207, 207, 207) !important; border-collapse: collapse !important; ; padding: 2px 5px !important; ; font-size: 13px !important; ; text-align: left !important;          white-space: nowrap !important; overflow:hidden !important; text-overflow:ellipsis !important;; }\n",
       "    </style><thead><tr style= \"background: rgba(243, 243, 243, 0.75)\"><th class=\"tdhistory367370\"></th><th class=\"tdhistory367370\">Location</th><th class=\"tdhistory367370\">customer_skey</th><th class=\"tdhistory367370\">customer_identifier</th><th class=\"tdhistory367370\">customer_cookie</th><th class=\"tdhistory367370\">customer_online_id</th><th class=\"tdhistory367370\">customer_offline_id</th><th class=\"tdhistory367370\">customer_type</th><th class=\"tdhistory367370\">customer_days_active</th><th class=\"tdhistory367370\">interaction_session_number</th><th class=\"tdhistory367370\">interaction_timestamp</th><th class=\"tdhistory367370\">interaction_source</th><th class=\"tdhistory367370\">interaction_type</th><th class=\"tdhistory367370\">sales_channel</th></tr></thead><tbody class=\"tdhistory367370 resultset-body\"><tr><th class=\"tdhistory367370\" style= \"background: rgba(243, 243, 243, 0.75)\">1</th><td class=\"tdhistory367370\">/S3/s3.amazonaws.com/td-usecases-data-store/retail_sample_data/FSCustomerJourney/ich_banking/ich_banking_1.csv</td><td class=\"tdhistory367370\">112110</td><td class=\"tdhistory367370\">125381050fjzrpwt771657752</td><td class=\"tdhistory367370\">EY4pH14_ZlZaQQKZpXdXRqo</td><td class=\"tdhistory367370\">N</td><td class=\"tdhistory367370\">-1</td><td class=\"tdhistory367370\">Visitor - Browse Only</td><td class=\"tdhistory367370\">0</td><td class=\"tdhistory367370\">4308895</td><td class=\"tdhistory367370\">2016-02-11 12:38:03.000000-07:00</td><td class=\"tdhistory367370\">WEBSITE</td><td class=\"tdhistory367370\">BROWSE</td><td class=\"tdhistory367370\">-1</td></tr><tr><th class=\"tdhistory367370\" style= \"background: rgba(243, 243, 243, 0.75)\">2</th><td class=\"tdhistory367370\">/S3/s3.amazonaws.com/td-usecases-data-store/retail_sample_data/FSCustomerJourney/ich_banking/ich_banking_3.csv</td><td class=\"tdhistory367370\">223375</td><td class=\"tdhistory367370\">832161474ylmoyeq507735216</td><td class=\"tdhistory367370\">Lhi-WtRHOzvlgmqs9fcUuPz</td><td class=\"tdhistory367370\">Y</td><td class=\"tdhistory367370\">-1</td><td class=\"tdhistory367370\">Visitor - Loyalty</td><td class=\"tdhistory367370\">0</td><td class=\"tdhistory367370\">4099749</td><td class=\"tdhistory367370\">2016-01-08 18:50:31.000000-07:00</td><td class=\"tdhistory367370\">WEBSITE</td><td class=\"tdhistory367370\">OLB</td><td class=\"tdhistory367370\">-1</td></tr><tr><th class=\"tdhistory367370\" style= \"background: rgba(243, 243, 243, 0.75)\">3</th><td class=\"tdhistory367370\">/S3/s3.amazonaws.com/td-usecases-data-store/retail_sample_data/FSCustomerJourney/ich_banking/ich_banking_3.csv</td><td class=\"tdhistory367370\">223375</td><td class=\"tdhistory367370\">832161474ylmoyeq507735216</td><td class=\"tdhistory367370\">Lhi-WtRHOzvlgmqs9fcUuPz</td><td class=\"tdhistory367370\">Y</td><td class=\"tdhistory367370\">-1</td><td class=\"tdhistory367370\">Visitor - Loyalty</td><td class=\"tdhistory367370\">0</td><td class=\"tdhistory367370\">4099749</td><td class=\"tdhistory367370\">2016-01-08 19:33:13.000000-07:00</td><td class=\"tdhistory367370\">WEBSITE</td><td class=\"tdhistory367370\">COMPLETE_APPLICATION</td><td class=\"tdhistory367370\">-1</td></tr><tr><th class=\"tdhistory367370\" style= \"background: rgba(243, 243, 243, 0.75)\">4</th><td class=\"tdhistory367370\">/S3/s3.amazonaws.com/td-usecases-data-store/retail_sample_data/FSCustomerJourney/ich_banking/ich_banking_5.csv</td><td class=\"tdhistory367370\">2135</td><td class=\"tdhistory367370\">861839811lbxepnv901946824</td><td class=\"tdhistory367370\">55jkmJvnwpUIMI-zDGvsSra</td><td class=\"tdhistory367370\">N</td><td class=\"tdhistory367370\">560839436</td><td class=\"tdhistory367370\">Gold</td><td class=\"tdhistory367370\">1</td><td class=\"tdhistory367370\">4873958</td><td class=\"tdhistory367370\">2016-03-14 07:33:14.000000-07:00</td><td class=\"tdhistory367370\">WEBSITE</td><td class=\"tdhistory367370\">COMPARE</td><td class=\"tdhistory367370\">-1</td></tr><tr><th class=\"tdhistory367370\" style= \"background: rgba(243, 243, 243, 0.75)\">5</th><td class=\"tdhistory367370\">/S3/s3.amazonaws.com/td-usecases-data-store/retail_sample_data/FSCustomerJourney/ich_banking/ich_banking_4.csv</td><td class=\"tdhistory367370\">237278</td><td class=\"tdhistory367370\">566319047mpylzme563266592</td><td class=\"tdhistory367370\">B7BvWDimJKoTqB_sbsWH6KF</td><td class=\"tdhistory367370\">Y</td><td class=\"tdhistory367370\">560261797</td><td class=\"tdhistory367370\">Gold</td><td class=\"tdhistory367370\">1</td><td class=\"tdhistory367370\">3267787</td><td class=\"tdhistory367370\">2016-02-21 15:00:24.000000-07:00</td><td class=\"tdhistory367370\">WEBSITE</td><td class=\"tdhistory367370\">STARTS_APPLICATION</td><td class=\"tdhistory367370\">-1</td></tr><tr><th class=\"tdhistory367370\" style= \"background: rgba(243, 243, 243, 0.75)\">6</th><td class=\"tdhistory367370\">/S3/s3.amazonaws.com/td-usecases-data-store/retail_sample_data/FSCustomerJourney/ich_banking/ich_banking_4.csv</td><td class=\"tdhistory367370\">237278</td><td class=\"tdhistory367370\">566319047mpylzme563266592</td><td class=\"tdhistory367370\">B7BvWDimJKoTqB_sbsWH6KF</td><td class=\"tdhistory367370\">Y</td><td class=\"tdhistory367370\">560261797</td><td class=\"tdhistory367370\">Gold</td><td class=\"tdhistory367370\">1</td><td class=\"tdhistory367370\">3267787</td><td class=\"tdhistory367370\">2016-02-21 15:03:09.000000-07:00</td><td class=\"tdhistory367370\">WEBSITE</td><td class=\"tdhistory367370\">BROWSE</td><td class=\"tdhistory367370\">-1</td></tr><tr><th class=\"tdhistory367370\" style= \"background: rgba(243, 243, 243, 0.75)\">7</th><td class=\"tdhistory367370\">/S3/s3.amazonaws.com/td-usecases-data-store/retail_sample_data/FSCustomerJourney/ich_banking/ich_banking_8.csv</td><td class=\"tdhistory367370\">77310</td><td class=\"tdhistory367370\">305591565fsocziw320918796</td><td class=\"tdhistory367370\">ztmThhB1F4yVJz3pTXyzbvY</td><td class=\"tdhistory367370\">N</td><td class=\"tdhistory367370\">-1</td><td class=\"tdhistory367370\">Visitor - Browse Only</td><td class=\"tdhistory367370\">0</td><td class=\"tdhistory367370\">5093790</td><td class=\"tdhistory367370\">2016-01-12 11:30:04.000000-07:00</td><td class=\"tdhistory367370\">ONSITE_AD</td><td class=\"tdhistory367370\">CLICK</td><td class=\"tdhistory367370\">-1</td></tr><tr><th class=\"tdhistory367370\" style= \"background: rgba(243, 243, 243, 0.75)\">8</th><td class=\"tdhistory367370\">/S3/s3.amazonaws.com/td-usecases-data-store/retail_sample_data/FSCustomerJourney/ich_banking/ich_banking_8.csv</td><td class=\"tdhistory367370\">52588</td><td class=\"tdhistory367370\">850774154zosqgqf446273327</td><td class=\"tdhistory367370\">Ql_JMd4omel1ytkeOVbiwEY</td><td class=\"tdhistory367370\">N</td><td class=\"tdhistory367370\">-1</td><td class=\"tdhistory367370\">Visitor - Browse Only</td><td class=\"tdhistory367370\">0</td><td class=\"tdhistory367370\">4043133</td><td class=\"tdhistory367370\">2016-03-12 16:19:35.000000-07:00</td><td class=\"tdhistory367370\">WEBSITE</td><td class=\"tdhistory367370\">BROWSE</td><td class=\"tdhistory367370\">-1</td></tr><tr><th class=\"tdhistory367370\" style= \"background: rgba(243, 243, 243, 0.75)\">9</th><td class=\"tdhistory367370\">/S3/s3.amazonaws.com/td-usecases-data-store/retail_sample_data/FSCustomerJourney/ich_banking/ich_banking_2.csv</td><td class=\"tdhistory367370\">239956</td><td class=\"tdhistory367370\">831898057xcrapzz439247508</td><td class=\"tdhistory367370\">MWbJSSxkLUqB6VKnQC5RZr4</td><td class=\"tdhistory367370\">Y</td><td class=\"tdhistory367370\">404465918</td><td class=\"tdhistory367370\">Gold</td><td class=\"tdhistory367370\">1054</td><td class=\"tdhistory367370\">1884564</td><td class=\"tdhistory367370\">2016-02-03 16:54:07.000000-07:00</td><td class=\"tdhistory367370\">SOR_SALES_FILE</td><td class=\"tdhistory367370\">ACCOUNT_BOOKED_OFFLINE</td><td class=\"tdhistory367370\">BRANCH</td></tr><tr><th class=\"tdhistory367370\" style= \"background: rgba(243, 243, 243, 0.75)\">10</th><td class=\"tdhistory367370\">/S3/s3.amazonaws.com/td-usecases-data-store/retail_sample_data/FSCustomerJourney/ich_banking/ich_banking_2.csv</td><td class=\"tdhistory367370\">239956</td><td class=\"tdhistory367370\">831898057xcrapzz439247508</td><td class=\"tdhistory367370\">MWbJSSxkLUqB6VKnQC5RZr4</td><td class=\"tdhistory367370\">Y</td><td class=\"tdhistory367370\">404465918</td><td class=\"tdhistory367370\">Gold</td><td class=\"tdhistory367370\">1054</td><td class=\"tdhistory367370\">1884564</td><td class=\"tdhistory367370\">2016-06-29 16:54:07.000000-07:00</td><td class=\"tdhistory367370\">SOR_SALES_FILE</td><td class=\"tdhistory367370\">CALL_COMPLAINT</td><td class=\"tdhistory367370\">BRANCH</td></tr></tbody></table></div>"
      ]
     },
     "execution_count": 31,
     "metadata": {
      "application/vnd.teradata.resultset": "{\"resultSetID\":\"/home/jovyan/JupyterLabRoot/Teradata/Resultsets/2024.01.04_17.51.05.669_UTC\",\"historyID\":8912,\"chunkID\":\"00001\",\"sessionid\":\"\",\"portnum\":\"\",\"dockermode\":\"docker\",\"totalRowCount\":10,\"chunkCount\":0,\"rowLimit\":0,\"columnMetadata\":[{\"columnName\":\"Location\",\"columnTypeName\":\"VARCHAR\",\"length\":2048,\"scale\":2048},{\"columnNumber\":1,\"columnName\":\"customer_skey\",\"columnTypeName\":\"INTEGER\"},{\"columnNumber\":2,\"columnName\":\"customer_identifier\",\"columnTypeName\":\"VARCHAR\",\"length\":26,\"scale\":26},{\"columnNumber\":3,\"columnName\":\"customer_cookie\",\"columnTypeName\":\"VARCHAR\",\"length\":50,\"scale\":50},{\"columnNumber\":4,\"columnName\":\"customer_online_id\",\"columnTypeName\":\"VARCHAR\",\"length\":3,\"scale\":3},{\"columnNumber\":5,\"columnName\":\"customer_offline_id\",\"columnTypeName\":\"INTEGER\"},{\"columnNumber\":6,\"columnName\":\"customer_type\",\"columnTypeName\":\"VARCHAR\",\"length\":90,\"scale\":90},{\"columnNumber\":7,\"columnName\":\"customer_days_active\",\"columnTypeName\":\"INTEGER\"},{\"columnNumber\":8,\"columnName\":\"interaction_session_number\",\"columnTypeName\":\"BIGINT\"},{\"columnNumber\":9,\"columnName\":\"interaction_timestamp\",\"columnTypeName\":\"TIMESTAMP WITH TIME ZONE\",\"length\":6,\"scale\":6},{\"columnNumber\":10,\"columnName\":\"interaction_source\",\"columnTypeName\":\"VARCHAR\",\"length\":100,\"scale\":100},{\"columnNumber\":11,\"columnName\":\"interaction_type\",\"columnTypeName\":\"VARCHAR\",\"length\":100,\"scale\":100},{\"columnNumber\":12,\"columnName\":\"sales_channel\",\"columnTypeName\":\"VARCHAR\",\"length\":100,\"scale\":100}]}"
     },
     "output_type": "execute_result"
    }
   ],
   "source": [
    "SELECT TOP 10 * FROM demo.Banking_History_S3"
   ]
  },
  {
   "cell_type": "code",
   "execution_count": 32,
   "id": "final-genealogy",
   "metadata": {},
   "outputs": [
    {
     "data": {
      "application/vnd.teradata.resultset": "\"Count(*)\"\n\"628723\"",
      "text/html": [
       "<div class = \"td-resultset-table-div\" style = \"max-height: 100%; overflow-y: auto\">\n",
       "      <table class=\"tdhistory790988\"><style>\n",
       "      table.tdhistory790988 { display: block !important; min-height: 105px !important; overflow: auto !important; height: 105px !important; width: 100% !important; border: 1px solid rgb(207, 207, 207) !important; border-collapse: collapse !important; ; color: var(--jp-ui-font-color1) !important; }\n",
       "      th.tdhistory790988 { border: 1px solid rgb(198,198,198) !important; border-collapse: collapse !important; ; padding: 2px 5px !important; ; font-size: 13px !important; ; text-align: center !important; white-space: normal !important; color: var(--jp-ui-font-color1) !important; }\n",
       "      th.tdhistory790988:last-child { text-align: left !important; }\n",
       "      tbody.tdhistory790988 tr:nth-child(even) { background: rgba(243, 243, 243, 0.75) !important; }\n",
       "      tbody.tdhistory790988 tr:nth-child(odd) { background: var(--jp-ui-inverse-font-color1) !important; }\n",
       "      td.tdhistory790988 { border: 1px solid rgb(207, 207, 207) !important; border-collapse: collapse !important; ; padding: 2px 5px !important; ; font-size: 13px !important; ; text-align: left !important;          white-space: nowrap !important; overflow:hidden !important; text-overflow:ellipsis !important;; }\n",
       "    </style><thead><tr style= \"background: rgba(243, 243, 243, 0.75)\"><th class=\"tdhistory790988\"></th><th class=\"tdhistory790988\">Count(*)</th></tr></thead><tbody class=\"tdhistory790988 resultset-body\"><tr><th class=\"tdhistory790988\" style= \"background: rgba(243, 243, 243, 0.75)\">1</th><td class=\"tdhistory790988\">628723</td></tr></tbody></table></div>"
      ]
     },
     "execution_count": 32,
     "metadata": {
      "application/vnd.teradata.resultset": "{\"resultSetID\":\"/home/jovyan/JupyterLabRoot/Teradata/Resultsets/2024.01.04_17.51.08.299_UTC\",\"historyID\":8913,\"chunkID\":\"00001\",\"sessionid\":\"\",\"portnum\":\"\",\"dockermode\":\"docker\",\"totalRowCount\":1,\"chunkCount\":0,\"rowLimit\":0,\"columnMetadata\":[{\"columnName\":\"Count(*)\",\"columnTypeName\":\"INTEGER\"}]}"
     },
     "output_type": "execute_result"
    }
   ],
   "source": [
    "SELECT COUNT(*) FROM demo.Banking_History_S3"
   ]
  },
  {
   "cell_type": "markdown",
   "id": "aquatic-scale",
   "metadata": {},
   "source": [
    "<hr>\n",
    "<p style = 'font-size:28px;font-family:Arial;color:#E37C4D'><b>Demonstration 3 - Join data across storage types</b></p>\n",
    "\n",
    "<table style = 'width:100%;table-layout:fixed;font-size:16px;font-family:Arial'>\n",
    "    <tr style = 'text-align:center'>\n",
    "        <td><b>Customers_BFS, Accounts_Mapping_BFS</b>\n",
    "        <br>Two dimension tables, stored in local BFS Storage on the Primary Cluster.</td>\n",
    "                <td><b>Txn_History_OFS</b>\n",
    "            <br>A large fact table with financial transaction detail information.  Data is stored in the Vantage Object Filesystem.</td>      \n",
    "        <td><b>Banking_History_S3</b>\n",
    "            <br>An extremely large external table containing Banking History. Data is stored as-is in S3.</td>\n",
    "    </tr>\n",
    "    </table>\n",
    "    <table style = 'width:100%;table-layout:fixed;font-size:16px;font-family:Arial'>\n",
    "    <tr>\n",
    "        <td><img src = 'images/EBS_Tables.png'></td>\n",
    "        <td><img src = 'images/OFS_Tables.png'></td>\n",
    "        <td><img src = 'images/S3_Tables.png'></td>\n",
    "    </tr>\n",
    "</table>"
   ]
  },
  {
   "cell_type": "code",
   "execution_count": 33,
   "id": "happy-sierra",
   "metadata": {},
   "outputs": [
    {
     "data": {
      "application/vnd.teradata.resultset": "\"amount\",\"firstname\",\"lastname\"\n\"432958.83\",\"Megan\",\"Briggs\"\n\"2.08105156e+06\",\"Danielle\",\"Ahmed\"\n\"1e+07\",\"Amelie\",\"Wong\"\n\"1.18672539e+06\",\"Caitlin\",\"Gordon\"\n\"412668.39\",\"Isabella\",\"Pope\"\n\"127564.33\",\"Phoebe\",\"Jenkins\"\n\"145035.4\",\"Grace\",\"Forster\"\n\"2.29933046e+06\",\"Jacob\",\"Wilkins\"\n\"5.09694674e+06\",\"Edward\",\"Weston\"\n\"829012.31\",\"Benjamin\",\"Godfrey\"",
      "text/html": [
       "<div class = \"td-resultset-table-div\" style = \"max-height: 100%; overflow-y: auto\">\n",
       "      <table class=\"tdhistory334681\"><style>\n",
       "      table.tdhistory334681 { display: block !important; min-height: 294px !important; overflow: auto !important; height: 294px !important; width: 100% !important; border: 1px solid rgb(207, 207, 207) !important; border-collapse: collapse !important; ; color: var(--jp-ui-font-color1) !important; }\n",
       "      th.tdhistory334681 { border: 1px solid rgb(198,198,198) !important; border-collapse: collapse !important; ; padding: 2px 5px !important; ; font-size: 13px !important; ; text-align: center !important; white-space: normal !important; color: var(--jp-ui-font-color1) !important; }\n",
       "      th.tdhistory334681:last-child { text-align: left !important; }\n",
       "      tbody.tdhistory334681 tr:nth-child(even) { background: rgba(243, 243, 243, 0.75) !important; }\n",
       "      tbody.tdhistory334681 tr:nth-child(odd) { background: var(--jp-ui-inverse-font-color1) !important; }\n",
       "      td.tdhistory334681 { border: 1px solid rgb(207, 207, 207) !important; border-collapse: collapse !important; ; padding: 2px 5px !important; ; font-size: 13px !important; ; text-align: left !important;          white-space: nowrap !important; overflow:hidden !important; text-overflow:ellipsis !important;; }\n",
       "    </style><thead><tr style= \"background: rgba(243, 243, 243, 0.75)\"><th class=\"tdhistory334681\"></th><th class=\"tdhistory334681\">amount</th><th class=\"tdhistory334681\">firstname</th><th class=\"tdhistory334681\">lastname</th></tr></thead><tbody class=\"tdhistory334681 resultset-body\"><tr><th class=\"tdhistory334681\" style= \"background: rgba(243, 243, 243, 0.75)\">1</th><td class=\"tdhistory334681\">432958.83</td><td class=\"tdhistory334681\">Megan</td><td class=\"tdhistory334681\">Briggs</td></tr><tr><th class=\"tdhistory334681\" style= \"background: rgba(243, 243, 243, 0.75)\">2</th><td class=\"tdhistory334681\">2.08105156e+06</td><td class=\"tdhistory334681\">Danielle</td><td class=\"tdhistory334681\">Ahmed</td></tr><tr><th class=\"tdhistory334681\" style= \"background: rgba(243, 243, 243, 0.75)\">3</th><td class=\"tdhistory334681\">1e+07</td><td class=\"tdhistory334681\">Amelie</td><td class=\"tdhistory334681\">Wong</td></tr><tr><th class=\"tdhistory334681\" style= \"background: rgba(243, 243, 243, 0.75)\">4</th><td class=\"tdhistory334681\">1.18672539e+06</td><td class=\"tdhistory334681\">Caitlin</td><td class=\"tdhistory334681\">Gordon</td></tr><tr><th class=\"tdhistory334681\" style= \"background: rgba(243, 243, 243, 0.75)\">5</th><td class=\"tdhistory334681\">412668.39</td><td class=\"tdhistory334681\">Isabella</td><td class=\"tdhistory334681\">Pope</td></tr><tr><th class=\"tdhistory334681\" style= \"background: rgba(243, 243, 243, 0.75)\">6</th><td class=\"tdhistory334681\">127564.33</td><td class=\"tdhistory334681\">Phoebe</td><td class=\"tdhistory334681\">Jenkins</td></tr><tr><th class=\"tdhistory334681\" style= \"background: rgba(243, 243, 243, 0.75)\">7</th><td class=\"tdhistory334681\">145035.4</td><td class=\"tdhistory334681\">Grace</td><td class=\"tdhistory334681\">Forster</td></tr><tr><th class=\"tdhistory334681\" style= \"background: rgba(243, 243, 243, 0.75)\">8</th><td class=\"tdhistory334681\">2.29933046e+06</td><td class=\"tdhistory334681\">Jacob</td><td class=\"tdhistory334681\">Wilkins</td></tr><tr><th class=\"tdhistory334681\" style= \"background: rgba(243, 243, 243, 0.75)\">9</th><td class=\"tdhistory334681\">5.09694674e+06</td><td class=\"tdhistory334681\">Edward</td><td class=\"tdhistory334681\">Weston</td></tr><tr><th class=\"tdhistory334681\" style= \"background: rgba(243, 243, 243, 0.75)\">10</th><td class=\"tdhistory334681\">829012.31</td><td class=\"tdhistory334681\">Benjamin</td><td class=\"tdhistory334681\">Godfrey</td></tr></tbody></table></div>"
      ]
     },
     "execution_count": 33,
     "metadata": {
      "application/vnd.teradata.resultset": "{\"resultSetID\":\"/home/jovyan/JupyterLabRoot/Teradata/Resultsets/2024.01.04_17.51.11.284_UTC\",\"historyID\":8914,\"chunkID\":\"00001\",\"sessionid\":\"\",\"portnum\":\"\",\"dockermode\":\"docker\",\"totalRowCount\":10,\"chunkCount\":0,\"rowLimit\":0,\"columnMetadata\":[{\"columnName\":\"amount\",\"columnTypeName\":\"FLOAT\"},{\"columnNumber\":1,\"columnName\":\"firstname\",\"columnTypeName\":\"VARCHAR\",\"length\":50,\"scale\":50},{\"columnNumber\":2,\"columnName\":\"lastname\",\"columnTypeName\":\"VARCHAR\",\"length\":90,\"scale\":90}]}"
     },
     "output_type": "execute_result"
    }
   ],
   "source": [
    "/* Find banking users who have had a fradulent event in their cashapp account*/\n",
    "\n",
    "SELECT TOP 10\n",
    "\n",
    "txn.amount,\n",
    "c.firstname,\n",
    "c.lastname\n",
    "\n",
    "\n",
    "FROM demo.txn_history_ofs txn, demo.Customers_BFS c, demo.Accounts_Mapping_BFS am\n",
    "\n",
    "\n",
    "WHERE txn.isFraud = 1 AND\n",
    "    txn.nameOrig= am.nameOrig AND\n",
    "    am.customer_identifier = c.customer_identifier \n",
    "\n",
    "GROUP BY 1,2,3"
   ]
  },
  {
   "cell_type": "markdown",
   "id": "piano-survey",
   "metadata": {},
   "source": [
    "<hr>\n",
    "\n",
    "<p style = 'font-size:18px;font-family:Arial;color:#E37C4D'>Bringing it all together with ClearScape Analytics Functions</p>\n",
    "\n",
    "<p style = 'font-size:16px;font-family:Arial'>This query will add two new elements to the analysis; adding in the large fact table stored natively in S3, and wrapping everything in a multi-row pattern analysis function named nPath. The goal of this analysis is identifying offline behavioral patterns leading to \"Fraud\" - a potentially valuable analysis that can directly feed more accurate Fraud prediction or early identification.</p>\n",
    "\n",
    "\n",
    "<table style = 'width:100%;table-layout:fixed;font-size:16px;font-family:Arial'>\n",
    "    <tr style = 'text-align:top'>\n",
    "        <td style = 'width:30%'>\n",
    "        <ol>\n",
    "            <br>\n",
    "            <li>Use the Join conditions above to identify Fraud in mobile app</li>\n",
    "            <br>\n",
    "            <li>Join the fradulent users to their offline identities</li>\n",
    "            <br>\n",
    "            <li>Pass this data to Teradata nPath function to idenfify offline bevaviors</li>\n",
    "            <br>\n",
    "        </ol></td>\n",
    "        <td><img src = 'images/Life_Of_Query.png'></td>\n",
    "    </tr>\n",
    "</table>"
   ]
  },
  {
   "cell_type": "code",
   "execution_count": 34,
   "id": "divine-links",
   "metadata": {},
   "outputs": [
    {
     "data": {
      "application/vnd.teradata.resultset": "\"start_time\",\"customer_identifier\",\"firstname\",\"lastname\",\"fraud_amount\",\"path\",\"interaction_session_number\"\n\"2016-02-17 17:58:42.000000-07:00\",\"673548669nvuurrm432443654\",\"Danielle\",\"Ahmed\",\"2.08105156e+06\",\"[BROWSE, BROWSE, BROWSE, BROWSE, BROWSE, BROWSE, BROWSE, BROWSE, BROWSE, BROWSE, BROWSE, BROWSE, OLB, OLB, OLB, OLB, OLB, OLB, OLB, OLB, OLB, OLB, OLB, OLB, OLB, OLB, OLB, OLB, OLB, OLB, OLB, OLB, OLB, OLB, OLB, OLB]\",\"1917281\"\n\"2016-02-21 18:24:51.000000-07:00\",\"228714836dfdzuow919946555\",\"Phoebe\",\"Jenkins\",\"127564.33\",\"[BROWSE, BROWSE, BROWSE, BROWSE, BROWSE, BROWSE, BROWSE, BROWSE, BROWSE, BROWSE, BROWSE, BROWSE, STARTS_APPLICATION, STARTS_APPLICATION, STARTS_APPLICATION, STARTS_APPLICATION, STARTS_APPLICATION, STARTS_APPLICATION, STARTS_APPLICATION, STARTS_APPLICATION, STARTS_APPLICATION, STARTS_APPLICATION, STARTS_APPLICATION, STARTS_APPLICATION]\",\"3363365\"\n\"2016-02-22 15:02:03.000000-07:00\",\"228714836dfdzuow919946555\",\"Phoebe\",\"Jenkins\",\"127564.33\",\"[COMPARE, COMPARE, COMPARE, COMPARE, COMPARE, COMPARE, COMPARE, COMPARE, COMPARE, COMPARE, COMPARE, COMPARE, COMPARE, COMPARE, COMPARE, COMPARE, COMPARE, COMPARE, COMPARE, COMPARE, COMPARE, COMPARE, COMPARE, COMPARE, COMPARE, COMPARE, COMPARE, COMPARE, COMPARE, COMPARE, COMPARE, COMPARE, COMPARE, COMPARE, COMPARE, COMPARE]\",\"3639591\"\n\"2016-02-18 13:33:36.000000-07:00\",\"673548669nvuurrm432443654\",\"Danielle\",\"Ahmed\",\"2.08105156e+06\",\"[OLB, OLB, OLB, OLB, OLB, OLB, OLB, OLB, OLB, OLB, OLB, OLB, STARTS_APPLICATION, STARTS_APPLICATION, STARTS_APPLICATION, STARTS_APPLICATION, STARTS_APPLICATION, STARTS_APPLICATION, STARTS_APPLICATION, STARTS_APPLICATION, STARTS_APPLICATION, STARTS_APPLICATION, STARTS_APPLICATION, STARTS_APPLICATION, BROWSE, BROWSE, BROWSE, BROWSE, BROWSE, BROWSE, BROWSE, BROWSE, BROWSE, BROWSE, BROWSE, BROWSE, BROWSE, BROWSE, BROWSE, BROWSE, BROWSE, BROWSE, BROWSE, BROWSE, BROWSE, BROWSE, BROWSE, BROWSE, OLB, OLB, OLB, OLB, OLB, OLB, OLB, OLB, OLB, OLB, OLB, OLB, OLB, OLB, OLB, OLB, OLB, OLB, OLB, OLB, OLB, OLB, OLB, OLB, BROWSE, BROWSE, BROWSE, BROWSE, BROWSE, BROWSE, BROWSE, BROWSE, BROWSE, BROWSE, BROWSE, BROWSE, OLB, OLB, OLB, OLB, OLB, OLB, OLB, OLB, OLB, OLB, OLB, OLB, BROWSE, BROWSE, BROWSE, BROWSE, BROWSE, BROWSE, BROWSE, BROWSE, BROWSE, BROWSE, BROWSE, BROWSE, BROWSE, BROWSE, BROWSE, BROWSE, BROWSE, BROWSE, BROWSE, BROWSE, BROWSE, BROWSE, BROWSE, BROWSE, OLB, OLB, OLB, OLB, OLB, OLB, OLB, OLB, OLB, OLB, OLB, OLB, BROWSE, BROWSE, BROWSE, BROWSE, BROWSE, BROWSE, BROWSE, BROWSE, BROWSE, BROWSE, BROWSE, BROWSE, BROWSE, BROWSE, BROWSE, BROWSE, BROWSE, BROWSE, BROWSE, BROWSE, BROWSE, BROWSE, BROWSE, BROWSE, OLB, OLB, OLB, OLB, OLB, OLB, OLB, OLB, OLB, OLB, OLB, OLB, STARTS_APPLICATION, STARTS_APPLICATION, STARTS_APPLICATION, STARTS_APPLICATION, STARTS_APPLICATION, STARTS_APPLICATION, STARTS_APPLICATION, STARTS_APPLICATION, STARTS_APPLICATION, STARTS_APPLICATION, STARTS_APPLICATION, STARTS_APPLICATION, BROWSE, BROWSE, BROWSE, BROWSE, BROWSE, BROWSE, BROWSE, BROWSE, BROWSE, BROWSE, BROWSE, BROWSE, BROWSE, BROWSE, BROWSE, BROWSE, BROWSE, BROWSE, BROWSE, BROWSE, BROWSE, BROWSE, BROWSE, BROWSE, BROWSE, BROWSE, BROWSE, BROWSE, BROWSE, BROWSE, BROWSE, BROWSE, BROWSE, BROWSE, BROWSE, BROWSE, BROWSE, BROWSE, BROWSE, BROWSE, BROWSE, BROWSE, BROWSE, BROWSE, BROWSE, BROWSE, BROWSE, BROWSE, BROWSE, BROWSE, BROWSE, BROWSE, BROWSE, BROWSE, BROWSE, BROWSE, BROWSE, BROWSE, BROWSE, BROWSE, BROWSE, BROWSE, BROWSE, BROWSE, BROWSE, BROWSE, BROWSE, BROWSE, BROWSE, BROWSE, BROWSE, BROWSE, BROWSE, BROWSE, BROWSE, BROWSE, BROWSE, BROWSE, BROWSE, BROWSE, BROWSE, BROWSE, BROWSE, BROWSE, STARTS_APPLICATION, STARTS_APPLICATION, STARTS_APPLICATION, STARTS_APPLICATION, STARTS_APPLICATION, STARTS_APPLICATION, STARTS_APPLICATION, STARTS_APPLICATION, STARTS_APPLICATION, STARTS_APPLICATION, STARTS_APPLICATION, STARTS_APPLICATION, MORTGAGE_CALC, MORTGAGE_CALC, MORTGAGE_CALC, MORTGAGE_CALC, MORTGAGE_CALC, MORTGAGE_CALC, MORTGAGE_CALC, MORTGAGE_CALC, MORTGAGE_CALC, MORTGAGE_CALC, MORTGAGE_CALC, MORTGAGE_CALC, BROWSE, BROWSE, BROWSE, BROWSE, BROWSE, BROWSE, BROWSE, BROWSE, BROWSE, BROWSE, BROWSE, BROWSE, OLB, OLB, OLB, OLB, OLB, OLB, OLB, OLB, OLB, OLB, OLB, OLB, OLB, OLB, OLB, OLB, OLB, OLB, OLB, OLB, OLB, OLB, OLB, OLB, OLB, OLB, OLB, OLB, OLB, OLB, OLB, OLB, OLB, OLB, OLB, OLB, STARTS_APPLICATION, STARTS_APPLICATION, STARTS_APPLICATION, STARTS_APPLICATION, STARTS_APPLICATION, STARTS_APPLICATION, STARTS_APPLICATION, STARTS_APPLICATION, STARTS_APPLICATION, STARTS_APPLICATION, STARTS_APPLICATION, STARTS_APPLICATION, OLB, OLB, OLB, OLB, OLB, OLB, OLB, OLB, OLB, OLB, OLB, OLB, STARTS_APPLICATION, STARTS_APPLICATION, STARTS_APPLICATION, STARTS_APPLICATION, STARTS_APPLICATION, STARTS_APPLICATION, STARTS_APPLICATION, STARTS_APPLICATION, STARTS_APPLICATION, STARTS_APPLICATION, STARTS_APPLICATION, STARTS_APPLICATION, COMPARE, COMPARE, COMPARE, COMPARE, COMPARE, COMPARE, COMPARE, COMPARE, COMPARE, COMPARE, COMPARE, COMPARE, COMPLETE_APPLICATION, COMPLETE_APPLICATION, COMPLETE_APPLICATION, COMPLETE_APPLICATION, COMPLETE_APPLICATION, COMPLETE_APPLICATION, COMPLETE_APPLICATION, COMPLETE_APPLICATION, COMPLETE_APPLICATION, COMPLETE_APPLICATION, COMPLETE_APPLICATION, COMPLETE_APPLICATION, ACCOUNT_BOOKED_ONLINE, ACCOUNT_BOOKED_ONLINE, ACCOUNT_BOOKED_ONLINE, ACCOUNT_BOOKED_ONLINE, ACCOUNT_BOOKED_ONLINE, ACCOUNT_BOOKED_ONLINE, ACCOUNT_BOOKED_ONLINE, ACCOUNT_BOOKED_ONLINE, ACCOUNT_BOOKED_ONLINE, ACCOUNT_BOOKED_ONLINE, ACCOUNT_BOOKED_ONLINE, ACCOUNT_BOOKED_ONLINE, COMPLETE_APPLICATION, COMPLETE_APPLICATION, COMPLETE_APPLICATION, COMPLETE_APPLICATION, COMPLETE_APPLICATION, COMPLETE_APPLICATION, COMPLETE_APPLICATION, COMPLETE_APPLICATION, COMPLETE_APPLICATION, COMPLETE_APPLICATION, COMPLETE_APPLICATION, COMPLETE_APPLICATION, FEE_REVERSAL, FEE_REVERSAL, FEE_REVERSAL, FEE_REVERSAL, FEE_REVERSAL, FEE_REVERSAL, FEE_REVERSAL, FEE_REVERSAL, FEE_REVERSAL, FEE_REVERSAL, FEE_REVERSAL, FEE_REVERSAL, LINK_EXTERNAL_ACCOUNT, LINK_EXTERNAL_ACCOUNT, LINK_EXTERNAL_ACCOUNT, LINK_EXTERNAL_ACCOUNT, LINK_EXTERNAL_ACCOUNT, LINK_EXTERNAL_ACCOUNT, LINK_EXTERNAL_ACCOUNT, LINK_EXTERNAL_ACCOUNT, LINK_EXTERNAL_ACCOUNT, LINK_EXTERNAL_ACCOUNT, LINK_EXTERNAL_ACCOUNT, LINK_EXTERNAL_ACCOUNT, BALANCE_TRANSFER, BALANCE_TRANSFER, BALANCE_TRANSFER, BALANCE_TRANSFER, BALANCE_TRANSFER, BALANCE_TRANSFER, BALANCE_TRANSFER, BALANCE_TRANSFER, BALANCE_TRANSFER, BALANCE_TRANSFER, BALANCE_TRANSFER, BALANCE_TRANSFER, ACCOUNT_CLOSED, ACCOUNT_CLOSED, ACCOUNT_CLOSED, ACCOUNT_CLOSED, ACCOUNT_CLOSED, ACCOUNT_CLOSED, ACCOUNT_CLOSED, ACCOUNT_CLOSED, ACCOUNT_CLOSED, ACCOUNT_CLOSED, ACCOUNT_CLOSED, ACCOUNT_CLOSED]\",\"2160216\"\n\"2016-03-13 03:41:47.000000-07:00\",\"990829121nztvwns574946555\",\"Isabella\",\"Pope\",\"412668.39\",\"[COMPARE, COMPARE, COMPARE, COMPARE, COMPARE, COMPARE, BROWSE, BROWSE, BROWSE, BROWSE, BROWSE, BROWSE, BROWSE, BROWSE, BROWSE, BROWSE, BROWSE, BROWSE, BROWSE, BROWSE, BROWSE, BROWSE, BROWSE, BROWSE, BROWSE, BROWSE, BROWSE, BROWSE, BROWSE, BROWSE, STARTS_APPLICATION, STARTS_APPLICATION, STARTS_APPLICATION, STARTS_APPLICATION, STARTS_APPLICATION, STARTS_APPLICATION, BROWSE, BROWSE, BROWSE, BROWSE, BROWSE, BROWSE, BROWSE, BROWSE, BROWSE, BROWSE, BROWSE, BROWSE, BROWSE, BROWSE, BROWSE, BROWSE, BROWSE, BROWSE, STARTS_APPLICATION, STARTS_APPLICATION, STARTS_APPLICATION, STARTS_APPLICATION, STARTS_APPLICATION, STARTS_APPLICATION]\",\"4553859\"\n\"2016-03-06 16:32:33.000000-07:00\",\"315616825hhozhjg829286508\",\"Benjamin\",\"Godfrey\",\"829012.31\",\"[BROWSE, BROWSE, BROWSE, BROWSE, BROWSE, BROWSE, BROWSE, BROWSE, BROWSE, BROWSE, BROWSE, BROWSE, STARTS_APPLICATION, STARTS_APPLICATION, STARTS_APPLICATION, STARTS_APPLICATION, STARTS_APPLICATION, STARTS_APPLICATION, STARTS_APPLICATION, STARTS_APPLICATION, STARTS_APPLICATION, STARTS_APPLICATION, STARTS_APPLICATION, STARTS_APPLICATION, COMPARE, COMPARE, COMPARE, COMPARE, COMPARE, COMPARE, COMPARE, COMPARE, COMPARE, COMPARE, COMPARE, COMPARE, STARTS_APPLICATION, STARTS_APPLICATION, STARTS_APPLICATION, STARTS_APPLICATION, STARTS_APPLICATION, STARTS_APPLICATION, STARTS_APPLICATION, STARTS_APPLICATION, STARTS_APPLICATION, STARTS_APPLICATION, STARTS_APPLICATION, STARTS_APPLICATION, COMPLETE_APPLICATION, COMPLETE_APPLICATION, COMPLETE_APPLICATION, COMPLETE_APPLICATION, COMPLETE_APPLICATION, COMPLETE_APPLICATION, COMPLETE_APPLICATION, COMPLETE_APPLICATION, COMPLETE_APPLICATION, COMPLETE_APPLICATION, COMPLETE_APPLICATION, COMPLETE_APPLICATION, ACCOUNT_BOOKED_ONLINE, ACCOUNT_BOOKED_ONLINE, ACCOUNT_BOOKED_ONLINE, ACCOUNT_BOOKED_ONLINE, ACCOUNT_BOOKED_ONLINE, ACCOUNT_BOOKED_ONLINE, ACCOUNT_BOOKED_ONLINE, ACCOUNT_BOOKED_ONLINE, ACCOUNT_BOOKED_ONLINE, ACCOUNT_BOOKED_ONLINE, ACCOUNT_BOOKED_ONLINE, ACCOUNT_BOOKED_ONLINE, COMPLETE_APPLICATION, COMPLETE_APPLICATION, COMPLETE_APPLICATION, COMPLETE_APPLICATION, COMPLETE_APPLICATION, COMPLETE_APPLICATION, COMPLETE_APPLICATION, COMPLETE_APPLICATION, COMPLETE_APPLICATION, COMPLETE_APPLICATION, COMPLETE_APPLICATION, COMPLETE_APPLICATION]\",\"2245141\"\n\"2016-02-19 16:44:37.000000-07:00\",\"501031717hyvpzwr150436516\",\"Edward\",\"Weston\",\"5.09694674e+06\",\"[BROWSE, BROWSE, BROWSE, BROWSE, BROWSE, BROWSE, BROWSE, BROWSE, BROWSE, BROWSE, BROWSE, BROWSE, BROWSE, BROWSE, BROWSE, BROWSE, BROWSE, BROWSE, STARTS_APPLICATION, STARTS_APPLICATION, STARTS_APPLICATION, STARTS_APPLICATION, STARTS_APPLICATION, STARTS_APPLICATION]\",\"2806884\"\n\"2016-02-16 09:08:34.000000-07:00\",\"332124954upbhkhh348550935\",\"Megan\",\"Briggs\",\"432958.83\",\"[BROWSE, BROWSE, BROWSE, BROWSE, BROWSE, BROWSE, BROWSE, BROWSE, BROWSE, BROWSE, BROWSE, BROWSE, BROWSE, BROWSE, BROWSE, BROWSE, BROWSE, BROWSE, BROWSE, BROWSE, BROWSE, BROWSE, BROWSE, BROWSE, BROWSE, BROWSE, BROWSE, BROWSE, BROWSE, BROWSE, BROWSE, BROWSE, BROWSE, BROWSE, BROWSE, BROWSE, STARTS_APPLICATION, STARTS_APPLICATION, STARTS_APPLICATION, STARTS_APPLICATION, STARTS_APPLICATION, STARTS_APPLICATION, STARTS_APPLICATION, STARTS_APPLICATION, STARTS_APPLICATION, STARTS_APPLICATION, STARTS_APPLICATION, STARTS_APPLICATION, BROWSE, BROWSE, BROWSE, BROWSE, BROWSE, BROWSE, BROWSE, BROWSE, BROWSE, BROWSE, BROWSE, BROWSE, BROWSE, BROWSE, BROWSE, BROWSE, BROWSE, BROWSE, BROWSE, BROWSE, BROWSE, BROWSE, BROWSE, BROWSE]\",\"7457497\"\n\"2016-02-07 14:47:45.000000-07:00\",\"554873258gwonmzq747017981\",\"Grace\",\"Forster\",\"145035.4\",\"[STARTS_APPLICATION, STARTS_APPLICATION, STARTS_APPLICATION, STARTS_APPLICATION, STARTS_APPLICATION, STARTS_APPLICATION, STARTS_APPLICATION, STARTS_APPLICATION, STARTS_APPLICATION, STARTS_APPLICATION, STARTS_APPLICATION, STARTS_APPLICATION]\",\"3267888\"\n\"2016-02-16 16:22:58.000000-07:00\",\"382199496nujsfqt379492272\",\"Caitlin\",\"Gordon\",\"1.18672539e+06\",\"[BROWSE, BROWSE, BROWSE, BROWSE, BROWSE, BROWSE]\",\"7280496\"\n\"2016-02-23 13:53:20.000000-07:00\",\"723346324bqtywyv557899717\",\"Jacob\",\"Wilkins\",\"2.29933046e+06\",\"[STARTS_APPLICATION, STARTS_APPLICATION, STARTS_APPLICATION, STARTS_APPLICATION, STARTS_APPLICATION, STARTS_APPLICATION, STARTS_APPLICATION, STARTS_APPLICATION, STARTS_APPLICATION, STARTS_APPLICATION, STARTS_APPLICATION, STARTS_APPLICATION, BROWSE, BROWSE, BROWSE, BROWSE, BROWSE, BROWSE, BROWSE, BROWSE, BROWSE, BROWSE, BROWSE, BROWSE]\",\"3239057\"\n\"2016-02-22 16:30:38.000000-07:00\",\"228714836dfdzuow919946555\",\"Phoebe\",\"Jenkins\",\"127564.33\",\"[COMPARE, COMPARE, COMPARE, COMPARE, COMPARE, COMPARE, COMPARE, COMPARE, COMPARE, COMPARE, COMPARE, COMPARE, COMPARE, COMPARE, COMPARE, COMPARE, COMPARE, COMPARE, COMPARE, COMPARE, COMPARE, COMPARE, COMPARE, COMPARE, COMPARE, COMPARE, COMPARE, COMPARE, COMPARE, COMPARE, COMPARE, COMPARE, COMPARE, COMPARE, COMPARE, COMPARE]\",\"3688318\"\n\"2016-02-13 11:39:23.000000-07:00\",\"550877512qiultoa660406456\",\"Amelie\",\"Wong\",\"1e+07\",\"[BROWSE, BROWSE, BROWSE, BROWSE, BROWSE, BROWSE, COMPARE, COMPARE, COMPARE, COMPARE, COMPARE, COMPARE, STARTS_APPLICATION, STARTS_APPLICATION, STARTS_APPLICATION, STARTS_APPLICATION, STARTS_APPLICATION, STARTS_APPLICATION]\",\"5335956\"\n\"2016-02-16 14:24:13.000000-07:00\",\"382199496nujsfqt379492272\",\"Caitlin\",\"Gordon\",\"1.18672539e+06\",\"[STARTS_APPLICATION, STARTS_APPLICATION, STARTS_APPLICATION, STARTS_APPLICATION, STARTS_APPLICATION, STARTS_APPLICATION, STARTS_APPLICATION, STARTS_APPLICATION, STARTS_APPLICATION, STARTS_APPLICATION, STARTS_APPLICATION, STARTS_APPLICATION, COMPLETE_APPLICATION, COMPLETE_APPLICATION, COMPLETE_APPLICATION, COMPLETE_APPLICATION, COMPLETE_APPLICATION, COMPLETE_APPLICATION, COMPLETE_APPLICATION, COMPLETE_APPLICATION, COMPLETE_APPLICATION, COMPLETE_APPLICATION, COMPLETE_APPLICATION, COMPLETE_APPLICATION]\",\"7210517\"",
      "text/html": [
       "<div class = \"td-resultset-table-div\" style = \"max-height: 100%; overflow-y: auto\">\n",
       "      <table class=\"tdhistory663800\"><style>\n",
       "      table.tdhistory663800 { display: block !important; min-height: 378px !important; overflow: auto !important; height: 378px !important; width: 100% !important; border: 1px solid rgb(207, 207, 207) !important; border-collapse: collapse !important; ; color: var(--jp-ui-font-color1) !important; }\n",
       "      th.tdhistory663800 { border: 1px solid rgb(198,198,198) !important; border-collapse: collapse !important; ; padding: 2px 5px !important; ; font-size: 13px !important; ; text-align: center !important; white-space: normal !important; color: var(--jp-ui-font-color1) !important; }\n",
       "      th.tdhistory663800:last-child { text-align: left !important; }\n",
       "      tbody.tdhistory663800 tr:nth-child(even) { background: rgba(243, 243, 243, 0.75) !important; }\n",
       "      tbody.tdhistory663800 tr:nth-child(odd) { background: var(--jp-ui-inverse-font-color1) !important; }\n",
       "      td.tdhistory663800 { border: 1px solid rgb(207, 207, 207) !important; border-collapse: collapse !important; ; padding: 2px 5px !important; ; font-size: 13px !important; ; text-align: left !important;          white-space: nowrap !important; overflow:hidden !important; text-overflow:ellipsis !important;; }\n",
       "    </style><thead><tr style= \"background: rgba(243, 243, 243, 0.75)\"><th class=\"tdhistory663800\"></th><th class=\"tdhistory663800\">start_time</th><th class=\"tdhistory663800\">customer_identifier</th><th class=\"tdhistory663800\">firstname</th><th class=\"tdhistory663800\">lastname</th><th class=\"tdhistory663800\">fraud_amount</th><th class=\"tdhistory663800\">path</th><th class=\"tdhistory663800\">interaction_session_number</th></tr></thead><tbody class=\"tdhistory663800 resultset-body\"><tr><th class=\"tdhistory663800\" style= \"background: rgba(243, 243, 243, 0.75)\">1</th><td class=\"tdhistory663800\">2016-02-17 17:58:42.000000-07:00</td><td class=\"tdhistory663800\">673548669nvuurrm432443654</td><td class=\"tdhistory663800\">Danielle</td><td class=\"tdhistory663800\">Ahmed</td><td class=\"tdhistory663800\">2.08105156e+06</td><td class=\"tdhistory663800\">[BROWSE, BROWSE, BROWSE, BROWSE, BROWSE, BROWSE, BROWSE, BROWSE, BROWSE, BROWSE, BROWSE, BROWSE, OLB, OLB, OLB, OLB, OLB, OLB, OLB, OLB, OLB, OLB, OLB, OLB, OLB, OLB, OLB, OLB, OLB, OLB, OLB, OLB, OLB, OLB, OLB, OLB]</td><td class=\"tdhistory663800\">1917281</td></tr><tr><th class=\"tdhistory663800\" style= \"background: rgba(243, 243, 243, 0.75)\">2</th><td class=\"tdhistory663800\">2016-02-21 18:24:51.000000-07:00</td><td class=\"tdhistory663800\">228714836dfdzuow919946555</td><td class=\"tdhistory663800\">Phoebe</td><td class=\"tdhistory663800\">Jenkins</td><td class=\"tdhistory663800\">127564.33</td><td class=\"tdhistory663800\">[BROWSE, BROWSE, BROWSE, BROWSE, BROWSE, BROWSE, BROWSE, BROWSE, BROWSE, BROWSE, BROWSE, BROWSE, STARTS_APPLICATION, STARTS_APPLICATION, STARTS_APPLICATION, STARTS_APPLICATION, STARTS_APPLICATION, STARTS_APPLICATION, STARTS_APPLICATION, STARTS_APPLICATION, STARTS_APPLICATION, STARTS_APPLICATION, STARTS_APPLICATION, STARTS_APPLICATION]</td><td class=\"tdhistory663800\">3363365</td></tr><tr><th class=\"tdhistory663800\" style= \"background: rgba(243, 243, 243, 0.75)\">3</th><td class=\"tdhistory663800\">2016-02-22 15:02:03.000000-07:00</td><td class=\"tdhistory663800\">228714836dfdzuow919946555</td><td class=\"tdhistory663800\">Phoebe</td><td class=\"tdhistory663800\">Jenkins</td><td class=\"tdhistory663800\">127564.33</td><td class=\"tdhistory663800\">[COMPARE, COMPARE, COMPARE, COMPARE, COMPARE, COMPARE, COMPARE, COMPARE, COMPARE, COMPARE, COMPARE, COMPARE, COMPARE, COMPARE, COMPARE, COMPARE, COMPARE, COMPARE, COMPARE, COMPARE, COMPARE, COMPARE, COMPARE, COMPARE, COMPARE, COMPARE, COMPARE, COMPARE, COMPARE, COMPARE, COMPARE, COMPARE, COMPARE, COMPARE, COMPARE, COMPARE]</td><td class=\"tdhistory663800\">3639591</td></tr><tr><th class=\"tdhistory663800\" style= \"background: rgba(243, 243, 243, 0.75)\">4</th><td class=\"tdhistory663800\">2016-02-18 13:33:36.000000-07:00</td><td class=\"tdhistory663800\">673548669nvuurrm432443654</td><td class=\"tdhistory663800\">Danielle</td><td class=\"tdhistory663800\">Ahmed</td><td class=\"tdhistory663800\">2.08105156e+06</td><td class=\"tdhistory663800\">[OLB, OLB, OLB, OLB, OLB, OLB, OLB, OLB, OLB, OLB, OLB, OLB, STARTS_APPLICATION, STARTS_APPLICATION, STARTS_APPLICATION, STARTS_APPLICATION, STARTS_APPLICATION, STARTS_APPLICATION, STARTS_APPLICATION, STARTS_APPLICATION, STARTS_APPLICATION, STARTS_APPLICATION, STARTS_APPLICATION, STARTS_APPLICATION, BROWSE, BROWSE, BROWSE, BROWSE, BROWSE, BROWSE, BROWSE, BROWSE, BROWSE, BROWSE, BROWSE, BROWSE, BROWSE, BROWSE, BROWSE, BROWSE, BROWSE, BROWSE, BROWSE, BROWSE, BROWSE, BROWSE, BROWSE, BROWSE, OLB, OLB, OLB, OLB, OLB, OLB, OLB, OLB, OLB, OLB, OLB, OLB, OLB, OLB, OLB, OLB, OLB, OLB, OLB, OLB, OLB, OLB, OLB, OLB, BROWSE, BROWSE, BROWSE, BROWSE, BROWSE, BROWSE, BROWSE, BROWSE, BROWSE, BROWSE, BROWSE, BROWSE, OLB, OLB, OLB, OLB, OLB, OLB, OLB, OLB, OLB, OLB, OLB, OLB, BROWSE, BROWSE, BROWSE, BROWSE, BROWSE, BROWSE, BROWSE, BROWSE, BROWSE, BROWSE, BROWSE, BROWSE, BROWSE, BROWSE, BROWSE, BROWSE, BROWSE, BROWSE, BROWSE, BROWSE, BROWSE, BROWSE, BROWSE, BROWSE, OLB, OLB, OLB, OLB, OLB, OLB, OLB, OLB, OLB, OLB, OLB, OLB, BROWSE, BROWSE, BROWSE, BROWSE, BROWSE, BROWSE, BROWSE, BROWSE, BROWSE, BROWSE, BROWSE, BROWSE, BROWSE, BROWSE, BROWSE, BROWSE, BROWSE, BROWSE, BROWSE, BROWSE, BROWSE, BROWSE, BROWSE, BROWSE, OLB, OLB, OLB, OLB, OLB, OLB, OLB, OLB, OLB, OLB, OLB, OLB, STARTS_APPLICATION, STARTS_APPLICATION, STARTS_APPLICATION, STARTS_APPLICATION, STARTS_APPLICATION, STARTS_APPLICATION, STARTS_APPLICATION, STARTS_APPLICATION, STARTS_APPLICATION, STARTS_APPLICATION, STARTS_APPLICATION, STARTS_APPLICATION, BROWSE, BROWSE, BROWSE, BROWSE, BROWSE, BROWSE, BROWSE, BROWSE, BROWSE, BROWSE, BROWSE, BROWSE, BROWSE, BROWSE, BROWSE, BROWSE, BROWSE, BROWSE, BROWSE, BROWSE, BROWSE, BROWSE, BROWSE, BROWSE, BROWSE, BROWSE, BROWSE, BROWSE, BROWSE, BROWSE, BROWSE, BROWSE, BROWSE, BROWSE, BROWSE, BROWSE, BROWSE, BROWSE, BROWSE, BROWSE, BROWSE, BROWSE, BROWSE, BROWSE, BROWSE, BROWSE, BROWSE, BROWSE, BROWSE, BROWSE, BROWSE, BROWSE, BROWSE, BROWSE, BROWSE, BROWSE, BROWSE, BROWSE, BROWSE, BROWSE, BROWSE, BROWSE, BROWSE, BROWSE, BROWSE, BROWSE, BROWSE, BROWSE, BROWSE, BROWSE, BROWSE, BROWSE, BROWSE, BROWSE, BROWSE, BROWSE, BROWSE, BROWSE, BROWSE, BROWSE, BROWSE, BROWSE, BROWSE, BROWSE, STARTS_APPLICATION, STARTS_APPLICATION, STARTS_APPLICATION, STARTS_APPLICATION, STARTS_APPLICATION, STARTS_APPLICATION, STARTS_APPLICATION, STARTS_APPLICATION, STARTS_APPLICATION, STARTS_APPLICATION, STARTS_APPLICATION, STARTS_APPLICATION, MORTGAGE_CALC, MORTGAGE_CALC, MORTGAGE_CALC, MORTGAGE_CALC, MORTGAGE_CALC, MORTGAGE_CALC, MORTGAGE_CALC, MORTGAGE_CALC, MORTGAGE_CALC, MORTGAGE_CALC, MORTGAGE_CALC, MORTGAGE_CALC, BROWSE, BROWSE, BROWSE, BROWSE, BROWSE, BROWSE, BROWSE, BROWSE, BROWSE, BROWSE, BROWSE, BROWSE, OLB, OLB, OLB, OLB, OLB, OLB, OLB, OLB, OLB, OLB, OLB, OLB, OLB, OLB, OLB, OLB, OLB, OLB, OLB, OLB, OLB, OLB, OLB, OLB, OLB, OLB, OLB, OLB, OLB, OLB, OLB, OLB, OLB, OLB, OLB, OLB, STARTS_APPLICATION, STARTS_APPLICATION, STARTS_APPLICATION, STARTS_APPLICATION, STARTS_APPLICATION, STARTS_APPLICATION, STARTS_APPLICATION, STARTS_APPLICATION, STARTS_APPLICATION, STARTS_APPLICATION, STARTS_APPLICATION, STARTS_APPLICATION, OLB, OLB, OLB, OLB, OLB, OLB, OLB, OLB, OLB, OLB, OLB, OLB, STARTS_APPLICATION, STARTS_APPLICATION, STARTS_APPLICATION, STARTS_APPLICATION, STARTS_APPLICATION, STARTS_APPLICATION, STARTS_APPLICATION, STARTS_APPLICATION, STARTS_APPLICATION, STARTS_APPLICATION, STARTS_APPLICATION, STARTS_APPLICATION, COMPARE, COMPARE, COMPARE, COMPARE, COMPARE, COMPARE, COMPARE, COMPARE, COMPARE, COMPARE, COMPARE, COMPARE, COMPLETE_APPLICATION, COMPLETE_APPLICATION, COMPLETE_APPLICATION, COMPLETE_APPLICATION, COMPLETE_APPLICATION, COMPLETE_APPLICATION, COMPLETE_APPLICATION, COMPLETE_APPLICATION, COMPLETE_APPLICATION, COMPLETE_APPLICATION, COMPLETE_APPLICATION, COMPLETE_APPLICATION, ACCOUNT_BOOKED_ONLINE, ACCOUNT_BOOKED_ONLINE, ACCOUNT_BOOKED_ONLINE, ACCOUNT_BOOKED_ONLINE, ACCOUNT_BOOKED_ONLINE, ACCOUNT_BOOKED_ONLINE, ACCOUNT_BOOKED_ONLINE, ACCOUNT_BOOKED_ONLINE, ACCOUNT_BOOKED_ONLINE, ACCOUNT_BOOKED_ONLINE, ACCOUNT_BOOKED_ONLINE, ACCOUNT_BOOKED_ONLINE, COMPLETE_APPLICATION, COMPLETE_APPLICATION, COMPLETE_APPLICATION, COMPLETE_APPLICATION, COMPLETE_APPLICATION, COMPLETE_APPLICATION, COMPLETE_APPLICATION, COMPLETE_APPLICATION, COMPLETE_APPLICATION, COMPLETE_APPLICATION, COMPLETE_APPLICATION, COMPLETE_APPLICATION, FEE_REVERSAL, FEE_REVERSAL, FEE_REVERSAL, FEE_REVERSAL, FEE_REVERSAL, FEE_REVERSAL, FEE_REVERSAL, FEE_REVERSAL, FEE_REVERSAL, FEE_REVERSAL, FEE_REVERSAL, FEE_REVERSAL, LINK_EXTERNAL_ACCOUNT, LINK_EXTERNAL_ACCOUNT, LINK_EXTERNAL_ACCOUNT, LINK_EXTERNAL_ACCOUNT, LINK_EXTERNAL_ACCOUNT, LINK_EXTERNAL_ACCOUNT, LINK_EXTERNAL_ACCOUNT, LINK_EXTERNAL_ACCOUNT, LINK_EXTERNAL_ACCOUNT, LINK_EXTERNAL_ACCOUNT, LINK_EXTERNAL_ACCOUNT, LINK_EXTERNAL_ACCOUNT, BALANCE_TRANSFER, BALANCE_TRANSFER, BALANCE_TRANSFER, BALANCE_TRANSFER, BALANCE_TRANSFER, BALANCE_TRANSFER, BALANCE_TRANSFER, BALANCE_TRANSFER, BALANCE_TRANSFER, BALANCE_TRANSFER, BALANCE_TRANSFER, BALANCE_TRANSFER, ACCOUNT_CLOSED, ACCOUNT_CLOSED, ACCOUNT_CLOSED, ACCOUNT_CLOSED, ACCOUNT_CLOSED, ACCOUNT_CLOSED, ACCOUNT_CLOSED, ACCOUNT_CLOSED, ACCOUNT_CLOSED, ACCOUNT_CLOSED, ACCOUNT_CLOSED, ACCOUNT_CLOSED]</td><td class=\"tdhistory663800\">2160216</td></tr><tr><th class=\"tdhistory663800\" style= \"background: rgba(243, 243, 243, 0.75)\">5</th><td class=\"tdhistory663800\">2016-03-13 03:41:47.000000-07:00</td><td class=\"tdhistory663800\">990829121nztvwns574946555</td><td class=\"tdhistory663800\">Isabella</td><td class=\"tdhistory663800\">Pope</td><td class=\"tdhistory663800\">412668.39</td><td class=\"tdhistory663800\">[COMPARE, COMPARE, COMPARE, COMPARE, COMPARE, COMPARE, BROWSE, BROWSE, BROWSE, BROWSE, BROWSE, BROWSE, BROWSE, BROWSE, BROWSE, BROWSE, BROWSE, BROWSE, BROWSE, BROWSE, BROWSE, BROWSE, BROWSE, BROWSE, BROWSE, BROWSE, BROWSE, BROWSE, BROWSE, BROWSE, STARTS_APPLICATION, STARTS_APPLICATION, STARTS_APPLICATION, STARTS_APPLICATION, STARTS_APPLICATION, STARTS_APPLICATION, BROWSE, BROWSE, BROWSE, BROWSE, BROWSE, BROWSE, BROWSE, BROWSE, BROWSE, BROWSE, BROWSE, BROWSE, BROWSE, BROWSE, BROWSE, BROWSE, BROWSE, BROWSE, STARTS_APPLICATION, STARTS_APPLICATION, STARTS_APPLICATION, STARTS_APPLICATION, STARTS_APPLICATION, STARTS_APPLICATION]</td><td class=\"tdhistory663800\">4553859</td></tr><tr><th class=\"tdhistory663800\" style= \"background: rgba(243, 243, 243, 0.75)\">6</th><td class=\"tdhistory663800\">2016-03-06 16:32:33.000000-07:00</td><td class=\"tdhistory663800\">315616825hhozhjg829286508</td><td class=\"tdhistory663800\">Benjamin</td><td class=\"tdhistory663800\">Godfrey</td><td class=\"tdhistory663800\">829012.31</td><td class=\"tdhistory663800\">[BROWSE, BROWSE, BROWSE, BROWSE, BROWSE, BROWSE, BROWSE, BROWSE, BROWSE, BROWSE, BROWSE, BROWSE, STARTS_APPLICATION, STARTS_APPLICATION, STARTS_APPLICATION, STARTS_APPLICATION, STARTS_APPLICATION, STARTS_APPLICATION, STARTS_APPLICATION, STARTS_APPLICATION, STARTS_APPLICATION, STARTS_APPLICATION, STARTS_APPLICATION, STARTS_APPLICATION, COMPARE, COMPARE, COMPARE, COMPARE, COMPARE, COMPARE, COMPARE, COMPARE, COMPARE, COMPARE, COMPARE, COMPARE, STARTS_APPLICATION, STARTS_APPLICATION, STARTS_APPLICATION, STARTS_APPLICATION, STARTS_APPLICATION, STARTS_APPLICATION, STARTS_APPLICATION, STARTS_APPLICATION, STARTS_APPLICATION, STARTS_APPLICATION, STARTS_APPLICATION, STARTS_APPLICATION, COMPLETE_APPLICATION, COMPLETE_APPLICATION, COMPLETE_APPLICATION, COMPLETE_APPLICATION, COMPLETE_APPLICATION, COMPLETE_APPLICATION, COMPLETE_APPLICATION, COMPLETE_APPLICATION, COMPLETE_APPLICATION, COMPLETE_APPLICATION, COMPLETE_APPLICATION, COMPLETE_APPLICATION, ACCOUNT_BOOKED_ONLINE, ACCOUNT_BOOKED_ONLINE, ACCOUNT_BOOKED_ONLINE, ACCOUNT_BOOKED_ONLINE, ACCOUNT_BOOKED_ONLINE, ACCOUNT_BOOKED_ONLINE, ACCOUNT_BOOKED_ONLINE, ACCOUNT_BOOKED_ONLINE, ACCOUNT_BOOKED_ONLINE, ACCOUNT_BOOKED_ONLINE, ACCOUNT_BOOKED_ONLINE, ACCOUNT_BOOKED_ONLINE, COMPLETE_APPLICATION, COMPLETE_APPLICATION, COMPLETE_APPLICATION, COMPLETE_APPLICATION, COMPLETE_APPLICATION, COMPLETE_APPLICATION, COMPLETE_APPLICATION, COMPLETE_APPLICATION, COMPLETE_APPLICATION, COMPLETE_APPLICATION, COMPLETE_APPLICATION, COMPLETE_APPLICATION]</td><td class=\"tdhistory663800\">2245141</td></tr><tr><th class=\"tdhistory663800\" style= \"background: rgba(243, 243, 243, 0.75)\">7</th><td class=\"tdhistory663800\">2016-02-19 16:44:37.000000-07:00</td><td class=\"tdhistory663800\">501031717hyvpzwr150436516</td><td class=\"tdhistory663800\">Edward</td><td class=\"tdhistory663800\">Weston</td><td class=\"tdhistory663800\">5.09694674e+06</td><td class=\"tdhistory663800\">[BROWSE, BROWSE, BROWSE, BROWSE, BROWSE, BROWSE, BROWSE, BROWSE, BROWSE, BROWSE, BROWSE, BROWSE, BROWSE, BROWSE, BROWSE, BROWSE, BROWSE, BROWSE, STARTS_APPLICATION, STARTS_APPLICATION, STARTS_APPLICATION, STARTS_APPLICATION, STARTS_APPLICATION, STARTS_APPLICATION]</td><td class=\"tdhistory663800\">2806884</td></tr><tr><th class=\"tdhistory663800\" style= \"background: rgba(243, 243, 243, 0.75)\">8</th><td class=\"tdhistory663800\">2016-02-16 09:08:34.000000-07:00</td><td class=\"tdhistory663800\">332124954upbhkhh348550935</td><td class=\"tdhistory663800\">Megan</td><td class=\"tdhistory663800\">Briggs</td><td class=\"tdhistory663800\">432958.83</td><td class=\"tdhistory663800\">[BROWSE, BROWSE, BROWSE, BROWSE, BROWSE, BROWSE, BROWSE, BROWSE, BROWSE, BROWSE, BROWSE, BROWSE, BROWSE, BROWSE, BROWSE, BROWSE, BROWSE, BROWSE, BROWSE, BROWSE, BROWSE, BROWSE, BROWSE, BROWSE, BROWSE, BROWSE, BROWSE, BROWSE, BROWSE, BROWSE, BROWSE, BROWSE, BROWSE, BROWSE, BROWSE, BROWSE, STARTS_APPLICATION, STARTS_APPLICATION, STARTS_APPLICATION, STARTS_APPLICATION, STARTS_APPLICATION, STARTS_APPLICATION, STARTS_APPLICATION, STARTS_APPLICATION, STARTS_APPLICATION, STARTS_APPLICATION, STARTS_APPLICATION, STARTS_APPLICATION, BROWSE, BROWSE, BROWSE, BROWSE, BROWSE, BROWSE, BROWSE, BROWSE, BROWSE, BROWSE, BROWSE, BROWSE, BROWSE, BROWSE, BROWSE, BROWSE, BROWSE, BROWSE, BROWSE, BROWSE, BROWSE, BROWSE, BROWSE, BROWSE]</td><td class=\"tdhistory663800\">7457497</td></tr><tr><th class=\"tdhistory663800\" style= \"background: rgba(243, 243, 243, 0.75)\">9</th><td class=\"tdhistory663800\">2016-02-07 14:47:45.000000-07:00</td><td class=\"tdhistory663800\">554873258gwonmzq747017981</td><td class=\"tdhistory663800\">Grace</td><td class=\"tdhistory663800\">Forster</td><td class=\"tdhistory663800\">145035.4</td><td class=\"tdhistory663800\">[STARTS_APPLICATION, STARTS_APPLICATION, STARTS_APPLICATION, STARTS_APPLICATION, STARTS_APPLICATION, STARTS_APPLICATION, STARTS_APPLICATION, STARTS_APPLICATION, STARTS_APPLICATION, STARTS_APPLICATION, STARTS_APPLICATION, STARTS_APPLICATION]</td><td class=\"tdhistory663800\">3267888</td></tr><tr><th class=\"tdhistory663800\" style= \"background: rgba(243, 243, 243, 0.75)\">10</th><td class=\"tdhistory663800\">2016-02-16 16:22:58.000000-07:00</td><td class=\"tdhistory663800\">382199496nujsfqt379492272</td><td class=\"tdhistory663800\">Caitlin</td><td class=\"tdhistory663800\">Gordon</td><td class=\"tdhistory663800\">1.18672539e+06</td><td class=\"tdhistory663800\">[BROWSE, BROWSE, BROWSE, BROWSE, BROWSE, BROWSE]</td><td class=\"tdhistory663800\">7280496</td></tr><tr><th class=\"tdhistory663800\" style= \"background: rgba(243, 243, 243, 0.75)\">11</th><td class=\"tdhistory663800\">2016-02-23 13:53:20.000000-07:00</td><td class=\"tdhistory663800\">723346324bqtywyv557899717</td><td class=\"tdhistory663800\">Jacob</td><td class=\"tdhistory663800\">Wilkins</td><td class=\"tdhistory663800\">2.29933046e+06</td><td class=\"tdhistory663800\">[STARTS_APPLICATION, STARTS_APPLICATION, STARTS_APPLICATION, STARTS_APPLICATION, STARTS_APPLICATION, STARTS_APPLICATION, STARTS_APPLICATION, STARTS_APPLICATION, STARTS_APPLICATION, STARTS_APPLICATION, STARTS_APPLICATION, STARTS_APPLICATION, BROWSE, BROWSE, BROWSE, BROWSE, BROWSE, BROWSE, BROWSE, BROWSE, BROWSE, BROWSE, BROWSE, BROWSE]</td><td class=\"tdhistory663800\">3239057</td></tr><tr><th class=\"tdhistory663800\" style= \"background: rgba(243, 243, 243, 0.75)\">12</th><td class=\"tdhistory663800\">2016-02-22 16:30:38.000000-07:00</td><td class=\"tdhistory663800\">228714836dfdzuow919946555</td><td class=\"tdhistory663800\">Phoebe</td><td class=\"tdhistory663800\">Jenkins</td><td class=\"tdhistory663800\">127564.33</td><td class=\"tdhistory663800\">[COMPARE, COMPARE, COMPARE, COMPARE, COMPARE, COMPARE, COMPARE, COMPARE, COMPARE, COMPARE, COMPARE, COMPARE, COMPARE, COMPARE, COMPARE, COMPARE, COMPARE, COMPARE, COMPARE, COMPARE, COMPARE, COMPARE, COMPARE, COMPARE, COMPARE, COMPARE, COMPARE, COMPARE, COMPARE, COMPARE, COMPARE, COMPARE, COMPARE, COMPARE, COMPARE, COMPARE]</td><td class=\"tdhistory663800\">3688318</td></tr><tr><th class=\"tdhistory663800\" style= \"background: rgba(243, 243, 243, 0.75)\">13</th><td class=\"tdhistory663800\">2016-02-13 11:39:23.000000-07:00</td><td class=\"tdhistory663800\">550877512qiultoa660406456</td><td class=\"tdhistory663800\">Amelie</td><td class=\"tdhistory663800\">Wong</td><td class=\"tdhistory663800\">1e+07</td><td class=\"tdhistory663800\">[BROWSE, BROWSE, BROWSE, BROWSE, BROWSE, BROWSE, COMPARE, COMPARE, COMPARE, COMPARE, COMPARE, COMPARE, STARTS_APPLICATION, STARTS_APPLICATION, STARTS_APPLICATION, STARTS_APPLICATION, STARTS_APPLICATION, STARTS_APPLICATION]</td><td class=\"tdhistory663800\">5335956</td></tr><tr><th class=\"tdhistory663800\" style= \"background: rgba(243, 243, 243, 0.75)\">14</th><td class=\"tdhistory663800\">2016-02-16 14:24:13.000000-07:00</td><td class=\"tdhistory663800\">382199496nujsfqt379492272</td><td class=\"tdhistory663800\">Caitlin</td><td class=\"tdhistory663800\">Gordon</td><td class=\"tdhistory663800\">1.18672539e+06</td><td class=\"tdhistory663800\">[STARTS_APPLICATION, STARTS_APPLICATION, STARTS_APPLICATION, STARTS_APPLICATION, STARTS_APPLICATION, STARTS_APPLICATION, STARTS_APPLICATION, STARTS_APPLICATION, STARTS_APPLICATION, STARTS_APPLICATION, STARTS_APPLICATION, STARTS_APPLICATION, COMPLETE_APPLICATION, COMPLETE_APPLICATION, COMPLETE_APPLICATION, COMPLETE_APPLICATION, COMPLETE_APPLICATION, COMPLETE_APPLICATION, COMPLETE_APPLICATION, COMPLETE_APPLICATION, COMPLETE_APPLICATION, COMPLETE_APPLICATION, COMPLETE_APPLICATION, COMPLETE_APPLICATION]</td><td class=\"tdhistory663800\">7210517</td></tr></tbody></table></div>"
      ]
     },
     "execution_count": 34,
     "metadata": {
      "application/vnd.teradata.resultset": "{\"resultSetID\":\"/home/jovyan/JupyterLabRoot/Teradata/Resultsets/2024.01.04_17.51.16.038_UTC\",\"historyID\":8915,\"chunkID\":\"00001\",\"sessionid\":\"\",\"portnum\":\"\",\"dockermode\":\"docker\",\"totalRowCount\":14,\"chunkCount\":0,\"rowLimit\":0,\"columnMetadata\":[{\"columnName\":\"start_time\",\"columnTypeName\":\"TIMESTAMP WITH TIME ZONE\",\"length\":6,\"scale\":6},{\"columnNumber\":1,\"columnName\":\"customer_identifier\",\"columnTypeName\":\"VARCHAR\",\"length\":26,\"scale\":26},{\"columnNumber\":2,\"columnName\":\"firstname\",\"columnTypeName\":\"VARCHAR\",\"length\":50,\"scale\":50},{\"columnNumber\":3,\"columnName\":\"lastname\",\"columnTypeName\":\"VARCHAR\",\"length\":90,\"scale\":90},{\"columnNumber\":4,\"columnName\":\"fraud_amount\",\"columnTypeName\":\"FLOAT\"},{\"columnNumber\":5,\"columnName\":\"path\",\"columnTypeName\":\"LONG VARCHAR\",\"length\":64000,\"scale\":64000},{\"columnNumber\":6,\"columnName\":\"interaction_session_number\",\"columnTypeName\":\"BIGINT\"}]}"
     },
     "output_type": "execute_result"
    }
   ],
   "source": [
    "/* Investigate user banking activities that preceeded a fraudulent online transaction */\n",
    "\n",
    "SELECT * FROM NPATH\n",
    "    (ON (\n",
    "        SELECT\n",
    "                bh.customer_identifier,\n",
    "                bh.interaction_session_number,\n",
    "                bh.interaction_timestamp,\n",
    "                bh.interaction_type,\n",
    "                txn.amount,\n",
    "                c.firstname,\n",
    "                c.lastname\n",
    "\n",
    "\n",
    "                FROM demo.txn_history_ofs txn, demo.Banking_History_S3 bh, \n",
    "                    demo.Customers_BFS c, demo.Accounts_Mapping_BFS am\n",
    "\n",
    "\n",
    "                WHERE txn.isFraud = 1 AND\n",
    "                    txn.nameOrig= am.nameOrig AND\n",
    "                    am.customer_identifier = bh.customer_identifier AND\n",
    "                    am.customer_identifier = c.customer_identifier\n",
    "        )\n",
    "        \n",
    "        PARTITION BY interaction_session_number\n",
    "        ORDER BY interaction_timestamp\n",
    "    USING\n",
    "        MODE (NONOVERLAPPING)\n",
    "        SYMBOLS (TRUE AS A)\n",
    "        PATTERN ('A*')\n",
    "        RESULT (FIRST (interaction_timestamp of A) as start_time, \n",
    "                FIRST (customer_identifier of A) as customer_identifier,\n",
    "                FIRST (firstname of A) as firstname, \n",
    "                FIRST (lastname of A) as lastname,\n",
    "                FIRST (amount of A) as fraud_amount,\n",
    "                ACCUMULATE (interaction_type of ANY(A)) as path,\n",
    "                FIRST (interaction_session_number of A) as interaction_session_number\n",
    "                \n",
    "    ));"
   ]
  },
  {
   "cell_type": "markdown",
   "id": "exclusive-explanation",
   "metadata": {},
   "source": [
    "<hr>\n",
    "\n",
    "<p style = 'font-size:28px;font-family:Arial;color:#E37C4D'><b>Seamlessly Join Data Across the Data Fabric<b></p>\n",
    "\n",
    "<p style = 'font-size:16px;font-family:Arial'><b style = 'color:#00b2b1'>QueryGrid</b> provides seamless, high-performance data access with pushdown processing and parallel data movement across systems in heterogeneous analytical environments, including hybrid and multi-cloud.</p>\n",
    "\n",
    "<table style = 'width:75%;table-layout:fixed;font-size:16px;font-family:Arial'>\n",
    "    <tr style = 'text-align:top'>\n",
    "        <td style = 'width:50%'>\n",
    "        <ol>\n",
    "            <br>\n",
    "            <li><b>Orchestrate</b> query execution across databases and platforms without migrating data</li>\n",
    "            <br>\n",
    "            <li><b>Launch</b> queries in place and execute pushdown processing across systems</li>\n",
    "            <br>\n",
    "            <li><b>Join</b> and transfer data across tables and systems from multiple sources</li>\n",
    "            <br>\n",
    "            <li><b>Reduce</b> data movement and minimize egress charges</li>\n",
    "            <br>\n",
    "        </ol></td>\n",
    "        <td><img src = 'images/QG_Overview.png' width = '400' ></td>\n",
    "    </tr>\n",
    "</table>\n",
    "\n",
    "<p style = 'font-size:16px;font-family:Arial'>For this demonstration, the <b style = 'color:#00b2b1'>Transaction History</b> data set has been moved to an external RDBMS connected via VantageCloud Lake QueryGrid.  After executing this query, administrators can view detailed telemetry on data transfer rates, query pushdown, and other metrics in the <b style = 'color:#00b2b1'>VantageCloud Lake Console.</b>  Alternatively, users can run an <b>EXPLAIN</b> to show the QueryGrid operations.</p>"
   ]
  },
  {
   "cell_type": "code",
   "execution_count": 36,
   "id": "basic-coordinator",
   "metadata": {},
   "outputs": [
    {
     "data": {
      "application/vnd.teradata.resultset": "\"Explanation\"\n\" This request is eligible for incremental planning and execution (IPE).\"\n\" The following is the static plan for the request.\"\n\"  1) First, we lock demo.bh in TD_MAP2 for read on a reserved RowHash\"\n\"     to prevent global deadlock.\"\n\"  2) Next, we lock demo.am in TD_MAP2 for read on a reserved RowHash to\"\n\"     prevent global deadlock.\"\n\"  3) We lock demo.c in TD_MAP2 for read on a reserved RowHash to\"\n\"     prevent global deadlock.\"\n\"  4) We lock demo.bh in TD_MAP2 for read, we lock demo.am in TD_MAP2\"\n\"     for read, and we lock demo.c in TD_MAP2 for read.\"\n\"  5) We execute the following steps in parallel.\"\n\"       1) We do an all-AMPs RETRIEVE step executing table operator\"\n\"          TD_SYSFNLIB.QGINITIATORIMPORT in TD_MAP2 with a condition of\"\n\"          (\"\"(NOT (NAMEORIG IS NULL )) AND (ISFRAUD = 1)\"\").\"\n\"          < BEGIN EXPLAIN FOR REMOTE QUERY -->\"\n\"          Remote Queries:\"\n\"          1. SELECT amount ,nameorig ,isfraud FROM\"\n\"          demo_schema.txn_history WHERE (NOT (NAMEORIG IS NULL )) AND\"\n\"          (ISFRAUD = 1)\"\n\"          [No explain information added from target]\"\n\"          <-- END EXPLAIN FOR REMOTE QUERY >\"\n\"          The size of Spool 6 is estimated with no confidence to be\"\n\"          80,000 rows (2,880,000 bytes).  The estimated time for this\"\n\"          step is 0.00 seconds.\"\n\"       2) We do a single-AMP RETRIEVE step from demo.bh metadata by way\"\n\"          of an all-rows scan with no residual conditions into Spool 5\"\n\"          (one-amp), which is built locally on that AMP.  Then we do a\"\n\"          SORT to order Spool 5 by the sort key.  The size of Spool 5\"\n\"          is estimated with low confidence to be 10 rows (7,050 bytes).\"\n\"          The estimated time for this step is 0.50 seconds.\"\n\"  6) We do a single-AMP RETRIEVE step from Spool 5 (Last Use) by way of\"\n\"     an all-rows scan into Spool 7 (all_amps), which is binpacked and\"\n\"     redistributed by size to all AMPs in TD_MAP2.  The size of Spool 7\"\n\"     is estimated with low confidence to be 10 rows (7,210 bytes).  The\"\n\"     estimated time for this step is 0.00 seconds.\"\n\"  7) We do an all-AMPs RETRIEVE step in TD_MAP2 from demo.bh\"\n\"     by way of external metadata in Spool 7 (Last Use) with a condition\"\n\"     of (\"\"NOT (demo.bh.customer_identifier IS NULL)\"\") into Spool 8\"\n\"     (all_amps) fanned out into 12 hash join partitions, which is built\"\n\"     locally on the AMPs.  The size of Spool 8 is estimated with low\"\n\"     confidence to be 628,619 rows (49,032,282 bytes).  The estimated\"\n\"     time for this step is 0.86 seconds.\"\n\"  8) We do an all-AMPs JOIN step in TD_MAP2 from demo.am by way of an\"\n\"     all-rows scan with a condition of (\"\"NOT\"\n\"     (demo.am.customer_identifier IS NULL)\"\"), which is joined to Spool\"\n\"     6 (Last Use) by way of an all-rows scan.  demo.am and Spool 6 are\"\n\"     joined using a single partition hash join, with a join condition\"\n\"     of (\"\"NAMEORIG = (TRANSLATE((demo.am.nameOrig )USING\"\n\"     LATIN_TO_UNICODE))\"\").  The result goes into Spool 9 (all_amps)\"\n\"     fanned out into 12 hash join partitions, which is duplicated on\"\n\"     all AMPs in TD_MAP2.  The size of Spool 9 is estimated with no\"\n\"     confidence to be 853,336 rows (47,786,816 bytes).  The estimated\"\n\"     time for this step is 0.09 seconds.\"\n\"  9) We do an all-AMPs RETRIEVE step in TD_MAP2 from demo.c by way of\"\n\"     an all-rows scan with a condition of (\"\"NOT\"\n\"     (demo.c.customer_identifier IS NULL)\"\") into Spool 10 (all_amps),\"\n\"     which is duplicated on all AMPs in TD_MAP2.  The size of Spool 10\"\n\"     is estimated with low confidence to be 106,304 rows (7,866,496\"\n\"     bytes).  The estimated time for this step is 0.01 seconds.\"\n\" 10) We execute the following steps in a pipeline.\"\n\"      1) We do an all-AMPs JOIN step in TD_MAP2 from Spool 8 (Last Use)\"\n\"         by way of an all-rows scan, which is joined to Spool 9 (Last\"\n\"         Use) by way of an all-rows scan.  Spool 8 and Spool 9 are\"\n\"         joined using a hash join of 12 partitions, with a join\"\n\"         condition of (\"\"customer_identifier = customer_identifier\"\").\"\n\"         The result goes into Pipeline 11 (all_amps), which is built\"\n\"         locally on the AMPs.  The result spool file will not be cached\"\n\"         in memory.  The size of Pipeline 11 is estimated with no\"\n\"         confidence to be 84,571,461 rows (10,233,146,781 bytes).  The\"\n\"         estimated time for this step is 17.52 seconds.\"\n\"      2) We do an all-AMPs JOIN step in TD_MAP2 from Spool 10 (Last\"\n\"         Use) by way of an all-rows scan, which is joined to Pipeline\"\n\"         11 (Last Use) by way of an all-rows scan.  Spool 10 and\"\n\"         Pipeline 11 are joined using a single partition hash join,\"\n\"         with a join condition of (\"\"(customer_identifier =\"\n\"         customer_identifier) AND (customer_identifier =\"\n\"         customer_identifier)\"\").  The result goes into Spool 2 (used to\"\n\"         materialize view, derived table, table function or table\"\n\"         operator TblOpInputSpool) (all_amps), which is redistributed\"\n\"         by hash code to all AMPs in TD_DATADICTIONARYMAP.  Then we do\"\n\"         a SORT to order Spool 2 by the sort key in spool field1.  The\"\n\"         result spool file will not be cached in memory.  The size of\"\n\"         Spool 2 is estimated with no confidence to be 122,200,093 rows\"\n\"         (21,262,816,182 bytes).  The estimated time for this step is 2\"\n\"         minutes and 5 seconds.\"\n\" 11) We do an all-AMPs RETRIEVE step in TD_DATADICTIONARYMAP from Spool\"\n\"     2 (Last Use) by way of an all-rows scan executing table operator\"\n\"     TD_SYSFNLIB.NPATH in TD_DATADICTIONARYMAP with a condition of (\"\n\"     \"\"(1=1)\"\") into Spool 4 (group_amps), which is built locally on the\"\n\"     AMPs.  The result spool file will not be cached in memory.  The\"\n\"     size of Spool 4 is estimated with no confidence to be 122,200,093\"\n\"     rows (2,629,746,001,360 bytes).  The estimated time for this step\"\n\"     is 29.52 seconds.\"\n\" 12) Finally, we send out an END TRANSACTION step to all AMPs involved\"\n\"     in processing the request.\"\n\"  -> The contents of Spool 4 are sent back to the user as the result of\"\n\"     statement 1.  The total estimated time is 2 minutes and 53 seconds.\"",
      "text/html": [
       "<div class = \"td-resultset-table-div\" style = \"max-height: 100%; overflow-y: auto\">\n",
       "      <table class=\"tdhistory179581\"><style>\n",
       "      table.tdhistory179581 { display: block !important; min-height: 588px !important; overflow: auto !important; height: 588px !important; width: 100% !important; border: 1px solid rgb(207, 207, 207) !important; border-collapse: collapse !important; ; color: var(--jp-ui-font-color1) !important; }\n",
       "      th.tdhistory179581 { border: 1px solid rgb(198,198,198) !important; border-collapse: collapse !important; ; padding: 2px 5px !important; ; font-size: 13px !important; ; text-align: center !important; white-space: normal !important; color: var(--jp-ui-font-color1) !important; }\n",
       "      th.tdhistory179581:last-child { text-align: left !important; }\n",
       "      tbody.tdhistory179581 tr:nth-child(even) { background: rgba(243, 243, 243, 0.75) !important; }\n",
       "      tbody.tdhistory179581 tr:nth-child(odd) { background: var(--jp-ui-inverse-font-color1) !important; }\n",
       "      td.tdhistory179581 { border: 1px solid rgb(207, 207, 207) !important; border-collapse: collapse !important; ; padding: 2px 5px !important; ; font-size: 13px !important; ; text-align: left !important;          white-space: nowrap !important; overflow:hidden !important; text-overflow:ellipsis !important;; }\n",
       "    </style><thead><tr style= \"background: rgba(243, 243, 243, 0.75)\"><th class=\"tdhistory179581\"></th><th class=\"tdhistory179581\">Explanation</th></tr></thead><tbody class=\"tdhistory179581 resultset-body\"><tr><th class=\"tdhistory179581\" style= \"background: rgba(243, 243, 243, 0.75)\">1</th><td class=\"tdhistory179581\"> This request is eligible for incremental planning and execution (IPE).</td></tr><tr><th class=\"tdhistory179581\" style= \"background: rgba(243, 243, 243, 0.75)\">2</th><td class=\"tdhistory179581\"> The following is the static plan for the request.</td></tr><tr><th class=\"tdhistory179581\" style= \"background: rgba(243, 243, 243, 0.75)\">3</th><td class=\"tdhistory179581\">  1) First, we lock demo.bh in TD_MAP2 for read on a reserved RowHash</td></tr><tr><th class=\"tdhistory179581\" style= \"background: rgba(243, 243, 243, 0.75)\">4</th><td class=\"tdhistory179581\">     to prevent global deadlock.</td></tr><tr><th class=\"tdhistory179581\" style= \"background: rgba(243, 243, 243, 0.75)\">5</th><td class=\"tdhistory179581\">  2) Next, we lock demo.am in TD_MAP2 for read on a reserved RowHash to</td></tr><tr><th class=\"tdhistory179581\" style= \"background: rgba(243, 243, 243, 0.75)\">6</th><td class=\"tdhistory179581\">     prevent global deadlock.</td></tr><tr><th class=\"tdhistory179581\" style= \"background: rgba(243, 243, 243, 0.75)\">7</th><td class=\"tdhistory179581\">  3) We lock demo.c in TD_MAP2 for read on a reserved RowHash to</td></tr><tr><th class=\"tdhistory179581\" style= \"background: rgba(243, 243, 243, 0.75)\">8</th><td class=\"tdhistory179581\">     prevent global deadlock.</td></tr><tr><th class=\"tdhistory179581\" style= \"background: rgba(243, 243, 243, 0.75)\">9</th><td class=\"tdhistory179581\">  4) We lock demo.bh in TD_MAP2 for read, we lock demo.am in TD_MAP2</td></tr><tr><th class=\"tdhistory179581\" style= \"background: rgba(243, 243, 243, 0.75)\">10</th><td class=\"tdhistory179581\">     for read, and we lock demo.c in TD_MAP2 for read.</td></tr><tr><th class=\"tdhistory179581\" style= \"background: rgba(243, 243, 243, 0.75)\">11</th><td class=\"tdhistory179581\">  5) We execute the following steps in parallel.</td></tr><tr><th class=\"tdhistory179581\" style= \"background: rgba(243, 243, 243, 0.75)\">12</th><td class=\"tdhistory179581\">       1) We do an all-AMPs RETRIEVE step executing table operator</td></tr><tr><th class=\"tdhistory179581\" style= \"background: rgba(243, 243, 243, 0.75)\">13</th><td class=\"tdhistory179581\">          TD_SYSFNLIB.QGINITIATORIMPORT in TD_MAP2 with a condition of</td></tr><tr><th class=\"tdhistory179581\" style= \"background: rgba(243, 243, 243, 0.75)\">14</th><td class=\"tdhistory179581\">          (\"(NOT (NAMEORIG IS NULL )) AND (ISFRAUD = 1)\").</td></tr><tr><th class=\"tdhistory179581\" style= \"background: rgba(243, 243, 243, 0.75)\">15</th><td class=\"tdhistory179581\">          < BEGIN EXPLAIN FOR REMOTE QUERY --></td></tr><tr><th class=\"tdhistory179581\" style= \"background: rgba(243, 243, 243, 0.75)\">16</th><td class=\"tdhistory179581\">          Remote Queries:</td></tr><tr><th class=\"tdhistory179581\" style= \"background: rgba(243, 243, 243, 0.75)\">17</th><td class=\"tdhistory179581\">          1. SELECT amount ,nameorig ,isfraud FROM</td></tr><tr><th class=\"tdhistory179581\" style= \"background: rgba(243, 243, 243, 0.75)\">18</th><td class=\"tdhistory179581\">          demo_schema.txn_history WHERE (NOT (NAMEORIG IS NULL )) AND</td></tr><tr><th class=\"tdhistory179581\" style= \"background: rgba(243, 243, 243, 0.75)\">19</th><td class=\"tdhistory179581\">          (ISFRAUD = 1)</td></tr><tr><th class=\"tdhistory179581\" style= \"background: rgba(243, 243, 243, 0.75)\">20</th><td class=\"tdhistory179581\">          [No explain information added from target]</td></tr><tr><th class=\"tdhistory179581\" style= \"background: rgba(243, 243, 243, 0.75)\">21</th><td class=\"tdhistory179581\">          <-- END EXPLAIN FOR REMOTE QUERY ></td></tr><tr><th class=\"tdhistory179581\" style= \"background: rgba(243, 243, 243, 0.75)\">22</th><td class=\"tdhistory179581\">          The size of Spool 6 is estimated with no confidence to be</td></tr><tr><th class=\"tdhistory179581\" style= \"background: rgba(243, 243, 243, 0.75)\">23</th><td class=\"tdhistory179581\">          80,000 rows (2,880,000 bytes).  The estimated time for this</td></tr><tr><th class=\"tdhistory179581\" style= \"background: rgba(243, 243, 243, 0.75)\">24</th><td class=\"tdhistory179581\">          step is 0.00 seconds.</td></tr><tr><th class=\"tdhistory179581\" style= \"background: rgba(243, 243, 243, 0.75)\">25</th><td class=\"tdhistory179581\">       2) We do a single-AMP RETRIEVE step from demo.bh metadata by way</td></tr><tr><th class=\"tdhistory179581\" style= \"background: rgba(243, 243, 243, 0.75)\">26</th><td class=\"tdhistory179581\">          of an all-rows scan with no residual conditions into Spool 5</td></tr><tr><th class=\"tdhistory179581\" style= \"background: rgba(243, 243, 243, 0.75)\">27</th><td class=\"tdhistory179581\">          (one-amp), which is built locally on that AMP.  Then we do a</td></tr><tr><th class=\"tdhistory179581\" style= \"background: rgba(243, 243, 243, 0.75)\">28</th><td class=\"tdhistory179581\">          SORT to order Spool 5 by the sort key.  The size of Spool 5</td></tr><tr><th class=\"tdhistory179581\" style= \"background: rgba(243, 243, 243, 0.75)\">29</th><td class=\"tdhistory179581\">          is estimated with low confidence to be 10 rows (7,050 bytes).</td></tr><tr><th class=\"tdhistory179581\" style= \"background: rgba(243, 243, 243, 0.75)\">30</th><td class=\"tdhistory179581\">          The estimated time for this step is 0.50 seconds.</td></tr><tr><th class=\"tdhistory179581\" style= \"background: rgba(243, 243, 243, 0.75)\">31</th><td class=\"tdhistory179581\">  6) We do a single-AMP RETRIEVE step from Spool 5 (Last Use) by way of</td></tr><tr><th class=\"tdhistory179581\" style= \"background: rgba(243, 243, 243, 0.75)\">32</th><td class=\"tdhistory179581\">     an all-rows scan into Spool 7 (all_amps), which is binpacked and</td></tr><tr><th class=\"tdhistory179581\" style= \"background: rgba(243, 243, 243, 0.75)\">33</th><td class=\"tdhistory179581\">     redistributed by size to all AMPs in TD_MAP2.  The size of Spool 7</td></tr><tr><th class=\"tdhistory179581\" style= \"background: rgba(243, 243, 243, 0.75)\">34</th><td class=\"tdhistory179581\">     is estimated with low confidence to be 10 rows (7,210 bytes).  The</td></tr><tr><th class=\"tdhistory179581\" style= \"background: rgba(243, 243, 243, 0.75)\">35</th><td class=\"tdhistory179581\">     estimated time for this step is 0.00 seconds.</td></tr><tr><th class=\"tdhistory179581\" style= \"background: rgba(243, 243, 243, 0.75)\">36</th><td class=\"tdhistory179581\">  7) We do an all-AMPs RETRIEVE step in TD_MAP2 from demo.bh</td></tr><tr><th class=\"tdhistory179581\" style= \"background: rgba(243, 243, 243, 0.75)\">37</th><td class=\"tdhistory179581\">     by way of external metadata in Spool 7 (Last Use) with a condition</td></tr><tr><th class=\"tdhistory179581\" style= \"background: rgba(243, 243, 243, 0.75)\">38</th><td class=\"tdhistory179581\">     of (\"NOT (demo.bh.customer_identifier IS NULL)\") into Spool 8</td></tr><tr><th class=\"tdhistory179581\" style= \"background: rgba(243, 243, 243, 0.75)\">39</th><td class=\"tdhistory179581\">     (all_amps) fanned out into 12 hash join partitions, which is built</td></tr><tr><th class=\"tdhistory179581\" style= \"background: rgba(243, 243, 243, 0.75)\">40</th><td class=\"tdhistory179581\">     locally on the AMPs.  The size of Spool 8 is estimated with low</td></tr><tr><th class=\"tdhistory179581\" style= \"background: rgba(243, 243, 243, 0.75)\">41</th><td class=\"tdhistory179581\">     confidence to be 628,619 rows (49,032,282 bytes).  The estimated</td></tr><tr><th class=\"tdhistory179581\" style= \"background: rgba(243, 243, 243, 0.75)\">42</th><td class=\"tdhistory179581\">     time for this step is 0.86 seconds.</td></tr><tr><th class=\"tdhistory179581\" style= \"background: rgba(243, 243, 243, 0.75)\">43</th><td class=\"tdhistory179581\">  8) We do an all-AMPs JOIN step in TD_MAP2 from demo.am by way of an</td></tr><tr><th class=\"tdhistory179581\" style= \"background: rgba(243, 243, 243, 0.75)\">44</th><td class=\"tdhistory179581\">     all-rows scan with a condition of (\"NOT</td></tr><tr><th class=\"tdhistory179581\" style= \"background: rgba(243, 243, 243, 0.75)\">45</th><td class=\"tdhistory179581\">     (demo.am.customer_identifier IS NULL)\"), which is joined to Spool</td></tr><tr><th class=\"tdhistory179581\" style= \"background: rgba(243, 243, 243, 0.75)\">46</th><td class=\"tdhistory179581\">     6 (Last Use) by way of an all-rows scan.  demo.am and Spool 6 are</td></tr><tr><th class=\"tdhistory179581\" style= \"background: rgba(243, 243, 243, 0.75)\">47</th><td class=\"tdhistory179581\">     joined using a single partition hash join, with a join condition</td></tr><tr><th class=\"tdhistory179581\" style= \"background: rgba(243, 243, 243, 0.75)\">48</th><td class=\"tdhistory179581\">     of (\"NAMEORIG = (TRANSLATE((demo.am.nameOrig )USING</td></tr><tr><th class=\"tdhistory179581\" style= \"background: rgba(243, 243, 243, 0.75)\">49</th><td class=\"tdhistory179581\">     LATIN_TO_UNICODE))\").  The result goes into Spool 9 (all_amps)</td></tr><tr><th class=\"tdhistory179581\" style= \"background: rgba(243, 243, 243, 0.75)\">50</th><td class=\"tdhistory179581\">     fanned out into 12 hash join partitions, which is duplicated on</td></tr><tr><th class=\"tdhistory179581\" style= \"background: rgba(243, 243, 243, 0.75)\">51</th><td class=\"tdhistory179581\">     all AMPs in TD_MAP2.  The size of Spool 9 is estimated with no</td></tr><tr><th class=\"tdhistory179581\" style= \"background: rgba(243, 243, 243, 0.75)\">52</th><td class=\"tdhistory179581\">     confidence to be 853,336 rows (47,786,816 bytes).  The estimated</td></tr><tr><th class=\"tdhistory179581\" style= \"background: rgba(243, 243, 243, 0.75)\">53</th><td class=\"tdhistory179581\">     time for this step is 0.09 seconds.</td></tr><tr><th class=\"tdhistory179581\" style= \"background: rgba(243, 243, 243, 0.75)\">54</th><td class=\"tdhistory179581\">  9) We do an all-AMPs RETRIEVE step in TD_MAP2 from demo.c by way of</td></tr><tr><th class=\"tdhistory179581\" style= \"background: rgba(243, 243, 243, 0.75)\">55</th><td class=\"tdhistory179581\">     an all-rows scan with a condition of (\"NOT</td></tr><tr><th class=\"tdhistory179581\" style= \"background: rgba(243, 243, 243, 0.75)\">56</th><td class=\"tdhistory179581\">     (demo.c.customer_identifier IS NULL)\") into Spool 10 (all_amps),</td></tr><tr><th class=\"tdhistory179581\" style= \"background: rgba(243, 243, 243, 0.75)\">57</th><td class=\"tdhistory179581\">     which is duplicated on all AMPs in TD_MAP2.  The size of Spool 10</td></tr><tr><th class=\"tdhistory179581\" style= \"background: rgba(243, 243, 243, 0.75)\">58</th><td class=\"tdhistory179581\">     is estimated with low confidence to be 106,304 rows (7,866,496</td></tr><tr><th class=\"tdhistory179581\" style= \"background: rgba(243, 243, 243, 0.75)\">59</th><td class=\"tdhistory179581\">     bytes).  The estimated time for this step is 0.01 seconds.</td></tr><tr><th class=\"tdhistory179581\" style= \"background: rgba(243, 243, 243, 0.75)\">60</th><td class=\"tdhistory179581\"> 10) We execute the following steps in a pipeline.</td></tr><tr><th class=\"tdhistory179581\" style= \"background: rgba(243, 243, 243, 0.75)\">61</th><td class=\"tdhistory179581\">      1) We do an all-AMPs JOIN step in TD_MAP2 from Spool 8 (Last Use)</td></tr><tr><th class=\"tdhistory179581\" style= \"background: rgba(243, 243, 243, 0.75)\">62</th><td class=\"tdhistory179581\">         by way of an all-rows scan, which is joined to Spool 9 (Last</td></tr><tr><th class=\"tdhistory179581\" style= \"background: rgba(243, 243, 243, 0.75)\">63</th><td class=\"tdhistory179581\">         Use) by way of an all-rows scan.  Spool 8 and Spool 9 are</td></tr><tr><th class=\"tdhistory179581\" style= \"background: rgba(243, 243, 243, 0.75)\">64</th><td class=\"tdhistory179581\">         joined using a hash join of 12 partitions, with a join</td></tr><tr><th class=\"tdhistory179581\" style= \"background: rgba(243, 243, 243, 0.75)\">65</th><td class=\"tdhistory179581\">         condition of (\"customer_identifier = customer_identifier\").</td></tr><tr><th class=\"tdhistory179581\" style= \"background: rgba(243, 243, 243, 0.75)\">66</th><td class=\"tdhistory179581\">         The result goes into Pipeline 11 (all_amps), which is built</td></tr><tr><th class=\"tdhistory179581\" style= \"background: rgba(243, 243, 243, 0.75)\">67</th><td class=\"tdhistory179581\">         locally on the AMPs.  The result spool file will not be cached</td></tr><tr><th class=\"tdhistory179581\" style= \"background: rgba(243, 243, 243, 0.75)\">68</th><td class=\"tdhistory179581\">         in memory.  The size of Pipeline 11 is estimated with no</td></tr><tr><th class=\"tdhistory179581\" style= \"background: rgba(243, 243, 243, 0.75)\">69</th><td class=\"tdhistory179581\">         confidence to be 84,571,461 rows (10,233,146,781 bytes).  The</td></tr><tr><th class=\"tdhistory179581\" style= \"background: rgba(243, 243, 243, 0.75)\">70</th><td class=\"tdhistory179581\">         estimated time for this step is 17.52 seconds.</td></tr><tr><th class=\"tdhistory179581\" style= \"background: rgba(243, 243, 243, 0.75)\">71</th><td class=\"tdhistory179581\">      2) We do an all-AMPs JOIN step in TD_MAP2 from Spool 10 (Last</td></tr><tr><th class=\"tdhistory179581\" style= \"background: rgba(243, 243, 243, 0.75)\">72</th><td class=\"tdhistory179581\">         Use) by way of an all-rows scan, which is joined to Pipeline</td></tr><tr><th class=\"tdhistory179581\" style= \"background: rgba(243, 243, 243, 0.75)\">73</th><td class=\"tdhistory179581\">         11 (Last Use) by way of an all-rows scan.  Spool 10 and</td></tr><tr><th class=\"tdhistory179581\" style= \"background: rgba(243, 243, 243, 0.75)\">74</th><td class=\"tdhistory179581\">         Pipeline 11 are joined using a single partition hash join,</td></tr><tr><th class=\"tdhistory179581\" style= \"background: rgba(243, 243, 243, 0.75)\">75</th><td class=\"tdhistory179581\">         with a join condition of (\"(customer_identifier =</td></tr><tr><th class=\"tdhistory179581\" style= \"background: rgba(243, 243, 243, 0.75)\">76</th><td class=\"tdhistory179581\">         customer_identifier) AND (customer_identifier =</td></tr><tr><th class=\"tdhistory179581\" style= \"background: rgba(243, 243, 243, 0.75)\">77</th><td class=\"tdhistory179581\">         customer_identifier)\").  The result goes into Spool 2 (used to</td></tr><tr><th class=\"tdhistory179581\" style= \"background: rgba(243, 243, 243, 0.75)\">78</th><td class=\"tdhistory179581\">         materialize view, derived table, table function or table</td></tr><tr><th class=\"tdhistory179581\" style= \"background: rgba(243, 243, 243, 0.75)\">79</th><td class=\"tdhistory179581\">         operator TblOpInputSpool) (all_amps), which is redistributed</td></tr><tr><th class=\"tdhistory179581\" style= \"background: rgba(243, 243, 243, 0.75)\">80</th><td class=\"tdhistory179581\">         by hash code to all AMPs in TD_DATADICTIONARYMAP.  Then we do</td></tr><tr><th class=\"tdhistory179581\" style= \"background: rgba(243, 243, 243, 0.75)\">81</th><td class=\"tdhistory179581\">         a SORT to order Spool 2 by the sort key in spool field1.  The</td></tr><tr><th class=\"tdhistory179581\" style= \"background: rgba(243, 243, 243, 0.75)\">82</th><td class=\"tdhistory179581\">         result spool file will not be cached in memory.  The size of</td></tr><tr><th class=\"tdhistory179581\" style= \"background: rgba(243, 243, 243, 0.75)\">83</th><td class=\"tdhistory179581\">         Spool 2 is estimated with no confidence to be 122,200,093 rows</td></tr><tr><th class=\"tdhistory179581\" style= \"background: rgba(243, 243, 243, 0.75)\">84</th><td class=\"tdhistory179581\">         (21,262,816,182 bytes).  The estimated time for this step is 2</td></tr><tr><th class=\"tdhistory179581\" style= \"background: rgba(243, 243, 243, 0.75)\">85</th><td class=\"tdhistory179581\">         minutes and 5 seconds.</td></tr><tr><th class=\"tdhistory179581\" style= \"background: rgba(243, 243, 243, 0.75)\">86</th><td class=\"tdhistory179581\"> 11) We do an all-AMPs RETRIEVE step in TD_DATADICTIONARYMAP from Spool</td></tr><tr><th class=\"tdhistory179581\" style= \"background: rgba(243, 243, 243, 0.75)\">87</th><td class=\"tdhistory179581\">     2 (Last Use) by way of an all-rows scan executing table operator</td></tr><tr><th class=\"tdhistory179581\" style= \"background: rgba(243, 243, 243, 0.75)\">88</th><td class=\"tdhistory179581\">     TD_SYSFNLIB.NPATH in TD_DATADICTIONARYMAP with a condition of (</td></tr><tr><th class=\"tdhistory179581\" style= \"background: rgba(243, 243, 243, 0.75)\">89</th><td class=\"tdhistory179581\">     \"(1=1)\") into Spool 4 (group_amps), which is built locally on the</td></tr><tr><th class=\"tdhistory179581\" style= \"background: rgba(243, 243, 243, 0.75)\">90</th><td class=\"tdhistory179581\">     AMPs.  The result spool file will not be cached in memory.  The</td></tr><tr><th class=\"tdhistory179581\" style= \"background: rgba(243, 243, 243, 0.75)\">91</th><td class=\"tdhistory179581\">     size of Spool 4 is estimated with no confidence to be 122,200,093</td></tr><tr><th class=\"tdhistory179581\" style= \"background: rgba(243, 243, 243, 0.75)\">92</th><td class=\"tdhistory179581\">     rows (2,629,746,001,360 bytes).  The estimated time for this step</td></tr><tr><th class=\"tdhistory179581\" style= \"background: rgba(243, 243, 243, 0.75)\">93</th><td class=\"tdhistory179581\">     is 29.52 seconds.</td></tr><tr><th class=\"tdhistory179581\" style= \"background: rgba(243, 243, 243, 0.75)\">94</th><td class=\"tdhistory179581\"> 12) Finally, we send out an END TRANSACTION step to all AMPs involved</td></tr><tr><th class=\"tdhistory179581\" style= \"background: rgba(243, 243, 243, 0.75)\">95</th><td class=\"tdhistory179581\">     in processing the request.</td></tr><tr><th class=\"tdhistory179581\" style= \"background: rgba(243, 243, 243, 0.75)\">96</th><td class=\"tdhistory179581\">  -> The contents of Spool 4 are sent back to the user as the result of</td></tr><tr><th class=\"tdhistory179581\" style= \"background: rgba(243, 243, 243, 0.75)\">97</th><td class=\"tdhistory179581\">     statement 1.  The total estimated time is 2 minutes and 53 seconds.</td></tr></tbody></table></div>"
      ]
     },
     "execution_count": 36,
     "metadata": {
      "application/vnd.teradata.resultset": "{\"resultSetID\":\"/home/jovyan/JupyterLabRoot/Teradata/Resultsets/2024.01.04_18.19.20.797_UTC\",\"historyID\":8917,\"chunkID\":\"00001\",\"sessionid\":\"\",\"portnum\":\"\",\"dockermode\":\"docker\",\"totalRowCount\":97,\"chunkCount\":0,\"rowLimit\":0,\"columnMetadata\":[{\"columnName\":\"Explanation\",\"columnTypeName\":\"VARCHAR\",\"length\":80,\"scale\":80}]}"
     },
     "output_type": "execute_result"
    }
   ],
   "source": [
    "--EXPLAIN\n",
    "SELECT * FROM NPATH \n",
    "    (ON ( \n",
    "        SELECT \n",
    "                bh.customer_identifier, \n",
    "                bh.interaction_session_number, \n",
    "                bh.interaction_timestamp, \n",
    "                bh.interaction_type, \n",
    "                txn.amount, \n",
    "                c.firstname, \n",
    "                c.lastname \n",
    " \n",
    " \n",
    "                FROM demo_schema.txn_history@fs_postgres txn, demo.Banking_History_S3 bh,  \n",
    "                    demo.Customers_BFS c, demo.Accounts_Mapping_BFS am \n",
    " \n",
    " \n",
    "                WHERE txn.isFraud = 1 AND \n",
    "                    txn.nameOrig= am.nameOrig AND \n",
    "                    am.customer_identifier = bh.customer_identifier AND \n",
    "                    am.customer_identifier = c.customer_identifier \n",
    "        ) \n",
    "         \n",
    "        PARTITION BY interaction_session_number \n",
    "        ORDER BY interaction_timestamp \n",
    "    USING \n",
    "        MODE (NONOVERLAPPING) \n",
    "        SYMBOLS (TRUE AS A) \n",
    "        PATTERN ('A*') \n",
    "        RESULT (FIRST (interaction_timestamp of A) as start_time,  \n",
    "                FIRST (customer_identifier of A) as customer_identifier, \n",
    "                FIRST (firstname of A) as firstname,  \n",
    "                FIRST (lastname of A) as lastname, \n",
    "                FIRST (amount of A) as fraud_amount, \n",
    "                ACCUMULATE (interaction_type of ANY(A)) as path, \n",
    "                FIRST (interaction_session_number of A) as interaction_session_number )); "
   ]
  },
  {
   "cell_type": "code",
   "execution_count": 20,
   "id": "hairy-fountain",
   "metadata": {},
   "outputs": [
    {
     "name": "stdout",
     "output_type": "stream",
     "text": [
      "Success: 'lake_demo' disconnected"
     ]
    }
   ],
   "source": [
    "%disconnect lake_demo"
   ]
  },
  {
   "cell_type": "code",
   "execution_count": null,
   "id": "welsh-respondent",
   "metadata": {},
   "outputs": [],
   "source": []
  }
 ],
 "metadata": {
  "kernelspec": {
   "display_name": "Teradata SQL",
   "language": "Teradata SQL",
   "name": "teradatasql"
  },
  "language_info": {
   "codemirror_mode": "Teradata SQL",
   "file_extension": ".tdrs",
   "mimetype": "application/vnd.teradata.resultset",
   "name": "Teradata SQL",
   "nbconvert_exporter": "",
   "pygments_lexer": "",
   "version": "16.20"
  },
  "toc-autonumbering": false,
  "toc-showmarkdowntxt": true,
  "toc-showtags": false
 },
 "nbformat": 4,
 "nbformat_minor": 5
}
