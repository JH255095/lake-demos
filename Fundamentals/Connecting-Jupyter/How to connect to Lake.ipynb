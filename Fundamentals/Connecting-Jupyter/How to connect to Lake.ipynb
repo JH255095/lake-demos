{
 "cells": [
  {
   "cell_type": "markdown",
   "id": "arctic-engine",
   "metadata": {},
   "source": [
    "<header>\n",
    "   <p  style='font-size:36px;font-family:Arial; color:#F0F0F0; background-color: #00233c; padding-left: 20pt; padding-top: 20pt;padding-bottom: 10pt; padding-right: 20pt;'>\n",
    "       Connecting Jupyter to VantageCloud Lake\n",
    "  <br>\n",
    "       <img id=\"teradata-logo\" src=\"../../images/TeradataLogo.png\" alt=\"Teradata\" style=\"width: 125px; height: auto; margin-top: 20pt;\">\n",
    "    </p>\n",
    "</header>\n",
    "<hr>\n",
    "\n",
    "<br>\n",
    "\n",
    "<p style = 'font-size:18px;font-family:Arial;color:#00233C'><b>Step-by-step guide to connecting Jupyter to VantageCloud Lake.</b></p>\n",
    "\n",
    "<br>\n",
    "\n",
    "<p style = 'font-size:16px;font-family:Arial;color:#00233C'>VantageCloud Lake supports secure, driver-based client connections from both the public internet and private link connections on port 1025.  For public IP access, the allowed client IP address or IP <a href = 'https://en.wikipedia.org/wiki/Classless_Inter-Domain_Routing'>CIDR</a> range must be set in VantageCloud Lake Console.  This notebook will walk the user through the process of obtaining their IP address and setting up the Lake Console whitelisting.</p>"
   ]
  },
  {
   "cell_type": "markdown",
   "id": "cloudy-ethiopia",
   "metadata": {},
   "source": [
    "<hr>\n",
    "<p style = 'font-size:24px;font-family:Arial;color:#00233C'><b>Step 1 - Check to see if this Jupyter client has access</b></p>\n",
    "\n",
    "<p style = 'font-size:16px;font-family:Arial;color:#00233C'>Enter the Lake Environment IP address, valid username and password at the prompts.  If the code returns \"Connection successful\", then no need to proceed through the rest of this notebook.  If the connection fails, it may either be the wrong IP/IP Whitelist issues, or some other error.</p>"
   ]
  },
  {
   "cell_type": "code",
   "execution_count": null,
   "id": "careful-doubt",
   "metadata": {},
   "outputs": [],
   "source": [
    "import teradatasql\n",
    "from getpass import getpass\n",
    "\n",
    "host = input('Enter Lake IP Address: ')\n",
    "username = input('Enter Database User: ')\n",
    "password = getpass(f'Password for {username}: ')\n",
    "\n",
    "try:\n",
    "    con = teradatasql.connect(host = host, user = username, password = password)\n",
    "    print('Connection successful!')\n",
    "    con.close()\n",
    "except Exception as e:\n",
    "    if 'Failed to connect' in str(e.args):\n",
    "        print('Connection failure, most likely wrong IP or IP Whitelist')\n",
    "        pass\n",
    "    else:\n",
    "        print('Other failure; see exception trace')\n",
    "        raise"
   ]
  },
  {
   "cell_type": "markdown",
   "id": "earlier-flesh",
   "metadata": {},
   "source": [
    "<hr>\n",
    "<p style = 'font-size:24px;font-family:Arial;color:#00233C'><b>Step 2 - If needed, obtain the Jupyter client IP address or CIDR Range to whitelist</b></p>\n",
    "\n",
    "<p style = 'font-size:16px;font-family:Arial;color:#00233C'>Execute the following code block by keying Shift->Enter or the \"play\" (triangle) icon above</p>"
   ]
  },
  {
   "cell_type": "code",
   "execution_count": null,
   "id": "plastic-truck",
   "metadata": {},
   "outputs": [],
   "source": [
    "from requests import get\n",
    "\n",
    "ip = get('https://api.ipify.org').content.decode('utf8')\n",
    "print('My public IP address is: \\n{}'.format(ip))"
   ]
  },
  {
   "cell_type": "markdown",
   "id": "expressed-flooring",
   "metadata": {},
   "source": [
    "<hr>\n",
    "<p style = 'font-size:20px;font-family:Arial;color:#00233C'><b>Optional - create a CIDR range from a range of IP addresses</b></p>\n",
    "\n",
    "<p style = 'font-size:16px;font-family:Arial;color:#00233C'>If you know a range of IP addresses to whitelist, execute the following code and it will return one or more CIDR ranges that will be used to whitelist the IPs in Lake Console.</p>"
   ]
  },
  {
   "cell_type": "code",
   "execution_count": null,
   "id": "operational-climb",
   "metadata": {},
   "outputs": [],
   "source": [
    "import ipaddress\n",
    "startip = ipaddress.IPv4Address(input('Starting IP Address:'))\n",
    "endip = ipaddress.IPv4Address(input('Ending IP Address:'))\n",
    "[ipaddr for ipaddr in ipaddress.summarize_address_range(startip, endip)]"
   ]
  },
  {
   "cell_type": "markdown",
   "id": "binary-stadium",
   "metadata": {},
   "source": [
    "<hr>\n",
    "<p style = 'font-size:20px;font-family:Arial;color:#00233C'><b>Optional - validate a CIDR Range</b></p>\n",
    "\n",
    "<p style = 'font-size:16px;font-family:Arial;color:#00233C'>If you wish to test a CIDR range to see if your IP is in it:</p>"
   ]
  },
  {
   "cell_type": "code",
   "execution_count": null,
   "id": "overall-poker",
   "metadata": {},
   "outputs": [],
   "source": [
    "import ipaddress\n",
    "\n",
    "IP_Range = ipaddress.ip_interface(input('Enter Range in IP/Mask Form: '))\n",
    "\n",
    "Net_Addr = IP_Range.network\n",
    "\n",
    "IP_Addr = ipaddress.ip_address(input('Enter your IP Address: '))\n",
    "\n",
    "#check if it's a /32\n",
    "if ipaddress.ip_interface(IP_Addr).network == Net_Addr:\n",
    "    print('Network range is a single IP address')\n",
    "else:\n",
    "    print('First IP : ' , list(Net_Addr.hosts())[0])\n",
    "    print('Last IP : ' , list(Net_Addr.hosts())[-1])\n",
    "\n",
    "    if IP_Addr in Net_Addr.hosts():\n",
    "        print(f'Your IP Address of {str(IP_Addr)} IS in the {str(Net_Addr)} Range')\n",
    "    else:\n",
    "        print(f'Your IP Address of {str(IP_Addr)} NOT in the {str(Net_Addr)} Range')"
   ]
  },
  {
   "cell_type": "markdown",
   "id": "dense-telling",
   "metadata": {},
   "source": [
    "<hr>\n",
    "<p style = 'font-size:24px;font-family:Arial;color:#00233C'><b>Step 3 - Add CIDR to Lake Whitelist</b></p>\n",
    "\n",
    "<p style = 'font-size:16px;font-family:Arial;color:#00233C'>Perform the following steps:</p>\n",
    "\n",
    "<ol style = 'font-size:16px;font-family:Arial;color:#00233C'>\n",
    "    <li>Log into VantageCloud Lake Console as <b>Organizational Admin</b></li>\n",
    "    <li>Navigate to your environment, select <b>Settings</b> tab</li>\n",
    "    <li>Verify the \"Internet Connection\" checkbox under <b>Connection type</b> is selected</li>\n",
    "    <li>Enter your CIDR Range (/32 for a single address) in the textbox labeled <b>IP address access</b></li>\n",
    "    <li>Click <b>Save</b></li>\n",
    "    </ol>\n",
    "<img src = 'images/Lake_Settings.png'>"
   ]
  },
  {
   "cell_type": "markdown",
   "id": "broadband-fields",
   "metadata": {},
   "source": [
    "<hr>\n",
    "<p style = 'font-size:20px;font-family:Arial;color:#00233C'><b>Optional - recheck access</b></p>\n",
    "\n",
    "<p style = 'font-size:16px;font-family:Arial;color:#00233C'>Enter the Lake Environment IP address, valid username and password at the prompts.  If the code returns \"Connection successful\", then no need to proceed through the rest of this notebook.  If the connection fails, it may either be the wrong IP/IP Whitelist issues, or some other error.</p>"
   ]
  },
  {
   "cell_type": "code",
   "execution_count": null,
   "id": "appropriate-murder",
   "metadata": {},
   "outputs": [],
   "source": [
    "import teradatasql\n",
    "from getpass import getpass\n",
    "\n",
    "host = input('Enter Lake IP Address: ')\n",
    "username = input('Enter Database User: ')\n",
    "password = getpass(f'Password for {username}: ')\n",
    "\n",
    "try:\n",
    "    con = teradatasql.connect(host = host, user = username, password = password)\n",
    "    print('Connection successful!')\n",
    "    con.close()\n",
    "except Exception as e:\n",
    "    if 'Failed to connect' in str(e.args):\n",
    "        print('Connection failure, most likely wrong IP or IP Whitelist')\n",
    "        pass\n",
    "    else:\n",
    "        print('Other failure; see exception trace')\n",
    "        raise"
   ]
  }
 ],
 "metadata": {
  "kernelspec": {
   "display_name": "Python 3 (ipykernel)",
   "language": "python",
   "name": "python3"
  },
  "language_info": {
   "codemirror_mode": {
    "name": "ipython",
    "version": 3
   },
   "file_extension": ".py",
   "mimetype": "text/x-python",
   "name": "python",
   "nbconvert_exporter": "python",
   "pygments_lexer": "ipython3",
   "version": "3.8.8"
  }
 },
 "nbformat": 4,
 "nbformat_minor": 5
}
