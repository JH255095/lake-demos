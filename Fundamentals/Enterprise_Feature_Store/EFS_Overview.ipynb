{
 "cells": [
  {
   "cell_type": "markdown",
   "metadata": {},
   "source": [
    "<header>\n",
    "   <p  style='font-size:36px;font-family:Arial; color:#F0F0F0; background-color: #00233c; padding-left: 20pt; padding-top: 20pt;padding-bottom: 10pt; padding-right: 20pt;'>\n",
    "      Enterprise Feature Store Functions - Getting Started\n",
    "  <br>\n",
    "       <img id=\"teradata-logo\" src=\"images/TeradataLogo.png\" alt=\"Teradata\" style=\"width: 125px; height: auto; margin-top: 20pt;\">\n",
    "    </p>\n",
    "</header>\n",
    "<hr>\n",
    "\n",
    "<p style = 'font-size:28px;font-family:Arial;color:#00233C'><b>Overview</b></p>\n",
    "<p style = 'font-size:16px;font-family:Arial;color:#00233C'>Feature Store, also known as Teradata Enterprise Feature Store or Teradata EFS, is a centralized Repository to store and manage the life cycle of Features which are used in ML Models. Along with Features, it also allows users to store the components required for building an ML Model. So, users don't need to alter their ML pipeline even if they modify underlying Features or Data Source which are used while building ML Model.</p>\n",
    "\n",
    "<p style = 'font-size:16px;font-family:Arial;color:#00233C'>The following are few of many advantages of Feature Store:</p>\n",
    "<ul style = 'font-size:16px;font-family:Arial;color:#00233C'>\n",
    "    <li>The same features can be used for multiple ML models. So, there is less or no duplication of features</li>\n",
    "    <li>Feature Store decouples model generation from feature fngineering. So, Data Scientists can focus on model generation while Data Engineers can focus on Feature Engineering</li>\n",
    "    <li>Since Features are stored and versioned with a defined name, users can improve the trust and reliability of the analytic results or models. This is much helpful when users are dealing ML models with large number of features</li>\n",
    "    </ul>\n",
    "\n",
    "<p style = 'font-size:28px;font-family:Arial;color:#00233C'><b>Key Concepts of the Enterprise Feature Store (EFS) SDK</b></p>\n",
    "\n",
    "<p style = 'font-size:16px;font-family:Arial;color:#00233C'>The Enterprise Feature Store (EFS) SDK is designed with an object-oriented approach, focusing on intuitive interaction with feature stores. Central to this design are several core objects: <b>Feature</b>, <b>Entity</b>, <b>Data Source</b>, and <b>Feature Group</b>. Together, these objects facilitate the efficient management and utilization of features within the data ecosystem, leveraging Teradata Vantage for metadata storage. Here's a closer look at each of these objects and their roles:</p>\n",
    "<img src = ''>\n",
    "\n",
    "<p style = 'font-size:16px;font-family:Arial;color:#00233C'>This notebook contains several high-level demonstrations that can be run together or individually, and are designed to illustrate;</p>\n",
    "<ul style = 'font-size:16px;font-family:Arial;color:#00233C'>\n",
    "    <li><b>Feature</b>.  A feature represents a single, distinct piece of data that can be used in machine learning models. Features are the fundamental building blocks of the EFS, designed to encapsulate specific data types, validation rules, and metadata essential for downstream analysis and modeling</li>\n",
    "    <li><b>Entity</b>. An entity serves as the anchor for one or more Features, grouping them by a common identifier. This shared identifier ensures that features within an entity relate to the same logical unit, such as a customer or transaction. The Entity concept ensures data consistency and simplifies the management of feature relationships</li>\n",
    "    <li><b>Data Source</b>. The DataSource object provides a flexible mapping between the results of a SQL query or DataFrame and Features. It describes how raw data from Teradata Vantage can be transformed into structured features ready for machine learning. This abstraction allows for the separation of data retrieval logic from feature management, promoting modularity and reuse</li>\n",
    "    <li><b>Feature Group</b>. A FeatureGroup represents a collection of Features that are related by a common Entity and originate from the same DataSource. By grouping features this way, the EFS SDK encourages logical organization of features and simplifies batch operations like updates, retrievals, and analysis</li>\n",
    "    <li><b>Repository</b>. A Repository is a logical workspace to enable the user to work in their Feature Groups, with the possibility to promote features between repositories. This enables the possibility to have personal repositories (for example, a Lab), team repositories to collaborate and a central production repository</li>\n",
    "    </ul>\n",
    "\n",
    "<b style = 'font-size:28px;font-family:Arial;color:#00233C'>Key learnings in this notebook</b>\n",
    "\n",
    "\n",
    "<p style = 'font-size:16px;font-family:Arial;color:#00233C'>This notebook is designed to guide the user through a series of practical exercises that demonstrate the use of Teradata's Enterprise Feature Store capabilities. By the end of this tutorial, you will have a comprehensive understanding of how to manage and utilize feature stores for machine learning workflows. Here's what you'll learn:</p>\n",
    "\n",
    "<ol style = 'font-size:16px;font-family:Arial;color:#00233C'>\n",
    "        <li><b>Set up a Feature Store Repository and Grant access on it to users</b><ul style = 'width:100%;table-layout:fixed;font-family:Arial;color:#00233C'><li>Set up a new feature store Repository which serves as the foundational environment for storing and managing objects used in the analytic or ML lifecycle</li><li>Grant and/or revoke read, write, or read/write authorization to other user(s)</li></ul></li>\n",
    "        <br>      \n",
    "    <li><b>Create and Register objects in the Feature Store Repository</b><ul style = 'width:100%;table-layout:fixed;font-family:Arial;color:#00233C'>\n",
    "        <li>Create a <b>Feature</b> from a DataFrame or SQL</li>\n",
    "        <li>Create an <b>Entity</b> from a DataFrame or SQL</li>\n",
    "        <li>Create a <b>Data Source</b> using a DataFrame or SQL</li>\n",
    "        <li>Create a <b>Feature Group</b> using multiple methods</li></ul></li>\n",
    "        <br>\n",
    "        <li><b>Managing Feature Store Objects</b><ul style = 'width:100%;table-layout:fixed;font-family:Arial;color:#00233C'>\n",
    "            <li><b>Object Search</b>.  Explore methods to search in Features, Entities, DataSources and FeatureGroups.</li>\n",
    "            <li><b>Modifying Objects</b>.  Explore methods to modify existing features and other objects within the Enterprise Feature Store to adapt to changes in the data or analysis requirements</li>\n",
    "            <li><b>Combining multiple Feature Groups</b>.  Explore how to combine multiple FeatureGroups to a single FeatureGroup and store the combined FeatureGroup within the Enterprise Feature Store</li>\n",
    "            <li><b>Archive and Delete objects</b>.  Explore methods for archival and deletion of different objects from the Feature Store.</li></ul></li>\n",
    "        <br>\n",
    "        <li><b>Creating Datasets and historic Datasets for ML models</b><ul style = 'width:100%;table-layout:fixed;font-family:Arial;color:#00233C'>\n",
    "                    <li>Teradata EFS approach to get Datasets or historic Datasets to train an ML Model</li></ul></li>\n",
    "        <br>\n",
    "        <li><b>Use Enterprise Feature Store with teradataml analytic functions</b><ul style = 'width:100%;table-layout:fixed;font-family:Arial;color:#00233C'>\n",
    "                    <li>Apply Teradata EFS Functions to create a suitable data set for training a machine learning model, ensuring it is clean, well-structured, and aligned with the model requirements.</li></ul></li>\n",
    "        <br>\n",
    "        <li><b>Repository Governance</b><ul style = 'width:100%;table-layout:fixed;font-family:Arial;color:#00233C'>\n",
    "                    <li>Promote features from one repository to another repository.</li></ul></li>\n",
    "</ol>\n",
    "\n",
    "<hr>"
   ]
  },
  {
   "cell_type": "markdown",
   "metadata": {},
   "source": [
    "<p style = 'font-size:18px;font-family:Arial;color:#00233C'><b>Python Package Installation</b></p>\n",
    "\n",
    "<p style = 'font-size:16px;font-family:Arial;color:#00233C'>If necessary, install required client packages for the demonstrations.  User may need to restart the Jupyter kernel after installation.</p> "
   ]
  },
  {
   "cell_type": "code",
   "execution_count": null,
   "metadata": {},
   "outputs": [],
   "source": [
    "%pip install -r requirements.txt"
   ]
  },
  {
   "cell_type": "markdown",
   "metadata": {},
   "source": [
    "<hr>\n",
    "\n",
    "<p style = 'font-size:18px;font-family:Arial;color:#00233C'><b>Python Package Imports</b></p>\n",
    "\n",
    "<p style = 'font-size:16px;font-family:Arial;color:#00233C'>Standard practice to import required packages and libraries; execute this cell to import packages for Teradata automation as well as machine learning, analytics, utility, and data management packages.</p> "
   ]
  },
  {
   "cell_type": "code",
   "execution_count": null,
   "metadata": {},
   "outputs": [],
   "source": [
    "from teradataml import *\n",
    "from lake_utils import *\n",
    "\n",
    "\n",
    "from IPython.display import clear_output , display as ipydisplay\n",
    "import matplotlib.pyplot as plt\n",
    "\n",
    "%matplotlib inline\n",
    "warnings.filterwarnings('ignore')\n",
    "display.suppress_vantage_runtime_warnings = True\n",
    "\n",
    "\n",
    "# load vars json\n",
    "with open('vars.json', 'r') as f:\n",
    "    session_vars = json.load(f)\n",
    "\n",
    "# Database login information\n",
    "host = session_vars['environment']['host']\n",
    "username = session_vars['hierarchy']['users']['business_users'][1]['username']\n",
    "password = session_vars['hierarchy']['users']['business_users'][1]['password']\n",
    "\n",
    "compute_group = session_vars['hierarchy']['users']['business_users'][1]['compute_group']\n",
    "\n",
    "print('All session variables loaded')"
   ]
  },
  {
   "cell_type": "markdown",
   "metadata": {},
   "source": [
    "<hr>\n",
    "\n",
    "<p style = 'font-size:18px;font-family:Arial;color:#00233C'><b>Connect to the database</b></p>\n",
    "\n",
    "<p style = 'font-size:16px;font-family:Arial;color:#00233C'>Check for and existing connection, set the session to the current compute group.  Check to see if the compute group is running, start it if necessary</p> "
   ]
  },
  {
   "cell_type": "code",
   "execution_count": null,
   "metadata": {},
   "outputs": [],
   "source": [
    "# check for existing connection\n",
    "eng = check_and_connect(host=host, username=username, password=password, compute_group = compute_group)\n",
    "print(eng)"
   ]
  },
  {
   "cell_type": "code",
   "execution_count": null,
   "metadata": {},
   "outputs": [],
   "source": [
    "# check cluster status\n",
    "res = check_cluster_start(compute_group = compute_group)"
   ]
  },
  {
   "cell_type": "markdown",
   "metadata": {},
   "source": [
    "<hr>\n",
    "\n",
    "<p style = 'font-size:18px;font-family:Arial;color:#00233C'><b>Getting data for the notebook</b></p>\n",
    "\n",
    "<p style = 'font-size:16px;font-family:Arial;color:#00233C'>This demonstration uses sample data packaged with teradataml. The load_example_data() function will create two tables in Vantage; <b>patient_profile</b> and <b>medical_readings</b></p> "
   ]
  },
  {
   "cell_type": "code",
   "execution_count": null,
   "metadata": {},
   "outputs": [],
   "source": [
    "load_example_data('dataframe', 'patient_profile')\n",
    "load_example_data('dataframe', 'medical_readings')\n",
    "\n",
    "tdf_patient_profile = DataFrame('patient_profile')\n",
    "print('Patient Profile:')\n",
    "ipydisplay(tdf_patient_profile)\n",
    "\n",
    "tdf_medical_readings = DataFrame('medical_readings')\n",
    "print('Medical Readings:')\n",
    "ipydisplay(tdf_medical_readings)"
   ]
  },
  {
   "cell_type": "markdown",
   "metadata": {},
   "source": [
    "<hr>\n",
    "   <p  style='font-size:36px;font-family:Arial; color:#F0F0F0; background-color: #00233c; padding-left: 20pt; padding-top: 20pt;padding-bottom: 10pt; padding-right: 20pt;'>\n",
    "      1.  Feature Store Management\n",
    "  <br>\n",
    "    </p>\n",
    "\n",
    "\n",
    "\n",
    "<p style = 'font-size:16px;font-family:Arial;color:#00233C'>The Teradata Vantage Python Client Library provides simple, powerful methods for the creation and management of Feature Store \"Repositories\".  Repositories contain objects including <b>entities</b>, <b>featues</b>, <b>data sources</b>, and <b>feature groups</b>.</p>"
   ]
  },
  {
   "cell_type": "markdown",
   "metadata": {},
   "source": [
    "<hr>\n",
    "\n",
    "<p style = 'font-size:18px;font-family:Arial;color:#00233C'><b>Create and manage a Feature Store Repository</b></p>\n",
    "\n",
    "<p style = 'font-size:16px;font-family:Arial;color:#00233C'>First set up the Feature Store with repostory name as 'LabRepoOne'.  Users require CREATE DATABASE rights to the database or location where the repository will be created.  Please see the full list of requirements in the teradataml documentation.</p> \n",
    "<ul style = 'font-size:16px;font-family:Arial;color:#00233C'>\n",
    "    <li>List existing repositories</li>\n",
    "    <li>Create one if desired</li>\n",
    "    <li>Grant and revoke user access to the repository</li>\n",
    "    </ul>"
   ]
  },
  {
   "cell_type": "code",
   "execution_count": null,
   "metadata": {},
   "outputs": [],
   "source": [
    "# List existing repos\n",
    "FeatureStore.list_repos()"
   ]
  },
  {
   "cell_type": "code",
   "execution_count": null,
   "metadata": {},
   "outputs": [],
   "source": [
    "# if necessary Instantiate a new Feature Store\n",
    "fs = FeatureStore('LabRepoOne')\n",
    "\n",
    "# define the available space for the store\n",
    "fs.setup(perm_size='10e8')"
   ]
  },
  {
   "cell_type": "markdown",
   "metadata": {},
   "source": [
    "<hr>\n",
    "<p style = 'font-size:18px;font-family:Arial;color:#00233C'><b>Manage access</b></p>\n",
    "\n",
    "<p style = 'font-size:16px;font-family:Arial;color:#00233C'>Repository owners can grant different levels of access to other database users.\n",
    "</p> "
   ]
  },
  {
   "cell_type": "code",
   "execution_count": null,
   "metadata": {},
   "outputs": [],
   "source": [
    "user='data_engineer'"
   ]
  },
  {
   "cell_type": "code",
   "execution_count": null,
   "metadata": {},
   "outputs": [],
   "source": [
    "# Grant read only access\n",
    "# user is able to only see the all objects in FeatureStore but cannot modify these objects.\n",
    "fs.grant.read(user)"
   ]
  },
  {
   "cell_type": "code",
   "execution_count": null,
   "metadata": {},
   "outputs": [],
   "source": [
    "# Grant write only access\n",
    "# user is able to modify all objects in FeatureStore but cannot see these objects.\n",
    "fs.grant.write(user)"
   ]
  },
  {
   "cell_type": "code",
   "execution_count": null,
   "metadata": {},
   "outputs": [],
   "source": [
    "# Grant read and write\n",
    "fs.grant.read_write(user)"
   ]
  },
  {
   "cell_type": "code",
   "execution_count": null,
   "metadata": {},
   "outputs": [],
   "source": [
    "# Revoke read access\n",
    "fs.revoke.read(user)"
   ]
  },
  {
   "cell_type": "code",
   "execution_count": null,
   "metadata": {},
   "outputs": [],
   "source": [
    "# Revoke write access\n",
    "fs.revoke.write(user)"
   ]
  },
  {
   "cell_type": "code",
   "execution_count": null,
   "metadata": {},
   "outputs": [],
   "source": [
    "# Revoke read/write access\n",
    "fs.revoke.read_write(user)"
   ]
  },
  {
   "cell_type": "markdown",
   "metadata": {},
   "source": [
    "<hr>\n",
    "   <p  style='font-size:36px;font-family:Arial; color:#F0F0F0; background-color: #00233c; padding-left: 20pt; padding-top: 20pt;padding-bottom: 10pt; padding-right: 20pt;'>\n",
    "      2.  Create and register objects inside a repository\n",
    "  <br>\n",
    "    </p>\n",
    "\n",
    "\n",
    "\n",
    "<p style = 'font-size:16px;font-family:Arial;color:#00233C'>This section will review how users can create and register various objects in the Repository:</p>\n",
    "\n",
    "<ul style = 'font-size:16px;font-family:Arial;color:#00233C'>\n",
    "    <li>Features</li>\n",
    "    <li>Entities</li>\n",
    "    <li>Data Sources</li>\n",
    "    <li>Feature Groups</li>\n",
    "</ul>"
   ]
  },
  {
   "cell_type": "markdown",
   "metadata": {},
   "source": [
    "<hr>\n",
    "\n",
    "<p style = 'font-size:18px;font-family:Arial;color:#00233C'><b>Features</b></p>\n",
    "\n",
    "<p style = 'font-size:16px;font-family:Arial;color:#00233C'>Create and register feature objects.  A feature represents a single, distinct piece of data that can be used in machine learning models. Features are the fundamental building blocks of the EFS, designed to encapsulate specific data types, validation rules, and metadata essential for downstream analysis and modeling.\n",
    "</p> \n"
   ]
  },
  {
   "cell_type": "code",
   "execution_count": null,
   "metadata": {},
   "outputs": [],
   "source": [
    "# Creating Feature for Column 'age' from Teradata DataFrame 'tdf_patient_profile'.\n",
    "f1 = Feature(name = 'PatientAge', \n",
    "             column = tdf_patient_profile['age'], \n",
    "             feature_type = FeatureType.CONTINUOUS, \n",
    "             description = None, \n",
    "             tags = ['PatientProfile', 'PatientDetails'])"
   ]
  },
  {
   "cell_type": "code",
   "execution_count": null,
   "metadata": {},
   "outputs": [],
   "source": [
    "# Look at underlying properties.\n",
    "f1.name, f1.column_name, f1.data_type, f1.description, f1.tags, f1.status"
   ]
  },
  {
   "cell_type": "code",
   "execution_count": null,
   "metadata": {},
   "outputs": [],
   "source": [
    "# Before even register the Feature, let's look at available Features.\n",
    "fs.list_features()"
   ]
  },
  {
   "cell_type": "code",
   "execution_count": null,
   "metadata": {},
   "outputs": [],
   "source": [
    "# FeatureStore.apply() register every object.\n",
    "fs.apply(f1)"
   ]
  },
  {
   "cell_type": "code",
   "execution_count": null,
   "metadata": {},
   "outputs": [],
   "source": [
    "# Let's look at available Features again.\n",
    "fs.list_features()"
   ]
  },
  {
   "cell_type": "markdown",
   "metadata": {},
   "source": [
    "<hr>\n",
    "\n",
    "<p style = 'font-size:18px;font-family:Arial;color:#00233C'><b>Entities</b></p>\n",
    "\n",
    "<p style = 'font-size:16px;font-family:Arial;color:#00233C'>Create and register entities.  An entity serves as the anchor for one or more Features, grouping them by a common identifier. This shared identifier ensures that features within an entity relate to the same logical unit, such as a customer or transaction. The Entity concept ensures data consistency and simplifies the management of feature relationships.\n",
    "</p> "
   ]
  },
  {
   "cell_type": "code",
   "execution_count": null,
   "metadata": {},
   "outputs": [],
   "source": [
    "# Create entity for DataFrame 'patient_profile_df'\n",
    "entity = Entity(name = 'PatientEntity', columns = tdf_patient_profile['patient_id'])"
   ]
  },
  {
   "cell_type": "code",
   "execution_count": null,
   "metadata": {},
   "outputs": [],
   "source": [
    "# Look at Entity properties.\n",
    "entity.name, entity.columns, entity.description"
   ]
  },
  {
   "cell_type": "code",
   "execution_count": null,
   "metadata": {},
   "outputs": [],
   "source": [
    "# Before even registering Entity, let's look at existing Entities.\n",
    "fs.list_entities()"
   ]
  },
  {
   "cell_type": "code",
   "execution_count": null,
   "metadata": {},
   "outputs": [],
   "source": [
    "# Register the Entity.\n",
    "fs.apply(entity)"
   ]
  },
  {
   "cell_type": "code",
   "execution_count": null,
   "metadata": {},
   "outputs": [],
   "source": [
    "# Look at existing Entities after registering the Entity.\n",
    "fs.list_entities()"
   ]
  },
  {
   "cell_type": "markdown",
   "metadata": {},
   "source": [
    "<hr>\n",
    "\n",
    "<p style = 'font-size:18px;font-family:Arial;color:#00233C'><b>Data Sources</b></p>\n",
    "\n",
    "<p style = 'font-size:16px;font-family:Arial;color:#00233C'>Create and register data sources.  DataSource objects represent the source of the data, and can be created either from a <b>SQL Query</b> or <b>Teradata DataFrame</b>.</p>\n",
    "\n",
    "<p style = 'font-size:16px;font-family:Arial;color:#00233C'>The DataSource object constructor accepts an argument 'timestamp_col_name' which is the column that represents when the record was created.\n",
    "</p> \n",
    "\n",
    "<hr>\n",
    "<p style = 'font-size:16px;font-family:Arial;color:#00233C'><b>From a Teradataml DataFrame</b></p>"
   ]
  },
  {
   "cell_type": "code",
   "execution_count": null,
   "metadata": {},
   "outputs": [],
   "source": [
    "# Create DataSource from a Teradata DataFrame 'tdf_patient_profile_'.\n",
    "ds = DataSource(name='PatientProfileSource', source = tdf_patient_profile, timestamp_col_name='record_timestamp')"
   ]
  },
  {
   "cell_type": "code",
   "execution_count": null,
   "metadata": {},
   "outputs": [],
   "source": [
    "#properties of the DataSource.\n",
    "ds.name, ds.source, ds.description, ds.timestamp_col_name"
   ]
  },
  {
   "cell_type": "markdown",
   "metadata": {},
   "source": [
    "<hr>\n",
    "<p style = 'font-size:16px;font-family:Arial;color:#00233C'><b>From a SQL Query</b></p>"
   ]
  },
  {
   "cell_type": "code",
   "execution_count": null,
   "metadata": {},
   "outputs": [],
   "source": [
    "# Create a DataSource from a SQL Query\n",
    "ds = DataSource(name='PatientProfileSource', source=\"SELECT * FROM PATIENT_PROFILE\")"
   ]
  },
  {
   "cell_type": "code",
   "execution_count": null,
   "metadata": {},
   "outputs": [],
   "source": [
    "#properties of the DataSource.\n",
    "ds.name, ds.source, ds.description, ds.timestamp_col_name"
   ]
  },
  {
   "cell_type": "markdown",
   "metadata": {},
   "source": [
    "<hr>\n",
    "<p style = 'font-size:16px;font-family:Arial;color:#00233C'><b>Register the DataSource object</b></p>"
   ]
  },
  {
   "cell_type": "code",
   "execution_count": null,
   "metadata": {},
   "outputs": [],
   "source": [
    "# look at existing DataSources.\n",
    "fs.list_data_sources()"
   ]
  },
  {
   "cell_type": "code",
   "execution_count": null,
   "metadata": {},
   "outputs": [],
   "source": [
    "# Register DataSource with repo.\n",
    "fs.apply(ds)"
   ]
  },
  {
   "cell_type": "code",
   "execution_count": null,
   "metadata": {},
   "outputs": [],
   "source": [
    "# Look at available DataSources after registration.\n",
    "fs.list_data_sources()"
   ]
  },
  {
   "cell_type": "markdown",
   "metadata": {},
   "source": [
    "<hr>\n",
    "\n",
    "<p style = 'font-size:18px;font-family:Arial;color:#00233C'><b>Feature Group</b></p>\n",
    "\n",
    "<p style = 'font-size:16px;font-family:Arial;color:#00233C'>Collect and combine Features, Entities, and Data Sources into a <b>Group</b>.  Also, underlying objects can be automatically created using a DataFrame or Query.  Groups can be created using:</p>\n",
    "<ul style = 'font-size:16px;font-family:Arial;color:#00233C'>\n",
    "    <li>Teradata DataFrame</li>\n",
    "    <li>SQL Query</li>\n",
    "    <li>Existing Features, Entities, and DataSources</li>\n",
    "    </ul>\n",
    "    \n",
    "<hr>\n",
    "<p style = 'font-size:16px;font-family:Arial;color:#00233C'><b>Using a Teradata DataFrame</b></p>"
   ]
  },
  {
   "cell_type": "code",
   "execution_count": null,
   "metadata": {},
   "outputs": [],
   "source": [
    "fg = FeatureGroup.from_DataFrame(\n",
    "    name = 'PatientProfileDF', \n",
    "    entity_columns = 'patient_id', \n",
    "    df = tdf_patient_profile, \n",
    "    timestamp_col_name = 'record_timestamp'\n",
    ")"
   ]
  },
  {
   "cell_type": "code",
   "execution_count": null,
   "metadata": {},
   "outputs": [],
   "source": [
    "# Let's look at Properties.\n",
    "fg.features, fg.entity, fg.data_source, fg.description"
   ]
  },
  {
   "cell_type": "markdown",
   "metadata": {},
   "source": [
    "<hr>\n",
    "<p style = 'font-size:16px;font-family:Arial;color:#00233C'><b>Using a SQL Query</b></p>"
   ]
  },
  {
   "cell_type": "code",
   "execution_count": null,
   "metadata": {},
   "outputs": [],
   "source": [
    "fg = FeatureGroup.from_query(\n",
    "    name = 'PatientProfileQuery', \n",
    "    entity_columns = 'patient_id', \n",
    "    query = 'select * from patient_profile', \n",
    "    timestamp_col_name = 'record_timestamp'\n",
    ")"
   ]
  },
  {
   "cell_type": "code",
   "execution_count": null,
   "metadata": {},
   "outputs": [],
   "source": [
    "# Let's look at Properties.\n",
    "fg.features, fg.entity, fg.data_source, fg.description"
   ]
  },
  {
   "cell_type": "markdown",
   "metadata": {},
   "source": [
    "<hr>\n",
    "<p style = 'font-size:16px;font-family:Arial;color:#00233C'><b>Using existing objects (Features, Entity, DataSource)</b></p>"
   ]
  },
  {
   "cell_type": "code",
   "execution_count": null,
   "metadata": {},
   "outputs": [],
   "source": [
    "fg = FeatureGroup(name='PatientProfileObjs', features=[f1], entity=entity, data_source=ds)"
   ]
  },
  {
   "cell_type": "code",
   "execution_count": null,
   "metadata": {},
   "outputs": [],
   "source": [
    "# Let's look at Properties.\n",
    "fg.features, fg.entity, fg.data_source, fg.description"
   ]
  },
  {
   "cell_type": "markdown",
   "metadata": {},
   "source": [
    "<hr>\n",
    "<p style = 'font-size:16px;font-family:Arial;color:#00233C'><b>Register the FeatureGroup</b></p>"
   ]
  },
  {
   "cell_type": "code",
   "execution_count": null,
   "metadata": {},
   "outputs": [],
   "source": [
    "# Let's look at underlying FeatureGroups first.\n",
    "fs.list_feature_groups()"
   ]
  },
  {
   "cell_type": "code",
   "execution_count": null,
   "metadata": {},
   "outputs": [],
   "source": [
    "# Let's look at Available Features also. Notice: Feature is not associated with any group.\n",
    "fs.list_features()"
   ]
  },
  {
   "cell_type": "code",
   "execution_count": null,
   "metadata": {},
   "outputs": [],
   "source": [
    "# Register FeatureGroup with FeatureStore.\n",
    "fs.apply(fg)"
   ]
  },
  {
   "cell_type": "code",
   "execution_count": null,
   "metadata": {},
   "outputs": [],
   "source": [
    "# Let's look at FeatureGroups after registration.\n",
    "fs.list_feature_groups()"
   ]
  },
  {
   "cell_type": "code",
   "execution_count": null,
   "metadata": {
    "tags": []
   },
   "outputs": [],
   "source": [
    "# Let's look at Available Features again. Notice: Feature is now associated with group.\n",
    "fs.list_features()"
   ]
  },
  {
   "cell_type": "markdown",
   "metadata": {
    "tags": []
   },
   "source": [
    "<hr>\n",
    "   <p  style='font-size:36px;font-family:Arial; color:#F0F0F0; background-color: #00233c; padding-left: 20pt; padding-top: 20pt;padding-bottom: 10pt; padding-right: 20pt;'>\n",
    "      3.  Managing Objects in a Repository\n",
    "  <br>\n",
    "    </p>\n",
    "\n",
    "\n",
    "\n",
    "<p style = 'font-size:16px;font-family:Arial;color:#00233C'>This section will review how users can discover and manage objects inside a repository</p>\n",
    "\n",
    "<ul style = 'font-size:16px;font-family:Arial;color:#00233C'>\n",
    "    <li>Searching</li>\n",
    "    <li>Modifying Objects</li>\n",
    "    <li>Combining Feature Groups</li>\n",
    "    <li>Archive and Deletion</li>\n",
    "</ul>"
   ]
  },
  {
   "cell_type": "markdown",
   "metadata": {
    "tags": []
   },
   "source": [
    "<hr>\n",
    "<p style = 'font-size:18px;font-family:Arial;color:#00233C'><b>Searching inside Teradata Enterprise Feature Store</b></p>\n",
    "\n",
    "<p style = 'font-size:16px;font-family:Arial;color:#00233C'>The following FeatureStore methods return a teradataml DataFrame. All filter options available to a teradataml DataFrame can be used to search and explore results</p>\n",
    "<ul style = 'font-size:16px;font-family:Arial;color:#00233C'>\n",
    "    <li>list_features()</li>\n",
    "    <li>list_entities()</li>\n",
    "    <li>list_data_sources()</li>\n",
    "    <li>list_feature_groups()</li>\n",
    "    </ul>"
   ]
  },
  {
   "cell_type": "code",
   "execution_count": null,
   "metadata": {},
   "outputs": [],
   "source": [
    "# First create some more Features and register with repo.\n",
    "f1=Feature(name = 'PatientBMI', column = tdf_patient_profile['bmi'])\n",
    "fs.apply(f1)"
   ]
  },
  {
   "cell_type": "code",
   "execution_count": null,
   "metadata": {},
   "outputs": [],
   "source": [
    "# First list the Features.\n",
    "fs.list_features()"
   ]
  },
  {
   "cell_type": "code",
   "execution_count": null,
   "metadata": {},
   "outputs": [],
   "source": [
    "# Filter the Features registerd at day 18. \n",
    "# Note: One can use all the filter options available on Teradata DataFrame. Look at user guide to look at available filter options.\n",
    "features_df = fs.list_features()\n",
    "features_df[features_df.creation_time.day_of_month()==17]"
   ]
  },
  {
   "cell_type": "markdown",
   "metadata": {},
   "source": [
    "<hr>\n",
    "<p style = 'font-size:18px;font-family:Arial;color:#00233C'><b>Modifying FeatureStore Objects</b></p>\n",
    "\n",
    "<p style = 'font-size:16px;font-family:Arial;color:#00233C'>The following FeatureStore methods will return the objects from FeatureStore</p>\n",
    "<ul style = 'font-size:16px;font-family:Arial;color:#00233C'>\n",
    "    <li>get_feature()</li>\n",
    "    <li>get_entity()</li>\n",
    "    <li>get_data_source()</li>\n",
    "    <li>get_feature_group()</li>\n",
    "    </ul>\n",
    "    \n",
    "<p style = 'font-size:16px;font-family:Arial;color:#00233C'>Once the proper object reference has been established, users canmodify the corresponding property, then again register object with repository using FeatureStore.apply().</p>\n",
    "\n",
    "<hr>\n",
    "<p style = 'font-size:16px;font-family:Arial;color:#00233C'><b>Update description for Feature PatientAge</b></p>"
   ]
  },
  {
   "cell_type": "code",
   "execution_count": null,
   "metadata": {},
   "outputs": [],
   "source": [
    "feature = fs.get_feature('PatientAge')\n",
    "feature"
   ]
  },
  {
   "cell_type": "code",
   "execution_count": null,
   "metadata": {},
   "outputs": [],
   "source": [
    "# Update Description and tags.\n",
    "feature.description = \"Patient's age for patient profile.\"\n",
    "feature.tags = ['PatientProfile']\n",
    "fs.apply(feature)"
   ]
  },
  {
   "cell_type": "code",
   "execution_count": null,
   "metadata": {},
   "outputs": [],
   "source": [
    "# Let's look at features again. Look for description column. \n",
    "fs.list_features()"
   ]
  },
  {
   "cell_type": "markdown",
   "metadata": {},
   "source": [
    "<hr>\n",
    "<p style = 'font-size:16px;font-family:Arial;color:#00233C'><b>Update description for Entity PatientEntity</b></p>"
   ]
  },
  {
   "cell_type": "code",
   "execution_count": null,
   "metadata": {},
   "outputs": [],
   "source": [
    "# Before updating description, let's look at Entities.\n",
    "fs.list_entities()"
   ]
  },
  {
   "cell_type": "code",
   "execution_count": null,
   "metadata": {},
   "outputs": [],
   "source": [
    "# Get Entity from FeatureStore.\n",
    "entity = fs.get_entity('PatientEntity')\n",
    "entity"
   ]
  },
  {
   "cell_type": "code",
   "execution_count": null,
   "metadata": {},
   "outputs": [],
   "source": [
    "# Update Entity description.\n",
    "entity.description = \"Entity for Patient Profile.\"\n",
    "fs.apply(entity)"
   ]
  },
  {
   "cell_type": "code",
   "execution_count": null,
   "metadata": {
    "tags": []
   },
   "outputs": [],
   "source": [
    "# After updating description, let's look at Entities.\n",
    "fs.list_entities()"
   ]
  },
  {
   "cell_type": "markdown",
   "metadata": {},
   "source": [
    "<hr>\n",
    "<p style = 'font-size:16px;font-family:Arial;color:#00233C'><b>Update timestamp_col_name for DataSource PatientProfileSource</b></p>"
   ]
  },
  {
   "cell_type": "code",
   "execution_count": null,
   "metadata": {},
   "outputs": [],
   "source": [
    "# Before updating time stamp column, let's look at DataSource.\n",
    "fs.list_data_sources()"
   ]
  },
  {
   "cell_type": "code",
   "execution_count": null,
   "metadata": {},
   "outputs": [],
   "source": [
    "# First get the DataSource.\n",
    "data_source = fs.get_data_source('PatientProfileSource')\n",
    "data_source"
   ]
  },
  {
   "cell_type": "code",
   "execution_count": null,
   "metadata": {},
   "outputs": [],
   "source": [
    "# Update time stamp column.\n",
    "data_source.timestamp_col_name = 'record_timestamp'\n",
    "fs.apply(data_source)"
   ]
  },
  {
   "cell_type": "code",
   "execution_count": null,
   "metadata": {},
   "outputs": [],
   "source": [
    "# After updating time stamp column, let's look at DataSource.\n",
    "fs.list_data_sources()"
   ]
  },
  {
   "cell_type": "markdown",
   "metadata": {},
   "source": [
    "<hr>\n",
    "<p style = 'font-size:16px;font-family:Arial;color:#00233C'><b>Update FeatureGroup</b></p>\n",
    "\n",
    "<p style = 'font-size:16px;font-family:Arial;color:#00233C'>Note: Updating FeatureGroup will update the underlying Feature(s), DataSource, Entity.</p>"
   ]
  },
  {
   "cell_type": "code",
   "execution_count": null,
   "metadata": {},
   "outputs": [],
   "source": [
    "# Before updating description, let's look at FeatureGroup.\n",
    "fs.list_feature_groups()"
   ]
  },
  {
   "cell_type": "code",
   "execution_count": null,
   "metadata": {},
   "outputs": [],
   "source": [
    "# Before updating description, let's look at DataSources.\n",
    "fs.list_data_sources()"
   ]
  },
  {
   "cell_type": "code",
   "execution_count": null,
   "metadata": {},
   "outputs": [],
   "source": [
    "# Get FeatureGroup.\n",
    "fg = fs.get_feature_group('PatientProfileObjs')"
   ]
  },
  {
   "cell_type": "code",
   "execution_count": null,
   "metadata": {},
   "outputs": [],
   "source": [
    "# Update DataSource description and FeatureGroup description.\n",
    "fg.data_source.description = \"Data Source for Patient Profile.\"\n",
    "fg.description = \"FeatureGroup for Patient Profile.\""
   ]
  },
  {
   "cell_type": "code",
   "execution_count": null,
   "metadata": {},
   "outputs": [],
   "source": [
    "# Register FeatureGroup with FeatureStore.\n",
    "fs.apply(fg)"
   ]
  },
  {
   "cell_type": "code",
   "execution_count": null,
   "metadata": {},
   "outputs": [],
   "source": [
    "# After updating description, let's look at FeatureGroup.\n",
    "fs.list_feature_groups()"
   ]
  },
  {
   "cell_type": "code",
   "execution_count": null,
   "metadata": {},
   "outputs": [],
   "source": [
    "# After updating description, let's look at DataSource.\n",
    "fs.list_data_sources()"
   ]
  },
  {
   "cell_type": "markdown",
   "metadata": {},
   "source": [
    "<hr>\n",
    "<p style = 'font-size:16px;font-family:Arial;color:#00233C'><b>How to add a new Feature or change Entity or DataSource to an Existing FeatureGroup</b></p>\n",
    "\n",
    "<p style = 'font-size:16px;font-family:Arial;color:#00233C'>You can always modify FeatureGroup with FeatureGroup.apply() method.\n",
    "Note: FeatureGroup.apply() will not update details to repo. You should do FeatureStore.apply() to update repo.</p>"
   ]
  },
  {
   "cell_type": "code",
   "execution_count": null,
   "metadata": {},
   "outputs": [],
   "source": [
    "# Before adding Feature, let's look at available Features.\n",
    "fs.list_features()"
   ]
  },
  {
   "cell_type": "code",
   "execution_count": null,
   "metadata": {},
   "outputs": [],
   "source": [
    "# Let's add a new Feature for FeatureGroup PatientProfileObjs\n",
    "f2 = fs.get_feature('PatientBMI')"
   ]
  },
  {
   "cell_type": "code",
   "execution_count": null,
   "metadata": {},
   "outputs": [],
   "source": [
    "# First register the Feature with FeatureGroup.\n",
    "fg.apply(f2)"
   ]
  },
  {
   "cell_type": "code",
   "execution_count": null,
   "metadata": {},
   "outputs": [],
   "source": [
    "# Then, Register FeatureGroup with FeatureStore.\n",
    "fs.apply(fg)"
   ]
  },
  {
   "cell_type": "code",
   "execution_count": null,
   "metadata": {
    "tags": []
   },
   "outputs": [],
   "source": [
    "# Let's look at Features.\n",
    "fs.list_features()"
   ]
  },
  {
   "cell_type": "markdown",
   "metadata": {},
   "source": [
    "<hr>\n",
    "<p style = 'font-size:16px;font-family:Arial;color:#00233C'><b>How to remove a new Feature from an Existing FeatureGroup</b></p>\n",
    "\n",
    "<p style = 'font-size:16px;font-family:Arial;color:#00233C'>You can use FeatureGroup.remove() method to remove object from FeatureGroup.  Note: FeatureGroup.remove() will not update details to repo. You should do FeatureStore.apply() to update repo.</p>"
   ]
  },
  {
   "cell_type": "code",
   "execution_count": null,
   "metadata": {
    "tags": []
   },
   "outputs": [],
   "source": [
    "# Let's remove Feature `PatientBMI` from FeatureGroup `PatientProfileObjs`.\n",
    "fg.remove(f2)"
   ]
  },
  {
   "cell_type": "code",
   "execution_count": null,
   "metadata": {},
   "outputs": [],
   "source": [
    "# Update FeatureGroup with FeatureStore.\n",
    "fs.apply(fg)"
   ]
  },
  {
   "cell_type": "code",
   "execution_count": null,
   "metadata": {},
   "outputs": [],
   "source": [
    "# Let's look at Features.\n",
    "fs.list_features()"
   ]
  },
  {
   "cell_type": "code",
   "execution_count": null,
   "metadata": {},
   "outputs": [],
   "source": [
    "# Let's look at FeatureGroups.\n",
    "fs.list_feature_groups()"
   ]
  },
  {
   "cell_type": "markdown",
   "metadata": {},
   "source": [
    "<hr>\n",
    "<p style = 'font-size:18px;font-family:Arial;color:#00233C'><b>Combining multiple FeatureGroups</b></p>\n",
    "\n",
    "<p style = 'font-size:16px;font-family:Arial;color:#00233C'>The following FeatureStore methods will return the objects from FeatureStore</p>\n",
    "<ul style = 'font-size:16px;font-family:Arial;color:#00233C'>\n",
    "    <li>One can combine multiple FeatureGroups to a single group using + operator. Once you combine multiple FeatureGroups, you will again get a new FeatureGroup. The name of new FeatureGroup is combined name of all FeatureGroups. For example, if you are combining FeatureGroups group1, group2, group3, then the new name is group1_group2_group3 . You can change the name if you are looking to.</li>\n",
    "    <li>New FeatureGroup will have Features from all the individual FeatureGroups.</li>\n",
    "    <li>When you are combining multiple FeatureGroups, corresponding Entity and time_stamp_column should be same for all individual FeatureGroups.</li>\n",
    "    </ul>\n",
    "    \n",
    "\n"
   ]
  },
  {
   "cell_type": "code",
   "execution_count": null,
   "metadata": {},
   "outputs": [],
   "source": [
    "# Let's first create individual FeatureGroups first.\n",
    "patient_profile_fg = FeatureGroup.from_DataFrame(\n",
    "    name = 'PatientProfile', \n",
    "    df = tdf_patient_profile, \n",
    "    entity_columns='patient_id', \n",
    "    timestamp_col_name='record_timestamp'\n",
    ")\n",
    "medical_readings_fg = FeatureGroup.from_DataFrame(\n",
    "    name = 'MedicalReadings', \n",
    "    df = tdf_medical_readings, \n",
    "    entity_columns = 'patient_id', \n",
    "    timestamp_col_name = 'record_timestamp'\n",
    ")"
   ]
  },
  {
   "cell_type": "code",
   "execution_count": null,
   "metadata": {},
   "outputs": [],
   "source": [
    "# Look at Features first for FeatureGroups.\n",
    "patient_profile_fg.features"
   ]
  },
  {
   "cell_type": "code",
   "execution_count": null,
   "metadata": {},
   "outputs": [],
   "source": [
    "medical_readings_fg.features"
   ]
  },
  {
   "cell_type": "code",
   "execution_count": null,
   "metadata": {},
   "outputs": [],
   "source": [
    "# Create new FeatureGroup.\n",
    "combined_fg = patient_profile_fg + medical_readings_fg"
   ]
  },
  {
   "cell_type": "code",
   "execution_count": null,
   "metadata": {},
   "outputs": [],
   "source": [
    "# Look at new FeatureGroup name.\n",
    "combined_fg.name"
   ]
  },
  {
   "cell_type": "code",
   "execution_count": null,
   "metadata": {},
   "outputs": [],
   "source": [
    "# Look at combined features.\n",
    "combined_fg.features"
   ]
  },
  {
   "cell_type": "code",
   "execution_count": null,
   "metadata": {},
   "outputs": [],
   "source": [
    "# Push individual FeatureGroups and also Combined FeatureGroup.\n",
    "fs.apply(patient_profile_fg)"
   ]
  },
  {
   "cell_type": "code",
   "execution_count": null,
   "metadata": {},
   "outputs": [],
   "source": [
    "# Push individual FeatureGroups and also Combined FeatureGroup.\n",
    "fs.apply(medical_readings_fg)"
   ]
  },
  {
   "cell_type": "code",
   "execution_count": null,
   "metadata": {},
   "outputs": [],
   "source": [
    "# Push individual FeatureGroups and also Combined FeatureGroup.\n",
    "fs.apply(combined_fg)"
   ]
  },
  {
   "cell_type": "code",
   "execution_count": null,
   "metadata": {},
   "outputs": [],
   "source": [
    "# Let's look at FeatureGroups.\n",
    "fs.list_feature_groups()"
   ]
  },
  {
   "cell_type": "code",
   "execution_count": null,
   "metadata": {},
   "outputs": [],
   "source": [
    "# Let's look at DataSources.\n",
    "fs.list_data_sources()"
   ]
  },
  {
   "cell_type": "code",
   "execution_count": null,
   "metadata": {},
   "outputs": [],
   "source": [
    "# Let's look at Entities.\n",
    "fs.list_entities()"
   ]
  },
  {
   "cell_type": "code",
   "execution_count": null,
   "metadata": {},
   "outputs": [],
   "source": [
    "# Let's look at Features after pushing all FeatureGroups.\n",
    "fs.list_features()"
   ]
  },
  {
   "cell_type": "code",
   "execution_count": null,
   "metadata": {},
   "outputs": [],
   "source": [
    "# Filter the features to understand the data more. Note that, Feature `blood_pressure` is mapped to two FeatureGroups.\n",
    "features_df = fs.list_features()\n",
    "features_df = features_df[features_df.name == 'blood_pressure']\n",
    "features_df"
   ]
  },
  {
   "cell_type": "markdown",
   "metadata": {},
   "source": [
    "<hr>\n",
    "<p style = 'font-size:18px;font-family:Arial;color:#00233C'><b>Archive and Delete objects in FeatureStore</b></p>\n",
    "\n",
    "<p style = 'font-size:16px;font-family:Arial;color:#00233C'>Archive and Delete are two different operations and they are not same in FeatureStore.</p>\n",
    "\n",
    "\n",
    "<p style = 'font-size:16px;font-family:Arial;color:#00233C'><b>Archive</b> stages objects instead of removing it completly from FeatureStore. Archived objects will not be part of any further processing.</p>\n",
    "<ul style = 'font-size:16px;font-family:Arial;color:#00233C'>\n",
    "    <li>FeatureStore.archive_feature() will archive a Feature. FeatureStore.list_features(archived=True) lists archived Features.</li>\n",
    "    <li>FeatureStore.archive_entity() will archive an Entity. FeatureStore.list_entities(archived=True) lists archived Entities.</li>\n",
    "    <li>FeatureStore.archive_data_source() will archive a DataSource. FeatureStore.list_data_sources(archived=True) to list archived DataSources.</li>\n",
    "    <li>FeatureStore.archive_feature_group() to archive a FeatureGroup. FeatureStore.list_feature_groups(archived=True) to list archived FeatureGroups.  Archiving FeatureGroup will archive the corresponding Feature, Entity and DataSource if they are not associated with any other Feature Group.  Archiving a Feature Group does not remove the Feature Group completely from Feature Store. They are marked as staging Feature Groups and these Feature Groups won't be available for any further processing. Users can still see the archived Feature Groups using by setting additional argument to True.</li>\n",
    "    </ul>\n",
    "\n",
    "<p style = 'font-size:16px;font-family:Arial;color:#00233C'><b>Delete</b> will remove the archived objects.</p>\n",
    "<ul style = 'font-size:16px;font-family:Arial;color:#00233C'>\n",
    "    <li>FeatureStore.delete_feature() will delete a Feature</li>\n",
    "    <li>FeatureStore.delete_entity() will delete a Entity</li>\n",
    "    <li>FeatureStore.delete_data_source() will delete a DataSource</li>\n",
    "    <li>FeatureStore.delete_feature_group() will delete a FeatureGroup.  Deleting FeatureGroup will <b>not</b> remove corresponding archived Features, Entities, or DataSources.  They should be deleted using the corresponding method calls</li>\n",
    "    </ul>\n",
    "    \n",
    "<hr>\n",
    "<p style = 'font-size:16px;font-family:Arial;color:#00233C'><b>Archive and Delete a Feature</b></p>"
   ]
  },
  {
   "cell_type": "code",
   "execution_count": null,
   "metadata": {},
   "outputs": [],
   "source": [
    "# Let's first look at Features which are not associated with any FeatureGroup.\n",
    "features_df = fs.list_features()\n",
    "features_df[features_df.group_name == None]"
   ]
  },
  {
   "cell_type": "code",
   "execution_count": null,
   "metadata": {},
   "outputs": [],
   "source": [
    "# Let's archive the Feature `PatientBMI`. Before archiving Feature, let's look at features which are archived.\n",
    "fs.list_features(archived=True)"
   ]
  },
  {
   "cell_type": "code",
   "execution_count": null,
   "metadata": {},
   "outputs": [],
   "source": [
    "# Archive it.\n",
    "fs.archive_feature('PatientBMI')"
   ]
  },
  {
   "cell_type": "code",
   "execution_count": null,
   "metadata": {},
   "outputs": [],
   "source": [
    "# Let's look at archived Features.\n",
    "fs.list_features(archived=True)"
   ]
  },
  {
   "cell_type": "code",
   "execution_count": null,
   "metadata": {},
   "outputs": [],
   "source": [
    "# Delete the archived Feature.\n",
    "fs.delete_feature('PatientBMI')"
   ]
  },
  {
   "cell_type": "code",
   "execution_count": null,
   "metadata": {},
   "outputs": [],
   "source": [
    "# Let's look at archived Features again.\n",
    "fs.list_features(archived=True)"
   ]
  },
  {
   "cell_type": "markdown",
   "metadata": {},
   "source": [
    "<hr>\n",
    "<p style = 'font-size:16px;font-family:Arial;color:#00233C'><b>Archive a FeatureGroup and Delete the archived objects</b></p>"
   ]
  },
  {
   "cell_type": "code",
   "execution_count": null,
   "metadata": {},
   "outputs": [],
   "source": [
    "# Before archiving group, let's look at Features for FeatureGroup. \n",
    "features_df[features_df.group_name == 'PatientProfile']"
   ]
  },
  {
   "cell_type": "code",
   "execution_count": null,
   "metadata": {},
   "outputs": [],
   "source": [
    "# Note: These Features are mapped to other FeatureGroups also.\n",
    "features_df[(\n",
    "    (features_df.name == 'skin_thickness') | \n",
    "    (features_df.name == 'pregnancies') | \n",
    "    (features_df.name == 'age') | \n",
    "    (features_df.name == 'bmi')\n",
    "    )]"
   ]
  },
  {
   "cell_type": "code",
   "execution_count": null,
   "metadata": {},
   "outputs": [],
   "source": [
    "# Before archiving group, let's look at DataSources.\n",
    "fs.list_data_sources()"
   ]
  },
  {
   "cell_type": "code",
   "execution_count": null,
   "metadata": {},
   "outputs": [],
   "source": [
    "# Let's look at archived DataSources.\n",
    "fs.list_data_sources(archived=True)"
   ]
  },
  {
   "cell_type": "code",
   "execution_count": null,
   "metadata": {},
   "outputs": [],
   "source": [
    "# Before archiving group, let's look at Entities.\n",
    "fs.list_entities()"
   ]
  },
  {
   "cell_type": "code",
   "execution_count": null,
   "metadata": {},
   "outputs": [],
   "source": [
    "# Let's look at archived Entities.\n",
    "fs.list_entities(archived=True)"
   ]
  },
  {
   "cell_type": "code",
   "execution_count": null,
   "metadata": {},
   "outputs": [],
   "source": [
    "# Before archiving group, let's look at FeatureGroups. \n",
    "# Notice, FeatureGroup `PatientProfileObjs` is associated with DataSource `PatientProfileSource` and Entity `PatientEntity`\n",
    "fs.list_feature_groups()"
   ]
  },
  {
   "cell_type": "code",
   "execution_count": null,
   "metadata": {},
   "outputs": [],
   "source": [
    "# Let's look at archived FeatureGroups.\n",
    "fs.list_feature_groups(archived=True)"
   ]
  },
  {
   "cell_type": "code",
   "execution_count": null,
   "metadata": {},
   "outputs": [],
   "source": [
    "# Let's archive FeatureGroup `PatientProfileObjs`.\n",
    "fs.archive_feature_group('PatientProfile')"
   ]
  },
  {
   "cell_type": "code",
   "execution_count": null,
   "metadata": {},
   "outputs": [],
   "source": [
    "# Let's look at FeatureGroups after archive.\n",
    "fs.list_feature_groups()"
   ]
  },
  {
   "cell_type": "code",
   "execution_count": null,
   "metadata": {},
   "outputs": [],
   "source": [
    "# Look at archived FeatureGroup.\n",
    "fs.list_feature_groups(archived=True)"
   ]
  },
  {
   "cell_type": "code",
   "execution_count": null,
   "metadata": {},
   "outputs": [],
   "source": [
    "# After archiving group, let's look at Features for FeatureGroup.\n",
    "features_df[features_df.group_name == 'PatientProfile']"
   ]
  },
  {
   "cell_type": "code",
   "execution_count": null,
   "metadata": {},
   "outputs": [],
   "source": [
    "# Look at Features and observe group_name.\n",
    "features_df[(\n",
    "    (features_df.name == 'skin_thickness') | \n",
    "    (features_df.name == 'pregnancies') | \n",
    "    (features_df.name == 'age') | \n",
    "    (features_df.name == 'bmi')\n",
    "        )]"
   ]
  },
  {
   "cell_type": "code",
   "execution_count": null,
   "metadata": {},
   "outputs": [],
   "source": [
    "# Let's look at archived Features. No Feature is archived because these Features are mapped to other FeatureGroup also.\n",
    "fs.list_features(archived=True)"
   ]
  },
  {
   "cell_type": "code",
   "execution_count": null,
   "metadata": {},
   "outputs": [],
   "source": [
    "# After archiving group, let's look at DataSources. \n",
    "# Notice, DataSource `PatientProfileSource`, which is associated with FeatureGroup `PatientProfileObjs` is also archived.\n",
    "fs.list_data_sources()"
   ]
  },
  {
   "cell_type": "code",
   "execution_count": null,
   "metadata": {},
   "outputs": [],
   "source": [
    "# Look at archived DataSources.\n",
    "fs.list_data_sources(archived=True)"
   ]
  },
  {
   "cell_type": "code",
   "execution_count": null,
   "metadata": {},
   "outputs": [],
   "source": [
    "# After archiving group, let's look at Entities. \n",
    "# Notice, Entity `PatientEntity`, which is associated with FeatureGroup `PatientProfileObjs` is also archived.\n",
    "fs.list_entities()"
   ]
  },
  {
   "cell_type": "code",
   "execution_count": null,
   "metadata": {},
   "outputs": [],
   "source": [
    "fs.list_entities(archived=True)"
   ]
  },
  {
   "cell_type": "code",
   "execution_count": null,
   "metadata": {},
   "outputs": [],
   "source": [
    "# Delete archived FeatureGroup. \n",
    "fs.delete_feature_group('PatientProfile')"
   ]
  },
  {
   "cell_type": "code",
   "execution_count": null,
   "metadata": {},
   "outputs": [],
   "source": [
    "# Let's look at archived FeatureGroups after delete.\n",
    "fs.list_feature_groups(archived=True)"
   ]
  },
  {
   "cell_type": "code",
   "execution_count": null,
   "metadata": {},
   "outputs": [],
   "source": [
    "# Delete archived DataSources.\n",
    "fs.delete_data_source('PatientProfile')"
   ]
  },
  {
   "cell_type": "code",
   "execution_count": null,
   "metadata": {},
   "outputs": [],
   "source": [
    "# Let's look at archived DataSources after delete.\n",
    "fs.list_data_sources(archived=True)"
   ]
  },
  {
   "cell_type": "code",
   "execution_count": null,
   "metadata": {},
   "outputs": [],
   "source": [
    "# Delete archived Entities.\n",
    "fs.delete_entity('PatientProfile')"
   ]
  },
  {
   "cell_type": "code",
   "execution_count": null,
   "metadata": {},
   "outputs": [],
   "source": [
    "# Let's look at archived Entities after delete.\n",
    "fs.list_entities(archived=True)"
   ]
  },
  {
   "cell_type": "markdown",
   "metadata": {
    "tags": []
   },
   "source": [
    "<hr>\n",
    "   <p  style='font-size:36px;font-family:Arial; color:#F0F0F0; background-color: #00233c; padding-left: 20pt; padding-top: 20pt;padding-bottom: 10pt; padding-right: 20pt;'>\n",
    "      4.  Creating Datasets and historic Datasets for ML models\n",
    "  <br>\n",
    "    </p>\n",
    "\n",
    "\n",
    "\n",
    "<p style = 'font-size:16px;font-family:Arial;color:#00233C'>Since the FeatureStore contains the DataSource object, data can be retrieved directly from the FeatureStore.</p>\n"
   ]
  },
  {
   "cell_type": "markdown",
   "metadata": {},
   "source": [
    "<hr>\n",
    "<p style = 'font-size:18px;font-family:Arial;color:#00233C'><b>Retrieving the current data set</b></p>\n",
    "\n",
    "<p style = 'font-size:16px;font-family:Arial;color:#00233C'>The FeatureStore.get_dataset() method will return a Teradata DataFrame from a FeatureGroup.</p>\n",
    "    \n",
    "\n"
   ]
  },
  {
   "cell_type": "code",
   "execution_count": null,
   "metadata": {},
   "outputs": [],
   "source": [
    "# Let's look at available FeatureGroups first.\n",
    "fs.list_feature_groups()"
   ]
  },
  {
   "cell_type": "code",
   "execution_count": null,
   "metadata": {},
   "outputs": [],
   "source": [
    "# Get DataSet for FeatureGroup PatientProfile. \n",
    "fs.get_dataset('MedicalReadings')"
   ]
  },
  {
   "cell_type": "code",
   "execution_count": null,
   "metadata": {},
   "outputs": [],
   "source": [
    "# Let's get DataSet for combined FeatureGroup. \n",
    "# Interesting point to observe:\n",
    "#     DataSet will have all the combined Features of both FeatureGroups.\n",
    "#     patient_id and record_timestamp will remain as it is.\n",
    "fs.get_dataset('PatientProfile_MedicalReadings')"
   ]
  },
  {
   "cell_type": "markdown",
   "metadata": {},
   "source": [
    "<hr>\n",
    "<p style = 'font-size:18px;font-family:Arial;color:#00233C'><b>Retrieving an historic data set</b></p>\n",
    "\n",
    "<p style = 'font-size:16px;font-family:Arial;color:#00233C'>In some cases, users need the historic data set. In these cases, use the FeatureStore.get_dataset() method and filter the data using filter options.</p>"
   ]
  },
  {
   "cell_type": "code",
   "execution_count": null,
   "metadata": {},
   "outputs": [],
   "source": [
    "df = fs.get_dataset('PatientProfile_MedicalReadings')"
   ]
  },
  {
   "cell_type": "code",
   "execution_count": null,
   "metadata": {},
   "outputs": [],
   "source": [
    "# Assume you want to feed only week 15 data to your model. \n",
    "week15_df = df[df.record_timestamp.week()==15]\n",
    "week15_df"
   ]
  },
  {
   "cell_type": "markdown",
   "metadata": {
    "tags": []
   },
   "source": [
    "<hr>\n",
    "   <p  style='font-size:36px;font-family:Arial; color:#F0F0F0; background-color: #00233c; padding-left: 20pt; padding-top: 20pt;padding-bottom: 10pt; padding-right: 20pt;'>\n",
    "      5.  Use Enterprise Feature Store with teradataml analytic functions\n",
    "  <br>\n",
    "    </p>\n",
    "\n",
    "\n",
    "\n",
    "<p style = 'font-size:16px;font-family:Arial;color:#00233C'>teradataml analytic functions accept Feature objects as input.  The following example will use the native XGBoost function.</p>\n"
   ]
  },
  {
   "cell_type": "code",
   "execution_count": null,
   "metadata": {},
   "outputs": [],
   "source": [
    "# First get the Dataset.\n",
    "medical_readings_df = fs.get_dataset('MedicalReadings')\n",
    "medical_readings_df"
   ]
  },
  {
   "cell_type": "code",
   "execution_count": null,
   "metadata": {},
   "outputs": [],
   "source": [
    "# Split DataSet in to two samples.\n",
    "sampled_df = medical_readings_df.sample(frac=[0.7, 0.3])\n",
    "train_df = sampled_df[sampled_df.sampleid==2]\n",
    "test_df = sampled_df[sampled_df.sampleid==1]"
   ]
  },
  {
   "cell_type": "code",
   "execution_count": null,
   "metadata": {},
   "outputs": [],
   "source": [
    "# Get the FeatureGroup. Notice the Feature `outcome` should be set as label. \n",
    "medical_readings_fg=fs.get_feature_group('MedicalReadings')\n",
    "medical_readings_fg.labels='outcome'"
   ]
  },
  {
   "cell_type": "code",
   "execution_count": null,
   "metadata": {},
   "outputs": [],
   "source": [
    "from teradataml import XGBoost\n",
    "model = XGBoost(data=train_df,\n",
    "                input_columns=medical_readings_fg.features,\n",
    "                response_column = medical_readings_fg.labels,\n",
    "                max_depth=3,\n",
    "                lambda1 = 1000.0,\n",
    "                model_type='Classification',\n",
    "                seed=-1,\n",
    "                shrinkage_factor=0.1,\n",
    "                iter_num=2)"
   ]
  },
  {
   "cell_type": "code",
   "execution_count": null,
   "metadata": {},
   "outputs": [],
   "source": [
    "# Score the model using test data.\n",
    "XGBoostPredict_out_1 = model.predict(newdata=test_df,\n",
    "                                     id_column='patient_id',\n",
    "                                     model_type='Classification'\n",
    "                                    )"
   ]
  },
  {
   "cell_type": "code",
   "execution_count": null,
   "metadata": {},
   "outputs": [],
   "source": [
    "XGBoostPredict_out_1.result"
   ]
  },
  {
   "cell_type": "markdown",
   "metadata": {
    "tags": []
   },
   "source": [
    "<hr>\n",
    "   <p  style='font-size:36px;font-family:Arial; color:#F0F0F0; background-color: #00233c; padding-left: 20pt; padding-top: 20pt;padding-bottom: 10pt; padding-right: 20pt;'>\n",
    "      6.  Repository Governance\n",
    "  <br>\n",
    "    </p>\n",
    "\n",
    "\n",
    "\n",
    "<p style = 'font-size:16px;font-family:Arial;color:#00233C'>So far, we have been working in a repo called \"LabRepoOne\", with Teradata EFS Functions, you can manage your Feature Store Repos and \"Promote\" them to work as a production repo.</p>\n",
    "\n",
    "<p style = 'font-size:16px;font-family:Arial;color:#00233C'><b>Note:</b> The Feature Store functions are not materializing the data of your features into production, this only for the metadata of the feature repo. Make sure that your ETL processes are executed in the production datasources.</p>\n"
   ]
  },
  {
   "cell_type": "code",
   "execution_count": null,
   "metadata": {},
   "outputs": [],
   "source": [
    "# First, create a new repo to 'ProdRepoOne' to move Features.\n",
    "ProdLabRepoOne = FeatureStore(\"ProdLabRepoOne\")\n",
    "\n",
    "# Set up prod repo if necessary\n",
    "ProdLabRepoOne.setup()"
   ]
  },
  {
   "cell_type": "code",
   "execution_count": null,
   "metadata": {},
   "outputs": [],
   "source": [
    "# Assume you want to promote FeatureGroup 'MedicalReadings' from 'LabRepoOne' to 'ProdLabRepoOne'.\n",
    "# First get the FeatureGroup from LabRepoOne. Then apply it to 'ProdLabRepoOne'.\n",
    "ProdLabRepoOne.apply(fs.get_feature_group('MedicalReadings'))"
   ]
  },
  {
   "cell_type": "code",
   "execution_count": null,
   "metadata": {},
   "outputs": [],
   "source": [
    "# Let's verify ProdLabRepoOne FeatureGroups.\n",
    "ProdLabRepoOne.list_feature_groups()"
   ]
  },
  {
   "cell_type": "code",
   "execution_count": null,
   "metadata": {},
   "outputs": [],
   "source": [
    "# Let's verify ProdLabRepoOne Features.\n",
    "ProdLabRepoOne.list_features()"
   ]
  },
  {
   "cell_type": "code",
   "execution_count": null,
   "metadata": {},
   "outputs": [],
   "source": [
    "# Let's verify ProdLabRepoOne DataSources.\n",
    "ProdLabRepoOne.list_data_sources()"
   ]
  },
  {
   "cell_type": "code",
   "execution_count": null,
   "metadata": {},
   "outputs": [],
   "source": [
    "# Let's verify ProdLabRepoOne Entities.\n",
    "ProdLabRepoOne.list_entities()"
   ]
  },
  {
   "cell_type": "markdown",
   "metadata": {
    "tags": []
   },
   "source": [
    "<hr>\n",
    "   <p  style='font-size:36px;font-family:Arial; color:#F0F0F0; background-color: #00233c; padding-left: 20pt; padding-top: 20pt;padding-bottom: 10pt; padding-right: 20pt;'>\n",
    "      Conclusion\n",
    "  <br>\n",
    "    </p>\n",
    "\n",
    "\n",
    "\n",
    "<p style = 'font-size:16px;font-family:Arial;color:#00233C'>In this demonstrations, users walked through Feature Store and object lifecyle - including creation, modification, archival, and deletion.  Additionally, users can see how to leverage Feature Stores in model building and production use cases.</p>\n"
   ]
  },
  {
   "cell_type": "markdown",
   "metadata": {},
   "source": [
    "<hr>\n",
    "<p style = 'font-size:18px;font-family:Arial;color:#00233C'><b>Clean Up</b></p>\n",
    "\n",
    "<p style = 'font-size:16px;font-family:Arial;color:#00233C'>Remove all extant Feature Store and database objects, shut down the compute cluster if desired, and disconnect from the database.</p>"
   ]
  },
  {
   "cell_type": "code",
   "execution_count": null,
   "metadata": {},
   "outputs": [],
   "source": [
    "# Get all repos\n",
    "for r in FeatureStore.list_repos().to_pandas(all_rows = True)['repos'].to_list():\n",
    "    repo = FeatureStore(r)\n",
    "    \n",
    "    # archive and delete all groups\n",
    "    for g in repo.list_feature_groups().to_pandas(all_rows = True).index.to_list():\n",
    "        repo.archive_feature_group(g)\n",
    "    for g in repo.list_feature_groups(archived = True).to_pandas(all_rows = True)['name'].to_list():\n",
    "        repo.delete_feature_group(g)\n",
    "    \n",
    "    # archive and delete all Features\n",
    "    for f in repo.list_features().to_pandas(all_rows = True).index.to_list():\n",
    "        repo.archive_feature(f)\n",
    "    for f in repo.list_features(archived = True).to_pandas(all_rows = True)['name'].to_list():\n",
    "        repo.delete_feature(f)\n",
    "        \n",
    "    # archive and delete all Entities\n",
    "    for e in repo.list_entities().to_pandas(all_rows = True).index.to_list():\n",
    "        repo.archive_entity(e)\n",
    "    for e in repo.list_entities(archived = True).to_pandas(all_rows = True)['name'].to_list():\n",
    "        repo.delete_entity(e)\n",
    "        \n",
    "    # archive and delete all Data Sources\n",
    "    for d in repo.list_data_sources().to_pandas(all_rows = True).index.to_list():\n",
    "        repo.archive_data_source(d)\n",
    "    for d in repo.list_data_sources(archived = True).to_pandas(all_rows = True)['name'].to_list():\n",
    "        repo.delete_data_source(d)"
   ]
  },
  {
   "cell_type": "code",
   "execution_count": null,
   "metadata": {},
   "outputs": [],
   "source": [
    "for r in FeatureStore.list_repos().to_pandas(all_rows = True)['repos'].to_list():\n",
    "\n",
    "    queries = [f'''drop trigger {r}._efs_group_features_trg;''',  \n",
    "    f'''drop table {r}._efs_group_features;''',\n",
    "    f'''drop table {r}._efs_group_features_staging;''',\n",
    "    f'''drop trigger {r}._efs_feature_group_trg;''',\n",
    "    f'''drop table {r}._efs_feature_group;''',\n",
    "    f'''drop table {r}._efs_feature_group_staging;''',\n",
    "    f'''drop trigger {r}._efs_entity_xref_trg;''',\n",
    "    f'''drop table {r}._efs_entity_xref;''',\n",
    "    f'''drop table {r}._efs_entity_xref_staging;''',\n",
    "    f'''drop trigger {r}._efs_entity_trg;''',\n",
    "    f'''drop table {r}._efs_entity;''',\n",
    "    f'''drop table {r}._efs_entity_staging;''',\n",
    "    f'''drop trigger {r}._efs_data_source_trg;''',\n",
    "    f'''drop table {r}._efs_data_source;''',\n",
    "    f'''drop table {r}._efs_data_source_staging;''',\n",
    "    f'''drop trigger {r}._efs_features_trg;''',\n",
    "    f'''drop table {r}._efs_features;''',\n",
    "    f'''drop table {r}._efs_features_staging;''',\n",
    "    f'''drop table {r}._efs_version;''',\n",
    "    f'''drop database {r};''']\n",
    "    \n",
    "    for q in queries:\n",
    "        execute_sql(q)\n",
    "FeatureStore.list_repos()"
   ]
  },
  {
   "cell_type": "code",
   "execution_count": null,
   "metadata": {},
   "outputs": [],
   "source": [
    "db_drop_table('patient_profile')\n",
    "db_drop_table('medical_readings')"
   ]
  },
  {
   "cell_type": "code",
   "execution_count": null,
   "metadata": {},
   "outputs": [],
   "source": [
    "remove_context()"
   ]
  },
  {
   "cell_type": "code",
   "execution_count": null,
   "metadata": {},
   "outputs": [],
   "source": []
  }
 ],
 "metadata": {
  "kernelspec": {
   "display_name": "Python 3 (ipykernel)",
   "language": "python",
   "name": "python3"
  },
  "language_info": {
   "codemirror_mode": {
    "name": "ipython",
    "version": 3
   },
   "file_extension": ".py",
   "mimetype": "text/x-python",
   "name": "python",
   "nbconvert_exporter": "python",
   "pygments_lexer": "ipython3",
   "version": "3.8.8"
  }
 },
 "nbformat": 4,
 "nbformat_minor": 4
}
