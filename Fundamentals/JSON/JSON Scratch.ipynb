{
 "cells": [
  {
   "cell_type": "code",
   "execution_count": null,
   "id": "immune-easter",
   "metadata": {},
   "outputs": [],
   "source": [
    "%addconnect name=lake_user, host=XXX.XXX.XXX.XXX"
   ]
  },
  {
   "cell_type": "code",
   "execution_count": null,
   "id": "empty-savage",
   "metadata": {},
   "outputs": [],
   "source": [
    "%chconnect name=lake_user, host=XXX.XXX.XXX.XXX"
   ]
  },
  {
   "cell_type": "code",
   "execution_count": null,
   "id": "educated-webmaster",
   "metadata": {},
   "outputs": [],
   "source": [
    "%disconnect lake_user"
   ]
  },
  {
   "cell_type": "code",
   "execution_count": null,
   "id": "therapeutic-egyptian",
   "metadata": {},
   "outputs": [],
   "source": [
    "%connect lake_user, user=data_engineer"
   ]
  },
  {
   "cell_type": "code",
   "execution_count": null,
   "id": "composed-samuel",
   "metadata": {},
   "outputs": [],
   "source": [
    "DROP TABLE json_test_ft;"
   ]
  },
  {
   "cell_type": "code",
   "execution_count": null,
   "id": "opposite-spokesman",
   "metadata": {},
   "outputs": [],
   "source": [
    "CREATE FOREIGN TABLE json_test_ft\n",
    "\n",
    "USING\n",
    "       (\n",
    "        LOCATION  ('/az/tdazdemo.blob.core.windows.net/json/customer/')\n",
    "       );"
   ]
  },
  {
   "cell_type": "code",
   "execution_count": null,
   "id": "needed-visitor",
   "metadata": {},
   "outputs": [],
   "source": [
    "select * FROM json_test_ft;"
   ]
  },
  {
   "cell_type": "code",
   "execution_count": null,
   "id": "peripheral-soccer",
   "metadata": {},
   "outputs": [],
   "source": [
    "SELECT Payload.name AS \"name\", CAST(Payload..address AS JSON(300)) AS Address, TYPE(Address) AS add_type FROM json_test_ft;"
   ]
  },
  {
   "cell_type": "code",
   "execution_count": null,
   "id": "buried-tooth",
   "metadata": {},
   "outputs": [],
   "source": [
    "SELECT Payload.name AS \"name\", Payload..address AS Address, TYPE(Address) AS add_type FROM json_test_ft;"
   ]
  },
  {
   "cell_type": "code",
   "execution_count": null,
   "id": "popular-employment",
   "metadata": {},
   "outputs": [],
   "source": [
    "DROP TABLE stripe_invoices_test;"
   ]
  },
  {
   "cell_type": "code",
   "execution_count": null,
   "id": "legendary-memory",
   "metadata": {},
   "outputs": [],
   "source": [
    "CREATE TABLE stripe_invoices_test AS\n",
    "(\n",
    "SELECT \n",
    "    CAST(Payload.\"id\" AS VARCHAR(255)) AS id_,\n",
    "    CAST(Payload.\"tax\" AS VARCHAR(255)) AS tax_,  -- Assuming tax can be represented as a string if not null\n",
    "    CAST(Payload.\"paid\" AS VARCHAR(5)) AS paid_,\n",
    "    CAST(Payload.\"lines\".\"url\" AS VARCHAR(255)) AS lines_url_,\n",
    "    CAST(Payload.\"lines\".\"data\"[0].\"id\" AS VARCHAR(255)) AS line_item_id_,\n",
    "    CAST(Payload.\"lines\".\"data\"[0].\"plan\" AS VARCHAR(255)) AS plan_, \n",
    "    CAST(Payload.\"lines\".\"data\"[0].\"type\" AS VARCHAR(255)) AS type_,\n",
    "    CAST(Payload.\"lines\".\"data\"[0].\"price\".\"id\" AS VARCHAR(255)) AS price_id_,\n",
    "    CAST(Payload.\"lines\".\"data\"[0].\"price\".\"type\" AS VARCHAR(255)) AS price_type_,\n",
    "    CAST(Payload.\"lines\".\"data\"[0].\"price\".\"active\" AS VARCHAR(5)) AS price_active_,\n",
    "    CAST(Payload.\"lines\".\"data\"[0].\"price\".\"object\" AS VARCHAR(255)) AS price_object_,\n",
    "    TO_TIMESTAMP(CAST(Payload.\"lines\".\"data\"[0].\"price\".\"created\" AS BIGINT)) AS price_created_,\n",
    "    CAST(Payload.\"lines\".\"data\"[0].\"price\".\"product\" AS VARCHAR(255)) AS price_product_,\n",
    "    CAST(Payload.\"lines\".\"data\"[0].\"price\".\"currency\" AS VARCHAR(20)) AS price_currency_,\n",
    "    CAST(Payload.\"lines\".\"data\"[0].\"price\".\"livemode\" AS VARCHAR(5)) AS price_livemode_,\n",
    "    CAST(Payload.\"lines\".\"data\"[0].\"price\".\"nickname\" AS VARCHAR(255)) AS price_nickname_, \n",
    "    CAST(Payload.\"lines\".\"data\"[0].\"price\".\"recurring\" AS VARCHAR(255)) AS price_recurring_, \n",
    "    CAST(Payload.\"lines\".\"data\"[0].\"price\".\"tiers_mode\" AS VARCHAR(255)) AS price_tiers_mode_,\n",
    "    CAST(Payload.\"lines\".\"data\"[0].\"price\".\"unit_amount\" AS INTEGER) AS price_unit_amount_,\n",
    "    CAST(Payload.\"lines\".\"data\"[0].\"price\".\"tax_behavior\" AS VARCHAR(255)) AS price_tax_behavior_,\n",
    "    CAST(Payload.\"lines\".\"data\"[0].\"price\".\"billing_scheme\" AS VARCHAR(255)) AS price_billing_scheme_,\n",
    "    CAST(Payload.\"lines\".\"data\"[0].\"price\".\"custom_unit_amount\" AS INTEGER) AS price_custom_unit_amount_, \n",
    "    CAST(Payload.\"lines\".\"data\"[0].\"price\".\"transform_quantity\" AS VARCHAR(255)) AS price_transform_quantity_,\n",
    "    CAST(Payload.\"lines\".\"data\"[0].\"price\".\"unit_amount_decimal\" AS DECIMAL(18,2)) AS price_unit_amount_decimal_,\n",
    "    CAST(Payload.\"lines\".\"data\"[0].\"amount\" AS INTEGER) AS amount_,\n",
    "    CAST(Payload.\"lines\".\"data\"[0].\"object\" AS VARCHAR(255)) AS line_item_object_,\n",
    "    TO_TIMESTAMP(CAST(Payload.\"lines\".\"data\"[0].\"period\".\"end\" AS BIGINT)) AS data_period_end_,\n",
    "    TO_TIMESTAMP(CAST(Payload.\"lines\".\"data\"[0].\"period\".\"start\" AS BIGINT)) AS data_period_start_,\n",
    "    CAST(Payload.\"lines\".\"data\"[0].\"invoice\" AS VARCHAR(255)) AS invoice_,\n",
    "    CAST(Payload.\"lines\".\"data\"[0].\"currency\" AS VARCHAR(20)) AS data_currency_,\n",
    "    CAST(Payload.\"lines\".\"data\"[0].\"livemode\" AS VARCHAR(5)) AS data_livemode_,\n",
    "    CAST(Payload.\"lines\".\"data\"[0].\"metadata\".* AS JSON) AS metadata_\n",
    "FROM (\n",
    "   LOCATION ='/s3/dev-rel-demos.s3.amazonaws.com/demo_data_airbyte_mock/generated_invoices.json') AS stripe_invoices\n",
    ") WITH DATA;"
   ]
  },
  {
   "cell_type": "code",
   "execution_count": 5,
   "id": "signed-incentive",
   "metadata": {},
   "outputs": [
    {
     "data": {
      "text/plain": [
       "Success: 21 rows affected"
      ]
     },
     "execution_count": 5,
     "metadata": {
      "application/vnd.teradata.resultset": ""
     },
     "output_type": "execute_result"
    }
   ],
   "source": [
    "DROP TABLE stripe_test_ft;"
   ]
  },
  {
   "cell_type": "code",
   "execution_count": 6,
   "id": "resident-humanity",
   "metadata": {},
   "outputs": [
    {
     "data": {
      "text/plain": [
       "Success: 0 rows affected"
      ]
     },
     "execution_count": 6,
     "metadata": {
      "application/vnd.teradata.resultset": ""
     },
     "output_type": "execute_result"
    }
   ],
   "source": [
    "CREATE FOREIGN TABLE stripe_test_ft,\n",
    "EXTERNAL SECURITY Repositories.PubAuth\n",
    "\n",
    "USING\n",
    "       (\n",
    "        LOCATION  ('/s3/dev-rel-demos.s3.amazonaws.com/demo_data_airbyte_mock/generated_invoices.json')\n",
    "       );"
   ]
  },
  {
   "cell_type": "code",
   "execution_count": null,
   "id": "reverse-trinidad",
   "metadata": {},
   "outputs": [],
   "source": [
    "SELECT TOP 5 * FROM stripe_invoices_test;"
   ]
  },
  {
   "cell_type": "code",
   "execution_count": null,
   "id": "industrial-little",
   "metadata": {},
   "outputs": [],
   "source": [
    "SELECT * FROM TD_JSONSHRED(\n",
    "    ON (select HASHROW(Payload), Payload FROM json_test_ft)\n",
    "    USING\n",
    "    ROWEXPR('')\n",
    "    COLEXPR('name', 'age','hobbies','address')\n",
    "    RETURNTYPES('VARCHAR(20)', 'INTEGER', 'VARCHAR(500)', 'VARCHAR(500)')\n",
    ") t;"
   ]
  },
  {
   "cell_type": "code",
   "execution_count": null,
   "id": "accessible-characteristic",
   "metadata": {},
   "outputs": [],
   "source": [
    "--Customer Dimension\n",
    "SELECT * FROM TD_JSONSHRED(\n",
    "    ON (select HASHROW(Payload), Payload FROM json_test_ft)\n",
    "    USING\n",
    "    ROWEXPR('')\n",
    "    COLEXPR('name', 'age','address')\n",
    "    RETURNTYPES('VARCHAR(20)', 'INTEGER','VARCHAR(500)')\n",
    ") t;"
   ]
  },
  {
   "cell_type": "code",
   "execution_count": null,
   "id": "arranged-brake",
   "metadata": {},
   "outputs": [],
   "source": [
    "--Hobbies Dimension\n",
    "SELECT Column_1 as \"CustomerID\", Column_2 as \"Hobby\" FROM TD_JSONSHRED(\n",
    "    ON (select HASHROW(Payload), Payload FROM json_test_ft)\n",
    "    USING\n",
    "    ROWEXPR('hobbies')\n",
    "    COLEXPR('')\n",
    "    RETURNTYPES('VARCHAR(500)')\n",
    ") t;"
   ]
  },
  {
   "cell_type": "code",
   "execution_count": null,
   "id": "intended-impression",
   "metadata": {},
   "outputs": [],
   "source": [
    "SELECT Column_1 AS \"CustomerID\", \"name\", street, city, state, zip FROM TD_JSONSHRED\n",
    "(\n",
    "    ON (\n",
    "\n",
    "        SELECT * FROM TD_JSONSHRED(\n",
    "            ON (select HASHROW(Payload), Payload FROM json_test_ft)\n",
    "            USING\n",
    "            ROWEXPR('')\n",
    "            COLEXPR('name', 'age','address')\n",
    "            RETURNTYPES('VARCHAR(20)', 'INTEGER','VARCHAR(500)')\n",
    "        ) AS d1\n",
    "    )\n",
    "    USING\n",
    "        ROWEXPR('')\n",
    "        COLEXPR('street', 'city', 'state', 'zip')\n",
    "        RETURNTYPES('VARCHAR(25)', 'VARCHAR(20)', 'VARCHAR(2)', 'VARCHAR(8)')\n",
    ") AS d2;"
   ]
  },
  {
   "cell_type": "code",
   "execution_count": null,
   "id": "every-mailing",
   "metadata": {},
   "outputs": [],
   "source": []
  }
 ],
 "metadata": {
  "kernelspec": {
   "display_name": "Teradata SQL",
   "language": "Teradata SQL",
   "name": "teradatasql"
  },
  "language_info": {
   "codemirror_mode": "Teradata SQL",
   "file_extension": ".tdrs",
   "mimetype": "application/vnd.teradata.resultset",
   "name": "Teradata SQL",
   "nbconvert_exporter": "",
   "pygments_lexer": "",
   "version": "16.20"
  }
 },
 "nbformat": 4,
 "nbformat_minor": 5
}
