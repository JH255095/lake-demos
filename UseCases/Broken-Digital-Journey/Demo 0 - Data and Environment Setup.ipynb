{
 "cells": [
  {
   "cell_type": "markdown",
   "id": "reasonable-healthcare",
   "metadata": {},
   "source": [
    "<header>\n",
    "   <p  style='font-size:36px;font-family:Arial; color:#F0F0F0; background-color: #00233c; padding-left: 20pt; padding-top: 20pt;padding-bottom: 10pt; padding-right: 20pt;'>\n",
    "       VantageCloud Lake Path Analyzer\n",
    "  <br>\n",
    "       <img id=\"teradata-logo\" src=\"../../images/TeradataLogo.png\" alt=\"Teradata\" style=\"width: 125px; height: auto; margin-top: 20pt;\">\n",
    "    </p>\n",
    "</header>\n",
    "<hr>"
   ]
  },
  {
   "cell_type": "markdown",
   "id": "informed-nylon",
   "metadata": {},
   "source": [
    "<br>\n",
    "\n",
    "<b style = 'font-size:24px;font-family:Arial;color:#00233C'>Demo 0 - Foreign Table Setup</b>\n",
    "\n",
    "<p style = 'font-size:16px;font-family:Arial;color:#00233C'>This notebook sets up the Foreign Table \"demo_ofs.Digital_Retail_Events\" that is used for Path Analyzer UI demo.</p>\n",
    "<hr>"
   ]
  },
  {
   "cell_type": "code",
   "execution_count": 1,
   "id": "superior-excess",
   "metadata": {},
   "outputs": [],
   "source": [
    "# /* -------------------------------------------------------- */\n",
    "# -- Perform this as SYSDBA.\n",
    "# -- Load demo_ofs.Digital_Retail_Events from source file\n",
    "# /* -------------------------------------------------------- */\n",
    "\n",
    "import teradatasql, json\n",
    "\n",
    "# load vars json\n",
    "with open('../../vars.json', 'r') as f:\n",
    "    session_vars = json.load(f)\n",
    "\n",
    "name = session_vars['hierarchy']['SYSDBA']['username']\n",
    "pwd = session_vars['hierarchy']['SYSDBA']['password']\n",
    "\n",
    "bucket = session_vars['environment']['bucket']\n",
    "\n",
    "with teradatasql.connect(host = session_vars['environment']['host'], \n",
    "                     user = name, \n",
    "                     password = pwd) as con:\n",
    "    cur = con.cursor()\n",
    "    \n",
    "    try:\n",
    "        cur.execute('DROP TABLE demo_ofs.Digital_Retail_Events')\n",
    "    except Exception as e:\n",
    "        # Table already exists\n",
    "        if str(e.args).find(\"3807\") >= 1:\n",
    "            pass\n",
    "        else:\n",
    "            raise\n",
    "            \n",
    "    \n",
    "    qry = '''\n",
    "    CREATE MULTISET TABLE demo_ofs.Digital_Retail_Events\n",
    "\n",
    "     (\n",
    "      Entity_Id INTEGER,\n",
    "      datestamp TIMESTAMP(6),\n",
    "      event VARCHAR(19) CHARACTER SET LATIN NOT CASESPECIFIC,\n",
    "      session_id INTEGER)\n",
    "    NO PRIMARY INDEX;\n",
    "    '''\n",
    "    cur.execute(qry)\n",
    "    \n",
    "    qry = f'''\n",
    "    Insert into demo_ofs.Digital_Retail_Events \n",
    "    SELECT Entity_Id, datestamp, event, session_id\n",
    "    FROM\n",
    "            (\n",
    "                LOCATION = '/s3/{bucket}.s3.amazonaws.com/DEMO_OFS/DIGITAL_RETAIL_EVENTS/manifest.json'\n",
    "                MANIFEST = 'TRUE'\n",
    "                AUTHORIZATION = Repositories.PubAuth\n",
    "            ) D;'''\n",
    "    cur.execute(qry)"
   ]
  },
  {
   "cell_type": "markdown",
   "id": "offshore-worker",
   "metadata": {},
   "source": [
    "Copyright 2023, Teradata Corporation"
   ]
  }
 ],
 "metadata": {
  "kernelspec": {
   "display_name": "Python 3 (ipykernel)",
   "language": "python",
   "name": "python3"
  },
  "language_info": {
   "codemirror_mode": {
    "name": "ipython",
    "version": 3
   },
   "file_extension": ".py",
   "mimetype": "text/x-python",
   "name": "python",
   "nbconvert_exporter": "python",
   "pygments_lexer": "ipython3",
   "version": "3.8.8"
  }
 },
 "nbformat": 4,
 "nbformat_minor": 5
}
