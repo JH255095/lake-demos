{
 "cells": [
  {
   "cell_type": "markdown",
   "id": "1f44f3bc-51cc-47e3-a033-f2883ed97408",
   "metadata": {},
   "source": [
    "<header>\n",
    "   <p  style='font-size:36px;font-family:Arial; color:#F0F0F0; background-color: #00233c; padding-left: 20pt; padding-top: 20pt;padding-bottom: 10pt; padding-right: 20pt;'>\n",
    "       In-Database Complaints Analysis Integration with Customer360 using LLMs\n",
    "  <br>\n",
    "       <img id=\"teradata-logo\" src=\"https://storage.googleapis.com/clearscape_analytics_demo_data/DEMO_Logo/teradata.svg\" alt=\"Teradata\" style=\"width: 125px; height: auto; margin-top: 20pt;\">\n",
    "    </p>\n",
    "</header>"
   ]
  },
  {
   "cell_type": "markdown",
   "id": "19c23c87-b5a5-4905-913e-d4f7980497fa",
   "metadata": {},
   "source": [
    "<p style = 'font-size:20px;font-family:Arial;color:#00233c'><b>Introduction:</b></p>\n",
    "<p style='font-size:16px;font-family:Arial;color:#00233C'>Complaints Analysis Integration with Customer360 is a comprehensive approach to managing customer complaints and feedback within the framework of a Customer 360-degree view using <b>Teradata Vantage</b> and <b>Amazon Bedrock</b>. This integration aims to provide a seamless and personalized customer experience by leveraging data from various sources, including CRM systems, marketing platforms, and social media.</p> <p style='font-size:16px;font-family:Arial;color:#00233C'>The key components of this integration include:</p> \n",
    "\n",
    "<ol style='font-size:16px;font-family:Arial;color:#00233C'> <li><b>Customer 360 Data Manager</b>: Responsible for managing and maintaining a comprehensive view of customer data, including collection, integration, and analysis from multiple sources.</li> <li><b>Complaints Management Dashboard</b>: Analyzes customer complaints, providing insights into complaint volume, trends, and resolution progress.</li> <li><b>Customer Insights</b>: Tools for gaining insights into customer behavior and preferences, enabling targeted marketing campaigns and informed business decisions.</li> </ol> <p style='font-size:16px;font-family:Arial;color:#00233C'>The benefits of this integration include:</p> <ol style='font-size:16px;font-family:Arial;color:#00233C'> <li><b>Improved Customer Experience</b>: By integrating complaints analysis with Customer 360, businesses can address customer complaints more effectively, leading to increased customer satisfaction and loyalty.</li> <li><b>Data-Driven Decision Making</b>: The integration provides a centralized platform for analyzing customer data, enabling businesses to make informed decisions about product development, marketing strategies, and customer engagement.</li> <li><b>Enhanced Customer Insights</b>: The comprehensive view of customer data allows businesses to better understand customer needs and preferences, leading to more targeted and effective marketing efforts.</li> </ol> \n",
    "\n",
    "\n",
    "<p style='font-size:16px;font-family:Arial;color:#00233C'>By integrating complaints analysis with Customer 360, businesses can create a more comprehensive and personalized customer experience, driving business growth and customer satisfaction.</p> \n",
    "\n",
    "<p style = 'font-size:16px;font-family:Arial;color:#00233c'><b>Steps in the analysis:</b></p>\n",
    "<ol style = 'font-size:16px;font-family:Arial;color:#00233C'>\n",
    "    <li>Connect to Vantage</li>\n",
    "    <li>Configure server-side LLM access using Teradatagenai package</li>\n",
    "    <li>Execute in-database Sentiment Analysis, Topic Modelling and Complaint Summarization</li>\n",
    "    <li>Integrate data with customer 360</li>\n",
    "    <li>Cleanup</li>\n",
    "</ol>"
   ]
  },
  {
   "cell_type": "markdown",
   "id": "439c593b-d12a-4edf-8b5f-6070f1122914",
   "metadata": {},
   "source": [
    "<hr style=\"height:1px;border:none;background-color:#00233C;\">\n",
    "<p style = 'font-size:18px;font-family:Arial;color:#00233C'><b>Download and install additional software as needed</b>"
   ]
  },
  {
   "cell_type": "code",
   "execution_count": null,
   "id": "ebc0a97b-78f8-4274-9844-d3b1d31848e6",
   "metadata": {},
   "outputs": [],
   "source": [
    "%pip install --upgrade -r requirements.txt --quiet"
   ]
  },
  {
   "cell_type": "markdown",
   "id": "7a8a5583-362f-4d11-8b3a-17b20637f517",
   "metadata": {},
   "source": [
    "<div class=\"alert alert-block alert-info\">\n",
    "<p style = 'font-size:16px;font-family:Arial;color:#00233C'><b>Note: </b><i>Please restart the kernel after executing these two lines. The simplest way to restart the Kernel is by typing zero zero: <b> 0 0</b></i></p>"
   ]
  },
  {
   "cell_type": "markdown",
   "id": "7e7e5046-3c5f-4f6d-aeaf-60028655ff13",
   "metadata": {},
   "source": [
    "<hr style=\"height:2px;border:none;background-color:#00233C;\">\n",
    "<p style = 'font-size:16px;font-family:Arial;color:#00233C'>Here, we import the required libraries, set environment variables and environment paths (if required).</p>"
   ]
  },
  {
   "cell_type": "code",
   "execution_count": 16,
   "id": "83dc0922-f932-4378-a505-3bb2d1f1243b",
   "metadata": {
    "tags": []
   },
   "outputs": [],
   "source": [
    "import numpy as np\n",
    "import pandas as pd\n",
    "import json, warnings\n",
    "\n",
    "from teradataml import *\n",
    "from teradatagenai import TeradataAI, TextAnalyticsAI, VSManager, VectorStore, VSApi\n",
    "\n",
    "\n",
    "\n",
    "# Set display options for dataframes, plots, and warnings\n",
    "%matplotlib inline\n",
    "warnings.filterwarnings('ignore')\n",
    "pd.set_option('display.max_colwidth', None)\n",
    "display.suppress_vantage_runtime_warnings = True\n",
    "display.max_rows = 5"
   ]
  },
  {
   "cell_type": "markdown",
   "id": "768bf2ed-ae11-4969-b20a-88496e4a2b67",
   "metadata": {},
   "source": [
    "<hr style=\"height:2px;border:none;background-color:#00233C;\">\n",
    "<b style = 'font-size:20px;font-family:Arial;color:#00233C'>1. Connect to Vantage</b>\n",
    "<p style = 'font-size:16px;font-family:Arial;color:#00233C'>Connection information has been defined in an external file - adjust as necessary.</p>"
   ]
  },
  {
   "cell_type": "code",
   "execution_count": 10,
   "id": "454a2e81-c377-4058-9e68-78abd801ad9c",
   "metadata": {
    "tags": []
   },
   "outputs": [
    {
     "name": "stdout",
     "output_type": "stream",
     "text": [
      "Authentication token is generated, authenticated and set for the session.\n"
     ]
    }
   ],
   "source": [
    "# load vars json\n",
    "with open('vars-vs_demo.json', 'r') as f:\n",
    "    session_vars = json.load(f)\n",
    "\n",
    "# Database login information\n",
    "host = session_vars['environment']['host']\n",
    "username = session_vars['hierarchy']['users']['business_users'][1]['username']\n",
    "password = session_vars['hierarchy']['users']['business_users'][1]['password']\n",
    "\n",
    "# connect to database\n",
    "eng = create_context(host = host, username = username, password = password)\n"
   ]
  },
  {
   "cell_type": "markdown",
   "id": "c62b56de-5a86-4c82-9d47-17d7a3314974",
   "metadata": {
    "tags": []
   },
   "source": [
    "<hr>\n",
    "\n",
    "<p style = 'font-size:20px;font-family:Arial;color:#00233C'><b>2.  Set up the LLM connection</b></p>\n",
    "\n",
    "<p style = 'font-size:16px;font-family:Arial;color:#00233C'>The <b>teradatagenai</b> python library can both connect to cloud-based LLM services as well as instantiate private models running <b>at scale</b> on local GPU compute. In this case we will use anthropoc claude-instant-v1 for low-cost, high-throughput tasks.</p>\n",
    "\n",
    "<ol style = 'font-size:16px;font-family:Arial;color:#00233C'>\n",
    "<li><b>aws_access_key_id</b>: Enter your AWS access key ID</li>\n",
    "<li><b>aws_secret_access_key</b>: Enter your AWS secret access key</li>\n",
    "<li><b>region name</b>: Enter the AWS region you want to configure (e.g., us-east-1)</li>\n",
    "<ol>"
   ]
  },
  {
   "cell_type": "code",
   "execution_count": null,
   "id": "49e92709-9a74-4372-a57a-7b078fe2ae2c",
   "metadata": {},
   "outputs": [],
   "source": [
    "access_key = getpass.getpass('aws_access_key_id: ')\n",
    "secret_key = getpass.getpass('aws_secret_access_key: ')\n",
    "region_name = getpass.getpass('region name: ')"
   ]
  },
  {
   "cell_type": "code",
   "execution_count": 17,
   "id": "d47859af-aebc-41c7-a3a1-919dccf57584",
   "metadata": {
    "tags": []
   },
   "outputs": [],
   "source": [
    "# Provide model details\n",
    "model_name = 'anthropic.claude-instant-v1'\n",
    "\n",
    "# Select in-database or external model\n",
    "llm = TeradataAI(api_type = 'AWS',\n",
    "         model_name = model_name,\n",
    "         region = region_name,\n",
    "         # authorization = 'Repositories.BedrockAuth'\n",
    "         access_key = access_key,\n",
    "         secret_key = secret_key)\n",
    "\n",
    "\n",
    "obj = TextAnalyticsAI(llm=llm)"
   ]
  },
  {
   "cell_type": "markdown",
   "id": "69cdee3e-feb5-4cfd-b8d5-99baadcde44e",
   "metadata": {},
   "source": [
    "<hr style=\"height:2px;border:none;background-color:#00233C;\">\n",
    "<b style = 'font-size:20px;font-family:Arial;color:#00233C'>3. Using LLM for Sentiment Analysis, Topic Modeling and Complaint Summarization</b>\n",
    "\n",
    "<p style = 'font-size:16px;font-family:Arial;color:#00233C'>Sentiment Analysis, Topic Modeling and Complaint Summarization using Large Language Models (LLMs) revolutionizes the way we understand and categorize vast collections of text data. LLMs excel in understanding the semantics and context of words, enabling sophisticated topic modeling techniques.</p>\n",
    "\n",
    "<p style='font-size:16px;font-family:Arial;color:#00233C'>Sentiment Analysis Using Large Language Models (LLMs) is a cutting-edge approach to understanding customer opinions and emotions expressed through text-based data. This advanced technique leverages the capabilities of LLMs to accurately identify and categorize sentiment as positive, negative, or neutral, providing businesses with valuable insights into customer perceptions and preferences.</p>\n",
    "\n",
    "<p style = 'font-size:16px;font-family:Arial;color:#00233C'>LLMs can generate coherent topics without needing predefined categories, making them ideal for exploratory analysis of diverse datasets. Moreover, their ability to capture subtle nuances in language allows for more precise topic identification, even in noisy or ambiguous texts.</p>\n",
    "\n",
    "<hr>\n",
    "\n",
    "<p style = 'font-size:18px;font-family:Arial;color:#00233C'><b>Inspect source data</b></p>\n",
    "\n",
    "<p style = 'font-size:16px;font-family:Arial;color:#00233C'>The Teradata python package (teradataml) allows users to work with data using common python syntax and methods <b>without</b> moving data to the client - all operations are pushed to the MPP platform, allowing rapid, performant analytics on data at any scale.  In this case, the DataFrame object represents a table or query <b>in-database</b> which could contain millions or billions of records.</p>"
   ]
  },
  {
   "cell_type": "code",
   "execution_count": 11,
   "id": "3506e344-bf92-44f4-9cee-7d85eac3290b",
   "metadata": {
    "tags": []
   },
   "outputs": [
    {
     "data": {
      "application/vnd.jupyter.widget-view+json": {
       "model_id": "647d0dcdbbbb4ad89b2543e8807fc10b",
       "version_major": 2,
       "version_minor": 0
      },
      "text/plain": []
     },
     "metadata": {},
     "output_type": "display_data"
    },
    {
     "data": {
      "text/html": [
       "<style type=\"text/css\">\n",
       "\ttable { border:ridge 5px}\n",
       "\ttable td {border:inset 1px;}\n",
       "\ttable tr#HeaderRow {background-color:grey; color:white;}\n",
       "\t</style>\n",
       "<html><table style=\"min-width:1000px;\">\n",
       "\t<tr id=\"HeaderRow\">\n",
       "<th>Customer Identifier</th><th>Name</th><th>City</th><th>State</th><th>Customer Type</th><th>Product Holdings</th><th>Total Deposit Balance</th><th>Total Credit Balance</th><th>Total Investments AUM</th><th>Customer Profitability</th><th>Customer Lifetime Value</th><th>Bank Tenure</th><th>Affluence Segment</th><th>Digital Banking Segment</th><th>Branch Banking Segment</th>\n",
       "</tr>\n",
       "\t<tr>\n",
       "\t\t<td>456789123</td>\n",
       "\t\t<td>Alphonse S. Mercado</td>\n",
       "\t\t<td>West Covina</td>\n",
       "\t\t<td>CA</td>\n",
       "\t\t<td>Consumer & Business</td>\n",
       "\t\t<td>Checking, Home Equity, Brokerage</td>\n",
       "\t\t<td>23291</td>\n",
       "\t\t<td>122422</td>\n",
       "\t\t<td>68369</td>\n",
       "\t\t<td>312</td>\n",
       "\t\t<td>3712</td>\n",
       "\t\t<td>10.2</td>\n",
       "\t\t<td>Private Banking</td>\n",
       "\t\t<td>Not Online</td>\n",
       "\t\t<td>Branch only</td>\n",
       "\t</tr>\n",
       "\t<tr>\n",
       "\t\t<td>123456789</td>\n",
       "\t\t<td>John Q. Public</td>\n",
       "\t\t<td>Rancho Bernardo</td>\n",
       "\t\t<td>CA</td>\n",
       "\t\t<td>Consumer Only</td>\n",
       "\t\t<td>Checking, Savings, Credit Card</td>\n",
       "\t\t<td>1425</td>\n",
       "\t\t<td>5241</td>\n",
       "\t\t<td>0</td>\n",
       "\t\t<td>105</td>\n",
       "\t\t<td>425</td>\n",
       "\t\t<td>4.5</td>\n",
       "\t\t<td>Mass Affluent</td>\n",
       "\t\t<td>Digital Monetary</td>\n",
       "\t\t<td>Branch & ATM</td>\n",
       "\t</tr>\n",
       "\t<tr>\n",
       "\t\t<td>789456123</td>\n",
       "\t\t<td>Linda H. Gomes</td>\n",
       "\t\t<td>Fife</td>\n",
       "\t\t<td>WA</td>\n",
       "\t\t<td>Consumer Only</td>\n",
       "\t\t<td>Mortgage</td>\n",
       "\t\t<td>0</td>\n",
       "\t\t<td>272162</td>\n",
       "\t\t<td>0</td>\n",
       "\t\t<td>225</td>\n",
       "\t\t<td>1865</td>\n",
       "\t\t<td>3.8</td>\n",
       "\t\t<td>Mass Market</td>\n",
       "\t\t<td>Not Online</td>\n",
       "\t\t<td>nan</td>\n",
       "\t</tr>\n",
       "\t<tr>\n",
       "\t\t<td>135724681</td>\n",
       "\t\t<td>Cardi B. Jones</td>\n",
       "\t\t<td>Syosset</td>\n",
       "\t\t<td>NY</td>\n",
       "\t\t<td>Consumer Only</td>\n",
       "\t\t<td>Credit Card</td>\n",
       "\t\t<td>0</td>\n",
       "\t\t<td>697</td>\n",
       "\t\t<td>0</td>\n",
       "\t\t<td>33</td>\n",
       "\t\t<td>89</td>\n",
       "\t\t<td>1.4</td>\n",
       "\t\t<td>Mass Market</td>\n",
       "\t\t<td>Digital Access</td>\n",
       "\t\t<td>nan</td>\n",
       "\t</tr>\n",
       "\t<tr>\n",
       "\t\t<td>987654321</td>\n",
       "\t\t<td>Jane Z. Doe</td>\n",
       "\t\t<td>El Cerrito</td>\n",
       "\t\t<td>CA</td>\n",
       "\t\t<td>Consumer Only</td>\n",
       "\t\t<td>Checking, Savings</td>\n",
       "\t\t<td>825</td>\n",
       "\t\t<td>0</td>\n",
       "\t\t<td>0</td>\n",
       "\t\t<td>42</td>\n",
       "\t\t<td>107</td>\n",
       "\t\t<td>6.3</td>\n",
       "\t\t<td>Mass Market\tDigital Access</td>\n",
       "\t\t<td>ATM only</td>\n",
       "\t\t<td>nan</td>\n",
       "\t</tr>\n",
       "</table></html>"
      ],
      "text/plain": [
       "                                    Name             City State        Customer Type                  Product Holdings  Total Deposit Balance  Total Credit Balance  Total Investments AUM  Customer Profitability  Customer Lifetime Value  Bank Tenure            Affluence Segment Digital Banking Segment Branch Banking Segment\n",
       "Customer Identifier                                                                                                                                                                                                                                                                                                                 \n",
       "456789123            Alphonse S. Mercado      West Covina    CA  Consumer & Business  Checking, Home Equity, Brokerage                  23291                122422                  68369                     312                     3712         10.2              Private Banking              Not Online            Branch only\n",
       "123456789                 John Q. Public  Rancho Bernardo    CA        Consumer Only    Checking, Savings, Credit Card                   1425                  5241                      0                     105                      425          4.5                Mass Affluent        Digital Monetary           Branch & ATM\n",
       "789456123                 Linda H. Gomes             Fife    WA        Consumer Only                          Mortgage                      0                272162                      0                     225                     1865          3.8                  Mass Market              Not Online                    nan\n",
       "135724681                 Cardi B. Jones          Syosset    NY        Consumer Only                       Credit Card                      0                   697                      0                      33                       89          1.4                  Mass Market          Digital Access                    nan\n",
       "987654321                    Jane Z. Doe       El Cerrito    CA        Consumer Only                 Checking, Savings                    825                     0                      0                      42                      107          6.3  Mass Market\\tDigital Access                ATM only                    nan"
      ]
     },
     "execution_count": 11,
     "metadata": {},
     "output_type": "execute_result"
    }
   ],
   "source": [
    "customer_data = DataFrame('\"demo\".\"Customer_360_Details\"')\n",
    "customer_data"
   ]
  },
  {
   "cell_type": "code",
   "execution_count": 12,
   "id": "fb0b5121-6071-42cd-a928-af0116094289",
   "metadata": {
    "tags": []
   },
   "outputs": [
    {
     "data": {
      "application/vnd.jupyter.widget-view+json": {
       "model_id": "21c878c8c47f4bbaa33e114bf850894d",
       "version_major": 2,
       "version_minor": 0
      },
      "text/plain": []
     },
     "metadata": {},
     "output_type": "display_data"
    },
    {
     "data": {
      "text/html": [
       "<style type=\"text/css\">\n",
       "\ttable { border:ridge 5px}\n",
       "\ttable td {border:inset 1px;}\n",
       "\ttable tr#HeaderRow {background-color:grey; color:white;}\n",
       "\t</style>\n",
       "<html><table style=\"min-width:1000px;\">\n",
       "\t<tr id=\"HeaderRow\">\n",
       "<th>date_received</th><th>product</th><th>sub_product</th><th>issue</th><th>sub_issue</th><th>consumer_complaint_narrative</th><th>company_public_response</th><th>company</th><th>state</th><th>zip_code</th><th>tags</th><th>consumer_consent_provided</th><th>submitted_via</th><th>date_sent_to_company</th><th>company_response_to_consumer</th><th>timely_response</th><th>consumer_disputed</th><th>complaint_id</th><th>Customer_ID</th>\n",
       "</tr>\n",
       "\t<tr>\n",
       "\t\t<td>19/12/12</td>\n",
       "\t\t<td>Mortgage</td>\n",
       "\t\t<td>Home equity loan or line of credit (HELOC)</td>\n",
       "\t\t<td>Trouble during payment process</td>\n",
       "\t\t<td>nan</td>\n",
       "\t\t<td>I had a home equity loan with Discover Bank for {$75000.00}. In both the Loan Estimate and Closing Disclosure, it states under \" Prepayment Penalty '' that there was none. I was also told this verbally. However, in a later set of documents it does describe a prepayment penalty if paid off within 36 months. I believe this discrepancy between the documents is deceptive. I believe I was lead to believe that there would not be a prepayment penalty and was surprised to find this {$420.00} penalty in my payoff letter. I spoke with a representative who agreed that it was misleading then a supervisor who noted that it was in another document which I signed. I told him I felt deceived but he was not willing to refund the prepayment penalty. I'm curious as to how many other people they are doing this to.</td>\n",
       "\t\t<td>**********************</td>\n",
       "\t\t<td>DISCOVER BANK</td>\n",
       "\t\t<td>IL</td>\n",
       "\t\t<td>60302</td>\n",
       "\t\t<td>**********************</td>\n",
       "\t\t<td>Consent provided</td>\n",
       "\t\t<td>Web</td>\n",
       "\t\t<td>19/12/12</td>\n",
       "\t\t<td>Closed with monetary relief</td>\n",
       "\t\t<td>Yes</td>\n",
       "\t\t<td>*****</td>\n",
       "\t\t<td>3466832</td>\n",
       "\t\t<td>456789123</td>\n",
       "\t</tr>\n",
       "\t<tr>\n",
       "\t\t<td>23/09/04</td>\n",
       "\t\t<td>Mortgage</td>\n",
       "\t\t<td>Home equity loan or line of credit (HELOC)</td>\n",
       "\t\t<td>Applying for a mortgage or refinancing an existing mortgage</td>\n",
       "\t\t<td>Application denials</td>\n",
       "\t\t<td>I went to apply for XXXX home equity loan on XX/XX/XXXX. I got full pre-approval under the terms of 30 year loan interest of 9.99 %. I accepted this. They then requested lots of different information that I submitted. Every file said accepted. On XX/XX/XXXX I called them up because there was a small problem with the mortage statement I submitted. At this time I was told I was no longer approved because of debt to income ratio. The thing being I already had pre-approval and even the proof of income was already accepted. This loan would have been XXXX of my current debt payments without the loan.</td>\n",
       "\t\t<td>**********************</td>\n",
       "\t\t<td>DISCOVER BANK</td>\n",
       "\t\t<td>WY</td>\n",
       "\t\t<td>82801</td>\n",
       "\t\t<td>**********************</td>\n",
       "\t\t<td>Consent provided</td>\n",
       "\t\t<td>Web</td>\n",
       "\t\t<td>23/09/04</td>\n",
       "\t\t<td>Closed with explanation</td>\n",
       "\t\t<td>Yes</td>\n",
       "\t\t<td>*****</td>\n",
       "\t\t<td>7494116</td>\n",
       "\t\t<td>135724681</td>\n",
       "\t</tr>\n",
       "\t<tr>\n",
       "\t\t<td>21/05/11</td>\n",
       "\t\t<td>Mortgage</td>\n",
       "\t\t<td>Conventional home mortgage</td>\n",
       "\t\t<td>Closing on a mortgage</td>\n",
       "\t\t<td>nan</td>\n",
       "\t\t<td>Mortgage was paid off on XX/XX/2021. Home was sold, we moved to Florida. We are nearly 60 days and the escrow refund has not been issued.</td>\n",
       "\t\t<td>**********************</td>\n",
       "\t\t<td>DISCOVER BANK</td>\n",
       "\t\t<td>FL</td>\n",
       "\t\t<td>328XX</td>\n",
       "\t\t<td>**********************</td>\n",
       "\t\t<td>Consent provided</td>\n",
       "\t\t<td>Web</td>\n",
       "\t\t<td>21/05/11</td>\n",
       "\t\t<td>Closed with monetary relief</td>\n",
       "\t\t<td>Yes</td>\n",
       "\t\t<td>*****</td>\n",
       "\t\t<td>4368877</td>\n",
       "\t\t<td>789456123</td>\n",
       "\t</tr>\n",
       "\t<tr>\n",
       "\t\t<td>19/12/02</td>\n",
       "\t\t<td>Mortgage</td>\n",
       "\t\t<td>Home equity loan or line of credit (HELOC)</td>\n",
       "\t\t<td>Trouble during payment process</td>\n",
       "\t\t<td>nan</td>\n",
       "\t\t<td>Hello, I had a second mortgage with Discover and sold the property. The second had a pre-payment penalty before making 12 payments starting XX/XX/XXXX. The property was sold in XX/XX/XXXX.\n",
       "\n",
       "I recieved a mortgage statement for XX/XX/XXXX that clearly states no pre-payment penalty on the statement.\n",
       "\n",
       "I was charged a {$480.00} pre-payment penalty. I called discover and they told me that if I was refinancing I would not have a penalty. But selling the property I do have penalty.??? My paperwork says no pre-payment penalty after 12 months of payments. Which I did make. This is rubbish trying to pass the buck based on tricky language. Either you have a pre-payment penalty or you do not. I did as my paperwork said, and reflected on my most recent statement. Please send payment to me accordingly.</td>\n",
       "\t\t<td>**********************</td>\n",
       "\t\t<td>DISCOVER BANK</td>\n",
       "\t\t<td>FL</td>\n",
       "\t\t<td>XXXXX</td>\n",
       "\t\t<td>**********************</td>\n",
       "\t\t<td>Consent provided</td>\n",
       "\t\t<td>Web</td>\n",
       "\t\t<td>19/12/02</td>\n",
       "\t\t<td>Closed with explanation</td>\n",
       "\t\t<td>Yes</td>\n",
       "\t\t<td>*****</td>\n",
       "\t\t<td>3455874</td>\n",
       "\t\t<td>987654321</td>\n",
       "\t</tr>\n",
       "\t<tr>\n",
       "\t\t<td>22/12/04</td>\n",
       "\t\t<td>Mortgage</td>\n",
       "\t\t<td>Home equity loan or line of credit (HELOC)</td>\n",
       "\t\t<td>Applying for a mortgage or refinancing an existing mortgage</td>\n",
       "\t\t<td>nan</td>\n",
       "\t\t<td>I received a postcard from XXXX about a Home Equity Loan. While I was entering information a message came up they were running my credit. I never checked a box to authorize I wanted to complete the application nor have my credit run. I was not applying I was only trying to get information. I tried to stop by pushing the back button and then I got a message from XXXX XXXX stating a new credit inquiry was made on my credit. I never got any confirmation email from Discover and at first thought it was a fraudulent website. I am requesting the credit inquiry be removed from my credit. The Discover representative said all she could do was close out the application. I have been a Discover customer from many years and this totally destroyed any trust I had in this company. \n",
       "\n",
       "Sincerely, XXXX XXXX XXXX XXXX XXXX XXXX XXXX XXXX FL XXXX</td>\n",
       "\t\t<td>**********************</td>\n",
       "\t\t<td>DISCOVER BANK</td>\n",
       "\t\t<td>FL</td>\n",
       "\t\t<td>33771</td>\n",
       "\t\t<td>**********************</td>\n",
       "\t\t<td>Consent provided</td>\n",
       "\t\t<td>Web</td>\n",
       "\t\t<td>22/12/04</td>\n",
       "\t\t<td>Closed with non-monetary relief</td>\n",
       "\t\t<td>Yes</td>\n",
       "\t\t<td>*****</td>\n",
       "\t\t<td>6279246</td>\n",
       "\t\t<td>123456789</td>\n",
       "\t</tr>\n",
       "</table></html>"
      ],
      "text/plain": [
       "  date_received   product                                 sub_product                                                        issue            sub_issue                                                                                                                                                                                                                                                                                                                                                                                                                                                                                                                                                                                                                                                                                                                                                                                                                                            consumer_complaint_narrative company_public_response        company state zip_code                    tags consumer_consent_provided submitted_via date_sent_to_company     company_response_to_consumer timely_response consumer_disputed  complaint_id  Customer_ID\n",
       "0      19/12/12  Mortgage  Home equity loan or line of credit (HELOC)                               Trouble during payment process                  nan                                   I had a home equity loan with Discover Bank for {$75000.00}. In both the Loan Estimate and Closing Disclosure, it states under \" Prepayment Penalty '' that there was none. I was also told this verbally. However, in a later set of documents it does describe a prepayment penalty if paid off within 36 months. I believe this discrepancy between the documents is deceptive. I believe I was lead to believe that there would not be a prepayment penalty and was surprised to find this {$420.00} penalty in my payoff letter. I spoke with a representative who agreed that it was misleading then a supervisor who noted that it was in another document which I signed. I told him I felt deceived but he was not willing to refund the prepayment penalty. I'm curious as to how many other people they are doing this to.  **********************  DISCOVER BANK    IL    60302  **********************          Consent provided           Web             19/12/12      Closed with monetary relief             Yes             *****       3466832    456789123\n",
       "1      23/09/04  Mortgage  Home equity loan or line of credit (HELOC)  Applying for a mortgage or refinancing an existing mortgage  Application denials                                                                                                                                                                                                                                               I went to apply for XXXX home equity loan on XX/XX/XXXX. I got full pre-approval under the terms of 30 year loan interest of 9.99 %. I accepted this. They then requested lots of different information that I submitted. Every file said accepted. On XX/XX/XXXX I called them up because there was a small problem with the mortage statement I submitted. At this time I was told I was no longer approved because of debt to income ratio. The thing being I already had pre-approval and even the proof of income was already accepted. This loan would have been XXXX of my current debt payments without the loan.  **********************  DISCOVER BANK    WY    82801  **********************          Consent provided           Web             23/09/04          Closed with explanation             Yes             *****       7494116    135724681\n",
       "2      21/05/11  Mortgage                  Conventional home mortgage                                        Closing on a mortgage                  nan                                                                                                                                                                                                                                                                                                                                                                                                                                                                                                                                                                                                                                                                                                                               Mortgage was paid off on XX/XX/2021. Home was sold, we moved to Florida. We are nearly 60 days and the escrow refund has not been issued.  **********************  DISCOVER BANK    FL    328XX  **********************          Consent provided           Web             21/05/11      Closed with monetary relief             Yes             *****       4368877    789456123\n",
       "3      19/12/02  Mortgage  Home equity loan or line of credit (HELOC)                               Trouble during payment process                  nan                                      Hello, I had a second mortgage with Discover and sold the property. The second had a pre-payment penalty before making 12 payments starting XX/XX/XXXX. The property was sold in XX/XX/XXXX.\\n\\nI recieved a mortgage statement for XX/XX/XXXX that clearly states no pre-payment penalty on the statement.\\n\\nI was charged a {$480.00} pre-payment penalty. I called discover and they told me that if I was refinancing I would not have a penalty. But selling the property I do have penalty.??? My paperwork says no pre-payment penalty after 12 months of payments. Which I did make. This is rubbish trying to pass the buck based on tricky language. Either you have a pre-payment penalty or you do not. I did as my paperwork said, and reflected on my most recent statement. Please send payment to me accordingly.  **********************  DISCOVER BANK    FL    XXXXX  **********************          Consent provided           Web             19/12/02          Closed with explanation             Yes             *****       3455874    987654321\n",
       "4      22/12/04  Mortgage  Home equity loan or line of credit (HELOC)  Applying for a mortgage or refinancing an existing mortgage                  nan  I received a postcard from XXXX about a Home Equity Loan. While I was entering information a message came up they were running my credit. I never checked a box to authorize I wanted to complete the application nor have my credit run. I was not applying I was only trying to get information. I tried to stop by pushing the back button and then I got a message from XXXX XXXX stating a new credit inquiry was made on my credit. I never got any confirmation email from Discover and at first thought it was a fraudulent website. I am requesting the credit inquiry be removed from my credit. The Discover representative said all she could do was close out the application. I have been a Discover customer from many years and this totally destroyed any trust I had in this company. \\n\\nSincerely, XXXX XXXX XXXX XXXX XXXX XXXX XXXX XXXX FL XXXX  **********************  DISCOVER BANK    FL    33771  **********************          Consent provided           Web             22/12/04  Closed with non-monetary relief             Yes             *****       6279246    123456789"
      ]
     },
     "execution_count": 12,
     "metadata": {},
     "output_type": "execute_result"
    }
   ],
   "source": [
    "complaints_data = DataFrame(in_schema('demo', 'Customer_360_Complaints'))\n",
    "complaints_data"
   ]
  },
  {
   "cell_type": "markdown",
   "id": "85336f1f-88af-4a03-ba6d-23a69df6a881",
   "metadata": {},
   "source": [
    "<hr>\n",
    "   <p  style='font-size:36px;font-family:Arial; color:#F0F0F0; background-color: #00233c; padding-left: 20pt; padding-top: 20pt;padding-bottom: 10pt; padding-right: 20pt;'>\n",
    "      Sentiment Analysis\n",
    "  <br>\n",
    "    </p>\n",
    "\n",
    "\n",
    "\n",
    "<p style = 'font-size:16px;font-family:Arial;color:#00233C'>Extract the sentiment (positive, negative, neutral) using in-database functions that can execute in-platform or call out to Large Language Models of choice.</p>"
   ]
  },
  {
   "cell_type": "markdown",
   "id": "d1eb6496-37ca-4060-82b9-4137b27a733d",
   "metadata": {},
   "source": [
    "<hr>\n",
    "\n",
    "<p style = 'font-size:18px;font-family:Arial;color:#00233C'><b>Extract Customer Sentiment</b></p>\n",
    "\n",
    "<p style = 'font-size:16px;font-family:Arial;color:#00233C'>A simple method call will extract the sentiment for patient comments <b>in-database</b> using the desired LLM and CSP provider.</p>"
   ]
  },
  {
   "cell_type": "code",
   "execution_count": 60,
   "id": "7da87396-1753-49ec-a9c2-cf4eed6ad304",
   "metadata": {
    "tags": []
   },
   "outputs": [
    {
     "data": {
      "application/vnd.jupyter.widget-view+json": {
       "model_id": "9e25874ecda84aa6b81c8146fd7db6b8",
       "version_major": 2,
       "version_minor": 0
      },
      "text/plain": []
     },
     "metadata": {},
     "output_type": "display_data"
    },
    {
     "data": {
      "text/html": [
       "<style type=\"text/css\">\n",
       "\ttable { border:ridge 5px}\n",
       "\ttable td {border:inset 1px;}\n",
       "\ttable tr#HeaderRow {background-color:grey; color:white;}\n",
       "\t</style>\n",
       "<html><table style=\"min-width:1000px;\">\n",
       "\t<tr id=\"HeaderRow\">\n",
       "<th>Customer_ID</th><th>Sentiment</th><th>consumer_complaint_narrative</th>\n",
       "</tr>\n",
       "\t<tr>\n",
       "\t\t<td>123456789</td>\n",
       "\t\t<td> negative</td>\n",
       "\t\t<td>I received a postcard from XXXX about a Home Equity Loan. While I was entering information a message came up they were running my credit. I never checked a box to authorize I wanted to complete the application nor have my credit run. I was not applying I was only trying to get information. I tried to stop by pushing the back button and then I got a message from XXXX XXXX stating a new credit inquiry was made on my credit. I never got any confirmation email from Discover and at first thought it was a fraudulent website. I am requesting the credit inquiry be removed from my credit. The Discover representative said all she could do was close out the application. I have been a Discover customer from many years and this totally destroyed any trust I had in this company. \n",
       "\n",
       "Sincerely, XXXX XXXX XXXX XXXX XXXX XXXX XXXX XXXX FL XXXX</td>\n",
       "\t</tr>\n",
       "\t<tr>\n",
       "\t\t<td>135724681</td>\n",
       "\t\t<td> negative</td>\n",
       "\t\t<td>I went to apply for XXXX home equity loan on XX/XX/XXXX. I got full pre-approval under the terms of 30 year loan interest of 9.99 %. I accepted this. They then requested lots of different information that I submitted. Every file said accepted. On XX/XX/XXXX I called them up because there was a small problem with the mortage statement I submitted. At this time I was told I was no longer approved because of debt to income ratio. The thing being I already had pre-approval and even the proof of income was already accepted. This loan would have been XXXX of my current debt payments without the loan.</td>\n",
       "\t</tr>\n",
       "\t<tr>\n",
       "\t\t<td>456789123</td>\n",
       "\t\t<td> negative</td>\n",
       "\t\t<td>I had a home equity loan with Discover Bank for {$75000.00}. In both the Loan Estimate and Closing Disclosure, it states under \" Prepayment Penalty '' that there was none. I was also told this verbally. However, in a later set of documents it does describe a prepayment penalty if paid off within 36 months. I believe this discrepancy between the documents is deceptive. I believe I was lead to believe that there would not be a prepayment penalty and was surprised to find this {$420.00} penalty in my payoff letter. I spoke with a representative who agreed that it was misleading then a supervisor who noted that it was in another document which I signed. I told him I felt deceived but he was not willing to refund the prepayment penalty. I'm curious as to how many other people they are doing this to.</td>\n",
       "\t</tr>\n",
       "\t<tr>\n",
       "\t\t<td>987654321</td>\n",
       "\t\t<td> negative</td>\n",
       "\t\t<td>Hello, I had a second mortgage with Discover and sold the property. The second had a pre-payment penalty before making 12 payments starting XX/XX/XXXX. The property was sold in XX/XX/XXXX.\n",
       "\n",
       "I recieved a mortgage statement for XX/XX/XXXX that clearly states no pre-payment penalty on the statement.\n",
       "\n",
       "I was charged a {$480.00} pre-payment penalty. I called discover and they told me that if I was refinancing I would not have a penalty. But selling the property I do have penalty.??? My paperwork says no pre-payment penalty after 12 months of payments. Which I did make. This is rubbish trying to pass the buck based on tricky language. Either you have a pre-payment penalty or you do not. I did as my paperwork said, and reflected on my most recent statement. Please send payment to me accordingly.</td>\n",
       "\t</tr>\n",
       "\t<tr>\n",
       "\t\t<td>789456123</td>\n",
       "\t\t<td> negative</td>\n",
       "\t\t<td>Mortgage was paid off on XX/XX/2021. Home was sold, we moved to Florida. We are nearly 60 days and the escrow refund has not been issued.</td>\n",
       "\t</tr>\n",
       "</table></html>"
      ],
      "text/plain": [
       "   Customer_ID  Sentiment                                                                                                                                                                                                                                                                                                                                                                                                                                                                                                                                                                                                                                                                                                                                                                                                                                            consumer_complaint_narrative\n",
       "0    123456789   negative  I received a postcard from XXXX about a Home Equity Loan. While I was entering information a message came up they were running my credit. I never checked a box to authorize I wanted to complete the application nor have my credit run. I was not applying I was only trying to get information. I tried to stop by pushing the back button and then I got a message from XXXX XXXX stating a new credit inquiry was made on my credit. I never got any confirmation email from Discover and at first thought it was a fraudulent website. I am requesting the credit inquiry be removed from my credit. The Discover representative said all she could do was close out the application. I have been a Discover customer from many years and this totally destroyed any trust I had in this company. \\n\\nSincerely, XXXX XXXX XXXX XXXX XXXX XXXX XXXX XXXX FL XXXX\n",
       "1    135724681   negative                                                                                                                                                                                                                                               I went to apply for XXXX home equity loan on XX/XX/XXXX. I got full pre-approval under the terms of 30 year loan interest of 9.99 %. I accepted this. They then requested lots of different information that I submitted. Every file said accepted. On XX/XX/XXXX I called them up because there was a small problem with the mortage statement I submitted. At this time I was told I was no longer approved because of debt to income ratio. The thing being I already had pre-approval and even the proof of income was already accepted. This loan would have been XXXX of my current debt payments without the loan.\n",
       "2    456789123   negative                                   I had a home equity loan with Discover Bank for {$75000.00}. In both the Loan Estimate and Closing Disclosure, it states under \" Prepayment Penalty '' that there was none. I was also told this verbally. However, in a later set of documents it does describe a prepayment penalty if paid off within 36 months. I believe this discrepancy between the documents is deceptive. I believe I was lead to believe that there would not be a prepayment penalty and was surprised to find this {$420.00} penalty in my payoff letter. I spoke with a representative who agreed that it was misleading then a supervisor who noted that it was in another document which I signed. I told him I felt deceived but he was not willing to refund the prepayment penalty. I'm curious as to how many other people they are doing this to.\n",
       "3    987654321   negative                                      Hello, I had a second mortgage with Discover and sold the property. The second had a pre-payment penalty before making 12 payments starting XX/XX/XXXX. The property was sold in XX/XX/XXXX.\\n\\nI recieved a mortgage statement for XX/XX/XXXX that clearly states no pre-payment penalty on the statement.\\n\\nI was charged a {$480.00} pre-payment penalty. I called discover and they told me that if I was refinancing I would not have a penalty. But selling the property I do have penalty.??? My paperwork says no pre-payment penalty after 12 months of payments. Which I did make. This is rubbish trying to pass the buck based on tricky language. Either you have a pre-payment penalty or you do not. I did as my paperwork said, and reflected on my most recent statement. Please send payment to me accordingly.\n",
       "4    789456123   negative                                                                                                                                                                                                                                                                                                                                                                                                                                                                                                                                                                                                                                                                                                                               Mortgage was paid off on XX/XX/2021. Home was sold, we moved to Florida. We are nearly 60 days and the escrow refund has not been issued."
      ]
     },
     "execution_count": 60,
     "metadata": {},
     "output_type": "execute_result"
    }
   ],
   "source": [
    "tdf_sentiment = obj.analyze_sentiment(column = 'consumer_complaint_narrative', \n",
    "                                      data = complaints_data)[['Customer_ID','Sentiment','consumer_complaint_narrative']]\n",
    "tdf_sentiment"
   ]
  },
  {
   "cell_type": "markdown",
   "id": "c023695d-eb93-4a57-bb26-95d45b13152a",
   "metadata": {},
   "source": [
    "<hr>\n",
    "   <p  style='font-size:36px;font-family:Arial; color:#F0F0F0; background-color: #00233c; padding-left: 20pt; padding-top: 20pt;padding-bottom: 10pt; padding-right: 20pt;'>\n",
    "      Topic Modeling\n",
    "  <br>\n",
    "    </p>\n",
    "\n",
    "\n",
    "\n",
    "<p style = 'font-size:16px;font-family:Arial;color:#00233C'>LLMs can generate coherent topics without needing predefined categories, making them ideal for exploratory analysis of diverse datasets. Moreover, their ability to capture subtle nuances in language allows for more precise topic identification, even in noisy or ambiguous texts. In this case, we are looking for specific topics to drive downstream analytics.</p>\n",
    "\n",
    "<hr>\n",
    "\n",
    "<p style = 'font-size:18px;font-family:Arial;color:#00233C'><b>Use the Model to perform topic modeling</b></p>\n",
    "\n",
    "<p style = 'font-size:16px;font-family:Arial;color:#00233C'>Provide a list of topics to use for classification.</p>"
   ]
  },
  {
   "cell_type": "code",
   "execution_count": 61,
   "id": "f93540a7-731a-4cfb-a047-a8dbd3241b32",
   "metadata": {
    "tags": []
   },
   "outputs": [
    {
     "data": {
      "application/vnd.jupyter.widget-view+json": {
       "model_id": "0a096a772b384fe09aa38308d8dd2331",
       "version_major": 2,
       "version_minor": 0
      },
      "text/plain": []
     },
     "metadata": {},
     "output_type": "display_data"
    },
    {
     "data": {
      "text/html": [
       "<style type=\"text/css\">\n",
       "\ttable { border:ridge 5px}\n",
       "\ttable td {border:inset 1px;}\n",
       "\ttable tr#HeaderRow {background-color:grey; color:white;}\n",
       "\t</style>\n",
       "<html><table style=\"min-width:1000px;\">\n",
       "\t<tr id=\"HeaderRow\">\n",
       "<th>Customer_ID</th><th>Labels</th><th>consumer_complaint_narrative</th>\n",
       "</tr>\n",
       "\t<tr>\n",
       "\t\t<td>123456789</td>\n",
       "\t\t<td> Report Inaccuracy</td>\n",
       "\t\t<td>I received a postcard from XXXX about a Home Equity Loan. While I was entering information a message came up they were running my credit. I never checked a box to authorize I wanted to complete the application nor have my credit run. I was not applying I was only trying to get information. I tried to stop by pushing the back button and then I got a message from XXXX XXXX stating a new credit inquiry was made on my credit. I never got any confirmation email from Discover and at first thought it was a fraudulent website. I am requesting the credit inquiry be removed from my credit. The Discover representative said all she could do was close out the application. I have been a Discover customer from many years and this totally destroyed any trust I had in this company. \n",
       "\n",
       "Sincerely, XXXX XXXX XXXX XXXX XXXX XXXX XXXX XXXX FL XXXX</td>\n",
       "\t</tr>\n",
       "\t<tr>\n",
       "\t\t<td>135724681</td>\n",
       "\t\t<td> Payment Trouble</td>\n",
       "\t\t<td>I went to apply for XXXX home equity loan on XX/XX/XXXX. I got full pre-approval under the terms of 30 year loan interest of 9.99 %. I accepted this. They then requested lots of different information that I submitted. Every file said accepted. On XX/XX/XXXX I called them up because there was a small problem with the mortage statement I submitted. At this time I was told I was no longer approved because of debt to income ratio. The thing being I already had pre-approval and even the proof of income was already accepted. This loan would have been XXXX of my current debt payments without the loan.</td>\n",
       "\t</tr>\n",
       "\t<tr>\n",
       "\t\t<td>456789123</td>\n",
       "\t\t<td> Payment Struggle</td>\n",
       "\t\t<td>I had a home equity loan with Discover Bank for {$75000.00}. In both the Loan Estimate and Closing Disclosure, it states under \" Prepayment Penalty '' that there was none. I was also told this verbally. However, in a later set of documents it does describe a prepayment penalty if paid off within 36 months. I believe this discrepancy between the documents is deceptive. I believe I was lead to believe that there would not be a prepayment penalty and was surprised to find this {$420.00} penalty in my payoff letter. I spoke with a representative who agreed that it was misleading then a supervisor who noted that it was in another document which I signed. I told him I felt deceived but he was not willing to refund the prepayment penalty. I'm curious as to how many other people they are doing this to.</td>\n",
       "\t</tr>\n",
       "\t<tr>\n",
       "\t\t<td>987654321</td>\n",
       "\t\t<td> Payment Trouble</td>\n",
       "\t\t<td>Hello, I had a second mortgage with Discover and sold the property. The second had a pre-payment penalty before making 12 payments starting XX/XX/XXXX. The property was sold in XX/XX/XXXX.\n",
       "\n",
       "I recieved a mortgage statement for XX/XX/XXXX that clearly states no pre-payment penalty on the statement.\n",
       "\n",
       "I was charged a {$480.00} pre-payment penalty. I called discover and they told me that if I was refinancing I would not have a penalty. But selling the property I do have penalty.??? My paperwork says no pre-payment penalty after 12 months of payments. Which I did make. This is rubbish trying to pass the buck based on tricky language. Either you have a pre-payment penalty or you do not. I did as my paperwork said, and reflected on my most recent statement. Please send payment to me accordingly.</td>\n",
       "\t</tr>\n",
       "\t<tr>\n",
       "\t\t<td>789456123</td>\n",
       "\t\t<td> Mortgage Closing</td>\n",
       "\t\t<td>Mortgage was paid off on XX/XX/2021. Home was sold, we moved to Florida. We are nearly 60 days and the escrow refund has not been issued.</td>\n",
       "\t</tr>\n",
       "</table></html>"
      ],
      "text/plain": [
       "   Customer_ID              Labels                                                                                                                                                                                                                                                                                                                                                                                                                                                                                                                                                                                                                                                                                                                                                                                                                                            consumer_complaint_narrative\n",
       "0    123456789   Report Inaccuracy  I received a postcard from XXXX about a Home Equity Loan. While I was entering information a message came up they were running my credit. I never checked a box to authorize I wanted to complete the application nor have my credit run. I was not applying I was only trying to get information. I tried to stop by pushing the back button and then I got a message from XXXX XXXX stating a new credit inquiry was made on my credit. I never got any confirmation email from Discover and at first thought it was a fraudulent website. I am requesting the credit inquiry be removed from my credit. The Discover representative said all she could do was close out the application. I have been a Discover customer from many years and this totally destroyed any trust I had in this company. \\n\\nSincerely, XXXX XXXX XXXX XXXX XXXX XXXX XXXX XXXX FL XXXX\n",
       "1    135724681     Payment Trouble                                                                                                                                                                                                                                               I went to apply for XXXX home equity loan on XX/XX/XXXX. I got full pre-approval under the terms of 30 year loan interest of 9.99 %. I accepted this. They then requested lots of different information that I submitted. Every file said accepted. On XX/XX/XXXX I called them up because there was a small problem with the mortage statement I submitted. At this time I was told I was no longer approved because of debt to income ratio. The thing being I already had pre-approval and even the proof of income was already accepted. This loan would have been XXXX of my current debt payments without the loan.\n",
       "2    456789123    Payment Struggle                                   I had a home equity loan with Discover Bank for {$75000.00}. In both the Loan Estimate and Closing Disclosure, it states under \" Prepayment Penalty '' that there was none. I was also told this verbally. However, in a later set of documents it does describe a prepayment penalty if paid off within 36 months. I believe this discrepancy between the documents is deceptive. I believe I was lead to believe that there would not be a prepayment penalty and was surprised to find this {$420.00} penalty in my payoff letter. I spoke with a representative who agreed that it was misleading then a supervisor who noted that it was in another document which I signed. I told him I felt deceived but he was not willing to refund the prepayment penalty. I'm curious as to how many other people they are doing this to.\n",
       "3    987654321     Payment Trouble                                      Hello, I had a second mortgage with Discover and sold the property. The second had a pre-payment penalty before making 12 payments starting XX/XX/XXXX. The property was sold in XX/XX/XXXX.\\n\\nI recieved a mortgage statement for XX/XX/XXXX that clearly states no pre-payment penalty on the statement.\\n\\nI was charged a {$480.00} pre-payment penalty. I called discover and they told me that if I was refinancing I would not have a penalty. But selling the property I do have penalty.??? My paperwork says no pre-payment penalty after 12 months of payments. Which I did make. This is rubbish trying to pass the buck based on tricky language. Either you have a pre-payment penalty or you do not. I did as my paperwork said, and reflected on my most recent statement. Please send payment to me accordingly.\n",
       "4    789456123    Mortgage Closing                                                                                                                                                                                                                                                                                                                                                                                                                                                                                                                                                                                                                                                                                                                               Mortgage was paid off on XX/XX/2021. Home was sold, we moved to Florida. We are nearly 60 days and the escrow refund has not been issued."
      ]
     },
     "execution_count": 61,
     "metadata": {},
     "output_type": "execute_result"
    }
   ],
   "source": [
    "tdf_topics = obj.classify(column = 'consumer_complaint_narrative', \n",
    "                          data = complaints_data,\n",
    "                          labels = ['Mortgage Application',\n",
    "                                    'Payment Trouble',\n",
    "                                    'Mortgage Closing',\n",
    "                                    'Report Inaccuracy',\n",
    "                                    'Payment Struggle'])[['Customer_ID','Labels','consumer_complaint_narrative']]\n",
    "tdf_topics"
   ]
  },
  {
   "cell_type": "markdown",
   "id": "394cf875-57a4-4f2a-8c5e-e4fa6424f037",
   "metadata": {},
   "source": [
    "<hr>\n",
    "   <p  style='font-size:36px;font-family:Arial; color:#F0F0F0; background-color: #00233c; padding-left: 20pt; padding-top: 20pt;padding-bottom: 10pt; padding-right: 20pt;'>\n",
    "      Summarization\n",
    "  <br>\n",
    "    </p>\n",
    "\n",
    "\n",
    "\n",
    "<p style = 'font-size:16px;font-family:Arial;color:#00233C'>The summarize method uses the model to summarize the text in the specified column of a database table. It generates an abstractive summary for the input using different levels. The conciseness of the summary can be adjusted using different levels. Higher levels yield more concise summaries.</p>"
   ]
  },
  {
   "cell_type": "code",
   "execution_count": 62,
   "id": "d3bd5286-1dd5-4e59-8f36-edbfcde946bf",
   "metadata": {
    "tags": []
   },
   "outputs": [
    {
     "data": {
      "application/vnd.jupyter.widget-view+json": {
       "model_id": "b0956f1c16aa4fada85a9fddc7d123cc",
       "version_major": 2,
       "version_minor": 0
      },
      "text/plain": []
     },
     "metadata": {},
     "output_type": "display_data"
    },
    {
     "data": {
      "text/html": [
       "<style type=\"text/css\">\n",
       "\ttable { border:ridge 5px}\n",
       "\ttable td {border:inset 1px;}\n",
       "\ttable tr#HeaderRow {background-color:grey; color:white;}\n",
       "\t</style>\n",
       "<html><table style=\"min-width:1000px;\">\n",
       "\t<tr id=\"HeaderRow\">\n",
       "<th>Customer_ID</th><th>Summary</th><th>consumer_complaint_narrative</th>\n",
       "</tr>\n",
       "\t<tr>\n",
       "\t\t<td>123456789</td>\n",
       "\t\t<td> A postcard for a Home Equity Loan automatically ran my credit without consent, causing a credit inquiry notice and lost trust in the company.</td>\n",
       "\t\t<td>I received a postcard from XXXX about a Home Equity Loan. While I was entering information a message came up they were running my credit. I never checked a box to authorize I wanted to complete the application nor have my credit run. I was not applying I was only trying to get information. I tried to stop by pushing the back button and then I got a message from XXXX XXXX stating a new credit inquiry was made on my credit. I never got any confirmation email from Discover and at first thought it was a fraudulent website. I am requesting the credit inquiry be removed from my credit. The Discover representative said all she could do was close out the application. I have been a Discover customer from many years and this totally destroyed any trust I had in this company. \n",
       "\n",
       "Sincerely, XXXX XXXX XXXX XXXX XXXX XXXX XXXX XXXX FL XXXX</td>\n",
       "\t</tr>\n",
       "\t<tr>\n",
       "\t\t<td>135724681</td>\n",
       "\t\t<td> I applied for and was initially approved for a home equity loan, but the approval was later revoked due to my debt-to-income ratio despite submitting required documents.</td>\n",
       "\t\t<td>I went to apply for XXXX home equity loan on XX/XX/XXXX. I got full pre-approval under the terms of 30 year loan interest of 9.99 %. I accepted this. They then requested lots of different information that I submitted. Every file said accepted. On XX/XX/XXXX I called them up because there was a small problem with the mortage statement I submitted. At this time I was told I was no longer approved because of debt to income ratio. The thing being I already had pre-approval and even the proof of income was already accepted. This loan would have been XXXX of my current debt payments without the loan.</td>\n",
       "\t</tr>\n",
       "\t<tr>\n",
       "\t\t<td>456789123</td>\n",
       "\t\t<td> The customer was charged a $420 prepayment penalty for paying off a home equity loan within 36 months even though the Loan Estimate and Closing Disclosure from Discover Bank did not disclose such a penalty.</td>\n",
       "\t\t<td>I had a home equity loan with Discover Bank for {$75000.00}. In both the Loan Estimate and Closing Disclosure, it states under \" Prepayment Penalty '' that there was none. I was also told this verbally. However, in a later set of documents it does describe a prepayment penalty if paid off within 36 months. I believe this discrepancy between the documents is deceptive. I believe I was lead to believe that there would not be a prepayment penalty and was surprised to find this {$420.00} penalty in my payoff letter. I spoke with a representative who agreed that it was misleading then a supervisor who noted that it was in another document which I signed. I told him I felt deceived but he was not willing to refund the prepayment penalty. I'm curious as to how many other people they are doing this to.</td>\n",
       "\t</tr>\n",
       "\t<tr>\n",
       "\t\t<td>987654321</td>\n",
       "\t\t<td> The property owner requested reimbursement of a $480 prepayment penalty charged by Discover, though recent documents showed no such penalty should have been applied after making timely payments for 12 months.</td>\n",
       "\t\t<td>Hello, I had a second mortgage with Discover and sold the property. The second had a pre-payment penalty before making 12 payments starting XX/XX/XXXX. The property was sold in XX/XX/XXXX.\n",
       "\n",
       "I recieved a mortgage statement for XX/XX/XXXX that clearly states no pre-payment penalty on the statement.\n",
       "\n",
       "I was charged a {$480.00} pre-payment penalty. I called discover and they told me that if I was refinancing I would not have a penalty. But selling the property I do have penalty.??? My paperwork says no pre-payment penalty after 12 months of payments. Which I did make. This is rubbish trying to pass the buck based on tricky language. Either you have a pre-payment penalty or you do not. I did as my paperwork said, and reflected on my most recent statement. Please send payment to me accordingly.</td>\n",
       "\t</tr>\n",
       "\t<tr>\n",
       "\t\t<td>789456123</td>\n",
       "\t\t<td> The homeowners are still waiting for their escrow refund over two months after paying off their mortgage and selling their home to relocate to Florida.</td>\n",
       "\t\t<td>Mortgage was paid off on XX/XX/2021. Home was sold, we moved to Florida. We are nearly 60 days and the escrow refund has not been issued.</td>\n",
       "\t</tr>\n",
       "</table></html>"
      ],
      "text/plain": [
       "   Customer_ID                                                                                                                                                                                                            Summary                                                                                                                                                                                                                                                                                                                                                                                                                                                                                                                                                                                                                                                                                                                                                                                                                                            consumer_complaint_narrative\n",
       "0    123456789                                                                      A postcard for a Home Equity Loan automatically ran my credit without consent, causing a credit inquiry notice and lost trust in the company.  I received a postcard from XXXX about a Home Equity Loan. While I was entering information a message came up they were running my credit. I never checked a box to authorize I wanted to complete the application nor have my credit run. I was not applying I was only trying to get information. I tried to stop by pushing the back button and then I got a message from XXXX XXXX stating a new credit inquiry was made on my credit. I never got any confirmation email from Discover and at first thought it was a fraudulent website. I am requesting the credit inquiry be removed from my credit. The Discover representative said all she could do was close out the application. I have been a Discover customer from many years and this totally destroyed any trust I had in this company. \\n\\nSincerely, XXXX XXXX XXXX XXXX XXXX XXXX XXXX XXXX FL XXXX\n",
       "1    135724681                                          I applied for and was initially approved for a home equity loan, but the approval was later revoked due to my debt-to-income ratio despite submitting required documents.                                                                                                                                                                                                                                               I went to apply for XXXX home equity loan on XX/XX/XXXX. I got full pre-approval under the terms of 30 year loan interest of 9.99 %. I accepted this. They then requested lots of different information that I submitted. Every file said accepted. On XX/XX/XXXX I called them up because there was a small problem with the mortage statement I submitted. At this time I was told I was no longer approved because of debt to income ratio. The thing being I already had pre-approval and even the proof of income was already accepted. This loan would have been XXXX of my current debt payments without the loan.\n",
       "2    456789123     The customer was charged a $420 prepayment penalty for paying off a home equity loan within 36 months even though the Loan Estimate and Closing Disclosure from Discover Bank did not disclose such a penalty.                                   I had a home equity loan with Discover Bank for {$75000.00}. In both the Loan Estimate and Closing Disclosure, it states under \" Prepayment Penalty '' that there was none. I was also told this verbally. However, in a later set of documents it does describe a prepayment penalty if paid off within 36 months. I believe this discrepancy between the documents is deceptive. I believe I was lead to believe that there would not be a prepayment penalty and was surprised to find this {$420.00} penalty in my payoff letter. I spoke with a representative who agreed that it was misleading then a supervisor who noted that it was in another document which I signed. I told him I felt deceived but he was not willing to refund the prepayment penalty. I'm curious as to how many other people they are doing this to.\n",
       "3    987654321   The property owner requested reimbursement of a $480 prepayment penalty charged by Discover, though recent documents showed no such penalty should have been applied after making timely payments for 12 months.                                      Hello, I had a second mortgage with Discover and sold the property. The second had a pre-payment penalty before making 12 payments starting XX/XX/XXXX. The property was sold in XX/XX/XXXX.\\n\\nI recieved a mortgage statement for XX/XX/XXXX that clearly states no pre-payment penalty on the statement.\\n\\nI was charged a {$480.00} pre-payment penalty. I called discover and they told me that if I was refinancing I would not have a penalty. But selling the property I do have penalty.??? My paperwork says no pre-payment penalty after 12 months of payments. Which I did make. This is rubbish trying to pass the buck based on tricky language. Either you have a pre-payment penalty or you do not. I did as my paperwork said, and reflected on my most recent statement. Please send payment to me accordingly.\n",
       "4    789456123                                                            The homeowners are still waiting for their escrow refund over two months after paying off their mortgage and selling their home to relocate to Florida.                                                                                                                                                                                                                                                                                                                                                                                                                                                                                                                                                                                                                                                                                                                               Mortgage was paid off on XX/XX/2021. Home was sold, we moved to Florida. We are nearly 60 days and the escrow refund has not been issued."
      ]
     },
     "execution_count": 62,
     "metadata": {},
     "output_type": "execute_result"
    }
   ],
   "source": [
    "tdf_summary = obj.summarize(column = 'consumer_complaint_narrative', \n",
    "                          data = complaints_data,\n",
    "                          levels = 2 # higher values provide more concise summary\n",
    "                           )[['Customer_ID','Summary','consumer_complaint_narrative']]\n",
    "tdf_summary"
   ]
  },
  {
   "cell_type": "markdown",
   "id": "6830c6a0-a260-4c0a-8643-d68fa5509d68",
   "metadata": {},
   "source": [
    "<hr>\n",
    "   <p  style='font-size:36px;font-family:Arial; color:#F0F0F0; background-color: #00233c; padding-left: 20pt; padding-top: 20pt;padding-bottom: 10pt; padding-right: 20pt;'>\n",
    "      Consolidated data in-database Customer360\n",
    "  <br>\n",
    "    </p>\n",
    "\n",
    "\n",
    "\n",
    "<p style = 'font-size:16px;font-family:Arial;color:#00233C'>The developer can now perform simple joins on the data <b>in-database</b> to provide a consolidated view of the complaint summary, sentiment, topic label, and customer information.</p>"
   ]
  },
  {
   "cell_type": "code",
   "execution_count": 67,
   "id": "72d12627-7440-4988-bab3-cd4811474f18",
   "metadata": {
    "tags": []
   },
   "outputs": [],
   "source": [
    "tdf_combined = customer_data.join(tdf_topics.drop('consumer_complaint_narrative', axis = 1), on = ['\"Customer Identifier\" = Customer_ID']).drop('Customer_ID', axis = 1)\n",
    "tdf_combined = tdf_combined.join(tdf_summary.drop('consumer_complaint_narrative', axis = 1), on = ['\"Customer Identifier\" = Customer_ID']).drop('Customer_ID', axis = 1)\n",
    "tdf_combined = tdf_combined.join(tdf_sentiment.drop('consumer_complaint_narrative', axis = 1), on = ['\"Customer Identifier\"= Customer_ID']).drop('Customer_ID', axis = 1)"
   ]
  },
  {
   "cell_type": "code",
   "execution_count": 69,
   "id": "ed87a62b-a38a-4acb-9e94-51475866afbd",
   "metadata": {
    "tags": []
   },
   "outputs": [
    {
     "data": {
      "application/vnd.jupyter.widget-view+json": {
       "model_id": "fd733fc590884b8d85695f850d361e00",
       "version_major": 2,
       "version_minor": 0
      },
      "text/plain": []
     },
     "metadata": {},
     "output_type": "display_data"
    },
    {
     "data": {
      "text/html": [
       "<style type=\"text/css\">\n",
       "\ttable { border:ridge 5px}\n",
       "\ttable td {border:inset 1px;}\n",
       "\ttable tr#HeaderRow {background-color:grey; color:white;}\n",
       "\t</style>\n",
       "<html><table style=\"min-width:1000px;\">\n",
       "\t<tr id=\"HeaderRow\">\n",
       "<th>Customer Identifier</th><th>Name</th><th>Sentiment</th><th>Labels</th><th>Summary</th>\n",
       "</tr>\n",
       "\t<tr>\n",
       "\t\t<td>987654321</td>\n",
       "\t\t<td>Jane Z. Doe</td>\n",
       "\t\t<td> negative</td>\n",
       "\t\t<td> Payment Trouble</td>\n",
       "\t\t<td> The property owner requested reimbursement of a $480 prepayment penalty charged by Discover, though recent documents showed no such penalty should have been applied after making timely payments for 12 months.</td>\n",
       "\t</tr>\n",
       "\t<tr>\n",
       "\t\t<td>456789123</td>\n",
       "\t\t<td>Alphonse S. Mercado</td>\n",
       "\t\t<td> negative</td>\n",
       "\t\t<td> Payment Struggle</td>\n",
       "\t\t<td> The customer was charged a $420 prepayment penalty for paying off a home equity loan within 36 months even though the Loan Estimate and Closing Disclosure from Discover Bank did not disclose such a penalty.</td>\n",
       "\t</tr>\n",
       "\t<tr>\n",
       "\t\t<td>135724681</td>\n",
       "\t\t<td>Cardi B. Jones</td>\n",
       "\t\t<td> negative</td>\n",
       "\t\t<td> Payment Trouble</td>\n",
       "\t\t<td> I applied for and was initially approved for a home equity loan, but the approval was later revoked due to my debt-to-income ratio despite submitting required documents.</td>\n",
       "\t</tr>\n",
       "\t<tr>\n",
       "\t\t<td>123456789</td>\n",
       "\t\t<td>John Q. Public</td>\n",
       "\t\t<td> negative</td>\n",
       "\t\t<td> Report Inaccuracy</td>\n",
       "\t\t<td> A postcard for a Home Equity Loan automatically ran my credit without consent, causing a credit inquiry notice and lost trust in the company.</td>\n",
       "\t</tr>\n",
       "\t<tr>\n",
       "\t\t<td>789456123</td>\n",
       "\t\t<td>Linda H. Gomes</td>\n",
       "\t\t<td> negative</td>\n",
       "\t\t<td> Mortgage Closing</td>\n",
       "\t\t<td> The homeowners are still waiting for their escrow refund over two months after paying off their mortgage and selling their home to relocate to Florida.</td>\n",
       "\t</tr>\n",
       "</table></html>"
      ],
      "text/plain": [
       "                                    Name  Sentiment              Labels                                                                                                                                                                                                            Summary\n",
       "Customer Identifier                                                                                                                                                                                                                                                                       \n",
       "987654321                    Jane Z. Doe   negative     Payment Trouble   The property owner requested reimbursement of a $480 prepayment penalty charged by Discover, though recent documents showed no such penalty should have been applied after making timely payments for 12 months.\n",
       "456789123            Alphonse S. Mercado   negative    Payment Struggle     The customer was charged a $420 prepayment penalty for paying off a home equity loan within 36 months even though the Loan Estimate and Closing Disclosure from Discover Bank did not disclose such a penalty.\n",
       "135724681                 Cardi B. Jones   negative     Payment Trouble                                          I applied for and was initially approved for a home equity loan, but the approval was later revoked due to my debt-to-income ratio despite submitting required documents.\n",
       "123456789                 John Q. Public   negative   Report Inaccuracy                                                                      A postcard for a Home Equity Loan automatically ran my credit without consent, causing a credit inquiry notice and lost trust in the company.\n",
       "789456123                 Linda H. Gomes   negative    Mortgage Closing                                                            The homeowners are still waiting for their escrow refund over two months after paying off their mortgage and selling their home to relocate to Florida."
      ]
     },
     "execution_count": 69,
     "metadata": {},
     "output_type": "execute_result"
    }
   ],
   "source": [
    "tdf_combined[['Customer Identifier','Name','Sentiment','Labels','Summary']]"
   ]
  },
  {
   "cell_type": "markdown",
   "id": "06cbb0f4-d026-4a0b-8ab8-6982b7f7777a",
   "metadata": {},
   "source": [
    "<hr>\n",
    "\n",
    "<p style = 'font-size:18px;font-family:Arial;color:#00233C'><b>Persist the dataset</b></p>\n",
    "\n",
    "<p style = 'font-size:16px;font-family:Arial;color:#00233C'>Simple python methods will materialize the data to a permanent table if desired.</p>"
   ]
  },
  {
   "cell_type": "code",
   "execution_count": 71,
   "id": "2aae2e32-0a4b-4fef-9e65-501c41f98564",
   "metadata": {
    "tags": []
   },
   "outputs": [],
   "source": [
    "copy_to_sql(tdf_combined, table_name = 'Customer360', temporary = True, if_exists = 'replace')"
   ]
  },
  {
   "cell_type": "markdown",
   "id": "561ff317-6468-4941-bf9b-840849bfb09d",
   "metadata": {},
   "source": [
    "<hr style=\"height:2px;border:none;background-color:#00233C;\">\n",
    "<b style = 'font-size:20px;font-family:Arial;color:#00233C'>5. Cleanup</b>"
   ]
  },
  {
   "cell_type": "markdown",
   "id": "476fb82b-d7a0-4e29-a6d4-8372a247cea8",
   "metadata": {},
   "source": [
    "<p style = 'font-size:18px;font-family:Arial;color:#00233C'> <b>Databases and Tables </b></p>\n",
    "<p style = 'font-size:16px;font-family:Arial;color:#00233C'>The following code will clean up tables and databases created above.</p>"
   ]
  },
  {
   "cell_type": "code",
   "execution_count": null,
   "id": "358f56a0-ad97-4317-ab4c-88be00b8d179",
   "metadata": {},
   "outputs": [],
   "source": [
    "remove_context()"
   ]
  },
  {
   "cell_type": "markdown",
   "id": "6cf670cd-4594-458d-af98-8efff5a72f73",
   "metadata": {},
   "source": [
    "<hr style=\"height:1px;border:none;background-color:#00233C;\">\n",
    "<b style = 'font-size:18px;font-family:Arial;color:#00233C'>Dataset:</b>\n",
    "<br>\n",
    "<br>\n",
    "<p style='font-size: 16px; font-family: Arial; color: #00233C;'>The dataset is sourced from <a href='https://www.consumerfinance.gov/data-research/consumer-complaints/'>Consumer Financial Protection Bureau</a></p>"
   ]
  },
  {
   "cell_type": "markdown",
   "id": "eeebf3ab-357c-488e-ba9d-78bf82f4d0dd",
   "metadata": {},
   "source": [
    "<footer style=\"padding-bottom:35px; background:#f9f9f9; border-bottom:3px solid #00233C\">\n",
    "    <div style=\"float:left;margin-top:14px\">ClearScape Analytics™</div>\n",
    "    <div style=\"float:right;\">\n",
    "        <div style=\"float:left; margin-top:14px\">\n",
    "            Copyright © Teradata Corporation - 2024, 2025. All Rights Reserved\n",
    "        </div>\n",
    "    </div>\n",
    "</footer>"
   ]
  }
 ],
 "metadata": {
  "kernelspec": {
   "display_name": "Python 3 (ipykernel)",
   "language": "python",
   "name": "python3"
  },
  "language_info": {
   "codemirror_mode": {
    "name": "ipython",
    "version": 3
   },
   "file_extension": ".py",
   "mimetype": "text/x-python",
   "name": "python",
   "nbconvert_exporter": "python",
   "pygments_lexer": "ipython3",
   "version": "3.10.11"
  }
 },
 "nbformat": 4,
 "nbformat_minor": 5
}
