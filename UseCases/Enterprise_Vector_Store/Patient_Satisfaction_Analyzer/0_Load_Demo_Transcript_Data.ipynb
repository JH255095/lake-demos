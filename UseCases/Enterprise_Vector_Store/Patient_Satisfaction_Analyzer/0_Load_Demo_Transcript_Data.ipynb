{
 "cells": [
  {
   "cell_type": "markdown",
   "id": "polish-leisure",
   "metadata": {},
   "source": [
    "## Load Simulated Patient Call Center Transcript Data ##"
   ]
  },
  {
   "cell_type": "code",
   "execution_count": 17,
   "id": "cloudy-structure",
   "metadata": {
    "tags": []
   },
   "outputs": [],
   "source": [
    "import pandas as pd\n",
    "import numpy as np\n",
    "import json\n",
    "from teradataml import *\n",
    "\n",
    "from collections import OrderedDict\n",
    "from teradatasqlalchemy.types import *\n",
    "\n",
    "# load vars json\n",
    "with open('vars.json', 'r') as f:\n",
    "    session_vars = json.load(f)\n",
    "\n",
    "name = session_vars['hierarchy']['SYSDBA']['username']\n",
    "pwd = session_vars['hierarchy']['SYSDBA']['password']\n",
    "host = session_vars['environment']['host']\n",
    "\n",
    "eng = create_context(host = host, username = name, password = pwd)\n",
    "\n",
    "df = pd.read_csv('Data/Expanded_Patient_Complaints_Synthetic_Data.csv')\n",
    "df_patients = pd.read_csv('Data/transcripts_no_dup.csv')\n",
    "\n",
    "copy_to_sql(df, table_name = 'patient_feedback', schema_name = 'demo_ofs', if_exists = 'replace',\n",
    "            types = OrderedDict({'Category':VARCHAR(100), \n",
    "                                 'Transcript':VARCHAR(1024),\n",
    "                                 'Call_ID':INTEGER,\n",
    "                                 'Customer_Satisfaction_Rating':INTEGER}))\n",
    "\n",
    "copy_to_sql(df_patients, table_name = 'patient_feedback_no_dup', schema_name = 'demo_ofs', if_exists = 'replace',\n",
    "            types = OrderedDict({'Category':VARCHAR(100), \n",
    "                                 'Transcript':VARCHAR(1024),\n",
    "                                 'Call_ID':INTEGER,\n",
    "                                 'Customer_Satisfaction_Rating':INTEGER}))\n",
    "\n",
    "remove_context()"
   ]
  }
 ],
 "metadata": {
  "kernelspec": {
   "display_name": "Python 3 (ipykernel)",
   "language": "python",
   "name": "python3"
  },
  "language_info": {
   "codemirror_mode": {
    "name": "ipython",
    "version": 3
   },
   "file_extension": ".py",
   "mimetype": "text/x-python",
   "name": "python",
   "nbconvert_exporter": "python",
   "pygments_lexer": "ipython3",
   "version": "3.10.11"
  }
 },
 "nbformat": 4,
 "nbformat_minor": 5
}
