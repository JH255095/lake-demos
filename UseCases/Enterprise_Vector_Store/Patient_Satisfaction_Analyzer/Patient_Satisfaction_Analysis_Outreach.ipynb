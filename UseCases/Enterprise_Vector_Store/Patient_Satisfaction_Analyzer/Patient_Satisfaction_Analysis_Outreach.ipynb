{
 "cells": [
  {
   "cell_type": "markdown",
   "metadata": {},
   "source": [
    "<header>\n",
    "   <p  style='font-size:36px;font-family:Arial; color:#F0F0F0; background-color: #00233c; padding-left: 20pt; padding-top: 20pt;padding-bottom: 10pt; padding-right: 20pt;'>\n",
    "       Patient Satisfaction Analytics using Large Language Models and Enteprise Vector Store\n",
    "  <br>\n",
    "       <img id=\"teradata-logo\" src=\"images/TeradataLogo.png\" alt=\"Teradata\" style=\"width: 125px; height: auto; margin-top: 20pt;\">\n",
    "    </p>\n",
    "</header>\n",
    "<hr>\n",
    "\n",
    "\n",
    "<b style = 'font-size:16px;font-family:Arial;color:#00233C'>What is Patient Satisfaction?</b>\n",
    "<p style = 'font-size:16px;font-family:Arial;color:#00233C'>Patient satisfaction measures how happy a patient is with their healthcare experience, reflecting whether their expectations were met. It's a key indicator of quality and impacts various aspects of healthcare, including clinical outcomes, patient retention, and legal claims. Effective communication, efficient processes, and positive interactions all contribute to higher patient satisfaction.</p>\n",
    "\n",
    "<b style = 'font-size:16px;font-family:Arial;color:#00233C'>Why is Patient Satisfaction so important?</b>\n",
    "\n",
    "<p style = 'font-size:16px;font-family:Arial;color:#00233C'>Patient satisfaction is crucial in healthcare because it's a key indicator of both the quality of care and the overall patient experience. Satisfied patients are more likely to adhere to treatment plans, have better health outcomes, and recommend their healthcare providers. Additionally, patient satisfaction can influence factors like patient retention, loyalty, and the financial well-being of healthcare organizations. And provider reimbursement in healthcare is increasingly linked to patient satisfaction through higher reimbursement rates.</p>\n",
    "\n",
    "<p style = 'font-size:28px;font-family:Arial;color:#00233C'><b>Challenges with operationalizing AI</b></p>\n",
    "\n",
    "<p style = 'font-size:16px;font-family:Arial;color:#00233C'>Healthcare organizations of all types are struggling with how to best leverage the promise and the power of new Large Language Model and other AI models, tools, and techniques.  Some of the top challenges include:</p>\n",
    "\n",
    "<ul style = 'font-size:16px;font-family:Arial;color:#00233C'>\n",
    "    <li><b>Privacy and confidentiality</b>.  Many model services require users to send their data and/or prompts to third-party systems over the open internet. Furthermore, models have not been trained or augmented with any non-public data; and therefore may not even be able to provide any actionable results</li>\n",
    "    <li><b>Actionable insights</b>.  AI tools provide unprecedented capabilities in extracting <b>meaning</b> from unstructured data (text, images, audio, etc.).  Insight alone isn't enough - organizations must contextualize this meaning with existing analytics and data</li>\n",
    "    <li><b>Scale</b>.  Value increases with automation and scale.  Processing and analyzing millions or billions of records, providing analytics to users, applications, and customers in real-time are both critical requirements for deriving true business value from AI</li>\n",
    "    </ul>\n",
    "\n",
    "<b style = 'font-size:28px;font-family:Arial;color:#00233C'>Demonstrations</b>\n",
    "<hr>\n",
    "\n",
    "<table style = 'width:100%;table-layout:fixed;font-family:Arial;color:#00233C'>\n",
    "    <tr><td style = 'vertical-align:top' width = '25%'><p style = 'font-size:20px;font-family:Arial;color:#00233C'><b>Patient Sentiment Analysis</b>\n",
    "            <ol style = 'font-size:16px;font-family:Arial;color:#00233C'>\n",
    "                <li>Connect and inspect call center transcripts stored in Vantage, object storage, or third-party systems</li>\n",
    "                <br>      \n",
    "                <li>Extract sentiment using native ClearScape Analytics functions accessing external LLMs</li>\n",
    "                <br>\n",
    "                <li>Analyze results using native analytics functions</li>\n",
    "            </ol>\n",
    "        </td><td><img src = 'images/Sentiment_Analysis_AWS.png' width = '100%'></td></tr>\n",
    "    </table>\n",
    "    <hr>\n",
    "<table style = 'width:100%;table-layout:fixed;font-family:Arial;color:#00233C'>\n",
    "    <tr><td style = 'vertical-align:top' width = '25%'><p style = 'font-size:20px;font-family:Arial;color:#00233C'><b>Semantic Search for Targeted Patient Outreach</b>\n",
    "            <ol style = 'font-size:16px;font-family:Arial;color:#00233C'>\n",
    "                <li>Connect and inspect call center transcripts stored in Vantage, object storage, or third-party systems</li>\n",
    "                <br>      \n",
    "                <li>Generate embeddings based on the semantic meaning of the call-center transcripts</li>\n",
    "                <br>\n",
    "                <li>Identify patients for targeted outreach using built-in analytics and RAG capabilities</li>\n",
    "            </ol>\n",
    "        </td><td><img src = 'images/Semantic_Search_AWS.png' width = '100%'></td></tr>\n",
    "</table>"
   ]
  },
  {
   "cell_type": "markdown",
   "metadata": {},
   "source": [
    "<hr>\n",
    "\n",
    "<p style = 'font-size:18px;font-family:Arial;color:#00233C'><b>Python Package Imports</b></p>\n",
    "\n",
    "<p style = 'font-size:16px;font-family:Arial;color:#00233C'>Standard practice to import required packages and libraries; execute this cell to import packages for Teradata automation as well as machine learning, analytics, utility, and data management packages.</p> "
   ]
  },
  {
   "cell_type": "code",
   "execution_count": null,
   "metadata": {
    "tags": []
   },
   "outputs": [],
   "source": [
    "%pip install -r requirements.txt"
   ]
  },
  {
   "cell_type": "code",
   "execution_count": null,
   "metadata": {
    "tags": []
   },
   "outputs": [],
   "source": [
    "from teradataml import *\n",
    "from teradatagenai import TeradataAI, TextAnalyticsAI, VSManager, VectorStore, VSApi\n",
    "from teradatasqlalchemy.types import *\n",
    "import pandas as pd\n",
    "import csv, sys, os, warnings\n",
    "from collections import OrderedDict\n",
    "import ipywidgets as widgets\n",
    "from wordcloud import WordCloud, STOPWORDS\n",
    "import plotly.express as px\n",
    "import plotly.graph_objects as go\n",
    "\n",
    "from IPython.display import clear_output , display as ipydisplay, Markdown\n",
    "import matplotlib.pyplot as plt\n",
    "\n",
    "# Set display options for dataframes, plots, and warnings\n",
    "%matplotlib inline\n",
    "warnings.filterwarnings('ignore')\n",
    "display.suppress_vantage_runtime_warnings = True\n",
    "\n",
    "# load vars json\n",
    "with open('vars.json', 'r') as f:\n",
    "    session_vars = json.load(f)\n",
    "\n",
    "# Database login information\n",
    "host = session_vars['environment']['host']\n",
    "username = session_vars['hierarchy']['users']['business_users'][1]['username']\n",
    "password = session_vars['hierarchy']['users']['business_users'][1]['password']\n",
    "\n",
    "# UES Authentication information\n",
    "ues_url = session_vars['environment']['UES_URI']\n",
    "configure.ues_url = ues_url\n",
    "pat_token = session_vars['hierarchy']['users']['business_users'][1]['pat_token']\n",
    "pem_file = session_vars['hierarchy']['users']['business_users'][1]['key_file']\n",
    "\n",
    "\n",
    "compute_group = session_vars['hierarchy']['users']['business_users'][1]['compute_group']\n",
    "\n",
    "access_key = input('AWS Access Key: ')\n",
    "secret_key = input('AWS Secret Key: ')"
   ]
  },
  {
   "cell_type": "markdown",
   "metadata": {},
   "source": [
    "<hr>\n",
    "\n",
    "<p style = 'font-size:18px;font-family:Arial;color:#00233C'><b>Connect to the database</b></p>\n",
    "\n",
    "<p style = 'font-size:16px;font-family:Arial;color:#00233C'>Create a database connection and authenticate to the environment services for model management.</p> "
   ]
  },
  {
   "cell_type": "code",
   "execution_count": null,
   "metadata": {
    "tags": []
   },
   "outputs": [],
   "source": [
    "# connect to database\n",
    "eng = create_context(host = host, username = username, password = password)\n",
    "#strip off the trailing /open-analytics\n",
    "base_url = ues_url[:-15]\n",
    "\n",
    "set_auth_token(base_url=base_url, pat_token=pat_token, pem_file=pem_file);\n"
   ]
  },
  {
   "cell_type": "markdown",
   "metadata": {},
   "source": [
    "<hr>\n",
    "   <p  style='font-size:36px;font-family:Arial; color:#F0F0F0; background-color: #00233c; padding-left: 20pt; padding-top: 20pt;padding-bottom: 10pt; padding-right: 20pt;'>\n",
    "      Sentiment Analysis\n",
    "  <br>\n",
    "    </p>\n",
    "\n",
    "\n",
    "\n",
    "<p style = 'font-size:16px;font-family:Arial;color:#00233C'>Extract the emotion (anger, joy, sadness, love) and strength of that emotion (0-1) based on analysis of unstructured call center transcripts.  Inspect the distribution of how strongly patients are feeling these emotions - are we reaching a point where we need to change business practices or improve outreach?</p>\n",
    "\n",
    "<table style = 'width:100%;table-layout:fixed;font-family:Arial;color:#00233C'>\n",
    "    <tr><td style = 'vertical-align:top' width = '25%'>\n",
    "            <ol style = 'font-size:16px;font-family:Arial;color:#00233C'>\n",
    "                <li>Connect and inspect call center transcripts stored in Vantage, object storage, or third-party systems</li>\n",
    "                <br>      \n",
    "                <li>Extract sentiment using native ClearScape Analytics functions accessing external LLMs</li>\n",
    "                <br>\n",
    "                <li>Analyze results using native analytics functions</li>\n",
    "            </ol>\n",
    "        </td><td><img src = 'images/Sentiment_Analysis_AWS.png' width = '100%'></td></tr>\n",
    "    </table>\n",
    "\n",
    "<hr>\n",
    "\n",
    "<p style = 'font-size:18px;font-family:Arial;color:#00233C'><b>Inspect the Data</b></p>\n",
    "\n",
    "<p style = 'font-size:16px;font-family:Arial;color:#00233C'>We create a special type of DataFrame which behaves normally yet represents large, interconnected data sets at scale. The Dataframe can be displayed pandas-style, or we can enable an interactive data and function browser.  This intereactive widget leverages <b>in-database</b> analytic and exploratory functions, allowing users to interact with the data at any scale.</p>\n"
   ]
  },
  {
   "cell_type": "code",
   "execution_count": null,
   "metadata": {
    "tags": []
   },
   "outputs": [],
   "source": [
    "tdf_transcripts = DataFrame('\"demo_ofs\".\"patient_feedback\"')\n",
    "tdf_transcripts"
   ]
  },
  {
   "cell_type": "markdown",
   "metadata": {},
   "source": [
    "<hr>\n",
    "\n",
    "<p style = 'font-size:18px;font-family:Arial;color:#00233C'><b>Set up the Sentiment Extraction model</b></p>\n",
    "\n",
    "<p style = 'font-size:16px;font-family:Arial;color:#00233C'>The <b>teradatagenai</b> python library can both connect to cloud-based LLM services as well as instantiate private models running <b>at scale</b> on local GPU compute. In this case we will download and deploy the <i><a href = 'https://huggingface.co/bhadresh-savani/distilbert-base-uncased-emotion'>bhadresh-savani/distilbert-base-uncased-emotion</a></i> for sentiment extraction tasks.</p>\n"
   ]
  },
  {
   "cell_type": "code",
   "execution_count": null,
   "metadata": {
    "tags": []
   },
   "outputs": [],
   "source": [
    "# Provide model details\n",
    "model_name = 'anthropic.claude-instant-v1'\n",
    "\n",
    "# Select in-database or external model\n",
    "llm = TeradataAI(api_type = 'AWS',\n",
    "         model_name = model_name,\n",
    "         region = 'us-west-2',\n",
    "         # authorization = 'Repositories.BedrockAuth'\n",
    "         access_key = access_key,\n",
    "         secret_key = secret_key)\n",
    "\n",
    "\n",
    "obj = TextAnalyticsAI(llm=llm)"
   ]
  },
  {
   "cell_type": "markdown",
   "metadata": {},
   "source": [
    "<hr>\n",
    "\n",
    "<p style = 'font-size:18px;font-family:Arial;color:#00233C'><b>Extract Patient Sentiment</b></p>\n",
    "\n",
    "<p style = 'font-size:16px;font-family:Arial;color:#00233C'>A simple method call will extract the sentiment for patient comments <b>in-database</b> using the desired LLM and CSP provider.</p>"
   ]
  },
  {
   "cell_type": "code",
   "execution_count": null,
   "metadata": {
    "tags": []
   },
   "outputs": [],
   "source": [
    "display.print_sqlmr_query = False\n",
    "tdf_sentiment = obj.analyze_sentiment(column='Transcript', data=tdf_transcripts)\n",
    "tdf_sentiment"
   ]
  },
  {
   "cell_type": "markdown",
   "metadata": {},
   "source": [
    "<hr>\n",
    "\n",
    "<p style = 'font-size:18px;font-family:Arial;color:#00233C'><b>Execute simple descriptive analytics</b></p>\n",
    "\n",
    "<p style = 'font-size:16px;font-family:Arial;color:#00233C'>Now, we can begin asking increasingly more complex questions of the data; what's the distribution of sentiment?  Or - does any individual patient have increasing feelings of anger, fear, or sadness?  Native, in-database <b>ClearScape Analytics</b> functions can answer these questions at extreme speed and scale.</p>"
   ]
  },
  {
   "cell_type": "code",
   "execution_count": null,
   "metadata": {
    "tags": []
   },
   "outputs": [],
   "source": [
    "CategoricalSummary(data = tdf_sentiment, target_columns = 'Sentiment').result"
   ]
  },
  {
   "cell_type": "code",
   "execution_count": null,
   "metadata": {
    "tags": []
   },
   "outputs": [],
   "source": [
    "df = CategoricalSummary(data = tdf_sentiment, target_columns = 'Sentiment').result.to_pandas()\n",
    "fig = px.bar(df, x = 'DistinctValue', y = 'DistinctValueCount')\n",
    "fig.show()"
   ]
  },
  {
   "cell_type": "markdown",
   "metadata": {},
   "source": [
    "<hr>\n",
    "   <p  style='font-size:36px;font-family:Arial; color:#F0F0F0; background-color: #00233c; padding-left: 20pt; padding-top: 20pt;padding-bottom: 10pt; padding-right: 20pt;'>\n",
    "      Develop targeted patient outreach with Semantic Search\n",
    "  <br>\n",
    "    </p>"
   ]
  },
  {
   "cell_type": "markdown",
   "metadata": {},
   "source": [
    "<p style = 'font-size:16px;font-family:Arial;color:#00233C'>Match our patients with <b>targeted</b> outreach programs based on the <b>Semantic Meaning</b> of their comments history.  This can allow our organization to provide tailored programs or assistance based on the intent of the commentary, allowing for more accurate targeting.</p>\n",
    "\n",
    "<table style = 'width:100%;table-layout:fixed;font-family:Arial;color:#00233C'>\n",
    "    <tr><td style = 'vertical-align:top' width = '25%'>\n",
    "            <ol style = 'font-size:16px;font-family:Arial;color:#00233C'>\n",
    "                <li>Create a Vector Store using CSP LLM services and store data in Vantage</li>\n",
    "                <br>      \n",
    "                <li>Perform interactive analysis and generate recommended responses to customer complaints</li>\n",
    "                <br>\n",
    "                <li>Identify patients for targeted outreach using similarity search functions</li>\n",
    "            </ol>\n",
    "        </td><td><img src = 'images/Semantic_Search_AWS.png' width = '100%'></td></tr>\n",
    "</table>\n",
    "<hr>\n",
    "\n",
    "<p style = 'font-size:18px;font-family:Arial;color:#00233C'><b>Enterprise Vector Store</b></p>\n",
    "\n",
    "<p style = 'font-size:16px;font-family:Arial;color:#00233C'><b>Vector Embedding</b> is a numerical representation of data that captures semantic relationships and similarities, making it possible to perform mathematical operations and comparisons on the data for various tasks like text analysis and recommendation systems.</p>\n",
    "\n",
    "<p style = 'font-size:16px;font-family:Arial;color:#00233C'><b>Teradata AI Factory</b> makes this process simple by leveraging highly-scalable, secure, <b>On-Premises</b> GPU resources via NVIDIA NIM architecture using simple, developer-friendly interfaces.</p>\n",
    "\n",
    "<p style = 'font-size:18px;font-family:Arial;color:#00233C'><b>Generative Responses</b></p>\n",
    "\n",
    "<p style = 'font-size:16px;font-family:Arial;color:#00233C'><b>Use Natural Language</b> to inspect the patient complaints data, and leverage <b>Private LLMs</b> to generate rich, actionable responses.</p>\n",
    "\n",
    "<p style = 'font-size:16px;font-family:Arial;color:#00233C'><b>Hyper-personalize</b> the appropriate action based on AI-based semantic analysis and search.</p>"
   ]
  },
  {
   "cell_type": "code",
   "execution_count": null,
   "metadata": {
    "tags": []
   },
   "outputs": [],
   "source": [
    "vs = VectorStore(name = 'Transcript_Analysis_test')"
   ]
  },
  {
   "cell_type": "code",
   "execution_count": null,
   "metadata": {
    "tags": []
   },
   "outputs": [],
   "source": [
    "# if desired, destroy and recreate the vector store - or to use an existing one\n",
    "# skip to the \"similarity_search\" code below\n",
    "# vs.destroy()"
   ]
  },
  {
   "cell_type": "code",
   "execution_count": null,
   "metadata": {
    "tags": []
   },
   "outputs": [],
   "source": [
    "# Python\n",
    "vs.create(search_algorithm = 'VECTORDISTANCE',\n",
    "          object_names = DataFrame('\"demo_ofs\".\"patient_feedback_no_dup\"'),\n",
    "          key_columns = ['Call_ID', 'first_name', 'last_name'],\n",
    "          data_columns = ['Transcript'],\n",
    "          vector_column = 'Embedding')"
   ]
  },
  {
   "cell_type": "code",
   "execution_count": null,
   "metadata": {
    "tags": []
   },
   "outputs": [],
   "source": [
    "vs.status()"
   ]
  },
  {
   "cell_type": "code",
   "execution_count": null,
   "metadata": {
    "tags": []
   },
   "outputs": [],
   "source": [
    "vs.similarity_search(question = 'top 10 most angry unique callers').similar_objects[['score','Call_ID','Transcript']]"
   ]
  },
  {
   "cell_type": "code",
   "execution_count": null,
   "metadata": {
    "tags": []
   },
   "outputs": [],
   "source": [
    "ipydisplay(Markdown(vs.ask(question = 'the top angry customers', prompt = 'suggest a targeted outreach program')));"
   ]
  },
  {
   "cell_type": "markdown",
   "metadata": {},
   "source": [
    "<hr>\n",
    "\n",
    "<p style = 'font-size:18px;font-family:Arial;color:#00233C'><b>Construct a list of patient care programs</b></p>\n",
    "\n",
    "<p style = 'font-size:16px;font-family:Arial;color:#00233C'>Create a small list of topics that will represent the outreach programs we want to target.  This could represent existing outreach or marketing programs we want to more accurately target.\n",
    "\n",
    "<p style = 'font-size:16px;font-family:Arial;color:#00233C'><b>Sample patient care programs</b></p>\n",
    "<ul style = 'font-size:16px;font-family:Arial;color:#00233C'>\n",
    "    <li><b>Late test results</b></li>\n",
    "    <li><b>Long wait times</b></li>\n",
    "    <li><b>Missing prescriptions</b></li>\n",
    "    <li><b>Argumentative staff</b></li>\n",
    "    <li><b>Unhelpful advice</b></li>\n",
    "    </ul>"
   ]
  },
  {
   "cell_type": "code",
   "execution_count": null,
   "metadata": {
    "tags": []
   },
   "outputs": [],
   "source": [
    "l = ['Late test results',\n",
    "      'Long wait times',\n",
    "      'Missing prescriptions',\n",
    "      'Argumentative staff',\n",
    "      'Unhelpful advice'\n",
    "      ]"
   ]
  },
  {
   "cell_type": "markdown",
   "metadata": {},
   "source": [
    "<hr>\n",
    "\n",
    "<p style = 'font-size:18px;font-family:Arial;color:#00233C'><b>Identify patient and program match</b></p>\n",
    "\n",
    "<p style = 'font-size:16px;font-family:Arial;color:#00233C'>Provide these results in real-time to call center agent dashboards, content management systems, or other marketing automation applications.</p>"
   ]
  },
  {
   "cell_type": "code",
   "execution_count": null,
   "metadata": {
    "tags": []
   },
   "outputs": [],
   "source": [
    "topics_list = l\n",
    "\n",
    "d = widgets.Dropdown(options=topics_list)\n",
    "\n",
    "output = widgets.Output()\n",
    "\n",
    "def on_change(change):\n",
    "    if change['type'] == 'change' and change['name'] == 'value':\n",
    "        with output:\n",
    "            clear_output()\n",
    "            local_df = vs.similarity_search(question = change['new']).similar_objects[['first_name', 'last_name','Transcript']].to_pandas()\n",
    "            ipydisplay(local_df)\n",
    "            text = \" \".join(comment for comment in local_df['Transcript'])\n",
    "            stopwords = set(STOPWORDS)\n",
    "            wordcloud = WordCloud(stopwords = stopwords, width = 800, height=400, \n",
    "                                  max_words=100, min_word_length=1, \n",
    "                                  collocations = True, background_color = 'white').generate(text)\n",
    "            plt.figure(figsize=(10, 5))\n",
    "            plt.imshow(wordcloud, interpolation='gaussian')\n",
    "            plt.axis('off')\n",
    "            plt.title(f'Word Cloud for Search Topic')\n",
    "            plt.show()\n",
    "            \n",
    "d.observe(on_change)\n",
    "\n",
    "print('Select Topic to Search:')\n",
    "ipydisplay(d, output)\n"
   ]
  },
  {
   "cell_type": "markdown",
   "metadata": {},
   "source": [
    "<hr>\n",
    "<p style = 'font-size:24px;font-family:Arial;color:#00233C'><b>Conclusion - Operationalizing AI-powered analytics</b></p>\n",
    "\n",
    "\n",
    "\n",
    "<p style = 'font-size:16px;font-family:Arial;color:#00233C'>The preceding demo showed two real-world applications of AI-powered analytics that leverages <b>private</b> data <b>securely</b>, to allow for deeper insight into unstructured data that can improve patient satisfaction.</p>\n",
    "\n",
    "<hr>\n",
    "<p style = 'font-size:24px;font-family:Arial;color:#00233C'><b>Cleanup</b></p>\n",
    "\n",
    "\n",
    "\n",
    "<p style = 'font-size:16px;font-family:Arial;color:#00233C'>Call the destroy() method of the VS object to clean up the objects created during this demo.</p>"
   ]
  },
  {
   "cell_type": "code",
   "execution_count": null,
   "metadata": {
    "tags": []
   },
   "outputs": [],
   "source": [
    "vs.destroy()"
   ]
  },
  {
   "cell_type": "code",
   "execution_count": null,
   "metadata": {},
   "outputs": [],
   "source": [
    "remove_context()"
   ]
  },
  {
   "cell_type": "code",
   "execution_count": null,
   "metadata": {},
   "outputs": [],
   "source": []
  }
 ],
 "metadata": {
  "kernelspec": {
   "display_name": "Python 3 (ipykernel)",
   "language": "python",
   "name": "python3"
  },
  "language_info": {
   "codemirror_mode": {
    "name": "ipython",
    "version": 3
   },
   "file_extension": ".py",
   "mimetype": "text/x-python",
   "name": "python",
   "nbconvert_exporter": "python",
   "pygments_lexer": "ipython3",
   "version": "3.10.11"
  }
 },
 "nbformat": 4,
 "nbformat_minor": 4
}
