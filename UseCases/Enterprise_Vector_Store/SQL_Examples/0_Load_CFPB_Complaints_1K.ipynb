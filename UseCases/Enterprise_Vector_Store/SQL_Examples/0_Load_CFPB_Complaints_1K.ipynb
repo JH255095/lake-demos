{
 "cells": [
  {
   "cell_type": "markdown",
   "id": "creative-executive",
   "metadata": {},
   "source": [
    "## Load CFPB Complaints data - 1K records ##\n"
   ]
  },
  {
   "cell_type": "code",
   "execution_count": null,
   "id": "97927b1b-e1d4-45e6-a0c1-85d512ed9321",
   "metadata": {
    "tags": []
   },
   "outputs": [],
   "source": [
    "import pandas as pd\n",
    "import numpy as np\n",
    "import json\n",
    "from teradataml import *\n",
    "\n",
    "from collections import OrderedDict\n",
    "from teradatasqlalchemy.types import *\n",
    "\n",
    "# load vars json\n",
    "with open('vars-vs_demo.json', 'r') as f:\n",
    "    session_vars = json.load(f)\n",
    "\n",
    "name = session_vars['hierarchy']['SYSDBA']['username']\n",
    "pwd = session_vars['hierarchy']['SYSDBA']['password']\n",
    "host = session_vars['environment']['host']\n",
    "\n",
    "eng = create_context(host = host, username = name, password = pwd)\n",
    "\n",
    "\n",
    "database = 'demo_ofs'"
   ]
  },
  {
   "cell_type": "code",
   "execution_count": null,
   "id": "a564dce9-d776-46ea-af5d-42fefe679715",
   "metadata": {
    "tags": []
   },
   "outputs": [],
   "source": [
    "df_topics = pd.read_csv('Data/topics_of_interest.csv')\n",
    "\n",
    "try:\n",
    "    execute_sql(f'DROP TABLE {database}.topics_of_interest;')\n",
    "except Exception as e:\n",
    "    # Table already exists\n",
    "    if str(e.args).find(\"3807\") >= 1:\n",
    "        pass\n",
    "    else:\n",
    "        raise\n",
    "\n",
    "qry = f'''\n",
    "CREATE MULTISET TABLE {database}.topics_of_interest,\n",
    "     STORAGE = TD_OFSSTORAGE \n",
    "     (\n",
    "      id BIGINT,\n",
    "      txt VARCHAR(1024) CHARACTER SET UNICODE NOT CASESPECIFIC)\n",
    "NO PRIMARY INDEX \n",
    "PARTITION BY COLUMN;'''\n",
    "\n",
    "execute_sql(qry)\n",
    "copy_to_sql(df_topics, table_name = 'topics_of_interest', schema_name=database, if_exists = 'append')"
   ]
  },
  {
   "cell_type": "code",
   "execution_count": null,
   "id": "d8cce4e0-1680-4253-80c7-5cb01b03b0e1",
   "metadata": {
    "tags": []
   },
   "outputs": [],
   "source": [
    "df_topics_embeddings = pd.read_csv('Data/Topics_Embeddings.csv')\n",
    "copy_to_sql(df_topics_embeddings, table_name = 'topics_embeddings', schema_name=database, if_exists = 'replace')"
   ]
  },
  {
   "cell_type": "code",
   "execution_count": null,
   "id": "021cd952-d511-4bcc-9a08-46215ce3e62d",
   "metadata": {
    "tags": []
   },
   "outputs": [],
   "source": [
    "df_complaints = pd.read_csv('Data/CFPB_Complaints.csv')\n",
    "\n",
    "for i in df_complaints.columns:\n",
    "    if df_complaints[i].dtype == 'O':\n",
    "        df_complaints[i] = df_complaints[i].astype(str)\n",
    "\n",
    "try:\n",
    "    execute_sql(f'DROP TABLE {database}.CFPB_Complaints_1K;')\n",
    "except Exception as e:\n",
    "    # Table already exists\n",
    "    if str(e.args).find(\"3807\") >= 1:\n",
    "        pass\n",
    "    else:\n",
    "        raise\n",
    "qry = f'''\n",
    "CREATE MULTISET TABLE {database}.CFPB_Complaints_1K,\n",
    "STORAGE = TD_OFSSTORAGE   (\n",
    "    \"Date received\" DATE,\n",
    "    Product VARCHAR(100) CHARACTER SET UNICODE NOT CASESPECIFIC,     \n",
    "    \"Sub-product\" VARCHAR(100) CHARACTER SET UNICODE NOT CASESPECIFIC,\n",
    "    Issue VARCHAR(200) CHARACTER SET UNICODE NOT CASESPECIFIC,\n",
    "    \"Sub-issue\" VARCHAR(200) CHARACTER SET UNICODE NOT CASESPECIFIC,\n",
    "    txt VARCHAR(1024) CHARACTER SET UNICODE NOT CASESPECIFIC,\n",
    "    \"Company public response\" VARCHAR(1024) CHARACTER SET UNICODE NOT CASESPECIFIC,\n",
    "    Company VARCHAR(100) CHARACTER SET UNICODE NOT CASESPECIFIC,\n",
    "    State VARCHAR(3) CHARACTER SET UNICODE NOT CASESPECIFIC,\n",
    "    \"ZIP code\" VARCHAR(10) CHARACTER SET UNICODE NOT CASESPECIFIC,\n",
    "    Tags VARCHAR(100) CHARACTER SET UNICODE NOT CASESPECIFIC,\n",
    "    \"Consumer consent provided?\" VARCHAR(5) CHARACTER SET UNICODE NOT CASESPECIFIC,\n",
    "    \"Submitted via\" VARCHAR(10) CHARACTER SET UNICODE NOT CASESPECIFIC,\n",
    "    \"Date sent to company\" DATE,\n",
    "    \"Company response to consumer\" VARCHAR(1024) CHARACTER SET UNICODE NOT CASESPECIFIC,\n",
    "    \"Timely response?\" VARCHAR(2) CHARACTER SET UNICODE NOT CASESPECIFIC,\n",
    "    \"Consumer disputed?\" VARCHAR(2) CHARACTER SET UNICODE NOT CASESPECIFIC,\n",
    "    id BIGINT)\n",
    "    NO PRIMARY INDEX ;'''\n",
    "\n",
    "execute_sql(qry)\n",
    "copy_to_sql(df_complaints, table_name = 'CFPB_Complaints_1K', schema_name=database, if_exists = 'append')"
   ]
  },
  {
   "cell_type": "code",
   "execution_count": null,
   "id": "ee083041-65ee-4cc8-a43b-a8c92c1b1c10",
   "metadata": {
    "tags": []
   },
   "outputs": [],
   "source": [
    "df_complaints_embeddings = pd.read_csv('Data/CFPB_Embeddings.csv')\n",
    "copy_to_sql(df_complaints_embeddings, table_name = 'CFPB_embeddings_1K', schema_name=database, if_exists = 'replace')"
   ]
  },
  {
   "cell_type": "code",
   "execution_count": null,
   "id": "148d58e8-e03d-405f-bd6c-4d18f6509964",
   "metadata": {},
   "outputs": [],
   "source": [
    "remove_context()"
   ]
  }
 ],
 "metadata": {
  "kernelspec": {
   "display_name": "Python 3 (ipykernel)",
   "language": "python",
   "name": "python3"
  },
  "language_info": {
   "codemirror_mode": {
    "name": "ipython",
    "version": 3
   },
   "file_extension": ".py",
   "mimetype": "text/x-python",
   "name": "python",
   "nbconvert_exporter": "python",
   "pygments_lexer": "ipython3",
   "version": "3.10.11"
  }
 },
 "nbformat": 4,
 "nbformat_minor": 5
}
