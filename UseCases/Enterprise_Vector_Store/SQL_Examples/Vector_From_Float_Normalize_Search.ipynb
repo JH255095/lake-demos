{
 "cells": [
  {
   "cell_type": "markdown",
   "id": "484114f2-fb33-4fcb-9ff4-69d8dd54fee1",
   "metadata": {},
   "source": [
    "<header>\n",
    "   <p  style='font-size:36px;font-family:Arial; color:#F0F0F0; background-color: #00233c; padding-left: 20pt; padding-top: 20pt;padding-bottom: 10pt; padding-right: 20pt;'>\n",
    "       Enterprise Vector Store database functions\n",
    "  <br>\n",
    "       <img id=\"teradata-logo\" src=\"https://storage.googleapis.com/clearscape_analytics_demo_data/DEMO_Logo/teradata.svg\" alt=\"Teradata\" style=\"width: 125px; height: auto; margin-top: 20pt;\">\n",
    "    </p>\n",
    "</header>\n",
    "\n",
    "<hr>\n",
    "\n",
    "<p style = 'font-size:28px;font-family:Arial;color:#00233C'><b>Overview</b></p>\n",
    "\n",
    "<p style = 'font-size:16px;font-family:Arial;color:#00233C'>Teradata Vantage provides a suite of new in-database analytic capabilities for Vector storage, Management, Indexing, and Search, including</p>\n",
    "\n",
    "<ul style = 'font-size:16px;font-family:Arial;color:#00233C'>\n",
    "    <li><b>Vector Datatype</b> based VARBYTE arrays</li>\n",
    "    <li><b>Normalization</b> functions to improve search efficiencies</li>\n",
    "    <li><b>Vector Indexing and Search</b> leveraging multiple algorithms</li>\n",
    "    </ul>\n",
    "\n",
    "<b style = 'font-size:16px;font-family:Arial;color:#00233C'>Vector Datatype</b>\n",
    "<p style = 'font-size:16px;font-family:Arial;color:#00233C'>Currently, the Vantage Database supports several different methods for generating <b>Vector Embeddings</b> including in-database Bring Your Own Model (BYOM) functions, in-platform GPU-accelerated open-source model inferencing, and API-supported embedding using Cloud-based Large Language Models.  However, not all of these methods support the native VECTOR datatype - and may return data as numeric or character-based columns.</p>\n",
    "\n",
    "<p style = 'font-size:28px;font-family:Arial;color:#00233C'><b>Demonstration</b></p>\n",
    "<p style = 'font-size:16px;font-family:Arial;color:#00233C'>The following demonstration uses some of the Consumer Financial Protection Board complaints data and embeddings, and will illustrate some of the in-database functions for constructing and analyzing vector data.</p>\n",
    "\n",
    "<ol style = 'font-size:16px;font-family:Arial;color:#00233C'>\n",
    "    <li>Construct a VECTOR Datatype from FLOAT columns</li>\n",
    "    <li>Normalize the vector data for efficient search</li>\n",
    "    <li>Calculate Vector Distance between complaints and topics data</li>\n",
    "    <li>Create an HSNW index and use it for highly-scalable distance analysis</li>\n",
    "    </ol>"
   ]
  },
  {
   "cell_type": "markdown",
   "id": "8d09e864-737d-425d-ae8e-d50f3e213a92",
   "metadata": {},
   "source": [
    "<hr>\n",
    "<p style = 'font-size:18px;font-family:Arial;color:#00233C'><b>Connect to the database</b></p>\n",
    "\n",
    "<p style = 'font-size:16px;font-family:Arial;color:#00233C'>Create a new named connection if necessary using the %addconnect magic</p> "
   ]
  },
  {
   "cell_type": "code",
   "execution_count": null,
   "id": "968e9c67-1cae-4afd-9b52-a593d9130ecf",
   "metadata": {
    "tags": []
   },
   "outputs": [],
   "source": [
    "%addconnect name=vs_demo, host=XXX.XXX.XXX.XXX"
   ]
  },
  {
   "cell_type": "code",
   "execution_count": null,
   "id": "c588286f-f8ee-47ab-a4e5-88613f98712a",
   "metadata": {},
   "outputs": [],
   "source": [
    "%chconnect name=vs_demo, host=XXX.XXX.XXX.XXX"
   ]
  },
  {
   "cell_type": "code",
   "execution_count": null,
   "id": "aec18f2d-5e2c-4e98-93b1-6b67bbbc3532",
   "metadata": {
    "tags": []
   },
   "outputs": [],
   "source": [
    "%connect vs_demo, user=data_scientist, hidewarnings=True"
   ]
  },
  {
   "cell_type": "markdown",
   "id": "9745371e-aa0a-4ead-99ec-cc485b43e88e",
   "metadata": {},
   "source": [
    "<hr>\n",
    "<p style = 'font-size:18px;font-family:Arial;color:#00233C'><b>Step 1 - Construct a Vector Datatype from float columns</b></p>\n",
    "\n",
    "<p style = 'font-size:16px;font-family:Arial;color:#00233C'>Many Vantage functions (teradatagenai classes, BYOM, OAF inferencing, and CSP-direct FastPath functions) generate Vector data as FLOAT columns.  Convert these to the new VECTOR datatype:</p> \n",
    "<ol style = 'font-size:16px;font-family:Arial;color:#00233C'>\n",
    "    <li>Show original dataset.  This data is a set of vector embeddings generated with Open Analytics Framework using a Hugging Face open-source embedding model.  See that demonstration <a href = 'https://github.com/Teradata/lake-demos/tree/main/UseCases/GenAI/Complaints_Search'>here</a></li>\n",
    "    <li>Run the native ClearScape Analytics Function \"PACK\" to construct a comma-separated array of FLOAT values</li>\n",
    "    <li>Pass this data to the NEW VECTOR function</li>\n",
    "    </ol>\n",
    "<hr>\n",
    "<p style = 'font-size:16px;font-family:Arial;color:#00233C'><b>Show original data:</b></p>"
   ]
  },
  {
   "cell_type": "code",
   "execution_count": null,
   "id": "73f4ef7f-c77b-48df-9915-f709e197a50c",
   "metadata": {
    "tags": []
   },
   "outputs": [],
   "source": [
    "SELECT TOP 2 * FROM demo_ofs.CFPB_Complaints_1K;"
   ]
  },
  {
   "cell_type": "code",
   "execution_count": null,
   "id": "583c9cdc-cf40-49c6-b45d-d1772db98bb3",
   "metadata": {
    "tags": []
   },
   "outputs": [],
   "source": [
    "SELECT TOP 2 * FROM demo_ofs.CFPB_Embeddings_1K;"
   ]
  },
  {
   "cell_type": "code",
   "execution_count": null,
   "id": "a1408201-600e-4d2d-958c-b6aa2de864fa",
   "metadata": {
    "tags": []
   },
   "outputs": [],
   "source": [
    "SELECT TOP 2 * FROM demo_ofs.topics_of_interest;"
   ]
  },
  {
   "cell_type": "code",
   "execution_count": null,
   "id": "6522b11a-7ace-4573-bef1-345d11e58004",
   "metadata": {
    "tags": []
   },
   "outputs": [],
   "source": [
    "SELECT TOP 2 * FROM demo_ofs.topics_embeddings;"
   ]
  },
  {
   "cell_type": "markdown",
   "id": "0766a4ec-f1d2-4f51-a3cb-bce52a8513ac",
   "metadata": {},
   "source": [
    "<hr>\n",
    "<p style = 'font-size:16px;font-family:Arial;color:#00233C'><b>Pass the output of PACK to the datatype constructor</b></p>\n",
    "\n",
    "<p style = 'font-size:16px;font-family:Arial;color:#00233C'>Note that <b>CAST</b> and <b>NEW</b> functions can be used to create the VECTOR datatype.</p>"
   ]
  },
  {
   "cell_type": "code",
   "execution_count": null,
   "id": "ab9b11ce-fd6c-4a43-aba3-b8dcc00957c5",
   "metadata": {
    "tags": []
   },
   "outputs": [],
   "source": [
    "SELECT CAST(packed_data AS VECTOR) Vector_Data, id\n",
    "\n",
    "FROM (\n",
    "    SELECT * FROM PACK (\n",
    "    ON (SELECT TOP 2 * FROM demo_ofs.CFPB_Embeddings_1K)\n",
    "    USING\n",
    "        OutputColumn('packed_data')\n",
    "        TargetColumns('[1:384]')\n",
    "        IncludeColumnName('False')\n",
    "        Accumulate('id')\n",
    ") AS dt) d;"
   ]
  },
  {
   "cell_type": "markdown",
   "id": "0f8fd5c7-8bb8-4ef8-8055-a3409d42cde1",
   "metadata": {},
   "source": [
    "<hr>\n",
    "<p style = 'font-size:18px;font-family:Arial;color:#00233C'><b>Step 2 - Normalize the vector values</b></p>\n",
    "\n",
    "<p style = 'font-size:16px;font-family:Arial;color:#00233C'>Vector normalization is the process of scaling a vector to have a magnitude (length) of 1, while preserving its direction. This resulting vector is called a unit vector. It's essentially dividing each component of the vector by its length.  This makes some calculations much more efficient, including some of the search and indexing operations.  The ClearScape Analytics function <b>TD_VectorNormalize</b> will perform this operation at scale on our VECTOR datatype.</p>"
   ]
  },
  {
   "cell_type": "markdown",
   "id": "8247d52d-236c-4f8b-8bef-06d38ef748cf",
   "metadata": {},
   "source": [
    "<hr>\n",
    "<p style = 'font-size:16px;font-family:Arial;color:#00233C'><b>Review the queries for both tables</b></p>\n",
    "\n",
    "<p style = 'font-size:16px;font-family:Arial;color:#00233C'>Complaints Embeddings and Topics Embeddings</p>"
   ]
  },
  {
   "cell_type": "code",
   "execution_count": null,
   "id": "88c4f2fd-c1a2-4bed-82f3-ba29777eb453",
   "metadata": {
    "tags": []
   },
   "outputs": [],
   "source": [
    "SELECT TOP 10 id, NEW VECTOR(packed_data) Vector_Data\n",
    "\n",
    "FROM (\n",
    "    SELECT * FROM PACK (\n",
    "    ON (SELECT * FROM demo_ofs.CFPB_Embeddings_1K)\n",
    "    USING\n",
    "        OutputColumn('packed_data')\n",
    "        TargetColumns('[1:384]')\n",
    "        IncludeColumnName('False')\n",
    "        Accumulate('id')\n",
    ") AS dt) d;"
   ]
  },
  {
   "cell_type": "code",
   "execution_count": null,
   "id": "42cb1711-7e0e-484a-a437-629b8909da61",
   "metadata": {
    "tags": []
   },
   "outputs": [],
   "source": [
    "SELECT TOP 10 id, NEW VECTOR(packed_data) Vector_Data\n",
    "\n",
    "FROM (\n",
    "    SELECT * FROM PACK (\n",
    "    ON (SELECT * FROM demo_ofs.topics_embeddings)\n",
    "    USING\n",
    "        OutputColumn('packed_data')\n",
    "        TargetColumns('[1:384]')\n",
    "        IncludeColumnName('False')\n",
    "        Accumulate('id')\n",
    ") AS dt) d;"
   ]
  },
  {
   "cell_type": "markdown",
   "id": "462b84d5-8c20-4b73-8894-d792e7eb5794",
   "metadata": {},
   "source": [
    "<hr>\n",
    "<p style = 'font-size:16px;font-family:Arial;color:#00233C'><b>Execute the VectorNormalize function to create new tables</b></p>\n",
    "\n",
    "<p style = 'font-size:16px;font-family:Arial;color:#00233C'>Create new volatile tables passing all the functions in a single expression.</p>"
   ]
  },
  {
   "cell_type": "code",
   "execution_count": null,
   "id": "fcc85d73-934f-4113-9fd4-c42f6210c996",
   "metadata": {
    "tags": []
   },
   "outputs": [],
   "source": [
    "SELECT TOP 10 * FROM TD_Vectornormalize(\n",
    "   ON (SELECT id, NEW VECTOR(packed_data) Vector_Data\n",
    "        FROM (\n",
    "            SELECT * FROM PACK (\n",
    "                ON (SELECT * FROM demo_ofs.topics_embeddings) --original FLOAT-based embeddings table\n",
    "            USING\n",
    "                OutputColumn('packed_data')\n",
    "                TargetColumns('[1:384]')\n",
    "                IncludeColumnName('False')\n",
    "                Accumulate('id')\n",
    "        ) AS p) d) AS InputTable\n",
    "USING\n",
    "    IDColumns('id')\n",
    "    TargetColumns('Vector_Data')\n",
    "    Approach('UNITVECTOR')\n",
    "    EmbeddingSize(384)\n",
    ") AS dt;"
   ]
  },
  {
   "cell_type": "code",
   "execution_count": null,
   "id": "61793134-5f6b-4405-8d15-d5ab7d39beb3",
   "metadata": {},
   "outputs": [],
   "source": [
    "DROP TABLE topics_embeddings_Normalized "
   ]
  },
  {
   "cell_type": "code",
   "execution_count": null,
   "id": "35bf685b-db49-41c2-84dc-aca2602beec0",
   "metadata": {
    "tags": []
   },
   "outputs": [],
   "source": [
    "CREATE VOLATILE TABLE topics_embeddings_Normalized AS (\n",
    "    SELECT TOP 10 * FROM TD_Vectornormalize(\n",
    "       ON (SELECT id, NEW VECTOR(packed_data) Vector_Data\n",
    "            FROM (\n",
    "                SELECT * FROM PACK (\n",
    "                    ON (SELECT * FROM demo_ofs.topics_embeddings) --original FLOAT-based embeddings table\n",
    "                USING\n",
    "                    OutputColumn('packed_data')\n",
    "                    TargetColumns('[1:384]')\n",
    "                    IncludeColumnName('False')\n",
    "                    Accumulate('id')\n",
    "            ) AS p) d) AS InputTable\n",
    "    USING\n",
    "        IDColumns('id')\n",
    "        TargetColumns('Vector_Data')\n",
    "        Approach('UNITVECTOR')\n",
    "        EmbeddingSize(384)\n",
    "    ) AS dt) WITH DATA\n",
    "ON COMMIT PRESERVE ROWS;"
   ]
  },
  {
   "cell_type": "code",
   "execution_count": null,
   "id": "4132b091-45d6-47f7-98d7-dffd4e056e4b",
   "metadata": {
    "tags": []
   },
   "outputs": [],
   "source": [
    "DROP TABLE CFPB_embeddings_Normalized "
   ]
  },
  {
   "cell_type": "code",
   "execution_count": null,
   "id": "4b0cf4db-5482-4f9f-b6d5-06f8d2d7bb1a",
   "metadata": {
    "tags": []
   },
   "outputs": [],
   "source": [
    "CREATE VOLATILE TABLE CFPB_embeddings_Normalized AS (\n",
    "    SELECT TOP 10 * FROM TD_Vectornormalize(\n",
    "       ON (SELECT id, NEW VECTOR(packed_data) Vector_Data\n",
    "            FROM (\n",
    "                SELECT * FROM PACK (\n",
    "                    ON (SELECT * FROM demo_ofs.CFPB_embeddings_1K) --original FLOAT-based embeddings table\n",
    "                USING\n",
    "                    OutputColumn('packed_data')\n",
    "                    TargetColumns('[1:384]')\n",
    "                    IncludeColumnName('False')\n",
    "                    Accumulate('id')\n",
    "            ) AS p) d) AS InputTable\n",
    "    USING\n",
    "        IDColumns('id')\n",
    "        TargetColumns('Vector_Data')\n",
    "        Approach('UNITVECTOR')\n",
    "        EmbeddingSize(384)\n",
    "    ) AS dt) WITH DATA\n",
    "ON COMMIT PRESERVE ROWS;"
   ]
  },
  {
   "cell_type": "code",
   "execution_count": null,
   "id": "1ad771b0-ef30-4ad1-a07b-a76cabbeb579",
   "metadata": {
    "tags": []
   },
   "outputs": [],
   "source": [
    "SELECT TOP 10 * FROM CFPB_embeddings_Normalized;"
   ]
  },
  {
   "cell_type": "markdown",
   "id": "44af3e98-24bb-4f8a-afb2-6bf626d26a14",
   "metadata": {},
   "source": [
    "<hr>\n",
    "<p style = 'font-size:18px;font-family:Arial;color:#00233C'><b>Step 3 - Perform Vector Distance calculations</b></p>\n",
    "\n",
    "<p style = 'font-size:16px;font-family:Arial;color:#00233C'>The ClearScape Analytics function <a href = 'https://docs.teradata.com/r/Teradata-VantageCloud-Lake/Analyzing-Your-Data/Analytics-Database-Analytic-Functions/Model-Training-Functions/TD_VectorDistance'>TD_VectorDistance</a> function will take a table of input Vectors and a table of reference vectors and returns a table that contains the distance between target-reference pairs.  Since this function scans every row and performs the distance calculation, it is resource-intensive and usually suited to a lower number of records.</p>\n",
    "\n",
    "<p style = 'font-size:16px;font-family:Arial;color:#00233C'>Additionally, perform a simple join to display the original complaints, topic of interest, and distance calculations</p>"
   ]
  },
  {
   "cell_type": "code",
   "execution_count": null,
   "id": "5b5a66f7-3f24-4185-988b-d4967ce1e78f",
   "metadata": {
    "tags": []
   },
   "outputs": [],
   "source": [
    "SELECT TOP 10 target_id, reference_id, distancetype, cast(distance as decimal(36,8)) as distance FROM TD_VECTORDISTANCE (\n",
    "    ON CFPB_Embeddings_Normalized AS TargetTable\n",
    "    ON topics_embeddings_Normalized AS ReferenceTable DIMENSION\n",
    "USING\n",
    "    TargetIDColumn('id')\n",
    "    TargetFeatureColumns('Vector_Data')\n",
    "    RefIDColumn('id')\n",
    "    RefFeatureColumns('Vector_Data')\n",
    "    DistanceMeasure('cosine')\n",
    "    topk(1)\n",
    ") AS dt order by 3,1,2,4;"
   ]
  },
  {
   "cell_type": "markdown",
   "id": "03cee88c-ef93-4a53-95cb-ce0ad530b96d",
   "metadata": {},
   "source": [
    "<hr>\n",
    "<p style = 'font-size:16px;font-family:Arial;color:#00233C'><b>Join the results back to the original complaints and topics</b></p>"
   ]
  },
  {
   "cell_type": "code",
   "execution_count": null,
   "id": "0de8ab5d-b4bd-4bad-8717-5bf8b2ffdbb3",
   "metadata": {
    "tags": []
   },
   "outputs": [],
   "source": [
    "SELECT TOP 2 * FROM demo_ofs.CFPB_Complaints_1K;"
   ]
  },
  {
   "cell_type": "code",
   "execution_count": null,
   "id": "5525c9f3-e693-4729-8607-9989dfee073a",
   "metadata": {
    "tags": []
   },
   "outputs": [],
   "source": [
    "SELECT TOP 2 * FROM demo_ofs.topics_of_interest;"
   ]
  },
  {
   "cell_type": "code",
   "execution_count": null,
   "id": "94e88a6a-6394-42e0-9689-5e6dc30c0aca",
   "metadata": {
    "tags": []
   },
   "outputs": [],
   "source": [
    "SELECT TOP 10 c.id complaint_id, r.txt topic, c.txt complaint, d.distance\n",
    "\n",
    "FROM (SELECT target_id, reference_id, distancetype, cast(distance as decimal(36,8)) as distance FROM TD_VECTORDISTANCE (\n",
    "    ON CFPB_Embeddings_Normalized AS TargetTable\n",
    "    ON topics_embeddings_Normalized AS ReferenceTable DIMENSION\n",
    "USING\n",
    "    TargetIDColumn('id')\n",
    "    TargetFeatureColumns('Vector_Data')\n",
    "    RefIDColumn('id')\n",
    "    RefFeatureColumns('Vector_Data')\n",
    "    DistanceMeasure('cosine')\n",
    "    topk(1)\n",
    ") AS dt) d\n",
    "    \n",
    "JOIN demo_ofs.CFPB_Complaints_1K c\n",
    "    ON c.id = d.target_id\n",
    "JOIN demo_ofs.topics_of_interest r\n",
    "    ON r.id = d.reference_id\n",
    "\n",
    "ORDER BY d.distance;"
   ]
  },
  {
   "cell_type": "markdown",
   "id": "3225b754-92d8-499e-ac34-544926124100",
   "metadata": {},
   "source": [
    "<hr>\n",
    "<p style = 'font-size:18px;font-family:Arial;color:#00233C'><b>Step 4 - leverage an HNSW index for fast search</b></p>\n",
    "\n",
    "<p style = 'font-size:16px;font-family:Arial;color:#00233C'>The ClearScape Analytics function <a href = 'https://docs.teradata.com/r/Teradata-VantageCloud-Lake/Analyzing-Your-Data/Analytics-Database-Analytic-Functions/Model-Training-Functions/TD_VectorDistance'>TD_HNSW</a> (Hierarchical Navigable Small Worlds) function will create an index table representing....  This index model can then be used by the TD_HNSWPredict function to perform extremely efficient similarity searches.</p>\n",
    "\n",
    "<ol style = 'font-size:16px;font-family:Arial;color:#00233C'>\n",
    "    <li>Train the model using the Vector Datatype as input</li>\n",
    "    <li>Predict nearest matches using the topics embeddings as input</li>\n",
    "    <li>Join the original data for human-readable results</li>\n",
    "    </ol>\n",
    "    \n",
    "<hr>\n",
    "<p style = 'font-size:16px;font-family:Arial;color:#00233C'><b>Train the model</b></p>"
   ]
  },
  {
   "cell_type": "code",
   "execution_count": null,
   "id": "5264f99d-8238-42df-a6cc-047e9d106bdc",
   "metadata": {
    "tags": []
   },
   "outputs": [],
   "source": [
    "SELECT * FROM TD_HNSW (\n",
    "    ON CFPB_Embeddings_Normalized AS InputTable\n",
    "    OUT VOLATILE TABLE OutputTable(hnsw_model)\n",
    "USING\n",
    "    IdColumn('id')\n",
    "    VectorColumn('Vector_Data')\n",
    "    EfConstruction(16)\n",
    "    NumConnPerNode(16)\n",
    "    MaxNumConnPerNode(20)\n",
    "    DistanceMeasure('euclidean')\n",
    "    EmbeddingSize(384)\n",
    "    ApplyHeuristics('true')\n",
    ") as dt;"
   ]
  },
  {
   "cell_type": "markdown",
   "id": "7d9e57d3-621c-4703-887e-f8df6f0b052d",
   "metadata": {},
   "source": [
    "<hr>\n",
    "<p style = 'font-size:16px;font-family:Arial;color:#00233C'><b>Return similar results using topics as input</b></p>"
   ]
  },
  {
   "cell_type": "code",
   "execution_count": null,
   "id": "cd993c57-803b-4c1c-a958-e83275b34e34",
   "metadata": {
    "tags": []
   },
   "outputs": [],
   "source": [
    "SELECT TOP 10 * FROM\n",
    "TD_HNSWPREDICT (\n",
    "    ON hnsw_model AS ModelTable\n",
    "    ON topics_embeddings_Normalized AS InputTable DIMENSION\n",
    "    USING\n",
    "    IdColumn('id')\n",
    "    VectorColumn('Vector_Data')\n",
    "    EfSearch(16)\n",
    "    TopK(2)\n",
    "    OutputNearestVector('true')\n",
    ") T ORDER BY 1,3;"
   ]
  },
  {
   "cell_type": "markdown",
   "id": "ba0bba54-6d1c-49de-a99e-236191e88811",
   "metadata": {},
   "source": [
    "<hr>\n",
    "<p style = 'font-size:16px;font-family:Arial;color:#00233C'><b>Join the results back to the original complaints and topics</b></p>"
   ]
  },
  {
   "cell_type": "code",
   "execution_count": null,
   "id": "948a42ab-9010-4b1a-bd22-f60b6b0fdd66",
   "metadata": {
    "tags": []
   },
   "outputs": [],
   "source": [
    "SELECT TOP 10 c.id complaint_id, r.txt topic, c.txt complaint, d.distance\n",
    "\n",
    "FROM (SELECT * FROM\n",
    "TD_HNSWPREDICT (\n",
    "    ON hnsw_model AS ModelTable\n",
    "    ON topics_embeddings_Normalized AS InputTable DIMENSION\n",
    "    USING\n",
    "    IdColumn('id')\n",
    "    VectorColumn('Vector_Data')\n",
    "    EfSearch(16)\n",
    "    TopK(2)\n",
    "    OutputNearestVector('true')\n",
    ") T) d\n",
    "    \n",
    "    \n",
    "JOIN demo_ofs.CFPB_Complaints_1K c\n",
    "    ON c.id = d.nearest_neighbor_id\n",
    "JOIN demo_ofs.topics_of_interest r\n",
    "    ON r.id = d.id\n",
    "\n",
    "ORDER BY d.distance;"
   ]
  },
  {
   "cell_type": "markdown",
   "id": "a87971da-71ed-4b40-b823-a49a394cf311",
   "metadata": {},
   "source": [
    "<hr>\n",
    "<p style = 'font-size:16px;font-family:Arial;color:#00233C'><b>Use TD_HNSWSummary to create a human-readable model output</b></p>"
   ]
  },
  {
   "cell_type": "code",
   "execution_count": null,
   "id": "e1291b4f-d26a-4a59-8d6c-24f232c54d4f",
   "metadata": {
    "tags": []
   },
   "outputs": [],
   "source": [
    "SELECT amp_id, graph_id, node_id, layer_id, input_row_id, cast(node_vector\n",
    "as varchar(60)) as node_vector, num_neighbors, cast(neighbor_node_id as\n",
    "varchar(60)) as neighbor_node_id, cast(model_info as varchar(500)) as model_info \n",
    "\n",
    "FROM TD_HNSWSummary(\n",
    "    ON hnsw_model as ModelTable\n",
    ") as dt\n",
    "ORDER by 1,9"
   ]
  },
  {
   "cell_type": "code",
   "execution_count": null,
   "id": "1a819671-9651-40bc-82ed-8c0e394438d7",
   "metadata": {
    "tags": []
   },
   "outputs": [],
   "source": [
    "%disconnect vs_demo"
   ]
  },
  {
   "cell_type": "code",
   "execution_count": null,
   "id": "0f02421d-08c0-4547-bd91-019092189a14",
   "metadata": {},
   "outputs": [],
   "source": []
  }
 ],
 "metadata": {
  "kernelspec": {
   "display_name": "Teradata SQL",
   "language": "Teradata SQL",
   "name": "teradatasql"
  },
  "language_info": {
   "codemirror_mode": "Teradata SQL",
   "file_extension": ".tdrs",
   "mimetype": "application/vnd.teradata.resultset",
   "name": "Teradata SQL",
   "nbconvert_exporter": "",
   "pygments_lexer": "",
   "version": "16.20"
  }
 },
 "nbformat": 4,
 "nbformat_minor": 5
}
