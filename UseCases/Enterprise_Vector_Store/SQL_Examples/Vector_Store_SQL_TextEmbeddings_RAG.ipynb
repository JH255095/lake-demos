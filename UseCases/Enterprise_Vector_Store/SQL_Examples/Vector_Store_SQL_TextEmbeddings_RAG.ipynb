{
 "cells": [
  {
   "cell_type": "markdown",
   "id": "484114f2-fb33-4fcb-9ff4-69d8dd54fee1",
   "metadata": {},
   "source": [
    "<header>\n",
    "   <p  style='font-size:36px;font-family:Arial; color:#F0F0F0; background-color: #00233c; padding-left: 20pt; padding-top: 20pt;padding-bottom: 10pt; padding-right: 20pt;'>\n",
    "       Enterprise Vector Store - Embedding and Search in SQL\n",
    "  <br>\n",
    "       <img id=\"teradata-logo\" src=\"https://storage.googleapis.com/clearscape_analytics_demo_data/DEMO_Logo/teradata.svg\" alt=\"Teradata\" style=\"width: 125px; height: auto; margin-top: 20pt;\">\n",
    "    </p>\n",
    "</header>\n",
    "\n",
    "<hr>\n",
    "\n",
    "<p style = 'font-size:28px;font-family:Arial;color:#00233C'><b>Overview</b></p>\n",
    "\n",
    "<p style = 'font-size:16px;font-family:Arial;color:#00233C'>Teradata Vantage provides a suite of new in-database analytic capabilities for Vector storage, Management, Indexing, and Search, including</p>\n",
    "\n",
    "<ul style = 'font-size:16px;font-family:Arial;color:#00233C'>\n",
    "    <li><b>Vector Datatype</b> based VARBYTE arrays</li>\n",
    "    <li><b>Normalization</b> functions to improve search efficiencies</li>\n",
    "    <li><b>Vector Indexing and Search</b> leveraging multiple algorithms</li>\n",
    "    </ul>\n",
    "\n",
    "<b style = 'font-size:16px;font-family:Arial;color:#00233C'>Vector Datatype using TD_AITextEmbeddings</b>\n",
    "<p style = 'font-size:16px;font-family:Arial;color:#00233C'>Currently, the Vantage Database supports several different methods for generating <b>Vector Embeddings</b> including in-database Bring Your Own Model (BYOM) functions, in-platform GPU-accelerated open-source model inferencing, and API-supported embedding using Cloud-based Large Language Models. </p>\n",
    "\n",
    "<p style = 'font-size:28px;font-family:Arial;color:#00233C'><b>Demonstration</b></p>\n",
    "<p style = 'font-size:16px;font-family:Arial;color:#00233C'>The following demonstration uses some of the Consumer Financial Protection Board complaints data to illustrate a SQL-based end-to-end Vector Embedding use case:</p>\n",
    "\n",
    "<ol style = 'font-size:16px;font-family:Arial;color:#00233C'>\n",
    "    <li>Generate <b>Vector Embeddings</b> using Cloud-based LLMs</li>\n",
    "    <li><b>Normalize</b> the vector data for efficient search</li>\n",
    "    <li>Calculate <b>Vector Distance</b> between complaints and topics data</li>\n",
    "    <li>Perform <b>Retreival Augmented Generation (RAG)</b> using native functions and cloud-based LLMs</li>\n",
    "    </ol>"
   ]
  },
  {
   "cell_type": "markdown",
   "id": "8d09e864-737d-425d-ae8e-d50f3e213a92",
   "metadata": {},
   "source": [
    "<hr>\n",
    "<p style = 'font-size:18px;font-family:Arial;color:#00233C'><b>Connect to the database</b></p>\n",
    "\n",
    "<p style = 'font-size:16px;font-family:Arial;color:#00233C'>Create a new named connection if necessary using the %addconnect magic</p> "
   ]
  },
  {
   "cell_type": "code",
   "execution_count": null,
   "id": "968e9c67-1cae-4afd-9b52-a593d9130ecf",
   "metadata": {
    "tags": []
   },
   "outputs": [],
   "source": [
    "%addconnect name=vs_demo, host=34.232.150.25"
   ]
  },
  {
   "cell_type": "code",
   "execution_count": null,
   "id": "b6c64bbe-b0b5-4e71-aaab-1a1d1de05705",
   "metadata": {
    "tags": []
   },
   "outputs": [],
   "source": [
    "%chconnect name=vs_demo, host=34.232.150.25"
   ]
  },
  {
   "cell_type": "code",
   "execution_count": null,
   "id": "aec18f2d-5e2c-4e98-93b1-6b67bbbc3532",
   "metadata": {
    "tags": []
   },
   "outputs": [],
   "source": [
    "%connect vs_demo, user=data_engineer, hidewarnings=True"
   ]
  },
  {
   "cell_type": "markdown",
   "id": "9e59eab5-041d-400b-b5a8-e6ab6cc55a97",
   "metadata": {},
   "source": [
    "<hr>\n",
    "<p style = 'font-size:18px;font-family:Arial;color:#00233C'><b>Step 1 - Generate Vector Embeddings</b></p>\n",
    "\n",
    "<p style = 'font-size:16px;font-family:Arial;color:#00233C'>The ClearScape Analytics function TD_AITextEmbeddings can use either built-in or user-defined CSP LLM endpoints and models for generating vector embedding.  The built-in capabilities follow the model support matrix provded in the User Guide.</p> \n",
    "<ol style = 'font-size:16px;font-family:Arial;color:#00233C'>\n",
    "    <li>View the original dataset.  CFPB Consumer Complaints</li>\n",
    "    <li>Set up authorization.  To use built-in LLM services, keep the USER and PASSWORD values blank</li>\n",
    "    <li>Pass this data to the TD_AITextEmbeddings function</li>\n",
    "    </ol>\n",
    "<hr>\n",
    "<p style = 'font-size:16px;font-family:Arial;color:#00233C'><b>Show original data:</b></p>"
   ]
  },
  {
   "cell_type": "code",
   "execution_count": null,
   "id": "73f4ef7f-c77b-48df-9915-f709e197a50c",
   "metadata": {
    "tags": []
   },
   "outputs": [],
   "source": [
    "SELECT TOP 2 * FROM demo_ofs.CFPB_Complaints_1K;"
   ]
  },
  {
   "cell_type": "code",
   "execution_count": null,
   "id": "df625199-940c-4a17-88b2-4967634ab912",
   "metadata": {
    "tags": []
   },
   "outputs": [],
   "source": [
    "SELECT TOP 2 * FROM demo_ofs.topics_of_interest;"
   ]
  },
  {
   "cell_type": "markdown",
   "id": "ad4e4d07-b965-4909-9dfb-03a377b42826",
   "metadata": {},
   "source": [
    "<hr>\n",
    "<p style = 'font-size:16px;font-family:Arial;color:#00233C'><b>Configure authorization</b></p>\n",
    "\n",
    "<p style = 'font-size:16px;font-family:Arial;color:#00233C'>VantageCloud environments that have Enteperprise Vector Store enabled leverage the existing CSP account for LLM access.  For these accounts, users can pass a blank authorization object to the SQL functions.  If a user does not have Enterprise Vector Store, the user can pass valid credentials to access the CSP LLM (AWS Bedrock, Azure/OpenAI, Google Gemini, etc.).  See the documentation for more details.</p>"
   ]
  },
  {
   "cell_type": "code",
   "execution_count": null,
   "id": "37e67987-7f58-4855-a662-0dead9b42bba",
   "metadata": {
    "tags": []
   },
   "outputs": [],
   "source": [
    "REPLACE AUTHORIZATION demo_embeddings_auth USER '' PASSWORD '';"
   ]
  },
  {
   "cell_type": "markdown",
   "id": "0ac915ee-ec76-4424-aae9-c98177bdb882",
   "metadata": {},
   "source": [
    "<hr>\n",
    "<p style = 'font-size:16px;font-family:Arial;color:#00233C'><b>Generate Vector Embeddings</b></p>\n",
    "\n",
    "<p style = 'font-size:16px;font-family:Arial;color:#00233C'>This function takes the following as input</p>\n",
    "\n",
    "<ul style = 'font-size:16px;font-family:Arial;color:#00233C'>\n",
    "    <li><b>Input Data</b>.  Including a partition value to execute the embedding function from a single AMP</li>\n",
    "    <li><b>Model information</b> including the model name, AWS region of the deployment, and any additional arguments</li>\n",
    "    <li><b>Authorization</b>.  In this case, the blank passthrough object</li>\n",
    "    </ul>"
   ]
  },
  {
   "cell_type": "code",
   "execution_count": null,
   "id": "2c0080cd-6087-41ea-a0a8-064d60a0f6f1",
   "metadata": {
    "tags": []
   },
   "outputs": [],
   "source": [
    "SELECT *\n",
    "FROM AI_TEXTEMBEDDINGS (\n",
    "    ON (SELECT TOP 2 txt, id, TD_BYONE() p FROM demo_ofs.CFPB_Complaints_1K) AS InputTable\n",
    "    PARTITION BY p\n",
    "USING       \n",
    "     region('us-east-1')\n",
    "     refreshcredentialtimeseconds('3600')\n",
    "     Authorization(demo_embeddings_auth)\n",
    "     apitype('aws') \n",
    "     modelname('amazon.titan-embed-text-v2:0') --'amazon.titan-embed-image-v1', or 'amazon.titan-embed-text-v1'\n",
    "     --modelargs('{\"dimensions\":256}') --to change the number of embddings\n",
    "     textcolumn('txt')\n",
    "     outputformat('vector')\n",
    ") as dt;"
   ]
  },
  {
   "cell_type": "markdown",
   "id": "0f8fd5c7-8bb8-4ef8-8055-a3409d42cde1",
   "metadata": {},
   "source": [
    "<hr>\n",
    "<p style = 'font-size:18px;font-family:Arial;color:#00233C'><b>Step 2 - Normalize the vector values</b></p>\n",
    "\n",
    "<p style = 'font-size:16px;font-family:Arial;color:#00233C'>Vector normalization is the process of scaling a vector to have a magnitude (length) of 1, while preserving its direction. This resulting vector is called a unit vector. It's essentially dividing each component of the vector by its length.  This makes some calculations much more efficient, including some of the search and indexing operations.  The ClearScape Analytics function <b>TD_VectorNormalize</b> will perform this operation at scale on our VECTOR datatype.</p>"
   ]
  },
  {
   "cell_type": "markdown",
   "id": "462b84d5-8c20-4b73-8894-d792e7eb5794",
   "metadata": {},
   "source": [
    "<hr>\n",
    "<p style = 'font-size:16px;font-family:Arial;color:#00233C'><b>Execute the VectorNormalize function against the output of the embedding function</b></p>\n"
   ]
  },
  {
   "cell_type": "code",
   "execution_count": null,
   "id": "fcc85d73-934f-4113-9fd4-c42f6210c996",
   "metadata": {
    "tags": []
   },
   "outputs": [],
   "source": [
    "SELECT * FROM TD_Vectornormalize(\n",
    "       ON (SELECT txt, id, Embedding, Embedding Embedding_Normalized\n",
    "            FROM AI_TEXTEMBEDDINGS (\n",
    "                ON (SELECT TOP 2 txt, id, TD_BYONE() p FROM demo_ofs.CFPB_Complaints_1K) AS InputTable\n",
    "                PARTITION BY p\n",
    "            USING       \n",
    "                 region('us-east-1')\n",
    "                 refreshcredentialtimeseconds('3600')\n",
    "                 Authorization(demo_embeddings_auth)\n",
    "                 apitype('aws')\n",
    "                 modelname('amazon.titan-embed-text-v2:0')\n",
    "                 modelargs('{}')\n",
    "                 textcolumn('txt')\n",
    "                 outputformat('vector')\n",
    "    ) as ve) AS InputTable\n",
    "USING\n",
    "    IDColumns('id')\n",
    "    TargetColumns('Embedding_Normalized')\n",
    "    Approach('UNITVECTOR')\n",
    "    Accumulate('txt','Embedding')\n",
    "    EmbeddingSize(1024)\n",
    ") AS dt;"
   ]
  },
  {
   "cell_type": "markdown",
   "id": "8818978a-dcf0-4a22-84b0-0c7c26757f29",
   "metadata": {},
   "source": [
    "<hr>\n",
    "<p style = 'font-size:16px;font-family:Arial;color:#00233C'><b>Create new volatile tables to store the final embeddings and normalized values.</b></p>\n",
    "\n",
    "<p style = 'font-size:16px;font-family:Arial;color:#00233C'>Create new volatile tables passing all the functions in a single expression.  Use Accumulate clause to return original embedding and comments text.</p>"
   ]
  },
  {
   "cell_type": "code",
   "execution_count": null,
   "id": "61793134-5f6b-4405-8d15-d5ab7d39beb3",
   "metadata": {},
   "outputs": [],
   "source": [
    "DROP TABLE topics_embeddings_Normalized "
   ]
  },
  {
   "cell_type": "code",
   "execution_count": null,
   "id": "35bf685b-db49-41c2-84dc-aca2602beec0",
   "metadata": {
    "tags": []
   },
   "outputs": [],
   "source": [
    "CREATE VOLATILE TABLE topics_embeddings_Normalized AS (\n",
    "    SELECT * FROM TD_Vectornormalize(\n",
    "           ON (SELECT txt, id, Embedding, Embedding Embedding_Normalized\n",
    "                FROM AI_TEXTEMBEDDINGS (\n",
    "                    ON (SELECT txt, id, TD_BYONE() p FROM demo_ofs.topics_of_interest) AS InputTable\n",
    "                    PARTITION BY p\n",
    "                USING       \n",
    "                     region('us-east-1')\n",
    "                     refreshcredentialtimeseconds('3600')\n",
    "                     Authorization(demo_embeddings_auth)\n",
    "                     apitype('aws')\n",
    "                     modelname('amazon.titan-embed-text-v2:0')\n",
    "                     modelargs('{}')\n",
    "                     textcolumn('txt')\n",
    "                     outputformat('vector')\n",
    "        ) as ve) AS InputTable\n",
    "    USING\n",
    "        IDColumns('id')\n",
    "        TargetColumns('Embedding_Normalized')\n",
    "        Approach('UNITVECTOR')\n",
    "        Accumulate('txt','Embedding')\n",
    "        EmbeddingSize(1024)\n",
    ") AS d) WITH DATA\n",
    "ON COMMIT PRESERVE ROWS;"
   ]
  },
  {
   "cell_type": "markdown",
   "id": "da18784f-8669-48e4-9890-4d833ebfbd58",
   "metadata": {},
   "source": [
    "<hr>\n",
    "<p style = 'font-size:16px;font-family:Arial;color:#00233C'>Use <b>CAST</b> to VARCHAR to create a human-readable embedding array.</p>"
   ]
  },
  {
   "cell_type": "code",
   "execution_count": null,
   "id": "532e0168-09e6-4e26-b901-0e75ad7880bf",
   "metadata": {
    "tags": []
   },
   "outputs": [],
   "source": [
    "SELECT TOP 2 id, \n",
    "    CAST(Embedding_Normalized AS VARCHAR(34000)), \n",
    "    txt, \n",
    "    CAST(Embedding as VARCHAR(34000))\n",
    "FROM topics_embeddings_Normalized;"
   ]
  },
  {
   "cell_type": "code",
   "execution_count": null,
   "id": "4132b091-45d6-47f7-98d7-dffd4e056e4b",
   "metadata": {
    "tags": []
   },
   "outputs": [],
   "source": [
    "DROP TABLE CFPB_embeddings_Normalized"
   ]
  },
  {
   "cell_type": "code",
   "execution_count": null,
   "id": "7319320c-7509-40b6-a4a9-9eb7202a8481",
   "metadata": {
    "tags": []
   },
   "outputs": [],
   "source": [
    "CREATE VOLATILE TABLE CFPB_embeddings_Normalized AS (\n",
    "    SELECT * FROM TD_Vectornormalize(\n",
    "           ON (SELECT txt, id, Embedding, Embedding Embedding_Normalized\n",
    "                FROM AI_TEXTEMBEDDINGS (\n",
    "                    ON (SELECT TOP 1000 txt, id, TD_BYONE() p FROM demo_ofs.CFPB_Complaints_1K) AS InputTable --only pass 1000 rows to the embedding function\n",
    "                    PARTITION BY p\n",
    "                USING       \n",
    "                     region('us-east-1')\n",
    "                     refreshcredentialtimeseconds('3600')\n",
    "                     Authorization(demo_embeddings_auth)\n",
    "                     apitype('aws')\n",
    "                     modelname('amazon.titan-embed-text-v2:0')\n",
    "                     modelargs('{}')\n",
    "                     textcolumn('txt')\n",
    "                     outputformat('vector')\n",
    "        ) as ve) AS InputTable\n",
    "    USING\n",
    "        IDColumns('id')\n",
    "        TargetColumns('Embedding_Normalized')\n",
    "        Approach('UNITVECTOR')\n",
    "        Accumulate('txt','Embedding')\n",
    "        EmbeddingSize(1024)\n",
    ") AS d) WITH DATA\n",
    "ON COMMIT PRESERVE ROWS;"
   ]
  },
  {
   "cell_type": "code",
   "execution_count": null,
   "id": "1ad771b0-ef30-4ad1-a07b-a76cabbeb579",
   "metadata": {
    "tags": []
   },
   "outputs": [],
   "source": [
    "SELECT TOP 2 id, \n",
    "    CAST(Embedding_Normalized AS VARCHAR(34000)), \n",
    "    txt, \n",
    "    CAST(Embedding as VARCHAR(34000))\n",
    "FROM CFPB_embeddings_Normalized;"
   ]
  },
  {
   "cell_type": "markdown",
   "id": "44af3e98-24bb-4f8a-afb2-6bf626d26a14",
   "metadata": {},
   "source": [
    "<hr>\n",
    "<p style = 'font-size:18px;font-family:Arial;color:#00233C'><b>Step 3 - Perform Vector Distance calculations</b></p>\n",
    "\n",
    "<p style = 'font-size:16px;font-family:Arial;color:#00233C'>The ClearScape Analytics function <a href = 'https://docs.teradata.com/r/Teradata-VantageCloud-Lake/Analyzing-Your-Data/Analytics-Database-Analytic-Functions/Model-Training-Functions/TD_VectorDistance'>TD_VectorDistance</a> function will take a table of input Vectors and a table of reference vectors and returns a table that contains the distance between target-reference pairs.  Since this function scans every row and performs the distance calculation, it is resource-intensive and usually suited to a lower number of records.</p>\n",
    "\n",
    "<p style = 'font-size:16px;font-family:Arial;color:#00233C'>Additionally, perform a simple join to display the original complaints, topic of interest, and distance calculations</p>"
   ]
  },
  {
   "cell_type": "code",
   "execution_count": null,
   "id": "5b5a66f7-3f24-4185-988b-d4967ce1e78f",
   "metadata": {
    "tags": []
   },
   "outputs": [],
   "source": [
    "SELECT TOP 10 target_id, reference_id, distancetype, cast(distance as decimal(36,8)) as distance FROM TD_VECTORDISTANCE (\n",
    "    ON CFPB_Embeddings_Normalized AS TargetTable\n",
    "    ON topics_embeddings_Normalized AS ReferenceTable DIMENSION\n",
    "USING\n",
    "    TargetIDColumn('id')\n",
    "    TargetFeatureColumns('Embedding_Normalized')\n",
    "    RefIDColumn('id')\n",
    "    RefFeatureColumns('Embedding_Normalized')\n",
    "    DistanceMeasure('cosine')\n",
    "    topk(1)\n",
    ") AS dt order by 3,1,2,4;"
   ]
  },
  {
   "cell_type": "markdown",
   "id": "03cee88c-ef93-4a53-95cb-ce0ad530b96d",
   "metadata": {},
   "source": [
    "<hr>\n",
    "<p style = 'font-size:16px;font-family:Arial;color:#00233C'><b>Join the results back to the original complaints and topics</b></p>"
   ]
  },
  {
   "cell_type": "code",
   "execution_count": null,
   "id": "0de8ab5d-b4bd-4bad-8717-5bf8b2ffdbb3",
   "metadata": {
    "tags": []
   },
   "outputs": [],
   "source": [
    "SELECT TOP 2 * FROM demo_ofs.CFPB_Complaints_1K;"
   ]
  },
  {
   "cell_type": "code",
   "execution_count": null,
   "id": "5525c9f3-e693-4729-8607-9989dfee073a",
   "metadata": {
    "tags": []
   },
   "outputs": [],
   "source": [
    "SELECT TOP 2 * FROM demo_ofs.topics_of_interest;"
   ]
  },
  {
   "cell_type": "code",
   "execution_count": null,
   "id": "94e88a6a-6394-42e0-9689-5e6dc30c0aca",
   "metadata": {
    "tags": []
   },
   "outputs": [],
   "source": [
    "SELECT TOP 10 c.id complaint_id, r.txt topic, c.txt complaint, d.distance\n",
    "\n",
    "FROM (SELECT target_id, reference_id, distancetype, cast(distance as decimal(36,8)) as distance FROM TD_VECTORDISTANCE (\n",
    "    ON CFPB_Embeddings_Normalized AS TargetTable\n",
    "    ON topics_embeddings_Normalized AS ReferenceTable DIMENSION\n",
    "USING\n",
    "    TargetIDColumn('id')\n",
    "    TargetFeatureColumns('Embedding_Normalized')\n",
    "    RefIDColumn('id')\n",
    "    RefFeatureColumns('Embedding_Normalized')\n",
    "    DistanceMeasure('cosine')\n",
    "    topk(1)\n",
    ") AS dt) d\n",
    "    \n",
    "JOIN demo_ofs.CFPB_Complaints_1K c\n",
    "    ON c.id = d.target_id\n",
    "JOIN demo_ofs.topics_of_interest r\n",
    "    ON r.id = d.reference_id\n",
    "\n",
    "ORDER BY d.distance;"
   ]
  },
  {
   "cell_type": "markdown",
   "id": "f0145ffd-ac63-4668-aa64-59c26ab5ed14",
   "metadata": {},
   "source": [
    "<hr>\n",
    "<p style = 'font-size:18px;font-family:Arial;color:#00233C'><b>Step 4 - Pass the search results to the LLM to generate a response</b></p>\n",
    "\n",
    "<p style = 'font-size:16px;font-family:Arial;color:#00233C'>The ClearScape Analytics function <a href = 'https://docs.teradata.com/r/Lake-Analyze-Your-Data-with-ClearScape-AnalyticsTM/Text-Analytics-AI-Functions/AI_AskLLM'>AI_ASKLLM</a> can use user-defined CSP LLM endpoints and models for generating a response.  The function takes multiple user-defined parameters to select the model and control the generation tasks:</p> \n",
    "<ol style = 'font-size:16px;font-family:Arial;color:#00233C'>\n",
    "    <li><b>Input Table</b> containing one or more \"questions\".  Each row in this table will call the generation task once</li>\n",
    "    <li><b>Context Table</b> containg additional context to pass to the prompt.  This can be the result of a similarity search as in the example here, or any other data that the user wishes to send in the prompt.  Note the function will use a single column, so use PACK or other string functions to concatenate additional context if desired</li>\n",
    "    <li><b>Model information</b> including region, CSP, and model name</li>\n",
    "    <li><b>Authorization</b> Passed as keys/secrets or a secure Authorization Object</li>\n",
    "    </ol>\n",
    "    \n",
    "<p style = 'font-size:16px;font-family:Arial;color:#00233C'>For this demonstration, we will construct a small questions table as input, and pass the similarity search results from above as context.</p>"
   ]
  },
  {
   "cell_type": "markdown",
   "id": "ee261177-a756-4a26-beb9-4b9514967fa1",
   "metadata": {},
   "source": [
    "<hr>\n",
    "<p style = 'font-size:16px;font-family:Arial;color:#00233C'><b>Create an input table</b></p>"
   ]
  },
  {
   "cell_type": "code",
   "execution_count": null,
   "id": "2c350447-6938-4204-81c4-3387562e3bfe",
   "metadata": {},
   "outputs": [],
   "source": [
    "DROP TABLE input_questions"
   ]
  },
  {
   "cell_type": "code",
   "execution_count": null,
   "id": "7834c1aa-48b5-4d65-b34e-e3da0f6201cb",
   "metadata": {
    "tags": []
   },
   "outputs": [],
   "source": [
    "CREATE VOLATILE TABLE input_questions(\n",
    "    id BIGINT,\n",
    "    question VARCHAR(300)\n",
    "    )\n",
    "ON COMMIT PRESERVE ROWS;"
   ]
  },
  {
   "cell_type": "code",
   "execution_count": null,
   "id": "01ead02d-cc02-4353-bf27-3601a9bda880",
   "metadata": {
    "tags": []
   },
   "outputs": [],
   "source": [
    "INSERT INTO input_questions VALUES(1,'What are the most common complaints in the given data');\n",
    "INSERT INTO input_questions VALUES(2,'What is the best way to mitigate the worst complaints');"
   ]
  },
  {
   "cell_type": "markdown",
   "id": "28b9acf0-7e8d-4082-acd1-9143d0ce9b51",
   "metadata": {},
   "source": [
    "<hr>\n",
    "<p style = 'font-size:16px;font-family:Arial;color:#00233C'><b>Create the Context query</b></p>\n",
    "\n",
    "<p style = 'font-size:16px;font-family:Arial;color:#00233C'>For this demonstration, we will perform a similarity search using one of the topics from above</p>"
   ]
  },
  {
   "cell_type": "code",
   "execution_count": null,
   "id": "14fd3fb9-5e38-4d0e-b8e1-6f1752b235a5",
   "metadata": {
    "tags": []
   },
   "outputs": [],
   "source": [
    "DROP TABLE input_context"
   ]
  },
  {
   "cell_type": "code",
   "execution_count": null,
   "id": "17332b20-2021-451d-8264-8df19700fb8d",
   "metadata": {
    "tags": []
   },
   "outputs": [],
   "source": [
    "CREATE VOLATILE TABLE input_context AS (\n",
    "\n",
    "SELECT TOP 1 c.id id, c.txt complaint\n",
    "\n",
    "FROM (SELECT target_id, reference_id, distancetype, cast(distance as decimal(36,8)) as distance FROM TD_VECTORDISTANCE (\n",
    "    ON CFPB_Embeddings_Normalized AS TargetTable\n",
    "    ON (SELECT * FROM topics_embeddings_Normalized WHERE id = 1) AS ReferenceTable DIMENSION --select a single topic/question\n",
    "USING\n",
    "    TargetIDColumn('id')\n",
    "    TargetFeatureColumns('Embedding_Normalized')\n",
    "    RefIDColumn('id')\n",
    "    RefFeatureColumns('Embedding_Normalized')\n",
    "    DistanceMeasure('cosine')\n",
    "    topk(1)\n",
    ") AS dt) d\n",
    "    \n",
    "JOIN demo_ofs.CFPB_Complaints_1K c\n",
    "    ON c.id = d.target_id\n",
    "JOIN demo_ofs.topics_of_interest r\n",
    "    ON r.id = d.reference_id\n",
    "\n",
    "ORDER BY d.distance) WITH DATA;\n",
    "ON COMMIT PRESERVE ROWS;"
   ]
  },
  {
   "cell_type": "markdown",
   "id": "a7a31cc6-d83f-4d9b-a069-b47e50121b68",
   "metadata": {},
   "source": [
    "<hr>\n",
    "<p style = 'font-size:16px;font-family:Arial;color:#00233C'><b>Generate Responses</b></p>\n",
    "\n",
    "<p style = 'font-size:16px;font-family:Arial;color:#00233C'>This query will return two rows - one for each question</p>"
   ]
  },
  {
   "cell_type": "code",
   "execution_count": null,
   "id": "ea6c1e2a-562f-4c7f-98d1-853eee5b762d",
   "metadata": {
    "tags": []
   },
   "outputs": [],
   "source": [
    "SELECT * FROM AI_AskLLM( \n",
    "      ON input_questions AS InputTable partition by id\n",
    "      --ON (SELECT 'what is the subject of the provided data' question, 1 id) AS InputTable partition by id\n",
    "      --ON (SELECT 1 id, 'apples, bananas, peas, and plums' complaint) AS ContextTable partition by id\n",
    "      ON input_context AS ContextTable partition by id\n",
    "      USING   \n",
    "      TextColumn('question')\n",
    "      ContextColumn('complaint')\n",
    "      ApiType('aws')\n",
    "      REGION('us-west-2')\n",
    "      Authorization(Repositories.BedrockAuth)\n",
    "      ModelName('anthropic.claude-instant-v1')\n",
    "      Prompt('Provide an answer to the question using data as information relevant to the question. \\nQuestion: #QUESTION# \\n Data: #DATA#')\n",
    "      DATAPOSITION('#DATA#')\n",
    "      QUESTIONPOSITION('#QUESTION#')\n",
    "      isDebug('true')\n",
    "      Accumulate('[0:]')\n",
    "    ) as dt;"
   ]
  },
  {
   "cell_type": "code",
   "execution_count": null,
   "id": "1a819671-9651-40bc-82ed-8c0e394438d7",
   "metadata": {
    "tags": []
   },
   "outputs": [],
   "source": [
    "%disconnect vs_demo"
   ]
  }
 ],
 "metadata": {
  "kernelspec": {
   "display_name": "Teradata SQL",
   "language": "Teradata SQL",
   "name": "teradatasql"
  },
  "language_info": {
   "codemirror_mode": "Teradata SQL",
   "file_extension": ".tdrs",
   "mimetype": "application/vnd.teradata.resultset",
   "name": "Teradata SQL",
   "nbconvert_exporter": "",
   "pygments_lexer": "",
   "version": "16.20"
  }
 },
 "nbformat": 4,
 "nbformat_minor": 5
}
