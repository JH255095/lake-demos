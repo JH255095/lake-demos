{
 "cells": [
  {
   "cell_type": "markdown",
   "id": "careful-timing",
   "metadata": {},
   "source": [
    "<hr>\n",
    "\n",
    "## Data Loads for KMeans Clustering Demo ##\n",
    "- **demo_ofs.UK_Retail_Data**\n"
   ]
  },
  {
   "cell_type": "code",
   "execution_count": 1,
   "id": "entitled-presence",
   "metadata": {},
   "outputs": [],
   "source": [
    "# /* -------------------------------------------------------- */\n",
    "# -- Perform this as SYSDBA.\n",
    "# -- Load demo_ofs.UK_Retail_Data  data\n",
    "# /* -------------------------------------------------------- */\n",
    "\n",
    "import teradatasql, json\n",
    "\n",
    "# load vars json\n",
    "with open('../../vars.json', 'r') as f:\n",
    "    session_vars = json.load(f)\n",
    "\n",
    "name = session_vars['hierarchy']['SYSDBA']['username']\n",
    "pwd = session_vars['hierarchy']['SYSDBA']['password']\n",
    "\n",
    "bucket = session_vars['environment']['bucket']\n",
    "\n",
    "with teradatasql.connect(host = session_vars['environment']['host'], \n",
    "                     user = name, \n",
    "                     password = pwd) as con:\n",
    "    cur = con.cursor()\n",
    "    \n",
    "    try:\n",
    "        cur.execute('DROP TABLE Demo_ofs.UK_Retail_Data')\n",
    "    except Exception as e:\n",
    "        # Table already exists\n",
    "        if str(e.args).find(\"3807\") >= 1:\n",
    "            pass\n",
    "        else:\n",
    "            raise\n",
    "            \n",
    "    \n",
    "    qry = '''\n",
    "CREATE MULTISET TABLE demo_ofs.UK_Retail_Data, \n",
    "    STORAGE = TD_OFSSTORAGE\n",
    "     (\n",
    "      InvoiceNo VARCHAR(10) CHARACTER SET UNICODE NOT CASESPECIFIC,\n",
    "      StockCode VARCHAR(10) CHARACTER SET UNICODE NOT CASESPECIFIC,\n",
    "      Description VARCHAR(1024) CHARACTER SET UNICODE NOT CASESPECIFIC,\n",
    "      Quantity BIGINT,\n",
    "      InvoiceDate TIMESTAMP(6),\n",
    "      UnitPrice FLOAT,\n",
    "      CustomerID FLOAT,\n",
    "      Country VARCHAR(1024) CHARACTER SET UNICODE NOT CASESPECIFIC);\n",
    "    '''\n",
    "    cur.execute(qry)\n",
    "    \n",
    "    qry = f'''\n",
    "    Insert into demo_ofs.UK_Retail_Data \n",
    "    SELECT InvoiceNo, StockCode, Description, Quantity, InvoiceDate, UnitPrice, CustomerID, Country\n",
    "    FROM\n",
    "            (\n",
    "                LOCATION = '/s3/{bucket}.s3.amazonaws.com/DEMO_OFS/UK_RETAIL_DATA/manifest.json'\n",
    "                MANIFEST = 'TRUE'\n",
    "                AUTHORIZATION = Repositories.PubAuth\n",
    "            ) D;'''\n",
    "    \n",
    "    cur.execute(qry)"
   ]
  },
  {
   "cell_type": "code",
   "execution_count": null,
   "id": "outstanding-polish",
   "metadata": {},
   "outputs": [],
   "source": []
  }
 ],
 "metadata": {
  "kernelspec": {
   "display_name": "Python 3 (ipykernel)",
   "language": "python",
   "name": "python3"
  },
  "language_info": {
   "codemirror_mode": {
    "name": "ipython",
    "version": 3
   },
   "file_extension": ".py",
   "mimetype": "text/x-python",
   "name": "python",
   "nbconvert_exporter": "python",
   "pygments_lexer": "ipython3",
   "version": "3.8.8"
  }
 },
 "nbformat": 4,
 "nbformat_minor": 5
}
