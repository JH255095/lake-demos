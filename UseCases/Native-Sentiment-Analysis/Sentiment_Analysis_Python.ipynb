{
 "cells": [
  {
   "cell_type": "markdown",
   "id": "refined-terminal",
   "metadata": {},
   "source": [
    "<header>\n",
    "   <p  style='font-size:36px;font-family:Arial; color:#F0F0F0; background-color: #00233c; padding-left: 20pt; padding-top: 20pt;padding-bottom: 10pt; padding-right: 20pt;'>\n",
    "       Analyzing Customer Sentiment using ClearScape Analytics\n",
    "  <br>\n",
    "       <img id=\"teradata-logo\" src=\"../../images/TeradataLogo.png\" alt=\"Teradata\" style=\"width: 125px; height: auto; margin-top: 20pt;\">\n",
    "    </p>\n",
    "</header>\n",
    "<hr>"
   ]
  },
  {
   "cell_type": "markdown",
   "id": "small-green",
   "metadata": {},
   "source": [
    "<br>\n",
    "\n",
    "<b style = 'font-size:24px;font-family:Arial;color:#00233C'>Utilize native Vantage capabilities for Text Analytics and performance at extreme scale</b>\n",
    "\n",
    "<p style = 'font-size:16px;font-family:Arial;color:#00233C'>Sentiment Analysis is defined as the process of computationally identifying and categorizing opinions expressed in a piece of text, especially in order to determine whether the writer's attitude towards a particular topic, product, etc. is positive, negative, or neutral.</p>\n",
    "\n",
    "<p style = 'font-size:16px;font-family:Arial;color:#00233C'>Many sentiment analysis tools exist, but most of them cannot perform flexibly enough and at a scale that allows the ability to deploy these insights to <b>all</b> types of use cases including real-time, high concurrency, or extreme volume</p> \n",
    "\n",
    "<p style = 'font-size:16px;font-family:Arial;color:#00233C'>Teradata Vantage native Natural Langyage Analysis functions, combined with whole-data set statistical analysis; can provide deep insights into natural language intent, patterns, and author sentiment at extreme scale, speed, and concurrency.</p> \n",
    "<hr>"
   ]
  },
  {
   "cell_type": "markdown",
   "id": "varying-edwards",
   "metadata": {},
   "source": [
    "<b style = 'font-size:24px;font-family:Arial;color:#00233C'>Live Demonstration</b>\n",
    "\n",
    "<p style = 'font-size:16px;font-family:Arial;color:#00233C'>The following demonstration will illustrate how simple it is to utilize these native functions to understand customer sentiment, and measure the accuracy of machine-generated predictions.</p>\n",
    "\n",
    "<p style = 'font-size:16px;font-family:Arial;color:#00233C'>Additionally, since Vantage supports client tools and applications ranging from the most modern programmatic APIs such as Python, REST, and R; to traditional dashboards, BI tools, and analytics via SQL, a virtually unlimited number and types of users and applications can consume the results of this deep analysis; effectively democratizing specialized analytics to the widest possible audience.</p>\n",
    "\n",
    "<p style = 'font-size:16px;font-family:Arial;color:#00233C'>The data for this demonstration consists of Amazon Fine Foods Reviews, which can be found <a href = 'https://www.kaggle.com/datasets/snap/amazon-fine-food-reviews'>here</a>.  The Demonstration below consists of three steps:</p>\n",
    "\n",
    "<ol style = 'font-size:16px;font-family:Arial;color:#00233C'>\n",
    "    <li>Analyze the raw data set, including customer rating values</li>\n",
    "    <li>Execute native Sentiment Analysis function and inspect the output</li>\n",
    "    <li>Analyze the results and compare to the author rating</li>\n",
    "    </ol>\n",
    "    \n",
    "<img src = 'Flow_Diagram_Sentiment.png' width = 800>"
   ]
  },
  {
   "cell_type": "markdown",
   "id": "official-respect",
   "metadata": {},
   "source": [
    "<hr>\n",
    "<p style = 'font-size:20px;font-family:Arial;color:#00233C'><b>Step 1 - Analyze the original data set</b></p>\n",
    "\n",
    "<p style = 'font-size:16px;font-family:Arial;color:#00233C'>Here, we will inspect the original data set, and perform some analysis on customer-provided ratings values.</p>\n",
    "\n",
    "<ol style = 'font-size:16px;font-family:Arial;color:#00233C'>\n",
    "    <li>Inspect the rows of the table</li>\n",
    "    <li>Analyze the distribution of ratings</li>\n",
    "    <li>Visualize the results</li>\n",
    "    </ol>\n",
    "    \n",
    "<hr>\n",
    "<p style = 'font-size:18px;font-family:Arial;color:#00233C'><b>Imports and Connection</b></p>\n",
    "\n",
    "<p style = 'font-size:16px;font-family:Arial;color:#00233C'>Import required packages and create a connection context to Vantage.</p>"
   ]
  },
  {
   "cell_type": "code",
   "execution_count": null,
   "id": "instrumental-drove",
   "metadata": {},
   "outputs": [],
   "source": [
    "import warnings\n",
    "warnings.filterwarnings('ignore')\n",
    "\n",
    "import json\n",
    "from teradataml import *\n",
    "display.suppress_vantage_runtime_warnings = True\n",
    "\n",
    "from IPython.display import display as ipydisplay\n",
    "\n",
    "from sklearn.metrics import confusion_matrix, ConfusionMatrixDisplay\n",
    "import matplotlib.pyplot as plt\n",
    "%matplotlib inline"
   ]
  },
  {
   "cell_type": "code",
   "execution_count": null,
   "id": "fitting-object",
   "metadata": {},
   "outputs": [],
   "source": [
    "# load vars json\n",
    "with open('../../vars.json', 'r') as f:\n",
    "    session_vars = json.load(f)\n",
    "\n",
    "# Create the SQLAlchemy Context\n",
    "host = session_vars['environment']['host']\n",
    "username = session_vars['hierarchy']['users']['business_users'][1]['username']\n",
    "password = session_vars['hierarchy']['users']['business_users'][1]['password']\n",
    "\n",
    "eng = create_context(host=host, username=username, password=password)\n",
    "\n",
    "eng.execute(f'''SET SESSION COMPUTE GROUP {session_vars['hierarchy']['users']['business_users'][1]['compute_group']}''')\n",
    "\n",
    "# confirm connection\n",
    "print(eng)"
   ]
  },
  {
   "cell_type": "markdown",
   "id": "average-grain",
   "metadata": {},
   "source": [
    "<hr>\n",
    "<p style = 'font-size:18px;font-family:Arial;color:#00233C'><b>1.1 - Inspect the Data</b></p>\n",
    "\n",
    "<p style = 'font-size:16px;font-family:Arial;color:#00233C'>Create a \"Virtual Dataframe\" which is a remote representation of the data set.  This allows us to operate on the data at remove/at scale using common pandas and python syntax.</p>"
   ]
  },
  {
   "cell_type": "code",
   "execution_count": null,
   "id": "unknown-arthur",
   "metadata": {},
   "outputs": [],
   "source": [
    "tdf_reviews = DataFrame('\"demo_ofs\".\"Amazon_Fine_Foods_Reviews\"')"
   ]
  },
  {
   "cell_type": "code",
   "execution_count": null,
   "id": "super-topic",
   "metadata": {},
   "outputs": [],
   "source": [
    "ipydisplay(tdf_reviews.shape)\n",
    "ipydisplay(tdf_reviews.sample(2))"
   ]
  },
  {
   "cell_type": "markdown",
   "id": "metallic-custom",
   "metadata": {},
   "source": [
    "<hr>\n",
    "<p style = 'font-size:18px;font-family:Arial;color:#00233C'><b>1.2 Analyze the distribution of author ratings</b></p>\n",
    "\n",
    "<p style = 'font-size:16px;font-family:Arial;color:#00233C'>Create a simple aggregation query to calculate distribution</p>"
   ]
  },
  {
   "cell_type": "code",
   "execution_count": null,
   "id": "useful-authentication",
   "metadata": {},
   "outputs": [],
   "source": [
    "df = tdf_reviews.groupby('rating').count().to_pandas()\n",
    "ipydisplay(df)\n",
    "df.set_index('rating', drop = True)[['count_review']].sort_index().plot(kind = 'bar');"
   ]
  },
  {
   "cell_type": "markdown",
   "id": "swiss-tumor",
   "metadata": {},
   "source": [
    "<hr>\n",
    "\n",
    "<p style = 'font-size:20px;font-family:Arial;color:#00233C'><b>Step 2- Use Sentiment Extractor to calculate the sentiment score</b></p>\n",
    "\n",
    "<p style = 'font-size:16px;font-family:Arial;color:#00233C'>Steps are as follow:</p>\n",
    "<ol style = 'font-size:16px;font-family:Arial;color:#00233C'>\n",
    "    <li>Call the SentimentExtractor function on reviews data</li>\n",
    "    <li>Inspect the Results</li>\n",
    "    <li>Create a new table that can be used for analysis later</li>\n",
    "    </ol>\n",
    "\n",
    "<p style = 'font-size:16px;font-family:Arial;color:#00233C'>The SentimentExtractor function uses a dictionary model to extract the sentiment (positive, negative, or neutral) of each input document or sentence.</p>\n",
    "\n",
    "<p style = 'font-size:16px;font-family:Arial;color:#00233C'>The function handles negated sentiments as follows:</p>\n",
    "\n",
    "<ul style = 'font-size:16px;font-family:Arial;color:#00233C'>\n",
    "    <li>-1 if the sentiment is negated (for example, \"I am not happy\")</li>\n",
    "    <li>-1 if the sentiment and a negation word are separated by one word (for example, \"I am not very happy\")</li>\n",
    "    <li>+1 if the sentiment and a negation word are separated by two or more words (for example, \"I am not saying I am happy\")</li>\n",
    "    </ul>\n",
    "<hr>   "
   ]
  },
  {
   "cell_type": "code",
   "execution_count": null,
   "id": "comfortable-diamond",
   "metadata": {},
   "outputs": [],
   "source": [
    "sentiment_res = SentimentExtractor(data = tdf_reviews, text_column = 'review', accumulate = ['review', 'rating'])"
   ]
  },
  {
   "cell_type": "markdown",
   "id": "conditional-unknown",
   "metadata": {},
   "source": [
    "<hr>\n",
    "<p style = 'font-size:18px;font-family:Arial;color:#00233C'><b>2.1 SentimentExtractor Output</b></p>\n",
    "\n",
    "<p style = 'font-size:16px;font-family:Arial;color:#00233C'>The function returns an object containing a new dataframe with new columns (in addition to the columns declared in the Accumulate parameter):</p>\n",
    "\n",
    "<ul style = 'font-size:16px;font-family:Arial;color:#00233C'>\n",
    "    <li><b>content</b>  The column contains the sentence extracted from the document. The column displays if you use Sentence as the AnalysisType.</li>\n",
    "    <li><b>polarity</b>  The sentiment value of the result. Possible values are POS (positive), NEG (negative), or NEU (neutral)</li>\n",
    "    <li><b>sentiment_score</b>  The sentiment score of polarity. Possible values are 0 (neutral), 1 (higher than neutral), or 2 (higher than 1)</li>\n",
    "    <li><b>sentiment_words</b>  The string that contains a total positive score, total negative score, and sentiment words with their polarity_strength and frequency enclosed in parenthesis.</li>\n",
    "    </ul>"
   ]
  },
  {
   "cell_type": "code",
   "execution_count": null,
   "id": "affiliated-silence",
   "metadata": {},
   "outputs": [],
   "source": [
    "sentiment_res.result"
   ]
  },
  {
   "cell_type": "markdown",
   "id": "sublime-cisco",
   "metadata": {},
   "source": [
    "<hr>\n",
    "<p style = 'font-size:20px;font-family:Arial;color:#00233C'><b>Step 3 - Analyze the results and compare to author rating</b></p>\n",
    "\n",
    "<p style = 'font-size:16px;font-family:Arial;color:#00233C'>Additional analytic and data processing functions can be used to provide deeper insights into model accuracy, or inform better tuning of the analytic process.  What follows are some examples:</p>\n",
    "\n",
    "<ol style = 'font-size:16px;font-family:Arial;color:#00233C'>\n",
    "    <li>Create a sentiment polarity out of the author ratings</li>\n",
    "    <li>Use Vantage Functions to analyze the classification accuracy of our model</li>\n",
    "    <li>Create a ratings value out of sentiment score and polarity</li>\n",
    "    <li>Calculate the distributions of ratings values and visualize results</li>\n",
    " </ol>\n",
    "\n",
    "<hr>\n",
    "<p style = 'font-size:18px;font-family:Arial;color:#00233C'><b>3.1 Create a categorical representation of author ratings.</b></p>\n",
    "<p style = 'font-size:16px;font-family:Arial;color:#00233C'>For purposes of comparison, assume the ratings values can be categorized into Negative, Neutral, and Positive categories to match the output of the Sentiment Analysis function.</p>\n",
    "\n",
    "<p style = 'font-size:16px;font-family:Arial;color:#00233C'>Here, we will use the <b>BinCode</b> ClearScape Analytics Function, which provides the ability to create custom-width, and custom-labeled categorical labels from a column of numeric values.  This function takes the following arguments:</p>\n",
    "<ul style = 'font-size:16px;font-family:Arial;color:#00233C'>\n",
    "    <li><b>data</b>. The teradataml DataFrame that points to the data to be bin-coded.</li>\n",
    "    <li><b>target_columns</b>.  The column or columns to apply the bin-coding</li>\n",
    "    <li><b>method_type</b>.  Variable or fixed-width.  \"Variable\" then takes a set of custom bin directives:</li>\n",
    "    <li><b>fit_data</b>.  A \"fit\" table reference can be passed that contains specific directives for custom binning.  This fit table contains the target column(s) to apply the binning, min and max bin values, and a target label for the resulting bin.  Additional arguments address the binning, such as min value column, max value column, label column, etc.</li>\n",
    "</ul>"
   ]
  },
  {
   "cell_type": "code",
   "execution_count": null,
   "id": "catholic-birmingham",
   "metadata": {},
   "outputs": [],
   "source": [
    "bincode_fit = BincodeFit(data = sentiment_res.result, \n",
    "                 target_columns = 'rating',\n",
    "                 method_type = 'Variable-Width',\n",
    "                 fit_data = DataFrame('\"demo\".\"bin_table\"'),\n",
    "                 target_colnames = 'ColumnName',\n",
    "                 minvalue_column = 'MinValue',\n",
    "                 maxvalue_column = 'MaxValue',\n",
    "                 label_column = 'Label')\n",
    "\n",
    "tdf_transformed = BincodeTransform(data = sentiment_res.result, \n",
    "                                   object = bincode_fit.output, \n",
    "                                   accumulate = ['sentiment_score','polarity'])\n",
    "tdf_transformed.result"
   ]
  },
  {
   "cell_type": "markdown",
   "id": "signed-schema",
   "metadata": {},
   "source": [
    "<p style = 'font-size:18px;font-family:Arial;color:#00233C'><b>3.2 Using ClassificationEvaluator to check accuracy</b></p>\n",
    "\n",
    "<p style = 'font-size:16px;font-family:Arial;color:#00233C'>In classification problems, a confusion matrix is used to visualize the performance of a classifier. The confusion matrix contains predicted labels represented across the row-axis and actual labels represented across the column-axis. Each cell in the confusion matrix corresponds to the count of occurrences of labels in the test data.  See the <a href = 'https://docs.teradata.com/r/Teradata-VantageTM-Analytics-Database-Analytic-Functions-17.20/Advanced-SQL-Engine-Analytic-Functions/TD_ClassificationEvaluator'>documentation</a> for more details.</p>\n",
    "\n",
    "<p style = 'font-size:16px;font-family:Arial;color:#00233C'>This function takes an input table (in this case, the dataframe we created above) and function parameters including the columns that ate to be compared.</p>"
   ]
  },
  {
   "cell_type": "code",
   "execution_count": null,
   "id": "global-declaration",
   "metadata": {},
   "outputs": [],
   "source": [
    "class_eval = ClassificationEvaluator(data = tdf_transformed.result, \n",
    "                                     observation_column = 'rating', \n",
    "                                     prediction_column = 'polarity',\n",
    "                                     labels = ['NEG','NEU','POS'])"
   ]
  },
  {
   "cell_type": "code",
   "execution_count": null,
   "id": "tight-candy",
   "metadata": {},
   "outputs": [],
   "source": [
    "ipydisplay(class_eval.result)\n",
    "ipydisplay(class_eval.output_data)"
   ]
  },
  {
   "cell_type": "markdown",
   "id": "impaired-circuit",
   "metadata": {},
   "source": [
    "<hr>\n",
    "<p style = 'font-size:18px;font-family:Arial;color:#00233C'><b>3.3 Visualize the results</b></p>\n",
    "\n",
    "<p style = 'font-size:16px;font-family:Arial;color:#00233C'>Use open-source tools to create a heatmap.</p>"
   ]
  },
  {
   "cell_type": "code",
   "execution_count": null,
   "id": "german-marks",
   "metadata": {},
   "outputs": [],
   "source": [
    "df_pred = tdf_transformed.result.to_pandas(all_rows = True)\n",
    "cm = confusion_matrix(df_pred['rating'], df_pred['polarity'])\n",
    "disp = ConfusionMatrixDisplay(confusion_matrix = cm, display_labels = ['NEG', 'NEU', 'POS'])\n",
    "fig, ax = plt.subplots(figsize=(10,10))\n",
    "disp.plot(ax=ax)\n",
    "\n",
    "plt.show()"
   ]
  },
  {
   "cell_type": "code",
   "execution_count": null,
   "id": "everyday-genre",
   "metadata": {},
   "outputs": [],
   "source": [
    "remove_context()"
   ]
  },
  {
   "cell_type": "code",
   "execution_count": null,
   "id": "rubber-entrance",
   "metadata": {},
   "outputs": [],
   "source": []
  }
 ],
 "metadata": {
  "kernelspec": {
   "display_name": "Python 3 (ipykernel)",
   "language": "python",
   "name": "python3"
  },
  "language_info": {
   "codemirror_mode": {
    "name": "ipython",
    "version": 3
   },
   "file_extension": ".py",
   "mimetype": "text/x-python",
   "name": "python",
   "nbconvert_exporter": "python",
   "pygments_lexer": "ipython3",
   "version": "3.8.8"
  }
 },
 "nbformat": 4,
 "nbformat_minor": 5
}
