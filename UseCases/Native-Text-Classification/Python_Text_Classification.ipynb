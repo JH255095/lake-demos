{
 "cells": [
  {
   "cell_type": "markdown",
   "id": "fiscal-thesis",
   "metadata": {},
   "source": [
    "<header style=\"padding:10px;background:#f9f9f9;border-top:3px solid #00b2b1\"><img id=\"Teradata-logo\" src=\"https://www.teradata.com/Teradata/Images/Rebrand/Teradata_logo-two_color.png\" alt=\"Teradata\" width=\"220\" align=\"right\" />\n",
    "\n",
    "<p style = 'font-size:28px;font-family:Arial;color:#E37C4D'><b>Classification Using ClearScape Analytics Text Preparation and Naive Bayes Classification Functions</b></p>\n",
    "</header>\n",
    "<hr>"
   ]
  },
  {
   "cell_type": "markdown",
   "id": "quality-pottery",
   "metadata": {},
   "source": [
    "<br>\n",
    "\n",
    "<b style = 'font-size:24px;font-family:Arial;color:#E37C4D'>Utilize Native ClearScape Analytics functions for Text Processing and Analytics for performance at extreme scale</b>\n",
    "\n",
    "<p style = 'font-size:16px;font-family:Arial'>Naive Bayes Classifiers are a collection of classification algorithms based on Bayes' Theorem. It is not a single algorithm but a family of algorithms where all of them share a common principle, i.e. every pair of features being classified is independent of each other.</p>\n",
    "\n",
    "<p style = 'font-size:16px;font-family:Arial'>For text classifcation, a very simple way to understand how this type of classification works is that the algorithm can calculate the probability of appearance of a word or a sequence of words of length n (also known as n-gram) within the words of a text or the words of a category.  Prior to classification, text needs to be processed into these grams (or \"tokens\").</p>\n",
    "\n",
    "<p style = 'font-size:16px;font-family:Arial'>Many text processing and classification tools exist across a variety of programming languages, but only Vantage provides the capability to perfom these tasks with the degree of performance and scale required by the modern enterprise.  Furthermore, text preparation and analytics <b>pipelines</b> can be built that can automate the usage of these powerful algorithms seamlessly to the business.</p> \n",
    "\n",
    "<hr>"
   ]
  },
  {
   "cell_type": "markdown",
   "id": "rotary-ecology",
   "metadata": {},
   "source": [
    "<b style = 'font-size:24px;font-family:Arial;color:#E37C4D'>Live Demonstration</b>\n",
    "\n",
    "<p style = 'font-size:16px;font-family:Arial'>The data for this demonstration consists of Amazon Fine Foods Reviews, which can be found <a href = 'https://www.kaggle.com/datasets/snap/amazon-fine-food-reviews'>here</a>.  The Demonstration below consists of the following steps:</p>\n",
    "\n",
    "<ol style = 'font-size:16px;font-family:Arial'>\n",
    "    <li>Data Preparation; including ratings categorization and tokenization</li>\n",
    "    <li>Model Training; create a Naive Bayes Text Classification Model using Training data</li>\n",
    "    <li>Scoring and Evaluation; make a prediction using test data, and evaluate the result</li>\n",
    "    </ol>\n",
    "    \n",
    "<img src = 'Flow_Diagram_TextClassifier.png' width = 100%>"
   ]
  },
  {
   "cell_type": "markdown",
   "id": "suitable-teacher",
   "metadata": {},
   "source": [
    "<hr>\n",
    "<p style = 'font-size:20px;font-family:Arial;color:#E37C4D'><b>Step 1 - Data Preparation</b></p>\n",
    "\n",
    "<p style = 'font-size:16px;font-family:Arial'>Here, we will inspect the original data set, and perform various preparation tasks.</p>\n",
    "\n",
    "\n",
    "<ol style = 'font-size:16px;font-family:Arial'>\n",
    "    <li>Inspect the rows of the table</li>\n",
    "    <li>Transform the numeric rating to a categorical value using <a href = 'https://docs.teradata.com/r/Teradata-VantageTM-Analytics-Database-Analytic-Functions-17.20/Data-Cleaning-Functions/Parsing-Data/TD_ConvertTo'>ConvertTo</a>, then verify the new column types using <a href = 'https://docs.teradata.com/r/Teradata-VantageTM-Analytics-Database-Analytic-Functions-17.20/Data-Exploration-Functions/TD_ColumnSummary'>ColumnSummary</a></li>\n",
    "    <li>Split the data into training and testing data sets</li>\n",
    "    <li>Tokenize the data using <a href = 'https://docs.teradata.com/r/Teradata-VantageTM-Analytics-Database-Analytic-Functions-17.20/Text-Analytic-Functions/TD_TextParser'>TextParser</a></li>\n",
    "    </ol>\n",
    "    "
   ]
  },
  {
   "cell_type": "markdown",
   "id": "spatial-nothing",
   "metadata": {},
   "source": [
    "<hr>\n",
    "<p style = 'font-size:18px;font-family:Arial;color:#E37C4D'>Imports and Connection</p>\n",
    "\n",
    "<p style = 'font-size:16px;font-family:Arial'>Import required packages and create a connection context to Vantage.</p>"
   ]
  },
  {
   "cell_type": "code",
   "execution_count": 1,
   "id": "owned-rider",
   "metadata": {},
   "outputs": [],
   "source": [
    "import warnings\n",
    "warnings.filterwarnings('ignore')\n",
    "warnings.simplefilter = lambda *args, **kwargs: \"\"\n",
    "\n",
    "import json\n",
    "from teradataml import *\n",
    "\n",
    "\n",
    "from IPython.display import display as ipydisplay\n",
    "\n",
    "from sklearn.metrics import confusion_matrix, ConfusionMatrixDisplay\n",
    "import matplotlib.pyplot as plt\n",
    "%matplotlib inline"
   ]
  },
  {
   "cell_type": "code",
   "execution_count": null,
   "id": "ranging-kenya",
   "metadata": {},
   "outputs": [],
   "source": [
    "# load vars json\n",
    "with open('../../vars.json', 'r') as f:\n",
    "    session_vars = json.load(f)\n",
    "\n",
    "# Create the SQLAlchemy Context\n",
    "host = session_vars['environment']['host']\n",
    "username = session_vars['hierarchy']['users']['business_users'][1]['username']\n",
    "password = session_vars['hierarchy']['users']['business_users'][1]['password']\n",
    "\n",
    "eng = create_context(host=host, username=username, password=password)\n",
    "\n",
    "eng.execute(f'''SET SESSION COMPUTE GROUP {session_vars['hierarchy']['users']['business_users'][1]['compute_group']}''')\n",
    "\n",
    "# confirm connection\n",
    "print(eng)"
   ]
  },
  {
   "cell_type": "markdown",
   "id": "seven-austin",
   "metadata": {},
   "source": [
    "<hr>\n",
    "<p style = 'font-size:18px;font-family:Arial;color:#E37C4D'>1.1 - Inspect the Data</p>\n",
    "\n",
    "<p style = 'font-size:16px;font-family:Arial'>Create a \"Virtual Dataframe\" which is a remote representation of the data set.  This allows us to operate on the data at remove/at scale using common pandas and python syntax.  <b>ColumnSummary</b> is a powerful in-built function for describing whole-data-set statistical information.</p>"
   ]
  },
  {
   "cell_type": "code",
   "execution_count": 3,
   "id": "ideal-knowing",
   "metadata": {},
   "outputs": [],
   "source": [
    "tdf_reviews = DataFrame('\"demo_ofs\".\"Amazon_Fine_Foods_Reviews\"')"
   ]
  },
  {
   "cell_type": "code",
   "execution_count": 4,
   "id": "documentary-behalf",
   "metadata": {},
   "outputs": [
    {
     "data": {
      "text/plain": [
       "(568453, 3)"
      ]
     },
     "metadata": {},
     "output_type": "display_data"
    },
    {
     "data": {
      "text/html": [
       "<style type=\"text/css\">\n",
       "\ttable {border:ridge 5px;}\n",
       "\ttable td {border:inset 1px;}\n",
       "\ttable tr#HeaderRow {background-color:grey; color:white;}</style>\n",
       "<html><table>\n",
       "\t<tr id=\"HeaderRow\">\n",
       "\t\t<th>doc_id</th>\n",
       "\t\t<th>rating</th>\n",
       "\t\t<th>review</th>\n",
       "\t</tr>\n",
       "\t<tr>\n",
       "\t\t<td>4</td>\n",
       "\t\t<td>2</td>\n",
       "\t\t<td>If you are looking for the secret ingredient in Robitussin I believe I have found it.  I got this in addition to the Root Beer Extract I ordered (which was good) and made some cherry soda.  The flavor is very medicinal.</td>\n",
       "\t</tr>\n",
       "\t<tr>\n",
       "\t\t<td>6</td>\n",
       "\t\t<td>4</td>\n",
       "\t\t<td>I got a wild hair for taffy and ordered this five pound bag. The taffy was all very enjoyable with many flavors: watermelon, root beer, melon, peppermint, grape, etc. My only complaint is there was a bit too much red/black licorice-flavored pieces (just not my particular favorites). Between me, my kids, and my husband, this lasted only two weeks! I would recommend this brand of taffy -- it was a delightful treat.</td>\n",
       "\t</tr>\n",
       "\t<tr>\n",
       "\t\t<td>5</td>\n",
       "\t\t<td>5</td>\n",
       "\t\t<td>Great taffy at a great price.  There was a wide assortment of yummy taffy.  Delivery was very quick.  If your a taffy lover, this is a deal.</td>\n",
       "\t</tr>\n",
       "\t<tr>\n",
       "\t\t<td>3</td>\n",
       "\t\t<td>4</td>\n",
       "\t\t<td>This is a confection that has been around a few centuries.  It is a light, pillowy citrus gelatin with nuts - in this case Filberts. And it is cut into tiny squares and then liberally coated with powdered sugar.  And it is a tiny mouthful of heaven.  Not too chewy, and very flavorful.  I highly recommend this yummy treat.  If you are familiar with the story of C.S. Lewis' \"The Lion, The Witch, and The Wardrobe\" - this is the treat that seduces Edmund into selling out his Brother and Sisters to the Witch.</td>\n",
       "\t</tr>\n",
       "\t<tr>\n",
       "\t\t<td>2</td>\n",
       "\t\t<td>1</td>\n",
       "\t\t<td>Product arrived labeled as Jumbo Salted Peanuts...the peanuts were actually small sized unsalted. Not sure if this was an error or if the vendor intended to represent the product as \"Jumbo\".</td>\n",
       "\t</tr>\n",
       "</table></html>"
      ],
      "text/plain": [
       "   doc_id  rating                                                                                                                                                                                                                                                                                                                                                                                                                                                                                                                         review\n",
       "0       4       2                                                                                                                                                                                                                                                                                                    If you are looking for the secret ingredient in Robitussin I believe I have found it.  I got this in addition to the Root Beer Extract I ordered (which was good) and made some cherry soda.  The flavor is very medicinal.\n",
       "1       6       4                                                                                               I got a wild hair for taffy and ordered this five pound bag. The taffy was all very enjoyable with many flavors: watermelon, root beer, melon, peppermint, grape, etc. My only complaint is there was a bit too much red/black licorice-flavored pieces (just not my particular favorites). Between me, my kids, and my husband, this lasted only two weeks! I would recommend this brand of taffy -- it was a delightful treat.\n",
       "2       5       5                                                                                                                                                                                                                                                                                                                                                                                   Great taffy at a great price.  There was a wide assortment of yummy taffy.  Delivery was very quick.  If your a taffy lover, this is a deal.\n",
       "3       3       4  This is a confection that has been around a few centuries.  It is a light, pillowy citrus gelatin with nuts - in this case Filberts. And it is cut into tiny squares and then liberally coated with powdered sugar.  And it is a tiny mouthful of heaven.  Not too chewy, and very flavorful.  I highly recommend this yummy treat.  If you are familiar with the story of C.S. Lewis' \"The Lion, The Witch, and The Wardrobe\" - this is the treat that seduces Edmund into selling out his Brother and Sisters to the Witch.\n",
       "4       2       1                                                                                                                                                                                                                                                                                                                                 Product arrived labeled as Jumbo Salted Peanuts...the peanuts were actually small sized unsalted. Not sure if this was an error or if the vendor intended to represent the product as \"Jumbo\"."
      ]
     },
     "metadata": {},
     "output_type": "display_data"
    }
   ],
   "source": [
    "ipydisplay(tdf_reviews.shape)\n",
    "ipydisplay(tdf_reviews.head(5))"
   ]
  },
  {
   "cell_type": "code",
   "execution_count": 5,
   "id": "demonstrated-airline",
   "metadata": {},
   "outputs": [
    {
     "data": {
      "text/html": [
       "<style type=\"text/css\">\n",
       "\ttable {border:ridge 5px;}\n",
       "\ttable td {border:inset 1px;}\n",
       "\ttable tr#HeaderRow {background-color:grey; color:white;}</style>\n",
       "<html><table>\n",
       "\t<tr id=\"HeaderRow\">\n",
       "\t\t<th>ColumnName</th>\n",
       "\t\t<th>Datatype</th>\n",
       "\t\t<th>NonNullCount</th>\n",
       "\t\t<th>NullCount</th>\n",
       "\t\t<th>BlankCount</th>\n",
       "\t\t<th>ZeroCount</th>\n",
       "\t\t<th>PositiveCount</th>\n",
       "\t\t<th>NegativeCount</th>\n",
       "\t\t<th>NullPercentage</th>\n",
       "\t\t<th>NonNullPercentage</th>\n",
       "\t</tr>\n",
       "\t<tr>\n",
       "\t\t<td>review</td>\n",
       "\t\t<td>VARCHAR(21500) CHARACTER SET LATIN</td>\n",
       "\t\t<td>568453</td>\n",
       "\t\t<td>0</td>\n",
       "\t\t<td>0</td>\n",
       "\t\t<td>None</td>\n",
       "\t\t<td>None</td>\n",
       "\t\t<td>None</td>\n",
       "\t\t<td>0.0</td>\n",
       "\t\t<td>100.0</td>\n",
       "\t</tr>\n",
       "\t<tr>\n",
       "\t\t<td>rating</td>\n",
       "\t\t<td>INTEGER</td>\n",
       "\t\t<td>568453</td>\n",
       "\t\t<td>0</td>\n",
       "\t\t<td>None</td>\n",
       "\t\t<td>0</td>\n",
       "\t\t<td>568453</td>\n",
       "\t\t<td>0</td>\n",
       "\t\t<td>0.0</td>\n",
       "\t\t<td>100.0</td>\n",
       "\t</tr>\n",
       "\t<tr>\n",
       "\t\t<td>doc_id</td>\n",
       "\t\t<td>INTEGER</td>\n",
       "\t\t<td>568453</td>\n",
       "\t\t<td>0</td>\n",
       "\t\t<td>None</td>\n",
       "\t\t<td>0</td>\n",
       "\t\t<td>568453</td>\n",
       "\t\t<td>0</td>\n",
       "\t\t<td>0.0</td>\n",
       "\t\t<td>100.0</td>\n",
       "\t</tr>\n",
       "</table></html>"
      ],
      "text/plain": [
       "  ColumnName                            Datatype  NonNullCount  NullCount  BlankCount  ZeroCount  PositiveCount  NegativeCount  NullPercentage  NonNullPercentage\n",
       "0     review  VARCHAR(21500) CHARACTER SET LATIN        568453          0         0.0        NaN            NaN            NaN             0.0              100.0\n",
       "1     rating                             INTEGER        568453          0         NaN        0.0       568453.0            0.0             0.0              100.0\n",
       "2     doc_id                             INTEGER        568453          0         NaN        0.0       568453.0            0.0             0.0              100.0"
      ]
     },
     "execution_count": 5,
     "metadata": {},
     "output_type": "execute_result"
    }
   ],
   "source": [
    "from teradataml import ColumnSummary\n",
    "\n",
    "res = ColumnSummary(data = tdf_reviews, target_columns = ['doc_id', 'rating', 'review'])\n",
    "res.result"
   ]
  },
  {
   "cell_type": "markdown",
   "id": "taken-plastic",
   "metadata": {},
   "source": [
    "<hr>\n",
    "<p style = 'font-size:18px;font-family:Arial;color:#E37C4D'>1.2 Transform a numeric column to categorical</p>\n",
    "\n",
    "<p style = 'font-size:16px;font-family:Arial'>Use <b>ConvertTo</b> to transform the \"rating\" column from INTEGER to VARCHAR data type.  Note ConvertTo can accept multiple columns, column ranges as TargetColumns and TargetDataType.  Next, check column dtypes and database datatype.</p>"
   ]
  },
  {
   "cell_type": "code",
   "execution_count": 6,
   "id": "unable-candidate",
   "metadata": {},
   "outputs": [],
   "source": [
    "from teradataml import ConvertTo\n",
    "\n",
    "res = ConvertTo(data = tdf_reviews, \n",
    "                target_columns = 'rating', \n",
    "                target_datatype = 'VARCHAR(charlen=11,charset=UNICODE,casespecific=NO)')\n"
   ]
  },
  {
   "cell_type": "code",
   "execution_count": 7,
   "id": "demanding-norway",
   "metadata": {},
   "outputs": [
    {
     "data": {
      "text/html": [
       "<style type=\"text/css\">\n",
       "                                table {border:ridge 5px;}\n",
       "                                table td {border:inset 1px;}\n",
       "                                table tr#HeaderRow {background-color:grey; color:white;}\n",
       "                               </style>\n",
       "                               <html>\n",
       "                                  <table>\n",
       "                                    <tr id=\"HeaderRow\">\n",
       "                                        <th>COLUMN NAME</th>\n",
       "                                        <th>TYPE</th>\n",
       "                                    </tr>\n",
       "                                    <tr><td>doc_id</td><td>int</td></tr>\n",
       "<tr><td>rating</td><td>str</td></tr>\n",
       "<tr><td>review</td><td>str</td></tr>\n",
       "                                  </table>\n",
       "                               </html>\n",
       "                            "
      ],
      "text/plain": [
       "doc_id    int\n",
       "rating    str\n",
       "review    str"
      ]
     },
     "metadata": {},
     "output_type": "display_data"
    },
    {
     "data": {
      "text/html": [
       "<style type=\"text/css\">\n",
       "                                table {border:ridge 5px;}\n",
       "                                table td {border:inset 1px;}\n",
       "                                table tr#HeaderRow {background-color:grey; color:white;}\n",
       "                               </style>\n",
       "                               <html>\n",
       "                                  <table>\n",
       "                                    <tr id=\"HeaderRow\">\n",
       "                                        <th>COLUMN NAME</th>\n",
       "                                        <th>TYPE</th>\n",
       "                                    </tr>\n",
       "                                    <tr><td>doc_id</td><td>INTEGER()</td></tr>\n",
       "<tr><td>rating</td><td>VARCHAR(length=11, charset='UNICODE')</td></tr>\n",
       "<tr><td>review</td><td>VARCHAR(length=21500, charset='LATIN')</td></tr>\n",
       "                                  </table>\n",
       "                               </html>\n",
       "                            "
      ],
      "text/plain": [
       "doc_id                                 INTEGER()\n",
       "rating     VARCHAR(length=11, charset='UNICODE')\n",
       "review    VARCHAR(length=21500, charset='LATIN')"
      ]
     },
     "metadata": {},
     "output_type": "display_data"
    }
   ],
   "source": [
    "ipydisplay(res.result.dtypes)\n",
    "ipydisplay(res.result.tdtypes)"
   ]
  },
  {
   "cell_type": "markdown",
   "id": "entitled-overview",
   "metadata": {},
   "source": [
    "<hr>\n",
    "\n",
    "<p style = 'font-size:18px;font-family:Arial;color:#E37C4D'>Test/Train Split</p>\n",
    "\n",
    "<p style = 'font-size:16px;font-family:Arial'>Extraordinarily fast \"Sample\" function can split the data into multiple data sets in seconds.  Use Matplotlib to plot the distributions of each split.</p>"
   ]
  },
  {
   "cell_type": "code",
   "execution_count": 8,
   "id": "differential-jenny",
   "metadata": {},
   "outputs": [],
   "source": [
    "tdf_samples = res.result.sample(frac = [0.02, 0.08])\n",
    "copy_to_sql(tdf_samples[tdf_samples['sampleid'] == 2], table_name = 'text_train', schema_name = 'demo_ofs', if_exists = 'replace')\n",
    "copy_to_sql(tdf_samples[tdf_samples['sampleid'] == 1], table_name = 'text_test', schema_name = 'demo_ofs', if_exists = 'replace')\n",
    "\n",
    "tdf_train = DataFrame('\"demo_ofs\".\"text_train\"')\n",
    "tdf_test = DataFrame('\"demo_ofs\".\"text_test\"')"
   ]
  },
  {
   "cell_type": "code",
   "execution_count": 9,
   "id": "academic-balloon",
   "metadata": {},
   "outputs": [
    {
     "data": {
      "image/png": "[encoded data removed]",
      "text/plain": [
       "<Figure size 640x480 with 2 Axes>"
      ]
     },
     "metadata": {},
     "output_type": "display_data"
    }
   ],
   "source": [
    "fig, (ax1, ax2) = plt.subplots(ncols = 2)\n",
    "\n",
    "df1 = tdf_train.groupby('rating').count().to_pandas(index_column = 'rating')[['count_doc_id']]\n",
    "df1.sort_index().plot(kind = 'bar', ax = ax1)\n",
    "ax1.set_title(f'Training Set, {str(df1.sum()[0])} records')\n",
    "df2 = tdf_test.groupby('rating').count().to_pandas(index_column = 'rating')[['count_doc_id']]\n",
    "df2.sort_index().plot(kind = 'bar', ax = ax2)\n",
    "ax2.set_title(f'Testing Set, {str(df2.sum()[0])} records')\n",
    "\n",
    "plt.show()"
   ]
  },
  {
   "cell_type": "markdown",
   "id": "induced-panama",
   "metadata": {},
   "source": [
    "<hr>\n",
    "<p style = 'font-size:18px;font-family:Arial;color:#E37C4D'>1.4 - Use TextParser to prepare text for analysis</p>\n",
    "\n",
    "<p style = 'font-size:16px;font-family:Arial'>The <a href = 'https://docs.teradata.com/r/Teradata-VantageTM-Analytics-Database-Analytic-Functions-17.20/Text-Analytic-Functions/TD_TextParser'>TextParser</a> Function performs the following actions:</p>\n",
    "\n",
    "<ul style = 'font-size:16px;font-family:Arial'>\n",
    "    <li>Splits the text in the specified column into \"tokens\" based on a delimeter and creates a row for each token</li>\n",
    "    <li>Optionally removes select punctuation</li>\n",
    "    <li>Optionally converts the text to lowercase</li>\n",
    "    <li>Removes predefined \"Stop Words\" from the text</li>\n",
    "    <li>Performs \"Stemming\" operations to modify the token to its root form</li>\n",
    "    </ul>\n",
    "\n",
    "<p style = 'font-size:18px;font-family:Arial;color:#E37C4D'>Stop Words</p>\n",
    "<p style = 'font-size:16px;font-family:Arial'>Stop Words are common words that don't provide much meaning, and are normally dropped from text prior to analysis or processing.  Common English Stop Words include \"a\", \"the\", \"and\", \"of\", etc.  For purposes of this demonstration, a Stop Words table has been created using the open-source Natural Language Toolkit (NLTK) <a href = 'https://gist.github.com/sebleier/554280'>list of stopwords</a>.</p>"
   ]
  },
  {
   "cell_type": "code",
   "execution_count": 10,
   "id": "north-relay",
   "metadata": {},
   "outputs": [
    {
     "data": {
      "text/html": [
       "<style type=\"text/css\">\n",
       "\ttable {border:ridge 5px;}\n",
       "\ttable td {border:inset 1px;}\n",
       "\ttable tr#HeaderRow {background-color:grey; color:white;}</style>\n",
       "<html><table>\n",
       "\t<tr id=\"HeaderRow\">\n",
       "\t\t<th>word</th>\n",
       "\t</tr>\n",
       "\t<tr>\n",
       "\t\t<td>above</td>\n",
       "\t</tr>\n",
       "\t<tr>\n",
       "\t\t<td>again</td>\n",
       "\t</tr>\n",
       "\t<tr>\n",
       "\t\t<td>after</td>\n",
       "\t</tr>\n",
       "\t<tr>\n",
       "\t\t<td>about</td>\n",
       "\t</tr>\n",
       "\t<tr>\n",
       "\t\t<td>a</td>\n",
       "\t</tr>\n",
       "</table></html>"
      ],
      "text/plain": [
       "Empty DataFrame\n",
       "Columns: []\n",
       "Index: [above, again, after, about, a]"
      ]
     },
     "execution_count": 10,
     "metadata": {},
     "output_type": "execute_result"
    }
   ],
   "source": [
    "tdf_stopwords = DataFrame('\"demo\".\"stop_words\"')\n",
    "tdf_stopwords.head(5)"
   ]
  },
  {
   "cell_type": "code",
   "execution_count": 11,
   "id": "sexual-office",
   "metadata": {},
   "outputs": [
    {
     "data": {
      "text/html": [
       "<style type=\"text/css\">\n",
       "\ttable {border:ridge 5px;}\n",
       "\ttable td {border:inset 1px;}\n",
       "\ttable tr#HeaderRow {background-color:grey; color:white;}</style>\n",
       "<html><table>\n",
       "\t<tr id=\"HeaderRow\">\n",
       "\t\t<th>doc_id</th>\n",
       "\t\t<th>rating</th>\n",
       "\t\t<th>token</th>\n",
       "\t</tr>\n",
       "\t<tr>\n",
       "\t\t<td>14</td>\n",
       "\t\t<td>4</td>\n",
       "\t\t<td>fresh</td>\n",
       "\t</tr>\n",
       "\t<tr>\n",
       "\t\t<td>14</td>\n",
       "\t\t<td>4</td>\n",
       "\t\t<td>packed</td>\n",
       "\t</tr>\n",
       "\t<tr>\n",
       "\t\t<td>14</td>\n",
       "\t\t<td>4</td>\n",
       "\t\t<td>twizzlers</td>\n",
       "\t</tr>\n",
       "\t<tr>\n",
       "\t\t<td>14</td>\n",
       "\t\t<td>4</td>\n",
       "\t\t<td>came</td>\n",
       "\t</tr>\n",
       "\t<tr>\n",
       "\t\t<td>14</td>\n",
       "\t\t<td>4</td>\n",
       "\t\t<td>delicious</td>\n",
       "\t</tr>\n",
       "</table></html>"
      ],
      "text/plain": [
       "   doc_id rating      token\n",
       "0      14      4  delicious\n",
       "1      14      4     packed\n",
       "2      14      4       love\n",
       "3      14      4       came\n",
       "4      14      4  twizzlers"
      ]
     },
     "execution_count": 11,
     "metadata": {},
     "output_type": "execute_result"
    }
   ],
   "source": [
    "from teradataml import TextParser\n",
    "\n",
    "train_tokens = TextParser(data = tdf_train, \n",
    "                          object = tdf_stopwords, \n",
    "                          punctuation=\"!#$%&()*+<>\\\",-./:;?@\\\\^_`{|}~''\",\n",
    "                          delimiter=None,\n",
    "                          text_column = 'review', \n",
    "                          remove_stopwords = True,\n",
    "                          accumulate = ['doc_id', 'rating'])\n",
    "train_tokens.result.head(5)"
   ]
  },
  {
   "cell_type": "markdown",
   "id": "warming-medium",
   "metadata": {},
   "source": [
    "<hr>\n",
    "<p style = 'font-size:20px;font-family:Arial;color:#E37C4D'><b>Step 2 - Model Training</b></p>\n",
    "\n",
    "<p style = 'font-size:16px;font-family:Arial'>The <a href = 'https://docs.teradata.com/r/Teradata-VantageTM-Analytics-Database-Analytic-Functions-17.20/Text-Analytic-Functions/TD_NaiveBayesTextClassifierTrainer'>NaiveBayesTextClassifierTrainer</a> Function takes the table of tokens, which retain their original rating id (id) and rating score (categorical from 1 to 5) as input, and writes out a model table containing the probability of each token's category(Score).  Function parameters include:</p>\n",
    "\n",
    "\n",
    "<ul style = 'font-size:16px;font-family:Arial'>\n",
    "    <li>Column containing tokens</li>\n",
    "    <li>Column containing categories</li>\n",
    "    <li>Model Type - either Multinomial or Bernoulli.  Bernoulli is better for binary classification, where Multinonial is better for multiple classes</li>\n",
    "    </ul>"
   ]
  },
  {
   "cell_type": "code",
   "execution_count": 12,
   "id": "abroad-radio",
   "metadata": {},
   "outputs": [
    {
     "data": {
      "text/html": [
       "<style type=\"text/css\">\n",
       "\ttable {border:ridge 5px;}\n",
       "\ttable td {border:inset 1px;}\n",
       "\ttable tr#HeaderRow {background-color:grey; color:white;}</style>\n",
       "<html><table>\n",
       "\t<tr id=\"HeaderRow\">\n",
       "\t\t<th>token</th>\n",
       "\t\t<th>category</th>\n",
       "\t\t<th>prob</th>\n",
       "\t</tr>\n",
       "\t<tr>\n",
       "\t\t<td>0</td>\n",
       "\t\t<td>2</td>\n",
       "\t\t<td>8.515990409684646e-05</td>\n",
       "\t</tr>\n",
       "\t<tr>\n",
       "\t\t<td>0004</td>\n",
       "\t\t<td>1</td>\n",
       "\t\t<td>8.471309791563422e-06</td>\n",
       "\t</tr>\n",
       "\t<tr>\n",
       "\t\t<td>01014</td>\n",
       "\t\t<td>1</td>\n",
       "\t\t<td>8.471309791563422e-06</td>\n",
       "\t</tr>\n",
       "\t<tr>\n",
       "\t\t<td>02</td>\n",
       "\t\t<td>1</td>\n",
       "\t\t<td>1.6942619583126844e-05</td>\n",
       "\t</tr>\n",
       "\t<tr>\n",
       "\t\t<td>03</td>\n",
       "\t\t<td>2</td>\n",
       "\t\t<td>1.3101523707207148e-05</td>\n",
       "\t</tr>\n",
       "\t<tr>\n",
       "\t\t<td>03</td>\n",
       "\t\t<td>5</td>\n",
       "\t\t<td>5.867811616422831e-06</td>\n",
       "\t</tr>\n",
       "\t<tr>\n",
       "\t\t<td>02</td>\n",
       "\t\t<td>5</td>\n",
       "\t\t<td>2.5147764070383563e-06</td>\n",
       "\t</tr>\n",
       "\t<tr>\n",
       "\t\t<td>000</td>\n",
       "\t\t<td>1</td>\n",
       "\t\t<td>4.235654895781711e-05</td>\n",
       "\t</tr>\n",
       "\t<tr>\n",
       "\t\t<td>½</td>\n",
       "\t\t<td>4</td>\n",
       "\t\t<td>1.4243350491822892e-05</td>\n",
       "\t</tr>\n",
       "\t<tr>\n",
       "\t\t<td>½</td>\n",
       "\t\t<td>3</td>\n",
       "\t\t<td>9.287724414641169e-06</td>\n",
       "\t</tr>\n",
       "</table></html>"
      ],
      "text/plain": [
       "   token category      prob\n",
       "0      0        2  0.000085\n",
       "1   0004        1  0.000008\n",
       "2  01014        1  0.000008\n",
       "3     02        1  0.000017\n",
       "4     03        2  0.000013\n",
       "5     03        5  0.000006\n",
       "6     02        5  0.000003\n",
       "7    000        1  0.000042\n",
       "8      ½        4  0.000014\n",
       "9      ½        3  0.000009"
      ]
     },
     "execution_count": 12,
     "metadata": {},
     "output_type": "execute_result"
    }
   ],
   "source": [
    "from teradataml import NaiveBayesTextClassifierTrainer, NaiveBayesTextClassifierPredict\n",
    "\n",
    "model = NaiveBayesTextClassifierTrainer(data = train_tokens.result, \n",
    "                                        doc_category_column = 'rating', \n",
    "                                        token_column = 'token', \n",
    "                                       model_type = 'Multinomial')\n",
    "\n",
    "model.model_data"
   ]
  },
  {
   "cell_type": "markdown",
   "id": "imposed-insurance",
   "metadata": {},
   "source": [
    "<hr>\n",
    "<p style = 'font-size:20px;font-family:Arial;color:#E37C4D'><b>Step 3 - Model Scoring and Evaluation</b></p>\n",
    "\n",
    "<p style = 'font-size:16px;font-family:Arial'>Execute a testing prediction using the split data above.  Evaluate the model by creating a confusion matrix with the <a href = 'https://docs.teradata.com/r/Teradata-VantageTM-Analytics-Database-Analytic-Functions-17.20/Advanced-SQL-Engine-Analytic-Functions/TD_ClassificationEvaluator'>ClassificationEvaluator</a> Function.</p>\n",
    "\n",
    "\n",
    "<ol style = 'font-size:16px;font-family:Arial'>\n",
    "    <li>Tokenize the Testing data that was split above - use the same function parameters</li>\n",
    "    <li>Execute <a href = 'https://docs.teradata.com/r/Teradata-VantageTM-Analytics-Database-Analytic-Functions-17.20/Text-Analytic-Functions/NaiveBayesTextClassifierPredict'>NaiveBayesTextClassifierPredict</a> using the model built above</li>\n",
    "    <li>Execute <a href = 'https://docs.teradata.com/r/Teradata-VantageTM-Analytics-Database-Analytic-Functions-17.20/Advanced-SQL-Engine-Analytic-Functions/TD_ClassificationEvaluator'>TD_ClassificationEvaluator</a> and pass the actual classification and the predicted value</li>\n",
    "    <li>Investigate the Confusion Matrix and additional metrics values</li>\n",
    "    </ol>"
   ]
  },
  {
   "cell_type": "markdown",
   "id": "still-least",
   "metadata": {},
   "source": [
    "<hr>\n",
    "<p style = 'font-size:18px;font-family:Arial;color:#E37C4D'>3.1 Tokenize the Testing data</p>"
   ]
  },
  {
   "cell_type": "code",
   "execution_count": 13,
   "id": "convenient-advice",
   "metadata": {},
   "outputs": [
    {
     "data": {
      "text/html": [
       "<style type=\"text/css\">\n",
       "\ttable {border:ridge 5px;}\n",
       "\ttable td {border:inset 1px;}\n",
       "\ttable tr#HeaderRow {background-color:grey; color:white;}</style>\n",
       "<html><table>\n",
       "\t<tr id=\"HeaderRow\">\n",
       "\t\t<th>doc_id</th>\n",
       "\t\t<th>rating</th>\n",
       "\t\t<th>token</th>\n",
       "\t</tr>\n",
       "\t<tr>\n",
       "\t\t<td>25302</td>\n",
       "\t\t<td>4</td>\n",
       "\t\t<td>drink</td>\n",
       "\t</tr>\n",
       "\t<tr>\n",
       "\t\t<td>16405</td>\n",
       "\t\t<td>2</td>\n",
       "\t\t<td>lots</td>\n",
       "\t</tr>\n",
       "\t<tr>\n",
       "\t\t<td>16405</td>\n",
       "\t\t<td>2</td>\n",
       "\t\t<td>problems</td>\n",
       "\t</tr>\n",
       "\t<tr>\n",
       "\t\t<td>42452</td>\n",
       "\t\t<td>5</td>\n",
       "\t\t<td>good</td>\n",
       "\t</tr>\n",
       "\t<tr>\n",
       "\t\t<td>484549</td>\n",
       "\t\t<td>5</td>\n",
       "\t\t<td>jam</td>\n",
       "\t</tr>\n",
       "\t<tr>\n",
       "\t\t<td>484549</td>\n",
       "\t\t<td>5</td>\n",
       "\t\t<td>good</td>\n",
       "\t</tr>\n",
       "\t<tr>\n",
       "\t\t<td>42452</td>\n",
       "\t\t<td>5</td>\n",
       "\t\t<td>luck</td>\n",
       "\t</tr>\n",
       "\t<tr>\n",
       "\t\t<td>25302</td>\n",
       "\t\t<td>4</td>\n",
       "\t\t<td>regular</td>\n",
       "\t</tr>\n",
       "\t<tr>\n",
       "\t\t<td>53963</td>\n",
       "\t\t<td>5</td>\n",
       "\t\t<td>chicken</td>\n",
       "\t</tr>\n",
       "\t<tr>\n",
       "\t\t<td>53963</td>\n",
       "\t\t<td>5</td>\n",
       "\t\t<td>bought</td>\n",
       "\t</tr>\n",
       "</table></html>"
      ],
      "text/plain": [
       "   doc_id rating     token\n",
       "0   42452      5      good\n",
       "1  484549      5       jam\n",
       "2  484549      5      good\n",
       "3   53963      5    bought\n",
       "4   25302      4     drink\n",
       "5   25302      4   regular\n",
       "6   53963      5   chicken\n",
       "7   42452      5      luck\n",
       "8   16405      2  problems\n",
       "9   16405      2      lots"
      ]
     },
     "execution_count": 13,
     "metadata": {},
     "output_type": "execute_result"
    }
   ],
   "source": [
    "test_tokens = TextParser(data = tdf_test, object = tdf_stopwords, punctuation=\"!#$%&()*+<>\\\",-./:;?@\\\\^_`{|}~''\",\n",
    "                         delimiter=None,\n",
    "                text_column = 'review', remove_stopwords = True,\n",
    "                 accumulate = ['doc_id', 'rating'])\n",
    "\n",
    "test_tokens.result"
   ]
  },
  {
   "cell_type": "markdown",
   "id": "blank-strategy",
   "metadata": {},
   "source": [
    "<hr>\n",
    "<p style = 'font-size:18px;font-family:Arial;color:#E37C4D'>3.2 Execute the Prediction Function</p>\n",
    "\n",
    "<p style = 'font-size:16px;font-family:Arial'>The <a href = 'https://docs.teradata.com/r/Teradata-VantageTM-Analytics-Database-Analytic-Functions-17.20/Text-Analytic-Functions/NaiveBayesTextClassifierPredict'>NaiveBayesTextClassifierPredict</a> Function takes the model built using TD_NaiveBayesClassifierTrainer as input table, and outputs likelihood and probability information per document.  Additional parameters include (but are not limited to):</p>\n",
    "\n",
    "\n",
    "<ul style = 'font-size:16px;font-family:Arial'>\n",
    "    <li>Trained model information</li>\n",
    "    <li>Input data table information</li>\n",
    "    <li>Various output parameters</li>\n",
    "    </ul>"
   ]
  },
  {
   "cell_type": "code",
   "execution_count": 14,
   "id": "peaceful-little",
   "metadata": {},
   "outputs": [
    {
     "data": {
      "text/html": [
       "<style type=\"text/css\">\n",
       "\ttable {border:ridge 5px;}\n",
       "\ttable td {border:inset 1px;}\n",
       "\ttable tr#HeaderRow {background-color:grey; color:white;}</style>\n",
       "<html><table>\n",
       "\t<tr id=\"HeaderRow\">\n",
       "\t\t<th>doc_id</th>\n",
       "\t\t<th>prediction</th>\n",
       "\t\t<th>loglik_1</th>\n",
       "\t\t<th>loglik_2</th>\n",
       "\t\t<th>loglik_3</th>\n",
       "\t\t<th>loglik_4</th>\n",
       "\t\t<th>loglik_5</th>\n",
       "\t\t<th>prob_1</th>\n",
       "\t\t<th>prob_2</th>\n",
       "\t\t<th>prob_3</th>\n",
       "\t\t<th>prob_4</th>\n",
       "\t\t<th>prob_5</th>\n",
       "\t\t<th>rating</th>\n",
       "\t</tr>\n",
       "\t<tr>\n",
       "\t\t<td>1034</td>\n",
       "\t\t<td>5</td>\n",
       "\t\t<td>-189.118200360848</td>\n",
       "\t\t<td>-192.38555024713574</td>\n",
       "\t\t<td>-191.0965716855945</td>\n",
       "\t\t<td>-185.7481548573389</td>\n",
       "\t\t<td>-178.19617061364647</td>\n",
       "\t\t<td>1.8046191251898067e-05</td>\n",
       "\t\t<td>6.876912992102492e-07</td>\n",
       "\t\t<td>2.495685215056368e-06</td>\n",
       "\t\t<td>0.0005247805394212554</td>\n",
       "\t\t<td>0.9994539898928126</td>\n",
       "\t\t<td>5</td>\n",
       "\t</tr>\n",
       "\t<tr>\n",
       "\t\t<td>761</td>\n",
       "\t\t<td>5</td>\n",
       "\t\t<td>-496.03377505191327</td>\n",
       "\t\t<td>-489.58712644990476</td>\n",
       "\t\t<td>-486.66279714886406</td>\n",
       "\t\t<td>-479.6821912480426</td>\n",
       "\t\t<td>-478.79070993168466</td>\n",
       "\t\t<td>2.301836033908119e-08</td>\n",
       "\t\t<td>1.4515042073800855e-05</td>\n",
       "\t\t<td>0.0002702952275911471</td>\n",
       "\t\t<td>0.2907213996304398</td>\n",
       "\t\t<td>0.7089937670815349</td>\n",
       "\t\t<td>5</td>\n",
       "\t</tr>\n",
       "\t<tr>\n",
       "\t\t<td>811</td>\n",
       "\t\t<td>5</td>\n",
       "\t\t<td>-244.07544365341474</td>\n",
       "\t\t<td>-245.96622800248954</td>\n",
       "\t\t<td>-243.19888149201975</td>\n",
       "\t\t<td>-238.24101294939538</td>\n",
       "\t\t<td>-231.26523234868307</td>\n",
       "\t\t<td>2.730147810305936e-06</td>\n",
       "\t\t<td>4.1212499143432553e-07</td>\n",
       "\t\t<td>6.559523165285348e-06</td>\n",
       "\t\t<td>0.0009333557776794565</td>\n",
       "\t\t<td>0.9990569424263537</td>\n",
       "\t\t<td>5</td>\n",
       "\t</tr>\n",
       "\t<tr>\n",
       "\t\t<td>748</td>\n",
       "\t\t<td>4</td>\n",
       "\t\t<td>-1647.3135357677027</td>\n",
       "\t\t<td>-1662.0219366304273</td>\n",
       "\t\t<td>-1651.8937406265513</td>\n",
       "\t\t<td>-1614.7129802803051</td>\n",
       "\t\t<td>-1620.198790674248</td>\n",
       "\t\t<td>6.917706614343722e-15</td>\n",
       "\t\t<td>2.8325971051667608e-21</td>\n",
       "\t\t<td>7.09258326662427e-17</td>\n",
       "\t\t<td>0.9958719370477832</td>\n",
       "\t\t<td>0.004128062952209845</td>\n",
       "\t\t<td>3</td>\n",
       "\t</tr>\n",
       "\t<tr>\n",
       "\t\t<td>257</td>\n",
       "\t\t<td>5</td>\n",
       "\t\t<td>-233.00985611328016</td>\n",
       "\t\t<td>-230.51358029792664</td>\n",
       "\t\t<td>-225.20718650743717</td>\n",
       "\t\t<td>-221.47864539252566</td>\n",
       "\t\t<td>-215.77931835986826</td>\n",
       "\t\t<td>3.2763164446104824e-08</td>\n",
       "\t\t<td>3.9765335740661273e-07</td>\n",
       "\t\t<td>8.017559573577378e-05</td>\n",
       "\t\t<td>0.0033367758016924357</td>\n",
       "\t\t<td>0.99658261818605</td>\n",
       "\t\t<td>5</td>\n",
       "\t</tr>\n",
       "\t<tr>\n",
       "\t\t<td>580</td>\n",
       "\t\t<td>5</td>\n",
       "\t\t<td>-54.7876320271664</td>\n",
       "\t\t<td>-54.70683643045639</td>\n",
       "\t\t<td>-55.054355910185286</td>\n",
       "\t\t<td>-51.14752418011189</td>\n",
       "\t\t<td>-46.04824578112904</td>\n",
       "\t\t<td>0.00015910878214913128</td>\n",
       "\t\t<td>0.0001724976700556414</td>\n",
       "\t\t<td>0.00012185895260648456</td>\n",
       "\t\t<td>0.006061399420026721</td>\n",
       "\t\t<td>0.993485135175162</td>\n",
       "\t\t<td>5</td>\n",
       "\t</tr>\n",
       "\t<tr>\n",
       "\t\t<td>135</td>\n",
       "\t\t<td>5</td>\n",
       "\t\t<td>-74.10190271224418</td>\n",
       "\t\t<td>-73.28183309601297</td>\n",
       "\t\t<td>-73.42650406828096</td>\n",
       "\t\t<td>-72.08359883230695</td>\n",
       "\t\t<td>-69.48011972797455</td>\n",
       "\t\t<td>0.008738495141003206</td>\n",
       "\t\t<td>0.019842133084369433</td>\n",
       "\t\t<td>0.01716953578499018</td>\n",
       "\t\t<td>0.06576198094256283</td>\n",
       "\t\t<td>0.8884878550470745</td>\n",
       "\t\t<td>5</td>\n",
       "\t</tr>\n",
       "\t<tr>\n",
       "\t\t<td>313</td>\n",
       "\t\t<td>5</td>\n",
       "\t\t<td>-102.48864524448463</td>\n",
       "\t\t<td>-105.26385156072591</td>\n",
       "\t\t<td>-104.22827170586615</td>\n",
       "\t\t<td>-103.18645906039602</td>\n",
       "\t\t<td>-101.07714826848651</td>\n",
       "\t\t<td>0.17130074431503453</td>\n",
       "\t\t<td>0.010678308428851514</td>\n",
       "\t\t<td>0.030078008467746768</td>\n",
       "\t\t<td>0.08525160427876263</td>\n",
       "\t\t<td>0.7026913345096046</td>\n",
       "\t\t<td>1</td>\n",
       "\t</tr>\n",
       "\t<tr>\n",
       "\t\t<td>203</td>\n",
       "\t\t<td>5</td>\n",
       "\t\t<td>-99.2407349776851</td>\n",
       "\t\t<td>-104.70219624728207</td>\n",
       "\t\t<td>-103.48005192441966</td>\n",
       "\t\t<td>-100.80433485046478</td>\n",
       "\t\t<td>-94.98763747087828</td>\n",
       "\t\t<td>0.013976055460069574</td>\n",
       "\t\t<td>5.936112497681356e-05</td>\n",
       "\t\t<td>0.00020149889012512838</td>\n",
       "\t\t<td>0.002926320021486333</td>\n",
       "\t\t<td>0.9828367645033422</td>\n",
       "\t\t<td>5</td>\n",
       "\t</tr>\n",
       "\t<tr>\n",
       "\t\t<td>544</td>\n",
       "\t\t<td>5</td>\n",
       "\t\t<td>-282.55561021585595</td>\n",
       "\t\t<td>-282.15855954894664</td>\n",
       "\t\t<td>-283.17165968934967</td>\n",
       "\t\t<td>-280.0300118534284</td>\n",
       "\t\t<td>-274.2276413499545</td>\n",
       "\t\t<td>0.00024075906250776551</td>\n",
       "\t\t<td>0.0003581125633316327</td>\n",
       "\t\t<td>0.0001300276628914356</td>\n",
       "\t\t<td>0.0030090962250933074</td>\n",
       "\t\t<td>0.996262004486176</td>\n",
       "\t\t<td>1</td>\n",
       "\t</tr>\n",
       "</table></html>"
      ],
      "text/plain": [
       "   doc_id prediction    loglik_1    loglik_2    loglik_3    loglik_4    loglik_5        prob_1        prob_2        prob_3        prob_4        prob_5 rating\n",
       "0     257          5 -233.009856 -230.513580 -225.207187 -221.478645 -215.779318  3.276316e-08  3.976534e-07  8.017560e-05  3.336776e-03  9.965826e-01      5\n",
       "1     203          5  -99.240735 -104.702196 -103.480052 -100.804335  -94.987637  1.397606e-02  5.936112e-05  2.014989e-04  2.926320e-03  9.828368e-01      5\n",
       "2     544          5 -282.555610 -282.158560 -283.171660 -280.030012 -274.227641  2.407591e-04  3.581126e-04  1.300277e-04  3.009096e-03  9.962620e-01      1\n",
       "3     637          5 -301.354001 -299.932255 -298.513113 -293.980576 -292.501347  1.161672e-04  4.814375e-04  1.990057e-03  1.850637e-01  8.123486e-01      4\n",
       "4     761          5 -496.033775 -489.587126 -486.662797 -479.682191 -478.790710  2.301836e-08  1.451504e-05  2.702952e-04  2.907214e-01  7.089938e-01      5\n",
       "5     811          5 -244.075444 -245.966228 -243.198881 -238.241013 -231.265232  2.730148e-06  4.121250e-07  6.559523e-06  9.333558e-04  9.990569e-01      5\n",
       "6    1034          5 -189.118200 -192.385550 -191.096572 -185.748155 -178.196171  1.804619e-05  6.876913e-07  2.495685e-06  5.247805e-04  9.994540e-01      5\n",
       "7    1075          5  -92.372744  -93.517532  -92.582621  -90.165561  -87.582646  7.602700e-03  2.419875e-03  6.163392e-03  6.910910e-02  9.147049e-01      5\n",
       "8      77          5 -314.767682 -313.446118 -311.736648 -309.721742 -308.238366  1.155018e-03  4.330484e-03  2.393040e-02  1.794785e-01  7.911056e-01      5\n",
       "9     563          1 -601.867772 -626.788802 -628.740853 -629.910716 -624.392155  1.000000e+00  1.502914e-11  2.133875e-12  6.623750e-13  1.651142e-10      1"
      ]
     },
     "execution_count": 14,
     "metadata": {},
     "output_type": "execute_result"
    }
   ],
   "source": [
    "pred = NaiveBayesTextClassifierPredict(newdata = test_tokens.result, \n",
    "                                       object = model.model_data,\n",
    "                                       accumulate = ['rating'],\n",
    "                                       input_token_column = 'token',\n",
    "                                       responses = ['1','2','3','4','5'],\n",
    "                                       output_prob = True,\n",
    "                                       model_prob_column = 'prob',\n",
    "                                       model_category_column = 'category',\n",
    "                                       model_token_column = 'token', \n",
    "                                       doc_id_columns = 'doc_id',\n",
    "                                       newdata_partition_column = 'doc_id')\n",
    "pred.result"
   ]
  },
  {
   "cell_type": "markdown",
   "id": "charming-junction",
   "metadata": {},
   "source": [
    "<hr>\n",
    "<p style = 'font-size:18px;font-family:Arial;color:#E37C4D'>3.3 - Evaluate the Model Accuracy</p>\n",
    "\n",
    "<p style = 'font-size:16px;font-family:Arial'>Evaluate the model by creating a confusion matrix with the <a href = 'https://docs.teradata.com/r/Teradata-VantageTM-Analytics-Database-Analytic-Functions-17.20/Advanced-SQL-Engine-Analytic-Functions/TD_ClassificationEvaluator'>ClassificationEvaluator</a> Function.</p>\n",
    "\n",
    "\n",
    "<ol style = 'font-size:16px;font-family:Arial'>\n",
    "    <li>Execute <a href = 'https://docs.teradata.com/r/Teradata-VantageTM-Analytics-Database-Analytic-Functions-17.20/Advanced-SQL-Engine-Analytic-Functions/TD_ClassificationEvaluator'>ClassificationEvaluator</a> and pass the actual classification and the predicted value</li>\n",
    "    <li>Investigate the Confusion Matrix and additional metrics values</li>\n",
    "    <li>Alternatively, create a heatmap using open-source tools</li>\n",
    "    </ol>"
   ]
  },
  {
   "cell_type": "code",
   "execution_count": 15,
   "id": "unexpected-shooting",
   "metadata": {},
   "outputs": [],
   "source": [
    "from teradataml import ClassificationEvaluator\n",
    "\n",
    "acc = ClassificationEvaluator(data = pred.result[['prediction','rating']], num_labels = 5,\n",
    "                              observation_column = 'rating', prediction_column = 'prediction')"
   ]
  },
  {
   "cell_type": "code",
   "execution_count": 16,
   "id": "aggregate-permission",
   "metadata": {},
   "outputs": [
    {
     "data": {
      "text/html": [
       "<style type=\"text/css\">\n",
       "\ttable {border:ridge 5px;}\n",
       "\ttable td {border:inset 1px;}\n",
       "\ttable tr#HeaderRow {background-color:grey; color:white;}</style>\n",
       "<html><table>\n",
       "\t<tr id=\"HeaderRow\">\n",
       "\t\t<th>SeqNum</th>\n",
       "\t\t<th>Prediction</th>\n",
       "\t\t<th>Mapping</th>\n",
       "\t\t<th>CLASS_1</th>\n",
       "\t\t<th>CLASS_2</th>\n",
       "\t\t<th>CLASS_3</th>\n",
       "\t\t<th>CLASS_4</th>\n",
       "\t\t<th>CLASS_5</th>\n",
       "\t\t<th>Precision</th>\n",
       "\t\t<th>Recall</th>\n",
       "\t\t<th>F1</th>\n",
       "\t\t<th>Support</th>\n",
       "\t</tr>\n",
       "\t<tr>\n",
       "\t\t<td>4</td>\n",
       "\t\t<td>5</td>\n",
       "\t\t<td>CLASS_5</td>\n",
       "\t\t<td>311</td>\n",
       "\t\t<td>278</td>\n",
       "\t\t<td>379</td>\n",
       "\t\t<td>983</td>\n",
       "\t\t<td>6663</td>\n",
       "\t\t<td>0.7735082423960994</td>\n",
       "\t\t<td>0.9106191061910619</td>\n",
       "\t\t<td>0.8364823300483335</td>\n",
       "\t\t<td>7317</td>\n",
       "\t</tr>\n",
       "\t<tr>\n",
       "\t\t<td>3</td>\n",
       "\t\t<td>4</td>\n",
       "\t\t<td>CLASS_4</td>\n",
       "\t\t<td>68</td>\n",
       "\t\t<td>90</td>\n",
       "\t\t<td>205</td>\n",
       "\t\t<td>431</td>\n",
       "\t\t<td>420</td>\n",
       "\t\t<td>0.35502471169686983</td>\n",
       "\t\t<td>0.280416395575797</td>\n",
       "\t\t<td>0.31334060341693926</td>\n",
       "\t\t<td>1537</td>\n",
       "\t</tr>\n",
       "\t<tr>\n",
       "\t\t<td>0</td>\n",
       "\t\t<td>1</td>\n",
       "\t\t<td>CLASS_1</td>\n",
       "\t\t<td>594</td>\n",
       "\t\t<td>112</td>\n",
       "\t\t<td>95</td>\n",
       "\t\t<td>60</td>\n",
       "\t\t<td>150</td>\n",
       "\t\t<td>0.5875370919881305</td>\n",
       "\t\t<td>0.5657142857142857</td>\n",
       "\t\t<td>0.5764192139737991</td>\n",
       "\t\t<td>1050</td>\n",
       "\t</tr>\n",
       "\t<tr>\n",
       "\t\t<td>2</td>\n",
       "\t\t<td>3</td>\n",
       "\t\t<td>CLASS_3</td>\n",
       "\t\t<td>54</td>\n",
       "\t\t<td>84</td>\n",
       "\t\t<td>153</td>\n",
       "\t\t<td>56</td>\n",
       "\t\t<td>62</td>\n",
       "\t\t<td>0.3740831295843521</td>\n",
       "\t\t<td>0.1804245283018868</td>\n",
       "\t\t<td>0.24343675417661098</td>\n",
       "\t\t<td>848</td>\n",
       "\t</tr>\n",
       "\t<tr>\n",
       "\t\t<td>1</td>\n",
       "\t\t<td>2</td>\n",
       "\t\t<td>CLASS_2</td>\n",
       "\t\t<td>23</td>\n",
       "\t\t<td>53</td>\n",
       "\t\t<td>16</td>\n",
       "\t\t<td>7</td>\n",
       "\t\t<td>22</td>\n",
       "\t\t<td>0.4380165289256198</td>\n",
       "\t\t<td>0.08589951377633712</td>\n",
       "\t\t<td>0.14363143631436315</td>\n",
       "\t\t<td>617</td>\n",
       "\t</tr>\n",
       "</table></html>"
      ],
      "text/plain": [
       "       Prediction  Mapping  CLASS_1  CLASS_2  CLASS_3  CLASS_4  CLASS_5  Precision    Recall        F1  Support\n",
       "SeqNum                                                                                                         \n",
       "4               5  CLASS_5      311      278      379      983     6663   0.773508  0.910619  0.836482     7317\n",
       "3               4  CLASS_4       68       90      205      431      420   0.355025  0.280416  0.313341     1537\n",
       "0               1  CLASS_1      594      112       95       60      150   0.587537  0.565714  0.576419     1050\n",
       "2               3  CLASS_3       54       84      153       56       62   0.374083  0.180425  0.243437      848\n",
       "1               2  CLASS_2       23       53       16        7       22   0.438017  0.085900  0.143631      617"
      ]
     },
     "metadata": {},
     "output_type": "display_data"
    },
    {
     "data": {
      "text/html": [
       "<style type=\"text/css\">\n",
       "\ttable {border:ridge 5px;}\n",
       "\ttable td {border:inset 1px;}\n",
       "\ttable tr#HeaderRow {background-color:grey; color:white;}</style>\n",
       "<html><table>\n",
       "\t<tr id=\"HeaderRow\">\n",
       "\t\t<th>SeqNum</th>\n",
       "\t\t<th>Metric</th>\n",
       "\t\t<th>MetricValue</th>\n",
       "\t</tr>\n",
       "\t<tr>\n",
       "\t\t<td>3</td>\n",
       "\t\t<td>Micro-Recall</td>\n",
       "\t\t<td>0.6943442695047938</td>\n",
       "\t</tr>\n",
       "\t<tr>\n",
       "\t\t<td>5</td>\n",
       "\t\t<td>Macro-Precision</td>\n",
       "\t\t<td>0.5056339409182143</td>\n",
       "\t</tr>\n",
       "\t<tr>\n",
       "\t\t<td>6</td>\n",
       "\t\t<td>Macro-Recall</td>\n",
       "\t\t<td>0.4046147659118737</td>\n",
       "\t</tr>\n",
       "\t<tr>\n",
       "\t\t<td>7</td>\n",
       "\t\t<td>Macro-F1</td>\n",
       "\t\t<td>0.4226620675860092</td>\n",
       "\t</tr>\n",
       "\t<tr>\n",
       "\t\t<td>9</td>\n",
       "\t\t<td>Weighted-Recall</td>\n",
       "\t\t<td>0.6943442695047938</td>\n",
       "\t</tr>\n",
       "\t<tr>\n",
       "\t\t<td>10</td>\n",
       "\t\t<td>Weighted-F1</td>\n",
       "\t\t<td>0.6599033208580974</td>\n",
       "\t</tr>\n",
       "\t<tr>\n",
       "\t\t<td>8</td>\n",
       "\t\t<td>Weighted-Precision</td>\n",
       "\t\t<td>0.651757008559462</td>\n",
       "\t</tr>\n",
       "\t<tr>\n",
       "\t\t<td>4</td>\n",
       "\t\t<td>Micro-F1</td>\n",
       "\t\t<td>0.6943442695047938</td>\n",
       "\t</tr>\n",
       "\t<tr>\n",
       "\t\t<td>2</td>\n",
       "\t\t<td>Micro-Precision</td>\n",
       "\t\t<td>0.6943442695047938</td>\n",
       "\t</tr>\n",
       "\t<tr>\n",
       "\t\t<td>1</td>\n",
       "\t\t<td>Accuracy</td>\n",
       "\t\t<td>0.6943442695047938</td>\n",
       "\t</tr>\n",
       "</table></html>"
      ],
      "text/plain": [
       "   SeqNum              Metric  MetricValue\n",
       "0       3        Micro-Recall     0.694344\n",
       "1       5     Macro-Precision     0.505634\n",
       "2       6        Macro-Recall     0.404615\n",
       "3       7            Macro-F1     0.422662\n",
       "4       9     Weighted-Recall     0.694344\n",
       "5      10         Weighted-F1     0.659903\n",
       "6       8  Weighted-Precision     0.651757\n",
       "7       4            Micro-F1     0.694344\n",
       "8       2     Micro-Precision     0.694344\n",
       "9       1            Accuracy     0.694344"
      ]
     },
     "metadata": {},
     "output_type": "display_data"
    }
   ],
   "source": [
    "ipydisplay(acc.result)\n",
    "ipydisplay(acc.output_data)"
   ]
  },
  {
   "cell_type": "code",
   "execution_count": 17,
   "id": "interstate-genetics",
   "metadata": {},
   "outputs": [
    {
     "data": {
      "image/png": "[encoded data removed]",
      "text/plain": [
       "<Figure size 1000x1000 with 2 Axes>"
      ]
     },
     "metadata": {},
     "output_type": "display_data"
    }
   ],
   "source": [
    "df_pred = pred.result.to_pandas()\n",
    "cm = confusion_matrix(df_pred['rating'], df_pred['prediction'])\n",
    "disp = ConfusionMatrixDisplay(confusion_matrix = cm, display_labels = ['1', '2', '3', '4', '5'])\n",
    "fig, ax = plt.subplots(figsize=(10,10))\n",
    "disp.plot(ax=ax)\n",
    "\n",
    "plt.show()"
   ]
  },
  {
   "cell_type": "markdown",
   "id": "variable-motorcycle",
   "metadata": {},
   "source": [
    "<hr>\n",
    "<p style = 'font-size:18px;font-family:Arial;color:#E37C4D'>Cleanup</p>"
   ]
  },
  {
   "cell_type": "code",
   "execution_count": 18,
   "id": "first-serial",
   "metadata": {},
   "outputs": [
    {
     "data": {
      "text/plain": [
       "True"
      ]
     },
     "execution_count": 18,
     "metadata": {},
     "output_type": "execute_result"
    }
   ],
   "source": [
    "db_drop_table('text_train', schema_name = 'demo_ofs')\n",
    "db_drop_table('text_test', schema_name = 'demo_ofs')"
   ]
  },
  {
   "cell_type": "code",
   "execution_count": 19,
   "id": "documented-mobility",
   "metadata": {},
   "outputs": [
    {
     "data": {
      "text/plain": [
       "True"
      ]
     },
     "execution_count": 19,
     "metadata": {},
     "output_type": "execute_result"
    }
   ],
   "source": [
    "remove_context()"
   ]
  },
  {
   "cell_type": "code",
   "execution_count": null,
   "id": "assured-karaoke",
   "metadata": {},
   "outputs": [],
   "source": []
  }
 ],
 "metadata": {
  "kernelspec": {
   "display_name": "Python 3 (ipykernel)",
   "language": "python",
   "name": "python3"
  },
  "language_info": {
   "codemirror_mode": {
    "name": "ipython",
    "version": 3
   },
   "file_extension": ".py",
   "mimetype": "text/x-python",
   "name": "python",
   "nbconvert_exporter": "python",
   "pygments_lexer": "ipython3",
   "version": "3.8.8"
  }
 },
 "nbformat": 4,
 "nbformat_minor": 5
}
