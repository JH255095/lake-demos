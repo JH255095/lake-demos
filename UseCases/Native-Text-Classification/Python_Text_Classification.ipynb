{
 "cells": [
  {
   "cell_type": "markdown",
   "id": "interracial-simple",
   "metadata": {},
   "source": [
    "<header>\n",
    "   <p  style='font-size:36px;font-family:Arial; color:#F0F0F0; background-color: #00233c; padding-left: 20pt; padding-top: 20pt;padding-bottom: 10pt; padding-right: 20pt;'>\n",
    "       Classification Using ClearScape Analytics Text Preparation and Naive Bayes Classification Functions\n",
    "  <br>\n",
    "       <img id=\"teradata-logo\" src=\"../../images/TeradataLogo.png\" alt=\"Teradata\" style=\"width: 125px; height: auto; margin-top: 20pt;\">\n",
    "    </p>\n",
    "</header>\n",
    "<hr>"
   ]
  },
  {
   "cell_type": "markdown",
   "id": "satisfied-jumping",
   "metadata": {},
   "source": [
    "<br>\n",
    "\n",
    "<b style = 'font-size:24px;font-family:Arial;color:#00233C'>Utilize Native ClearScape Analytics functions for Text Processing and Analytics for performance at extreme scale</b>\n",
    "\n",
    "<p style = 'font-size:16px;font-family:Arial;color:#00233C'>Naive Bayes Classifiers are a collection of classification algorithms based on Bayes' Theorem. It is not a single algorithm but a family of algorithms where all of them share a common principle, i.e. every pair of features being classified is independent of each other.</p>\n",
    "\n",
    "<p style = 'font-size:16px;font-family:Arial;color:#00233C'>For text classifcation, a very simple way to understand how this type of classification works is that the algorithm can calculate the probability of appearance of a word or a sequence of words of length n (also known as n-gram) within the words of a text or the words of a category.  Prior to classification, text needs to be processed into these grams (or \"tokens\").</p>\n",
    "\n",
    "<p style = 'font-size:16px;font-family:Arial;color:#00233C'>Many text processing and classification tools exist across a variety of programming languages, but only Vantage provides the capability to perfom these tasks with the degree of performance and scale required by the modern enterprise.  Furthermore, text preparation and analytics <b>pipelines</b> can be built that can automate the usage of these powerful algorithms seamlessly to the business.</p> \n",
    "\n",
    "<hr>"
   ]
  },
  {
   "cell_type": "markdown",
   "id": "defensive-cologne",
   "metadata": {},
   "source": [
    "<b style = 'font-size:24px;font-family:Arial;color:#00233C'>Live Demonstration</b>\n",
    "\n",
    "<p style = 'font-size:16px;font-family:Arial;color:#00233C'>The data for this demonstration consists of Amazon Fine Foods Reviews, which can be found <a href = 'https://www.kaggle.com/datasets/snap/amazon-fine-food-reviews'>here</a>.  The Demonstration below consists of the following steps:</p>\n",
    "\n",
    "<ol style = 'font-size:16px;font-family:Arial;color:#00233C'>\n",
    "    <li>Data Preparation; including ratings categorization and tokenization</li>\n",
    "    <li>Model Training; create a Naive Bayes Text Classification Model using Training data</li>\n",
    "    <li>Scoring and Evaluation; make a prediction using test data, and evaluate the result</li>\n",
    "    </ol>\n",
    "    \n",
    "<img src = 'Flow_Diagram_TextClassifier.png' width = 100%>"
   ]
  },
  {
   "cell_type": "markdown",
   "id": "smart-spread",
   "metadata": {},
   "source": [
    "<hr>\n",
    "<p style = 'font-size:20px;font-family:Arial;color:#00233C'><b>Step 1 - Data Preparation</b></p>\n",
    "\n",
    "<p style = 'font-size:16px;font-family:Arial;color:#00233C'>Here, we will inspect the original data set, and perform various preparation tasks.</p>\n",
    "\n",
    "\n",
    "<ol style = 'font-size:16px;font-family:Arial;color:#00233C'>\n",
    "    <li>Inspect the rows of the table</li>\n",
    "    <li>Transform the numeric rating to a categorical value using <a href = 'https://docs.teradata.com/r/Teradata-VantageTM-Analytics-Database-Analytic-Functions-17.20/Data-Cleaning-Functions/Parsing-Data/TD_ConvertTo'>ConvertTo</a>, then verify the new column types using <a href = 'https://docs.teradata.com/r/Teradata-VantageTM-Analytics-Database-Analytic-Functions-17.20/Data-Exploration-Functions/TD_ColumnSummary'>ColumnSummary</a></li>\n",
    "    <li>Split the data into training and testing data sets</li>\n",
    "    <li>Tokenize the data using <a href = 'https://docs.teradata.com/r/Teradata-VantageTM-Analytics-Database-Analytic-Functions-17.20/Text-Analytic-Functions/TD_TextParser'>TextParser</a></li>\n",
    "    </ol>\n",
    "    "
   ]
  },
  {
   "cell_type": "markdown",
   "id": "moving-harbor",
   "metadata": {},
   "source": [
    "<hr>\n",
    "<p style = 'font-size:18px;font-family:Arial;color:#00233C'><b>Imports and Connection</b></p>\n",
    "\n",
    "<p style = 'font-size:16px;font-family:Arial;color:#00233C'>Import required packages and create a connection context to Vantage.</p>"
   ]
  },
  {
   "cell_type": "code",
   "execution_count": null,
   "id": "equipped-response",
   "metadata": {},
   "outputs": [],
   "source": [
    "import warnings\n",
    "warnings.filterwarnings('ignore')\n",
    "\n",
    "import json\n",
    "from teradataml import *\n",
    "display.suppress_vantage_runtime_warnings = True\n",
    "\n",
    "from IPython.display import display as ipydisplay\n",
    "\n",
    "from sklearn.metrics import confusion_matrix, ConfusionMatrixDisplay\n",
    "import matplotlib.pyplot as plt\n",
    "%matplotlib inline"
   ]
  },
  {
   "cell_type": "code",
   "execution_count": null,
   "id": "similar-blond",
   "metadata": {},
   "outputs": [],
   "source": [
    "# load vars json\n",
    "with open('../../vars.json', 'r') as f:\n",
    "    session_vars = json.load(f)\n",
    "\n",
    "# Create the SQLAlchemy Context\n",
    "host = session_vars['environment']['host']\n",
    "username = session_vars['hierarchy']['users']['business_users'][1]['username']\n",
    "password = session_vars['hierarchy']['users']['business_users'][1]['password']\n",
    "\n",
    "eng = create_context(host=host, username=username, password=password)\n",
    "\n",
    "eng.execute(f'''SET SESSION COMPUTE GROUP {session_vars['hierarchy']['users']['business_users'][1]['compute_group']}''')\n",
    "\n",
    "# confirm connection\n",
    "print(eng)"
   ]
  },
  {
   "cell_type": "markdown",
   "id": "established-understanding",
   "metadata": {},
   "source": [
    "<hr>\n",
    "<p style = 'font-size:18px;font-family:Arial;color:#00233C'><b>1.1 - Inspect the Data</b></p>\n",
    "\n",
    "<p style = 'font-size:16px;font-family:Arial;color:#00233C'>Create a \"Virtual Dataframe\" which is a remote representation of the data set.  This allows us to operate on the data at remove/at scale using common pandas and python syntax.  <b>ColumnSummary</b> is a powerful in-built function for describing whole-data-set statistical information.</p>"
   ]
  },
  {
   "cell_type": "code",
   "execution_count": null,
   "id": "aerial-machinery",
   "metadata": {},
   "outputs": [],
   "source": [
    "tdf_reviews = DataFrame('\"demo_ofs\".\"Amazon_Fine_Foods_Reviews\"')"
   ]
  },
  {
   "cell_type": "code",
   "execution_count": null,
   "id": "relative-patch",
   "metadata": {},
   "outputs": [],
   "source": [
    "ipydisplay(tdf_reviews.shape)\n",
    "ipydisplay(tdf_reviews.sample(2))"
   ]
  },
  {
   "cell_type": "code",
   "execution_count": null,
   "id": "white-publicity",
   "metadata": {},
   "outputs": [],
   "source": [
    "res = ColumnSummary(data = tdf_reviews, target_columns = ['doc_id', 'rating', 'review'])\n",
    "res.result"
   ]
  },
  {
   "cell_type": "markdown",
   "id": "worse-worst",
   "metadata": {},
   "source": [
    "<hr>\n",
    "<p style = 'font-size:18px;font-family:Arial;color:#00233C'><b>1.2 Transform a numeric column to categorical</b></p>\n",
    "\n",
    "<p style = 'font-size:16px;font-family:Arial;color:#00233C'>Use <b>ConvertTo</b> to transform the \"rating\" column from INTEGER to VARCHAR data type.  Note ConvertTo can accept multiple columns, column ranges as TargetColumns and TargetDataType.  Next, check column dtypes and database datatype.</p>"
   ]
  },
  {
   "cell_type": "code",
   "execution_count": null,
   "id": "liable-lesson",
   "metadata": {},
   "outputs": [],
   "source": [
    "res = ConvertTo(data = tdf_reviews, \n",
    "                target_columns = 'rating', \n",
    "                target_datatype = 'VARCHAR(charlen=11,charset=UNICODE,casespecific=NO)')\n"
   ]
  },
  {
   "cell_type": "code",
   "execution_count": null,
   "id": "static-berry",
   "metadata": {},
   "outputs": [],
   "source": [
    "ipydisplay(res.result.dtypes)\n",
    "ipydisplay(res.result.tdtypes)"
   ]
  },
  {
   "cell_type": "markdown",
   "id": "biblical-programmer",
   "metadata": {},
   "source": [
    "<hr>\n",
    "\n",
    "<p style = 'font-size:18px;font-family:Arial;color:#00233C'><b>Test/Train Split</b></p>\n",
    "\n",
    "<p style = 'font-size:16px;font-family:Arial;color:#00233C'>Extraordinarily fast \"Sample\" function can split the data into multiple data sets in seconds.  Use Matplotlib to plot the distributions of each split.</p>"
   ]
  },
  {
   "cell_type": "code",
   "execution_count": null,
   "id": "stylish-tanzania",
   "metadata": {},
   "outputs": [],
   "source": [
    "tdf_samples = res.result.sample(frac = [0.02, 0.08])\n",
    "copy_to_sql(tdf_samples[tdf_samples['sampleid'] == 2], table_name = 'text_train', schema_name = 'demo_ofs', if_exists = 'replace')\n",
    "copy_to_sql(tdf_samples[tdf_samples['sampleid'] == 1], table_name = 'text_test', schema_name = 'demo_ofs', if_exists = 'replace')\n",
    "\n",
    "tdf_train = DataFrame('\"demo_ofs\".\"text_train\"')\n",
    "tdf_test = DataFrame('\"demo_ofs\".\"text_test\"')"
   ]
  },
  {
   "cell_type": "code",
   "execution_count": null,
   "id": "bottom-fossil",
   "metadata": {},
   "outputs": [],
   "source": [
    "fig, (ax1, ax2) = plt.subplots(ncols = 2)\n",
    "\n",
    "df1 = tdf_train.groupby('rating').count().to_pandas(index_column = 'rating')[['count_doc_id']]\n",
    "df1.sort_index().plot(kind = 'bar', ax = ax1)\n",
    "ax1.set_title(f'Training Set, {str(df1.sum()[0])} records')\n",
    "df2 = tdf_test.groupby('rating').count().to_pandas(index_column = 'rating')[['count_doc_id']]\n",
    "df2.sort_index().plot(kind = 'bar', ax = ax2)\n",
    "ax2.set_title(f'Testing Set, {str(df2.sum()[0])} records')\n",
    "\n",
    "plt.show()"
   ]
  },
  {
   "cell_type": "markdown",
   "id": "chemical-database",
   "metadata": {},
   "source": [
    "<hr>\n",
    "<p style = 'font-size:18px;font-family:Arial;color:#00233C'><b>1.4 - Use TextParser to prepare text for analysis</b></p>\n",
    "\n",
    "<p style = 'font-size:16px;font-family:Arial;color:#00233C'>The <a href = 'https://docs.teradata.com/r/Teradata-VantageTM-Analytics-Database-Analytic-Functions-17.20/Text-Analytic-Functions/TD_TextParser'>TextParser</a> Function performs the following actions:</p>\n",
    "\n",
    "<ul style = 'font-size:16px;font-family:Arial;color:#00233C'>\n",
    "    <li>Splits the text in the specified column into \"tokens\" based on a delimeter and creates a row for each token</li>\n",
    "    <li>Optionally removes select punctuation</li>\n",
    "    <li>Optionally converts the text to lowercase</li>\n",
    "    <li>Removes predefined \"Stop Words\" from the text</li>\n",
    "    <li>Performs \"Stemming\" operations to modify the token to its root form</li>\n",
    "    </ul>\n",
    "\n",
    "<p style = 'font-size:18px;font-family:Arial;color:#00233C'>Stop Words</p>\n",
    "<p style = 'font-size:16px;font-family:Arial;color:#00233C'>Stop Words are common words that don't provide much meaning, and are normally dropped from text prior to analysis or processing.  Common English Stop Words include \"a\", \"the\", \"and\", \"of\", etc.  For purposes of this demonstration, a Stop Words table has been created using the open-source Natural Language Toolkit (NLTK) <a href = 'https://gist.github.com/sebleier/554280'>list of stopwords</a>.</p>"
   ]
  },
  {
   "cell_type": "code",
   "execution_count": null,
   "id": "random-virtue",
   "metadata": {},
   "outputs": [],
   "source": [
    "tdf_stopwords = DataFrame('\"demo\".\"stop_words\"')\n",
    "tdf_stopwords.sample(5)"
   ]
  },
  {
   "cell_type": "code",
   "execution_count": null,
   "id": "tender-albany",
   "metadata": {},
   "outputs": [],
   "source": [
    "train_tokens = TextParser(data = tdf_train, \n",
    "                          object = tdf_stopwords, \n",
    "                          punctuation=\"!#$%&()*+<>\\\",-./:;?@\\\\^_`{|}~''\",\n",
    "                          delimiter=None,\n",
    "                          text_column = 'review', \n",
    "                          remove_stopwords = True,\n",
    "                          accumulate = ['doc_id', 'rating'])\n",
    "train_tokens.result.sample(5)"
   ]
  },
  {
   "cell_type": "markdown",
   "id": "going-peter",
   "metadata": {},
   "source": [
    "<hr>\n",
    "<p style = 'font-size:20px;font-family:Arial;color:#00233C'><b>Step 2 - Model Training</b></p>\n",
    "\n",
    "<p style = 'font-size:16px;font-family:Arial;color:#00233C'>The <a href = 'https://docs.teradata.com/r/Teradata-VantageTM-Analytics-Database-Analytic-Functions-17.20/Text-Analytic-Functions/TD_NaiveBayesTextClassifierTrainer'>NaiveBayesTextClassifierTrainer</a> Function takes the table of tokens, which retain their original rating id (id) and rating score (categorical from 1 to 5) as input, and writes out a model table containing the probability of each token's category(Score).  Function parameters include:</p>\n",
    "\n",
    "\n",
    "<ul style = 'font-size:16px;font-family:Arial;color:#00233C'>\n",
    "    <li>Column containing tokens</li>\n",
    "    <li>Column containing categories</li>\n",
    "    <li>Model Type - either Multinomial or Bernoulli.  Bernoulli is better for binary classification, where Multinonial is better for multiple classes</li>\n",
    "    </ul>"
   ]
  },
  {
   "cell_type": "code",
   "execution_count": null,
   "id": "efficient-subdivision",
   "metadata": {},
   "outputs": [],
   "source": [
    "model = NaiveBayesTextClassifierTrainer(data = train_tokens.result, \n",
    "                                        doc_category_column = 'rating', \n",
    "                                        token_column = 'token', \n",
    "                                       model_type = 'Multinomial')\n",
    "\n",
    "model.model_data"
   ]
  },
  {
   "cell_type": "markdown",
   "id": "experienced-basement",
   "metadata": {},
   "source": [
    "<hr>\n",
    "<p style = 'font-size:20px;font-family:Arial;color:#00233C'><b>Step 3 - Model Scoring and Evaluation</b></p>\n",
    "\n",
    "<p style = 'font-size:16px;font-family:Arial;color:#00233C'>Execute a testing prediction using the split data above.  Evaluate the model by creating a confusion matrix with the <a href = 'https://docs.teradata.com/r/Teradata-VantageTM-Analytics-Database-Analytic-Functions-17.20/Advanced-SQL-Engine-Analytic-Functions/TD_ClassificationEvaluator'>ClassificationEvaluator</a> Function.</p>\n",
    "\n",
    "\n",
    "<ol style = 'font-size:16px;font-family:Arial;color:#00233C'>\n",
    "    <li>Tokenize the Testing data that was split above - use the same function parameters</li>\n",
    "    <li>Execute <a href = 'https://docs.teradata.com/r/Teradata-VantageTM-Analytics-Database-Analytic-Functions-17.20/Text-Analytic-Functions/NaiveBayesTextClassifierPredict'>NaiveBayesTextClassifierPredict</a> using the model built above</li>\n",
    "    <li>Execute <a href = 'https://docs.teradata.com/r/Teradata-VantageTM-Analytics-Database-Analytic-Functions-17.20/Advanced-SQL-Engine-Analytic-Functions/TD_ClassificationEvaluator'>TD_ClassificationEvaluator</a> and pass the actual classification and the predicted value</li>\n",
    "    <li>Investigate the Confusion Matrix and additional metrics values</li>\n",
    "    </ol>"
   ]
  },
  {
   "cell_type": "markdown",
   "id": "grave-occupation",
   "metadata": {},
   "source": [
    "<hr>\n",
    "<p style = 'font-size:18px;font-family:Arial;color:#00233C'><b>3.1 Tokenize the Testing data</b></p>"
   ]
  },
  {
   "cell_type": "code",
   "execution_count": null,
   "id": "attended-illustration",
   "metadata": {},
   "outputs": [],
   "source": [
    "test_tokens = TextParser(data = tdf_test, object = tdf_stopwords, punctuation=\"!#$%&()*+<>\\\",-./:;?@\\\\^_`{|}~''\",\n",
    "                         delimiter=None,\n",
    "                text_column = 'review', remove_stopwords = True,\n",
    "                 accumulate = ['doc_id', 'rating'])\n",
    "\n",
    "test_tokens.result"
   ]
  },
  {
   "cell_type": "markdown",
   "id": "strategic-clinton",
   "metadata": {},
   "source": [
    "<hr>\n",
    "<p style = 'font-size:18px;font-family:Arial;color:#00233C'><b>3.2 Execute the Prediction Function</b></p>\n",
    "\n",
    "<p style = 'font-size:16px;font-family:Arial;color:#00233C'>The <a href = 'https://docs.teradata.com/r/Teradata-VantageTM-Analytics-Database-Analytic-Functions-17.20/Text-Analytic-Functions/NaiveBayesTextClassifierPredict'>NaiveBayesTextClassifierPredict</a> Function takes the model built using TD_NaiveBayesClassifierTrainer as input table, and outputs likelihood and probability information per document.  Additional parameters include (but are not limited to):</p>\n",
    "\n",
    "\n",
    "<ul style = 'font-size:16px;font-family:Arial;color:#00233C'>\n",
    "    <li>Trained model information</li>\n",
    "    <li>Input data table information</li>\n",
    "    <li>Various output parameters</li>\n",
    "    </ul>"
   ]
  },
  {
   "cell_type": "code",
   "execution_count": null,
   "id": "floating-dutch",
   "metadata": {},
   "outputs": [],
   "source": [
    "pred = NaiveBayesTextClassifierPredict(newdata = test_tokens.result, \n",
    "                                       object = model.model_data,\n",
    "                                       accumulate = ['rating'],\n",
    "                                       input_token_column = 'token',\n",
    "                                       responses = ['1','2','3','4','5'],\n",
    "                                       output_prob = True,\n",
    "                                       model_prob_column = 'prob',\n",
    "                                       model_category_column = 'category',\n",
    "                                       model_token_column = 'token', \n",
    "                                       doc_id_columns = 'doc_id',\n",
    "                                       newdata_partition_column = 'doc_id')\n",
    "pred.result"
   ]
  },
  {
   "cell_type": "markdown",
   "id": "considerable-cincinnati",
   "metadata": {},
   "source": [
    "<hr>\n",
    "<p style = 'font-size:18px;font-family:Arial;color:#00233C'><b>3.3 - Evaluate the Model Accuracy</b></p>\n",
    "\n",
    "<p style = 'font-size:16px;font-family:Arial;color:#00233C'>Evaluate the model by creating a confusion matrix with the <a href = 'https://docs.teradata.com/r/Teradata-VantageTM-Analytics-Database-Analytic-Functions-17.20/Advanced-SQL-Engine-Analytic-Functions/TD_ClassificationEvaluator'>ClassificationEvaluator</a> Function.</p>\n",
    "\n",
    "\n",
    "<ol style = 'font-size:16px;font-family:Arial;color:#00233C'>\n",
    "    <li>Execute <a href = 'https://docs.teradata.com/r/Teradata-VantageTM-Analytics-Database-Analytic-Functions-17.20/Advanced-SQL-Engine-Analytic-Functions/TD_ClassificationEvaluator'>ClassificationEvaluator</a> and pass the actual classification and the predicted value</li>\n",
    "    <li>Investigate the Confusion Matrix and additional metrics values</li>\n",
    "    <li>Alternatively, create a heatmap using open-source tools</li>\n",
    "    </ol>"
   ]
  },
  {
   "cell_type": "code",
   "execution_count": null,
   "id": "collective-coffee",
   "metadata": {},
   "outputs": [],
   "source": [
    "acc = ClassificationEvaluator(data = pred.result[['prediction','rating']], num_labels = 5,\n",
    "                              observation_column = 'rating', prediction_column = 'prediction')"
   ]
  },
  {
   "cell_type": "code",
   "execution_count": null,
   "id": "martial-leader",
   "metadata": {},
   "outputs": [],
   "source": [
    "ipydisplay(acc.result)\n",
    "ipydisplay(acc.output_data)"
   ]
  },
  {
   "cell_type": "code",
   "execution_count": null,
   "id": "finished-mobile",
   "metadata": {},
   "outputs": [],
   "source": [
    "df_pred = pred.result.to_pandas()\n",
    "cm = confusion_matrix(df_pred['rating'], df_pred['prediction'])\n",
    "disp = ConfusionMatrixDisplay(confusion_matrix = cm, display_labels = ['1', '2', '3', '4', '5'])\n",
    "fig, ax = plt.subplots(figsize=(10,10))\n",
    "disp.plot(ax=ax)\n",
    "\n",
    "plt.show()"
   ]
  },
  {
   "cell_type": "markdown",
   "id": "virtual-component",
   "metadata": {},
   "source": [
    "<hr>\n",
    "<p style = 'font-size:18px;font-family:Arial;color:#00233C'>Cleanup</p>"
   ]
  },
  {
   "cell_type": "code",
   "execution_count": null,
   "id": "careful-indicator",
   "metadata": {},
   "outputs": [],
   "source": [
    "db_drop_table('text_train', schema_name = 'demo_ofs')\n",
    "db_drop_table('text_test', schema_name = 'demo_ofs')"
   ]
  },
  {
   "cell_type": "code",
   "execution_count": null,
   "id": "indonesian-president",
   "metadata": {},
   "outputs": [],
   "source": [
    "remove_context()"
   ]
  },
  {
   "cell_type": "code",
   "execution_count": null,
   "id": "manufactured-huntington",
   "metadata": {},
   "outputs": [],
   "source": []
  }
 ],
 "metadata": {
  "kernelspec": {
   "display_name": "Python 3 (ipykernel)",
   "language": "python",
   "name": "python3"
  },
  "language_info": {
   "codemirror_mode": {
    "name": "ipython",
    "version": 3
   },
   "file_extension": ".py",
   "mimetype": "text/x-python",
   "name": "python",
   "nbconvert_exporter": "python",
   "pygments_lexer": "ipython3",
   "version": "3.8.8"
  }
 },
 "nbformat": 4,
 "nbformat_minor": 5
}
