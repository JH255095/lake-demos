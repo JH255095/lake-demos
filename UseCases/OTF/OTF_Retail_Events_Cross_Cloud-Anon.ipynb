{
 "cells": [
  {
   "cell_type": "markdown",
   "id": "overall-elder",
   "metadata": {},
   "source": [
    "<header>\n",
    "   <p  style='font-size:36px;font-family:Arial; color:#F0F0F0; background-color: #00233c; padding-left: 20pt; padding-top: 20pt;padding-bottom: 10pt; padding-right: 20pt;'>\n",
    "       Connect and analyze Open Table Format data across clouds and catalogs\n",
    "  <br>\n",
    "       <img id=\"teradata-logo\" src=\"../../images/TeradataLogo.png\" alt=\"Teradata\" style=\"width: 125px; height: auto; margin-top: 20pt;\">\n",
    "    </p>\n",
    "</header>\n",
    "<hr>"
   ]
  },
  {
   "cell_type": "markdown",
   "id": "stylish-visit",
   "metadata": {},
   "source": [
    "<img src=\"images/What_is_OTF.png\" style=\"width:600px\">\n",
    "<div style=\"position:absolute;top:120px;left:700px;color:#00233C\">\n",
    "    <p>Brings data warehouse capabilities for managing data to the data lake\n",
    "        <li>Table abstraction</li>\n",
    "        <li>Open metadata specification</li>\n",
    "        <li>ACID for concurrent reads/writes</li>\n",
    "        <li>Table evolution : Schema evolution, Partition evolution, Sort order evolution\n",
    "        <li>Time travel</li>\n",
    "        <li>Support multiple file formats</li>\n",
    "    </p>\n",
    "<div>"
   ]
  },
  {
   "cell_type": "code",
   "execution_count": 2,
   "id": "declared-characteristic",
   "metadata": {},
   "outputs": [
    {
     "name": "stdout",
     "output_type": "stream",
     "text": [
      "Success: 'tf_demo' connection added"
     ]
    }
   ],
   "source": [
    "%addconnect name=otf_demo, host=XXX.XXX.XXX.XXX"
   ]
  },
  {
   "cell_type": "code",
   "execution_count": 4,
   "id": "least-worth",
   "metadata": {},
   "outputs": [
    {
     "name": "stdin",
     "output_type": "stream",
     "text": [
      "Password: ········\n"
     ]
    },
    {
     "name": "stdout",
     "output_type": "stream",
     "text": [
      "Success: 'otf_demo' connection established and activated for user 'data_engineer'\n"
     ]
    }
   ],
   "source": [
    "%connect otf_demo, user=data_engineer, hidewarnings=True"
   ]
  },
  {
   "cell_type": "markdown",
   "id": "foster-diploma",
   "metadata": {},
   "source": [
    "<h3 style = 'color:#00233C'>Establish connectivity to <strong style = 'color:#009FDB'>AWS Glue</strong> data lake </h3>"
   ]
  },
  {
   "cell_type": "code",
   "execution_count": 4,
   "id": "original-update",
   "metadata": {},
   "outputs": [
    {
     "data": {
      "text/plain": [
       "Success: 0 rows affected"
      ]
     },
     "execution_count": 4,
     "metadata": {
      "application/vnd.teradata.resultset": ""
     },
     "output_type": "execute_result"
    }
   ],
   "source": [
    "--First, we'll create an authorization to establish the credendials for AWS resources\n",
    "REPLACE AUTHORIZATION glue_auth_aws\n",
    "AS INVOKER TRUSTED\n",
    "USER 'EXAMPLE'\n",
    "PASSWORD 'EXAMPLE';"
   ]
  },
  {
   "cell_type": "code",
   "execution_count": 3,
   "id": "corrected-feature",
   "metadata": {
    "tags": []
   },
   "outputs": [
    {
     "data": {
      "text/plain": [
       "Success: 9 rows affected"
      ]
     },
     "execution_count": 3,
     "metadata": {
      "application/vnd.teradata.resultset": ""
     },
     "output_type": "execute_result"
    }
   ],
   "source": [
    "--Second we create the connectivity to the Iceberg Glue Data Lake\n",
    "REPLACE DATALAKE aws_glue_catalog\n",
    "EXTERNAL SECURITY INVOKER TRUSTED CATALOG glue_auth_aws,\n",
    "EXTERNAL SECURITY INVOKER TRUSTED STORAGE glue_auth_aws\n",
    "USING\n",
    "storage_location ('s3://samplebucket/glue-db')\n",
    "catalog_type ('glue')\n",
    "storage_region ('us-west-2')\n",
    "TABLE FORMAT iceberg;"
   ]
  },
  {
   "cell_type": "markdown",
   "id": "separate-tamil",
   "metadata": {},
   "source": [
    "<h3 style = 'color:#00233C'>Establish connectivity to <strong style = 'color:#009FDB'>Azure Unity</strong> data lake </h3>"
   ]
  },
  {
   "cell_type": "code",
   "execution_count": 6,
   "id": "inner-growing",
   "metadata": {},
   "outputs": [
    {
     "data": {
      "text/plain": [
       "Success: 0 rows affected"
      ]
     },
     "execution_count": 6,
     "metadata": {
      "application/vnd.teradata.resultset": ""
     },
     "output_type": "execute_result"
    }
   ],
   "source": [
    "--First, we'll create an authorization to establish the credendials for Azure resources\n",
    "REPLACE AUTHORIZATION unity_auth_azure\n",
    "AS INVOKER TRUSTED \n",
    "-- Azure AD service principal client id\n",
    "USER 'EXAMPLE'\n",
    "-- Azure AD service principal client secret key\n",
    "PASSWORD 'EXAMPLE';"
   ]
  },
  {
   "cell_type": "code",
   "execution_count": 4,
   "id": "ignored-engine",
   "metadata": {},
   "outputs": [
    {
     "data": {
      "text/plain": [
       "Success: 11 rows affected"
      ]
     },
     "execution_count": 4,
     "metadata": {
      "application/vnd.teradata.resultset": ""
     },
     "output_type": "execute_result"
    }
   ],
   "source": [
    "--Second we create the connectivity to the Iceberg Unity Data Lake\n",
    "REPLACE DATALAKE azure_unity_catalog\n",
    "EXTERNAL SECURITY INVOKER TRUSTED CATALOG unity_auth_azure,\n",
    "EXTERNAL SECURITY INVOKER TRUSTED STORAGE unity_auth_azure\n",
    "USING\n",
    "catalog_type ('unity')\n",
    "catalog_location ('https://samplelocation.azuredatabricks.net/api/2.1/unity-catalog/iceberg')\n",
    "unity_catalog_name ('demo_catalog')\n",
    "storage_account_name ('sampleaccount')\n",
    "tenant_id ('sampletenant')\n",
    "TABLE FORMAT iceberg;"
   ]
  },
  {
   "cell_type": "markdown",
   "id": "flying-influence",
   "metadata": {},
   "source": [
    "<h3 style = ';color:#00233C'> Now let's confirm our OTF Iceberg Data Lakes </h3>"
   ]
  },
  {
   "cell_type": "code",
   "execution_count": 5,
   "id": "naughty-tender",
   "metadata": {
    "tags": []
   },
   "outputs": [
    {
     "data": {
      "application/vnd.teradata.resultset": "\"ServerName\",\"CreateTimeStamp\",\"AuthorizationName\",\"TableFormat\"\n\"azure_unity_catalog\",\"2024-06-10 15:19:03\",\"UNITY_AUTH_AZURE\",\"ICEBERG\"\n\"aws_glue_catalog\",\"2024-04-05 17:38:41\",\"GLUE_AUTH_AWS\",\"ICEBERG\"\n\"aws_glue_catalog_ng\",\"2024-07-11 02:55:17\",\"GLUE_AUTH_AWS_NG\",\"ICEBERG\"",
      "text/html": [
       "<div class = \"td-resultset-table-div\" style = \"max-height: 100%; overflow-y: auto\">\n",
       "      <table class=\"tdhistory278976\"><style>\n",
       "      table.tdhistory278976 { display: block !important; min-height: 147px !important; overflow: auto !important; height: 147px !important; width: 100% !important; border: 1px solid rgb(207, 207, 207) !important; border-collapse: collapse !important; ; color: var(--jp-ui-font-color1) !important; }\n",
       "      th.tdhistory278976 { border: 1px solid rgb(198,198,198) !important; border-collapse: collapse !important; ; padding: 2px 5px !important; ; font-size: 13px !important; ; text-align: center !important; white-space: normal !important; color: var(--jp-ui-font-color1) !important; }\n",
       "      th.tdhistory278976:last-child { text-align: left !important; }\n",
       "      tbody.tdhistory278976 tr:nth-child(even) { background: rgba(243, 243, 243, 0.75) !important; }\n",
       "      tbody.tdhistory278976 tr:nth-child(odd) { background: var(--jp-ui-inverse-font-color1) !important; }\n",
       "      td.tdhistory278976 { border: 1px solid rgb(207, 207, 207) !important; border-collapse: collapse !important; ; padding: 2px 5px !important; ; font-size: 13px !important; ; text-align: left !important;          white-space: nowrap !important; overflow:hidden !important; text-overflow:ellipsis !important;; }\n",
       "    </style><thead><tr style= \"background: rgba(243, 243, 243, 0.75)\"><th class=\"tdhistory278976\"></th><th class=\"tdhistory278976\">ServerName</th><th class=\"tdhistory278976\">CreateTimeStamp</th><th class=\"tdhistory278976\">AuthorizationName</th><th class=\"tdhistory278976\">TableFormat</th></tr></thead><tbody class=\"tdhistory278976 resultset-body\"><tr><th class=\"tdhistory278976\" style= \"background: rgba(243, 243, 243, 0.75)\">1</th><td class=\"tdhistory278976\">azure_unity_catalog</td><td class=\"tdhistory278976\">2024-06-10 15:19:03</td><td class=\"tdhistory278976\">UNITY_AUTH_AZURE</td><td class=\"tdhistory278976\">ICEBERG</td></tr><tr><th class=\"tdhistory278976\" style= \"background: rgba(243, 243, 243, 0.75)\">2</th><td class=\"tdhistory278976\">aws_glue_catalog</td><td class=\"tdhistory278976\">2024-04-05 17:38:41</td><td class=\"tdhistory278976\">GLUE_AUTH_AWS</td><td class=\"tdhistory278976\">ICEBERG</td></tr><tr><th class=\"tdhistory278976\" style= \"background: rgba(243, 243, 243, 0.75)\">3</th><td class=\"tdhistory278976\">aws_glue_catalog_ng</td><td class=\"tdhistory278976\">2024-07-11 02:55:17</td><td class=\"tdhistory278976\">GLUE_AUTH_AWS_NG</td><td class=\"tdhistory278976\">ICEBERG</td></tr></tbody></table></div>"
      ]
     },
     "execution_count": 5,
     "metadata": {
      "application/vnd.teradata.resultset": "{\"resultSetID\":\"/home/jovyan/JupyterLabRoot/Teradata/Resultsets/2024.09.12_16.32.42.112_UTC\",\"historyID\":12277,\"chunkID\":\"00001\",\"sessionid\":\"\",\"portnum\":\"\",\"dockermode\":\"docker\",\"totalRowCount\":3,\"chunkCount\":0,\"rowLimit\":0,\"columnMetadata\":[{\"columnName\":\"ServerName\",\"columnTypeName\":\"VARCHAR\",\"length\":128,\"scale\":128},{\"columnNumber\":1,\"columnName\":\"CreateTimeStamp\",\"columnTypeName\":\"TIMESTAMP\"},{\"columnNumber\":2,\"columnName\":\"AuthorizationName\",\"columnTypeName\":\"VARCHAR\",\"length\":128,\"scale\":128},{\"columnNumber\":3,\"columnName\":\"TableFormat\",\"columnTypeName\":\"VARCHAR\",\"length\":9,\"scale\":9}]}"
     },
     "output_type": "execute_result"
    }
   ],
   "source": [
    "SELECT servername, createtimestamp, authorizationname, tableformat \n",
    "FROM dbc.serverv\n",
    "WHERE ServerName like '%aws%' OR\n",
    "      Servername like '%azure%';"
   ]
  },
  {
   "cell_type": "markdown",
   "id": "dominant-tuition",
   "metadata": {
    "tags": []
   },
   "source": [
    "<h2 style = 'font-size:28px;font-family:Arial;color:#00233C'>Let's discover what is available in each of our Iceberg Data Lakes</h2><br>\n",
    "<img src=\"images/VCL_Iceberg_Data_Lakes.png\" style=\"width:500px\">\n",
    "<div style=\"position:absolute;top:60px;left:560px\">\n",
    "    <p>1) Inspect what databases are available in each catalog</p>\n",
    "    <p>2) Retrieve the tables are available in the database</p>\n",
    "    <p>3) Inspect the columns in the table(s)</p>\n",
    "    <p>4) Explore the metadata content available in the catalog (snapshots, manifests, history, partitions)</p>\n",
    "    <p>5) We will query data from the Iceberg Data Lake</p>\n",
    "    <p>6) We will join data across clouds and catalogs</p>\n",
    "    <div>"
   ]
  },
  {
   "cell_type": "markdown",
   "id": "alpha-incident",
   "metadata": {
    "tags": []
   },
   "source": [
    "<h3 style = 'color:#00233C'>Show all databases in each catalog</h3>"
   ]
  },
  {
   "cell_type": "code",
   "execution_count": null,
   "id": "nutritional-crisis",
   "metadata": {
    "tags": []
   },
   "outputs": [],
   "source": [
    "HELP DATALAKE aws_glue_catalog;"
   ]
  },
  {
   "cell_type": "code",
   "execution_count": 7,
   "id": "rolled-metabolism",
   "metadata": {
    "tags": []
   },
   "outputs": [
    {
     "data": {
      "application/vnd.teradata.resultset": "\"DatabaseName\",\"DatabaseProperties\"\n\"default\",\"\"\n\"information_schema\",\"\"\n\"retail_schema\",\"\"",
      "text/html": [
       "<div class = \"td-resultset-table-div\" style = \"max-height: 100%; overflow-y: auto\">\n",
       "      <table class=\"tdhistory89661\"><style>\n",
       "      table.tdhistory89661 { display: block !important; min-height: 147px !important; overflow: auto !important; height: 147px !important; width: 100% !important; border: 1px solid rgb(207, 207, 207) !important; border-collapse: collapse !important; ; color: var(--jp-ui-font-color1) !important; }\n",
       "      th.tdhistory89661 { border: 1px solid rgb(198,198,198) !important; border-collapse: collapse !important; ; padding: 2px 5px !important; ; font-size: 13px !important; ; text-align: center !important; white-space: normal !important; color: var(--jp-ui-font-color1) !important; }\n",
       "      th.tdhistory89661:last-child { text-align: left !important; }\n",
       "      tbody.tdhistory89661 tr:nth-child(even) { background: rgba(243, 243, 243, 0.75) !important; }\n",
       "      tbody.tdhistory89661 tr:nth-child(odd) { background: var(--jp-ui-inverse-font-color1) !important; }\n",
       "      td.tdhistory89661 { border: 1px solid rgb(207, 207, 207) !important; border-collapse: collapse !important; ; padding: 2px 5px !important; ; font-size: 13px !important; ; text-align: left !important;          white-space: nowrap !important; overflow:hidden !important; text-overflow:ellipsis !important;; }\n",
       "    </style><thead><tr style= \"background: rgba(243, 243, 243, 0.75)\"><th class=\"tdhistory89661\"></th><th class=\"tdhistory89661\">DatabaseName</th><th class=\"tdhistory89661\">DatabaseProperties</th></tr></thead><tbody class=\"tdhistory89661 resultset-body\"><tr><th class=\"tdhistory89661\" style= \"background: rgba(243, 243, 243, 0.75)\">1</th><td class=\"tdhistory89661\">default</td><td class=\"tdhistory89661\"></td></tr><tr><th class=\"tdhistory89661\" style= \"background: rgba(243, 243, 243, 0.75)\">2</th><td class=\"tdhistory89661\">information_schema</td><td class=\"tdhistory89661\"></td></tr><tr><th class=\"tdhistory89661\" style= \"background: rgba(243, 243, 243, 0.75)\">3</th><td class=\"tdhistory89661\">retail_schema</td><td class=\"tdhistory89661\"></td></tr></tbody></table></div>"
      ]
     },
     "execution_count": 7,
     "metadata": {
      "application/vnd.teradata.resultset": "{\"resultSetID\":\"/home/jovyan/JupyterLabRoot/Teradata/Resultsets/2024.09.12_16.33.02.238_UTC\",\"historyID\":12279,\"chunkID\":\"00001\",\"sessionid\":\"\",\"portnum\":\"\",\"dockermode\":\"docker\",\"totalRowCount\":3,\"chunkCount\":0,\"rowLimit\":0,\"columnMetadata\":[{\"columnName\":\"DatabaseName\",\"columnTypeName\":\"LONG VARCHAR\",\"length\":32000,\"scale\":32000},{\"columnNumber\":1,\"columnName\":\"DatabaseProperties\",\"columnTypeName\":\"LONG VARCHAR\",\"length\":32000,\"scale\":32000}]}"
     },
     "output_type": "execute_result"
    }
   ],
   "source": [
    "HELP DATALAKE azure_unity_catalog;"
   ]
  },
  {
   "cell_type": "markdown",
   "id": "proud-revelation",
   "metadata": {
    "tags": []
   },
   "source": [
    "<h3 style = 'color:#00233C'>Show all tables in AWS Glue <strong style = 'color:#009FDB'>aws_glue_catalog.tddemos_glue_db</strong> database </h3>"
   ]
  },
  {
   "cell_type": "code",
   "execution_count": 8,
   "id": "extra-triumph",
   "metadata": {
    "tags": []
   },
   "outputs": [
    {
     "data": {
      "application/vnd.teradata.resultset": "\"TableName\",\"TableProperties\"\n\"analytic_data_set\",\"'teradata.purge.all'='true','write.object-storage.enabled'='true','write.parquet.compression-codec'='zstd'\"\n\"customer_journey\",\"'teradata.purge.all'='true','write.object-storage.enabled'='true','write.parquet.compression-codec'='zstd'\"\n\"glove_6b_50d\",\"'teradata.purge.all'='true','write.object-storage.enabled'='true','write.parquet.compression-codec'='zstd'\"\n\"retail_events\",\"'write.format.default'='PARQUET','write.object-storage.enabled'='true','write.parquet.compression-codec'='ZSTD'\"\n\"uk_retail_data\",\"'teradata.purge.all'='true','write.object-storage.enabled'='true','write.parquet.compression-codec'='zstd'\"\n\"web_comment\",\"'teradata.purge.all'='true','write.object-storage.enabled'='true','write.parquet.compression-codec'='zstd'\"",
      "text/html": [
       "<div class = \"td-resultset-table-div\" style = \"max-height: 100%; overflow-y: auto\">\n",
       "      <table class=\"tdhistory886461\"><style>\n",
       "      table.tdhistory886461 { display: block !important; min-height: 210px !important; overflow: auto !important; height: 210px !important; width: 100% !important; border: 1px solid rgb(207, 207, 207) !important; border-collapse: collapse !important; ; color: var(--jp-ui-font-color1) !important; }\n",
       "      th.tdhistory886461 { border: 1px solid rgb(198,198,198) !important; border-collapse: collapse !important; ; padding: 2px 5px !important; ; font-size: 13px !important; ; text-align: center !important; white-space: normal !important; color: var(--jp-ui-font-color1) !important; }\n",
       "      th.tdhistory886461:last-child { text-align: left !important; }\n",
       "      tbody.tdhistory886461 tr:nth-child(even) { background: rgba(243, 243, 243, 0.75) !important; }\n",
       "      tbody.tdhistory886461 tr:nth-child(odd) { background: var(--jp-ui-inverse-font-color1) !important; }\n",
       "      td.tdhistory886461 { border: 1px solid rgb(207, 207, 207) !important; border-collapse: collapse !important; ; padding: 2px 5px !important; ; font-size: 13px !important; ; text-align: left !important;          white-space: nowrap !important; overflow:hidden !important; text-overflow:ellipsis !important;; }\n",
       "    </style><thead><tr style= \"background: rgba(243, 243, 243, 0.75)\"><th class=\"tdhistory886461\"></th><th class=\"tdhistory886461\">TableName</th><th class=\"tdhistory886461\">TableProperties</th></tr></thead><tbody class=\"tdhistory886461 resultset-body\"><tr><th class=\"tdhistory886461\" style= \"background: rgba(243, 243, 243, 0.75)\">1</th><td class=\"tdhistory886461\">analytic_data_set</td><td class=\"tdhistory886461\">'teradata.purge.all'='true','write.object-storage.enabled'='true','write.parquet.compression-codec'='zstd'</td></tr><tr><th class=\"tdhistory886461\" style= \"background: rgba(243, 243, 243, 0.75)\">2</th><td class=\"tdhistory886461\">customer_journey</td><td class=\"tdhistory886461\">'teradata.purge.all'='true','write.object-storage.enabled'='true','write.parquet.compression-codec'='zstd'</td></tr><tr><th class=\"tdhistory886461\" style= \"background: rgba(243, 243, 243, 0.75)\">3</th><td class=\"tdhistory886461\">glove_6b_50d</td><td class=\"tdhistory886461\">'teradata.purge.all'='true','write.object-storage.enabled'='true','write.parquet.compression-codec'='zstd'</td></tr><tr><th class=\"tdhistory886461\" style= \"background: rgba(243, 243, 243, 0.75)\">4</th><td class=\"tdhistory886461\">retail_events</td><td class=\"tdhistory886461\">'write.format.default'='PARQUET','write.object-storage.enabled'='true','write.parquet.compression-codec'='ZSTD'</td></tr><tr><th class=\"tdhistory886461\" style= \"background: rgba(243, 243, 243, 0.75)\">5</th><td class=\"tdhistory886461\">uk_retail_data</td><td class=\"tdhistory886461\">'teradata.purge.all'='true','write.object-storage.enabled'='true','write.parquet.compression-codec'='zstd'</td></tr><tr><th class=\"tdhistory886461\" style= \"background: rgba(243, 243, 243, 0.75)\">6</th><td class=\"tdhistory886461\">web_comment</td><td class=\"tdhistory886461\">'teradata.purge.all'='true','write.object-storage.enabled'='true','write.parquet.compression-codec'='zstd'</td></tr></tbody></table></div>"
      ]
     },
     "execution_count": 8,
     "metadata": {
      "application/vnd.teradata.resultset": "{\"resultSetID\":\"/home/jovyan/JupyterLabRoot/Teradata/Resultsets/2024.09.12_16.33.04.021_UTC\",\"historyID\":12280,\"chunkID\":\"00001\",\"sessionid\":\"\",\"portnum\":\"\",\"dockermode\":\"docker\",\"totalRowCount\":6,\"chunkCount\":0,\"rowLimit\":0,\"columnMetadata\":[{\"columnName\":\"TableName\",\"columnTypeName\":\"LONG VARCHAR\",\"length\":32000,\"scale\":32000},{\"columnNumber\":1,\"columnName\":\"TableProperties\",\"columnTypeName\":\"LONG VARCHAR\",\"length\":32000,\"scale\":32000}]}"
     },
     "output_type": "execute_result"
    }
   ],
   "source": [
    "HELP DATABASE aws_glue_catalog.tddemos_glue_db;"
   ]
  },
  {
   "cell_type": "markdown",
   "id": "driving-counter",
   "metadata": {
    "tags": []
   },
   "source": [
    "<h3 style = 'color:#00233C'>Show all columns in AWS Glue <strong style = 'color:#009FDB'>aws_glue_catalog.tddemos_glue_db.retail_events</strong> table </h3>"
   ]
  },
  {
   "cell_type": "code",
   "execution_count": 9,
   "id": "reflected-submission",
   "metadata": {
    "tags": []
   },
   "outputs": [
    {
     "data": {
      "application/vnd.teradata.resultset": "\"ColumnName\",\"IcebergType\",\"TeradataType\"\n\"customer_id\",\"int\",\"INTEGER_DT\"\n\"datestamp\",\"timestamp\",\"TIMESTAMP_DT\"\n\"event\",\"string\",\"VARCHAR_DT(32) CHARACTER SET UNICODE\"",
      "text/html": [
       "<div class = \"td-resultset-table-div\" style = \"max-height: 100%; overflow-y: auto\">\n",
       "      <table class=\"tdhistory136710\"><style>\n",
       "      table.tdhistory136710 { display: block !important; min-height: 147px !important; overflow: auto !important; height: 147px !important; width: 100% !important; border: 1px solid rgb(207, 207, 207) !important; border-collapse: collapse !important; ; color: var(--jp-ui-font-color1) !important; }\n",
       "      th.tdhistory136710 { border: 1px solid rgb(198,198,198) !important; border-collapse: collapse !important; ; padding: 2px 5px !important; ; font-size: 13px !important; ; text-align: center !important; white-space: normal !important; color: var(--jp-ui-font-color1) !important; }\n",
       "      th.tdhistory136710:last-child { text-align: left !important; }\n",
       "      tbody.tdhistory136710 tr:nth-child(even) { background: rgba(243, 243, 243, 0.75) !important; }\n",
       "      tbody.tdhistory136710 tr:nth-child(odd) { background: var(--jp-ui-inverse-font-color1) !important; }\n",
       "      td.tdhistory136710 { border: 1px solid rgb(207, 207, 207) !important; border-collapse: collapse !important; ; padding: 2px 5px !important; ; font-size: 13px !important; ; text-align: left !important;          white-space: nowrap !important; overflow:hidden !important; text-overflow:ellipsis !important;; }\n",
       "    </style><thead><tr style= \"background: rgba(243, 243, 243, 0.75)\"><th class=\"tdhistory136710\"></th><th class=\"tdhistory136710\">ColumnName</th><th class=\"tdhistory136710\">IcebergType</th><th class=\"tdhistory136710\">TeradataType</th></tr></thead><tbody class=\"tdhistory136710 resultset-body\"><tr><th class=\"tdhistory136710\" style= \"background: rgba(243, 243, 243, 0.75)\">1</th><td class=\"tdhistory136710\">customer_id</td><td class=\"tdhistory136710\">int</td><td class=\"tdhistory136710\">INTEGER_DT</td></tr><tr><th class=\"tdhistory136710\" style= \"background: rgba(243, 243, 243, 0.75)\">2</th><td class=\"tdhistory136710\">datestamp</td><td class=\"tdhistory136710\">timestamp</td><td class=\"tdhistory136710\">TIMESTAMP_DT</td></tr><tr><th class=\"tdhistory136710\" style= \"background: rgba(243, 243, 243, 0.75)\">3</th><td class=\"tdhistory136710\">event</td><td class=\"tdhistory136710\">string</td><td class=\"tdhistory136710\">VARCHAR_DT(32) CHARACTER SET UNICODE</td></tr></tbody></table></div>"
      ]
     },
     "execution_count": 9,
     "metadata": {
      "application/vnd.teradata.resultset": "{\"resultSetID\":\"/home/jovyan/JupyterLabRoot/Teradata/Resultsets/2024.09.12_16.33.07.507_UTC\",\"historyID\":12281,\"chunkID\":\"00001\",\"sessionid\":\"\",\"portnum\":\"\",\"dockermode\":\"docker\",\"totalRowCount\":3,\"chunkCount\":0,\"rowLimit\":0,\"columnMetadata\":[{\"columnName\":\"ColumnName\",\"columnTypeName\":\"VARCHAR\",\"length\":128,\"scale\":128},{\"columnNumber\":1,\"columnName\":\"IcebergType\",\"columnTypeName\":\"VARCHAR\",\"length\":128,\"scale\":128},{\"columnNumber\":2,\"columnName\":\"TeradataType\",\"columnTypeName\":\"VARCHAR\",\"length\":128,\"scale\":128}]}"
     },
     "output_type": "execute_result"
    }
   ],
   "source": [
    "HELP TABLE aws_glue_catalog.tddemos_glue_db.retail_events;"
   ]
  },
  {
   "cell_type": "markdown",
   "id": "following-dispatch",
   "metadata": {},
   "source": [
    "<img src=\"images/Apache Iceberg OTF Logical Architecture.png\" style=\"width:800px\">"
   ]
  },
  {
   "cell_type": "markdown",
   "id": "amazing-relaxation",
   "metadata": {
    "tags": []
   },
   "source": [
    "<h3 style = ';color:#00233C'>Explore time travel available in the AWS Glue <strong style = 'color:#727272'>aws_glue_catalog.tddemos_glue_db.retail_events</strong> table </h3>"
   ]
  },
  {
   "cell_type": "code",
   "execution_count": null,
   "id": "everyday-sequence",
   "metadata": {
    "tags": []
   },
   "outputs": [],
   "source": [
    "--Show snapshots for AWS Glue datalake_iceberg_glue.tddemos_glue_db.retail_events table\n",
    "SELECT * FROM TD_SNAPSHOTS(ON (aws_glue_catalog.tddemos_glue_db.retail_events)) D;"
   ]
  },
  {
   "cell_type": "code",
   "execution_count": 11,
   "id": "hearing-heath",
   "metadata": {
    "tags": []
   },
   "outputs": [
    {
     "data": {
      "application/vnd.teradata.resultset": "\"customer_id\",\"datestamp\",\"event\"\n\"113169\",\"2018-04-11 11:45:00.000000\",\"Web Chat\"\n\"105623\",\"2018-04-08 13:27:00.000000\",\"Return Policy In\"\n\"224320\",\"2018-04-08 07:43:00.000000\",\"Product Browsing\"\n\"28886\",\"2018-05-15 11:59:00.000000\",\"Mem Purchase\"\n\"24596\",\"2018-04-17 00:25:00.000000\",\"Neutral Call\"\n\"32596\",\"2018-04-08 21:03:00.000000\",\"Purchase\"\n\"112739\",\"2018-05-13 15:22:00.000000\",\"Product Browsing\"\n\"47794\",\"2018-03-21 03:44:00.000000\",\"Neutral Call\"\n\"65776\",\"2018-03-19 12:22:00.000000\",\"Neutral Call\"\n\"52873\",\"2018-05-08 11:55:00.000000\",\"Web Chat\"",
      "text/html": [
       "<div class = \"td-resultset-table-div\" style = \"max-height: 100%; overflow-y: auto\">\n",
       "      <table class=\"tdhistory157203\"><style>\n",
       "      table.tdhistory157203 { display: block !important; min-height: 294px !important; overflow: auto !important; height: 294px !important; width: 100% !important; border: 1px solid rgb(207, 207, 207) !important; border-collapse: collapse !important; ; color: var(--jp-ui-font-color1) !important; }\n",
       "      th.tdhistory157203 { border: 1px solid rgb(198,198,198) !important; border-collapse: collapse !important; ; padding: 2px 5px !important; ; font-size: 13px !important; ; text-align: center !important; white-space: normal !important; color: var(--jp-ui-font-color1) !important; }\n",
       "      th.tdhistory157203:last-child { text-align: left !important; }\n",
       "      tbody.tdhistory157203 tr:nth-child(even) { background: rgba(243, 243, 243, 0.75) !important; }\n",
       "      tbody.tdhistory157203 tr:nth-child(odd) { background: var(--jp-ui-inverse-font-color1) !important; }\n",
       "      td.tdhistory157203 { border: 1px solid rgb(207, 207, 207) !important; border-collapse: collapse !important; ; padding: 2px 5px !important; ; font-size: 13px !important; ; text-align: left !important;          white-space: nowrap !important; overflow:hidden !important; text-overflow:ellipsis !important;; }\n",
       "    </style><thead><tr style= \"background: rgba(243, 243, 243, 0.75)\"><th class=\"tdhistory157203\"></th><th class=\"tdhistory157203\">customer_id</th><th class=\"tdhistory157203\">datestamp</th><th class=\"tdhistory157203\">event</th></tr></thead><tbody class=\"tdhistory157203 resultset-body\"><tr><th class=\"tdhistory157203\" style= \"background: rgba(243, 243, 243, 0.75)\">1</th><td class=\"tdhistory157203\">113169</td><td class=\"tdhistory157203\">2018-04-11 11:45:00.000000</td><td class=\"tdhistory157203\">Web Chat</td></tr><tr><th class=\"tdhistory157203\" style= \"background: rgba(243, 243, 243, 0.75)\">2</th><td class=\"tdhistory157203\">105623</td><td class=\"tdhistory157203\">2018-04-08 13:27:00.000000</td><td class=\"tdhistory157203\">Return Policy In</td></tr><tr><th class=\"tdhistory157203\" style= \"background: rgba(243, 243, 243, 0.75)\">3</th><td class=\"tdhistory157203\">224320</td><td class=\"tdhistory157203\">2018-04-08 07:43:00.000000</td><td class=\"tdhistory157203\">Product Browsing</td></tr><tr><th class=\"tdhistory157203\" style= \"background: rgba(243, 243, 243, 0.75)\">4</th><td class=\"tdhistory157203\">28886</td><td class=\"tdhistory157203\">2018-05-15 11:59:00.000000</td><td class=\"tdhistory157203\">Mem Purchase</td></tr><tr><th class=\"tdhistory157203\" style= \"background: rgba(243, 243, 243, 0.75)\">5</th><td class=\"tdhistory157203\">24596</td><td class=\"tdhistory157203\">2018-04-17 00:25:00.000000</td><td class=\"tdhistory157203\">Neutral Call</td></tr><tr><th class=\"tdhistory157203\" style= \"background: rgba(243, 243, 243, 0.75)\">6</th><td class=\"tdhistory157203\">32596</td><td class=\"tdhistory157203\">2018-04-08 21:03:00.000000</td><td class=\"tdhistory157203\">Purchase</td></tr><tr><th class=\"tdhistory157203\" style= \"background: rgba(243, 243, 243, 0.75)\">7</th><td class=\"tdhistory157203\">112739</td><td class=\"tdhistory157203\">2018-05-13 15:22:00.000000</td><td class=\"tdhistory157203\">Product Browsing</td></tr><tr><th class=\"tdhistory157203\" style= \"background: rgba(243, 243, 243, 0.75)\">8</th><td class=\"tdhistory157203\">47794</td><td class=\"tdhistory157203\">2018-03-21 03:44:00.000000</td><td class=\"tdhistory157203\">Neutral Call</td></tr><tr><th class=\"tdhistory157203\" style= \"background: rgba(243, 243, 243, 0.75)\">9</th><td class=\"tdhistory157203\">65776</td><td class=\"tdhistory157203\">2018-03-19 12:22:00.000000</td><td class=\"tdhistory157203\">Neutral Call</td></tr><tr><th class=\"tdhistory157203\" style= \"background: rgba(243, 243, 243, 0.75)\">10</th><td class=\"tdhistory157203\">52873</td><td class=\"tdhistory157203\">2018-05-08 11:55:00.000000</td><td class=\"tdhistory157203\">Web Chat</td></tr></tbody></table></div>"
      ]
     },
     "execution_count": 11,
     "metadata": {
      "application/vnd.teradata.resultset": "{\"resultSetID\":\"/home/jovyan/JupyterLabRoot/Teradata/Resultsets/2024.09.12_16.33.18.974_UTC\",\"historyID\":12283,\"chunkID\":\"00001\",\"sessionid\":\"\",\"portnum\":\"\",\"dockermode\":\"docker\",\"totalRowCount\":10,\"chunkCount\":0,\"rowLimit\":0,\"columnMetadata\":[{\"columnName\":\"customer_id\",\"columnTypeName\":\"INTEGER\"},{\"columnNumber\":1,\"columnName\":\"datestamp\",\"columnTypeName\":\"TIMESTAMP\",\"length\":6,\"scale\":6},{\"columnNumber\":2,\"columnName\":\"event\",\"columnTypeName\":\"VARCHAR\",\"length\":16,\"scale\":16}]}"
     },
     "output_type": "execute_result"
    }
   ],
   "source": [
    "--Show time travel using snapshots for AWS Glue datalake_iceberg_glue.tddemos_glue_db.retail_events table\n",
    "SELECT TOP 10 * from aws_glue_catalog.tddemos_glue_db.retail_events FOR SNAPSHOT AS OF '4481719215509051254';"
   ]
  },
  {
   "cell_type": "markdown",
   "id": "minimal-viewer",
   "metadata": {
    "tags": []
   },
   "source": [
    "<h3 style = ';color:#00233C'>Run a simple query from <strong style = 'color:#727272'>AWS Glue</strong> Catalog</h3></h3>"
   ]
  },
  {
   "cell_type": "code",
   "execution_count": 12,
   "id": "enhanced-ghost",
   "metadata": {
    "tags": []
   },
   "outputs": [
    {
     "data": {
      "application/vnd.teradata.resultset": "\"customer_id\",\"datestamp\",\"event\"\n\"52873\",\"2018-05-08 11:55:00.000000\",\"Web Chat\"",
      "text/html": [
       "<div class = \"td-resultset-table-div\" style = \"max-height: 100%; overflow-y: auto\">\n",
       "      <table class=\"tdhistory546590\"><style>\n",
       "      table.tdhistory546590 { display: block !important; min-height: 105px !important; overflow: auto !important; height: 105px !important; width: 100% !important; border: 1px solid rgb(207, 207, 207) !important; border-collapse: collapse !important; ; color: var(--jp-ui-font-color1) !important; }\n",
       "      th.tdhistory546590 { border: 1px solid rgb(198,198,198) !important; border-collapse: collapse !important; ; padding: 2px 5px !important; ; font-size: 13px !important; ; text-align: center !important; white-space: normal !important; color: var(--jp-ui-font-color1) !important; }\n",
       "      th.tdhistory546590:last-child { text-align: left !important; }\n",
       "      tbody.tdhistory546590 tr:nth-child(even) { background: rgba(243, 243, 243, 0.75) !important; }\n",
       "      tbody.tdhistory546590 tr:nth-child(odd) { background: var(--jp-ui-inverse-font-color1) !important; }\n",
       "      td.tdhistory546590 { border: 1px solid rgb(207, 207, 207) !important; border-collapse: collapse !important; ; padding: 2px 5px !important; ; font-size: 13px !important; ; text-align: left !important;          white-space: nowrap !important; overflow:hidden !important; text-overflow:ellipsis !important;; }\n",
       "    </style><thead><tr style= \"background: rgba(243, 243, 243, 0.75)\"><th class=\"tdhistory546590\"></th><th class=\"tdhistory546590\">customer_id</th><th class=\"tdhistory546590\">datestamp</th><th class=\"tdhistory546590\">event</th></tr></thead><tbody class=\"tdhistory546590 resultset-body\"><tr><th class=\"tdhistory546590\" style= \"background: rgba(243, 243, 243, 0.75)\">1</th><td class=\"tdhistory546590\">52873</td><td class=\"tdhistory546590\">2018-05-08 11:55:00.000000</td><td class=\"tdhistory546590\">Web Chat</td></tr></tbody></table></div>"
      ]
     },
     "execution_count": 12,
     "metadata": {
      "application/vnd.teradata.resultset": "{\"resultSetID\":\"/home/jovyan/JupyterLabRoot/Teradata/Resultsets/2024.09.12_16.33.20.388_UTC\",\"historyID\":12284,\"chunkID\":\"00001\",\"sessionid\":\"\",\"portnum\":\"\",\"dockermode\":\"docker\",\"totalRowCount\":1,\"chunkCount\":0,\"rowLimit\":0,\"columnMetadata\":[{\"columnName\":\"customer_id\",\"columnTypeName\":\"INTEGER\"},{\"columnNumber\":1,\"columnName\":\"datestamp\",\"columnTypeName\":\"TIMESTAMP\",\"length\":6,\"scale\":6},{\"columnNumber\":2,\"columnName\":\"event\",\"columnTypeName\":\"VARCHAR\",\"length\":16,\"scale\":16}]}"
     },
     "output_type": "execute_result"
    }
   ],
   "source": [
    "--let's select with some qualifying columns and filters\n",
    "SELECT customer_id, datestamp, event FROM aws_glue_catalog.tddemos_glue_db.retail_events WHERE event='Web Chat' AND customer_id=52873;"
   ]
  },
  {
   "cell_type": "markdown",
   "id": "physical-transportation",
   "metadata": {},
   "source": [
    "<h3 style = 'color:#00233C'>Run a simple query data from <strong style = 'color:#727272'>Azure Unity</strong> Catalog</h3>"
   ]
  },
  {
   "cell_type": "code",
   "execution_count": 13,
   "id": "arctic-conversion",
   "metadata": {},
   "outputs": [
    {
     "data": {
      "application/vnd.teradata.resultset": "\"comment_id\",\"customer_id\",\"comment_text\",\"comment_summary\"\n\"11399\",\"2596\",\"\"\"Not what i was expecting, but pleasantly surprised.  was envision\",\" soft yet supportive\"\n\"9319\",\"2360\",\" \",\"\"\n\"2814\",\"2047\",\"Such a cute pattern, and i loved the fold-over design, but beware \",\"Beware - not enough bottom coverage!\"\n\"61\",\"1894\",\"3 tags sewn in, 2 small (about 1'' long) and 1 huge (about 2'' x 3\",\"Itchy tags\"\n\"1672\",\"2585\",\"Can't go wrong with these new charlie's by cartonnier. they fit am\",\"Another winner\"\n\"7565\",\"2475\",\"This is my new favorite sweater. soft and comfortable and easy to \",\"New favorite\"\n\"7239\",\"2432\",\"I have a hard time with sizes here. i literally can wear sm-large \",\"Cute but too big need to exchange\"\n\"5628\",\"2466\",\"I love this sweater. it's warm, comfortable, and soft. nice qualit\",\"Comfortable sweater\"\n\"13866\",\"2394\",\"I just received this and absolutely love it !!! i love cold should\",\"Just adorable !! a must for every wardro\"\n\"19046\",\"2603\",\"Hack: wrap the sash around waist twice and tie in back!! agreed wi\",\"Comfortable and classy\"",
      "text/html": [
       "<div class = \"td-resultset-table-div\" style = \"max-height: 100%; overflow-y: auto\">\n",
       "      <table class=\"tdhistory518651\"><style>\n",
       "      table.tdhistory518651 { display: block !important; min-height: 294px !important; overflow: auto !important; height: 294px !important; width: 100% !important; border: 1px solid rgb(207, 207, 207) !important; border-collapse: collapse !important; ; color: var(--jp-ui-font-color1) !important; }\n",
       "      th.tdhistory518651 { border: 1px solid rgb(198,198,198) !important; border-collapse: collapse !important; ; padding: 2px 5px !important; ; font-size: 13px !important; ; text-align: center !important; white-space: normal !important; color: var(--jp-ui-font-color1) !important; }\n",
       "      th.tdhistory518651:last-child { text-align: left !important; }\n",
       "      tbody.tdhistory518651 tr:nth-child(even) { background: rgba(243, 243, 243, 0.75) !important; }\n",
       "      tbody.tdhistory518651 tr:nth-child(odd) { background: var(--jp-ui-inverse-font-color1) !important; }\n",
       "      td.tdhistory518651 { border: 1px solid rgb(207, 207, 207) !important; border-collapse: collapse !important; ; padding: 2px 5px !important; ; font-size: 13px !important; ; text-align: left !important;          white-space: nowrap !important; overflow:hidden !important; text-overflow:ellipsis !important;; }\n",
       "    </style><thead><tr style= \"background: rgba(243, 243, 243, 0.75)\"><th class=\"tdhistory518651\"></th><th class=\"tdhistory518651\">comment_id</th><th class=\"tdhistory518651\">customer_id</th><th class=\"tdhistory518651\">comment_text</th><th class=\"tdhistory518651\">comment_summary</th></tr></thead><tbody class=\"tdhistory518651 resultset-body\"><tr><th class=\"tdhistory518651\" style= \"background: rgba(243, 243, 243, 0.75)\">1</th><td class=\"tdhistory518651\">11399</td><td class=\"tdhistory518651\">2596</td><td class=\"tdhistory518651\">\"Not what i was expecting, but pleasantly surprised.  was envision</td><td class=\"tdhistory518651\"> soft yet supportive</td></tr><tr><th class=\"tdhistory518651\" style= \"background: rgba(243, 243, 243, 0.75)\">2</th><td class=\"tdhistory518651\">9319</td><td class=\"tdhistory518651\">2360</td><td class=\"tdhistory518651\"> </td><td class=\"tdhistory518651\"></td></tr><tr><th class=\"tdhistory518651\" style= \"background: rgba(243, 243, 243, 0.75)\">3</th><td class=\"tdhistory518651\">2814</td><td class=\"tdhistory518651\">2047</td><td class=\"tdhistory518651\">Such a cute pattern, and i loved the fold-over design, but beware </td><td class=\"tdhistory518651\">Beware - not enough bottom coverage!</td></tr><tr><th class=\"tdhistory518651\" style= \"background: rgba(243, 243, 243, 0.75)\">4</th><td class=\"tdhistory518651\">61</td><td class=\"tdhistory518651\">1894</td><td class=\"tdhistory518651\">3 tags sewn in, 2 small (about 1'' long) and 1 huge (about 2'' x 3</td><td class=\"tdhistory518651\">Itchy tags</td></tr><tr><th class=\"tdhistory518651\" style= \"background: rgba(243, 243, 243, 0.75)\">5</th><td class=\"tdhistory518651\">1672</td><td class=\"tdhistory518651\">2585</td><td class=\"tdhistory518651\">Can't go wrong with these new charlie's by cartonnier. they fit am</td><td class=\"tdhistory518651\">Another winner</td></tr><tr><th class=\"tdhistory518651\" style= \"background: rgba(243, 243, 243, 0.75)\">6</th><td class=\"tdhistory518651\">7565</td><td class=\"tdhistory518651\">2475</td><td class=\"tdhistory518651\">This is my new favorite sweater. soft and comfortable and easy to </td><td class=\"tdhistory518651\">New favorite</td></tr><tr><th class=\"tdhistory518651\" style= \"background: rgba(243, 243, 243, 0.75)\">7</th><td class=\"tdhistory518651\">7239</td><td class=\"tdhistory518651\">2432</td><td class=\"tdhistory518651\">I have a hard time with sizes here. i literally can wear sm-large </td><td class=\"tdhistory518651\">Cute but too big need to exchange</td></tr><tr><th class=\"tdhistory518651\" style= \"background: rgba(243, 243, 243, 0.75)\">8</th><td class=\"tdhistory518651\">5628</td><td class=\"tdhistory518651\">2466</td><td class=\"tdhistory518651\">I love this sweater. it's warm, comfortable, and soft. nice qualit</td><td class=\"tdhistory518651\">Comfortable sweater</td></tr><tr><th class=\"tdhistory518651\" style= \"background: rgba(243, 243, 243, 0.75)\">9</th><td class=\"tdhistory518651\">13866</td><td class=\"tdhistory518651\">2394</td><td class=\"tdhistory518651\">I just received this and absolutely love it !!! i love cold should</td><td class=\"tdhistory518651\">Just adorable !! a must for every wardro</td></tr><tr><th class=\"tdhistory518651\" style= \"background: rgba(243, 243, 243, 0.75)\">10</th><td class=\"tdhistory518651\">19046</td><td class=\"tdhistory518651\">2603</td><td class=\"tdhistory518651\">Hack: wrap the sash around waist twice and tie in back!! agreed wi</td><td class=\"tdhistory518651\">Comfortable and classy</td></tr></tbody></table></div>"
      ]
     },
     "execution_count": 13,
     "metadata": {
      "application/vnd.teradata.resultset": "{\"resultSetID\":\"/home/jovyan/JupyterLabRoot/Teradata/Resultsets/2024.09.12_16.33.27.037_UTC\",\"historyID\":12285,\"chunkID\":\"00001\",\"sessionid\":\"\",\"portnum\":\"\",\"dockermode\":\"docker\",\"totalRowCount\":10,\"chunkCount\":0,\"rowLimit\":0,\"columnMetadata\":[{\"columnName\":\"comment_id\",\"columnTypeName\":\"INTEGER\"},{\"columnNumber\":1,\"columnName\":\"customer_id\",\"columnTypeName\":\"INTEGER\"},{\"columnNumber\":2,\"columnName\":\"comment_text\",\"columnTypeName\":\"VARCHAR\",\"length\":66,\"scale\":66},{\"columnNumber\":3,\"columnName\":\"comment_summary\",\"columnTypeName\":\"VARCHAR\",\"length\":40,\"scale\":40}]}"
     },
     "output_type": "execute_result"
    }
   ],
   "source": [
    "SELECT TOP 10 * FROM azure_unity_catalog.retail_schema.customer_comments;"
   ]
  },
  {
   "cell_type": "markdown",
   "id": "accessory-kenya",
   "metadata": {},
   "source": [
    "<h3 style = 'color:#00233C'>Multi-Cloud (<strong style = 'color:#727272'>Azure</strong> & <strong style = 'color:#727272'>AWS</strong>) join of 2 Iceberg tables (<strong style = 'color:#7030A0'>Azure Unity</strong> & <strong style = 'color:#009FDB'>AWS Glue</strong>) and one <strong style = 'color:#7030A0'>Vantage</strong> dimension table  </h3>"
   ]
  },
  {
   "cell_type": "code",
   "execution_count": 14,
   "id": "indoor-rover",
   "metadata": {},
   "outputs": [
    {
     "data": {
      "application/vnd.teradata.resultset": "\"F_NAME\",\"L_NAME\",\"event\",\"datestamp\",\"comment_summary\"\n\"Jeromy\",\"Hughes\",\"Service Inquiry\",\"2018-04-07 10:06:00.000000\",\" i normally wear medium or small tops. f\"\n\"Virgil\",\"Montoya\",\"Purchase\",\"2018-03-25 17:10:00.000000\",\"Scooped knit slip\"\n\"Aubrey\",\"Bryant\",\"Purchase\",\"2018-05-08 23:39:00.000000\",\"Cute romper\"\n\"Millard\",\"Ho\",\"Product Browsing\",\"2018-04-29 17:22:00.000000\",\" although comfortable\"\n\"Dean\",\"King\",\"Web Chat\",\"2018-05-01 16:06:00.000000\",\"Great basic!\"\n\"Kirsten\",\"Davies\",\"Store Visit\",\"2018-03-14 14:34:00.000000\",\"Skip it\"\n\"Deann\",\"Sellers\",\"Store Visit\",\"2018-05-09 20:46:00.000000\",\"Super sexy\"\n\"Harriett\",\"Murillo\",\"Product Browsing\",\"2018-05-01 09:07:00.000000\",\"Are you kidding?\"\n\"Ian\",\"Stout\",\"Neutral Call\",\"2018-03-23 06:44:00.000000\",\"\"\n\"Velma\",\"Gill\",\"Mem Purchase\",\"2018-04-24 02:18:00.000000\",\"\"",
      "text/html": [
       "<div class = \"td-resultset-table-div\" style = \"max-height: 100%; overflow-y: auto\">\n",
       "      <table class=\"tdhistory602827\"><style>\n",
       "      table.tdhistory602827 { display: block !important; min-height: 294px !important; overflow: auto !important; height: 294px !important; width: 100% !important; border: 1px solid rgb(207, 207, 207) !important; border-collapse: collapse !important; ; color: var(--jp-ui-font-color1) !important; }\n",
       "      th.tdhistory602827 { border: 1px solid rgb(198,198,198) !important; border-collapse: collapse !important; ; padding: 2px 5px !important; ; font-size: 13px !important; ; text-align: center !important; white-space: normal !important; color: var(--jp-ui-font-color1) !important; }\n",
       "      th.tdhistory602827:last-child { text-align: left !important; }\n",
       "      tbody.tdhistory602827 tr:nth-child(even) { background: rgba(243, 243, 243, 0.75) !important; }\n",
       "      tbody.tdhistory602827 tr:nth-child(odd) { background: var(--jp-ui-inverse-font-color1) !important; }\n",
       "      td.tdhistory602827 { border: 1px solid rgb(207, 207, 207) !important; border-collapse: collapse !important; ; padding: 2px 5px !important; ; font-size: 13px !important; ; text-align: left !important;          white-space: nowrap !important; overflow:hidden !important; text-overflow:ellipsis !important;; }\n",
       "    </style><thead><tr style= \"background: rgba(243, 243, 243, 0.75)\"><th class=\"tdhistory602827\"></th><th class=\"tdhistory602827\">F_NAME</th><th class=\"tdhistory602827\">L_NAME</th><th class=\"tdhistory602827\">event</th><th class=\"tdhistory602827\">datestamp</th><th class=\"tdhistory602827\">comment_summary</th></tr></thead><tbody class=\"tdhistory602827 resultset-body\"><tr><th class=\"tdhistory602827\" style= \"background: rgba(243, 243, 243, 0.75)\">1</th><td class=\"tdhistory602827\">Jeromy</td><td class=\"tdhistory602827\">Hughes</td><td class=\"tdhistory602827\">Service Inquiry</td><td class=\"tdhistory602827\">2018-04-07 10:06:00.000000</td><td class=\"tdhistory602827\"> i normally wear medium or small tops. f</td></tr><tr><th class=\"tdhistory602827\" style= \"background: rgba(243, 243, 243, 0.75)\">2</th><td class=\"tdhistory602827\">Virgil</td><td class=\"tdhistory602827\">Montoya</td><td class=\"tdhistory602827\">Purchase</td><td class=\"tdhistory602827\">2018-03-25 17:10:00.000000</td><td class=\"tdhistory602827\">Scooped knit slip</td></tr><tr><th class=\"tdhistory602827\" style= \"background: rgba(243, 243, 243, 0.75)\">3</th><td class=\"tdhistory602827\">Aubrey</td><td class=\"tdhistory602827\">Bryant</td><td class=\"tdhistory602827\">Purchase</td><td class=\"tdhistory602827\">2018-05-08 23:39:00.000000</td><td class=\"tdhistory602827\">Cute romper</td></tr><tr><th class=\"tdhistory602827\" style= \"background: rgba(243, 243, 243, 0.75)\">4</th><td class=\"tdhistory602827\">Millard</td><td class=\"tdhistory602827\">Ho</td><td class=\"tdhistory602827\">Product Browsing</td><td class=\"tdhistory602827\">2018-04-29 17:22:00.000000</td><td class=\"tdhistory602827\"> although comfortable</td></tr><tr><th class=\"tdhistory602827\" style= \"background: rgba(243, 243, 243, 0.75)\">5</th><td class=\"tdhistory602827\">Dean</td><td class=\"tdhistory602827\">King</td><td class=\"tdhistory602827\">Web Chat</td><td class=\"tdhistory602827\">2018-05-01 16:06:00.000000</td><td class=\"tdhistory602827\">Great basic!</td></tr><tr><th class=\"tdhistory602827\" style= \"background: rgba(243, 243, 243, 0.75)\">6</th><td class=\"tdhistory602827\">Kirsten</td><td class=\"tdhistory602827\">Davies</td><td class=\"tdhistory602827\">Store Visit</td><td class=\"tdhistory602827\">2018-03-14 14:34:00.000000</td><td class=\"tdhistory602827\">Skip it</td></tr><tr><th class=\"tdhistory602827\" style= \"background: rgba(243, 243, 243, 0.75)\">7</th><td class=\"tdhistory602827\">Deann</td><td class=\"tdhistory602827\">Sellers</td><td class=\"tdhistory602827\">Store Visit</td><td class=\"tdhistory602827\">2018-05-09 20:46:00.000000</td><td class=\"tdhistory602827\">Super sexy</td></tr><tr><th class=\"tdhistory602827\" style= \"background: rgba(243, 243, 243, 0.75)\">8</th><td class=\"tdhistory602827\">Harriett</td><td class=\"tdhistory602827\">Murillo</td><td class=\"tdhistory602827\">Product Browsing</td><td class=\"tdhistory602827\">2018-05-01 09:07:00.000000</td><td class=\"tdhistory602827\">Are you kidding?</td></tr><tr><th class=\"tdhistory602827\" style= \"background: rgba(243, 243, 243, 0.75)\">9</th><td class=\"tdhistory602827\">Ian</td><td class=\"tdhistory602827\">Stout</td><td class=\"tdhistory602827\">Neutral Call</td><td class=\"tdhistory602827\">2018-03-23 06:44:00.000000</td><td class=\"tdhistory602827\"></td></tr><tr><th class=\"tdhistory602827\" style= \"background: rgba(243, 243, 243, 0.75)\">10</th><td class=\"tdhistory602827\">Velma</td><td class=\"tdhistory602827\">Gill</td><td class=\"tdhistory602827\">Mem Purchase</td><td class=\"tdhistory602827\">2018-04-24 02:18:00.000000</td><td class=\"tdhistory602827\"></td></tr></tbody></table></div>"
      ]
     },
     "execution_count": 14,
     "metadata": {
      "application/vnd.teradata.resultset": "{\"resultSetID\":\"/home/jovyan/JupyterLabRoot/Teradata/Resultsets/2024.09.12_16.33.31.606_UTC\",\"historyID\":12286,\"chunkID\":\"00001\",\"sessionid\":\"\",\"portnum\":\"\",\"dockermode\":\"docker\",\"totalRowCount\":10,\"chunkCount\":0,\"rowLimit\":0,\"columnMetadata\":[{\"columnName\":\"F_NAME\",\"columnTypeName\":\"VARCHAR\",\"length\":30,\"scale\":30},{\"columnNumber\":1,\"columnName\":\"L_NAME\",\"columnTypeName\":\"VARCHAR\",\"length\":30,\"scale\":30},{\"columnNumber\":2,\"columnName\":\"event\",\"columnTypeName\":\"VARCHAR\",\"length\":16,\"scale\":16},{\"columnNumber\":3,\"columnName\":\"datestamp\",\"columnTypeName\":\"TIMESTAMP\",\"length\":6,\"scale\":6},{\"columnNumber\":4,\"columnName\":\"comment_summary\",\"columnTypeName\":\"VARCHAR\",\"length\":40,\"scale\":40}]}"
     },
     "output_type": "execute_result"
    }
   ],
   "source": [
    "SELECT TOP 10\n",
    "    l.F_Name,\n",
    "    l.L_Name,\n",
    "    gc.event,\n",
    "    gc.datestamp,\n",
    "    az.comment_summary\n",
    "    \n",
    "FROM demo.retail_customer l --Local Dimension Table\n",
    "\n",
    "JOIN aws_glue_catalog.tddemos_glue_db.retail_events gc -- AWS Glue Customer Events\n",
    "    ON gc.customer_id = l.customer_id\n",
    "    \n",
    "JOIN azure_unity_catalog.retail_schema.customer_comments az -- Azure Unity Customer Comments\n",
    "    ON gc.customer_id = az.customer_id\n",
    "  "
   ]
  },
  {
   "cell_type": "markdown",
   "id": "worse-jenny",
   "metadata": {},
   "source": [
    "<hr>\n",
    "<h2 style = 'font-size:28px;font-family:Arial;color:#00233C'>Write data to AWS Glue catalog</h2><br>\n",
    "\n",
    "<p style = 'font-size:16px;font-family:Arial;color:#00233C'>Use <b>standard</b> SQL syntax to create and insert data into an Iceberg table in AWS Glue</p>\n",
    "\n",
    "<ol style = 'font-size:16px;font-family:Arial;color:#00233C'>\n",
    "    <li><b>DROP</b> Table if necessary</li>\n",
    "    <li><b>CREATE TABLE AS...WITH DATA</b> to take the result of the previous query and write it to the table</li>\n",
    "    <li><b>INSERT</b> additional rows</li>\n",
    "    <li>Inspect snapshots</li>\n",
    "    <li>Perform a simple query</li>\n",
    "    </ol>\n",
    "    \n",
    "<hr>\n",
    "<p style = 'font-size:18px;font-family:Arial;color:#00233C'><b>1.  Drop the table</b></p>\n",
    "<p style = 'font-size:16px;font-family:Arial;color:#00233C'>If necessary, drop the table so we can recreate it.  PURGE ALL will remove all prior snapshots.</p>"
   ]
  },
  {
   "cell_type": "code",
   "execution_count": 86,
   "id": "decreased-secretary",
   "metadata": {},
   "outputs": [
    {
     "data": {
      "text/plain": [
       "Success: 0 rows affected"
      ]
     },
     "execution_count": 86,
     "metadata": {
      "application/vnd.teradata.resultset": ""
     },
     "output_type": "execute_result"
    }
   ],
   "source": [
    "DROP TABLE aws_glue_catalog.tddemos_glue_db.analytic_data_set PURGE ALL;"
   ]
  },
  {
   "cell_type": "markdown",
   "id": "mental-eclipse",
   "metadata": {},
   "source": [
    "<hr>\n",
    "<p style = 'font-size:18px;font-family:Arial;color:#00233C'><b>2.  Create the table</b></p>\n",
    "<p style = 'font-size:16px;font-family:Arial;color:#00233C'>Standard CREATE TABLE statement, the only modification is the multi-dot notation</p>"
   ]
  },
  {
   "cell_type": "code",
   "execution_count": null,
   "id": "british-marijuana",
   "metadata": {},
   "outputs": [],
   "source": [
    "CREATE TABLE aws_glue_catalog.tddemos_glue_db.analytic_data_set AS (\n",
    "    SELECT TOP 10\n",
    "        l.F_Name,\n",
    "        l.L_Name,\n",
    "        gc.event,\n",
    "        gc.datestamp,\n",
    "        az.comment_summary\n",
    "\n",
    "    FROM demo.retail_customer l --Local Dimension Table\n",
    "\n",
    "    JOIN aws_glue_catalog.tddemos_glue_db.retail_events gc -- AWS Glue Customer Events\n",
    "        ON gc.customer_id = l.customer_id\n",
    "\n",
    "    JOIN azure_unity_catalog.retail_schema.customer_comments az -- Azure Unity Customer Comments\n",
    "        ON gc.customer_id = az.customer_id\n",
    ") WITH DATA;\n",
    "  "
   ]
  },
  {
   "cell_type": "markdown",
   "id": "minimal-wings",
   "metadata": {},
   "source": [
    "<hr>\n",
    "<p style = 'font-size:18px;font-family:Arial;color:#00233C'><b>3.  Insert rows</b></p>\n",
    "<p style = 'font-size:16px;font-family:Arial;color:#00233C'>Standard INSERT statement</p>"
   ]
  },
  {
   "cell_type": "code",
   "execution_count": 15,
   "id": "black-convention",
   "metadata": {},
   "outputs": [
    {
     "data": {
      "text/plain": [
       "Success: 10 rows affected"
      ]
     },
     "execution_count": 15,
     "metadata": {
      "application/vnd.teradata.resultset": ""
     },
     "output_type": "execute_result"
    }
   ],
   "source": [
    "INSERT INTO aws_glue_catalog.tddemos_glue_db.analytic_data_set\n",
    "    SELECT TOP 10\n",
    "        l.F_Name,\n",
    "        l.L_Name,\n",
    "        gc.event,\n",
    "        gc.datestamp,\n",
    "        az.comment_summary\n",
    "\n",
    "    FROM demo.retail_customer l --Local Dimension Table\n",
    "\n",
    "    JOIN aws_glue_catalog.tddemos_glue_db.retail_events gc -- AWS Glue Customer Events\n",
    "        ON gc.customer_id = l.customer_id\n",
    "\n",
    "    JOIN azure_unity_catalog.retail_schema.customer_comments az -- Azure Unity Customer Comments\n",
    "        ON gc.customer_id = az.customer_id;"
   ]
  },
  {
   "cell_type": "markdown",
   "id": "handled-catch",
   "metadata": {},
   "source": [
    "<hr>\n",
    "<p style = 'font-size:18px;font-family:Arial;color:#00233C'><b>4. Inspect Snapshots</b></p>\n",
    "<p style = 'font-size:16px;font-family:Arial;color:#00233C'>Use the TD_SNAPSHOTS function to view and verify the inserts.</p>"
   ]
  },
  {
   "cell_type": "code",
   "execution_count": null,
   "id": "equal-george",
   "metadata": {},
   "outputs": [],
   "source": [
    "--Show snapshots for the create and insert\n",
    "SELECT * FROM TD_SNAPSHOTS(ON (aws_glue_catalog.tddemos_glue_db.analytic_data_set)) D;"
   ]
  },
  {
   "cell_type": "markdown",
   "id": "naughty-brisbane",
   "metadata": {},
   "source": [
    "<hr>\n",
    "<p style = 'font-size:18px;font-family:Arial;color:#00233C'><b>5.  Query the table</b></p>\n",
    "<p style = 'font-size:16px;font-family:Arial;color:#00233C'>Simple query as above</p>"
   ]
  },
  {
   "cell_type": "code",
   "execution_count": 17,
   "id": "loving-canvas",
   "metadata": {},
   "outputs": [
    {
     "data": {
      "application/vnd.teradata.resultset": "\"f_name\",\"l_name\",\"event\",\"datestamp\",\"comment_summary\"\n\"Lino\",\"Bullock\",\"Product Browsing\",\"2018-04-18 04:32:00.000000\",\"Best tights!\"\n\"Lino\",\"Bullock\",\"Product Browsing\",\"2018-04-18 04:32:00.000000\",\"Best tights!\"\n\"Hong\",\"Lutz\",\"Product Browsing\",\"2018-05-04 19:37:00.000000\",\"5-star fantastic!\"\n\"Angelique\",\"Wade\",\"Web Chat\",\"2018-04-02 10:45:00.000000\",\"Cute, poorly made\"\n\"Melinda\",\"Valenzue\",\"Return Policy In\",\"2018-05-13 13:24:00.000000\",\"Great fit\"\n\"Jordan\",\"Mclean\",\"Store Visit\",\"2018-03-24 20:08:00.000000\",\"Super comfy and cute\"\n\"Angelique\",\"Wade\",\"Web Chat\",\"2018-04-02 10:45:00.000000\",\"Cute, poorly made\"\n\"Melinda\",\"Valenzue\",\"Return Policy In\",\"2018-05-13 13:24:00.000000\",\"Great fit\"\n\"Jeromy\",\"Hughes\",\"Purchase\",\"2018-04-07 10:12:00.000000\",\" i normally wear med\"\n\"Gabriela\",\"Osborn\",\"Store Visit\",\"2018-03-18 21:14:00.000000\",\"Comfortable and flat\"\n\"Gabriela\",\"Osborn\",\"Neutral Call\",\"2018-03-18 21:15:00.000000\",\"Comfortable and flat\"\n\"Glenna\",\"Hurley\",\"Product Browsing\",\"2018-04-27 22:24:00.000000\",\"Beautiful!\"\n\"Therese\",\"Pope\",\"Mem Purchase\",\"2018-05-14 17:13:00.000000\",\"Beautiful suit that \"\n\"Chas\",\"Bradshaw\",\"Service Inquiry\",\"2018-05-10 11:26:00.000000\",\"Super cute\"\n\"Aaron\",\"Cooper\",\"Neutral Call\",\"2018-05-05 01:20:00.000000\",\"High waist and seeme\"\n\"Therese\",\"Pope\",\"Mem Purchase\",\"2018-05-14 17:13:00.000000\",\"Beautiful suit that \"\n\"Chas\",\"Bradshaw\",\"Service Inquiry\",\"2018-05-10 11:26:00.000000\",\"Please offer this in\"\n\"Gabriela\",\"Osborn\",\"Web Chat\",\"2018-03-20 07:33:00.000000\",\"Delightful, differen\"\n\"Lottie\",\"Mcfarlan\",\"Store Visit\",\"2018-04-08 07:44:00.000000\",\"Love this romper\"\n\"Therese\",\"Pope\",\"Return Policy In\",\"2018-05-04 22:00:00.000000\",\"Beautiful suit that \"\n\"Dean\",\"King\",\"Product Browsing\",\"2018-04-30 04:30:00.000000\",\"Great basic!\"\n\"Lottie\",\"Mcfarlan\",\"Store Visit\",\"2018-04-08 07:44:00.000000\",\"Love this romper\"\n\"Therese\",\"Pope\",\"Return Policy In\",\"2018-05-04 22:00:00.000000\",\"Beautiful suit that \"\n\"Rubin\",\"Lowe\",\"Mem Purchase\",\"2018-05-01 22:58:00.000000\",\"\"\n\"Norris\",\"Tucker\",\"Product Browsing\",\"2018-04-03 15:18:00.000000\",\"\"\n\"Lottie\",\"Mcfarlan\",\"Purchase\",\"2018-04-11 11:53:00.000000\",\"Love this romper\"\n\"Harriett\",\"Murillo\",\"Web Chat\",\"2018-05-01 09:00:00.000000\",\"Are you kidding?\"\n\"Norris\",\"Tucker\",\"Product Browsing\",\"2018-04-03 15:18:00.000000\",\"\"\n\"Lottie\",\"Mcfarlan\",\"Purchase\",\"2018-04-11 11:53:00.000000\",\"Love this romper\"\n\"Jocelyn\",\"Kirby\",\"Web Chat\",\"2018-04-06 23:21:00.000000\",\"Beatiful and great q\"",
      "text/html": [
       "<div class = \"td-resultset-table-div\" style = \"max-height: 100%; overflow-y: auto\">\n",
       "      <table class=\"tdhistory976287\"><style>\n",
       "      table.tdhistory976287 { display: block !important; min-height: 588px !important; overflow: auto !important; height: 588px !important; width: 100% !important; border: 1px solid rgb(207, 207, 207) !important; border-collapse: collapse !important; ; color: var(--jp-ui-font-color1) !important; }\n",
       "      th.tdhistory976287 { border: 1px solid rgb(198,198,198) !important; border-collapse: collapse !important; ; padding: 2px 5px !important; ; font-size: 13px !important; ; text-align: center !important; white-space: normal !important; color: var(--jp-ui-font-color1) !important; }\n",
       "      th.tdhistory976287:last-child { text-align: left !important; }\n",
       "      tbody.tdhistory976287 tr:nth-child(even) { background: rgba(243, 243, 243, 0.75) !important; }\n",
       "      tbody.tdhistory976287 tr:nth-child(odd) { background: var(--jp-ui-inverse-font-color1) !important; }\n",
       "      td.tdhistory976287 { border: 1px solid rgb(207, 207, 207) !important; border-collapse: collapse !important; ; padding: 2px 5px !important; ; font-size: 13px !important; ; text-align: left !important;          white-space: nowrap !important; overflow:hidden !important; text-overflow:ellipsis !important;; }\n",
       "    </style><thead><tr style= \"background: rgba(243, 243, 243, 0.75)\"><th class=\"tdhistory976287\"></th><th class=\"tdhistory976287\">f_name</th><th class=\"tdhistory976287\">l_name</th><th class=\"tdhistory976287\">event</th><th class=\"tdhistory976287\">datestamp</th><th class=\"tdhistory976287\">comment_summary</th></tr></thead><tbody class=\"tdhistory976287 resultset-body\"><tr><th class=\"tdhistory976287\" style= \"background: rgba(243, 243, 243, 0.75)\">1</th><td class=\"tdhistory976287\">Lino</td><td class=\"tdhistory976287\">Bullock</td><td class=\"tdhistory976287\">Product Browsing</td><td class=\"tdhistory976287\">2018-04-18 04:32:00.000000</td><td class=\"tdhistory976287\">Best tights!</td></tr><tr><th class=\"tdhistory976287\" style= \"background: rgba(243, 243, 243, 0.75)\">2</th><td class=\"tdhistory976287\">Lino</td><td class=\"tdhistory976287\">Bullock</td><td class=\"tdhistory976287\">Product Browsing</td><td class=\"tdhistory976287\">2018-04-18 04:32:00.000000</td><td class=\"tdhistory976287\">Best tights!</td></tr><tr><th class=\"tdhistory976287\" style= \"background: rgba(243, 243, 243, 0.75)\">3</th><td class=\"tdhistory976287\">Hong</td><td class=\"tdhistory976287\">Lutz</td><td class=\"tdhistory976287\">Product Browsing</td><td class=\"tdhistory976287\">2018-05-04 19:37:00.000000</td><td class=\"tdhistory976287\">5-star fantastic!</td></tr><tr><th class=\"tdhistory976287\" style= \"background: rgba(243, 243, 243, 0.75)\">4</th><td class=\"tdhistory976287\">Angelique</td><td class=\"tdhistory976287\">Wade</td><td class=\"tdhistory976287\">Web Chat</td><td class=\"tdhistory976287\">2018-04-02 10:45:00.000000</td><td class=\"tdhistory976287\">Cute, poorly made</td></tr><tr><th class=\"tdhistory976287\" style= \"background: rgba(243, 243, 243, 0.75)\">5</th><td class=\"tdhistory976287\">Melinda</td><td class=\"tdhistory976287\">Valenzue</td><td class=\"tdhistory976287\">Return Policy In</td><td class=\"tdhistory976287\">2018-05-13 13:24:00.000000</td><td class=\"tdhistory976287\">Great fit</td></tr><tr><th class=\"tdhistory976287\" style= \"background: rgba(243, 243, 243, 0.75)\">6</th><td class=\"tdhistory976287\">Jordan</td><td class=\"tdhistory976287\">Mclean</td><td class=\"tdhistory976287\">Store Visit</td><td class=\"tdhistory976287\">2018-03-24 20:08:00.000000</td><td class=\"tdhistory976287\">Super comfy and cute</td></tr><tr><th class=\"tdhistory976287\" style= \"background: rgba(243, 243, 243, 0.75)\">7</th><td class=\"tdhistory976287\">Angelique</td><td class=\"tdhistory976287\">Wade</td><td class=\"tdhistory976287\">Web Chat</td><td class=\"tdhistory976287\">2018-04-02 10:45:00.000000</td><td class=\"tdhistory976287\">Cute, poorly made</td></tr><tr><th class=\"tdhistory976287\" style= \"background: rgba(243, 243, 243, 0.75)\">8</th><td class=\"tdhistory976287\">Melinda</td><td class=\"tdhistory976287\">Valenzue</td><td class=\"tdhistory976287\">Return Policy In</td><td class=\"tdhistory976287\">2018-05-13 13:24:00.000000</td><td class=\"tdhistory976287\">Great fit</td></tr><tr><th class=\"tdhistory976287\" style= \"background: rgba(243, 243, 243, 0.75)\">9</th><td class=\"tdhistory976287\">Jeromy</td><td class=\"tdhistory976287\">Hughes</td><td class=\"tdhistory976287\">Purchase</td><td class=\"tdhistory976287\">2018-04-07 10:12:00.000000</td><td class=\"tdhistory976287\"> i normally wear med</td></tr><tr><th class=\"tdhistory976287\" style= \"background: rgba(243, 243, 243, 0.75)\">10</th><td class=\"tdhistory976287\">Gabriela</td><td class=\"tdhistory976287\">Osborn</td><td class=\"tdhistory976287\">Store Visit</td><td class=\"tdhistory976287\">2018-03-18 21:14:00.000000</td><td class=\"tdhistory976287\">Comfortable and flat</td></tr><tr><th class=\"tdhistory976287\" style= \"background: rgba(243, 243, 243, 0.75)\">11</th><td class=\"tdhistory976287\">Gabriela</td><td class=\"tdhistory976287\">Osborn</td><td class=\"tdhistory976287\">Neutral Call</td><td class=\"tdhistory976287\">2018-03-18 21:15:00.000000</td><td class=\"tdhistory976287\">Comfortable and flat</td></tr><tr><th class=\"tdhistory976287\" style= \"background: rgba(243, 243, 243, 0.75)\">12</th><td class=\"tdhistory976287\">Glenna</td><td class=\"tdhistory976287\">Hurley</td><td class=\"tdhistory976287\">Product Browsing</td><td class=\"tdhistory976287\">2018-04-27 22:24:00.000000</td><td class=\"tdhistory976287\">Beautiful!</td></tr><tr><th class=\"tdhistory976287\" style= \"background: rgba(243, 243, 243, 0.75)\">13</th><td class=\"tdhistory976287\">Therese</td><td class=\"tdhistory976287\">Pope</td><td class=\"tdhistory976287\">Mem Purchase</td><td class=\"tdhistory976287\">2018-05-14 17:13:00.000000</td><td class=\"tdhistory976287\">Beautiful suit that </td></tr><tr><th class=\"tdhistory976287\" style= \"background: rgba(243, 243, 243, 0.75)\">14</th><td class=\"tdhistory976287\">Chas</td><td class=\"tdhistory976287\">Bradshaw</td><td class=\"tdhistory976287\">Service Inquiry</td><td class=\"tdhistory976287\">2018-05-10 11:26:00.000000</td><td class=\"tdhistory976287\">Super cute</td></tr><tr><th class=\"tdhistory976287\" style= \"background: rgba(243, 243, 243, 0.75)\">15</th><td class=\"tdhistory976287\">Aaron</td><td class=\"tdhistory976287\">Cooper</td><td class=\"tdhistory976287\">Neutral Call</td><td class=\"tdhistory976287\">2018-05-05 01:20:00.000000</td><td class=\"tdhistory976287\">High waist and seeme</td></tr><tr><th class=\"tdhistory976287\" style= \"background: rgba(243, 243, 243, 0.75)\">16</th><td class=\"tdhistory976287\">Therese</td><td class=\"tdhistory976287\">Pope</td><td class=\"tdhistory976287\">Mem Purchase</td><td class=\"tdhistory976287\">2018-05-14 17:13:00.000000</td><td class=\"tdhistory976287\">Beautiful suit that </td></tr><tr><th class=\"tdhistory976287\" style= \"background: rgba(243, 243, 243, 0.75)\">17</th><td class=\"tdhistory976287\">Chas</td><td class=\"tdhistory976287\">Bradshaw</td><td class=\"tdhistory976287\">Service Inquiry</td><td class=\"tdhistory976287\">2018-05-10 11:26:00.000000</td><td class=\"tdhistory976287\">Please offer this in</td></tr><tr><th class=\"tdhistory976287\" style= \"background: rgba(243, 243, 243, 0.75)\">18</th><td class=\"tdhistory976287\">Gabriela</td><td class=\"tdhistory976287\">Osborn</td><td class=\"tdhistory976287\">Web Chat</td><td class=\"tdhistory976287\">2018-03-20 07:33:00.000000</td><td class=\"tdhistory976287\">Delightful, differen</td></tr><tr><th class=\"tdhistory976287\" style= \"background: rgba(243, 243, 243, 0.75)\">19</th><td class=\"tdhistory976287\">Lottie</td><td class=\"tdhistory976287\">Mcfarlan</td><td class=\"tdhistory976287\">Store Visit</td><td class=\"tdhistory976287\">2018-04-08 07:44:00.000000</td><td class=\"tdhistory976287\">Love this romper</td></tr><tr><th class=\"tdhistory976287\" style= \"background: rgba(243, 243, 243, 0.75)\">20</th><td class=\"tdhistory976287\">Therese</td><td class=\"tdhistory976287\">Pope</td><td class=\"tdhistory976287\">Return Policy In</td><td class=\"tdhistory976287\">2018-05-04 22:00:00.000000</td><td class=\"tdhistory976287\">Beautiful suit that </td></tr><tr><th class=\"tdhistory976287\" style= \"background: rgba(243, 243, 243, 0.75)\">21</th><td class=\"tdhistory976287\">Dean</td><td class=\"tdhistory976287\">King</td><td class=\"tdhistory976287\">Product Browsing</td><td class=\"tdhistory976287\">2018-04-30 04:30:00.000000</td><td class=\"tdhistory976287\">Great basic!</td></tr><tr><th class=\"tdhistory976287\" style= \"background: rgba(243, 243, 243, 0.75)\">22</th><td class=\"tdhistory976287\">Lottie</td><td class=\"tdhistory976287\">Mcfarlan</td><td class=\"tdhistory976287\">Store Visit</td><td class=\"tdhistory976287\">2018-04-08 07:44:00.000000</td><td class=\"tdhistory976287\">Love this romper</td></tr><tr><th class=\"tdhistory976287\" style= \"background: rgba(243, 243, 243, 0.75)\">23</th><td class=\"tdhistory976287\">Therese</td><td class=\"tdhistory976287\">Pope</td><td class=\"tdhistory976287\">Return Policy In</td><td class=\"tdhistory976287\">2018-05-04 22:00:00.000000</td><td class=\"tdhistory976287\">Beautiful suit that </td></tr><tr><th class=\"tdhistory976287\" style= \"background: rgba(243, 243, 243, 0.75)\">24</th><td class=\"tdhistory976287\">Rubin</td><td class=\"tdhistory976287\">Lowe</td><td class=\"tdhistory976287\">Mem Purchase</td><td class=\"tdhistory976287\">2018-05-01 22:58:00.000000</td><td class=\"tdhistory976287\"></td></tr><tr><th class=\"tdhistory976287\" style= \"background: rgba(243, 243, 243, 0.75)\">25</th><td class=\"tdhistory976287\">Norris</td><td class=\"tdhistory976287\">Tucker</td><td class=\"tdhistory976287\">Product Browsing</td><td class=\"tdhistory976287\">2018-04-03 15:18:00.000000</td><td class=\"tdhistory976287\"></td></tr><tr><th class=\"tdhistory976287\" style= \"background: rgba(243, 243, 243, 0.75)\">26</th><td class=\"tdhistory976287\">Lottie</td><td class=\"tdhistory976287\">Mcfarlan</td><td class=\"tdhistory976287\">Purchase</td><td class=\"tdhistory976287\">2018-04-11 11:53:00.000000</td><td class=\"tdhistory976287\">Love this romper</td></tr><tr><th class=\"tdhistory976287\" style= \"background: rgba(243, 243, 243, 0.75)\">27</th><td class=\"tdhistory976287\">Harriett</td><td class=\"tdhistory976287\">Murillo</td><td class=\"tdhistory976287\">Web Chat</td><td class=\"tdhistory976287\">2018-05-01 09:00:00.000000</td><td class=\"tdhistory976287\">Are you kidding?</td></tr><tr><th class=\"tdhistory976287\" style= \"background: rgba(243, 243, 243, 0.75)\">28</th><td class=\"tdhistory976287\">Norris</td><td class=\"tdhistory976287\">Tucker</td><td class=\"tdhistory976287\">Product Browsing</td><td class=\"tdhistory976287\">2018-04-03 15:18:00.000000</td><td class=\"tdhistory976287\"></td></tr><tr><th class=\"tdhistory976287\" style= \"background: rgba(243, 243, 243, 0.75)\">29</th><td class=\"tdhistory976287\">Lottie</td><td class=\"tdhistory976287\">Mcfarlan</td><td class=\"tdhistory976287\">Purchase</td><td class=\"tdhistory976287\">2018-04-11 11:53:00.000000</td><td class=\"tdhistory976287\">Love this romper</td></tr><tr><th class=\"tdhistory976287\" style= \"background: rgba(243, 243, 243, 0.75)\">30</th><td class=\"tdhistory976287\">Jocelyn</td><td class=\"tdhistory976287\">Kirby</td><td class=\"tdhistory976287\">Web Chat</td><td class=\"tdhistory976287\">2018-04-06 23:21:00.000000</td><td class=\"tdhistory976287\">Beatiful and great q</td></tr></tbody></table></div>"
      ]
     },
     "execution_count": 17,
     "metadata": {
      "application/vnd.teradata.resultset": "{\"resultSetID\":\"/home/jovyan/JupyterLabRoot/Teradata/Resultsets/2024.09.12_16.33.53.125_UTC\",\"historyID\":12289,\"chunkID\":\"00001\",\"sessionid\":\"\",\"portnum\":\"\",\"dockermode\":\"docker\",\"totalRowCount\":30,\"chunkCount\":0,\"rowLimit\":0,\"columnMetadata\":[{\"columnName\":\"f_name\",\"columnTypeName\":\"VARCHAR\",\"length\":14,\"scale\":14},{\"columnNumber\":1,\"columnName\":\"l_name\",\"columnTypeName\":\"VARCHAR\",\"length\":8,\"scale\":8},{\"columnNumber\":2,\"columnName\":\"event\",\"columnTypeName\":\"VARCHAR\",\"length\":16,\"scale\":16},{\"columnNumber\":3,\"columnName\":\"datestamp\",\"columnTypeName\":\"TIMESTAMP\",\"length\":6,\"scale\":6},{\"columnNumber\":4,\"columnName\":\"comment_summary\",\"columnTypeName\":\"VARCHAR\",\"length\":20,\"scale\":20}]}"
     },
     "output_type": "execute_result"
    }
   ],
   "source": [
    "SELECT * FROM aws_glue_catalog.tddemos_glue_db.analytic_data_set;"
   ]
  },
  {
   "cell_type": "markdown",
   "id": "initial-debate",
   "metadata": {
    "tags": []
   },
   "source": [
    "<h2> End of demo </h2>"
   ]
  },
  {
   "cell_type": "code",
   "execution_count": 24,
   "id": "visible-contact",
   "metadata": {},
   "outputs": [
    {
     "name": "stdout",
     "output_type": "stream",
     "text": [
      "Success: 'otf_demo' disconnected"
     ]
    }
   ],
   "source": [
    "%disconnect otf_demo"
   ]
  },
  {
   "cell_type": "code",
   "execution_count": null,
   "id": "identical-electric",
   "metadata": {},
   "outputs": [],
   "source": []
  }
 ],
 "metadata": {
  "kernelspec": {
   "display_name": "Teradata SQL",
   "language": "Teradata SQL",
   "name": "teradatasql"
  },
  "language_info": {
   "codemirror_mode": "Teradata SQL",
   "file_extension": ".tdrs",
   "mimetype": "application/vnd.teradata.resultset",
   "name": "Teradata SQL",
   "nbconvert_exporter": "",
   "pygments_lexer": "",
   "version": "16.20"
  }
 },
 "nbformat": 4,
 "nbformat_minor": 5
}
