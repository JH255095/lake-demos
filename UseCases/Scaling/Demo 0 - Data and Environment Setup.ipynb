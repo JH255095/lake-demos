{
 "cells": [
  {
   "cell_type": "markdown",
   "id": "incident-conference",
   "metadata": {},
   "source": [
    "<header style=\"padding:10px;background:#f9f9f9;border-top:3px solid #00b2b1\"><img id=\"Teradata-logo\" src=\"https://www.teradata.com/Teradata/Images/Rebrand/Teradata_logo-two_color.png\" alt=\"Teradata\" width=\"220\" align=\"right\" />\n",
    "\n",
    "<p style = 'font-size:28px;font-family:Arial;color:#E37C4D'><b>VantageCloud Lake Systems Scaling and Monitoring</b></p>\n",
    "<hr>"
   ]
  },
  {
   "cell_type": "markdown",
   "id": "controlled-invite",
   "metadata": {},
   "source": [
    "<br>\n",
    "\n",
    "<b style = 'font-size:24px;font-family:Arial;color:#E37C4D'>Demo 0 - Foreign Table Setup</b>\n",
    "\n",
    "<p style = 'font-size:16px;font-family:Arial'>This notebook sets up the Foreign Table \"retail_sample_data.sales_transaction_line_parquet_ft\" that is used for the concurrency scaling query in \"Demo 1\".  The table uses the existing retail_sample_data.DEMO_AUTH_NOS authorization object and the td-usecases-data-store S3 bucket.</p>\n",
    "<hr>"
   ]
  },
  {
   "cell_type": "code",
   "execution_count": null,
   "id": "funded-metallic",
   "metadata": {},
   "outputs": [],
   "source": [
    "import teradatasql, json\n",
    "\n",
    "# load vars json\n",
    "with open('../vars.json', 'r') as f:\n",
    "    session_vars = json.load(f)\n",
    "\n",
    "name = session_vars['hierarchy']['SYSDBA']['username']\n",
    "pwd = session_vars['hierarchy']['SYSDBA']['password']\n",
    "\n",
    "with teradatasql.connect(host = session_vars['environment']['host'], \n",
    "                     user = name, \n",
    "                     password = pwd) as con:\n",
    "    cur = con.cursor()\n",
    "    try:\n",
    "        cur.execute('DROP TABLE retail_sample_data.sales_transaction_line_parquet_ft;')\n",
    "    except Exception as e:\n",
    "        # Table already exists\n",
    "        if str(e.args).find(\"3807\") >= 1:\n",
    "            pass\n",
    "        else:\n",
    "            raise\n",
    "            \n",
    "    qry = '''\n",
    "    CREATE MULTISET FOREIGN TABLE retail_sample_data.sales_transaction_line_parquet_ft ,FALLBACK ,\n",
    "         EXTERNAL SECURITY retail_sample_data.DEMO_AUTH_NOS\n",
    "         (\n",
    "          Location VARCHAR(2048) CHARACTER SET UNICODE CASESPECIFIC,\n",
    "          SalesTranId INTEGER,\n",
    "          SalesTranLineNum SMALLINT,\n",
    "          ItemId BIGINT,\n",
    "          ItemQty SMALLINT,\n",
    "          UnitSellingPriceAmt DECIMAL(7,4),\n",
    "          UnitCostAmt DECIMAL(7,4),\n",
    "          TranLineStatusCd CHAR(1) CHARACTER SET UNICODE NOT CASESPECIFIC,\n",
    "          SalesTranLineStartDttm TIMESTAMP(6) FORMAT 'Y4-MM-DDBHH:MI:SSDS(6)',\n",
    "          TranLineSalesTypeCd CHAR(12) CHARACTER SET UNICODE NOT CASESPECIFIC,\n",
    "          SalesTranLineEndDttm TIMESTAMP(6) FORMAT 'Y4-MM-DDBHH:MI:SSDS(6)',\n",
    "          TranLineDate DATE FORMAT 'Y4/MM/DD',\n",
    "          locationid SMALLINT,\n",
    "          dssupdatetime BYTEINT)\n",
    "    USING\n",
    "    (\n",
    "          LOCATION  ('/s3/s3.amazonaws.com/td-usecases-data-store/retail_sample_data/parquet/sales_transaction_line_gz/')\n",
    "          MANIFEST  ('FALSE')\n",
    "          PATHPATTERN  ('$alpha_admin_data_copy/$varchar2/$retail_sample_data/$filename')\n",
    "          STOREDAS  ('PARQUET')\n",
    "    )\n",
    "    NO PRIMARY INDEX \n",
    "    PARTITION BY COLUMN ADD 65518;\n",
    "    '''\n",
    "    \n",
    "    cur.execute(qry)"
   ]
  },
  {
   "cell_type": "markdown",
   "id": "outstanding-sitting",
   "metadata": {},
   "source": [
    "Copyright 2023, Teradata Corporation"
   ]
  }
 ],
 "metadata": {
  "kernelspec": {
   "display_name": "Python 3 (ipykernel)",
   "language": "python",
   "name": "python3"
  },
  "language_info": {
   "codemirror_mode": {
    "name": "ipython",
    "version": 3
   },
   "file_extension": ".py",
   "mimetype": "text/x-python",
   "name": "python",
   "nbconvert_exporter": "python",
   "pygments_lexer": "ipython3",
   "version": "3.8.8"
  }
 },
 "nbformat": 4,
 "nbformat_minor": 5
}
