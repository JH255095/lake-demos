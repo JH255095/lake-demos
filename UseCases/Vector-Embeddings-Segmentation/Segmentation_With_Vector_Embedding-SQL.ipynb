{
 "cells": [
  {
   "cell_type": "markdown",
   "metadata": {},
   "source": [
    "<header>\n",
    "   <p  style='font-size:36px;font-family:Arial; color:#F0F0F0; background-color: #00233c; padding-left: 20pt; padding-top: 20pt;padding-bottom: 10pt; padding-right: 20pt;'>\n",
    "       Optimize Customer Segmentation using ClearScape Analytic Functions and Open-Source LLMs\n",
    "  <br>\n",
    "       <img id=\"teradata-logo\" src=\"../../images/TeradataLogo.png\" alt=\"Teradata\" style=\"width: 125px; height: auto; margin-top: 20pt;\">\n",
    "    </p>\n",
    "</header>\n",
    "<hr>"
   ]
  },
  {
   "cell_type": "markdown",
   "metadata": {},
   "source": [
    "<br>\n",
    "\n",
    "<b style = 'font-size:24px;font-family:Arial;color:#00233C'>Leverage highly-scalable native processing functions to create ideal customer segments using word embeddings and clustering algorithms</b>\n",
    "\n",
    "<p style = 'font-size:16px;font-family:Arial;color:#00233C'><b>Vector embedding</b> is a numerical representation of data that captures semantic relationships and similarities, making it possible to perform mathematical operations and comparisons on the data for various tasks like text analysis and recommendation systems.</p>\n",
    "\n",
    "<p style = 'font-size:16px;font-family:Arial;color:#00233C'><b>K-means clustering</b> is one of the most popular <b>unsupervised</b> machine learning algorithms.  Essentially, the algorithm seeks to group similar data points together by minimizing the average (\"means\" in K-means) distance for all data points from each cluster's center (centroid).</p>\n",
    "\n",
    "<p style = 'font-size:16px;font-family:Arial;color:#00233C'>Using <b>Teradata Vantage</b> and <b>ClearScape Analytics</b>, we can combine these advanced AI and ML techniques to <b>rapidly</b> find the ideal number of customer segments based on the semantic meaning of their comments history.  This segmentation can be used on its own for marketing and other tasts, or used in further predictive analytics use cases.</p>\n",
    "\n",
    "<table style = 'width:100%;table-layout:fixed;'>\n",
    "    <tr>\n",
    "        <td style = 'vertical-align:top' width = '50%'>\n",
    "            <ol style = 'font-size:16px;font-family:Arial;color:#00233C'>\n",
    "                <li>Create a Vector Embedding table using open-source LLMs applied at scale in the database</li>\n",
    "                <br>\n",
    "                <li>Rapidly iterate over multiple K-means models, evaluating each</li>\n",
    "                <br>\n",
    "                <li>Visualize the experimental results to indicate the best cluster</li>\n",
    "            </ol>\n",
    "        </td>\n",
    "        <td><img src = 'images/comparative_superlative_small.jpg' width = '250'></td>\n",
    "        <td><img src = 'images/K-means_convergence.gif' width = '250'></td>\n",
    "    </tr>\n",
    "</table>\n",
    "\n",
    "<hr>"
   ]
  },
  {
   "cell_type": "code",
   "execution_count": 2,
   "metadata": {},
   "outputs": [
    {
     "name": "stdin",
     "output_type": "stream",
     "text": [
      "Password: ········\n"
     ]
    },
    {
     "name": "stdout",
     "output_type": "stream",
     "text": [
      "Success: 'lake_user' connection established and activated for user 'data_scientist'\n"
     ]
    }
   ],
   "source": [
    "%connect lake_user, user=data_scientist"
   ]
  },
  {
   "cell_type": "markdown",
   "metadata": {},
   "source": [
    "<hr>\n",
    "<p style = 'font-size:20px;font-family:Arial;color:#00233C'><b>Step 1 - Data Preparation using an LLM to create a Vector Table</b></p>\n",
    "\n",
    "<p style = 'font-size:16px;font-family:Arial;color:#00233C'>Here, we will inspect the original data set, and use native vector embedding functions to generate features</p>\n",
    "\n",
    "<ol style = 'font-size:16px;font-family:Arialcolor:#00233C'>\n",
    "    <li>Inspect the rows of the Customer Comments table</li>\n",
    "    <li>Inspect the GloVe Model table</li>\n",
    "    <li>Use TD_WordEmbeddings function to create the vector table</li>\n",
    "    </ol>\n",
    "    "
   ]
  },
  {
   "cell_type": "markdown",
   "metadata": {},
   "source": [
    "<hr>\n",
    "<b style = 'font-size:18px;font-family:Arial;color:#00233C'>1.1 - Inspect the Data</b>\n",
    "\n",
    "<p style = 'font-size:16px;font-family:Arialcolor:#00233C'>Display a sample</p>"
   ]
  },
  {
   "cell_type": "code",
   "execution_count": 3,
   "metadata": {},
   "outputs": [
    {
     "data": {
      "application/vnd.teradata.resultset": "\"comment_id\",\"customer_id\",\"comment_text\",\"comment_summary\"\n\"16953\",\"1183\",\"This shirt is so soft and buttery! it fits tts and just as shown on the model. for the sale price, this shirt is a gonga! good go-to shirt on those days where you're just not sure what to wear. one thing that slightly bothers me about this shirt is that the arm holes are a bit loose, so you can see your bra. i think if you wear a black bra with it though, it would be fine.\",\"Soft & buttery!\"\n\"3964\",\"1094\",\"This caught my eye and i tried it on the in the store today (the green). i found it to run a little bit large - i expected the small to fit, but the xs fit me better (better fit in armholes and also less billowy). i really like the way it looks, but ulitimately did not purchase it today. i might reconsider on sale. the flaws (in my opinion) are that it is dry clean only, the skirt is not lined (and should be), and it's a bit overpriced for the quality. but on the other hand, it's very cute and f\",\"Cute and flattering but some flaws\"",
      "text/html": [
       "<div class = \"td-resultset-table-div\" style = \"max-height: 100%; overflow-y: auto\">\n",
       "      <table class=\"tdhistory937288\"><style>\n",
       "      table.tdhistory937288 { display: block !important; min-height: 126px !important; overflow: auto !important; height: 126px !important; width: 100% !important; border: 1px solid rgb(207, 207, 207) !important; border-collapse: collapse !important; ; color: var(--jp-ui-font-color1) !important; }\n",
       "      th.tdhistory937288 { border: 1px solid rgb(198,198,198) !important; border-collapse: collapse !important; ; padding: 2px 5px !important; ; font-size: 13px !important; ; text-align: center !important; white-space: normal !important; color: var(--jp-ui-font-color1) !important; }\n",
       "      th.tdhistory937288:last-child { text-align: left !important; }\n",
       "      tbody.tdhistory937288 tr:nth-child(even) { background: rgba(243, 243, 243, 0.75) !important; }\n",
       "      tbody.tdhistory937288 tr:nth-child(odd) { background: var(--jp-ui-inverse-font-color1) !important; }\n",
       "      td.tdhistory937288 { border: 1px solid rgb(207, 207, 207) !important; border-collapse: collapse !important; ; padding: 2px 5px !important; ; font-size: 13px !important; ; text-align: left !important;          white-space: nowrap !important; overflow:hidden !important; text-overflow:ellipsis !important;; }\n",
       "    </style><thead><tr style= \"background: rgba(243, 243, 243, 0.75)\"><th class=\"tdhistory937288\"></th><th class=\"tdhistory937288\">comment_id</th><th class=\"tdhistory937288\">customer_id</th><th class=\"tdhistory937288\">comment_text</th><th class=\"tdhistory937288\">comment_summary</th></tr></thead><tbody class=\"tdhistory937288 resultset-body\"><tr><th class=\"tdhistory937288\" style= \"background: rgba(243, 243, 243, 0.75)\">1</th><td class=\"tdhistory937288\">16953</td><td class=\"tdhistory937288\">1183</td><td class=\"tdhistory937288\">This shirt is so soft and buttery! it fits tts and just as shown on the model. for the sale price, this shirt is a gonga! good go-to shirt on those days where you're just not sure what to wear. one thing that slightly bothers me about this shirt is that the arm holes are a bit loose, so you can see your bra. i think if you wear a black bra with it though, it would be fine.</td><td class=\"tdhistory937288\">Soft & buttery!</td></tr><tr><th class=\"tdhistory937288\" style= \"background: rgba(243, 243, 243, 0.75)\">2</th><td class=\"tdhistory937288\">3964</td><td class=\"tdhistory937288\">1094</td><td class=\"tdhistory937288\">This caught my eye and i tried it on the in the store today (the green). i found it to run a little bit large - i expected the small to fit, but the xs fit me better (better fit in armholes and also less billowy). i really like the way it looks, but ulitimately did not purchase it today. i might reconsider on sale. the flaws (in my opinion) are that it is dry clean only, the skirt is not lined (and should be), and it's a bit overpriced for the quality. but on the other hand, it's very cute and f</td><td class=\"tdhistory937288\">Cute and flattering but some flaws</td></tr></tbody></table></div>"
      ]
     },
     "execution_count": 3,
     "metadata": {
      "application/vnd.teradata.resultset": "{\"resultSetID\":\"/home/jovyan/JupyterLabRoot/Teradata/Resultsets/2024.05.13_13.34.40.748_UTC\",\"historyID\":10186,\"chunkID\":\"00001\",\"sessionid\":\"\",\"portnum\":\"\",\"dockermode\":\"docker\",\"totalRowCount\":2,\"chunkCount\":0,\"rowLimit\":0,\"columnMetadata\":[{\"columnName\":\"comment_id\",\"columnTypeName\":\"INTEGER\"},{\"columnNumber\":1,\"columnName\":\"customer_id\",\"columnTypeName\":\"INTEGER\"},{\"columnNumber\":2,\"columnName\":\"comment_text\",\"columnTypeName\":\"VARCHAR\",\"length\":50000,\"scale\":50000},{\"columnNumber\":3,\"columnName\":\"comment_summary\",\"columnTypeName\":\"VARCHAR\",\"length\":50000,\"scale\":50000}]}"
     },
     "output_type": "execute_result"
    }
   ],
   "source": [
    "SELECT * FROM demo_ofs.web_comment\n",
    "SAMPLE 2;"
   ]
  },
  {
   "cell_type": "markdown",
   "metadata": {},
   "source": [
    "<hr>\n",
    "<b style = 'font-size:18px;font-family:Arial;color:#00233'>1.2 - Model table</b>\n",
    "\n",
    "<p style = 'font-size:16px;font-family:Arial;color:#00233C'>We format the model table as in the documentation: a column for the token, and a column for each dimension of the vector space. This example uses the GloVe 50-dimensional pre-trained embeddings. We filter out non-ASCII characters to comply with the function's requirements.</p>"
   ]
  },
  {
   "cell_type": "code",
   "execution_count": 4,
   "metadata": {},
   "outputs": [
    {
     "data": {
      "application/vnd.teradata.resultset": "\"doc_id\",\"v1\",\"v2\",\"v3\",\"v4\",\"v5\",\"v6\",\"v7\",\"v8\",\"v9\",\"v10\",\"v11\",\"v12\",\"v13\",\"v14\",\"v15\",\"v16\",\"v17\",\"v18\",\"v19\",\"v20\",\"v21\",\"v22\",\"v23\",\"v24\",\"v25\",\"v26\",\"v27\",\"v28\",\"v29\",\"v30\",\"v31\",\"v32\",\"v33\",\"v34\",\"v35\",\"v36\",\"v37\",\"v38\",\"v39\",\"v40\",\"v41\",\"v42\",\"v43\",\"v44\",\"v45\",\"v46\",\"v47\",\"v48\",\"v49\",\"v50\"\n\"orneriness\",\"-0.30202\",\"-0.64364\",\"0.010434\",\"-0.25141\",\"-0.12369\",\"-0.46633\",\"0.90522\",\"0.28227\",\"0.027677\",\"0.73168\",\"-0.20398\",\"-0.11015\",\"0.13409\",\"-0.28226\",\"-0.51166\",\"-0.3291\",\"-0.15619\",\"-0.14484\",\"0.81158\",\"-0.3252\",\"-0.69653\",\"-0.2477\",\"-0.050966\",\"-0.29896\",\"-0.16134\",\"0.54112\",\"-0.70124\",\"0.53563\",\"1.1713\",\"0.19366\",\"-1.1648\",\"-0.040515\",\"0.45243\",\"-0.22988\",\"0.11823\",\"0.54276\",\"-0.28866\",\"0.42029\",\"-0.56028\",\"0.45282\",\"0.2655\",\"0.22092\",\"-0.1962\",\"0.60572\",\"-0.53599\",\"-0.34969\",\"0.0056389\",\"-0.11653\",\"-0.02756\",\"-0.23504\"\n\"metropolitanate\",\"-0.25558\",\"0.35836\",\"-1.2885\",\"-0.65756\",\"0.11604\",\"-0.0097458\",\"1.3115\",\"0.037913\",\"-0.89017\",\"-0.22405\",\"1.4893\",\"-0.7579\",\"0.086938\",\"0.3261\",\"-0.77208\",\"0.93066\",\"-0.57054\",\"-0.27625\",\"0.67654\",\"-0.068094\",\"-0.20722\",\"-0.61042\",\"-1.463\",\"0.82927\",\"-0.97746\",\"0.72857\",\"-0.37158\",\"0.69593\",\"-0.42403\",\"0.65376\",\"-0.98001\",\"0.00364\",\"0.060261\",\"0.042284\",\"-0.20961\",\"-0.81231\",\"0.29793\",\"-0.32639\",\"-0.68317\",\"0.82476\",\"0.37002\",\"-0.37242\",\"0.21369\",\"0.23434\",\"-0.95033\",\"-0.3329\",\"0.30133\",\"-0.43\",\"-0.10963\",\"-1.0325\"",
      "text/html": [
       "<div class = \"td-resultset-table-div\" style = \"max-height: 100%; overflow-y: auto\">\n",
       "      <table class=\"tdhistory55771\"><style>\n",
       "      table.tdhistory55771 { display: block !important; min-height: 126px !important; overflow: auto !important; height: 126px !important; width: 100% !important; border: 1px solid rgb(207, 207, 207) !important; border-collapse: collapse !important; ; color: var(--jp-ui-font-color1) !important; }\n",
       "      th.tdhistory55771 { border: 1px solid rgb(198,198,198) !important; border-collapse: collapse !important; ; padding: 2px 5px !important; ; font-size: 13px !important; ; text-align: center !important; white-space: normal !important; color: var(--jp-ui-font-color1) !important; }\n",
       "      th.tdhistory55771:last-child { text-align: left !important; }\n",
       "      tbody.tdhistory55771 tr:nth-child(even) { background: rgba(243, 243, 243, 0.75) !important; }\n",
       "      tbody.tdhistory55771 tr:nth-child(odd) { background: var(--jp-ui-inverse-font-color1) !important; }\n",
       "      td.tdhistory55771 { border: 1px solid rgb(207, 207, 207) !important; border-collapse: collapse !important; ; padding: 2px 5px !important; ; font-size: 13px !important; ; text-align: left !important;          white-space: nowrap !important; overflow:hidden !important; text-overflow:ellipsis !important;; }\n",
       "    </style><thead><tr style= \"background: rgba(243, 243, 243, 0.75)\"><th class=\"tdhistory55771\"></th><th class=\"tdhistory55771\">doc_id</th><th class=\"tdhistory55771\">v1</th><th class=\"tdhistory55771\">v2</th><th class=\"tdhistory55771\">v3</th><th class=\"tdhistory55771\">v4</th><th class=\"tdhistory55771\">v5</th><th class=\"tdhistory55771\">v6</th><th class=\"tdhistory55771\">v7</th><th class=\"tdhistory55771\">v8</th><th class=\"tdhistory55771\">v9</th><th class=\"tdhistory55771\">v10</th><th class=\"tdhistory55771\">v11</th><th class=\"tdhistory55771\">v12</th><th class=\"tdhistory55771\">v13</th><th class=\"tdhistory55771\">v14</th><th class=\"tdhistory55771\">v15</th><th class=\"tdhistory55771\">v16</th><th class=\"tdhistory55771\">v17</th><th class=\"tdhistory55771\">v18</th><th class=\"tdhistory55771\">v19</th><th class=\"tdhistory55771\">v20</th><th class=\"tdhistory55771\">v21</th><th class=\"tdhistory55771\">v22</th><th class=\"tdhistory55771\">v23</th><th class=\"tdhistory55771\">v24</th><th class=\"tdhistory55771\">v25</th><th class=\"tdhistory55771\">v26</th><th class=\"tdhistory55771\">v27</th><th class=\"tdhistory55771\">v28</th><th class=\"tdhistory55771\">v29</th><th class=\"tdhistory55771\">v30</th><th class=\"tdhistory55771\">v31</th><th class=\"tdhistory55771\">v32</th><th class=\"tdhistory55771\">v33</th><th class=\"tdhistory55771\">v34</th><th class=\"tdhistory55771\">v35</th><th class=\"tdhistory55771\">v36</th><th class=\"tdhistory55771\">v37</th><th class=\"tdhistory55771\">v38</th><th class=\"tdhistory55771\">v39</th><th class=\"tdhistory55771\">v40</th><th class=\"tdhistory55771\">v41</th><th class=\"tdhistory55771\">v42</th><th class=\"tdhistory55771\">v43</th><th class=\"tdhistory55771\">v44</th><th class=\"tdhistory55771\">v45</th><th class=\"tdhistory55771\">v46</th><th class=\"tdhistory55771\">v47</th><th class=\"tdhistory55771\">v48</th><th class=\"tdhistory55771\">v49</th><th class=\"tdhistory55771\">v50</th></tr></thead><tbody class=\"tdhistory55771 resultset-body\"><tr><th class=\"tdhistory55771\" style= \"background: rgba(243, 243, 243, 0.75)\">1</th><td class=\"tdhistory55771\">orneriness</td><td class=\"tdhistory55771\">-0.30202</td><td class=\"tdhistory55771\">-0.64364</td><td class=\"tdhistory55771\">0.010434</td><td class=\"tdhistory55771\">-0.25141</td><td class=\"tdhistory55771\">-0.12369</td><td class=\"tdhistory55771\">-0.46633</td><td class=\"tdhistory55771\">0.90522</td><td class=\"tdhistory55771\">0.28227</td><td class=\"tdhistory55771\">0.027677</td><td class=\"tdhistory55771\">0.73168</td><td class=\"tdhistory55771\">-0.20398</td><td class=\"tdhistory55771\">-0.11015</td><td class=\"tdhistory55771\">0.13409</td><td class=\"tdhistory55771\">-0.28226</td><td class=\"tdhistory55771\">-0.51166</td><td class=\"tdhistory55771\">-0.3291</td><td class=\"tdhistory55771\">-0.15619</td><td class=\"tdhistory55771\">-0.14484</td><td class=\"tdhistory55771\">0.81158</td><td class=\"tdhistory55771\">-0.3252</td><td class=\"tdhistory55771\">-0.69653</td><td class=\"tdhistory55771\">-0.2477</td><td class=\"tdhistory55771\">-0.050966</td><td class=\"tdhistory55771\">-0.29896</td><td class=\"tdhistory55771\">-0.16134</td><td class=\"tdhistory55771\">0.54112</td><td class=\"tdhistory55771\">-0.70124</td><td class=\"tdhistory55771\">0.53563</td><td class=\"tdhistory55771\">1.1713</td><td class=\"tdhistory55771\">0.19366</td><td class=\"tdhistory55771\">-1.1648</td><td class=\"tdhistory55771\">-0.040515</td><td class=\"tdhistory55771\">0.45243</td><td class=\"tdhistory55771\">-0.22988</td><td class=\"tdhistory55771\">0.11823</td><td class=\"tdhistory55771\">0.54276</td><td class=\"tdhistory55771\">-0.28866</td><td class=\"tdhistory55771\">0.42029</td><td class=\"tdhistory55771\">-0.56028</td><td class=\"tdhistory55771\">0.45282</td><td class=\"tdhistory55771\">0.2655</td><td class=\"tdhistory55771\">0.22092</td><td class=\"tdhistory55771\">-0.1962</td><td class=\"tdhistory55771\">0.60572</td><td class=\"tdhistory55771\">-0.53599</td><td class=\"tdhistory55771\">-0.34969</td><td class=\"tdhistory55771\">0.0056389</td><td class=\"tdhistory55771\">-0.11653</td><td class=\"tdhistory55771\">-0.02756</td><td class=\"tdhistory55771\">-0.23504</td></tr><tr><th class=\"tdhistory55771\" style= \"background: rgba(243, 243, 243, 0.75)\">2</th><td class=\"tdhistory55771\">metropolitanate</td><td class=\"tdhistory55771\">-0.25558</td><td class=\"tdhistory55771\">0.35836</td><td class=\"tdhistory55771\">-1.2885</td><td class=\"tdhistory55771\">-0.65756</td><td class=\"tdhistory55771\">0.11604</td><td class=\"tdhistory55771\">-0.0097458</td><td class=\"tdhistory55771\">1.3115</td><td class=\"tdhistory55771\">0.037913</td><td class=\"tdhistory55771\">-0.89017</td><td class=\"tdhistory55771\">-0.22405</td><td class=\"tdhistory55771\">1.4893</td><td class=\"tdhistory55771\">-0.7579</td><td class=\"tdhistory55771\">0.086938</td><td class=\"tdhistory55771\">0.3261</td><td class=\"tdhistory55771\">-0.77208</td><td class=\"tdhistory55771\">0.93066</td><td class=\"tdhistory55771\">-0.57054</td><td class=\"tdhistory55771\">-0.27625</td><td class=\"tdhistory55771\">0.67654</td><td class=\"tdhistory55771\">-0.068094</td><td class=\"tdhistory55771\">-0.20722</td><td class=\"tdhistory55771\">-0.61042</td><td class=\"tdhistory55771\">-1.463</td><td class=\"tdhistory55771\">0.82927</td><td class=\"tdhistory55771\">-0.97746</td><td class=\"tdhistory55771\">0.72857</td><td class=\"tdhistory55771\">-0.37158</td><td class=\"tdhistory55771\">0.69593</td><td class=\"tdhistory55771\">-0.42403</td><td class=\"tdhistory55771\">0.65376</td><td class=\"tdhistory55771\">-0.98001</td><td class=\"tdhistory55771\">0.00364</td><td class=\"tdhistory55771\">0.060261</td><td class=\"tdhistory55771\">0.042284</td><td class=\"tdhistory55771\">-0.20961</td><td class=\"tdhistory55771\">-0.81231</td><td class=\"tdhistory55771\">0.29793</td><td class=\"tdhistory55771\">-0.32639</td><td class=\"tdhistory55771\">-0.68317</td><td class=\"tdhistory55771\">0.82476</td><td class=\"tdhistory55771\">0.37002</td><td class=\"tdhistory55771\">-0.37242</td><td class=\"tdhistory55771\">0.21369</td><td class=\"tdhistory55771\">0.23434</td><td class=\"tdhistory55771\">-0.95033</td><td class=\"tdhistory55771\">-0.3329</td><td class=\"tdhistory55771\">0.30133</td><td class=\"tdhistory55771\">-0.43</td><td class=\"tdhistory55771\">-0.10963</td><td class=\"tdhistory55771\">-1.0325</td></tr></tbody></table></div>"
      ]
     },
     "execution_count": 4,
     "metadata": {
      "application/vnd.teradata.resultset": "{\"resultSetID\":\"/home/jovyan/JupyterLabRoot/Teradata/Resultsets/2024.05.13_13.35.03.187_UTC\",\"historyID\":10187,\"chunkID\":\"00001\",\"sessionid\":\"\",\"portnum\":\"\",\"dockermode\":\"docker\",\"totalRowCount\":2,\"chunkCount\":0,\"rowLimit\":0,\"columnMetadata\":[{\"columnName\":\"doc_id\",\"columnTypeName\":\"VARCHAR\",\"length\":50,\"scale\":50},{\"columnNumber\":1,\"columnName\":\"v1\",\"columnTypeName\":\"FLOAT\"},{\"columnNumber\":2,\"columnName\":\"v2\",\"columnTypeName\":\"FLOAT\"},{\"columnNumber\":3,\"columnName\":\"v3\",\"columnTypeName\":\"FLOAT\"},{\"columnNumber\":4,\"columnName\":\"v4\",\"columnTypeName\":\"FLOAT\"},{\"columnNumber\":5,\"columnName\":\"v5\",\"columnTypeName\":\"FLOAT\"},{\"columnNumber\":6,\"columnName\":\"v6\",\"columnTypeName\":\"FLOAT\"},{\"columnNumber\":7,\"columnName\":\"v7\",\"columnTypeName\":\"FLOAT\"},{\"columnNumber\":8,\"columnName\":\"v8\",\"columnTypeName\":\"FLOAT\"},{\"columnNumber\":9,\"columnName\":\"v9\",\"columnTypeName\":\"FLOAT\"},{\"columnNumber\":10,\"columnName\":\"v10\",\"columnTypeName\":\"FLOAT\"},{\"columnNumber\":11,\"columnName\":\"v11\",\"columnTypeName\":\"FLOAT\"},{\"columnNumber\":12,\"columnName\":\"v12\",\"columnTypeName\":\"FLOAT\"},{\"columnNumber\":13,\"columnName\":\"v13\",\"columnTypeName\":\"FLOAT\"},{\"columnNumber\":14,\"columnName\":\"v14\",\"columnTypeName\":\"FLOAT\"},{\"columnNumber\":15,\"columnName\":\"v15\",\"columnTypeName\":\"FLOAT\"},{\"columnNumber\":16,\"columnName\":\"v16\",\"columnTypeName\":\"FLOAT\"},{\"columnNumber\":17,\"columnName\":\"v17\",\"columnTypeName\":\"FLOAT\"},{\"columnNumber\":18,\"columnName\":\"v18\",\"columnTypeName\":\"FLOAT\"},{\"columnNumber\":19,\"columnName\":\"v19\",\"columnTypeName\":\"FLOAT\"},{\"columnNumber\":20,\"columnName\":\"v20\",\"columnTypeName\":\"FLOAT\"},{\"columnNumber\":21,\"columnName\":\"v21\",\"columnTypeName\":\"FLOAT\"},{\"columnNumber\":22,\"columnName\":\"v22\",\"columnTypeName\":\"FLOAT\"},{\"columnNumber\":23,\"columnName\":\"v23\",\"columnTypeName\":\"FLOAT\"},{\"columnNumber\":24,\"columnName\":\"v24\",\"columnTypeName\":\"FLOAT\"},{\"columnNumber\":25,\"columnName\":\"v25\",\"columnTypeName\":\"FLOAT\"},{\"columnNumber\":26,\"columnName\":\"v26\",\"columnTypeName\":\"FLOAT\"},{\"columnNumber\":27,\"columnName\":\"v27\",\"columnTypeName\":\"FLOAT\"},{\"columnNumber\":28,\"columnName\":\"v28\",\"columnTypeName\":\"FLOAT\"},{\"columnNumber\":29,\"columnName\":\"v29\",\"columnTypeName\":\"FLOAT\"},{\"columnNumber\":30,\"columnName\":\"v30\",\"columnTypeName\":\"FLOAT\"},{\"columnNumber\":31,\"columnName\":\"v31\",\"columnTypeName\":\"FLOAT\"},{\"columnNumber\":32,\"columnName\":\"v32\",\"columnTypeName\":\"FLOAT\"},{\"columnNumber\":33,\"columnName\":\"v33\",\"columnTypeName\":\"FLOAT\"},{\"columnNumber\":34,\"columnName\":\"v34\",\"columnTypeName\":\"FLOAT\"},{\"columnNumber\":35,\"columnName\":\"v35\",\"columnTypeName\":\"FLOAT\"},{\"columnNumber\":36,\"columnName\":\"v36\",\"columnTypeName\":\"FLOAT\"},{\"columnNumber\":37,\"columnName\":\"v37\",\"columnTypeName\":\"FLOAT\"},{\"columnNumber\":38,\"columnName\":\"v38\",\"columnTypeName\":\"FLOAT\"},{\"columnNumber\":39,\"columnName\":\"v39\",\"columnTypeName\":\"FLOAT\"},{\"columnNumber\":40,\"columnName\":\"v40\",\"columnTypeName\":\"FLOAT\"},{\"columnNumber\":41,\"columnName\":\"v41\",\"columnTypeName\":\"FLOAT\"},{\"columnNumber\":42,\"columnName\":\"v42\",\"columnTypeName\":\"FLOAT\"},{\"columnNumber\":43,\"columnName\":\"v43\",\"columnTypeName\":\"FLOAT\"},{\"columnNumber\":44,\"columnName\":\"v44\",\"columnTypeName\":\"FLOAT\"},{\"columnNumber\":45,\"columnName\":\"v45\",\"columnTypeName\":\"FLOAT\"},{\"columnNumber\":46,\"columnName\":\"v46\",\"columnTypeName\":\"FLOAT\"},{\"columnNumber\":47,\"columnName\":\"v47\",\"columnTypeName\":\"FLOAT\"},{\"columnNumber\":48,\"columnName\":\"v48\",\"columnTypeName\":\"FLOAT\"},{\"columnNumber\":49,\"columnName\":\"v49\",\"columnTypeName\":\"FLOAT\"},{\"columnNumber\":50,\"columnName\":\"v50\",\"columnTypeName\":\"FLOAT\"}]}"
     },
     "output_type": "execute_result"
    }
   ],
   "source": [
    "SELECT * FROM demo_ofs.glove_6B_50d\n",
    "SAMPLE 2;"
   ]
  },
  {
   "cell_type": "markdown",
   "metadata": {},
   "source": [
    "<hr>\n",
    "<b style = 'font-size:18px;font-family:Arial;color:#00233C'>1.3 - Embeddings</b>\n",
    "<p style = 'font-size:16px;font-family:Arial;color:#00233C'>TD_WordEmbeddings can perform four operations: token-embedding, doc-embedding, token2token-similarity, and doc2doc-similarity. This notebook shows the first two.  We will use doc-embedding as the basis for our Segmentation.</p>"
   ]
  },
  {
   "cell_type": "code",
   "execution_count": 6,
   "metadata": {},
   "outputs": [
    {
     "data": {
      "application/vnd.teradata.resultset": "\"comment_id\",\"TD_Token\",\"TD_TokenCount\",\"v1\",\"v2\",\"v3\",\"v4\",\"v5\",\"v6\",\"v7\",\"v8\",\"v9\",\"v10\",\"v11\",\"v12\",\"v13\",\"v14\",\"v15\",\"v16\",\"v17\",\"v18\",\"v19\",\"v20\",\"v21\",\"v22\",\"v23\",\"v24\",\"v25\",\"v26\",\"v27\",\"v28\",\"v29\",\"v30\",\"v31\",\"v32\",\"v33\",\"v34\",\"v35\",\"v36\",\"v37\",\"v38\",\"v39\",\"v40\",\"v41\",\"v42\",\"v43\",\"v44\",\"v45\",\"v46\",\"v47\",\"v48\",\"v49\",\"v50\"\n\"23295\",\"works\",\"1\",\"0.56266\",\"0.59051\",\"-0.72821\",\"-0.65968\",\"0.0804\",\"0.41202\",\"-0.82194\",\"-0.83249\",\"-0.36639\",\"0.60104\",\"0.042207\",\"0.60547\",\"-0.11445\",\"-0.086225\",\"0.12744\",\"-0.78824\",\"0.24082\",\"0.39307\",\"0.22186\",\"-0.32826\",\"1.0595\",\"0.10519\",\"-0.41677\",\"-0.059855\",\"0.43805\",\"-0.82992\",\"-1.2822\",\"-0.61877\",\"-0.32833\",\"-0.50885\",\"3.0525\",\"-0.98247\",\"0.3645\",\"-0.84238\",\"0.036912\",\"0.54804\",\"0.21519\",\"1.078\",\"0.24821\",\"0.59137\",\"0.54625\",\"-0.047358\",\"0.22515\",\"-0.35574\",\"-0.057102\",\"0.32641\",\"-0.2652\",\"-0.22713\",\"-0.27025\",\"0.13165\"\n\"23295\",\"be\",\"1\",\"0.91102\",\"-0.22872\",\"0.2077\",\"-0.20237\",\"0.50697\",\"-0.057893\",\"-0.41729\",\"-0.075341\",\"-0.30454\",\"-0.003286\",\"0.44481\",\"0.41818\",\"-0.33409\",\"0.032917\",\"0.98872\",\"0.91984\",\"0.40521\",\"0.01925\",\"-0.1052\",\"-0.79865\",\"-0.36403\",\"-0.087995\",\"0.72182\",\"0.11114\",\"0.2153\",\"-1.9411\",\"-0.26376\",\"0.4455\",\"0.27586\",\"-0.21104\",\"4.0212\",\"-0.061943\",\"-0.32134\",\"-0.81922\",\"0.2108\",\"-0.20414\",\"0.72625\",\"0.47517\",\"-0.39853\",\"-0.39168\",\"-0.34581\",\"0.025928\",\"0.13072\",\"0.73562\",\"-0.15199\",\"-0.18439\",\"-0.67128\",\"0.16692\",\"-0.050063\",\"0.19241\"\n\"23295\",\"very\",\"1\",\"0.57049\",\"-0.0077854\",\"-0.70766\",\"-0.31785\",\"0.89493\",\"-0.016128\",\"-0.067149\",\"0.15765\",\"-0.49832\",\"0.25845\",\"0.10943\",\"0.36728\",\"-0.14843\",\"0.063286\",\"0.20832\",\"0.4592\",\"0.71781\",\"0.22772\",\"-0.0015349\",\"-0.93093\",\"-0.80048\",\"0.46714\",\"0.41571\",\"0.17572\",\"1.0876\",\"-1.6116\",\"-0.70943\",\"0.83772\",\"0.67081\",\"0.18139\",\"3.9899\",\"-0.1027\",\"0.439\",\"-0.67926\",\"0.11861\",\"-0.20182\",\"-0.081603\",\"0.90739\",\"-0.52258\",\"-0.48426\",\"-0.31326\",\"0.10325\",\"0.13036\",\"0.35115\",\"0.37593\",\"0.064388\",\"-0.2259\",\"0.079125\",\"0.12573\",\"0.83939\"\n\"23295\",\"sizes\",\"1\",\"0.091757\",\"0.96352\",\"0.79818\",\"-0.29092\",\"0.32143\",\"0.91283\",\"0.43096\",\"-1.3222\",\"0.087944\",\"-0.68518\",\"-0.15224\",\"-0.43227\",\"0.58568\",\"0.31981\",\"-0.037635\",\"0.0039938\",\"-0.9413\",\"0.030297\",\"-0.082339\",\"-1.692\",\"-0.1505\",\"-0.92924\",\"0.93013\",\"0.44826\",\"-0.89656\",\"0.46136\",\"-0.96521\",\"0.092864\",\"0.70605\",\"-0.11109\",\"2.1556\",\"0.69884\",\"0.047544\",\"-0.27085\",\"1.0841\",\"0.39874\",\"-0.1751\",\"0.52407\",\"-0.24222\",\"-0.068185\",\"0.15391\",\"-0.33397\",\"1.1982\",\"0.57862\",\"-0.20361\",\"0.65724\",\"1.0831\",\"-0.1446\",\"-0.055229\",\"-0.023523\"\n\"23295\",\"was\",\"3\",\"0.086888\",\"-0.19416\",\"-0.24267\",\"-0.33391\",\"0.56731\",\"0.39783\",\"-0.97809\",\"0.03159\",\"-0.61469\",\"-0.31406\",\"0.56145\",\"0.12886\",\"-0.84193\",\"-0.46992\",\"0.47097\",\"0.023012\",\"-0.59609\",\"0.22291\",\"-1.1614\",\"0.3865\",\"0.067412\",\"0.44883\",\"0.17394\",\"-0.53574\",\"0.17909\",\"-2.1647\",\"-0.12827\",\"0.29036\",\"-0.15061\",\"0.35242\",\"3.124\",\"-0.90085\",\"-0.02567\",\"-0.41709\",\"0.40565\",\"-0.22703\",\"0.76829\",\"0.60982\",\"0.070068\",\"-0.13271\",\"-0.1201\",\"0.096132\",\"-0.43998\",\"-0.48531\",\"-0.5188\",\"-0.3077\",\"-0.75028\",\"-0.77\",\"0.3945\",\"-0.16937\"",
      "text/html": [
       "<div class = \"td-resultset-table-div\" style = \"max-height: 100%; overflow-y: auto\">\n",
       "      <table class=\"tdhistory304407\"><style>\n",
       "      table.tdhistory304407 { display: block !important; min-height: 189px !important; overflow: auto !important; height: 189px !important; width: 100% !important; border: 1px solid rgb(207, 207, 207) !important; border-collapse: collapse !important; ; color: var(--jp-ui-font-color1) !important; }\n",
       "      th.tdhistory304407 { border: 1px solid rgb(198,198,198) !important; border-collapse: collapse !important; ; padding: 2px 5px !important; ; font-size: 13px !important; ; text-align: center !important; white-space: normal !important; color: var(--jp-ui-font-color1) !important; }\n",
       "      th.tdhistory304407:last-child { text-align: left !important; }\n",
       "      tbody.tdhistory304407 tr:nth-child(even) { background: rgba(243, 243, 243, 0.75) !important; }\n",
       "      tbody.tdhistory304407 tr:nth-child(odd) { background: var(--jp-ui-inverse-font-color1) !important; }\n",
       "      td.tdhistory304407 { border: 1px solid rgb(207, 207, 207) !important; border-collapse: collapse !important; ; padding: 2px 5px !important; ; font-size: 13px !important; ; text-align: left !important;          white-space: nowrap !important; overflow:hidden !important; text-overflow:ellipsis !important;; }\n",
       "    </style><thead><tr style= \"background: rgba(243, 243, 243, 0.75)\"><th class=\"tdhistory304407\"></th><th class=\"tdhistory304407\">comment_id</th><th class=\"tdhistory304407\">TD_Token</th><th class=\"tdhistory304407\">TD_TokenCount</th><th class=\"tdhistory304407\">v1</th><th class=\"tdhistory304407\">v2</th><th class=\"tdhistory304407\">v3</th><th class=\"tdhistory304407\">v4</th><th class=\"tdhistory304407\">v5</th><th class=\"tdhistory304407\">v6</th><th class=\"tdhistory304407\">v7</th><th class=\"tdhistory304407\">v8</th><th class=\"tdhistory304407\">v9</th><th class=\"tdhistory304407\">v10</th><th class=\"tdhistory304407\">v11</th><th class=\"tdhistory304407\">v12</th><th class=\"tdhistory304407\">v13</th><th class=\"tdhistory304407\">v14</th><th class=\"tdhistory304407\">v15</th><th class=\"tdhistory304407\">v16</th><th class=\"tdhistory304407\">v17</th><th class=\"tdhistory304407\">v18</th><th class=\"tdhistory304407\">v19</th><th class=\"tdhistory304407\">v20</th><th class=\"tdhistory304407\">v21</th><th class=\"tdhistory304407\">v22</th><th class=\"tdhistory304407\">v23</th><th class=\"tdhistory304407\">v24</th><th class=\"tdhistory304407\">v25</th><th class=\"tdhistory304407\">v26</th><th class=\"tdhistory304407\">v27</th><th class=\"tdhistory304407\">v28</th><th class=\"tdhistory304407\">v29</th><th class=\"tdhistory304407\">v30</th><th class=\"tdhistory304407\">v31</th><th class=\"tdhistory304407\">v32</th><th class=\"tdhistory304407\">v33</th><th class=\"tdhistory304407\">v34</th><th class=\"tdhistory304407\">v35</th><th class=\"tdhistory304407\">v36</th><th class=\"tdhistory304407\">v37</th><th class=\"tdhistory304407\">v38</th><th class=\"tdhistory304407\">v39</th><th class=\"tdhistory304407\">v40</th><th class=\"tdhistory304407\">v41</th><th class=\"tdhistory304407\">v42</th><th class=\"tdhistory304407\">v43</th><th class=\"tdhistory304407\">v44</th><th class=\"tdhistory304407\">v45</th><th class=\"tdhistory304407\">v46</th><th class=\"tdhistory304407\">v47</th><th class=\"tdhistory304407\">v48</th><th class=\"tdhistory304407\">v49</th><th class=\"tdhistory304407\">v50</th></tr></thead><tbody class=\"tdhistory304407 resultset-body\"><tr><th class=\"tdhistory304407\" style= \"background: rgba(243, 243, 243, 0.75)\">1</th><td class=\"tdhistory304407\">23295</td><td class=\"tdhistory304407\">works</td><td class=\"tdhistory304407\">1</td><td class=\"tdhistory304407\">0.56266</td><td class=\"tdhistory304407\">0.59051</td><td class=\"tdhistory304407\">-0.72821</td><td class=\"tdhistory304407\">-0.65968</td><td class=\"tdhistory304407\">0.0804</td><td class=\"tdhistory304407\">0.41202</td><td class=\"tdhistory304407\">-0.82194</td><td class=\"tdhistory304407\">-0.83249</td><td class=\"tdhistory304407\">-0.36639</td><td class=\"tdhistory304407\">0.60104</td><td class=\"tdhistory304407\">0.042207</td><td class=\"tdhistory304407\">0.60547</td><td class=\"tdhistory304407\">-0.11445</td><td class=\"tdhistory304407\">-0.086225</td><td class=\"tdhistory304407\">0.12744</td><td class=\"tdhistory304407\">-0.78824</td><td class=\"tdhistory304407\">0.24082</td><td class=\"tdhistory304407\">0.39307</td><td class=\"tdhistory304407\">0.22186</td><td class=\"tdhistory304407\">-0.32826</td><td class=\"tdhistory304407\">1.0595</td><td class=\"tdhistory304407\">0.10519</td><td class=\"tdhistory304407\">-0.41677</td><td class=\"tdhistory304407\">-0.059855</td><td class=\"tdhistory304407\">0.43805</td><td class=\"tdhistory304407\">-0.82992</td><td class=\"tdhistory304407\">-1.2822</td><td class=\"tdhistory304407\">-0.61877</td><td class=\"tdhistory304407\">-0.32833</td><td class=\"tdhistory304407\">-0.50885</td><td class=\"tdhistory304407\">3.0525</td><td class=\"tdhistory304407\">-0.98247</td><td class=\"tdhistory304407\">0.3645</td><td class=\"tdhistory304407\">-0.84238</td><td class=\"tdhistory304407\">0.036912</td><td class=\"tdhistory304407\">0.54804</td><td class=\"tdhistory304407\">0.21519</td><td class=\"tdhistory304407\">1.078</td><td class=\"tdhistory304407\">0.24821</td><td class=\"tdhistory304407\">0.59137</td><td class=\"tdhistory304407\">0.54625</td><td class=\"tdhistory304407\">-0.047358</td><td class=\"tdhistory304407\">0.22515</td><td class=\"tdhistory304407\">-0.35574</td><td class=\"tdhistory304407\">-0.057102</td><td class=\"tdhistory304407\">0.32641</td><td class=\"tdhistory304407\">-0.2652</td><td class=\"tdhistory304407\">-0.22713</td><td class=\"tdhistory304407\">-0.27025</td><td class=\"tdhistory304407\">0.13165</td></tr><tr><th class=\"tdhistory304407\" style= \"background: rgba(243, 243, 243, 0.75)\">2</th><td class=\"tdhistory304407\">23295</td><td class=\"tdhistory304407\">be</td><td class=\"tdhistory304407\">1</td><td class=\"tdhistory304407\">0.91102</td><td class=\"tdhistory304407\">-0.22872</td><td class=\"tdhistory304407\">0.2077</td><td class=\"tdhistory304407\">-0.20237</td><td class=\"tdhistory304407\">0.50697</td><td class=\"tdhistory304407\">-0.057893</td><td class=\"tdhistory304407\">-0.41729</td><td class=\"tdhistory304407\">-0.075341</td><td class=\"tdhistory304407\">-0.30454</td><td class=\"tdhistory304407\">-0.003286</td><td class=\"tdhistory304407\">0.44481</td><td class=\"tdhistory304407\">0.41818</td><td class=\"tdhistory304407\">-0.33409</td><td class=\"tdhistory304407\">0.032917</td><td class=\"tdhistory304407\">0.98872</td><td class=\"tdhistory304407\">0.91984</td><td class=\"tdhistory304407\">0.40521</td><td class=\"tdhistory304407\">0.01925</td><td class=\"tdhistory304407\">-0.1052</td><td class=\"tdhistory304407\">-0.79865</td><td class=\"tdhistory304407\">-0.36403</td><td class=\"tdhistory304407\">-0.087995</td><td class=\"tdhistory304407\">0.72182</td><td class=\"tdhistory304407\">0.11114</td><td class=\"tdhistory304407\">0.2153</td><td class=\"tdhistory304407\">-1.9411</td><td class=\"tdhistory304407\">-0.26376</td><td class=\"tdhistory304407\">0.4455</td><td class=\"tdhistory304407\">0.27586</td><td class=\"tdhistory304407\">-0.21104</td><td class=\"tdhistory304407\">4.0212</td><td class=\"tdhistory304407\">-0.061943</td><td class=\"tdhistory304407\">-0.32134</td><td class=\"tdhistory304407\">-0.81922</td><td class=\"tdhistory304407\">0.2108</td><td class=\"tdhistory304407\">-0.20414</td><td class=\"tdhistory304407\">0.72625</td><td class=\"tdhistory304407\">0.47517</td><td class=\"tdhistory304407\">-0.39853</td><td class=\"tdhistory304407\">-0.39168</td><td class=\"tdhistory304407\">-0.34581</td><td class=\"tdhistory304407\">0.025928</td><td class=\"tdhistory304407\">0.13072</td><td class=\"tdhistory304407\">0.73562</td><td class=\"tdhistory304407\">-0.15199</td><td class=\"tdhistory304407\">-0.18439</td><td class=\"tdhistory304407\">-0.67128</td><td class=\"tdhistory304407\">0.16692</td><td class=\"tdhistory304407\">-0.050063</td><td class=\"tdhistory304407\">0.19241</td></tr><tr><th class=\"tdhistory304407\" style= \"background: rgba(243, 243, 243, 0.75)\">3</th><td class=\"tdhistory304407\">23295</td><td class=\"tdhistory304407\">very</td><td class=\"tdhistory304407\">1</td><td class=\"tdhistory304407\">0.57049</td><td class=\"tdhistory304407\">-0.0077854</td><td class=\"tdhistory304407\">-0.70766</td><td class=\"tdhistory304407\">-0.31785</td><td class=\"tdhistory304407\">0.89493</td><td class=\"tdhistory304407\">-0.016128</td><td class=\"tdhistory304407\">-0.067149</td><td class=\"tdhistory304407\">0.15765</td><td class=\"tdhistory304407\">-0.49832</td><td class=\"tdhistory304407\">0.25845</td><td class=\"tdhistory304407\">0.10943</td><td class=\"tdhistory304407\">0.36728</td><td class=\"tdhistory304407\">-0.14843</td><td class=\"tdhistory304407\">0.063286</td><td class=\"tdhistory304407\">0.20832</td><td class=\"tdhistory304407\">0.4592</td><td class=\"tdhistory304407\">0.71781</td><td class=\"tdhistory304407\">0.22772</td><td class=\"tdhistory304407\">-0.0015349</td><td class=\"tdhistory304407\">-0.93093</td><td class=\"tdhistory304407\">-0.80048</td><td class=\"tdhistory304407\">0.46714</td><td class=\"tdhistory304407\">0.41571</td><td class=\"tdhistory304407\">0.17572</td><td class=\"tdhistory304407\">1.0876</td><td class=\"tdhistory304407\">-1.6116</td><td class=\"tdhistory304407\">-0.70943</td><td class=\"tdhistory304407\">0.83772</td><td class=\"tdhistory304407\">0.67081</td><td class=\"tdhistory304407\">0.18139</td><td class=\"tdhistory304407\">3.9899</td><td class=\"tdhistory304407\">-0.1027</td><td class=\"tdhistory304407\">0.439</td><td class=\"tdhistory304407\">-0.67926</td><td class=\"tdhistory304407\">0.11861</td><td class=\"tdhistory304407\">-0.20182</td><td class=\"tdhistory304407\">-0.081603</td><td class=\"tdhistory304407\">0.90739</td><td class=\"tdhistory304407\">-0.52258</td><td class=\"tdhistory304407\">-0.48426</td><td class=\"tdhistory304407\">-0.31326</td><td class=\"tdhistory304407\">0.10325</td><td class=\"tdhistory304407\">0.13036</td><td class=\"tdhistory304407\">0.35115</td><td class=\"tdhistory304407\">0.37593</td><td class=\"tdhistory304407\">0.064388</td><td class=\"tdhistory304407\">-0.2259</td><td class=\"tdhistory304407\">0.079125</td><td class=\"tdhistory304407\">0.12573</td><td class=\"tdhistory304407\">0.83939</td></tr><tr><th class=\"tdhistory304407\" style= \"background: rgba(243, 243, 243, 0.75)\">4</th><td class=\"tdhistory304407\">23295</td><td class=\"tdhistory304407\">sizes</td><td class=\"tdhistory304407\">1</td><td class=\"tdhistory304407\">0.091757</td><td class=\"tdhistory304407\">0.96352</td><td class=\"tdhistory304407\">0.79818</td><td class=\"tdhistory304407\">-0.29092</td><td class=\"tdhistory304407\">0.32143</td><td class=\"tdhistory304407\">0.91283</td><td class=\"tdhistory304407\">0.43096</td><td class=\"tdhistory304407\">-1.3222</td><td class=\"tdhistory304407\">0.087944</td><td class=\"tdhistory304407\">-0.68518</td><td class=\"tdhistory304407\">-0.15224</td><td class=\"tdhistory304407\">-0.43227</td><td class=\"tdhistory304407\">0.58568</td><td class=\"tdhistory304407\">0.31981</td><td class=\"tdhistory304407\">-0.037635</td><td class=\"tdhistory304407\">0.0039938</td><td class=\"tdhistory304407\">-0.9413</td><td class=\"tdhistory304407\">0.030297</td><td class=\"tdhistory304407\">-0.082339</td><td class=\"tdhistory304407\">-1.692</td><td class=\"tdhistory304407\">-0.1505</td><td class=\"tdhistory304407\">-0.92924</td><td class=\"tdhistory304407\">0.93013</td><td class=\"tdhistory304407\">0.44826</td><td class=\"tdhistory304407\">-0.89656</td><td class=\"tdhistory304407\">0.46136</td><td class=\"tdhistory304407\">-0.96521</td><td class=\"tdhistory304407\">0.092864</td><td class=\"tdhistory304407\">0.70605</td><td class=\"tdhistory304407\">-0.11109</td><td class=\"tdhistory304407\">2.1556</td><td class=\"tdhistory304407\">0.69884</td><td class=\"tdhistory304407\">0.047544</td><td class=\"tdhistory304407\">-0.27085</td><td class=\"tdhistory304407\">1.0841</td><td class=\"tdhistory304407\">0.39874</td><td class=\"tdhistory304407\">-0.1751</td><td class=\"tdhistory304407\">0.52407</td><td class=\"tdhistory304407\">-0.24222</td><td class=\"tdhistory304407\">-0.068185</td><td class=\"tdhistory304407\">0.15391</td><td class=\"tdhistory304407\">-0.33397</td><td class=\"tdhistory304407\">1.1982</td><td class=\"tdhistory304407\">0.57862</td><td class=\"tdhistory304407\">-0.20361</td><td class=\"tdhistory304407\">0.65724</td><td class=\"tdhistory304407\">1.0831</td><td class=\"tdhistory304407\">-0.1446</td><td class=\"tdhistory304407\">-0.055229</td><td class=\"tdhistory304407\">-0.023523</td></tr><tr><th class=\"tdhistory304407\" style= \"background: rgba(243, 243, 243, 0.75)\">5</th><td class=\"tdhistory304407\">23295</td><td class=\"tdhistory304407\">was</td><td class=\"tdhistory304407\">3</td><td class=\"tdhistory304407\">0.086888</td><td class=\"tdhistory304407\">-0.19416</td><td class=\"tdhistory304407\">-0.24267</td><td class=\"tdhistory304407\">-0.33391</td><td class=\"tdhistory304407\">0.56731</td><td class=\"tdhistory304407\">0.39783</td><td class=\"tdhistory304407\">-0.97809</td><td class=\"tdhistory304407\">0.03159</td><td class=\"tdhistory304407\">-0.61469</td><td class=\"tdhistory304407\">-0.31406</td><td class=\"tdhistory304407\">0.56145</td><td class=\"tdhistory304407\">0.12886</td><td class=\"tdhistory304407\">-0.84193</td><td class=\"tdhistory304407\">-0.46992</td><td class=\"tdhistory304407\">0.47097</td><td class=\"tdhistory304407\">0.023012</td><td class=\"tdhistory304407\">-0.59609</td><td class=\"tdhistory304407\">0.22291</td><td class=\"tdhistory304407\">-1.1614</td><td class=\"tdhistory304407\">0.3865</td><td class=\"tdhistory304407\">0.067412</td><td class=\"tdhistory304407\">0.44883</td><td class=\"tdhistory304407\">0.17394</td><td class=\"tdhistory304407\">-0.53574</td><td class=\"tdhistory304407\">0.17909</td><td class=\"tdhistory304407\">-2.1647</td><td class=\"tdhistory304407\">-0.12827</td><td class=\"tdhistory304407\">0.29036</td><td class=\"tdhistory304407\">-0.15061</td><td class=\"tdhistory304407\">0.35242</td><td class=\"tdhistory304407\">3.124</td><td class=\"tdhistory304407\">-0.90085</td><td class=\"tdhistory304407\">-0.02567</td><td class=\"tdhistory304407\">-0.41709</td><td class=\"tdhistory304407\">0.40565</td><td class=\"tdhistory304407\">-0.22703</td><td class=\"tdhistory304407\">0.76829</td><td class=\"tdhistory304407\">0.60982</td><td class=\"tdhistory304407\">0.070068</td><td class=\"tdhistory304407\">-0.13271</td><td class=\"tdhistory304407\">-0.1201</td><td class=\"tdhistory304407\">0.096132</td><td class=\"tdhistory304407\">-0.43998</td><td class=\"tdhistory304407\">-0.48531</td><td class=\"tdhistory304407\">-0.5188</td><td class=\"tdhistory304407\">-0.3077</td><td class=\"tdhistory304407\">-0.75028</td><td class=\"tdhistory304407\">-0.77</td><td class=\"tdhistory304407\">0.3945</td><td class=\"tdhistory304407\">-0.16937</td></tr></tbody></table></div>"
      ]
     },
     "execution_count": 6,
     "metadata": {
      "application/vnd.teradata.resultset": "{\"resultSetID\":\"/home/jovyan/JupyterLabRoot/Teradata/Resultsets/2024.05.13_13.41.29.351_UTC\",\"historyID\":10189,\"chunkID\":\"00001\",\"sessionid\":\"\",\"portnum\":\"\",\"dockermode\":\"docker\",\"totalRowCount\":5,\"chunkCount\":0,\"rowLimit\":0,\"columnMetadata\":[{\"columnName\":\"comment_id\",\"columnTypeName\":\"INTEGER\"},{\"columnNumber\":1,\"columnName\":\"TD_Token\",\"columnTypeName\":\"VARCHAR\",\"length\":50000,\"scale\":50000},{\"columnNumber\":2,\"columnName\":\"TD_TokenCount\",\"columnTypeName\":\"INTEGER\"},{\"columnNumber\":3,\"columnName\":\"v1\",\"columnTypeName\":\"FLOAT\"},{\"columnNumber\":4,\"columnName\":\"v2\",\"columnTypeName\":\"FLOAT\"},{\"columnNumber\":5,\"columnName\":\"v3\",\"columnTypeName\":\"FLOAT\"},{\"columnNumber\":6,\"columnName\":\"v4\",\"columnTypeName\":\"FLOAT\"},{\"columnNumber\":7,\"columnName\":\"v5\",\"columnTypeName\":\"FLOAT\"},{\"columnNumber\":8,\"columnName\":\"v6\",\"columnTypeName\":\"FLOAT\"},{\"columnNumber\":9,\"columnName\":\"v7\",\"columnTypeName\":\"FLOAT\"},{\"columnNumber\":10,\"columnName\":\"v8\",\"columnTypeName\":\"FLOAT\"},{\"columnNumber\":11,\"columnName\":\"v9\",\"columnTypeName\":\"FLOAT\"},{\"columnNumber\":12,\"columnName\":\"v10\",\"columnTypeName\":\"FLOAT\"},{\"columnNumber\":13,\"columnName\":\"v11\",\"columnTypeName\":\"FLOAT\"},{\"columnNumber\":14,\"columnName\":\"v12\",\"columnTypeName\":\"FLOAT\"},{\"columnNumber\":15,\"columnName\":\"v13\",\"columnTypeName\":\"FLOAT\"},{\"columnNumber\":16,\"columnName\":\"v14\",\"columnTypeName\":\"FLOAT\"},{\"columnNumber\":17,\"columnName\":\"v15\",\"columnTypeName\":\"FLOAT\"},{\"columnNumber\":18,\"columnName\":\"v16\",\"columnTypeName\":\"FLOAT\"},{\"columnNumber\":19,\"columnName\":\"v17\",\"columnTypeName\":\"FLOAT\"},{\"columnNumber\":20,\"columnName\":\"v18\",\"columnTypeName\":\"FLOAT\"},{\"columnNumber\":21,\"columnName\":\"v19\",\"columnTypeName\":\"FLOAT\"},{\"columnNumber\":22,\"columnName\":\"v20\",\"columnTypeName\":\"FLOAT\"},{\"columnNumber\":23,\"columnName\":\"v21\",\"columnTypeName\":\"FLOAT\"},{\"columnNumber\":24,\"columnName\":\"v22\",\"columnTypeName\":\"FLOAT\"},{\"columnNumber\":25,\"columnName\":\"v23\",\"columnTypeName\":\"FLOAT\"},{\"columnNumber\":26,\"columnName\":\"v24\",\"columnTypeName\":\"FLOAT\"},{\"columnNumber\":27,\"columnName\":\"v25\",\"columnTypeName\":\"FLOAT\"},{\"columnNumber\":28,\"columnName\":\"v26\",\"columnTypeName\":\"FLOAT\"},{\"columnNumber\":29,\"columnName\":\"v27\",\"columnTypeName\":\"FLOAT\"},{\"columnNumber\":30,\"columnName\":\"v28\",\"columnTypeName\":\"FLOAT\"},{\"columnNumber\":31,\"columnName\":\"v29\",\"columnTypeName\":\"FLOAT\"},{\"columnNumber\":32,\"columnName\":\"v30\",\"columnTypeName\":\"FLOAT\"},{\"columnNumber\":33,\"columnName\":\"v31\",\"columnTypeName\":\"FLOAT\"},{\"columnNumber\":34,\"columnName\":\"v32\",\"columnTypeName\":\"FLOAT\"},{\"columnNumber\":35,\"columnName\":\"v33\",\"columnTypeName\":\"FLOAT\"},{\"columnNumber\":36,\"columnName\":\"v34\",\"columnTypeName\":\"FLOAT\"},{\"columnNumber\":37,\"columnName\":\"v35\",\"columnTypeName\":\"FLOAT\"},{\"columnNumber\":38,\"columnName\":\"v36\",\"columnTypeName\":\"FLOAT\"},{\"columnNumber\":39,\"columnName\":\"v37\",\"columnTypeName\":\"FLOAT\"},{\"columnNumber\":40,\"columnName\":\"v38\",\"columnTypeName\":\"FLOAT\"},{\"columnNumber\":41,\"columnName\":\"v39\",\"columnTypeName\":\"FLOAT\"},{\"columnNumber\":42,\"columnName\":\"v40\",\"columnTypeName\":\"FLOAT\"},{\"columnNumber\":43,\"columnName\":\"v41\",\"columnTypeName\":\"FLOAT\"},{\"columnNumber\":44,\"columnName\":\"v42\",\"columnTypeName\":\"FLOAT\"},{\"columnNumber\":45,\"columnName\":\"v43\",\"columnTypeName\":\"FLOAT\"},{\"columnNumber\":46,\"columnName\":\"v44\",\"columnTypeName\":\"FLOAT\"},{\"columnNumber\":47,\"columnName\":\"v45\",\"columnTypeName\":\"FLOAT\"},{\"columnNumber\":48,\"columnName\":\"v46\",\"columnTypeName\":\"FLOAT\"},{\"columnNumber\":49,\"columnName\":\"v47\",\"columnTypeName\":\"FLOAT\"},{\"columnNumber\":50,\"columnName\":\"v48\",\"columnTypeName\":\"FLOAT\"},{\"columnNumber\":51,\"columnName\":\"v49\",\"columnTypeName\":\"FLOAT\"},{\"columnNumber\":52,\"columnName\":\"v50\",\"columnTypeName\":\"FLOAT\"}]}"
     },
     "output_type": "execute_result"
    }
   ],
   "source": [
    "SELECT TOP 5 * FROM TD_WordEmbeddings (\n",
    "    ON (SELECT TOP 1 * FROM demo_ofs.web_comment) AS InputTable\n",
    "    ON demo_ofs.glove_6B_50d AS ModelTable DIMENSION\n",
    "USING\n",
    "    IDColumn('comment_id')\n",
    "    ModelVectorColumns('[1:50]')\n",
    "    PrimaryColumn('comment_text')\n",
    "    Operation('token-embedding')\n",
    "    ModelTextColumn('doc_id')\n",
    ")AS dt \n",
    "ORDER BY comment_id ASC;\n"
   ]
  },
  {
   "cell_type": "code",
   "execution_count": 7,
   "metadata": {},
   "outputs": [
    {
     "data": {
      "application/vnd.teradata.resultset": "\"comment_id\",\"v1\",\"v2\",\"v3\",\"v4\",\"v5\",\"v6\",\"v7\",\"v8\",\"v9\",\"v10\",\"v11\",\"v12\",\"v13\",\"v14\",\"v15\",\"v16\",\"v17\",\"v18\",\"v19\",\"v20\",\"v21\",\"v22\",\"v23\",\"v24\",\"v25\",\"v26\",\"v27\",\"v28\",\"v29\",\"v30\",\"v31\",\"v32\",\"v33\",\"v34\",\"v35\",\"v36\",\"v37\",\"v38\",\"v39\",\"v40\",\"v41\",\"v42\",\"v43\",\"v44\",\"v45\",\"v46\",\"v47\",\"v48\",\"v49\",\"v50\",\"comment_text\",\"customer_id\"\n\"32\",\"0.44821461111111116\",\"-0.03229133333333332\",\"-0.03918305555555555\",\"-0.2736832222222222\",\"0.33443661111111106\",\"0.054000277777777744\",\"-0.3382525611111111\",\"-0.1534522611111111\",\"-0.06988845722222221\",\"-0.08231020555555554\",\"0.11253023888888888\",\"0.1849478888888889\",\"-0.13543044444444446\",\"-0.1596866111111111\",\"0.42850102777777777\",\"0.4657223333333333\",\"0.17045077777777784\",\"0.004805611111111098\",\"-0.14086194444444444\",\"-0.7019466666666667\",\"-0.2201615\",\"0.07575911111111111\",\"0.4799842222222222\",\"0.008728999999999999\",\"0.09900688888888892\",\"-1.428356111111111\",\"-0.4549355555555555\",\"0.32016161111111113\",\"0.45993588888888887\",\"-0.25144666666666676\",\"3.3687222222222224\",\"0.22412627777777783\",\"-0.1089627222222222\",\"-0.3871138888888889\",\"0.1515696738888889\",\"0.06155221666666666\",\"0.10220505555555555\",\"0.2984798444444445\",\"0.008074000000000019\",\"-0.2654152222222222\",\"-0.2399473888888889\",\"-0.008473733333333337\",\"0.18816411111111112\",\"0.4949512222222222\",\"0.0037501666666666595\",\"0.0217247222222222\",\"-0.18444495000000005\",\"-0.0996641111111111\",\"-0.03410205555555555\",\"0.0256334\",\"These pants are even better in person. the only downside is that they need to be dry cleaned.\",\"1060\"\n\"77\",\"0.21918640540540535\",\"-0.024974935135135143\",\"-0.08274802702702698\",\"-0.1571003918918919\",\"0.4191283513513514\",\"0.11838310810810809\",\"-0.4357309729729729\",\"0.013520659459459456\",\"-0.2677451329729729\",\"-0.03174459081081081\",\"0.04301\",\"0.16348781081081082\",\"-0.573060791891892\",\"0.021636298108108125\",\"0.4962245675675676\",\"0.2986793513513514\",\"0.08523249459459457\",\"-0.10486421621621624\",\"-0.3137621729729729\",\"-0.5002808378378378\",\"-0.028565137837837845\",\"0.1628585675675676\",\"0.1395386027027027\",\"-0.07067756756756756\",\"0.29693156756756756\",\"-1.5977700000000001\",\"-0.49039240540540535\",\"0.1980865513513513\",\"0.42821764864864875\",\"-0.37768194594594584\",\"3.122132378378377\",\"0.1854602702702703\",\"-0.2804308648648649\",\"-0.1713193783783784\",\"-0.021409745405405408\",\"-0.023109443243243245\",\"0.16205424324324325\",\"0.24884048648648643\",\"-0.030152105405405406\",\"-0.2862290108108107\",\"-0.11955087567567568\",\"0.021299021621621637\",\"-0.13908337837837836\",\"0.08976250432432435\",\"0.017995297297297288\",\"0.11163648648648647\",\"0.03548127216216215\",\"-0.14022318918918916\",\"-0.12343535135135134\",\"0.07551536216216216\",\"The zipper broke on this piece the first time i wore it. very disappointing since i love the design. i'm actually going to try to replace the zipper myself with something stronger, but annoying that it's come to that.\",\"850\"",
      "text/html": [
       "<div class = \"td-resultset-table-div\" style = \"max-height: 100%; overflow-y: auto\">\n",
       "      <table class=\"tdhistory26813\"><style>\n",
       "      table.tdhistory26813 { display: block !important; min-height: 126px !important; overflow: auto !important; height: 126px !important; width: 100% !important; border: 1px solid rgb(207, 207, 207) !important; border-collapse: collapse !important; ; color: var(--jp-ui-font-color1) !important; }\n",
       "      th.tdhistory26813 { border: 1px solid rgb(198,198,198) !important; border-collapse: collapse !important; ; padding: 2px 5px !important; ; font-size: 13px !important; ; text-align: center !important; white-space: normal !important; color: var(--jp-ui-font-color1) !important; }\n",
       "      th.tdhistory26813:last-child { text-align: left !important; }\n",
       "      tbody.tdhistory26813 tr:nth-child(even) { background: rgba(243, 243, 243, 0.75) !important; }\n",
       "      tbody.tdhistory26813 tr:nth-child(odd) { background: var(--jp-ui-inverse-font-color1) !important; }\n",
       "      td.tdhistory26813 { border: 1px solid rgb(207, 207, 207) !important; border-collapse: collapse !important; ; padding: 2px 5px !important; ; font-size: 13px !important; ; text-align: left !important;          white-space: nowrap !important; overflow:hidden !important; text-overflow:ellipsis !important;; }\n",
       "    </style><thead><tr style= \"background: rgba(243, 243, 243, 0.75)\"><th class=\"tdhistory26813\"></th><th class=\"tdhistory26813\">comment_id</th><th class=\"tdhistory26813\">v1</th><th class=\"tdhistory26813\">v2</th><th class=\"tdhistory26813\">v3</th><th class=\"tdhistory26813\">v4</th><th class=\"tdhistory26813\">v5</th><th class=\"tdhistory26813\">v6</th><th class=\"tdhistory26813\">v7</th><th class=\"tdhistory26813\">v8</th><th class=\"tdhistory26813\">v9</th><th class=\"tdhistory26813\">v10</th><th class=\"tdhistory26813\">v11</th><th class=\"tdhistory26813\">v12</th><th class=\"tdhistory26813\">v13</th><th class=\"tdhistory26813\">v14</th><th class=\"tdhistory26813\">v15</th><th class=\"tdhistory26813\">v16</th><th class=\"tdhistory26813\">v17</th><th class=\"tdhistory26813\">v18</th><th class=\"tdhistory26813\">v19</th><th class=\"tdhistory26813\">v20</th><th class=\"tdhistory26813\">v21</th><th class=\"tdhistory26813\">v22</th><th class=\"tdhistory26813\">v23</th><th class=\"tdhistory26813\">v24</th><th class=\"tdhistory26813\">v25</th><th class=\"tdhistory26813\">v26</th><th class=\"tdhistory26813\">v27</th><th class=\"tdhistory26813\">v28</th><th class=\"tdhistory26813\">v29</th><th class=\"tdhistory26813\">v30</th><th class=\"tdhistory26813\">v31</th><th class=\"tdhistory26813\">v32</th><th class=\"tdhistory26813\">v33</th><th class=\"tdhistory26813\">v34</th><th class=\"tdhistory26813\">v35</th><th class=\"tdhistory26813\">v36</th><th class=\"tdhistory26813\">v37</th><th class=\"tdhistory26813\">v38</th><th class=\"tdhistory26813\">v39</th><th class=\"tdhistory26813\">v40</th><th class=\"tdhistory26813\">v41</th><th class=\"tdhistory26813\">v42</th><th class=\"tdhistory26813\">v43</th><th class=\"tdhistory26813\">v44</th><th class=\"tdhistory26813\">v45</th><th class=\"tdhistory26813\">v46</th><th class=\"tdhistory26813\">v47</th><th class=\"tdhistory26813\">v48</th><th class=\"tdhistory26813\">v49</th><th class=\"tdhistory26813\">v50</th><th class=\"tdhistory26813\">comment_text</th><th class=\"tdhistory26813\">customer_id</th></tr></thead><tbody class=\"tdhistory26813 resultset-body\"><tr><th class=\"tdhistory26813\" style= \"background: rgba(243, 243, 243, 0.75)\">1</th><td class=\"tdhistory26813\">32</td><td class=\"tdhistory26813\">0.44821461111111116</td><td class=\"tdhistory26813\">-0.03229133333333332</td><td class=\"tdhistory26813\">-0.03918305555555555</td><td class=\"tdhistory26813\">-0.2736832222222222</td><td class=\"tdhistory26813\">0.33443661111111106</td><td class=\"tdhistory26813\">0.054000277777777744</td><td class=\"tdhistory26813\">-0.3382525611111111</td><td class=\"tdhistory26813\">-0.1534522611111111</td><td class=\"tdhistory26813\">-0.06988845722222221</td><td class=\"tdhistory26813\">-0.08231020555555554</td><td class=\"tdhistory26813\">0.11253023888888888</td><td class=\"tdhistory26813\">0.1849478888888889</td><td class=\"tdhistory26813\">-0.13543044444444446</td><td class=\"tdhistory26813\">-0.1596866111111111</td><td class=\"tdhistory26813\">0.42850102777777777</td><td class=\"tdhistory26813\">0.4657223333333333</td><td class=\"tdhistory26813\">0.17045077777777784</td><td class=\"tdhistory26813\">0.004805611111111098</td><td class=\"tdhistory26813\">-0.14086194444444444</td><td class=\"tdhistory26813\">-0.7019466666666667</td><td class=\"tdhistory26813\">-0.2201615</td><td class=\"tdhistory26813\">0.07575911111111111</td><td class=\"tdhistory26813\">0.4799842222222222</td><td class=\"tdhistory26813\">0.008728999999999999</td><td class=\"tdhistory26813\">0.09900688888888892</td><td class=\"tdhistory26813\">-1.428356111111111</td><td class=\"tdhistory26813\">-0.4549355555555555</td><td class=\"tdhistory26813\">0.32016161111111113</td><td class=\"tdhistory26813\">0.45993588888888887</td><td class=\"tdhistory26813\">-0.25144666666666676</td><td class=\"tdhistory26813\">3.3687222222222224</td><td class=\"tdhistory26813\">0.22412627777777783</td><td class=\"tdhistory26813\">-0.1089627222222222</td><td class=\"tdhistory26813\">-0.3871138888888889</td><td class=\"tdhistory26813\">0.1515696738888889</td><td class=\"tdhistory26813\">0.06155221666666666</td><td class=\"tdhistory26813\">0.10220505555555555</td><td class=\"tdhistory26813\">0.2984798444444445</td><td class=\"tdhistory26813\">0.008074000000000019</td><td class=\"tdhistory26813\">-0.2654152222222222</td><td class=\"tdhistory26813\">-0.2399473888888889</td><td class=\"tdhistory26813\">-0.008473733333333337</td><td class=\"tdhistory26813\">0.18816411111111112</td><td class=\"tdhistory26813\">0.4949512222222222</td><td class=\"tdhistory26813\">0.0037501666666666595</td><td class=\"tdhistory26813\">0.0217247222222222</td><td class=\"tdhistory26813\">-0.18444495000000005</td><td class=\"tdhistory26813\">-0.0996641111111111</td><td class=\"tdhistory26813\">-0.03410205555555555</td><td class=\"tdhistory26813\">0.0256334</td><td class=\"tdhistory26813\">These pants are even better in person. the only downside is that they need to be dry cleaned.</td><td class=\"tdhistory26813\">1060</td></tr><tr><th class=\"tdhistory26813\" style= \"background: rgba(243, 243, 243, 0.75)\">2</th><td class=\"tdhistory26813\">77</td><td class=\"tdhistory26813\">0.21918640540540535</td><td class=\"tdhistory26813\">-0.024974935135135143</td><td class=\"tdhistory26813\">-0.08274802702702698</td><td class=\"tdhistory26813\">-0.1571003918918919</td><td class=\"tdhistory26813\">0.4191283513513514</td><td class=\"tdhistory26813\">0.11838310810810809</td><td class=\"tdhistory26813\">-0.4357309729729729</td><td class=\"tdhistory26813\">0.013520659459459456</td><td class=\"tdhistory26813\">-0.2677451329729729</td><td class=\"tdhistory26813\">-0.03174459081081081</td><td class=\"tdhistory26813\">0.04301</td><td class=\"tdhistory26813\">0.16348781081081082</td><td class=\"tdhistory26813\">-0.573060791891892</td><td class=\"tdhistory26813\">0.021636298108108125</td><td class=\"tdhistory26813\">0.4962245675675676</td><td class=\"tdhistory26813\">0.2986793513513514</td><td class=\"tdhistory26813\">0.08523249459459457</td><td class=\"tdhistory26813\">-0.10486421621621624</td><td class=\"tdhistory26813\">-0.3137621729729729</td><td class=\"tdhistory26813\">-0.5002808378378378</td><td class=\"tdhistory26813\">-0.028565137837837845</td><td class=\"tdhistory26813\">0.1628585675675676</td><td class=\"tdhistory26813\">0.1395386027027027</td><td class=\"tdhistory26813\">-0.07067756756756756</td><td class=\"tdhistory26813\">0.29693156756756756</td><td class=\"tdhistory26813\">-1.5977700000000001</td><td class=\"tdhistory26813\">-0.49039240540540535</td><td class=\"tdhistory26813\">0.1980865513513513</td><td class=\"tdhistory26813\">0.42821764864864875</td><td class=\"tdhistory26813\">-0.37768194594594584</td><td class=\"tdhistory26813\">3.122132378378377</td><td class=\"tdhistory26813\">0.1854602702702703</td><td class=\"tdhistory26813\">-0.2804308648648649</td><td class=\"tdhistory26813\">-0.1713193783783784</td><td class=\"tdhistory26813\">-0.021409745405405408</td><td class=\"tdhistory26813\">-0.023109443243243245</td><td class=\"tdhistory26813\">0.16205424324324325</td><td class=\"tdhistory26813\">0.24884048648648643</td><td class=\"tdhistory26813\">-0.030152105405405406</td><td class=\"tdhistory26813\">-0.2862290108108107</td><td class=\"tdhistory26813\">-0.11955087567567568</td><td class=\"tdhistory26813\">0.021299021621621637</td><td class=\"tdhistory26813\">-0.13908337837837836</td><td class=\"tdhistory26813\">0.08976250432432435</td><td class=\"tdhistory26813\">0.017995297297297288</td><td class=\"tdhistory26813\">0.11163648648648647</td><td class=\"tdhistory26813\">0.03548127216216215</td><td class=\"tdhistory26813\">-0.14022318918918916</td><td class=\"tdhistory26813\">-0.12343535135135134</td><td class=\"tdhistory26813\">0.07551536216216216</td><td class=\"tdhistory26813\">The zipper broke on this piece the first time i wore it. very disappointing since i love the design. i'm actually going to try to replace the zipper myself with something stronger, but annoying that it's come to that.</td><td class=\"tdhistory26813\">850</td></tr></tbody></table></div>"
      ]
     },
     "execution_count": 7,
     "metadata": {
      "application/vnd.teradata.resultset": "{\"resultSetID\":\"/home/jovyan/JupyterLabRoot/Teradata/Resultsets/2024.05.13_13.43.23.826_UTC\",\"historyID\":10190,\"chunkID\":\"00001\",\"sessionid\":\"\",\"portnum\":\"\",\"dockermode\":\"docker\",\"totalRowCount\":2,\"chunkCount\":0,\"rowLimit\":0,\"columnMetadata\":[{\"columnName\":\"comment_id\",\"columnTypeName\":\"INTEGER\"},{\"columnNumber\":1,\"columnName\":\"v1\",\"columnTypeName\":\"FLOAT\"},{\"columnNumber\":2,\"columnName\":\"v2\",\"columnTypeName\":\"FLOAT\"},{\"columnNumber\":3,\"columnName\":\"v3\",\"columnTypeName\":\"FLOAT\"},{\"columnNumber\":4,\"columnName\":\"v4\",\"columnTypeName\":\"FLOAT\"},{\"columnNumber\":5,\"columnName\":\"v5\",\"columnTypeName\":\"FLOAT\"},{\"columnNumber\":6,\"columnName\":\"v6\",\"columnTypeName\":\"FLOAT\"},{\"columnNumber\":7,\"columnName\":\"v7\",\"columnTypeName\":\"FLOAT\"},{\"columnNumber\":8,\"columnName\":\"v8\",\"columnTypeName\":\"FLOAT\"},{\"columnNumber\":9,\"columnName\":\"v9\",\"columnTypeName\":\"FLOAT\"},{\"columnNumber\":10,\"columnName\":\"v10\",\"columnTypeName\":\"FLOAT\"},{\"columnNumber\":11,\"columnName\":\"v11\",\"columnTypeName\":\"FLOAT\"},{\"columnNumber\":12,\"columnName\":\"v12\",\"columnTypeName\":\"FLOAT\"},{\"columnNumber\":13,\"columnName\":\"v13\",\"columnTypeName\":\"FLOAT\"},{\"columnNumber\":14,\"columnName\":\"v14\",\"columnTypeName\":\"FLOAT\"},{\"columnNumber\":15,\"columnName\":\"v15\",\"columnTypeName\":\"FLOAT\"},{\"columnNumber\":16,\"columnName\":\"v16\",\"columnTypeName\":\"FLOAT\"},{\"columnNumber\":17,\"columnName\":\"v17\",\"columnTypeName\":\"FLOAT\"},{\"columnNumber\":18,\"columnName\":\"v18\",\"columnTypeName\":\"FLOAT\"},{\"columnNumber\":19,\"columnName\":\"v19\",\"columnTypeName\":\"FLOAT\"},{\"columnNumber\":20,\"columnName\":\"v20\",\"columnTypeName\":\"FLOAT\"},{\"columnNumber\":21,\"columnName\":\"v21\",\"columnTypeName\":\"FLOAT\"},{\"columnNumber\":22,\"columnName\":\"v22\",\"columnTypeName\":\"FLOAT\"},{\"columnNumber\":23,\"columnName\":\"v23\",\"columnTypeName\":\"FLOAT\"},{\"columnNumber\":24,\"columnName\":\"v24\",\"columnTypeName\":\"FLOAT\"},{\"columnNumber\":25,\"columnName\":\"v25\",\"columnTypeName\":\"FLOAT\"},{\"columnNumber\":26,\"columnName\":\"v26\",\"columnTypeName\":\"FLOAT\"},{\"columnNumber\":27,\"columnName\":\"v27\",\"columnTypeName\":\"FLOAT\"},{\"columnNumber\":28,\"columnName\":\"v28\",\"columnTypeName\":\"FLOAT\"},{\"columnNumber\":29,\"columnName\":\"v29\",\"columnTypeName\":\"FLOAT\"},{\"columnNumber\":30,\"columnName\":\"v30\",\"columnTypeName\":\"FLOAT\"},{\"columnNumber\":31,\"columnName\":\"v31\",\"columnTypeName\":\"FLOAT\"},{\"columnNumber\":32,\"columnName\":\"v32\",\"columnTypeName\":\"FLOAT\"},{\"columnNumber\":33,\"columnName\":\"v33\",\"columnTypeName\":\"FLOAT\"},{\"columnNumber\":34,\"columnName\":\"v34\",\"columnTypeName\":\"FLOAT\"},{\"columnNumber\":35,\"columnName\":\"v35\",\"columnTypeName\":\"FLOAT\"},{\"columnNumber\":36,\"columnName\":\"v36\",\"columnTypeName\":\"FLOAT\"},{\"columnNumber\":37,\"columnName\":\"v37\",\"columnTypeName\":\"FLOAT\"},{\"columnNumber\":38,\"columnName\":\"v38\",\"columnTypeName\":\"FLOAT\"},{\"columnNumber\":39,\"columnName\":\"v39\",\"columnTypeName\":\"FLOAT\"},{\"columnNumber\":40,\"columnName\":\"v40\",\"columnTypeName\":\"FLOAT\"},{\"columnNumber\":41,\"columnName\":\"v41\",\"columnTypeName\":\"FLOAT\"},{\"columnNumber\":42,\"columnName\":\"v42\",\"columnTypeName\":\"FLOAT\"},{\"columnNumber\":43,\"columnName\":\"v43\",\"columnTypeName\":\"FLOAT\"},{\"columnNumber\":44,\"columnName\":\"v44\",\"columnTypeName\":\"FLOAT\"},{\"columnNumber\":45,\"columnName\":\"v45\",\"columnTypeName\":\"FLOAT\"},{\"columnNumber\":46,\"columnName\":\"v46\",\"columnTypeName\":\"FLOAT\"},{\"columnNumber\":47,\"columnName\":\"v47\",\"columnTypeName\":\"FLOAT\"},{\"columnNumber\":48,\"columnName\":\"v48\",\"columnTypeName\":\"FLOAT\"},{\"columnNumber\":49,\"columnName\":\"v49\",\"columnTypeName\":\"FLOAT\"},{\"columnNumber\":50,\"columnName\":\"v50\",\"columnTypeName\":\"FLOAT\"},{\"columnNumber\":51,\"columnName\":\"comment_text\",\"columnTypeName\":\"VARCHAR\",\"length\":50000,\"scale\":50000},{\"columnNumber\":52,\"columnName\":\"customer_id\",\"columnTypeName\":\"INTEGER\"}]}"
     },
     "output_type": "execute_result"
    }
   ],
   "source": [
    "SELECT TOP 2 * FROM TD_WordEmbeddings (\n",
    "    ON (SELECT TOP 1000 * FROM demo_ofs.web_comment) AS InputTable\n",
    "    ON demo_ofs.glove_6B_50d AS ModelTable DIMENSION\n",
    "USING\n",
    "    IDColumn('comment_id')\n",
    "    ModelVectorColumns('[1:50]')\n",
    "    PrimaryColumn('comment_text')\n",
    "    Operation('doc-embedding')\n",
    "    ModelTextColumn('doc_id')\n",
    "    Accumulate('comment_text', 'customer_id')\n",
    ")AS dt \n",
    "ORDER BY comment_id ASC;"
   ]
  },
  {
   "cell_type": "markdown",
   "metadata": {},
   "source": [
    "<hr>\n",
    "<p style = 'font-size:20px;font-family:Arial;color:#00233C'><b>Step 2 - Find the Ideal K-means Model</b></p>\n",
    "\n",
    "<p style = 'font-size:16px;font-family:Arial;color:#00233C'>As discussed above, the K-means algorithm takes a number of clusters \"k\", chooses a random starting point for each centroid, and iterates until a hard limit or an optimium value is reached.</p>\n",
    "\n",
    "<p style = 'font-size:16px;font-family:Arial;color:#00233C'><b>Other Function Parameters Include (but are not limited to)</b></p>\n",
    "<ul style = 'font-size:16px;font-family:Arial;color:#00233C'>\n",
    "    <li>Input dataframe</li>\n",
    "    <li>StopThreshold - The algorithm converges if the distance between the centroids from the previous iteration and the current iteration is less than the specified value.</li>\n",
    "    <li>MaxIterNum</li>Specify the maximum number of iterations for the K-means algorithm. The algorithm stops after performing the specified number of iterations even if the convergence criterion is not met.\n",
    "    </ul>\n",
    "    \n",
    "<hr>\n",
    "<b style = 'font-size:18px;font-family:Arial;color:#00233C'>2.1 - Example Model - 4-cluster test</b>\n",
    "<p style = 'font-size:16px;font-family:Arial;color:#00233C'>The example below uses an arbitrary number of clusters to create the first model.  Note the output metadata provides information such as the number of iterations, converged or not, etc.</p>"
   ]
  },
  {
   "cell_type": "code",
   "execution_count": 11,
   "metadata": {},
   "outputs": [
    {
     "data": {
      "application/vnd.teradata.resultset": "\"td_clusterid_kmeans\",\"td_size_kmeans\",\"td_withinss_kmeans\",\"td_modelinfo_kmeans\"\n\"0\",\"403\",\"114.57849761759098\",\"\"\n\"1\",\"136\",\"82.52648705653155\",\"\"\n\"2\",\"425\",\"121.59156519031967\",\"\"\n\"3\",\"36\",\"0\",\"\"\n\"\",\"\",\"\",\"Converged : True\"\n\"\",\"\",\"\",\"Number of Iterations : 7\"\n\"\",\"\",\"\",\"Number of Clusters : 4\"\n\"\",\"\",\"\",\"Total_WithinSS : 3.18696549864442E+02\"\n\"\",\"\",\"\",\"Between_SS : 5.67695201989296E+02\"\n\"\",\"\",\"\",\"Method for InitialCentroids : Random\"",
      "text/html": [
       "<div class = \"td-resultset-table-div\" style = \"max-height: 100%; overflow-y: auto\">\n",
       "      <table class=\"tdhistory733534\"><style>\n",
       "      table.tdhistory733534 { display: block !important; min-height: 294px !important; overflow: auto !important; height: 294px !important; width: 100% !important; border: 1px solid rgb(207, 207, 207) !important; border-collapse: collapse !important; ; color: var(--jp-ui-font-color1) !important; }\n",
       "      th.tdhistory733534 { border: 1px solid rgb(198,198,198) !important; border-collapse: collapse !important; ; padding: 2px 5px !important; ; font-size: 13px !important; ; text-align: center !important; white-space: normal !important; color: var(--jp-ui-font-color1) !important; }\n",
       "      th.tdhistory733534:last-child { text-align: left !important; }\n",
       "      tbody.tdhistory733534 tr:nth-child(even) { background: rgba(243, 243, 243, 0.75) !important; }\n",
       "      tbody.tdhistory733534 tr:nth-child(odd) { background: var(--jp-ui-inverse-font-color1) !important; }\n",
       "      td.tdhistory733534 { border: 1px solid rgb(207, 207, 207) !important; border-collapse: collapse !important; ; padding: 2px 5px !important; ; font-size: 13px !important; ; text-align: left !important;          white-space: nowrap !important; overflow:hidden !important; text-overflow:ellipsis !important;; }\n",
       "    </style><thead><tr style= \"background: rgba(243, 243, 243, 0.75)\"><th class=\"tdhistory733534\"></th><th class=\"tdhistory733534\">td_clusterid_kmeans</th><th class=\"tdhistory733534\">td_size_kmeans</th><th class=\"tdhistory733534\">td_withinss_kmeans</th><th class=\"tdhistory733534\">td_modelinfo_kmeans</th></tr></thead><tbody class=\"tdhistory733534 resultset-body\"><tr><th class=\"tdhistory733534\" style= \"background: rgba(243, 243, 243, 0.75)\">1</th><td class=\"tdhistory733534\">0</td><td class=\"tdhistory733534\">403</td><td class=\"tdhistory733534\">114.57849761759098</td><td class=\"tdhistory733534\"></td></tr><tr><th class=\"tdhistory733534\" style= \"background: rgba(243, 243, 243, 0.75)\">2</th><td class=\"tdhistory733534\">1</td><td class=\"tdhistory733534\">136</td><td class=\"tdhistory733534\">82.52648705653155</td><td class=\"tdhistory733534\"></td></tr><tr><th class=\"tdhistory733534\" style= \"background: rgba(243, 243, 243, 0.75)\">3</th><td class=\"tdhistory733534\">2</td><td class=\"tdhistory733534\">425</td><td class=\"tdhistory733534\">121.59156519031967</td><td class=\"tdhistory733534\"></td></tr><tr><th class=\"tdhistory733534\" style= \"background: rgba(243, 243, 243, 0.75)\">4</th><td class=\"tdhistory733534\">3</td><td class=\"tdhistory733534\">36</td><td class=\"tdhistory733534\">0</td><td class=\"tdhistory733534\"></td></tr><tr><th class=\"tdhistory733534\" style= \"background: rgba(243, 243, 243, 0.75)\">5</th><td class=\"tdhistory733534\"></td><td class=\"tdhistory733534\"></td><td class=\"tdhistory733534\"></td><td class=\"tdhistory733534\">Converged : True</td></tr><tr><th class=\"tdhistory733534\" style= \"background: rgba(243, 243, 243, 0.75)\">6</th><td class=\"tdhistory733534\"></td><td class=\"tdhistory733534\"></td><td class=\"tdhistory733534\"></td><td class=\"tdhistory733534\">Number of Iterations : 7</td></tr><tr><th class=\"tdhistory733534\" style= \"background: rgba(243, 243, 243, 0.75)\">7</th><td class=\"tdhistory733534\"></td><td class=\"tdhistory733534\"></td><td class=\"tdhistory733534\"></td><td class=\"tdhistory733534\">Number of Clusters : 4</td></tr><tr><th class=\"tdhistory733534\" style= \"background: rgba(243, 243, 243, 0.75)\">8</th><td class=\"tdhistory733534\"></td><td class=\"tdhistory733534\"></td><td class=\"tdhistory733534\"></td><td class=\"tdhistory733534\">Total_WithinSS : 3.18696549864442E+02</td></tr><tr><th class=\"tdhistory733534\" style= \"background: rgba(243, 243, 243, 0.75)\">9</th><td class=\"tdhistory733534\"></td><td class=\"tdhistory733534\"></td><td class=\"tdhistory733534\"></td><td class=\"tdhistory733534\">Between_SS : 5.67695201989296E+02</td></tr><tr><th class=\"tdhistory733534\" style= \"background: rgba(243, 243, 243, 0.75)\">10</th><td class=\"tdhistory733534\"></td><td class=\"tdhistory733534\"></td><td class=\"tdhistory733534\"></td><td class=\"tdhistory733534\">Method for InitialCentroids : Random</td></tr></tbody></table></div>"
      ]
     },
     "execution_count": 11,
     "metadata": {
      "application/vnd.teradata.resultset": "{\"resultSetID\":\"/home/jovyan/JupyterLabRoot/Teradata/Resultsets/2024.05.13_13.50.09.077_UTC\",\"historyID\":10194,\"chunkID\":\"00001\",\"sessionid\":\"\",\"portnum\":\"\",\"dockermode\":\"docker\",\"totalRowCount\":10,\"chunkCount\":0,\"rowLimit\":0,\"columnMetadata\":[{\"columnName\":\"td_clusterid_kmeans\",\"columnTypeName\":\"BIGINT\"},{\"columnNumber\":1,\"columnName\":\"td_size_kmeans\",\"columnTypeName\":\"BIGINT\"},{\"columnNumber\":2,\"columnName\":\"td_withinss_kmeans\",\"columnTypeName\":\"FLOAT\"},{\"columnNumber\":3,\"columnName\":\"td_modelinfo_kmeans\",\"columnTypeName\":\"VARCHAR\",\"length\":128,\"scale\":128}]}"
     },
     "output_type": "execute_result"
    }
   ],
   "source": [
    "WITH doc_embedding AS (\n",
    "    SELECT * FROM TD_WordEmbeddings (\n",
    "        ON (SELECT TOP 1000 * FROM demo_ofs.web_comment) AS InputTable\n",
    "        ON demo_ofs.glove_6B_50d AS ModelTable DIMENSION\n",
    "    USING\n",
    "        IDColumn('comment_id')\n",
    "        ModelVectorColumns('[1:50]')\n",
    "        PrimaryColumn('comment_text')\n",
    "        Operation('doc-embedding')\n",
    "        ModelTextColumn('doc_id')\n",
    "        Accumulate('comment_text', 'customer_id')\n",
    "    )AS d \n",
    ")\n",
    "\n",
    "SELECT td_clusterid_kmeans, td_size_kmeans, td_withinss_kmeans, td_modelinfo_kmeans FROM TD_KMeans (\n",
    "ON doc_embedding AS InputTable \n",
    "USING\n",
    "IdColumn('comment_id') \n",
    "TargetColumns('[1:50]') \n",
    "NumClusters(4)\n",
    "StopThreshold(0.0295) \n",
    "MaxIterNum(10)\n",
    ")AS dt;"
   ]
  },
  {
   "cell_type": "markdown",
   "metadata": {},
   "source": [
    "<hr>\n",
    "<b style = 'font-size:18px;font-family:Arial;color:#00233C'>2.2 - Finding an Ideal value for K</b>\n",
    "\n",
    "<table style = 'width:100%;table-layout:fixed;'>\n",
    "    <tr>\n",
    "        <td style = 'vertical-align:top' width = '50%'>\n",
    "<p style = 'font-size:16px;font-family:Arial;color:#00233C'>Typically, data scientists will build the model using various values for \"k\", and plot the \"WCSS\" (Within Cluster Sum-of-Squares) value on a series of each value chosen for k.  The \"elbow\" point (where the slope changes) is usually a good value for k.  <a href = 'https://docs.teradata.com/r/Teradata-VantageTM-Analytics-Database-Analytic-Functions-17.20/Model-Training-Functions/TD_KMeans'>KMeans</a> function will return this value as \"TotalWithinSS : ###\" as a row in the \"td_modelinfo_kmeans\" column.</p>\n",
    "<br>\n",
    "<p style = 'font-size:16px;font-family:Arial;color:#00233C'>In the below example, we will express this function using values from 2 to 8 for \"k\".  Due to the highly-scalable nature of the native training function, we can perform this analysis incredibly rapidly and in parallel.</p>\n",
    "        </td>\n",
    "        <td><img src = 'images/WCSS_elbow.png' width = '300'></td>\n",
    "    </tr>\n",
    "    </table>"
   ]
  },
  {
   "cell_type": "code",
   "execution_count": 81,
   "metadata": {},
   "outputs": [
    {
     "data": {
      "text/plain": [
       "Success: 66 rows affected"
      ]
     },
     "execution_count": 81,
     "metadata": {
      "application/vnd.teradata.resultset": ""
     },
     "output_type": "execute_result"
    }
   ],
   "source": [
    "DROP TABLE Embedded_data"
   ]
  },
  {
   "cell_type": "code",
   "execution_count": 82,
   "metadata": {},
   "outputs": [
    {
     "data": {
      "text/plain": [
       "Success: 0 rows affected"
      ]
     },
     "execution_count": 82,
     "metadata": {
      "application/vnd.teradata.resultset": ""
     },
     "output_type": "execute_result"
    }
   ],
   "source": [
    "CREATE MULTISET TABLE Embedded_data AS( \n",
    "    SELECT d.* FROM TD_WordEmbeddings (\n",
    "        ON (SELECT TOP 1000 * FROM demo_ofs.web_comment) AS InputTable\n",
    "        ON demo_ofs.glove_6B_50d AS ModelTable DIMENSION\n",
    "    USING\n",
    "        IDColumn('comment_id')\n",
    "        ModelVectorColumns('[1:50]')\n",
    "        PrimaryColumn('comment_text')\n",
    "        Operation('doc-embedding')\n",
    "        ModelTextColumn('doc_id')\n",
    "        Accumulate('comment_text', 'customer_id')\n",
    "    )AS d \n",
    ")WITH DATA\n",
    "NO PRIMARY INDEX;"
   ]
  },
  {
   "cell_type": "code",
   "execution_count": 79,
   "metadata": {},
   "outputs": [
    {
     "data": {
      "application/vnd.teradata.resultset": "\"K\",\"SUM_WITHINSS\"\n\"2\",\"407.22345281661546\"\n\"3\",\"349.9320574189587\"\n\"4\",\"325.0449837600645\"\n\"5\",\"310.8696628067755\"\n\"6\",\"302.82915273665503\"\n\"7\",\"292.45411171676915\"\n\"8\",\"289.91712339234675\"",
      "text/html": [
       "<div class = \"td-resultset-table-div\" style = \"max-height: 100%; overflow-y: auto\">\n",
       "      <table class=\"tdhistory79987\"><style>\n",
       "      table.tdhistory79987 { display: block !important; min-height: 231px !important; overflow: auto !important; height: 231px !important; width: 100% !important; border: 1px solid rgb(207, 207, 207) !important; border-collapse: collapse !important; ; color: var(--jp-ui-font-color1) !important; }\n",
       "      th.tdhistory79987 { border: 1px solid rgb(198,198,198) !important; border-collapse: collapse !important; ; padding: 2px 5px !important; ; font-size: 13px !important; ; text-align: center !important; white-space: normal !important; color: var(--jp-ui-font-color1) !important; }\n",
       "      th.tdhistory79987:last-child { text-align: left !important; }\n",
       "      tbody.tdhistory79987 tr:nth-child(even) { background: rgba(243, 243, 243, 0.75) !important; }\n",
       "      tbody.tdhistory79987 tr:nth-child(odd) { background: var(--jp-ui-inverse-font-color1) !important; }\n",
       "      td.tdhistory79987 { border: 1px solid rgb(207, 207, 207) !important; border-collapse: collapse !important; ; padding: 2px 5px !important; ; font-size: 13px !important; ; text-align: left !important;          white-space: nowrap !important; overflow:hidden !important; text-overflow:ellipsis !important;; }\n",
       "    </style><thead><tr style= \"background: rgba(243, 243, 243, 0.75)\"><th class=\"tdhistory79987\"></th><th class=\"tdhistory79987\">K</th><th class=\"tdhistory79987\">SUM_WITHINSS</th></tr></thead><tbody class=\"tdhistory79987 resultset-body\"><tr><th class=\"tdhistory79987\" style= \"background: rgba(243, 243, 243, 0.75)\">1</th><td class=\"tdhistory79987\">2</td><td class=\"tdhistory79987\">407.22345281661546</td></tr><tr><th class=\"tdhistory79987\" style= \"background: rgba(243, 243, 243, 0.75)\">2</th><td class=\"tdhistory79987\">3</td><td class=\"tdhistory79987\">349.9320574189587</td></tr><tr><th class=\"tdhistory79987\" style= \"background: rgba(243, 243, 243, 0.75)\">3</th><td class=\"tdhistory79987\">4</td><td class=\"tdhistory79987\">325.0449837600645</td></tr><tr><th class=\"tdhistory79987\" style= \"background: rgba(243, 243, 243, 0.75)\">4</th><td class=\"tdhistory79987\">5</td><td class=\"tdhistory79987\">310.8696628067755</td></tr><tr><th class=\"tdhistory79987\" style= \"background: rgba(243, 243, 243, 0.75)\">5</th><td class=\"tdhistory79987\">6</td><td class=\"tdhistory79987\">302.82915273665503</td></tr><tr><th class=\"tdhistory79987\" style= \"background: rgba(243, 243, 243, 0.75)\">6</th><td class=\"tdhistory79987\">7</td><td class=\"tdhistory79987\">292.45411171676915</td></tr><tr><th class=\"tdhistory79987\" style= \"background: rgba(243, 243, 243, 0.75)\">7</th><td class=\"tdhistory79987\">8</td><td class=\"tdhistory79987\">289.91712339234675</td></tr></tbody></table></div>"
      ]
     },
     "execution_count": 79,
     "metadata": {
      "application/vnd.teradata.resultset": "{\"resultSetID\":\"/home/jovyan/JupyterLabRoot/Teradata/Resultsets/2024.05.13_14.35.55.437_UTC\",\"historyID\":10253,\"chunkID\":\"00001\",\"sessionid\":\"\",\"portnum\":\"\",\"dockermode\":\"docker\",\"totalRowCount\":7,\"chunkCount\":0,\"rowLimit\":0,\"columnMetadata\":[{\"columnName\":\"K\",\"columnTypeName\":\"VARCHAR\",\"length\":1,\"scale\":1},{\"columnNumber\":1,\"columnName\":\"SUM_WITHINSS\",\"columnTypeName\":\"FLOAT\"}]}"
     },
     "output_type": "execute_result"
    }
   ],
   "source": [
    "SELECT '2' as K, SUM(td_withinss_kmeans) as SUM_WITHINSS FROM TD_KMeans (\n",
    "    ON Embedded_data AS InputTable \n",
    "USING\n",
    "    IdColumn('comment_id') \n",
    "    TargetColumns('[1:50]') \n",
    "    NumClusters(2)\n",
    "    StopThreshold(0.0295) \n",
    "    MaxIterNum(10)\n",
    ")AS dt\n",
    "\n",
    "UNION ALL\n",
    "\n",
    "SELECT '3' as K, SUM(td_withinss_kmeans) as SUM_WITHINSS FROM TD_KMeans (\n",
    "    ON Embedded_data AS InputTable \n",
    "USING\n",
    "    IdColumn('comment_id') \n",
    "    TargetColumns('[1:50]') \n",
    "    NumClusters(3)\n",
    "    StopThreshold(0.0295) \n",
    "MaxIterNum(10)\n",
    ")AS dt\n",
    "\n",
    "UNION ALL\n",
    "\n",
    "SELECT '4' as K, SUM(td_withinss_kmeans) as SUM_WITHINSS FROM TD_KMeans (\n",
    "    ON Embedded_data AS InputTable \n",
    "USING\n",
    "    IdColumn('comment_id') \n",
    "    TargetColumns('[1:50]') \n",
    "    NumClusters(4)\n",
    "    StopThreshold(0.0295) \n",
    "MaxIterNum(10)\n",
    ")AS dt\n",
    "\n",
    "UNION ALL\n",
    "\n",
    "SELECT '5' as K, SUM(td_withinss_kmeans) as SUM_WITHINSS FROM TD_KMeans (\n",
    "    ON Embedded_data AS InputTable \n",
    "USING\n",
    "    IdColumn('comment_id') \n",
    "    TargetColumns('[1:50]') \n",
    "    NumClusters(5)\n",
    "    StopThreshold(0.0295) \n",
    "MaxIterNum(10)\n",
    ")AS dt\n",
    "\n",
    "UNION ALL\n",
    "\n",
    "SELECT '6' as K, SUM(td_withinss_kmeans) as SUM_WITHINSS FROM TD_KMeans (\n",
    "    ON Embedded_data AS InputTable \n",
    "USING\n",
    "    IdColumn('comment_id') \n",
    "    TargetColumns('[1:50]') \n",
    "    NumClusters(6)\n",
    "    StopThreshold(0.0295) \n",
    "MaxIterNum(10)\n",
    ")AS dt\n",
    "\n",
    "UNION ALL\n",
    "\n",
    "SELECT '7' as K, SUM(td_withinss_kmeans) as SUM_WITHINSS FROM TD_KMeans (\n",
    "    ON Embedded_data AS InputTable \n",
    "USING\n",
    "    IdColumn('comment_id') \n",
    "    TargetColumns('[1:50]') \n",
    "    NumClusters(7)\n",
    "    StopThreshold(0.0295) \n",
    "MaxIterNum(10)\n",
    ")AS dt\n",
    "\n",
    "UNION ALL\n",
    "\n",
    "SELECT '8' as K, SUM(td_withinss_kmeans) as SUM_WITHINSS FROM TD_KMeans (\n",
    "    ON Embedded_data AS InputTable \n",
    "USING\n",
    "    IdColumn('comment_id') \n",
    "    TargetColumns('[1:50]') \n",
    "    NumClusters(8)\n",
    "    StopThreshold(0.0295) \n",
    "MaxIterNum(10)\n",
    ")AS dt"
   ]
  },
  {
   "cell_type": "markdown",
   "metadata": {},
   "source": [
    "<hr>\n",
    "<p style = 'font-size:20px;font-family:Arial;color:#00233C'><b>Step 3 - Find the ideal number of Customer Segments</b></p>\n",
    "\n",
    "<p style = 'font-size:16px;font-family:Arial;color:#00233C'>A simple plot will show the \"elbow\" point indicating an ideal number of clusters or segments.</p>"
   ]
  },
  {
   "cell_type": "code",
   "execution_count": 80,
   "metadata": {},
   "outputs": [
    {
     "data": {
      "application/vnd.vegalite.v3+json": {
       "$schema": "https://vega.github.io/schema/vega-lite/v3.json",
       "data": {
        "format": {
         "type": "csv"
        },
        "values": "\"K\",\"SUM_WITHINSS\"\n\"2\",\"407.22345281661546\"\n\"3\",\"349.9320574189587\"\n\"4\",\"325.0449837600645\"\n\"5\",\"310.8696628067755\"\n\"6\",\"302.82915273665503\"\n\"7\",\"292.45411171676915\"\n\"8\",\"289.91712339234675\"\n"
       },
       "encoding": {
        "x": {
         "axis": {
          "grid": true,
          "title": "K"
         },
         "field": "K",
         "type": "nominal"
        },
        "y": {
         "axis": {
          "grid": true,
          "title": "SUM_WITHINSS"
         },
         "field": "SUM_WITHINSS",
         "type": "quantitative"
        }
       },
       "height": "500",
       "mark": {
        "color": "#4C78A8",
        "type": "line"
       },
       "title": "<no value>",
       "width": "500"
      },
      "image/png": "[encoded data removed]"
     },
     "execution_count": 80,
     "metadata": {
      "application/vnd.teradata.resultset": ""
     },
     "output_type": "execute_result"
    }
   ],
   "source": [
    "%chart x=K, y=SUM_WITHINSS, mark=line, height=500, width=500"
   ]
  },
  {
   "cell_type": "markdown",
   "metadata": {},
   "source": [
    "<hr>\n",
    "<p style = 'font-size:20px;font-family:Arial;color:#00233C'><b>Conclusion</b></p>\n",
    "\n",
    "<p style = 'font-size:16px;font-family:Arial;color:#00233C'>From our simple demonstration above, we can see how data practitioners can rapidly derive powerful and unique predictive features by combining the latest AI with traditional Machine Learning <b>at scale</b>.  Furthermore, we can easily operationalize this process by combining this vector embedding and segmentation into traditional Customer 360, analytics, or additional predicitve modeling tasks - all on the same platform.</p>"
   ]
  },
  {
   "cell_type": "markdown",
   "metadata": {},
   "source": [
    "<hr>\n",
    "<p style = 'font-size:20px;font-family:Arial;color:#00233C'><b>Cleanup</b></p>"
   ]
  },
  {
   "cell_type": "code",
   "execution_count": null,
   "metadata": {},
   "outputs": [],
   "source": [
    "db_drop_table('comments_embedded')\n",
    "remove_context()"
   ]
  },
  {
   "cell_type": "code",
   "execution_count": null,
   "metadata": {},
   "outputs": [],
   "source": []
  }
 ],
 "metadata": {
  "kernelspec": {
   "display_name": "Teradata SQL",
   "language": "Teradata SQL",
   "name": "teradatasql"
  },
  "language_info": {
   "codemirror_mode": "Teradata SQL",
   "file_extension": ".tdrs",
   "mimetype": "application/vnd.teradata.resultset",
   "name": "Teradata SQL",
   "nbconvert_exporter": "",
   "pygments_lexer": "",
   "version": "16.20"
  }
 },
 "nbformat": 4,
 "nbformat_minor": 4
}
